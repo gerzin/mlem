{
 "cells": [
  {
   "cell_type": "markdown",
   "id": "a9aabfb0-db6c-4b19-bf69-e2510938eedb",
   "metadata": {
    "pycharm": {
     "name": "#%% md\n"
    }
   },
   "source": [
    "# Exploring lore format"
   ]
  },
  {
   "cell_type": "code",
   "execution_count": 1,
   "id": "5471bc1b-8940-4ecf-bc17-0d4daf976c89",
   "metadata": {
    "pycharm": {
     "name": "#%%\n"
    }
   },
   "outputs": [],
   "source": [
    "import pandas as pd\n",
    "import numpy as np\n",
    "import pickle\n",
    "from pathlib import Path\n",
    "import sys\n",
    "np.random.seed(10)\n",
    "import bz2\n",
    "import pickle\n",
    "\n",
    "def save_pickle_bz2(path: str, obj):\n",
    "    \"\"\"Saves a pickle file compressed in BZ2 format.\n",
    "\n",
    "    Args:\n",
    "        path (str): Path where to save object.\n",
    "        obj (Any): Object to save.\n",
    "    \"\"\"\n",
    "    with bz2.open(path, \"wb\") as f:\n",
    "        pickle.dump(obj, f)\n",
    "def load_pickle_bz2(path):\n",
    "    \"\"\"\n",
    "    Loads data saved with save_pickle_bz2\n",
    "\n",
    "    Args:\n",
    "        path (str): Path where the data are located\n",
    "\n",
    "    Returns:\n",
    "        loaded object\n",
    "    \"\"\"\n",
    "    with bz2.BZ2File(path) as f:\n",
    "        data = pickle.load(f)\n",
    "    return data"
   ]
  },
  {
   "cell_type": "code",
   "execution_count": 2,
   "id": "1e72102a-d71a-4e39-a51c-eece5118fb28",
   "metadata": {
    "pycharm": {
     "name": "#%%\n"
    }
   },
   "outputs": [
    {
     "name": "stdout",
     "output_type": "stream",
     "text": [
      "Requirement already satisfied: bitarray in /home/gerardozinno/.pyenv/versions/3.9.9/envs/ml-environment/lib/python3.9/site-packages (2.5.1)\n"
     ]
    }
   ],
   "source": [
    "!pip install bitarray"
   ]
  },
  {
   "cell_type": "code",
   "execution_count": 3,
   "id": "f40295b8-609a-41bb-bc61-4dd0df56ca6a",
   "metadata": {
    "pycharm": {
     "name": "#%%\n"
    }
   },
   "outputs": [],
   "source": [
    "sys.path.append(\"../LORE_sa/\")\n",
    "sys.path.append(\"..\")"
   ]
  },
  {
   "cell_type": "code",
   "execution_count": 4,
   "id": "f3ed3047-0e5f-493d-83b4-4faf6ef07a78",
   "metadata": {
    "pycharm": {
     "name": "#%%\n"
    }
   },
   "outputs": [
    {
     "name": "stderr",
     "output_type": "stream",
     "text": [
      "/home/gerardozinno/.pyenv/versions/3.9.9/envs/ml-environment/lib/python3.9/site-packages/sklearn/base.py:329: UserWarning: Trying to unpickle estimator DecisionTreeClassifier from version 1.0.2 when using version 1.1.1. This might lead to breaking code or invalid results. Use at your own risk. For more info please refer to:\n",
      "https://scikit-learn.org/stable/model_persistence.html#security-maintainability-limitations\n",
      "  warnings.warn(\n"
     ]
    }
   ],
   "source": [
    "with open(\"expl_adult_RF_geneticp.sav\", \"rb\") as f:\n",
    "    l = pickle.load(f)"
   ]
  },
  {
   "cell_type": "code",
   "execution_count": 5,
   "id": "6ea52668-fd9a-4c8d-98ee-1b12ee3b587d",
   "metadata": {
    "pycharm": {
     "name": "#%%\n"
    }
   },
   "outputs": [
    {
     "data": {
      "text/plain": [
       "[<SuperLore.explanation.Explanation at 0x7f5678fe4e80>]"
      ]
     },
     "execution_count": 5,
     "metadata": {},
     "output_type": "execute_result"
    }
   ],
   "source": [
    "l"
   ]
  },
  {
   "cell_type": "code",
   "execution_count": 6,
   "id": "13611222-d375-4f2c-8cc5-84f7037e93d5",
   "metadata": {
    "pycharm": {
     "name": "#%%\n"
    }
   },
   "outputs": [
    {
     "data": {
      "text/plain": [
       "<SuperLore.explanation.Explanation at 0x7f5678fe4e80>"
      ]
     },
     "execution_count": 6,
     "metadata": {},
     "output_type": "execute_result"
    }
   ],
   "source": [
    "explanation = l[0]\n",
    "explanation"
   ]
  },
  {
   "cell_type": "code",
   "execution_count": 7,
   "id": "2c78e029-8779-407e-8540-ecb6ae85f13c",
   "metadata": {
    "pycharm": {
     "name": "#%%\n"
    }
   },
   "outputs": [
    {
     "data": {
      "text/html": [
       "<style>#sk-container-id-1 {color: black;background-color: white;}#sk-container-id-1 pre{padding: 0;}#sk-container-id-1 div.sk-toggleable {background-color: white;}#sk-container-id-1 label.sk-toggleable__label {cursor: pointer;display: block;width: 100%;margin-bottom: 0;padding: 0.3em;box-sizing: border-box;text-align: center;}#sk-container-id-1 label.sk-toggleable__label-arrow:before {content: \"▸\";float: left;margin-right: 0.25em;color: #696969;}#sk-container-id-1 label.sk-toggleable__label-arrow:hover:before {color: black;}#sk-container-id-1 div.sk-estimator:hover label.sk-toggleable__label-arrow:before {color: black;}#sk-container-id-1 div.sk-toggleable__content {max-height: 0;max-width: 0;overflow: hidden;text-align: left;background-color: #f0f8ff;}#sk-container-id-1 div.sk-toggleable__content pre {margin: 0.2em;color: black;border-radius: 0.25em;background-color: #f0f8ff;}#sk-container-id-1 input.sk-toggleable__control:checked~div.sk-toggleable__content {max-height: 200px;max-width: 100%;overflow: auto;}#sk-container-id-1 input.sk-toggleable__control:checked~label.sk-toggleable__label-arrow:before {content: \"▾\";}#sk-container-id-1 div.sk-estimator input.sk-toggleable__control:checked~label.sk-toggleable__label {background-color: #d4ebff;}#sk-container-id-1 div.sk-label input.sk-toggleable__control:checked~label.sk-toggleable__label {background-color: #d4ebff;}#sk-container-id-1 input.sk-hidden--visually {border: 0;clip: rect(1px 1px 1px 1px);clip: rect(1px, 1px, 1px, 1px);height: 1px;margin: -1px;overflow: hidden;padding: 0;position: absolute;width: 1px;}#sk-container-id-1 div.sk-estimator {font-family: monospace;background-color: #f0f8ff;border: 1px dotted black;border-radius: 0.25em;box-sizing: border-box;margin-bottom: 0.5em;}#sk-container-id-1 div.sk-estimator:hover {background-color: #d4ebff;}#sk-container-id-1 div.sk-parallel-item::after {content: \"\";width: 100%;border-bottom: 1px solid gray;flex-grow: 1;}#sk-container-id-1 div.sk-label:hover label.sk-toggleable__label {background-color: #d4ebff;}#sk-container-id-1 div.sk-serial::before {content: \"\";position: absolute;border-left: 1px solid gray;box-sizing: border-box;top: 0;bottom: 0;left: 50%;z-index: 0;}#sk-container-id-1 div.sk-serial {display: flex;flex-direction: column;align-items: center;background-color: white;padding-right: 0.2em;padding-left: 0.2em;position: relative;}#sk-container-id-1 div.sk-item {position: relative;z-index: 1;}#sk-container-id-1 div.sk-parallel {display: flex;align-items: stretch;justify-content: center;background-color: white;position: relative;}#sk-container-id-1 div.sk-item::before, #sk-container-id-1 div.sk-parallel-item::before {content: \"\";position: absolute;border-left: 1px solid gray;box-sizing: border-box;top: 0;bottom: 0;left: 50%;z-index: -1;}#sk-container-id-1 div.sk-parallel-item {display: flex;flex-direction: column;z-index: 1;position: relative;background-color: white;}#sk-container-id-1 div.sk-parallel-item:first-child::after {align-self: flex-end;width: 50%;}#sk-container-id-1 div.sk-parallel-item:last-child::after {align-self: flex-start;width: 50%;}#sk-container-id-1 div.sk-parallel-item:only-child::after {width: 0;}#sk-container-id-1 div.sk-dashed-wrapped {border: 1px dashed gray;margin: 0 0.4em 0.5em 0.4em;box-sizing: border-box;padding-bottom: 0.4em;background-color: white;}#sk-container-id-1 div.sk-label label {font-family: monospace;font-weight: bold;display: inline-block;line-height: 1.2em;}#sk-container-id-1 div.sk-label-container {text-align: center;}#sk-container-id-1 div.sk-container {/* jupyter's `normalize.less` sets `[hidden] { display: none; }` but bootstrap.min.css set `[hidden] { display: none !important; }` so we also need the `!important` here to be able to override the default hidden behavior on the sphinx rendered scikit-learn.org. See: https://github.com/scikit-learn/scikit-learn/issues/21755 */display: inline-block !important;position: relative;}#sk-container-id-1 div.sk-text-repr-fallback {display: none;}</style><div id=\"sk-container-id-1\" class=\"sk-top-container\"><div class=\"sk-text-repr-fallback\"><pre>DecisionTreeClassifier()</pre><b>In a Jupyter environment, please rerun this cell to show the HTML representation or trust the notebook. <br />On GitHub, the HTML representation is unable to render, please try loading this page with nbviewer.org.</b></div><div class=\"sk-container\" hidden><div class=\"sk-item\"><div class=\"sk-estimator sk-toggleable\"><input class=\"sk-toggleable__control sk-hidden--visually\" id=\"sk-estimator-id-1\" type=\"checkbox\" checked><label for=\"sk-estimator-id-1\" class=\"sk-toggleable__label sk-toggleable__label-arrow\">DecisionTreeClassifier</label><div class=\"sk-toggleable__content\"><pre>DecisionTreeClassifier()</pre></div></div></div></div></div>"
      ],
      "text/plain": [
       "DecisionTreeClassifier()"
      ]
     },
     "execution_count": 7,
     "metadata": {},
     "output_type": "execute_result"
    }
   ],
   "source": [
    "dt = explanation.dt\n",
    "dt"
   ]
  },
  {
   "cell_type": "code",
   "execution_count": 8,
   "id": "1e5f4df6-bc11-403b-a248-ba12352b5d4e",
   "metadata": {
    "pycharm": {
     "name": "#%%\n"
    }
   },
   "outputs": [],
   "source": [
    "save_pickle_bz2(\"dt.bz2\", dt)"
   ]
  },
  {
   "cell_type": "markdown",
   "id": "5dcd9909-9125-4088-ac68-5b292641b95b",
   "metadata": {
    "pycharm": {
     "name": "#%% md\n"
    }
   },
   "source": [
    "# LOADING ADULT"
   ]
  },
  {
   "cell_type": "code",
   "execution_count": 9,
   "id": "f612b635-2437-42aa-af97-c33d90c772bc",
   "metadata": {
    "pycharm": {
     "name": "#%%\n"
    }
   },
   "outputs": [],
   "source": [
    "PATH = Path(\"../../notebooks/datasets/adult/adult_randomforest_and_datasets/\")"
   ]
  },
  {
   "cell_type": "code",
   "execution_count": 10,
   "id": "e8b2070c-b536-4d02-a843-96cc1188e65c",
   "metadata": {
    "pycharm": {
     "name": "#%%\n"
    }
   },
   "outputs": [],
   "source": [
    "loaded = np.load(PATH / \"adult_randfor.data.npz\")"
   ]
  },
  {
   "cell_type": "code",
   "execution_count": 11,
   "id": "4bb2fed0-172f-48ec-a9fd-085dae49680f",
   "metadata": {
    "pycharm": {
     "name": "#%%\n"
    }
   },
   "outputs": [
    {
     "name": "stdout",
     "output_type": "stream",
     "text": [
      "x_train x_test y_train y_test x_test_clustered y_test_clustered "
     ]
    }
   ],
   "source": [
    "for k in loaded.keys():\n",
    "    print(k, end=\" \")"
   ]
  },
  {
   "cell_type": "code",
   "execution_count": 12,
   "id": "38ad7ec2-e180-474b-b501-65ded26dbfb2",
   "metadata": {
    "pycharm": {
     "name": "#%%\n"
    }
   },
   "outputs": [],
   "source": [
    "X_clusters, y_clusters = loaded[\"x_test_clustered\"],  loaded[\"y_test_clustered\"]"
   ]
  },
  {
   "cell_type": "code",
   "execution_count": 13,
   "id": "9797aa5a-ed8d-40ea-b86a-d8b783db96dc",
   "metadata": {
    "pycharm": {
     "name": "#%%\n"
    }
   },
   "outputs": [
    {
     "data": {
      "text/plain": [
       "array([[-7.19029045e-01,  2.18918433e-01, -2.98863912e-01,\n",
       "         1.64327842e-01, -4.40433929e-01,  4.83987231e-02,\n",
       "         1.16514691e-01,  6.63344752e-02,  2.63854585e-01,\n",
       "         3.13954630e-01, -1.47502095e-01, -2.18673351e-01,\n",
       "        -4.95443969e-01,  2.54411176e-01],\n",
       "       [-7.19029045e-01,  2.18918433e-01, -2.63049867e-01,\n",
       "         1.64327842e-01, -4.40433929e-01,  4.83987231e-02,\n",
       "         4.11343098e-02,  1.43433438e-02,  2.63854585e-01,\n",
       "         1.13782871e-01, -1.47502095e-01, -2.18673351e-01,\n",
       "        -4.95443969e-01,  2.54411176e-01],\n",
       "       [-7.95183500e-01,  2.18918433e-01, -4.99825759e-01,\n",
       "         1.64327842e-01, -4.40433929e-01,  4.55011025e-01,\n",
       "         4.11343098e-02,  4.55727703e-01,  2.63854585e-01,\n",
       "         3.13954630e-01, -1.47502095e-01, -2.18673351e-01,\n",
       "        -4.95443969e-01,  2.54411176e-01],\n",
       "       [-7.95183500e-01,  2.18918433e-01, -1.29267749e-01,\n",
       "         1.64327842e-01, -4.40433929e-01,  4.83987231e-02,\n",
       "         4.11343098e-02,  1.43433438e-02,  2.63854585e-01,\n",
       "         1.13782871e-01, -1.47502095e-01, -2.18673351e-01,\n",
       "        -7.45891552e-01,  2.54411176e-01],\n",
       "       [-1.09980132e+00,  2.18918433e-01, -1.84730304e-01,\n",
       "         1.64327842e-01, -4.40433929e-01,  4.83987231e-02,\n",
       "         4.11343098e-02,  1.06689137e-01,  2.63854585e-01,\n",
       "         1.13782871e-01, -1.47502095e-01, -2.18673351e-01,\n",
       "        -4.95443969e-01,  2.54411176e-01],\n",
       "       [-1.85947859e-01,  2.85828663e-01, -3.66289721e-01,\n",
       "         2.63198164e-01,  3.44281026e-01,  7.02875399e-02,\n",
       "         4.85342020e-01,  1.06689137e-01,  2.63854585e-01,\n",
       "         3.13954630e-01, -1.47502095e-01, -2.18673351e-01,\n",
       "         5.89828890e-01,  2.54411176e-01],\n",
       "       [ 4.25155069e-02,  2.68960125e-01, -4.43871045e-01,\n",
       "         2.63198164e-01,  3.44281026e-01,  4.83987231e-02,\n",
       "         4.85342020e-01,  6.63344752e-02,  2.63854585e-01,\n",
       "         1.13782871e-01, -1.47502095e-01, -2.18673351e-01,\n",
       "         7.56793946e-01,  2.54411176e-01],\n",
       "       [ 4.25155069e-02,  2.18918433e-01, -2.73328422e-01,\n",
       "         2.53968254e-01,  7.36638504e-01,  4.55011025e-01,\n",
       "         3.05159166e-01,  4.93598862e-01,  2.63854585e-01,\n",
       "         1.13782871e-01, -1.47502095e-01, -2.18673351e-01,\n",
       "         3.39381307e-01,  2.54411176e-01],\n",
       "       [-3.38256769e-01,  2.18918433e-01, -1.36120120e-01,\n",
       "         2.53968254e-01,  7.36638504e-01,  1.07312441e-01,\n",
       "         2.70647321e-01,  6.63344752e-02,  1.29971591e-01,\n",
       "         1.13782871e-01, -1.47502095e-01, -2.18673351e-01,\n",
       "         3.39381307e-01,  2.54411176e-01],\n",
       "       [-4.14411224e-01,  2.18918433e-01, -5.65396506e-01,\n",
       "         2.53968254e-01,  7.36638504e-01,  4.83987231e-02,\n",
       "         2.25590062e-01,  1.06689137e-01,  2.63854585e-01,\n",
       "         3.13954630e-01, -1.47502095e-01, -2.18673351e-01,\n",
       "         3.39381307e-01,  2.54411176e-01],\n",
       "       [ 1.10867788e+00,  2.18918433e-01, -2.91528848e-01,\n",
       "         1.64327842e-01, -4.40433929e-01,  9.67351874e-02,\n",
       "         1.24236253e-01,  6.63344752e-02,  1.29971591e-01,\n",
       "         1.13782871e-01, -1.47502095e-01, -2.18673351e-01,\n",
       "        -2.44996386e-01,  2.54411176e-01],\n",
       "       [ 1.03252342e+00,  2.18918433e-01, -2.91528848e-01,\n",
       "         1.64327842e-01, -4.40433929e-01,  1.07312441e-01,\n",
       "         4.11343098e-02,  3.93700787e-02,  1.29971591e-01,\n",
       "         1.13782871e-01, -1.47502095e-01, -2.18673351e-01,\n",
       "        -2.44996386e-01,  2.54411176e-01],\n",
       "       [ 1.03252342e+00,  2.18918433e-01, -1.63756751e-01,\n",
       "         1.64327842e-01, -4.40433929e-01,  4.83987231e-02,\n",
       "         2.70647321e-01,  1.06689137e-01,  2.63854585e-01,\n",
       "         1.13782871e-01, -1.47502095e-01, -2.18673351e-01,\n",
       "        -4.11961442e-01,  2.54411176e-01],\n",
       "       [ 1.10867788e+00,  2.18918433e-01, -3.14064060e-01,\n",
       "         7.69230769e-02, -8.32791406e-01,  1.07312441e-01,\n",
       "         2.02926209e-01,  1.06689137e-01,  2.63854585e-01,\n",
       "         1.13782871e-01, -1.47502095e-01, -2.18673351e-01,\n",
       "        -7.80313311e-02,  2.54411176e-01],\n",
       "       [ 1.10867788e+00,  2.18918433e-01, -4.30014871e-01,\n",
       "         1.64327842e-01, -4.40433929e-01,  4.55011025e-01,\n",
       "         1.24236253e-01,  4.55727703e-01,  2.63854585e-01,\n",
       "         3.13954630e-01, -1.47502095e-01, -2.18673351e-01,\n",
       "        -2.44996386e-01,  2.54411176e-01],\n",
       "       [-5.66720134e-01,  2.18918433e-01,  1.68014604e+00,\n",
       "         1.64327842e-01, -4.40433929e-01,  1.07312441e-01,\n",
       "         1.33906964e-01,  1.06689137e-01,  2.63854585e-01,\n",
       "         1.13782871e-01, -1.47502095e-01, -2.18673351e-01,\n",
       "        -7.80313311e-02,  2.54411176e-01],\n",
       "       [-4.90565679e-01,  2.18918433e-01,  1.73645094e+00,\n",
       "         1.64327842e-01, -4.40433929e-01,  4.55011025e-01,\n",
       "         4.85342020e-01,  4.93598862e-01,  2.63854585e-01,\n",
       "         1.13782871e-01, -1.47502095e-01, -2.18673351e-01,\n",
       "        -7.80313311e-02,  2.54411176e-01],\n",
       "       [-5.66720134e-01,  3.87062566e-01,  1.52707507e+00,\n",
       "         1.64327842e-01, -4.40433929e-01,  4.55011025e-01,\n",
       "         3.05159166e-01,  4.55727703e-01,  2.63854585e-01,\n",
       "         3.13954630e-01, -1.47502095e-01, -2.18673351e-01,\n",
       "        -7.80313311e-02,  2.54411176e-01],\n",
       "       [-4.14411224e-01,  2.18918433e-01,  1.79830210e+00,\n",
       "         1.64327842e-01, -4.40433929e-01,  4.55011025e-01,\n",
       "         2.25590062e-01,  4.55727703e-01,  2.63854585e-01,\n",
       "         3.13954630e-01, -1.47502095e-01, -2.18673351e-01,\n",
       "        -7.80313311e-02,  2.54411176e-01],\n",
       "       [-3.38256769e-01,  2.18918433e-01,  1.56900324e+00,\n",
       "         1.64327842e-01, -4.40433929e-01,  1.07312441e-01,\n",
       "         1.24236253e-01,  6.63344752e-02,  1.29971591e-01,\n",
       "         1.13782871e-01, -1.47502095e-01, -2.18673351e-01,\n",
       "        -7.80313311e-02,  2.54411176e-01],\n",
       "       [-2.62102314e-01,  5.58659218e-01, -3.70090439e-03,\n",
       "         2.00179937e-01, -4.80764513e-02,  4.55011025e-01,\n",
       "         2.70647321e-01,  4.55727703e-01,  2.63854585e-01,\n",
       "         3.13954630e-01, -1.47502095e-01,  4.08358738e+00,\n",
       "        -7.80313311e-02,  2.54411176e-01],\n",
       "       [-4.14411224e-01,  2.18918433e-01, -4.10337968e-01,\n",
       "         2.00179937e-01, -4.80764513e-02,  4.55011025e-01,\n",
       "         2.25590062e-01,  4.55727703e-01,  2.63854585e-01,\n",
       "         3.13954630e-01, -1.47502095e-01,  4.08358738e+00,\n",
       "        -7.80313311e-02,  2.54411176e-01],\n",
       "       [ 1.18669962e-01,  3.87062566e-01, -1.15468363e-01,\n",
       "         2.00179937e-01, -4.80764513e-02,  4.55011025e-01,\n",
       "         2.25590062e-01,  4.55727703e-01,  2.63854585e-01,\n",
       "         3.13954630e-01, -1.47502095e-01,  3.68550463e+00,\n",
       "        -7.80313311e-02,  2.54411176e-01],\n",
       "       [-3.38256769e-01,  2.18918433e-01, -4.49949531e-02,\n",
       "         1.64327842e-01, -4.40433929e-01,  4.83987231e-02,\n",
       "         4.48686168e-01,  1.06689137e-01,  2.63854585e-01,\n",
       "         1.13782871e-01, -1.47502095e-01,  3.90803536e+00,\n",
       "         3.39381307e-01,  2.54411176e-01],\n",
       "       [ 4.23287783e-01,  2.68960125e-01, -3.37119825e-01,\n",
       "         2.00179937e-01, -4.80764513e-02,  1.07312441e-01,\n",
       "         1.33906964e-01,  1.06689137e-01,  1.29971591e-01,\n",
       "         1.13782871e-01, -1.47502095e-01,  3.71270283e+00,\n",
       "        -7.80313311e-02,  2.54411176e-01],\n",
       "       [ 4.99442238e-01,  2.94629898e-01, -2.77530705e-01,\n",
       "         4.21658072e-01,  1.12899598e+00,  4.55011025e-01,\n",
       "         4.85342020e-01,  4.55727703e-01,  2.63854585e-01,\n",
       "         3.13954630e-01, -1.47502095e-01,  4.66958496e+00,\n",
       "         7.56793946e-01,  2.54411176e-01],\n",
       "       [ 5.75596693e-01,  2.18918433e-01, -1.62923866e-01,\n",
       "         4.21658072e-01,  1.12899598e+00,  4.55011025e-01,\n",
       "         4.85342020e-01,  4.55727703e-01,  2.63854585e-01,\n",
       "         3.13954630e-01, -1.47502095e-01,  4.48414269e+00,\n",
       "         7.56793946e-01,  2.54411176e-01],\n",
       "       [ 4.25155069e-02,  2.18918433e-01,  1.09931080e-01,\n",
       "         4.21658072e-01,  1.12899598e+00,  4.55011025e-01,\n",
       "         2.02926209e-01,  4.55727703e-01,  2.63854585e-01,\n",
       "         3.13954630e-01, -1.47502095e-01,  4.66958496e+00,\n",
       "         3.39381307e-01,  3.19148936e-01],\n",
       "       [ 5.75596693e-01,  2.94629898e-01,  4.57774051e-01,\n",
       "         2.53968254e-01,  7.36638504e-01,  4.55011025e-01,\n",
       "         3.26086957e-01,  4.55727703e-01,  2.63854585e-01,\n",
       "         3.13954630e-01, -1.47502095e-01,  4.44705423e+00,\n",
       "         7.56793946e-01,  2.54411176e-01],\n",
       "       [ 7.27905603e-01,  2.18918433e-01,  4.71050671e-02,\n",
       "         2.53968254e-01,  7.36638504e-01,  4.55011025e-01,\n",
       "         2.70647321e-01,  4.55727703e-01,  2.63854585e-01,\n",
       "         3.13954630e-01, -1.47502095e-01,  4.48414269e+00,\n",
       "        -7.80313311e-02,  2.54411176e-01],\n",
       "       [ 4.99442238e-01,  3.87062566e-01, -2.59188310e-01,\n",
       "         2.00179937e-01, -4.80764513e-02,  9.67351874e-02,\n",
       "         3.05159166e-01,  1.06689137e-01,  2.63854585e-01,\n",
       "         1.13782871e-01, -1.47502095e-01, -2.18673351e-01,\n",
       "         3.39381307e-01,  2.54411176e-01],\n",
       "       [ 6.51751148e-01,  2.18918433e-01, -2.04085410e-01,\n",
       "         2.00179937e-01, -4.80764513e-02,  4.55011025e-01,\n",
       "         1.33906964e-01,  4.55727703e-01,  2.63854585e-01,\n",
       "         3.13954630e-01, -1.47502095e-01, -2.18673351e-01,\n",
       "         2.55898780e-01,  2.54411176e-01],\n",
       "       [ 4.23287783e-01,  2.18918433e-01,  3.64623460e-01,\n",
       "         1.64327842e-01, -4.40433929e-01,  4.55011025e-01,\n",
       "         3.05159166e-01,  4.55727703e-01,  2.63854585e-01,\n",
       "         3.13954630e-01, -1.47502095e-01, -2.18673351e-01,\n",
       "         3.39381307e-01,  2.54411176e-01],\n",
       "       [ 4.23287783e-01,  2.18918433e-01,  3.09577348e-01,\n",
       "         2.00179937e-01, -4.80764513e-02,  4.55011025e-01,\n",
       "         1.33906964e-01,  4.93598862e-01,  2.63854585e-01,\n",
       "         1.13782871e-01, -1.47502095e-01, -2.18673351e-01,\n",
       "         3.39381307e-01,  2.54411176e-01],\n",
       "       [ 5.75596693e-01,  2.18918433e-01, -3.24692805e-01,\n",
       "         1.64327842e-01, -4.40433929e-01,  4.55011025e-01,\n",
       "         1.24236253e-01,  4.55727703e-01,  2.63854585e-01,\n",
       "         3.13954630e-01, -1.47502095e-01, -2.18673351e-01,\n",
       "         1.72416252e-01,  2.54411176e-01],\n",
       "       [ 6.51751148e-01,  2.18918433e-01, -2.03801472e-01,\n",
       "         5.64575646e-01,  1.52135346e+00,  7.02875399e-02,\n",
       "         4.85342020e-01,  1.06689137e-01,  2.63854585e-01,\n",
       "         3.13954630e-01,  1.33494835e+01, -2.18673351e-01,\n",
       "         7.56793946e-01,  2.54411176e-01],\n",
       "       [ 4.23287783e-01,  5.58659218e-01, -6.57960292e-01,\n",
       "         4.21658072e-01,  1.12899598e+00,  4.55011025e-01,\n",
       "         4.85342020e-01,  4.55727703e-01,  2.63854585e-01,\n",
       "         3.13954630e-01,  1.33494835e+01, -2.18673351e-01,\n",
       "         3.39381307e-01,  2.54411176e-01],\n",
       "       [ 1.26098679e+00,  2.18918433e-01,  7.19685707e-02,\n",
       "         5.64575646e-01,  1.52135346e+00,  4.55011025e-01,\n",
       "         4.85342020e-01,  4.55727703e-01,  2.63854585e-01,\n",
       "         3.13954630e-01,  1.33494835e+01, -2.18673351e-01,\n",
       "         1.17420658e+00,  2.54411176e-01],\n",
       "       [ 2.70978872e-01,  2.94629898e-01, -1.33952726e-01,\n",
       "         4.21658072e-01,  1.12899598e+00,  4.83987231e-02,\n",
       "         1.33906964e-01,  1.06689137e-01,  2.63854585e-01,\n",
       "         1.13782871e-01,  1.33494835e+01, -2.18673351e-01,\n",
       "        -7.80313311e-02,  2.54411176e-01],\n",
       "       [-3.36389483e-02,  2.85828663e-01,  4.48524924e-02,\n",
       "         5.64575646e-01,  1.52135346e+00,  4.55011025e-01,\n",
       "         4.48686168e-01,  4.55727703e-01,  1.29971591e-01,\n",
       "         3.13954630e-01,  1.33494835e+01, -2.18673351e-01,\n",
       "         1.59161922e+00,  2.54411176e-01],\n",
       "       [ 4.23287783e-01,  2.68960125e-01, -3.75084547e-02,\n",
       "         4.21658072e-01,  1.12899598e+00,  4.55011025e-01,\n",
       "         1.33906964e-01,  4.55727703e-01,  2.63854585e-01,\n",
       "         3.13954630e-01, -1.47502095e-01, -2.18673351e-01,\n",
       "         4.22863835e-01,  2.54411176e-01],\n",
       "       [ 2.70978872e-01,  2.18918433e-01, -6.20312327e-02,\n",
       "         5.64575646e-01,  1.52135346e+00,  4.55011025e-01,\n",
       "         4.48686168e-01,  4.93598862e-01,  2.63854585e-01,\n",
       "         1.13782871e-01, -1.47502095e-01, -2.18673351e-01,\n",
       "         3.39381307e-01,  2.54411176e-01],\n",
       "       [ 2.70978872e-01,  2.18918433e-01,  4.58178815e-02,\n",
       "         4.21658072e-01,  1.12899598e+00,  4.55011025e-01,\n",
       "         4.48686168e-01,  4.55727703e-01,  2.63854585e-01,\n",
       "         3.13954630e-01, -1.47502095e-01, -2.18673351e-01,\n",
       "         3.39381307e-01,  2.54411176e-01],\n",
       "       [ 3.47133328e-01,  2.18918433e-01,  4.58178815e-02,\n",
       "         4.21658072e-01,  1.12899598e+00,  4.55011025e-01,\n",
       "         2.25590062e-01,  4.55727703e-01,  2.63854585e-01,\n",
       "         3.13954630e-01, -1.47502095e-01, -2.18673351e-01,\n",
       "         5.89828890e-01,  2.54411176e-01],\n",
       "       [ 4.99442238e-01,  5.58659218e-01, -1.52673705e-01,\n",
       "         4.21658072e-01,  1.12899598e+00,  4.55011025e-01,\n",
       "         4.85342020e-01,  4.55727703e-01,  2.63854585e-01,\n",
       "         3.13954630e-01, -1.47502095e-01, -2.18673351e-01,\n",
       "         3.39381307e-01,  2.54411176e-01]])"
      ]
     },
     "execution_count": 13,
     "metadata": {},
     "output_type": "execute_result"
    }
   ],
   "source": [
    "X_clusters"
   ]
  },
  {
   "cell_type": "code",
   "execution_count": 14,
   "id": "d244faa2-a79a-4694-8275-1aeb413af981",
   "metadata": {
    "pycharm": {
     "name": "#%%\n"
    }
   },
   "outputs": [
    {
     "data": {
      "text/plain": [
       "array([0, 0, 0, 0, 0, 0, 0, 0, 0, 0, 0, 0, 0, 0, 0, 0, 0, 0, 0, 0, 0, 0,\n",
       "       0, 0, 0, 0, 0, 0, 0, 0, 0, 0, 0, 0, 0, 0, 0, 0, 0, 0, 0, 0, 0, 0,\n",
       "       0])"
      ]
     },
     "execution_count": 14,
     "metadata": {},
     "output_type": "execute_result"
    }
   ],
   "source": [
    "dt.predict(X_clusters)"
   ]
  },
  {
   "cell_type": "code",
   "execution_count": 15,
   "id": "a28c3710-6aae-4024-a1db-e8cf159c6f56",
   "metadata": {
    "pycharm": {
     "name": "#%%\n"
    }
   },
   "outputs": [
    {
     "data": {
      "text/plain": [
       "array([0, 0, 0, 0, 0, 0, 0, 0, 0, 0, 0, 0, 0, 0, 0, 0, 0, 0, 0, 0, 0, 0,\n",
       "       0, 0, 0, 1, 1, 1, 1, 1, 1, 1, 1, 1, 1, 1, 1, 1, 1, 1, 1, 1, 1, 1,\n",
       "       1])"
      ]
     },
     "execution_count": 15,
     "metadata": {},
     "output_type": "execute_result"
    }
   ],
   "source": [
    "y_clusters"
   ]
  },
  {
   "cell_type": "code",
   "execution_count": 16,
   "id": "895dc87a-a82b-441f-91cc-d520c842d869",
   "metadata": {
    "pycharm": {
     "name": "#%%\n"
    }
   },
   "outputs": [
    {
     "data": {
      "text/plain": [
       "'/home/gerardozinno/Desktop/Tesi/Code/mlem/lore/adult'"
      ]
     },
     "execution_count": 16,
     "metadata": {},
     "output_type": "execute_result"
    }
   ],
   "source": [
    "pwd"
   ]
  },
  {
   "cell_type": "code",
   "execution_count": 17,
   "id": "e1bd6fda-e63c-43f2-8c87-0e9ef01d812a",
   "metadata": {
    "pycharm": {
     "name": "#%%\n"
    }
   },
   "outputs": [],
   "source": [
    "cols_to_use = ['Age', 'Workclass', 'Fnlwgt', 'Education', 'Education-num', 'Marital-status', 'Occupation',\n",
    "                       'Relationship', 'Race', 'Sex', 'Capital-gain', 'Capital-loss', 'Hours-per-week',\n",
    "                       'Native-country']\n",
    "validation_noisy = pd.read_csv(\"../../notebooks/datasets/adult/adult_randomforest_and_datasets/adult_validationset-noisy.csv\", usecols=cols_to_use)"
   ]
  },
  {
   "cell_type": "markdown",
   "id": "6d829ac0-2a6f-46b7-ad46-471af8b85f93",
   "metadata": {
    "pycharm": {
     "name": "#%% md\n"
    }
   },
   "source": [
    "Problem, lore's dt sends everithing into 0 even though the 24 % of the validation set is made of 1s"
   ]
  },
  {
   "cell_type": "code",
   "execution_count": 18,
   "id": "e83d1624-4962-40d8-863b-8eae34934601",
   "metadata": {
    "pycharm": {
     "name": "#%%\n"
    }
   },
   "outputs": [
    {
     "data": {
      "text/plain": [
       "True"
      ]
     },
     "execution_count": 18,
     "metadata": {},
     "output_type": "execute_result"
    }
   ],
   "source": [
    "(dt.predict(validation_noisy.to_numpy()) == 0).all()"
   ]
  },
  {
   "cell_type": "code",
   "execution_count": 23,
   "id": "a100956f-711c-47e1-8988-a198d4d7fd8f",
   "metadata": {
    "pycharm": {
     "name": "#%%\n"
    }
   },
   "outputs": [],
   "source": [
    "validation_noisy = pd.read_csv(\"../../notebooks/datasets/adult/adult_randomforest_and_datasets/adult_testset.csv\", usecols=cols_to_use)"
   ]
  },
  {
   "cell_type": "code",
   "execution_count": 24,
   "id": "21255ea3-5f4b-4599-95ce-6a256f562331",
   "metadata": {
    "pycharm": {
     "name": "#%%\n"
    }
   },
   "outputs": [
    {
     "data": {
      "text/plain": [
       "True"
      ]
     },
     "execution_count": 24,
     "metadata": {},
     "output_type": "execute_result"
    }
   ],
   "source": [
    "(dt.predict(validation_noisy.to_numpy()) == 0).all()"
   ]
  },
  {
   "cell_type": "code",
   "execution_count": null,
   "id": "cf85d2e0-57ee-4914-8e37-6d399af52f22",
   "metadata": {
    "pycharm": {
     "name": "#%%\n"
    }
   },
   "outputs": [],
   "source": []
  }
 ],
 "metadata": {
  "kernelspec": {
   "display_name": "Python 3 (ipykernel)",
   "language": "python",
   "name": "python3"
  },
  "language_info": {
   "codemirror_mode": {
    "name": "ipython",
    "version": 3
   },
   "file_extension": ".py",
   "mimetype": "text/x-python",
   "name": "python",
   "nbconvert_exporter": "python",
   "pygments_lexer": "ipython3",
   "version": "3.9.9"
  }
 },
 "nbformat": 4,
 "nbformat_minor": 5
}