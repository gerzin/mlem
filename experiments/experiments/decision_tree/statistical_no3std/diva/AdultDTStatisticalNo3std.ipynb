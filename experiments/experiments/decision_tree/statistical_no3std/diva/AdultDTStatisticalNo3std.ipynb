{
 "cells": [
  {
   "cell_type": "markdown",
   "metadata": {},
   "source": [
    "# Attack on Diva using a Decision Tree and a Statistical Generated Dataset without filtering\n",
    "\n",
    "In this notebook I use a statistical generated dataset to create the local decision tree, without filtering the elements using the std."
   ]
  },
  {
   "cell_type": "code",
   "execution_count": 1,
   "metadata": {},
   "outputs": [],
   "source": [
    "from pathlib import Path\n",
    "import sys\n",
    "from numba import njit\n",
    "\n",
    "UTILS_RELATIVE_PATH = \"../../../../\"\n",
    "sys.path.append(UTILS_RELATIVE_PATH)\n",
    "\n",
    "MLEM_RELATIVE_PATH = \"../../../../..\"\n",
    "sys.path.append(MLEM_RELATIVE_PATH)\n",
    "\n",
    "LIME_RELATIVE_PATH = \"../../../../../lime/\"\n",
    "sys.path.append(LIME_RELATIVE_PATH)\n",
    "\n",
    "OUTPUT_FOLDER = Path(\"experiment_output\")\n",
    "OUTPUT_FOLDER.mkdir(exist_ok=True)\n",
    "\n",
    "import logging\n",
    "logging.disable('DEBUG')\n"
   ]
  },
  {
   "cell_type": "code",
   "execution_count": 2,
   "metadata": {},
   "outputs": [],
   "source": [
    "import pandas as pd\n",
    "import seaborn as sns\n",
    "import matplotlib.pyplot as plt\n",
    "sns.set_theme()\n",
    "import numpy as np\n",
    "import scipy.spatial.distance as distance\n",
    "import multiprocessing\n",
    "\n",
    "np.random.seed(4321)\n",
    "from sklearn.metrics import classification_report, ConfusionMatrixDisplay\n",
    "from sklearn.model_selection import train_test_split\n",
    "from lime.lime_tabular import LimeTabularExplainer # type: ignore\n",
    "from mlem.utilities import generate_balanced_dataset, save_pickle_bz2, load_pickle_bz2, save_txt"
   ]
  },
  {
   "cell_type": "markdown",
   "metadata": {},
   "source": [
    "importing the experiment utilities and the mlem module"
   ]
  },
  {
   "cell_type": "markdown",
   "metadata": {},
   "source": [
    "# Loading the Diva data\n",
    "\n",
    "loading the Diva RandomForest and the dictionary with all the useful data"
   ]
  },
  {
   "cell_type": "code",
   "execution_count": 3,
   "metadata": {},
   "outputs": [
    {
     "name": "stdout",
     "output_type": "stream",
     "text": [
      "              precision    recall  f1-score   support\n",
      "\n",
      "           0       0.92      0.95      0.94      2094\n",
      "           1       0.85      0.77      0.81       745\n",
      "\n",
      "    accuracy                           0.90      2839\n",
      "   macro avg       0.89      0.86      0.87      2839\n",
      "weighted avg       0.90      0.90      0.90      2839\n",
      "\n"
     ]
    }
   ],
   "source": [
    "from utils.dataloading.diva import load_diva_data, load_diva_randomforest # type: ignore\n",
    "\n",
    "BB = load_diva_randomforest()\n",
    "BB_DATA = load_diva_data()\n",
    "\n",
    "print(classification_report(BB_DATA['y_test'], BB.predict(BB_DATA['X_test'])))"
   ]
  },
  {
   "cell_type": "markdown",
   "metadata": {},
   "source": [
    "# Generating the statistical dataset"
   ]
  },
  {
   "cell_type": "markdown",
   "metadata": {},
   "source": [
    "Using a `GaussianMixture` to generate a statistical dataset with the statistics of the black box's training set."
   ]
  },
  {
   "cell_type": "code",
   "execution_count": 4,
   "metadata": {},
   "outputs": [],
   "source": [
    "from utils.filtering import filter_elements_std"
   ]
  },
  {
   "cell_type": "code",
   "execution_count": 5,
   "metadata": {},
   "outputs": [
    {
     "name": "stdout",
     "output_type": "stream",
     "text": [
      "The number of components of the GaussianMixture is 5\n"
     ]
    }
   ],
   "source": [
    "from mlem.utilities import stat_sample_dataset, create_gaussian_mixture \n",
    "\n",
    "if not (OUTPUT_FOLDER / \"gaussian_mixture.bz2\").exists():\n",
    "    gm = create_gaussian_mixture(BB_DATA['X_train'])\n",
    "    save_pickle_bz2(OUTPUT_FOLDER / \"gaussian_mixture.bz2\", gm)\n",
    "\n",
    "gm = load_pickle_bz2(OUTPUT_FOLDER / \"gaussian_mixture.bz2\")\n",
    "print(f\"The number of components of the GaussianMixture is {gm.n_components}\")"
   ]
  },
  {
   "cell_type": "code",
   "execution_count": 6,
   "metadata": {},
   "outputs": [],
   "source": [
    "def generate_data_statistical_nostd(x, num_samples):\n",
    "    \"\"\"Generate statistical data without filtering using the std.\n",
    "\n",
    "    Args:\n",
    "        x (instance): ignored since we are not generating aroung it, just needed for the interface\n",
    "        num_samples (int): number of samples to generate\n",
    "    \"\"\"\n",
    "    return stat_sample_dataset(n_samples=num_samples, mixture_model=gm) # using the above GaussianMixture"
   ]
  },
  {
   "cell_type": "code",
   "execution_count": 7,
   "metadata": {},
   "outputs": [],
   "source": [
    "test_representatives_x = BB_DATA['X_attack_5_per_quantile']\n",
    "test_representatives_y = BB_DATA['y_attack_5_per_quantile']\n",
    "n_datasets = len(test_representatives_x)"
   ]
  },
  {
   "cell_type": "code",
   "execution_count": 8,
   "metadata": {},
   "outputs": [],
   "source": [
    "def generate_and_save(index, instance):\n",
    "    # wrapper of the above functions to be able to generate the datasets in parallel\n",
    "    output_path = OUTPUT_FOLDER / f\"{index}\"\n",
    "    output_path.mkdir(exist_ok=True)\n",
    "    \n",
    "    balanced_dataset = generate_balanced_dataset(instance, 5000, BB, generate_data_statistical_nostd)\n",
    "    balanced_dataset.to_csv(output_path / \"statistical_generated.csv\", index=False)\n",
    "    \n",
    "    with open(output_path / \"instance.npy\", \"wb\") as f:\n",
    "        np.save(f, instance)\n",
    "\n",
    "\n",
    "if not any([Path(OUTPUT_FOLDER / f\"{j}\" / \"statistical_generated.csv\").exists() for j in range(len(test_representatives_x))]):\n",
    "    with multiprocessing.Pool(processes=8) as pool:\n",
    "        pool.starmap(generate_and_save, [*enumerate(test_representatives_x)])\n",
    "else:\n",
    "    print(\"The statistical generated datasets already exist\")"
   ]
  },
  {
   "cell_type": "markdown",
   "metadata": {},
   "source": [
    "# Creating the Decision Trees"
   ]
  },
  {
   "cell_type": "markdown",
   "metadata": {},
   "source": [
    "Creating the decision trees <span style=\"color:red\"> if they don't already exist </span>."
   ]
  },
  {
   "cell_type": "code",
   "execution_count": 9,
   "metadata": {},
   "outputs": [],
   "source": [
    "from mlem.utilities import create_decision_tree\n",
    "\n",
    "def train_decision_tree(datapath, model_name):\n",
    "    statistical_generated = pd.read_csv(datapath / \"statistical_generated.csv\")\n",
    "    X_train, X_test, y_train, y_test = train_test_split(statistical_generated.drop('Target', axis=1).to_numpy(), statistical_generated.Target.to_numpy(), test_size=0.33, random_state=42)\n",
    "    model_path = datapath / model_name\n",
    "    if not model_path.exists():\n",
    "        dt = create_decision_tree(X_train, y_train, use_halving=True) \n",
    "        save_pickle_bz2(model_path, dt)\n",
    "        save_txt(datapath / \"dt_classification_report.txt\", classification_report(y_test, dt.predict(X_test)))"
   ]
  },
  {
   "cell_type": "code",
   "execution_count": 10,
   "metadata": {},
   "outputs": [
    {
     "name": "stderr",
     "output_type": "stream",
     "text": [
      "/home/gerardozinno/.pyenv/versions/3.9.9/envs/ml-environment/lib/python3.9/site-packages/joblib/parallel.py:735: UserWarning: Loky-backed parallel loops cannot be called in a multiprocessing, setting n_jobs=1\n",
      "  n_jobs = self._backend.configure(n_jobs=self.n_jobs, parallel=self,\n",
      "/home/gerardozinno/.pyenv/versions/3.9.9/envs/ml-environment/lib/python3.9/site-packages/joblib/parallel.py:735: UserWarning: Loky-backed parallel loops cannot be called in a multiprocessing, setting n_jobs=1\n",
      "  n_jobs = self._backend.configure(n_jobs=self.n_jobs, parallel=self,\n",
      "/home/gerardozinno/.pyenv/versions/3.9.9/envs/ml-environment/lib/python3.9/site-packages/joblib/parallel.py:735: UserWarning: Loky-backed parallel loops cannot be called in a multiprocessing, setting n_jobs=1\n",
      "  n_jobs = self._backend.configure(n_jobs=self.n_jobs, parallel=self,\n",
      "/home/gerardozinno/.pyenv/versions/3.9.9/envs/ml-environment/lib/python3.9/site-packages/joblib/parallel.py:735: UserWarning: Loky-backed parallel loops cannot be called in a multiprocessing, setting n_jobs=1\n",
      "  n_jobs = self._backend.configure(n_jobs=self.n_jobs, parallel=self,\n",
      "/home/gerardozinno/.pyenv/versions/3.9.9/envs/ml-environment/lib/python3.9/site-packages/joblib/parallel.py:735: UserWarning: Loky-backed parallel loops cannot be called in a multiprocessing, setting n_jobs=1\n",
      "  n_jobs = self._backend.configure(n_jobs=self.n_jobs, parallel=self,\n",
      "/home/gerardozinno/.pyenv/versions/3.9.9/envs/ml-environment/lib/python3.9/site-packages/joblib/parallel.py:735: UserWarning: Loky-backed parallel loops cannot be called in a multiprocessing, setting n_jobs=1\n",
      "  n_jobs = self._backend.configure(n_jobs=self.n_jobs, parallel=self,\n",
      "/home/gerardozinno/.pyenv/versions/3.9.9/envs/ml-environment/lib/python3.9/site-packages/joblib/parallel.py:735: UserWarning: Loky-backed parallel loops cannot be called in a multiprocessing, setting n_jobs=1\n",
      "  n_jobs = self._backend.configure(n_jobs=self.n_jobs, parallel=self,\n",
      "/home/gerardozinno/.pyenv/versions/3.9.9/envs/ml-environment/lib/python3.9/site-packages/joblib/parallel.py:735: UserWarning: Loky-backed parallel loops cannot be called in a multiprocessing, setting n_jobs=1\n",
      "  n_jobs = self._backend.configure(n_jobs=self.n_jobs, parallel=self,\n",
      "/home/gerardozinno/.pyenv/versions/3.9.9/envs/ml-environment/lib/python3.9/site-packages/joblib/parallel.py:735: UserWarning: Loky-backed parallel loops cannot be called in a multiprocessing, setting n_jobs=1\n",
      "  n_jobs = self._backend.configure(n_jobs=self.n_jobs, parallel=self,\n",
      "/home/gerardozinno/.pyenv/versions/3.9.9/envs/ml-environment/lib/python3.9/site-packages/joblib/parallel.py:735: UserWarning: Loky-backed parallel loops cannot be called in a multiprocessing, setting n_jobs=1\n",
      "  n_jobs = self._backend.configure(n_jobs=self.n_jobs, parallel=self,\n",
      "/home/gerardozinno/.pyenv/versions/3.9.9/envs/ml-environment/lib/python3.9/site-packages/joblib/parallel.py:735: UserWarning: Loky-backed parallel loops cannot be called in a multiprocessing, setting n_jobs=1\n",
      "  n_jobs = self._backend.configure(n_jobs=self.n_jobs, parallel=self,\n",
      "/home/gerardozinno/.pyenv/versions/3.9.9/envs/ml-environment/lib/python3.9/site-packages/joblib/parallel.py:735: UserWarning: Loky-backed parallel loops cannot be called in a multiprocessing, setting n_jobs=1\n",
      "  n_jobs = self._backend.configure(n_jobs=self.n_jobs, parallel=self,\n",
      "/home/gerardozinno/.pyenv/versions/3.9.9/envs/ml-environment/lib/python3.9/site-packages/joblib/parallel.py:735: UserWarning: Loky-backed parallel loops cannot be called in a multiprocessing, setting n_jobs=1\n",
      "  n_jobs = self._backend.configure(n_jobs=self.n_jobs, parallel=self,\n",
      "/home/gerardozinno/.pyenv/versions/3.9.9/envs/ml-environment/lib/python3.9/site-packages/joblib/parallel.py:735: UserWarning: Loky-backed parallel loops cannot be called in a multiprocessing, setting n_jobs=1\n",
      "  n_jobs = self._backend.configure(n_jobs=self.n_jobs, parallel=self,\n",
      "/home/gerardozinno/.pyenv/versions/3.9.9/envs/ml-environment/lib/python3.9/site-packages/joblib/parallel.py:735: UserWarning: Loky-backed parallel loops cannot be called in a multiprocessing, setting n_jobs=1\n",
      "  n_jobs = self._backend.configure(n_jobs=self.n_jobs, parallel=self,\n",
      "/home/gerardozinno/.pyenv/versions/3.9.9/envs/ml-environment/lib/python3.9/site-packages/joblib/parallel.py:735: UserWarning: Loky-backed parallel loops cannot be called in a multiprocessing, setting n_jobs=1\n",
      "  n_jobs = self._backend.configure(n_jobs=self.n_jobs, parallel=self,\n",
      "/home/gerardozinno/.pyenv/versions/3.9.9/envs/ml-environment/lib/python3.9/site-packages/joblib/parallel.py:735: UserWarning: Loky-backed parallel loops cannot be called in a multiprocessing, setting n_jobs=1\n",
      "  n_jobs = self._backend.configure(n_jobs=self.n_jobs, parallel=self,\n",
      "/home/gerardozinno/.pyenv/versions/3.9.9/envs/ml-environment/lib/python3.9/site-packages/joblib/parallel.py:735: UserWarning: Loky-backed parallel loops cannot be called in a multiprocessing, setting n_jobs=1\n",
      "  n_jobs = self._backend.configure(n_jobs=self.n_jobs, parallel=self,\n",
      "/home/gerardozinno/.pyenv/versions/3.9.9/envs/ml-environment/lib/python3.9/site-packages/joblib/parallel.py:735: UserWarning: Loky-backed parallel loops cannot be called in a multiprocessing, setting n_jobs=1\n",
      "  n_jobs = self._backend.configure(n_jobs=self.n_jobs, parallel=self,\n",
      "/home/gerardozinno/.pyenv/versions/3.9.9/envs/ml-environment/lib/python3.9/site-packages/joblib/parallel.py:735: UserWarning: Loky-backed parallel loops cannot be called in a multiprocessing, setting n_jobs=1\n",
      "  n_jobs = self._backend.configure(n_jobs=self.n_jobs, parallel=self,\n",
      "/home/gerardozinno/.pyenv/versions/3.9.9/envs/ml-environment/lib/python3.9/site-packages/joblib/parallel.py:735: UserWarning: Loky-backed parallel loops cannot be called in a multiprocessing, setting n_jobs=1\n",
      "  n_jobs = self._backend.configure(n_jobs=self.n_jobs, parallel=self,\n",
      "/home/gerardozinno/.pyenv/versions/3.9.9/envs/ml-environment/lib/python3.9/site-packages/joblib/parallel.py:735: UserWarning: Loky-backed parallel loops cannot be called in a multiprocessing, setting n_jobs=1\n",
      "  n_jobs = self._backend.configure(n_jobs=self.n_jobs, parallel=self,\n",
      "/home/gerardozinno/.pyenv/versions/3.9.9/envs/ml-environment/lib/python3.9/site-packages/joblib/parallel.py:735: UserWarning: Loky-backed parallel loops cannot be called in a multiprocessing, setting n_jobs=1\n",
      "  n_jobs = self._backend.configure(n_jobs=self.n_jobs, parallel=self,\n",
      "/home/gerardozinno/.pyenv/versions/3.9.9/envs/ml-environment/lib/python3.9/site-packages/joblib/parallel.py:735: UserWarning: Loky-backed parallel loops cannot be called in a multiprocessing, setting n_jobs=1\n",
      "  n_jobs = self._backend.configure(n_jobs=self.n_jobs, parallel=self,\n",
      "/home/gerardozinno/.pyenv/versions/3.9.9/envs/ml-environment/lib/python3.9/site-packages/joblib/parallel.py:735: UserWarning: Loky-backed parallel loops cannot be called in a multiprocessing, setting n_jobs=1\n",
      "  n_jobs = self._backend.configure(n_jobs=self.n_jobs, parallel=self,\n",
      "/home/gerardozinno/.pyenv/versions/3.9.9/envs/ml-environment/lib/python3.9/site-packages/joblib/parallel.py:735: UserWarning: Loky-backed parallel loops cannot be called in a multiprocessing, setting n_jobs=1\n",
      "  n_jobs = self._backend.configure(n_jobs=self.n_jobs, parallel=self,\n",
      "/home/gerardozinno/.pyenv/versions/3.9.9/envs/ml-environment/lib/python3.9/site-packages/joblib/parallel.py:735: UserWarning: Loky-backed parallel loops cannot be called in a multiprocessing, setting n_jobs=1\n",
      "  n_jobs = self._backend.configure(n_jobs=self.n_jobs, parallel=self,\n",
      "/home/gerardozinno/.pyenv/versions/3.9.9/envs/ml-environment/lib/python3.9/site-packages/joblib/parallel.py:735: UserWarning: Loky-backed parallel loops cannot be called in a multiprocessing, setting n_jobs=1\n",
      "  n_jobs = self._backend.configure(n_jobs=self.n_jobs, parallel=self,\n",
      "/home/gerardozinno/.pyenv/versions/3.9.9/envs/ml-environment/lib/python3.9/site-packages/joblib/parallel.py:735: UserWarning: Loky-backed parallel loops cannot be called in a multiprocessing, setting n_jobs=1\n",
      "  n_jobs = self._backend.configure(n_jobs=self.n_jobs, parallel=self,\n",
      "/home/gerardozinno/.pyenv/versions/3.9.9/envs/ml-environment/lib/python3.9/site-packages/joblib/parallel.py:735: UserWarning: Loky-backed parallel loops cannot be called in a multiprocessing, setting n_jobs=1\n",
      "  n_jobs = self._backend.configure(n_jobs=self.n_jobs, parallel=self,\n",
      "/home/gerardozinno/.pyenv/versions/3.9.9/envs/ml-environment/lib/python3.9/site-packages/joblib/parallel.py:735: UserWarning: Loky-backed parallel loops cannot be called in a multiprocessing, setting n_jobs=1\n",
      "  n_jobs = self._backend.configure(n_jobs=self.n_jobs, parallel=self,\n",
      "/home/gerardozinno/.pyenv/versions/3.9.9/envs/ml-environment/lib/python3.9/site-packages/joblib/parallel.py:735: UserWarning: Loky-backed parallel loops cannot be called in a multiprocessing, setting n_jobs=1\n",
      "  n_jobs = self._backend.configure(n_jobs=self.n_jobs, parallel=self,\n",
      "/home/gerardozinno/.pyenv/versions/3.9.9/envs/ml-environment/lib/python3.9/site-packages/joblib/parallel.py:735: UserWarning: Loky-backed parallel loops cannot be called in a multiprocessing, setting n_jobs=1\n",
      "  n_jobs = self._backend.configure(n_jobs=self.n_jobs, parallel=self,\n",
      "/home/gerardozinno/.pyenv/versions/3.9.9/envs/ml-environment/lib/python3.9/site-packages/joblib/parallel.py:735: UserWarning: Loky-backed parallel loops cannot be called in a multiprocessing, setting n_jobs=1\n",
      "  n_jobs = self._backend.configure(n_jobs=self.n_jobs, parallel=self,\n",
      "/home/gerardozinno/.pyenv/versions/3.9.9/envs/ml-environment/lib/python3.9/site-packages/joblib/parallel.py:735: UserWarning: Loky-backed parallel loops cannot be called in a multiprocessing, setting n_jobs=1\n",
      "  n_jobs = self._backend.configure(n_jobs=self.n_jobs, parallel=self,\n",
      "/home/gerardozinno/.pyenv/versions/3.9.9/envs/ml-environment/lib/python3.9/site-packages/joblib/parallel.py:735: UserWarning: Loky-backed parallel loops cannot be called in a multiprocessing, setting n_jobs=1\n",
      "  n_jobs = self._backend.configure(n_jobs=self.n_jobs, parallel=self,\n",
      "/home/gerardozinno/.pyenv/versions/3.9.9/envs/ml-environment/lib/python3.9/site-packages/joblib/parallel.py:735: UserWarning: Loky-backed parallel loops cannot be called in a multiprocessing, setting n_jobs=1\n",
      "  n_jobs = self._backend.configure(n_jobs=self.n_jobs, parallel=self,\n",
      "/home/gerardozinno/.pyenv/versions/3.9.9/envs/ml-environment/lib/python3.9/site-packages/joblib/parallel.py:735: UserWarning: Loky-backed parallel loops cannot be called in a multiprocessing, setting n_jobs=1\n",
      "  n_jobs = self._backend.configure(n_jobs=self.n_jobs, parallel=self,\n",
      "/home/gerardozinno/.pyenv/versions/3.9.9/envs/ml-environment/lib/python3.9/site-packages/joblib/parallel.py:735: UserWarning: Loky-backed parallel loops cannot be called in a multiprocessing, setting n_jobs=1\n",
      "  n_jobs = self._backend.configure(n_jobs=self.n_jobs, parallel=self,\n",
      "/home/gerardozinno/.pyenv/versions/3.9.9/envs/ml-environment/lib/python3.9/site-packages/joblib/parallel.py:735: UserWarning: Loky-backed parallel loops cannot be called in a multiprocessing, setting n_jobs=1\n",
      "  n_jobs = self._backend.configure(n_jobs=self.n_jobs, parallel=self,\n"
     ]
    }
   ],
   "source": [
    "models_name = \"dt.bz2\"\n",
    "if not any([Path(OUTPUT_FOLDER / f\"{j}\" / \"dt.bz2\").exists() for j in range(len(test_representatives_x))]):\n",
    "    with multiprocessing.Pool(8) as pool:\n",
    "        pool.starmap(train_decision_tree, [(Path(OUTPUT_FOLDER / f\"{i}\"), models_name) for i in range(len(test_representatives_x))])\n",
    "else:\n",
    "    print(\"The DecisionTrees already exist\")"
   ]
  },
  {
   "cell_type": "markdown",
   "metadata": {},
   "source": [
    "# Attack on the Decision Trees to create the attack models\n",
    "\n",
    "Attack on the decision trees using a <span style=\"background: green\">statistical generated dataset</span> labeled by the decision trees to create the shadow models. The dataset elements aren't filtered using the std."
   ]
  },
  {
   "cell_type": "code",
   "execution_count": 11,
   "metadata": {},
   "outputs": [],
   "source": [
    "categorical_features_mask = BB_DATA['categorical_features_mask']"
   ]
  },
  {
   "cell_type": "markdown",
   "metadata": {},
   "source": [
    "Creating the shadow models and the attack models."
   ]
  },
  {
   "cell_type": "code",
   "execution_count": 12,
   "metadata": {},
   "outputs": [],
   "source": [
    "from mlem.shadow_models import ShadowModelsManager\n",
    "from mlem.utilities import create_adaboost\n",
    "from mlem.attack_models import AttackModelsManager, AttackStrategy"
   ]
  },
  {
   "cell_type": "code",
   "execution_count": 13,
   "metadata": {},
   "outputs": [],
   "source": [
    "def compute_statistics_local_model(dataset, true_y, local_model, black_box, output_folder, filename):\n",
    "    local_y = local_model.predict(dataset.to_numpy())\n",
    "    local_bb = black_box.predict(dataset.to_numpy())\n",
    "\n",
    "    report_local = classification_report(true_y.to_numpy(), local_y)\n",
    "    report_bb    = classification_report(true_y.to_numpy(), local_bb)\n",
    "\n",
    "    fidelity = str(pd.DataFrame(local_y == local_bb).value_counts(normalize=True))\n",
    "\n",
    "    with open(output_folder / filename, \"w\") as f:\n",
    "        f.write(\"Statistics on the noisy validation dataset\\n\")\n",
    "        \n",
    "        f.write(\"local model\\n\")\n",
    "        f.write(report_local)\n",
    "\n",
    "        f.write(\"\\nblack box\\n\")\n",
    "        f.write(report_bb)\n",
    "\n",
    "        f.write(\"\\nFidelity between the local model and the black box\\n\")\n",
    "        f.write(fidelity)"
   ]
  },
  {
   "cell_type": "markdown",
   "metadata": {},
   "source": [
    "Run the attack only if it hasn't already been run"
   ]
  },
  {
   "cell_type": "code",
   "execution_count": 14,
   "metadata": {},
   "outputs": [
    {
     "name": "stdout",
     "output_type": "stream",
     "text": [
      "[INFO OVERSAMPLE] Specified ratio too low: skipping oversampling\n",
      "[INFO OVERSAMPLE] Specified ratio too low: skipping oversampling\n",
      "[INFO OVERSAMPLE] Specified ratio too low: skipping oversampling\n",
      "[INFO OVERSAMPLE] Specified ratio too low: skipping oversampling\n",
      "[INFO OVERSAMPLE] Specified ratio too low: skipping oversampling\n",
      "[INFO OVERSAMPLE] Specified ratio too low: skipping oversampling\n",
      "[INFO OVERSAMPLE] Specified ratio too low: skipping oversampling\n",
      "[INFO OVERSAMPLE] Specified ratio too low: skipping oversampling\n",
      "[INFO OVERSAMPLE] Specified ratio too low: skipping oversampling\n",
      "[INFO OVERSAMPLE] Specified ratio too low: skipping oversampling\n",
      "[INFO OVERSAMPLE] Specified ratio too low: skipping oversampling\n",
      "[INFO OVERSAMPLE] Specified ratio too low: skipping oversampling\n",
      "[INFO OVERSAMPLE] Specified ratio too low: skipping oversampling\n",
      "[INFO OVERSAMPLE] Specified ratio too low: skipping oversampling\n",
      "[INFO OVERSAMPLE] Specified ratio too low: skipping oversampling\n",
      "[INFO OVERSAMPLE] Specified ratio too low: skipping oversampling\n",
      "[INFO OVERSAMPLE] Specified ratio too low: skipping oversampling\n",
      "[INFO OVERSAMPLE] Specified ratio too low: skipping oversampling\n",
      "[INFO OVERSAMPLE] Specified ratio too low: skipping oversampling\n",
      "[INFO OVERSAMPLE] Specified ratio too low: skipping oversampling\n",
      "[INFO OVERSAMPLE] Specified ratio too low: skipping oversampling\n",
      "[INFO OVERSAMPLE] Specified ratio too low: skipping oversampling\n",
      "[INFO OVERSAMPLE] Specified ratio too low: skipping oversampling\n",
      "[INFO OVERSAMPLE] Specified ratio too low: skipping oversampling\n",
      "[INFO OVERSAMPLE] Specified ratio too low: skipping oversampling\n",
      "[INFO OVERSAMPLE] Specified ratio too low: skipping oversampling\n",
      "[INFO OVERSAMPLE] Specified ratio too low: skipping oversampling\n",
      "[INFO OVERSAMPLE] Specified ratio too low: skipping oversampling\n",
      "[INFO OVERSAMPLE] Specified ratio too low: skipping oversampling\n",
      "[INFO OVERSAMPLE] Specified ratio too low: skipping oversampling\n",
      "[INFO OVERSAMPLE] Specified ratio too low: skipping oversampling\n",
      "[INFO OVERSAMPLE] Specified ratio too low: skipping oversampling\n",
      "[INFO OVERSAMPLE] Specified ratio too low: skipping oversampling\n",
      "[INFO OVERSAMPLE] Specified ratio too low: skipping oversampling\n",
      "[INFO OVERSAMPLE] Specified ratio too low: skipping oversampling\n",
      "[INFO OVERSAMPLE] Specified ratio too low: skipping oversampling\n",
      "[INFO OVERSAMPLE] Specified ratio too low: skipping oversampling\n",
      "[INFO OVERSAMPLE] Specified ratio too low: skipping oversampling\n",
      "[INFO OVERSAMPLE] Specified ratio too low: skipping oversampling\n",
      "[INFO OVERSAMPLE] Specified ratio too low: skipping oversampling\n",
      "[INFO OVERSAMPLE] Specified ratio too low: skipping oversampling\n",
      "[INFO OVERSAMPLE] Specified ratio too low: skipping oversampling\n",
      "[INFO OVERSAMPLE] Specified ratio too low: skipping oversampling\n",
      "[INFO OVERSAMPLE] Specified ratio too low: skipping oversampling\n",
      "[INFO OVERSAMPLE] Specified ratio too low: skipping oversampling\n",
      "[INFO OVERSAMPLE] Specified ratio too low: skipping oversampling\n",
      "[INFO OVERSAMPLE] Specified ratio too low: skipping oversampling\n",
      "[INFO OVERSAMPLE] Specified ratio too low: skipping oversampling\n",
      "[INFO OVERSAMPLE] Specified ratio too low: skipping oversampling\n",
      "[INFO OVERSAMPLE] Specified ratio too low: skipping oversampling\n",
      "[INFO OVERSAMPLE] Specified ratio too low: skipping oversampling\n",
      "[INFO OVERSAMPLE] Specified ratio too low: skipping oversampling\n",
      "[INFO OVERSAMPLE] Specified ratio too low: skipping oversampling\n",
      "[INFO OVERSAMPLE] Specified ratio too low: skipping oversampling\n",
      "[INFO OVERSAMPLE] Specified ratio too low: skipping oversampling\n",
      "[INFO OVERSAMPLE] Specified ratio too low: skipping oversampling\n",
      "[INFO OVERSAMPLE] Specified ratio too low: skipping oversampling\n",
      "[INFO OVERSAMPLE] Specified ratio too low: skipping oversampling\n",
      "[INFO OVERSAMPLE] Specified ratio too low: skipping oversampling\n",
      "[INFO OVERSAMPLE] Specified ratio too low: skipping oversampling\n",
      "[INFO OVERSAMPLE] Specified ratio too low: skipping oversampling\n",
      "[INFO OVERSAMPLE] Specified ratio too low: skipping oversampling\n",
      "[INFO OVERSAMPLE] Specified ratio too low: skipping oversampling\n",
      "[INFO OVERSAMPLE] Specified ratio too low: skipping oversampling\n",
      "[INFO OVERSAMPLE] Specified ratio too low: skipping oversampling\n",
      "[INFO OVERSAMPLE] Specified ratio too low: skipping oversampling\n",
      "[INFO OVERSAMPLE] Specified ratio too low: skipping oversampling\n",
      "[INFO OVERSAMPLE] Specified ratio too low: skipping oversampling\n",
      "[INFO OVERSAMPLE] Specified ratio too low: skipping oversampling\n",
      "[INFO OVERSAMPLE] Specified ratio too low: skipping oversampling\n",
      "[INFO OVERSAMPLE] Specified ratio too low: skipping oversampling\n",
      "[INFO OVERSAMPLE] Specified ratio too low: skipping oversampling\n",
      "[INFO OVERSAMPLE] Specified ratio too low: skipping oversampling\n",
      "[INFO OVERSAMPLE] Specified ratio too low: skipping oversampling\n",
      "[INFO OVERSAMPLE] Specified ratio too low: skipping oversampling\n",
      "[INFO OVERSAMPLE] Specified ratio too low: skipping oversampling\n",
      "[INFO OVERSAMPLE] Specified ratio too low: skipping oversampling\n",
      "[INFO OVERSAMPLE] Specified ratio too low: skipping oversampling\n",
      "[INFO OVERSAMPLE] Specified ratio too low: skipping oversampling\n",
      "[INFO OVERSAMPLE] Specified ratio too low: skipping oversampling\n"
     ]
    }
   ],
   "source": [
    "if not any([(OUTPUT_FOLDER / f\"{i}\" / \"attack\").exists() for i in range(len(test_representatives_x))]):\n",
    "    \n",
    "    for ind, path in enumerate([OUTPUT_FOLDER / f\"{i}\" for i in range(len(test_representatives_x))]):\n",
    "        # load the local tree and label the noisy dataset\n",
    "        local_tree = load_pickle_bz2(path / \"dt.bz2\")\n",
    "\n",
    "        # here the first argument is ignored\n",
    "        statistical = generate_balanced_dataset(test_representatives_x[ind], 5000, BB, generate_data_statistical_nostd)\n",
    "        statistical_x = statistical.drop('Target', axis=1)\n",
    "        statistical_y = statistical.Target\n",
    "\n",
    "        # compute fidelity and performances on the noisy dataset.\n",
    "        compute_statistics_local_model(statistical_x, statistical_y, local_tree, BB, path, \"statistics_statisticalgenerated.txt\")\n",
    "\n",
    "        # use the \"local\" decision tree to label the statistical dataset\n",
    "        x_attack = statistical_x.to_numpy()    \n",
    "        y_attack = local_tree.predict(x_attack)\n",
    "\n",
    "        path_shadow = str(path / \"shadow\")\n",
    "\n",
    "        shadow_models = ShadowModelsManager(\n",
    "            n_models=4,\n",
    "            results_path=path_shadow,\n",
    "            test_size=0.5,\n",
    "            random_state=123,\n",
    "            model_creator_fn=create_adaboost,\n",
    "            categorical_mask=categorical_features_mask\n",
    "        )\n",
    "        \n",
    "        shadow_models.fit(x_attack, y_attack)\n",
    "\n",
    "        # extracting the dataset for the attack models\n",
    "        attack_models_dataset = shadow_models.get_attack_dataset()\n",
    "\n",
    "        # saving the attack dataset\n",
    "        attack_models_dataset.to_csv(path / \"attack_models_train_dataset.csv\", index=False)\n",
    "\n",
    "        # Creating the attack model for each label using Adaboost\n",
    "        path_attack = str(path / \"attack\")\n",
    "        attack_models = AttackModelsManager(\n",
    "                results_path=path_attack, model_creator_fn=create_adaboost, attack_strategy=AttackStrategy.ONE_PER_LABEL\n",
    "        )\n",
    "        \n",
    "        attack_models.fit(attack_models_dataset)\n",
    "else:\n",
    "    print(\"The attack models already exist\")"
   ]
  },
  {
   "cell_type": "markdown",
   "metadata": {},
   "source": [
    "By looking at the test reports of the attack models, it seems that they <span style=\"background: red\">perform bad on both classes</span> with an accuracy of $\\simeq .50$"
   ]
  },
  {
   "cell_type": "markdown",
   "metadata": {},
   "source": [
    "# Creating the ensembles"
   ]
  },
  {
   "cell_type": "code",
   "execution_count": 15,
   "metadata": {},
   "outputs": [],
   "source": [
    "from mlem.ensemble import HardVotingClassifier, SoftVotingClassifier, KMostSureVotingClassifier\n",
    "from utils.attack_evaluation import evaluate_attack"
   ]
  },
  {
   "cell_type": "code",
   "execution_count": 16,
   "metadata": {},
   "outputs": [],
   "source": [
    "attack_models_0 = [load_pickle_bz2(OUTPUT_FOLDER / f\"{i}\" / \"attack\" / \"0\" / \"model.pkl.bz2\") for i in range(len(test_representatives_x))]\n",
    "attack_models_1 = [load_pickle_bz2(OUTPUT_FOLDER / f\"{i}\" / \"attack\" / \"1\" / \"model.pkl.bz2\") for i in range(len(test_representatives_x))]"
   ]
  },
  {
   "cell_type": "markdown",
   "metadata": {},
   "source": [
    "## Hard Voting"
   ]
  },
  {
   "cell_type": "code",
   "execution_count": 17,
   "metadata": {},
   "outputs": [],
   "source": [
    "hv0 = HardVotingClassifier(classifiers=attack_models_0)\n",
    "hv1 = HardVotingClassifier(classifiers=attack_models_1)"
   ]
  },
  {
   "cell_type": "code",
   "execution_count": 18,
   "metadata": {},
   "outputs": [
    {
     "name": "stdout",
     "output_type": "stream",
     "text": [
      "report full\n",
      "              precision    recall  f1-score   support\n",
      "\n",
      "          in       0.70      0.81      0.75      6382\n",
      "         out       0.27      0.17      0.21      2716\n",
      "\n",
      "    accuracy                           0.62      9098\n",
      "   macro avg       0.48      0.49      0.48      9098\n",
      "weighted avg       0.57      0.62      0.59      9098\n",
      "\n",
      "\n",
      "Class 0\n",
      "              precision    recall  f1-score   support\n",
      "\n",
      "          in       0.70      1.00      0.82      4952\n",
      "         out       0.36      0.00      0.01      2159\n",
      "\n",
      "    accuracy                           0.70      7111\n",
      "   macro avg       0.53      0.50      0.41      7111\n",
      "weighted avg       0.59      0.70      0.57      7111\n",
      "\n",
      "\n",
      "Class 1\n",
      "              precision    recall  f1-score   support\n",
      "\n",
      "          in       0.68      0.17      0.27      1430\n",
      "         out       0.27      0.80      0.41       557\n",
      "\n",
      "    accuracy                           0.35      1987\n",
      "   macro avg       0.48      0.48      0.34      1987\n",
      "weighted avg       0.57      0.35      0.31      1987\n",
      "\n"
     ]
    },
    {
     "data": {
      "image/png": "[encoded data removed]",
      "text/plain": [
       "<Figure size 1440x1296 with 3 Axes>"
      ]
     },
     "metadata": {},
     "output_type": "display_data"
    }
   ],
   "source": [
    "evaluate_attack(hv0, hv1, BB, BB_DATA)"
   ]
  },
  {
   "cell_type": "markdown",
   "metadata": {},
   "source": [
    "## Soft Voting"
   ]
  },
  {
   "cell_type": "code",
   "execution_count": 19,
   "metadata": {},
   "outputs": [],
   "source": [
    "sv0 = SoftVotingClassifier(classifiers=attack_models_0)\n",
    "sv1 = SoftVotingClassifier(classifiers=attack_models_1)"
   ]
  },
  {
   "cell_type": "code",
   "execution_count": 20,
   "metadata": {},
   "outputs": [
    {
     "name": "stdout",
     "output_type": "stream",
     "text": [
      "report full\n",
      "              precision    recall  f1-score   support\n",
      "\n",
      "          in       0.70      0.78      0.74      6624\n",
      "         out       0.28      0.20      0.24      2839\n",
      "\n",
      "    accuracy                           0.61      9463\n",
      "   macro avg       0.49      0.49      0.49      9463\n",
      "weighted avg       0.57      0.61      0.59      9463\n",
      "\n",
      "\n",
      "Class 0\n",
      "              precision    recall  f1-score   support\n",
      "\n",
      "          in       0.70      1.00      0.82      4965\n",
      "         out       0.40      0.01      0.01      2165\n",
      "\n",
      "    accuracy                           0.70      7130\n",
      "   macro avg       0.55      0.50      0.42      7130\n",
      "weighted avg       0.61      0.70      0.57      7130\n",
      "\n",
      "\n",
      "Class 1\n",
      "              precision    recall  f1-score   support\n",
      "\n",
      "          in       0.67      0.14      0.23      1659\n",
      "         out       0.28      0.83      0.42       674\n",
      "\n",
      "    accuracy                           0.34      2333\n",
      "   macro avg       0.48      0.49      0.33      2333\n",
      "weighted avg       0.56      0.34      0.29      2333\n",
      "\n"
     ]
    },
    {
     "data": {
      "image/png": "[encoded data removed]",
      "text/plain": [
       "<Figure size 1440x1296 with 3 Axes>"
      ]
     },
     "metadata": {},
     "output_type": "display_data"
    }
   ],
   "source": [
    "evaluate_attack(sv0, sv1, BB, BB_DATA)"
   ]
  }
 ],
 "metadata": {
  "kernelspec": {
   "display_name": "Python 3.9.9 64-bit ('ml-environment')",
   "language": "python",
   "name": "python3"
  },
  "language_info": {
   "codemirror_mode": {
    "name": "ipython",
    "version": 3
   },
   "file_extension": ".py",
   "mimetype": "text/x-python",
   "name": "python",
   "nbconvert_exporter": "python",
   "pygments_lexer": "ipython3",
   "version": "3.9.9"
  },
  "orig_nbformat": 4,
  "vscode": {
   "interpreter": {
    "hash": "2926f9c34cf1633401c8a7234a4ce7220d90c6933b8b9775bef28283606af272"
   }
  }
 },
 "nbformat": 4,
 "nbformat_minor": 2
}
