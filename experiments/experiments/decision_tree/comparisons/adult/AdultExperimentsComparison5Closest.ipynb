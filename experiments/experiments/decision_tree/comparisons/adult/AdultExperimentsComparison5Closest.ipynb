{
 "cells": [
  {
   "cell_type": "markdown",
   "metadata": {},
   "source": [
    "# Adult comparison\n",
    "\n",
    "Comparing the results on the Attacks on Adult using the `KClosestVotingClassifier`"
   ]
  },
  {
   "cell_type": "code",
   "execution_count": 1,
   "metadata": {},
   "outputs": [],
   "source": [
    "from pathlib import Path\n",
    "import sys\n",
    "from numba import njit\n",
    "\n",
    "UTILS_RELATIVE_PATH = \"../../../../\"\n",
    "sys.path.append(UTILS_RELATIVE_PATH)\n",
    "\n",
    "MLEM_RELATIVE_PATH = \"../../../../..\"\n",
    "sys.path.append(MLEM_RELATIVE_PATH)\n",
    "\n",
    "LIME_RELATIVE_PATH = \"../../../../../lime/\"\n",
    "sys.path.append(LIME_RELATIVE_PATH)\n",
    "\n",
    "import logging\n",
    "logging.disable('DEBUG')"
   ]
  },
  {
   "cell_type": "code",
   "execution_count": 2,
   "metadata": {},
   "outputs": [],
   "source": [
    "import pandas as pd\n",
    "import seaborn as sns\n",
    "import matplotlib.pyplot as plt\n",
    "sns.set_theme()\n",
    "import numpy as np\n",
    "from sklearn.metrics import classification_report, ConfusionMatrixDisplay\n",
    "from mlem.ensemble import KClosestVotingClassifier\n",
    "from utils.attack_evaluation import evaluate_attack_distances\n",
    "from utils.models import load_pickle_bz2\n",
    "from utils.dataloading.attack_models import load_attack_models"
   ]
  },
  {
   "cell_type": "markdown",
   "metadata": {},
   "source": [
    "# Loading the Adult data"
   ]
  },
  {
   "cell_type": "code",
   "execution_count": 3,
   "metadata": {},
   "outputs": [
    {
     "name": "stdout",
     "output_type": "stream",
     "text": [
      "              precision    recall  f1-score   support\n",
      "\n",
      "           0       0.88      0.95      0.91      8157\n",
      "           1       0.79      0.61      0.69      2690\n",
      "\n",
      "    accuracy                           0.86     10847\n",
      "   macro avg       0.84      0.78      0.80     10847\n",
      "weighted avg       0.86      0.86      0.86     10847\n",
      "\n"
     ]
    }
   ],
   "source": [
    "from utils.dataloading.adult import load_adult_data, load_adult_randomforest # type: ignore\n",
    "\n",
    "BB = load_adult_randomforest()\n",
    "BB_DATA = load_adult_data()\n",
    "\n",
    "print(classification_report(BB_DATA['y_test'], BB.predict(BB_DATA['X_test'])))"
   ]
  },
  {
   "cell_type": "markdown",
   "metadata": {},
   "source": [
    "##### Data: `Lime Generated` Attack: `Lime Generated` Explainer: `Decision Tree` Filter: `False`\n",
    "Here the attack dataset is the same used to train the Decision Trees"
   ]
  },
  {
   "cell_type": "code",
   "execution_count": 4,
   "metadata": {},
   "outputs": [],
   "source": [
    "PATH = Path('../../decision_tree_dataset_no3std/adult/experiment_output/')\n",
    "assert PATH.exists()"
   ]
  },
  {
   "cell_type": "code",
   "execution_count": 5,
   "metadata": {},
   "outputs": [],
   "source": [
    "attack_0, attack_1, instances = load_attack_models(PATH)"
   ]
  },
  {
   "cell_type": "code",
   "execution_count": 6,
   "metadata": {},
   "outputs": [],
   "source": [
    "from typing import List, Sequence\n",
    "\n",
    "import numpy as np\n",
    "from numpy import ndarray\n",
    "from numpy.core.fromnumeric import argmax\n",
    "from numpy.core.shape_base import vstack\n",
    "from sklearn.base import RegressorMixin\n",
    "import scipy.spatial.distance as distance\n",
    "from collections import Counter"
   ]
  },
  {
   "cell_type": "code",
   "execution_count": 7,
   "metadata": {},
   "outputs": [],
   "source": [
    "ensemble0 = KClosestVotingClassifier(attack_0, instances)\n",
    "ensemble1 = KClosestVotingClassifier(attack_1, instances)"
   ]
  },
  {
   "cell_type": "code",
   "execution_count": 8,
   "metadata": {},
   "outputs": [
    {
     "name": "stdout",
     "output_type": "stream",
     "text": [
      "report full\n",
      "              precision    recall  f1-score   support\n",
      "\n",
      "          in       0.70      0.67      0.68     25308\n",
      "         out       0.30      0.33      0.31     10847\n",
      "\n",
      "    accuracy                           0.57     36155\n",
      "   macro avg       0.50      0.50      0.50     36155\n",
      "weighted avg       0.58      0.57      0.57     36155\n",
      "\n",
      "\n",
      "Class 0\n",
      "              precision    recall  f1-score   support\n",
      "\n",
      "          in       0.70      0.73      0.71     20353\n",
      "         out       0.30      0.27      0.28      8766\n",
      "\n",
      "    accuracy                           0.59     29119\n",
      "   macro avg       0.50      0.50      0.50     29119\n",
      "weighted avg       0.58      0.59      0.58     29119\n",
      "\n",
      "\n",
      "Class 1\n",
      "              precision    recall  f1-score   support\n",
      "\n",
      "          in       0.71      0.43      0.54      4955\n",
      "         out       0.30      0.58      0.40      2081\n",
      "\n",
      "    accuracy                           0.48      7036\n",
      "   macro avg       0.51      0.51      0.47      7036\n",
      "weighted avg       0.59      0.48      0.50      7036\n",
      "\n"
     ]
    },
    {
     "data": {
      "image/png": "[encoded data removed]",
      "text/plain": [
       "<Figure size 1440x1296 with 3 Axes>"
      ]
     },
     "metadata": {},
     "output_type": "display_data"
    }
   ],
   "source": [
    "evaluate_attack_distances(ensemble0, ensemble1, BB, BB_DATA)"
   ]
  },
  {
   "cell_type": "markdown",
   "metadata": {},
   "source": [
    "##### Data: `Lime Generated` Attack: `Lime Generated` Explainer: `Decision Tree` Filter: `True`"
   ]
  },
  {
   "cell_type": "code",
   "execution_count": 9,
   "metadata": {},
   "outputs": [],
   "source": [
    "PATH = Path('../../decision_tree_dataset/adult/experiment_output/')\n",
    "assert PATH.exists()"
   ]
  },
  {
   "cell_type": "code",
   "execution_count": 10,
   "metadata": {},
   "outputs": [],
   "source": [
    "attack_0, attack_1, instances = load_attack_models(PATH)"
   ]
  },
  {
   "cell_type": "code",
   "execution_count": 11,
   "metadata": {},
   "outputs": [],
   "source": [
    "ensemble0 = KClosestVotingClassifier(attack_0, instances)\n",
    "ensemble1 = KClosestVotingClassifier(attack_1, instances)"
   ]
  },
  {
   "cell_type": "code",
   "execution_count": 12,
   "metadata": {},
   "outputs": [
    {
     "name": "stdout",
     "output_type": "stream",
     "text": [
      "report full\n",
      "              precision    recall  f1-score   support\n",
      "\n",
      "          in       0.70      0.38      0.49     25308\n",
      "         out       0.30      0.63      0.41     10847\n",
      "\n",
      "    accuracy                           0.45     36155\n",
      "   macro avg       0.50      0.50      0.45     36155\n",
      "weighted avg       0.58      0.45      0.46     36155\n",
      "\n",
      "\n",
      "Class 0\n",
      "              precision    recall  f1-score   support\n",
      "\n",
      "          in       0.70      0.35      0.47     20353\n",
      "         out       0.30      0.65      0.41      8766\n",
      "\n",
      "    accuracy                           0.44     29119\n",
      "   macro avg       0.50      0.50      0.44     29119\n",
      "weighted avg       0.58      0.44      0.45     29119\n",
      "\n",
      "\n",
      "Class 1\n",
      "              precision    recall  f1-score   support\n",
      "\n",
      "          in       0.71      0.47      0.56      4955\n",
      "         out       0.30      0.54      0.38      2081\n",
      "\n",
      "    accuracy                           0.49      7036\n",
      "   macro avg       0.50      0.50      0.47      7036\n",
      "weighted avg       0.59      0.49      0.51      7036\n",
      "\n"
     ]
    },
    {
     "data": {
      "image/png": "[encoded data removed]",
      "text/plain": [
       "<Figure size 1440x1296 with 3 Axes>"
      ]
     },
     "metadata": {},
     "output_type": "display_data"
    }
   ],
   "source": [
    "evaluate_attack_distances(ensemble0, ensemble1, BB, BB_DATA)"
   ]
  },
  {
   "cell_type": "markdown",
   "metadata": {},
   "source": [
    "##### Data: `Statistical` on `Black Box Train` Attack: `Statistical` Explainer: `Decision Tree` Filter: `False`\n",
    "Here the attack dataset is a newly generated statistical one, not the same used to create the `DTs`"
   ]
  },
  {
   "cell_type": "code",
   "execution_count": 13,
   "metadata": {},
   "outputs": [],
   "source": [
    "PATH = Path('../../statistical_no3std/adult/experiment_output/')\n",
    "assert PATH.exists()"
   ]
  },
  {
   "cell_type": "code",
   "execution_count": 14,
   "metadata": {},
   "outputs": [],
   "source": [
    "attack_0, attack_1, instances = load_attack_models(PATH)"
   ]
  },
  {
   "cell_type": "code",
   "execution_count": 15,
   "metadata": {},
   "outputs": [],
   "source": [
    "ensemble0 = KClosestVotingClassifier(attack_0, instances)\n",
    "ensemble1 = KClosestVotingClassifier(attack_1, instances)"
   ]
  },
  {
   "cell_type": "code",
   "execution_count": 16,
   "metadata": {},
   "outputs": [
    {
     "name": "stdout",
     "output_type": "stream",
     "text": [
      "report full\n",
      "              precision    recall  f1-score   support\n",
      "\n",
      "          in       0.70      0.43      0.53     25308\n",
      "         out       0.30      0.56      0.39     10847\n",
      "\n",
      "    accuracy                           0.47     36155\n",
      "   macro avg       0.50      0.50      0.46     36155\n",
      "weighted avg       0.58      0.47      0.49     36155\n",
      "\n",
      "\n",
      "Class 0\n",
      "              precision    recall  f1-score   support\n",
      "\n",
      "          in       0.70      0.41      0.52     20353\n",
      "         out       0.30      0.58      0.40      8766\n",
      "\n",
      "    accuracy                           0.46     29119\n",
      "   macro avg       0.50      0.50      0.46     29119\n",
      "weighted avg       0.58      0.46      0.48     29119\n",
      "\n",
      "\n",
      "Class 1\n",
      "              precision    recall  f1-score   support\n",
      "\n",
      "          in       0.69      0.50      0.58      4955\n",
      "         out       0.29      0.47      0.36      2081\n",
      "\n",
      "    accuracy                           0.49      7036\n",
      "   macro avg       0.49      0.49      0.47      7036\n",
      "weighted avg       0.57      0.49      0.52      7036\n",
      "\n"
     ]
    },
    {
     "data": {
      "image/png": "[encoded data removed]",
      "text/plain": [
       "<Figure size 1440x1296 with 3 Axes>"
      ]
     },
     "metadata": {},
     "output_type": "display_data"
    }
   ],
   "source": [
    "evaluate_attack_distances(ensemble0, ensemble1, BB, BB_DATA)"
   ]
  },
  {
   "cell_type": "markdown",
   "metadata": {},
   "source": [
    "##### Data: `Statistical` on `Black Box Train` Attack: `Statistical` Explainer: `Decision Tree` Filter: `True`\n",
    "\n",
    "Here the attack dataset is a newly generated statistical one, not the same used to create the `DTs`"
   ]
  },
  {
   "cell_type": "code",
   "execution_count": 17,
   "metadata": {},
   "outputs": [],
   "source": [
    "PATH = Path('../../statistical/adult/experiment_output/')\n",
    "assert PATH.exists()"
   ]
  },
  {
   "cell_type": "code",
   "execution_count": 18,
   "metadata": {},
   "outputs": [],
   "source": [
    "attack_0, attack_1, instances = load_attack_models(PATH)"
   ]
  },
  {
   "cell_type": "code",
   "execution_count": 19,
   "metadata": {},
   "outputs": [],
   "source": [
    "ensemble0 = KClosestVotingClassifier(attack_0, instances)\n",
    "ensemble1 = KClosestVotingClassifier(attack_1, instances)"
   ]
  },
  {
   "cell_type": "code",
   "execution_count": 20,
   "metadata": {},
   "outputs": [
    {
     "name": "stdout",
     "output_type": "stream",
     "text": [
      "report full\n",
      "              precision    recall  f1-score   support\n",
      "\n",
      "          in       0.70      0.64      0.67     25308\n",
      "         out       0.30      0.36      0.33     10847\n",
      "\n",
      "    accuracy                           0.56     36155\n",
      "   macro avg       0.50      0.50      0.50     36155\n",
      "weighted avg       0.58      0.56      0.57     36155\n",
      "\n",
      "\n",
      "Class 0\n",
      "              precision    recall  f1-score   support\n",
      "\n",
      "          in       0.70      0.63      0.66     20353\n",
      "         out       0.30      0.38      0.34      8766\n",
      "\n",
      "    accuracy                           0.55     29119\n",
      "   macro avg       0.50      0.50      0.50     29119\n",
      "weighted avg       0.58      0.55      0.56     29119\n",
      "\n",
      "\n",
      "Class 1\n",
      "              precision    recall  f1-score   support\n",
      "\n",
      "          in       0.71      0.70      0.70      4955\n",
      "         out       0.30      0.31      0.31      2081\n",
      "\n",
      "    accuracy                           0.58      7036\n",
      "   macro avg       0.50      0.50      0.50      7036\n",
      "weighted avg       0.59      0.58      0.58      7036\n",
      "\n"
     ]
    },
    {
     "data": {
      "image/png": "[encoded data removed]",
      "text/plain": [
       "<Figure size 1440x1296 with 3 Axes>"
      ]
     },
     "metadata": {},
     "output_type": "display_data"
    }
   ],
   "source": [
    "evaluate_attack_distances(ensemble0, ensemble1, BB, BB_DATA)"
   ]
  },
  {
   "cell_type": "markdown",
   "metadata": {},
   "source": [
    "##### Data: `Statistical` on `Noisy dataset` Attack: `Statistical` Explainer: `Decision Tree` Filter: `False`\n",
    "Here the attack dataset is a newly generated statistical one, not the same used to create the `DTs`"
   ]
  },
  {
   "cell_type": "code",
   "execution_count": 21,
   "metadata": {},
   "outputs": [],
   "source": [
    "PATH = Path('../../statistical_noisy/adult/experiment_output/')\n",
    "assert PATH.exists()"
   ]
  },
  {
   "cell_type": "code",
   "execution_count": 22,
   "metadata": {},
   "outputs": [],
   "source": [
    "attack_0, attack_1, instances = load_attack_models(PATH)"
   ]
  },
  {
   "cell_type": "code",
   "execution_count": 23,
   "metadata": {},
   "outputs": [],
   "source": [
    "ensemble0 = KClosestVotingClassifier(attack_0, instances)\n",
    "ensemble1 = KClosestVotingClassifier(attack_1, instances)"
   ]
  },
  {
   "cell_type": "code",
   "execution_count": 24,
   "metadata": {},
   "outputs": [],
   "source": [
    "evaluate_attack_distances(ensemble0, ensemble1, BB, BB_DATA)"
   ]
  },
  {
   "cell_type": "markdown",
   "metadata": {},
   "source": [
    "##### Data: `Statistical` on `Noisy dataset` Attack: `Statistical` Explainer: `Decision Tree` Filter: `True`\n",
    "Here the attack dataset is a newly generated statistical one, not the same used to create the `DTs`"
   ]
  },
  {
   "cell_type": "code",
   "execution_count": null,
   "metadata": {},
   "outputs": [],
   "source": [
    "PATH = Path('../../statistical_noisy_filter/adult/experiment_output/')\n",
    "assert PATH.exists()"
   ]
  },
  {
   "cell_type": "code",
   "execution_count": null,
   "metadata": {},
   "outputs": [],
   "source": [
    "attack_0, attack_1, instances = load_attack_models(PATH)"
   ]
  },
  {
   "cell_type": "code",
   "execution_count": null,
   "metadata": {},
   "outputs": [],
   "source": [
    "ensemble0 = KClosestVotingClassifier(attack_0, instances)\n",
    "ensemble1 = KClosestVotingClassifier(attack_1, instances)"
   ]
  },
  {
   "cell_type": "code",
   "execution_count": null,
   "metadata": {},
   "outputs": [],
   "source": [
    "evaluate_attack_distances(ensemble0, ensemble1, BB, BB_DATA)"
   ]
  },
  {
   "cell_type": "markdown",
   "metadata": {},
   "source": [
    "##### Data: `Trepan` on `Black Box Train` Attack: `Noisy` Explainer: `Decision Tree` Filter: `False`\n",
    "\n",
    "Here the trepan dataset was balanced and consisting of $\\approx 7000$ elements."
   ]
  },
  {
   "cell_type": "code",
   "execution_count": null,
   "metadata": {},
   "outputs": [],
   "source": [
    "PATH = Path('../../trepan/noisy/adult/experiment_output/')\n",
    "assert PATH.exists()"
   ]
  },
  {
   "cell_type": "code",
   "execution_count": null,
   "metadata": {},
   "outputs": [],
   "source": [
    "attack_0, attack_1, instances = load_attack_models(PATH)"
   ]
  },
  {
   "cell_type": "code",
   "execution_count": null,
   "metadata": {},
   "outputs": [],
   "source": [
    "ensemble0 = KClosestVotingClassifier(attack_0, instances)\n",
    "ensemble1 = KClosestVotingClassifier(attack_1, instances)"
   ]
  },
  {
   "cell_type": "code",
   "execution_count": null,
   "metadata": {},
   "outputs": [],
   "source": [
    "evaluate_attack_distances(ensemble0, ensemble1, BB, BB_DATA)"
   ]
  },
  {
   "cell_type": "markdown",
   "metadata": {},
   "source": [
    "##### Data: `Trepan` on `Black Box Train` Attack: `Noisy` Explainer: `Decision Tree` Filter: `True`\n",
    "Here the trepan dataset was balanced and consisting of $\\approx 7000$ elements."
   ]
  },
  {
   "cell_type": "code",
   "execution_count": null,
   "metadata": {},
   "outputs": [],
   "source": [
    "PATH = Path('../../trepan/noisy_filtering/adult/experiment_output/')\n",
    "assert PATH.exists()"
   ]
  },
  {
   "cell_type": "code",
   "execution_count": null,
   "metadata": {},
   "outputs": [],
   "source": [
    "attack_0, attack_1, instances = load_attack_models(PATH)"
   ]
  },
  {
   "cell_type": "code",
   "execution_count": null,
   "metadata": {},
   "outputs": [],
   "source": [
    "ensemble0 = KClosestVotingClassifier(attack_0, instances)\n",
    "ensemble1 = KClosestVotingClassifier(attack_1, instances)"
   ]
  },
  {
   "cell_type": "code",
   "execution_count": null,
   "metadata": {},
   "outputs": [],
   "source": [
    "evaluate_attack_distances(ensemble0, ensemble1, BB, BB_DATA)"
   ]
  },
  {
   "cell_type": "markdown",
   "metadata": {},
   "source": [
    "##### Data: `Trepan` on `Black Box Train` Attack: `Statistical` on `Black Box Train` Explainer: `Decision Tree` Filter: `False`\n",
    "Here the trepan dataset was balanced and consisting of $\\approx 7000$ elements."
   ]
  },
  {
   "cell_type": "code",
   "execution_count": null,
   "metadata": {},
   "outputs": [],
   "source": [
    "PATH = Path('../../trepan/statistical/adult/experiment_output/')\n",
    "assert PATH.exists()"
   ]
  },
  {
   "cell_type": "code",
   "execution_count": null,
   "metadata": {},
   "outputs": [],
   "source": [
    "attack_0, attack_1, instances = load_attack_models(PATH)"
   ]
  },
  {
   "cell_type": "code",
   "execution_count": null,
   "metadata": {},
   "outputs": [],
   "source": [
    "ensemble0 = KClosestVotingClassifier(attack_0, instances)\n",
    "ensemble1 = KClosestVotingClassifier(attack_1, instances)"
   ]
  },
  {
   "cell_type": "code",
   "execution_count": null,
   "metadata": {},
   "outputs": [],
   "source": [
    "evaluate_attack_distances(ensemble0, ensemble1, BB, BB_DATA)"
   ]
  },
  {
   "cell_type": "markdown",
   "metadata": {},
   "source": [
    "##### Data: `Trepan` on `Black Box Train` Attack: `Statistical` on `Black Box Train` Explainer: `Decision Tree` Filter: `True`\n",
    "Here the trepan dataset was balanced and consisting of $\\approx 7000$ elements."
   ]
  },
  {
   "cell_type": "code",
   "execution_count": null,
   "metadata": {},
   "outputs": [],
   "source": [
    "PATH = Path('../../trepan/statistical_filtering/adult/experiment_output/')\n",
    "assert PATH.exists()"
   ]
  },
  {
   "cell_type": "code",
   "execution_count": null,
   "metadata": {},
   "outputs": [],
   "source": [
    "attack_0, attack_1, instances = load_attack_models(PATH)"
   ]
  },
  {
   "cell_type": "code",
   "execution_count": null,
   "metadata": {},
   "outputs": [],
   "source": [
    "ensemble0 = KClosestVotingClassifier(attack_0, instances)\n",
    "ensemble1 = KClosestVotingClassifier(attack_1, instances)"
   ]
  },
  {
   "cell_type": "code",
   "execution_count": null,
   "metadata": {},
   "outputs": [],
   "source": [
    "evaluate_attack_distances(ensemble0, ensemble1, BB, BB_DATA)"
   ]
  },
  {
   "cell_type": "markdown",
   "metadata": {},
   "source": [
    "##### Data: `Trepan` on `Black Box Train` Attack: `Statistical` on `Black Box Train` Explainer: `Decision Tree` Filter: `False`\n",
    "\n",
    "Here I didn't balanced the dataset generated by trepan and for each `Decision Tree` I generated a dataset of $80,000$ elements."
   ]
  },
  {
   "cell_type": "code",
   "execution_count": null,
   "metadata": {},
   "outputs": [],
   "source": [
    "PATH = Path('../../trepan/trepan_statistical_nobalanced/adult/experiment_output/')\n",
    "assert PATH.exists()"
   ]
  },
  {
   "cell_type": "code",
   "execution_count": null,
   "metadata": {},
   "outputs": [],
   "source": [
    "attack_0, attack_1, instances = load_attack_models(PATH)"
   ]
  },
  {
   "cell_type": "code",
   "execution_count": null,
   "metadata": {},
   "outputs": [],
   "source": [
    "ensemble0 = KClosestVotingClassifier(attack_0, instances)\n",
    "ensemble1 = KClosestVotingClassifier(attack_1, instances)"
   ]
  },
  {
   "cell_type": "code",
   "execution_count": null,
   "metadata": {},
   "outputs": [],
   "source": [
    "evaluate_attack_distances(ensemble0, ensemble1, BB, BB_DATA)"
   ]
  }
 ],
 "metadata": {
  "kernelspec": {
   "display_name": "Python 3.8.10 ('venv': venv)",
   "language": "python",
   "name": "python3"
  },
  "language_info": {
   "codemirror_mode": {
    "name": "ipython",
    "version": 3
   },
   "file_extension": ".py",
   "mimetype": "text/x-python",
   "name": "python",
   "nbconvert_exporter": "python",
   "pygments_lexer": "ipython3",
   "version": "3.8.10"
  },
  "orig_nbformat": 4,
  "vscode": {
   "interpreter": {
    "hash": "19c5d3a3188652f893cd4e64043d7470541fe23a697d87860bb02bfe4b8542de"
   }
  }
 },
 "nbformat": 4,
 "nbformat_minor": 2
}
