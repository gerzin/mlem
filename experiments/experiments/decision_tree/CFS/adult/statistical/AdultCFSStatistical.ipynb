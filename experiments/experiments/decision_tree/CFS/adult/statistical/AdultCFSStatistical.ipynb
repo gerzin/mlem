{
 "cells": [
  {
   "cell_type": "markdown",
   "metadata": {},
   "source": [
    "# Attack on Adult using Decision Trees built with CFS and a Statistical Generated Dataset "
   ]
  },
  {
   "cell_type": "code",
   "execution_count": 1,
   "metadata": {},
   "outputs": [],
   "source": [
    "from pathlib import Path\n",
    "import sys\n",
    "from numba import njit\n",
    "\n",
    "UTILS_RELATIVE_PATH = \"../../../../../\"\n",
    "sys.path.append(UTILS_RELATIVE_PATH)\n",
    "\n",
    "MLEM_RELATIVE_PATH = \"../../../../../../\"\n",
    "sys.path.append(MLEM_RELATIVE_PATH)\n",
    "\n",
    "LIME_RELATIVE_PATH = \"../../../../../../lime/\"\n",
    "sys.path.append(LIME_RELATIVE_PATH)\n",
    "\n",
    "OUTPUT_FOLDER = Path(\"experiment_output\")\n",
    "OUTPUT_FOLDER.mkdir(exist_ok=True)\n",
    "\n",
    "import logging\n",
    "logging.disable('DEBUG')\n"
   ]
  },
  {
   "cell_type": "code",
   "execution_count": 2,
   "metadata": {},
   "outputs": [],
   "source": [
    "import pandas as pd\n",
    "import seaborn as sns\n",
    "import matplotlib.pyplot as plt\n",
    "sns.set_theme()\n",
    "import numpy as np\n",
    "import scipy.spatial.distance as distance\n",
    "import multiprocessing\n",
    "\n",
    "np.random.seed(4321)\n",
    "from sklearn.metrics import classification_report, ConfusionMatrixDisplay\n",
    "from sklearn.model_selection import train_test_split\n",
    "from lime.lime_tabular import LimeTabularExplainer # type: ignore\n",
    "from mlem.utilities import generate_balanced_dataset, save_pickle_bz2, load_pickle_bz2, save_txt"
   ]
  },
  {
   "cell_type": "markdown",
   "metadata": {},
   "source": [
    "importing the experiment utilities and the mlem module"
   ]
  },
  {
   "cell_type": "markdown",
   "metadata": {},
   "source": [
    "# Loading the Adult data\n",
    "\n",
    "loading the Adult RandomForest and the dictionary with all the useful data"
   ]
  },
  {
   "cell_type": "code",
   "execution_count": 3,
   "metadata": {},
   "outputs": [
    {
     "name": "stdout",
     "output_type": "stream",
     "text": [
      "              precision    recall  f1-score   support\n",
      "\n",
      "           0       0.88      0.95      0.91      8157\n",
      "           1       0.79      0.61      0.69      2690\n",
      "\n",
      "    accuracy                           0.86     10847\n",
      "   macro avg       0.84      0.78      0.80     10847\n",
      "weighted avg       0.86      0.86      0.86     10847\n",
      "\n"
     ]
    }
   ],
   "source": [
    "from utils.dataloading.adult import load_adult_data, load_adult_randomforest # type: ignore\n",
    "\n",
    "BB = load_adult_randomforest()\n",
    "BB_DATA = load_adult_data('adult-blackbox-data2.npz')\n",
    "\n",
    "print(classification_report(BB_DATA['y_test'], BB.predict(BB_DATA['X_test'])))"
   ]
  },
  {
   "cell_type": "markdown",
   "metadata": {},
   "source": [
    "# Generating the statistical dataset"
   ]
  },
  {
   "cell_type": "markdown",
   "metadata": {},
   "source": [
    "Creating a `GaussianMixture` to generate a statistical dataset with the statistics of the black box's training set"
   ]
  },
  {
   "cell_type": "code",
   "execution_count": 4,
   "metadata": {},
   "outputs": [
    {
     "name": "stdout",
     "output_type": "stream",
     "text": [
      "The number of components of the GaussianMixture is 13\n"
     ]
    }
   ],
   "source": [
    "from mlem.utilities import stat_sample_dataset, create_gaussian_mixture \n",
    "\n",
    "if not (OUTPUT_FOLDER / \"gaussian_mixture.bz2\").exists():\n",
    "    gm = create_gaussian_mixture(BB_DATA['X_train'])\n",
    "    save_pickle_bz2(OUTPUT_FOLDER / \"gaussian_mixture.bz2\", gm)\n",
    "\n",
    "gm = load_pickle_bz2(OUTPUT_FOLDER / \"gaussian_mixture.bz2\")\n",
    "print(f\"The number of components of the GaussianMixture is {gm.n_components}\")"
   ]
  },
  {
   "cell_type": "code",
   "execution_count": 5,
   "metadata": {},
   "outputs": [],
   "source": [
    "def generate_data_statistical(x, num_samples):\n",
    "    \"\"\"Generate statistical data.\n",
    "\n",
    "    Args:\n",
    "        x (instance): ignored since we are not generating aroung it, just needed for the interface\n",
    "        num_samples (int): number of samples to generate\n",
    "    \"\"\"\n",
    "    return stat_sample_dataset(n_samples=num_samples, mixture_model=gm) # using the above GaussianMixture"
   ]
  },
  {
   "cell_type": "markdown",
   "metadata": {},
   "source": [
    "# Attack on the Decision Trees to create the attack models\n",
    "\n",
    "Attack on the decision trees using a <span style=\"background: green\">statistical generated dataset</span> labeled by the decision trees to create the shadow models. The dataset elements aren't filtered using the std."
   ]
  },
  {
   "cell_type": "code",
   "execution_count": 6,
   "metadata": {},
   "outputs": [],
   "source": [
    "categorical_features_mask = BB_DATA['categorical_features_mask']"
   ]
  },
  {
   "cell_type": "markdown",
   "metadata": {},
   "source": [
    "Creating the shadow models and the attack models."
   ]
  },
  {
   "cell_type": "code",
   "execution_count": 7,
   "metadata": {},
   "outputs": [],
   "source": [
    "from mlem.shadow_models import ShadowModelsManager\n",
    "from mlem.utilities import create_adaboost\n",
    "from mlem.attack_models import AttackModelsManager, AttackStrategy"
   ]
  },
  {
   "cell_type": "code",
   "execution_count": 8,
   "metadata": {},
   "outputs": [],
   "source": [
    "def compute_statistics_local_model(dataset, true_y, local_model, black_box, output_folder, filename):\n",
    "    local_y = local_model.predict(dataset.to_numpy())\n",
    "    local_bb = black_box.predict(dataset.to_numpy())\n",
    "\n",
    "    report_local = classification_report(true_y.to_numpy(), local_y)\n",
    "    report_bb    = classification_report(true_y.to_numpy(), local_bb)\n",
    "\n",
    "    fidelity = str(pd.DataFrame(local_y == local_bb).value_counts(normalize=True))\n",
    "\n",
    "    with open(output_folder / filename, \"w\") as f:\n",
    "        f.write(\"Statistics on the noisy validation dataset\\n\")\n",
    "        \n",
    "        f.write(\"local model\\n\")\n",
    "        f.write(report_local)\n",
    "\n",
    "        f.write(\"\\nblack box\\n\")\n",
    "        f.write(report_bb)\n",
    "\n",
    "        f.write(\"\\nFidelity between the local model and the black box\\n\")\n",
    "        f.write(fidelity)"
   ]
  },
  {
   "cell_type": "markdown",
   "metadata": {},
   "source": [
    "Run the attack only if it hasn't already been run"
   ]
  },
  {
   "cell_type": "code",
   "execution_count": 9,
   "metadata": {},
   "outputs": [],
   "source": [
    "TREES_BASE_FOLDER = Path(\"../experiment_output/\")"
   ]
  },
  {
   "cell_type": "code",
   "execution_count": 10,
   "metadata": {},
   "outputs": [
    {
     "name": "stdout",
     "output_type": "stream",
     "text": [
      "[INFO OVERSAMPLE] Specified ratio too low: skipping oversampling\n",
      "[INFO OVERSAMPLE] Specified ratio too low: skipping oversampling\n",
      "[INFO OVERSAMPLE] Specified ratio too low: skipping oversampling\n",
      "[INFO OVERSAMPLE] Specified ratio too low: skipping oversampling\n",
      "[INFO OVERSAMPLE] Specified ratio too low: skipping oversampling\n",
      "[INFO OVERSAMPLE] Specified ratio too low: skipping oversampling\n",
      "[INFO OVERSAMPLE] Specified ratio too low: skipping oversampling\n",
      "[INFO OVERSAMPLE] Specified ratio too low: skipping oversampling\n",
      "[INFO OVERSAMPLE] Specified ratio too low: skipping oversampling\n",
      "[INFO OVERSAMPLE] Specified ratio too low: skipping oversampling\n",
      "[INFO OVERSAMPLE] Specified ratio too low: skipping oversampling\n",
      "[INFO OVERSAMPLE] Specified ratio too low: skipping oversampling\n",
      "[INFO OVERSAMPLE] Specified ratio too low: skipping oversampling\n",
      "[INFO OVERSAMPLE] Specified ratio too low: skipping oversampling\n",
      "[INFO OVERSAMPLE] Specified ratio too low: skipping oversampling\n",
      "[INFO OVERSAMPLE] Specified ratio too low: skipping oversampling\n",
      "[INFO OVERSAMPLE] Specified ratio too low: skipping oversampling\n",
      "[INFO OVERSAMPLE] Specified ratio too low: skipping oversampling\n",
      "[INFO OVERSAMPLE] Specified ratio too low: skipping oversampling\n",
      "[INFO OVERSAMPLE] Specified ratio too low: skipping oversampling\n",
      "[INFO OVERSAMPLE] Specified ratio too low: skipping oversampling\n",
      "[INFO OVERSAMPLE] Specified ratio too low: skipping oversampling\n",
      "[INFO OVERSAMPLE] Specified ratio too low: skipping oversampling\n",
      "[INFO OVERSAMPLE] Specified ratio too low: skipping oversampling\n",
      "[INFO OVERSAMPLE] Specified ratio too low: skipping oversampling\n",
      "[INFO OVERSAMPLE] Specified ratio too low: skipping oversampling\n",
      "[INFO OVERSAMPLE] Specified ratio too low: skipping oversampling\n",
      "[INFO OVERSAMPLE] Specified ratio too low: skipping oversampling\n",
      "[INFO OVERSAMPLE] Specified ratio too low: skipping oversampling\n",
      "[INFO OVERSAMPLE] Specified ratio too low: skipping oversampling\n",
      "[INFO OVERSAMPLE] Specified ratio too low: skipping oversampling\n",
      "[INFO OVERSAMPLE] Specified ratio too low: skipping oversampling\n",
      "[INFO OVERSAMPLE] Specified ratio too low: skipping oversampling\n",
      "[INFO OVERSAMPLE] Specified ratio too low: skipping oversampling\n",
      "[INFO OVERSAMPLE] Specified ratio too low: skipping oversampling\n",
      "[INFO OVERSAMPLE] Specified ratio too low: skipping oversampling\n",
      "[INFO OVERSAMPLE] Specified ratio too low: skipping oversampling\n",
      "[INFO OVERSAMPLE] Specified ratio too low: skipping oversampling\n",
      "[INFO OVERSAMPLE] Specified ratio too low: skipping oversampling\n",
      "[INFO OVERSAMPLE] Specified ratio too low: skipping oversampling\n",
      "[INFO OVERSAMPLE] Specified ratio too low: skipping oversampling\n",
      "[INFO OVERSAMPLE] Specified ratio too low: skipping oversampling\n",
      "[INFO OVERSAMPLE] Specified ratio too low: skipping oversampling\n",
      "[INFO OVERSAMPLE] Specified ratio too low: skipping oversampling\n",
      "[INFO OVERSAMPLE] Specified ratio too low: skipping oversampling\n",
      "[INFO OVERSAMPLE] Specified ratio too low: skipping oversampling\n",
      "[INFO OVERSAMPLE] Specified ratio too low: skipping oversampling\n",
      "[INFO OVERSAMPLE] Specified ratio too low: skipping oversampling\n",
      "[INFO OVERSAMPLE] Specified ratio too low: skipping oversampling\n",
      "[INFO OVERSAMPLE] Specified ratio too low: skipping oversampling\n",
      "[INFO OVERSAMPLE] Specified ratio too low: skipping oversampling\n",
      "[INFO OVERSAMPLE] Specified ratio too low: skipping oversampling\n",
      "[INFO OVERSAMPLE] Specified ratio too low: skipping oversampling\n",
      "[INFO OVERSAMPLE] Specified ratio too low: skipping oversampling\n",
      "[INFO OVERSAMPLE] Specified ratio too low: skipping oversampling\n",
      "[INFO OVERSAMPLE] Specified ratio too low: skipping oversampling\n",
      "[INFO OVERSAMPLE] Specified ratio too low: skipping oversampling\n",
      "[INFO OVERSAMPLE] Specified ratio too low: skipping oversampling\n",
      "[INFO OVERSAMPLE] Specified ratio too low: skipping oversampling\n",
      "[INFO OVERSAMPLE] Specified ratio too low: skipping oversampling\n",
      "[INFO OVERSAMPLE] Specified ratio too low: skipping oversampling\n",
      "[INFO OVERSAMPLE] Specified ratio too low: skipping oversampling\n",
      "[INFO OVERSAMPLE] Specified ratio too low: skipping oversampling\n",
      "[INFO OVERSAMPLE] Specified ratio too low: skipping oversampling\n",
      "[INFO OVERSAMPLE] Specified ratio too low: skipping oversampling\n",
      "[INFO OVERSAMPLE] Specified ratio too low: skipping oversampling\n",
      "[INFO OVERSAMPLE] Specified ratio too low: skipping oversampling\n",
      "[INFO OVERSAMPLE] Specified ratio too low: skipping oversampling\n",
      "[INFO OVERSAMPLE] Specified ratio too low: skipping oversampling\n",
      "[INFO OVERSAMPLE] Specified ratio too low: skipping oversampling\n",
      "[INFO OVERSAMPLE] Specified ratio too low: skipping oversampling\n",
      "[INFO OVERSAMPLE] Specified ratio too low: skipping oversampling\n",
      "[INFO OVERSAMPLE] Specified ratio too low: skipping oversampling\n",
      "[INFO OVERSAMPLE] Specified ratio too low: skipping oversampling\n",
      "[INFO OVERSAMPLE] Specified ratio too low: skipping oversampling\n",
      "[INFO OVERSAMPLE] Specified ratio too low: skipping oversampling\n",
      "[INFO OVERSAMPLE] Specified ratio too low: skipping oversampling\n",
      "[INFO OVERSAMPLE] Specified ratio too low: skipping oversampling\n",
      "[INFO OVERSAMPLE] Specified ratio too low: skipping oversampling\n",
      "[INFO OVERSAMPLE] Specified ratio too low: skipping oversampling\n",
      "[INFO OVERSAMPLE] Specified ratio too low: skipping oversampling\n",
      "[INFO OVERSAMPLE] Specified ratio too low: skipping oversampling\n",
      "[INFO OVERSAMPLE] Specified ratio too low: skipping oversampling\n",
      "[INFO OVERSAMPLE] Specified ratio too low: skipping oversampling\n",
      "[INFO OVERSAMPLE] Specified ratio too low: skipping oversampling\n",
      "[INFO OVERSAMPLE] Specified ratio too low: skipping oversampling\n",
      "[INFO OVERSAMPLE] Specified ratio too low: skipping oversampling\n",
      "[INFO OVERSAMPLE] Specified ratio too low: skipping oversampling\n",
      "[INFO OVERSAMPLE] Specified ratio too low: skipping oversampling\n",
      "[INFO OVERSAMPLE] Specified ratio too low: skipping oversampling\n",
      "[INFO OVERSAMPLE] Specified ratio too low: skipping oversampling\n",
      "[INFO OVERSAMPLE] Specified ratio too low: skipping oversampling\n",
      "[INFO OVERSAMPLE] Specified ratio too low: skipping oversampling\n",
      "[INFO OVERSAMPLE] Specified ratio too low: skipping oversampling\n",
      "[INFO OVERSAMPLE] Specified ratio too low: skipping oversampling\n",
      "[INFO OVERSAMPLE] Specified ratio too low: skipping oversampling\n",
      "[INFO OVERSAMPLE] Specified ratio too low: skipping oversampling\n",
      "[INFO OVERSAMPLE] Specified ratio too low: skipping oversampling\n",
      "[INFO OVERSAMPLE] Specified ratio too low: skipping oversampling\n",
      "[INFO OVERSAMPLE] Specified ratio too low: skipping oversampling\n",
      "[INFO OVERSAMPLE] Specified ratio too low: skipping oversampling\n",
      "[INFO OVERSAMPLE] Specified ratio too low: skipping oversampling\n",
      "[INFO OVERSAMPLE] Specified ratio too low: skipping oversampling\n",
      "[INFO OVERSAMPLE] Specified ratio too low: skipping oversampling\n",
      "[INFO OVERSAMPLE] Specified ratio too low: skipping oversampling\n",
      "[INFO OVERSAMPLE] Specified ratio too low: skipping oversampling\n",
      "[INFO OVERSAMPLE] Specified ratio too low: skipping oversampling\n",
      "[INFO OVERSAMPLE] Specified ratio too low: skipping oversampling\n",
      "[INFO OVERSAMPLE] Specified ratio too low: skipping oversampling\n",
      "[INFO OVERSAMPLE] Specified ratio too low: skipping oversampling\n",
      "[INFO OVERSAMPLE] Specified ratio too low: skipping oversampling\n",
      "[INFO OVERSAMPLE] Specified ratio too low: skipping oversampling\n",
      "[INFO OVERSAMPLE] Specified ratio too low: skipping oversampling\n",
      "[INFO OVERSAMPLE] Specified ratio too low: skipping oversampling\n",
      "[INFO OVERSAMPLE] Specified ratio too low: skipping oversampling\n",
      "[INFO OVERSAMPLE] Specified ratio too low: skipping oversampling\n",
      "[INFO OVERSAMPLE] Specified ratio too low: skipping oversampling\n",
      "[INFO OVERSAMPLE] Specified ratio too low: skipping oversampling\n",
      "[INFO OVERSAMPLE] Specified ratio too low: skipping oversampling\n",
      "[INFO OVERSAMPLE] Specified ratio too low: skipping oversampling\n",
      "[INFO OVERSAMPLE] Specified ratio too low: skipping oversampling\n",
      "[INFO OVERSAMPLE] Specified ratio too low: skipping oversampling\n",
      "[INFO OVERSAMPLE] Specified ratio too low: skipping oversampling\n",
      "[INFO OVERSAMPLE] Specified ratio too low: skipping oversampling\n",
      "[INFO OVERSAMPLE] Specified ratio too low: skipping oversampling\n",
      "[INFO OVERSAMPLE] Specified ratio too low: skipping oversampling\n",
      "[INFO OVERSAMPLE] Specified ratio too low: skipping oversampling\n",
      "[INFO OVERSAMPLE] Specified ratio too low: skipping oversampling\n",
      "[INFO OVERSAMPLE] Specified ratio too low: skipping oversampling\n",
      "[INFO OVERSAMPLE] Specified ratio too low: skipping oversampling\n",
      "[INFO OVERSAMPLE] Specified ratio too low: skipping oversampling\n",
      "[INFO OVERSAMPLE] Specified ratio too low: skipping oversampling\n",
      "[INFO OVERSAMPLE] Specified ratio too low: skipping oversampling\n",
      "[INFO OVERSAMPLE] Specified ratio too low: skipping oversampling\n",
      "[INFO OVERSAMPLE] Specified ratio too low: skipping oversampling\n",
      "[INFO OVERSAMPLE] Specified ratio too low: skipping oversampling\n",
      "[INFO OVERSAMPLE] Specified ratio too low: skipping oversampling\n",
      "[INFO OVERSAMPLE] Specified ratio too low: skipping oversampling\n",
      "[INFO OVERSAMPLE] Specified ratio too low: skipping oversampling\n",
      "[INFO OVERSAMPLE] Specified ratio too low: skipping oversampling\n",
      "[INFO OVERSAMPLE] Specified ratio too low: skipping oversampling\n",
      "[INFO OVERSAMPLE] Specified ratio too low: skipping oversampling\n",
      "[INFO OVERSAMPLE] Specified ratio too low: skipping oversampling\n",
      "[INFO OVERSAMPLE] Specified ratio too low: skipping oversampling\n",
      "[INFO OVERSAMPLE] Specified ratio too low: skipping oversampling\n",
      "[INFO OVERSAMPLE] Specified ratio too low: skipping oversampling\n",
      "[INFO OVERSAMPLE] Specified ratio too low: skipping oversampling\n",
      "[INFO OVERSAMPLE] Specified ratio too low: skipping oversampling\n",
      "[INFO OVERSAMPLE] Specified ratio too low: skipping oversampling\n",
      "[INFO OVERSAMPLE] Specified ratio too low: skipping oversampling\n",
      "[INFO OVERSAMPLE] Specified ratio too low: skipping oversampling\n",
      "[INFO OVERSAMPLE] Specified ratio too low: skipping oversampling\n",
      "[INFO OVERSAMPLE] Specified ratio too low: skipping oversampling\n",
      "[INFO OVERSAMPLE] Specified ratio too low: skipping oversampling\n",
      "[INFO OVERSAMPLE] Specified ratio too low: skipping oversampling\n",
      "[INFO OVERSAMPLE] Specified ratio too low: skipping oversampling\n",
      "[INFO OVERSAMPLE] Specified ratio too low: skipping oversampling\n",
      "[INFO OVERSAMPLE] Specified ratio too low: skipping oversampling\n",
      "[INFO OVERSAMPLE] Specified ratio too low: skipping oversampling\n",
      "[INFO OVERSAMPLE] Specified ratio too low: skipping oversampling\n",
      "[INFO OVERSAMPLE] Specified ratio too low: skipping oversampling\n",
      "[INFO OVERSAMPLE] Specified ratio too low: skipping oversampling\n",
      "[INFO OVERSAMPLE] Specified ratio too low: skipping oversampling\n",
      "[INFO OVERSAMPLE] Specified ratio too low: skipping oversampling\n",
      "[INFO OVERSAMPLE] Specified ratio too low: skipping oversampling\n",
      "[INFO OVERSAMPLE] Specified ratio too low: skipping oversampling\n",
      "[INFO OVERSAMPLE] Specified ratio too low: skipping oversampling\n",
      "[INFO OVERSAMPLE] Specified ratio too low: skipping oversampling\n",
      "[INFO OVERSAMPLE] Specified ratio too low: skipping oversampling\n",
      "[INFO OVERSAMPLE] Specified ratio too low: skipping oversampling\n",
      "[INFO OVERSAMPLE] Specified ratio too low: skipping oversampling\n",
      "[INFO OVERSAMPLE] Specified ratio too low: skipping oversampling\n",
      "[INFO OVERSAMPLE] Specified ratio too low: skipping oversampling\n",
      "[INFO OVERSAMPLE] Specified ratio too low: skipping oversampling\n",
      "[INFO OVERSAMPLE] Specified ratio too low: skipping oversampling\n",
      "[INFO OVERSAMPLE] Specified ratio too low: skipping oversampling\n",
      "[INFO OVERSAMPLE] Specified ratio too low: skipping oversampling\n",
      "[INFO OVERSAMPLE] Specified ratio too low: skipping oversampling\n",
      "[INFO OVERSAMPLE] Specified ratio too low: skipping oversampling\n",
      "[INFO OVERSAMPLE] Specified ratio too low: skipping oversampling\n",
      "[INFO OVERSAMPLE] Specified ratio too low: skipping oversampling\n",
      "[INFO OVERSAMPLE] Specified ratio too low: skipping oversampling\n",
      "[INFO OVERSAMPLE] Specified ratio too low: skipping oversampling\n",
      "[INFO OVERSAMPLE] Specified ratio too low: skipping oversampling\n",
      "[INFO OVERSAMPLE] Specified ratio too low: skipping oversampling\n",
      "[INFO OVERSAMPLE] Specified ratio too low: skipping oversampling\n",
      "[INFO OVERSAMPLE] Specified ratio too low: skipping oversampling\n",
      "[INFO OVERSAMPLE] Specified ratio too low: skipping oversampling\n",
      "[INFO OVERSAMPLE] Specified ratio too low: skipping oversampling\n"
     ]
    }
   ],
   "source": [
    "if not any([(OUTPUT_FOLDER / f\"{i}\" / \"attack\").exists() for i in range(len(BB_DATA['X_distance_separated']))]):\n",
    "    \n",
    "    for ind, path in enumerate([OUTPUT_FOLDER / f\"{i}\" for i in range(len(BB_DATA['X_distance_separated']))]):\n",
    "        # create the output folder\n",
    "        (OUTPUT_FOLDER / f\"{ind}\").mkdir(exist_ok=True)\n",
    "        \n",
    "        # load the local tree and label the noisy dataset\n",
    "        local_tree = load_pickle_bz2(TREES_BASE_FOLDER/ f\"{ind}\" / \"dt.bz2\")\n",
    "\n",
    "        statistical = generate_balanced_dataset(BB_DATA['X_distance_separated'][ind], 5000, BB, generate_data_statistical)\n",
    "        statistical_x = statistical.drop('Target', axis=1)\n",
    "        statistical_y = statistical.Target\n",
    "\n",
    "        # compute fidelity and performances on the noisy dataset.\n",
    "        compute_statistics_local_model(statistical_x, statistical_y, local_tree, BB, path, \"statistics_statisticalgenerated.txt\")\n",
    "\n",
    "        # use the \"local\" decision tree to label the statistical dataset\n",
    "        x_attack = statistical_x.to_numpy()    \n",
    "        y_attack = local_tree.predict(x_attack)\n",
    "\n",
    "        path_shadow = str(path / \"shadow\")\n",
    "\n",
    "        shadow_models = ShadowModelsManager(\n",
    "            n_models=4,\n",
    "            results_path=path_shadow,\n",
    "            test_size=0.5,\n",
    "            random_state=123,\n",
    "            model_creator_fn=create_adaboost,\n",
    "            categorical_mask=categorical_features_mask\n",
    "        )\n",
    "        \n",
    "        shadow_models.fit(x_attack, y_attack)\n",
    "\n",
    "        # extracting the dataset for the attack models\n",
    "        attack_models_dataset = shadow_models.get_attack_dataset()\n",
    "\n",
    "        # saving the attack dataset\n",
    "        attack_models_dataset.to_csv(path / \"attack_models_train_dataset.csv\", index=False)\n",
    "\n",
    "        # Creating the attack model for each label using Adaboost\n",
    "        path_attack = str(path / \"attack\")\n",
    "        attack_models = AttackModelsManager(\n",
    "                results_path=path_attack, model_creator_fn=create_adaboost, attack_strategy=AttackStrategy.ONE_PER_LABEL\n",
    "        )\n",
    "        \n",
    "        attack_models.fit(attack_models_dataset)\n",
    "else:\n",
    "    print(\"The attack models already exist\")"
   ]
  },
  {
   "cell_type": "markdown",
   "metadata": {},
   "source": [
    "By looking at the test reports of the attack models, it seems that they <span style=\"background: red\">perform bad on both classes</span> with an accuracy of $\\simeq .50$"
   ]
  },
  {
   "cell_type": "markdown",
   "metadata": {},
   "source": [
    "# Creating the ensembles"
   ]
  },
  {
   "cell_type": "code",
   "execution_count": 11,
   "metadata": {},
   "outputs": [],
   "source": [
    "from mlem.ensemble import HardVotingClassifier, SoftVotingClassifier, KMostSureVotingClassifier, KClosestVotingClassifier\n",
    "from utils.attack_evaluation import evaluate_attack"
   ]
  },
  {
   "cell_type": "code",
   "execution_count": 12,
   "metadata": {},
   "outputs": [],
   "source": [
    "attack_models_0 = [load_pickle_bz2(OUTPUT_FOLDER / f\"{i}\" / \"attack\" / \"0\" / \"model.pkl.bz2\") for i in range(len(BB_DATA['X_distance_separated']))]\n",
    "attack_models_1 = [load_pickle_bz2(OUTPUT_FOLDER / f\"{i}\" / \"attack\" / \"1\" / \"model.pkl.bz2\") for i in range(len(BB_DATA['X_distance_separated']))]"
   ]
  },
  {
   "cell_type": "markdown",
   "metadata": {},
   "source": [
    "## Hard Voting"
   ]
  },
  {
   "cell_type": "code",
   "execution_count": 13,
   "metadata": {},
   "outputs": [
    {
     "name": "stdout",
     "output_type": "stream",
     "text": [
      "report full\n",
      "              precision    recall  f1-score   support\n",
      "\n",
      "          in       0.70      0.87      0.77     24528\n",
      "         out       0.29      0.13      0.18     10530\n",
      "\n",
      "    accuracy                           0.64     35058\n",
      "   macro avg       0.50      0.50      0.48     35058\n",
      "weighted avg       0.58      0.64      0.59     35058\n",
      "\n",
      "\n",
      "Class 0\n",
      "              precision    recall  f1-score   support\n",
      "\n",
      "          in       0.70      0.97      0.81     19731\n",
      "         out       0.29      0.03      0.05      8510\n",
      "\n",
      "    accuracy                           0.69     28241\n",
      "   macro avg       0.49      0.50      0.43     28241\n",
      "weighted avg       0.57      0.69      0.58     28241\n",
      "\n",
      "\n",
      "Class 1\n",
      "              precision    recall  f1-score   support\n",
      "\n",
      "          in       0.70      0.43      0.53      4797\n",
      "         out       0.29      0.57      0.39      2020\n",
      "\n",
      "    accuracy                           0.47      6817\n",
      "   macro avg       0.50      0.50      0.46      6817\n",
      "weighted avg       0.58      0.47      0.49      6817\n",
      "\n"
     ]
    },
    {
     "data": {
      "image/png": "[encoded data removed]",
      "text/plain": [
       "<Figure size 1440x1296 with 3 Axes>"
      ]
     },
     "metadata": {},
     "output_type": "display_data"
    }
   ],
   "source": [
    "hv0 = HardVotingClassifier(classifiers=attack_models_0)\n",
    "hv1 = HardVotingClassifier(classifiers=attack_models_1)\n",
    "evaluate_attack(hv0, hv1, BB, BB_DATA)"
   ]
  },
  {
   "cell_type": "markdown",
   "metadata": {},
   "source": [
    "## Soft Voting"
   ]
  },
  {
   "cell_type": "code",
   "execution_count": 14,
   "metadata": {},
   "outputs": [
    {
     "name": "stdout",
     "output_type": "stream",
     "text": [
      "report full\n",
      "              precision    recall  f1-score   support\n",
      "\n",
      "          in       0.70      0.95      0.81     25308\n",
      "         out       0.31      0.05      0.09     10847\n",
      "\n",
      "    accuracy                           0.68     36155\n",
      "   macro avg       0.50      0.50      0.45     36155\n",
      "weighted avg       0.58      0.68      0.59     36155\n",
      "\n",
      "\n",
      "Class 0\n",
      "              precision    recall  f1-score   support\n",
      "\n",
      "          in       0.70      0.96      0.81     20353\n",
      "         out       0.30      0.04      0.07      8766\n",
      "\n",
      "    accuracy                           0.68     29119\n",
      "   macro avg       0.50      0.50      0.44     29119\n",
      "weighted avg       0.58      0.68      0.59     29119\n",
      "\n",
      "\n",
      "Class 1\n",
      "              precision    recall  f1-score   support\n",
      "\n",
      "          in       0.71      0.90      0.79      4955\n",
      "         out       0.32      0.11      0.16      2081\n",
      "\n",
      "    accuracy                           0.67      7036\n",
      "   macro avg       0.52      0.51      0.48      7036\n",
      "weighted avg       0.59      0.67      0.61      7036\n",
      "\n"
     ]
    },
    {
     "data": {
      "image/png": "[encoded data removed]",
      "text/plain": [
       "<Figure size 1440x1296 with 3 Axes>"
      ]
     },
     "metadata": {},
     "output_type": "display_data"
    }
   ],
   "source": [
    "sv0 = SoftVotingClassifier(classifiers=attack_models_0)\n",
    "sv1 = SoftVotingClassifier(classifiers=attack_models_1)\n",
    "evaluate_attack(sv0, sv1, BB, BB_DATA)"
   ]
  }
 ],
 "metadata": {
  "kernelspec": {
   "display_name": "Python 3.8.10 ('venv': venv)",
   "language": "python",
   "name": "python3"
  },
  "language_info": {
   "codemirror_mode": {
    "name": "ipython",
    "version": 3
   },
   "file_extension": ".py",
   "mimetype": "text/x-python",
   "name": "python",
   "nbconvert_exporter": "python",
   "pygments_lexer": "ipython3",
   "version": "3.8.10"
  },
  "orig_nbformat": 4,
  "vscode": {
   "interpreter": {
    "hash": "19c5d3a3188652f893cd4e64043d7470541fe23a697d87860bb02bfe4b8542de"
   }
  }
 },
 "nbformat": 4,
 "nbformat_minor": 2
}
