{
 "cells": [
  {
   "cell_type": "markdown",
   "metadata": {},
   "source": [
    "# Attack on Diva using trepan, a Decision Tree and the statistical dataset\n",
    "\n",
    "The attack is run on the distance-separated elements **with** filtering."
   ]
  },
  {
   "cell_type": "code",
   "execution_count": 1,
   "metadata": {},
   "outputs": [],
   "source": [
    "from pathlib import Path\n",
    "import sys\n",
    "from numba import njit\n",
    "\n",
    "UTILS_RELATIVE_PATH = \"../../../../../\"\n",
    "sys.path.append(UTILS_RELATIVE_PATH)\n",
    "\n",
    "MLEM_RELATIVE_PATH = \"../../../../../../\"\n",
    "sys.path.append(MLEM_RELATIVE_PATH)\n",
    "\n",
    "LIME_RELATIVE_PATH = \"../../../../../../lime/\"\n",
    "sys.path.append(LIME_RELATIVE_PATH)\n",
    "\n",
    "OUTPUT_FOLDER = Path(\"experiment_output\")\n",
    "OUTPUT_FOLDER.mkdir(exist_ok=True)\n",
    "\n",
    "import logging\n",
    "logging.disable('DEBUG')\n"
   ]
  },
  {
   "cell_type": "code",
   "execution_count": 2,
   "metadata": {},
   "outputs": [],
   "source": [
    "import pandas as pd\n",
    "import seaborn as sns\n",
    "import matplotlib.pyplot as plt\n",
    "sns.set_theme()\n",
    "import numpy as np\n",
    "import scipy.spatial.distance as distance\n",
    "import multiprocessing\n",
    "\n",
    "np.random.seed(4321)\n",
    "from sklearn.metrics import classification_report, ConfusionMatrixDisplay\n",
    "from sklearn.model_selection import train_test_split\n",
    "from lime.lime_tabular import LimeTabularExplainer # type: ignore\n",
    "from mlem.utilities import generate_balanced_dataset, save_pickle_bz2, load_pickle_bz2, save_txt"
   ]
  },
  {
   "cell_type": "markdown",
   "metadata": {},
   "source": [
    "importing the experiment utilities and the mlem module"
   ]
  },
  {
   "cell_type": "markdown",
   "metadata": {},
   "source": [
    "# Loading the Diva data\n",
    "\n",
    "loading the Diva RandomForest and the dictionary with all the useful data"
   ]
  },
  {
   "cell_type": "code",
   "execution_count": 3,
   "metadata": {},
   "outputs": [
    {
     "name": "stdout",
     "output_type": "stream",
     "text": [
      "              precision    recall  f1-score   support\n",
      "\n",
      "           0       0.92      0.95      0.94      2094\n",
      "           1       0.85      0.77      0.81       745\n",
      "\n",
      "    accuracy                           0.90      2839\n",
      "   macro avg       0.89      0.86      0.87      2839\n",
      "weighted avg       0.90      0.90      0.90      2839\n",
      "\n"
     ]
    }
   ],
   "source": [
    "from utils.dataloading.diva import load_diva_data, load_diva_randomforest # type: ignore\n",
    "\n",
    "BB = load_diva_randomforest()\n",
    "BB_DATA = load_diva_data()\n",
    "\n",
    "print(classification_report(BB_DATA['y_test'], BB.predict(BB_DATA['X_test'])))"
   ]
  },
  {
   "cell_type": "markdown",
   "metadata": {},
   "source": [
    "# Creating the data generator"
   ]
  },
  {
   "cell_type": "code",
   "execution_count": 4,
   "metadata": {},
   "outputs": [],
   "source": [
    "from utils.filtering import filter_elements_std"
   ]
  },
  {
   "cell_type": "code",
   "execution_count": 5,
   "metadata": {},
   "outputs": [],
   "source": [
    "from utils.trepan.trepan_generation import TrePanGenerator\n",
    "generator = TrePanGenerator(oracle=BB, oracle_type=\"rf\")\n"
   ]
  },
  {
   "cell_type": "code",
   "execution_count": 6,
   "metadata": {},
   "outputs": [],
   "source": [
    "def generate_data_trepan(x, num_samples):\n",
    "    # num samples is ignored\n",
    "    gen = generator.generate(BB_DATA['X_train'], size = 20000)\n",
    "    labels_bb = gen[:, -1]\n",
    "    features = np.delete(gen, -1, axis=1)\n",
    "    # the labeling by the BB is done again by the generate_balanced_dataset\n",
    "    return features"
   ]
  },
  {
   "cell_type": "markdown",
   "metadata": {},
   "source": [
    "# Creating the statistical data generator"
   ]
  },
  {
   "cell_type": "markdown",
   "metadata": {},
   "source": [
    "Using a `GaussianMixture` to generate a statistical dataset with the statistics of the black box's training set. The statistical dataset is filtered in order to keep the point closest to the instance."
   ]
  },
  {
   "cell_type": "code",
   "execution_count": 7,
   "metadata": {},
   "outputs": [
    {
     "name": "stdout",
     "output_type": "stream",
     "text": [
      "The number of components of the GaussianMixture is 5\n"
     ]
    }
   ],
   "source": [
    "from mlem.utilities import stat_sample_dataset, create_gaussian_mixture\n",
    "\n",
    "if not (OUTPUT_FOLDER / \"gaussian_mixture.bz2\").exists():\n",
    "    gm = create_gaussian_mixture(BB_DATA['X_train'])\n",
    "    save_pickle_bz2(OUTPUT_FOLDER / \"gaussian_mixture.bz2\", gm)\n",
    "\n",
    "gm = load_pickle_bz2(OUTPUT_FOLDER / \"gaussian_mixture.bz2\")\n",
    "print(f\"The number of components of the GaussianMixture is {gm.n_components}\")"
   ]
  },
  {
   "cell_type": "code",
   "execution_count": 8,
   "metadata": {},
   "outputs": [],
   "source": [
    "def generate_data_statistical_std(x, num_samples):\n",
    "    \"\"\"Generate statistical data.\n",
    "\n",
    "    Args:\n",
    "        x (instance): ignored since we are not generating aroung it, just needed for the interface\n",
    "        num_samples (int): number of samples to generate\n",
    "    \"\"\"\n",
    "    return stat_sample_dataset(n_samples=num_samples, mixture_model=gm) # using the above GaussianMixture"
   ]
  },
  {
   "cell_type": "markdown",
   "metadata": {},
   "source": [
    "# Generating the lime datasets"
   ]
  },
  {
   "cell_type": "code",
   "execution_count": 9,
   "metadata": {},
   "outputs": [],
   "source": [
    "test_representatives_x = BB_DATA['X_distance_separated']\n",
    "test_representatives_y = BB_DATA['y_distance_separated']\n",
    "n_datasets = len(test_representatives_x)"
   ]
  },
  {
   "cell_type": "code",
   "execution_count": 10,
   "metadata": {},
   "outputs": [],
   "source": [
    "# from genericpath import isdir\n",
    "# import shutil\n",
    "# # cleaning function to delete all but the trepan generated stuff\n",
    "\n",
    "# for p in [(OUTPUT_FOLDER / f\"{i}\") for i in range(len(test_representatives_x))]:\n",
    "#     for base in (\"attack\", \"shadow\", \"attack_models_train_dataset.csv\", \"dt.bz2\", \"statistics_noisy.txt\", \"dt_report_fidelity.txt\"):\n",
    "#         pp = p / base\n",
    "#         if pp.exists():\n",
    "#             if pp.is_dir():\n",
    "#                 shutil.rmtree(pp)\n",
    "#             else:\n",
    "#                 pp.unlink()"
   ]
  },
  {
   "cell_type": "code",
   "execution_count": 11,
   "metadata": {},
   "outputs": [],
   "source": [
    "def generate_and_save(index, instance):\n",
    "    # wrapper of the above functions to be able to generate the datasets in parallel\n",
    "    output_path = OUTPUT_FOLDER / f\"{index}\"\n",
    "    output_path.mkdir(exist_ok=True)\n",
    "    balanced_dataset = generate_balanced_dataset(instance, 5000, BB, generate_data_trepan, filter_function=filter_elements_std)\n",
    "    balanced_dataset.to_csv(output_path / \"trepan_generated.csv\", index=False)\n",
    "    with open(output_path / \"instance.npy\", \"wb\") as f:\n",
    "        np.save(f, instance)\n",
    "\n",
    "\n",
    "if not any([Path(OUTPUT_FOLDER / f\"{j}\" / \"trepan_generated.csv\").exists() for j in range(len(test_representatives_x))]):\n",
    "    # with torch.multiprocessing.Pool(processes=8) as pool:\n",
    "    #     pool.starmap(generate_and_save, [*enumerate(test_representatives_x)])\n",
    "    for i, el in enumerate(test_representatives_x):\n",
    "        generate_and_save(i, el)\n",
    "else:\n",
    "    print(\"The trepan generated datasets already exist\")"
   ]
  },
  {
   "cell_type": "markdown",
   "metadata": {},
   "source": [
    "# Creating the Decision Trees"
   ]
  },
  {
   "cell_type": "markdown",
   "metadata": {},
   "source": [
    "Creating the decision trees <span style=\"color:red\"> if they don't already exist </span>."
   ]
  },
  {
   "cell_type": "code",
   "execution_count": 12,
   "metadata": {},
   "outputs": [],
   "source": [
    "from mlem.utilities import create_decision_tree\n",
    "from utils.attack_evaluation.measures import compute_fidelity_and_reports, save_fidelity_and_reports\n",
    "\n",
    "def train_decision_tree(datapath, model_name):\n",
    "    lime_dataset = pd.read_csv(datapath / \"trepan_generated.csv\")\n",
    "    X_train, X_test, y_train, y_test = train_test_split(lime_dataset.drop('Target', axis=1).to_numpy(), lime_dataset.Target.to_numpy(), test_size=0.33, random_state=42)\n",
    "    model_path = datapath / model_name\n",
    "    if not model_path.exists():\n",
    "        dt = create_decision_tree(X_train, y_train, use_halving=True, n_jobs=1) \n",
    "        save_pickle_bz2(model_path, dt)\n",
    "        statistics = compute_fidelity_and_reports([(\"trepan_generated_test\", X_test, y_test), (\"bb_test_set\", BB_DATA['X_test'], BB_DATA['y_test'])], (\"decision_tree\", dt), (\"black_box\", BB))\n",
    "        save_fidelity_and_reports(datapath / \"dt_report_fidelity.txt\", statistics)\n",
    "        # save_txt(datapath / \"dt_classification_report.txt\", classification_report(y_test, dt.predict(X_test)))"
   ]
  },
  {
   "cell_type": "code",
   "execution_count": 13,
   "metadata": {},
   "outputs": [],
   "source": [
    "models_name = \"dt.bz2\"\n",
    "if not any([Path(OUTPUT_FOLDER / f\"{j}\" / \"dt.bz2\").exists() for j in range(len(test_representatives_x))]):\n",
    "    with multiprocessing.Pool(8) as pool:\n",
    "        pool.starmap(train_decision_tree, [(Path(OUTPUT_FOLDER / f\"{i}\"), models_name) for i in range(len(test_representatives_x))])\n",
    "else:\n",
    "    print(\"The DecisionTrees already exist\")"
   ]
  },
  {
   "cell_type": "markdown",
   "metadata": {},
   "source": [
    "# Attack on the Decision Trees to create the attack models\n",
    "\n",
    "Attack on the decision trees using the <span style=\"background: green\">noisy dataset</span> labeled by the decision trees to create the shadow models."
   ]
  },
  {
   "cell_type": "code",
   "execution_count": 14,
   "metadata": {},
   "outputs": [],
   "source": [
    "noisy_dataset_x = pd.DataFrame(BB_DATA['X_validation_noisy'])\n",
    "noisy_dataset_y = pd.DataFrame(BB_DATA['y_validation_noisy'])\n",
    "categorical_features_mask = BB_DATA['categorical_features_mask']"
   ]
  },
  {
   "cell_type": "markdown",
   "metadata": {},
   "source": [
    "Creating the shadow models and the attack models."
   ]
  },
  {
   "cell_type": "code",
   "execution_count": 15,
   "metadata": {},
   "outputs": [],
   "source": [
    "from mlem.shadow_models import ShadowModelsManager\n",
    "from mlem.utilities import create_adaboost\n",
    "from mlem.attack_models import AttackModelsManager, AttackStrategy"
   ]
  },
  {
   "cell_type": "code",
   "execution_count": 16,
   "metadata": {},
   "outputs": [],
   "source": [
    "def compute_statistics_local_model(dataset, true_y, local_model, black_box, output_folder, filename):\n",
    "    local_y = local_model.predict(dataset.to_numpy())\n",
    "    local_bb = black_box.predict(dataset.to_numpy())\n",
    "\n",
    "    report_local = classification_report(true_y.to_numpy(), local_y)\n",
    "    report_bb    = classification_report(true_y.to_numpy(), local_bb)\n",
    "\n",
    "    fidelity = str(pd.DataFrame(local_y == local_bb).value_counts(normalize=True))\n",
    "\n",
    "    with open(output_folder / filename, \"w\") as f:\n",
    "        f.write(\"Statistics on the noisy validation dataset\\n\")\n",
    "        \n",
    "        f.write(\"local model\\n\")\n",
    "        f.write(report_local)\n",
    "\n",
    "        f.write(\"\\nblack box\\n\")\n",
    "        f.write(report_bb)\n",
    "\n",
    "        f.write(\"\\nFidelity between the local model and the black box\\n\")\n",
    "        f.write(fidelity)"
   ]
  },
  {
   "cell_type": "markdown",
   "metadata": {},
   "source": [
    "Run the attack only if it hasn't already been run"
   ]
  },
  {
   "cell_type": "code",
   "execution_count": 17,
   "metadata": {},
   "outputs": [
    {
     "name": "stdout",
     "output_type": "stream",
     "text": [
      "[INFO OVERSAMPLE] Specified ratio too low: skipping oversampling\n",
      "[INFO OVERSAMPLE] Specified ratio too low: skipping oversampling\n",
      "Attack on experiment_output/0 completed\n",
      "[INFO OVERSAMPLE] Specified ratio too low: skipping oversampling\n",
      "[INFO OVERSAMPLE] Specified ratio too low: skipping oversampling\n",
      "Attack on experiment_output/1 completed\n",
      "[INFO OVERSAMPLE] Specified ratio too low: skipping oversampling\n",
      "[INFO OVERSAMPLE] Specified ratio too low: skipping oversampling\n",
      "Attack on experiment_output/2 completed\n",
      "[INFO OVERSAMPLE] Specified ratio too low: skipping oversampling\n",
      "[INFO OVERSAMPLE] Specified ratio too low: skipping oversampling\n",
      "Attack on experiment_output/3 completed\n",
      "[INFO OVERSAMPLE] Specified ratio too low: skipping oversampling\n",
      "[INFO OVERSAMPLE] Specified ratio too low: skipping oversampling\n",
      "Attack on experiment_output/4 completed\n",
      "[INFO OVERSAMPLE] Specified ratio too low: skipping oversampling\n",
      "[INFO OVERSAMPLE] Specified ratio too low: skipping oversampling\n",
      "Attack on experiment_output/5 completed\n",
      "[INFO OVERSAMPLE] Specified ratio too low: skipping oversampling\n",
      "[INFO OVERSAMPLE] Specified ratio too low: skipping oversampling\n",
      "Attack on experiment_output/6 completed\n",
      "[INFO OVERSAMPLE] Specified ratio too low: skipping oversampling\n",
      "[INFO OVERSAMPLE] Specified ratio too low: skipping oversampling\n",
      "Attack on experiment_output/7 completed\n",
      "[INFO OVERSAMPLE] Specified ratio too low: skipping oversampling\n",
      "[INFO OVERSAMPLE] Specified ratio too low: skipping oversampling\n",
      "Attack on experiment_output/8 completed\n",
      "[INFO OVERSAMPLE] Specified ratio too low: skipping oversampling\n",
      "[INFO OVERSAMPLE] Specified ratio too low: skipping oversampling\n",
      "Attack on experiment_output/9 completed\n",
      "[INFO OVERSAMPLE] Specified ratio too low: skipping oversampling\n",
      "[INFO OVERSAMPLE] Specified ratio too low: skipping oversampling\n",
      "Attack on experiment_output/10 completed\n",
      "[INFO OVERSAMPLE] Specified ratio too low: skipping oversampling\n",
      "Attack on experiment_output/11 completed\n",
      "[INFO OVERSAMPLE] Specified ratio too low: skipping oversampling\n",
      "[INFO OVERSAMPLE] Specified ratio too low: skipping oversampling\n",
      "Attack on experiment_output/12 completed\n",
      "[INFO OVERSAMPLE] Specified ratio too low: skipping oversampling\n",
      "[INFO OVERSAMPLE] Specified ratio too low: skipping oversampling\n",
      "Attack on experiment_output/13 completed\n",
      "[INFO OVERSAMPLE] Specified ratio too low: skipping oversampling\n",
      "[INFO OVERSAMPLE] Specified ratio too low: skipping oversampling\n",
      "Attack on experiment_output/14 completed\n",
      "[INFO OVERSAMPLE] Specified ratio too low: skipping oversampling\n",
      "[INFO OVERSAMPLE] Specified ratio too low: skipping oversampling\n",
      "Attack on experiment_output/15 completed\n",
      "[INFO OVERSAMPLE] Specified ratio too low: skipping oversampling\n",
      "[INFO OVERSAMPLE] Specified ratio too low: skipping oversampling\n",
      "Attack on experiment_output/16 completed\n",
      "[INFO OVERSAMPLE] Specified ratio too low: skipping oversampling\n",
      "[INFO OVERSAMPLE] Specified ratio too low: skipping oversampling\n",
      "Attack on experiment_output/17 completed\n",
      "[INFO OVERSAMPLE] Specified ratio too low: skipping oversampling\n",
      "[INFO OVERSAMPLE] Specified ratio too low: skipping oversampling\n",
      "Attack on experiment_output/18 completed\n",
      "[INFO OVERSAMPLE] Specified ratio too low: skipping oversampling\n",
      "[INFO OVERSAMPLE] Specified ratio too low: skipping oversampling\n",
      "Attack on experiment_output/19 completed\n",
      "[INFO OVERSAMPLE] Specified ratio too low: skipping oversampling\n",
      "[INFO OVERSAMPLE] Specified ratio too low: skipping oversampling\n",
      "Attack on experiment_output/20 completed\n",
      "[INFO OVERSAMPLE] Specified ratio too low: skipping oversampling\n",
      "[INFO OVERSAMPLE] Specified ratio too low: skipping oversampling\n",
      "Attack on experiment_output/21 completed\n",
      "[INFO OVERSAMPLE] Specified ratio too low: skipping oversampling\n",
      "[INFO OVERSAMPLE] Specified ratio too low: skipping oversampling\n",
      "Attack on experiment_output/22 completed\n",
      "[INFO OVERSAMPLE] Specified ratio too low: skipping oversampling\n",
      "[INFO OVERSAMPLE] Specified ratio too low: skipping oversampling\n",
      "Attack on experiment_output/23 completed\n",
      "[INFO OVERSAMPLE] Specified ratio too low: skipping oversampling\n",
      "[INFO OVERSAMPLE] Specified ratio too low: skipping oversampling\n",
      "Attack on experiment_output/24 completed\n",
      "[INFO OVERSAMPLE] Specified ratio too low: skipping oversampling\n",
      "[INFO OVERSAMPLE] Specified ratio too low: skipping oversampling\n",
      "Attack on experiment_output/25 completed\n",
      "[INFO OVERSAMPLE] Specified ratio too low: skipping oversampling\n",
      "[INFO OVERSAMPLE] Specified ratio too low: skipping oversampling\n",
      "Attack on experiment_output/26 completed\n",
      "[INFO OVERSAMPLE] Specified ratio too low: skipping oversampling\n",
      "[INFO OVERSAMPLE] Specified ratio too low: skipping oversampling\n",
      "Attack on experiment_output/27 completed\n",
      "[INFO OVERSAMPLE] Specified ratio too low: skipping oversampling\n",
      "[INFO OVERSAMPLE] Specified ratio too low: skipping oversampling\n",
      "Attack on experiment_output/28 completed\n",
      "[INFO OVERSAMPLE] Specified ratio too low: skipping oversampling\n",
      "[INFO OVERSAMPLE] Specified ratio too low: skipping oversampling\n",
      "Attack on experiment_output/29 completed\n",
      "[INFO OVERSAMPLE] Specified ratio too low: skipping oversampling\n",
      "[INFO OVERSAMPLE] Specified ratio too low: skipping oversampling\n",
      "Attack on experiment_output/30 completed\n",
      "[INFO OVERSAMPLE] Specified ratio too low: skipping oversampling\n",
      "[INFO OVERSAMPLE] Specified ratio too low: skipping oversampling\n",
      "Attack on experiment_output/31 completed\n",
      "[INFO OVERSAMPLE] Specified ratio too low: skipping oversampling\n",
      "[INFO OVERSAMPLE] Specified ratio too low: skipping oversampling\n",
      "Attack on experiment_output/32 completed\n",
      "[INFO OVERSAMPLE] Specified ratio too low: skipping oversampling\n",
      "[INFO OVERSAMPLE] Specified ratio too low: skipping oversampling\n",
      "Attack on experiment_output/33 completed\n",
      "[INFO OVERSAMPLE] Specified ratio too low: skipping oversampling\n",
      "[INFO OVERSAMPLE] Specified ratio too low: skipping oversampling\n",
      "Attack on experiment_output/34 completed\n",
      "[INFO OVERSAMPLE] Specified ratio too low: skipping oversampling\n",
      "[INFO OVERSAMPLE] Specified ratio too low: skipping oversampling\n",
      "Attack on experiment_output/35 completed\n",
      "[INFO OVERSAMPLE] Specified ratio too low: skipping oversampling\n",
      "[INFO OVERSAMPLE] Specified ratio too low: skipping oversampling\n",
      "Attack on experiment_output/36 completed\n",
      "[INFO OVERSAMPLE] Specified ratio too low: skipping oversampling\n",
      "[INFO OVERSAMPLE] Specified ratio too low: skipping oversampling\n",
      "Attack on experiment_output/37 completed\n",
      "[INFO OVERSAMPLE] Specified ratio too low: skipping oversampling\n",
      "[INFO OVERSAMPLE] Specified ratio too low: skipping oversampling\n",
      "Attack on experiment_output/38 completed\n",
      "[INFO OVERSAMPLE] Specified ratio too low: skipping oversampling\n",
      "[INFO OVERSAMPLE] Specified ratio too low: skipping oversampling\n",
      "Attack on experiment_output/39 completed\n"
     ]
    }
   ],
   "source": [
    "if not any([(OUTPUT_FOLDER / f\"{i}\" / \"attack\").exists() for i in range(len(test_representatives_x))]):\n",
    "    \n",
    "    for ind, path in enumerate([OUTPUT_FOLDER / f\"{i}\" for i in range(len(test_representatives_x))]):\n",
    "        \n",
    "        if (path / \"dt.bz2\").exists():\n",
    "        # load the local tree and label the noisy dataset\n",
    "            local_tree = load_pickle_bz2(path / \"dt.bz2\")\n",
    "\n",
    "            # here the first argument is ignored\n",
    "            statistical = generate_balanced_dataset(test_representatives_x[ind], 5000, BB, generate_data_statistical_std)\n",
    "            statistical_x = statistical.drop('Target', axis=1)\n",
    "            statistical_y = statistical.Target\n",
    "\n",
    "            # compute fidelity and performances on the noisy dataset.\n",
    "            compute_statistics_local_model(statistical_x, statistical_y, local_tree, BB, path, \"statistics_statisticalgenerated.txt\")\n",
    "\n",
    "             # use the \"local\" decision tree to label the statistical dataset\n",
    "            x_attack = statistical_x.to_numpy()    \n",
    "            y_attack = local_tree.predict(x_attack)\n",
    "            \n",
    "            path_shadow = str(path / \"shadow\")\n",
    "\n",
    "            shadow_models = ShadowModelsManager(\n",
    "                n_models=4,\n",
    "                results_path=path_shadow,\n",
    "                test_size=0.5,\n",
    "                random_state=123,\n",
    "                model_creator_fn=create_adaboost,\n",
    "                categorical_mask=categorical_features_mask\n",
    "            )\n",
    "            # x_attack is the noisy dataset\n",
    "            shadow_models.fit(x_attack, y_attack)\n",
    "\n",
    "            # extracting the dataset for the attack models\n",
    "            attack_models_dataset = shadow_models.get_attack_dataset()\n",
    "\n",
    "            # saving the attack dataset\n",
    "            attack_models_dataset.to_csv(path / \"attack_models_train_dataset.csv\", index=False)\n",
    "\n",
    "            # Creating the attack model for each label using Adaboost\n",
    "            path_attack = str(path / \"attack\")\n",
    "            attack_models = AttackModelsManager(\n",
    "                    results_path=path_attack, model_creator_fn=create_adaboost, attack_strategy=AttackStrategy.ONE_PER_LABEL\n",
    "            )\n",
    "            \n",
    "            attack_models.fit(attack_models_dataset)\n",
    "            print(f\"Attack on {path} completed\")\n",
    "        else:\n",
    "            print(f\"Couldn't find model at {path}\")\n",
    "else:\n",
    "    print(\"The attack models already exist\")"
   ]
  },
  {
   "cell_type": "markdown",
   "metadata": {},
   "source": [
    "By looking at the test reports of the attack models, it seems that they <span style=\"background: green\">perform better on the class 1</span> with an accuracy of $\\simeq .62$, while the accuracy on the class 0 is $\\simeq .51$."
   ]
  },
  {
   "cell_type": "markdown",
   "metadata": {},
   "source": [
    "# Creating the ensembles"
   ]
  },
  {
   "cell_type": "code",
   "execution_count": 18,
   "metadata": {},
   "outputs": [],
   "source": [
    "from mlem.ensemble import HardVotingClassifier, SoftVotingClassifier, KMostSureVotingClassifier\n",
    "from utils.attack_evaluation import evaluate_attack"
   ]
  },
  {
   "cell_type": "code",
   "execution_count": 19,
   "metadata": {},
   "outputs": [
    {
     "name": "stdout",
     "output_type": "stream",
     "text": [
      "0 1 2 3 4 5 6 7 8 9 10 11 12 13 14 15 16 17 18 19 20 21 22 23 24 25 26 27 28 29 30 31 32 33 34 35 36 37 38 39\n"
     ]
    }
   ],
   "source": [
    "def check_exists(i):\n",
    "    atkm0 = (OUTPUT_FOLDER / f\"{i}\" / \"attack\" / \"0\" / \"model.pkl.bz2\").exists()\n",
    "    return atkm0 and (OUTPUT_FOLDER / f\"{i}\" / \"attack\" / \"1\" / \"model.pkl.bz2\").exists()\n",
    "ATTACK_MODELS_NUMBERS = [i for i in range(len(test_representatives_x)) if  check_exists(i)]\n",
    "print(*ATTACK_MODELS_NUMBERS, sep=\" \")    \n",
    "attack_models_0 = [load_pickle_bz2(OUTPUT_FOLDER / f\"{i}\" / \"attack\" / \"0\" / \"model.pkl.bz2\") for i in ATTACK_MODELS_NUMBERS]\n",
    "attack_models_1 = [load_pickle_bz2(OUTPUT_FOLDER / f\"{i}\" / \"attack\" / \"1\" / \"model.pkl.bz2\") for i in ATTACK_MODELS_NUMBERS]"
   ]
  },
  {
   "cell_type": "markdown",
   "metadata": {},
   "source": [
    "## Hard Voting"
   ]
  },
  {
   "cell_type": "code",
   "execution_count": 20,
   "metadata": {},
   "outputs": [],
   "source": [
    "hv0 = HardVotingClassifier(classifiers=attack_models_0)\n",
    "hv1 = HardVotingClassifier(classifiers=attack_models_1)"
   ]
  },
  {
   "cell_type": "code",
   "execution_count": 21,
   "metadata": {},
   "outputs": [
    {
     "name": "stdout",
     "output_type": "stream",
     "text": [
      "report full\n",
      "              precision    recall  f1-score   support\n",
      "\n",
      "          in       0.71      0.88      0.79      1942\n",
      "         out       0.39      0.17      0.24       846\n",
      "\n",
      "    accuracy                           0.67      2788\n",
      "   macro avg       0.55      0.53      0.52      2788\n",
      "weighted avg       0.61      0.67      0.62      2788\n",
      "\n",
      "\n",
      "Class 0\n",
      "              precision    recall  f1-score   support\n",
      "\n",
      "          in       0.66      0.45      0.53       400\n",
      "         out       0.39      0.60      0.47       236\n",
      "\n",
      "    accuracy                           0.51       636\n",
      "   macro avg       0.52      0.53      0.50       636\n",
      "weighted avg       0.56      0.51      0.51       636\n",
      "\n",
      "\n",
      "Class 1\n",
      "              precision    recall  f1-score   support\n",
      "\n",
      "          in       0.72      1.00      0.83      1542\n",
      "         out       0.46      0.01      0.02       610\n",
      "\n",
      "    accuracy                           0.72      2152\n",
      "   macro avg       0.59      0.50      0.43      2152\n",
      "weighted avg       0.65      0.72      0.60      2152\n",
      "\n"
     ]
    },
    {
     "data": {
      "image/png": "[encoded data removed]",
      "text/plain": [
       "<Figure size 1440x1296 with 3 Axes>"
      ]
     },
     "metadata": {},
     "output_type": "display_data"
    }
   ],
   "source": [
    "evaluate_attack(hv0, hv1, BB, BB_DATA)"
   ]
  },
  {
   "cell_type": "markdown",
   "metadata": {},
   "source": [
    "## Soft Voting"
   ]
  },
  {
   "cell_type": "code",
   "execution_count": 22,
   "metadata": {},
   "outputs": [],
   "source": [
    "sv0 = SoftVotingClassifier(classifiers=attack_models_0)\n",
    "sv1 = SoftVotingClassifier(classifiers=attack_models_1)"
   ]
  },
  {
   "cell_type": "code",
   "execution_count": 23,
   "metadata": {},
   "outputs": [
    {
     "name": "stderr",
     "output_type": "stream",
     "text": [
      "/home/gzinno/mlem/venv/lib/python3.8/site-packages/sklearn/metrics/_classification.py:1327: UndefinedMetricWarning: Precision and F-score are ill-defined and being set to 0.0 in labels with no predicted samples. Use `zero_division` parameter to control this behavior.\n",
      "  _warn_prf(average, modifier, msg_start, len(result))\n",
      "/home/gzinno/mlem/venv/lib/python3.8/site-packages/sklearn/metrics/_classification.py:1327: UndefinedMetricWarning: Precision and F-score are ill-defined and being set to 0.0 in labels with no predicted samples. Use `zero_division` parameter to control this behavior.\n",
      "  _warn_prf(average, modifier, msg_start, len(result))\n",
      "/home/gzinno/mlem/venv/lib/python3.8/site-packages/sklearn/metrics/_classification.py:1327: UndefinedMetricWarning: Precision and F-score are ill-defined and being set to 0.0 in labels with no predicted samples. Use `zero_division` parameter to control this behavior.\n",
      "  _warn_prf(average, modifier, msg_start, len(result))\n"
     ]
    },
    {
     "name": "stdout",
     "output_type": "stream",
     "text": [
      "report full\n",
      "              precision    recall  f1-score   support\n",
      "\n",
      "          in       0.71      0.27      0.39      6624\n",
      "         out       0.30      0.74      0.43      2839\n",
      "\n",
      "    accuracy                           0.41      9463\n",
      "   macro avg       0.50      0.50      0.41      9463\n",
      "weighted avg       0.59      0.41      0.40      9463\n",
      "\n",
      "\n",
      "Class 0\n",
      "              precision    recall  f1-score   support\n",
      "\n",
      "          in       0.66      0.03      0.05      4965\n",
      "         out       0.30      0.97      0.46      2165\n",
      "\n",
      "    accuracy                           0.31      7130\n",
      "   macro avg       0.48      0.50      0.26      7130\n",
      "weighted avg       0.55      0.31      0.18      7130\n",
      "\n",
      "\n",
      "Class 1\n",
      "              precision    recall  f1-score   support\n",
      "\n",
      "          in       0.71      1.00      0.83      1659\n",
      "         out       0.00      0.00      0.00       674\n",
      "\n",
      "    accuracy                           0.71      2333\n",
      "   macro avg       0.36      0.50      0.42      2333\n",
      "weighted avg       0.51      0.71      0.59      2333\n",
      "\n"
     ]
    },
    {
     "data": {
      "image/png": "[encoded data removed]",
      "text/plain": [
       "<Figure size 1440x1296 with 3 Axes>"
      ]
     },
     "metadata": {},
     "output_type": "display_data"
    }
   ],
   "source": [
    "evaluate_attack(sv0, sv1, BB, BB_DATA)"
   ]
  }
 ],
 "metadata": {
  "kernelspec": {
   "display_name": "Python 3.8.10 ('venv': venv)",
   "language": "python",
   "name": "python3"
  },
  "language_info": {
   "codemirror_mode": {
    "name": "ipython",
    "version": 3
   },
   "file_extension": ".py",
   "mimetype": "text/x-python",
   "name": "python",
   "nbconvert_exporter": "python",
   "pygments_lexer": "ipython3",
   "version": "3.8.10"
  },
  "orig_nbformat": 4,
  "vscode": {
   "interpreter": {
    "hash": "19c5d3a3188652f893cd4e64043d7470541fe23a697d87860bb02bfe4b8542de"
   }
  }
 },
 "nbformat": 4,
 "nbformat_minor": 2
}
