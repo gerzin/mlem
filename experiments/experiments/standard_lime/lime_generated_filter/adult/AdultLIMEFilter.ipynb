{
 "cells": [
  {
   "cell_type": "markdown",
   "metadata": {},
   "source": [
    "# Attack on Adult using Lime and the lime generated dataset\n"
   ]
  },
  {
   "cell_type": "code",
   "execution_count": 1,
   "metadata": {},
   "outputs": [],
   "source": [
    "from pathlib import Path\n",
    "import sys\n",
    "from numba import njit\n",
    "\n",
    "UTILS_RELATIVE_PATH = \"../../../../\"\n",
    "sys.path.append(UTILS_RELATIVE_PATH)\n",
    "\n",
    "MLEM_RELATIVE_PATH = \"../../../../..\"\n",
    "sys.path.append(MLEM_RELATIVE_PATH)\n",
    "\n",
    "LIME_RELATIVE_PATH = \"../../../../../lime/\"\n",
    "sys.path.append(LIME_RELATIVE_PATH)\n",
    "\n",
    "OUTPUT_FOLDER = Path(\"experiment_output\")\n",
    "OUTPUT_FOLDER.mkdir(exist_ok=True)\n",
    "\n",
    "import logging\n",
    "logging.disable('DEBUG')\n"
   ]
  },
  {
   "cell_type": "code",
   "execution_count": 2,
   "metadata": {},
   "outputs": [],
   "source": [
    "import pandas as pd\n",
    "import seaborn as sns\n",
    "import matplotlib.pyplot as plt\n",
    "sns.set_theme()\n",
    "import numpy as np\n",
    "import scipy.spatial.distance as distance\n",
    "import multiprocessing\n",
    "\n",
    "np.random.seed(4321)\n",
    "from sklearn.metrics import classification_report, ConfusionMatrixDisplay\n",
    "from sklearn.model_selection import train_test_split\n",
    "from lime.lime_tabular import LimeTabularExplainer # type: ignore\n",
    "from mlem.utilities import generate_balanced_dataset, save_pickle_bz2, load_pickle_bz2, save_txt\n",
    "from mlem.ensemble import EnsembleClassifier\n"
   ]
  },
  {
   "cell_type": "markdown",
   "metadata": {},
   "source": [
    "importing the experiment utilities and the mlem module"
   ]
  },
  {
   "cell_type": "markdown",
   "metadata": {},
   "source": [
    "# Loading the Adult data\n",
    "\n",
    "loading the Adult RandomForest and the dictionary with all the useful data"
   ]
  },
  {
   "cell_type": "code",
   "execution_count": 3,
   "metadata": {},
   "outputs": [
    {
     "name": "stdout",
     "output_type": "stream",
     "text": [
      "              precision    recall  f1-score   support\n",
      "\n",
      "           0       0.88      0.95      0.91      8157\n",
      "           1       0.79      0.61      0.69      2690\n",
      "\n",
      "    accuracy                           0.86     10847\n",
      "   macro avg       0.84      0.78      0.80     10847\n",
      "weighted avg       0.86      0.86      0.86     10847\n",
      "\n"
     ]
    }
   ],
   "source": [
    "from utils.dataloading.adult import load_adult_data, load_adult_randomforest # type: ignore\n",
    "\n",
    "BB = load_adult_randomforest()\n",
    "BB_DATA = load_adult_data(\"adult-blackbox-data2.npz\")\n",
    "\n",
    "print(classification_report(BB_DATA['y_test'], BB.predict(BB_DATA['X_test'])))"
   ]
  },
  {
   "cell_type": "markdown",
   "metadata": {},
   "source": [
    "# Creating the explainer"
   ]
  },
  {
   "cell_type": "code",
   "execution_count": 4,
   "metadata": {},
   "outputs": [],
   "source": [
    "explainer_training_data = BB_DATA['X_train']\n",
    "explainer = LimeTabularExplainer(training_data=explainer_training_data, categorical_features=[i for (i, el) in enumerate(BB_DATA['categorical_features_mask']) if el], random_state=123)\n",
    "\n",
    "def generate_data_lime(x, num_samples):\n",
    "    return explainer.data_inverse(x, num_samples+1, 'gaussian')[1][1:]\n",
    "\n",
    "def filter_elements_std(elems, x, std=3):\n",
    "    df_ = pd.DataFrame(elems)\n",
    "    df_['Dist'] = distance.cdist(elems, [x])\n",
    "    mean = df_.Dist.mean()\n",
    "    dev = df_.Dist.std()\n",
    "    closest = df_[df_['Dist'] < mean+std*dev]\n",
    "    return closest.drop(labels=['Dist'], axis=1)\n",
    "\n",
    "def generate_local_models_and_neighborhood(x, num_samples):\n",
    "    \"\"\"Generate the lime local models and neighborhood.\n",
    "    \n",
    "    Params:\n",
    "        x - instance aroung which generate the neighborhood and learn the local model\n",
    "        num_samples - number of samples to generate\n",
    "    Return\n",
    "        local_model, x_neigh, y_neigh\n",
    "    \"\"\"\n",
    "    # Exploits Lime to get the neighborhood and the local model\n",
    "    _, models, x_neigh = explainer.explain_instance(\n",
    "        x,\n",
    "        BB.predict_proba,\n",
    "        labels=[0,1],\n",
    "        sampling_method=\"gaussian\",\n",
    "        num_samples=num_samples,\n",
    "        num_features=len(x),\n",
    "    )\n",
    "\n",
    "    # Local model is the one pointed by the instance\n",
    "    local_model = EnsembleClassifier(classifiers=models)\n",
    "    # Generates predictions for the neighborhood\n",
    "    x_neigh = filter_elements_std(x_neigh, x)\n",
    "    y_neigh = local_model.predict(x_neigh)\n",
    "    return local_model, x_neigh, y_neigh"
   ]
  },
  {
   "cell_type": "markdown",
   "metadata": {},
   "source": [
    "# Generating the lime datasets"
   ]
  },
  {
   "cell_type": "code",
   "execution_count": 5,
   "metadata": {},
   "outputs": [],
   "source": [
    "test_representatives_x = BB_DATA['X_distance_separated']\n",
    "test_representatives_y = BB_DATA['y_distance_separated']\n",
    "n_datasets = len(test_representatives_x)"
   ]
  },
  {
   "cell_type": "code",
   "execution_count": 6,
   "metadata": {},
   "outputs": [],
   "source": [
    "def generate_and_save(index, instance):\n",
    "    # wrapper of the above functions to be able to generate the datasets in parallel\n",
    "    output_path = OUTPUT_FOLDER / f\"{index}\"\n",
    "    output_path.mkdir(exist_ok=True)\n",
    "\n",
    "    local_model, x_neigh, y_neigh = generate_local_models_and_neighborhood(instance, 5000)\n",
    "    \n",
    "    local_neighborhood = pd.DataFrame(x_neigh)\n",
    "    local_neighborhood['Target'] = y_neigh\n",
    "\n",
    "    local_neighborhood.to_csv(output_path / \"lime_neigh.csv\", index=False)\n",
    "    save_pickle_bz2(output_path / \"lime_localmodel.bz2\", local_model)\n",
    "\n",
    "    with open(output_path / \"instance.npy\", \"wb\") as f:\n",
    "        np.save(f, instance)\n",
    "\n",
    "\n",
    "if not any([Path(OUTPUT_FOLDER / f\"{j}\" / \"lime_neigh.csv\").exists() for j in range(len(test_representatives_x))]):\n",
    "    with multiprocessing.Pool(processes=8) as pool:\n",
    "        pool.starmap(generate_and_save, [*enumerate(test_representatives_x)])\n",
    "else:\n",
    "    print(\"The lime neighborhood and local models already exist\")"
   ]
  },
  {
   "cell_type": "markdown",
   "metadata": {},
   "source": [
    "# Attack on the Decision Trees to create the attack models\n",
    "\n",
    "Attack on the decision trees using the <span style=\"background: green\">lime-generated dataset</span> labeled by the decision trees to create the shadow models."
   ]
  },
  {
   "cell_type": "code",
   "execution_count": 7,
   "metadata": {},
   "outputs": [],
   "source": [
    "categorical_features_mask = BB_DATA['categorical_features_mask']"
   ]
  },
  {
   "cell_type": "markdown",
   "metadata": {},
   "source": [
    "Creating the shadow models and the attack models."
   ]
  },
  {
   "cell_type": "code",
   "execution_count": 8,
   "metadata": {},
   "outputs": [],
   "source": [
    "from mlem.shadow_models import ShadowModelsManager\n",
    "from mlem.utilities import create_adaboost\n",
    "from mlem.attack_models import AttackModelsManager, AttackStrategy"
   ]
  },
  {
   "cell_type": "code",
   "execution_count": 9,
   "metadata": {},
   "outputs": [],
   "source": [
    "def compute_statistics_local_model(dataset, true_y, local_model, black_box, output_folder, filename):\n",
    "    local_y = local_model.predict(dataset.to_numpy())\n",
    "    local_bb = black_box.predict(dataset.to_numpy())\n",
    "\n",
    "    report_local = classification_report(true_y.to_numpy(), local_y)\n",
    "    report_bb    = classification_report(true_y.to_numpy(), local_bb)\n",
    "\n",
    "    fidelity = str(pd.DataFrame(local_y == local_bb).value_counts(normalize=True))\n",
    "\n",
    "    with open(output_folder / filename, \"w\") as f:\n",
    "        f.write(\"Statistics on the noisy validation dataset\\n\")\n",
    "        \n",
    "        f.write(\"local model\\n\")\n",
    "        f.write(report_local)\n",
    "\n",
    "        f.write(\"\\nblack box\\n\")\n",
    "        f.write(report_bb)\n",
    "\n",
    "        f.write(\"\\nFidelity between the local model and the black box\\n\")\n",
    "        f.write(fidelity)"
   ]
  },
  {
   "cell_type": "markdown",
   "metadata": {},
   "source": [
    "Run the attack only if it hasn't already been run"
   ]
  },
  {
   "cell_type": "code",
   "execution_count": 10,
   "metadata": {},
   "outputs": [
    {
     "name": "stdout",
     "output_type": "stream",
     "text": [
      "[INFO OVERSAMPLE] Specified ratio too low: skipping oversampling\n",
      "[INFO OVERSAMPLE] Specified ratio too low: skipping oversampling\n",
      "[INFO OVERSAMPLE] Specified ratio too low: skipping oversampling\n",
      "[INFO OVERSAMPLE] Specified ratio too low: skipping oversampling\n",
      "[INFO OVERSAMPLE] Specified ratio too low: skipping oversampling\n",
      "[INFO OVERSAMPLE] Specified ratio too low: skipping oversampling\n",
      "[INFO OVERSAMPLE] Specified ratio too low: skipping oversampling\n",
      "[INFO OVERSAMPLE] Specified ratio too low: skipping oversampling\n",
      "[INFO OVERSAMPLE] Specified ratio too low: skipping oversampling\n",
      "[INFO OVERSAMPLE] Specified ratio too low: skipping oversampling\n",
      "[INFO OVERSAMPLE] Specified ratio too low: skipping oversampling\n",
      "[INFO OVERSAMPLE] Specified ratio too low: skipping oversampling\n",
      "[INFO OVERSAMPLE] Specified ratio too low: skipping oversampling\n",
      "[INFO OVERSAMPLE] Specified ratio too low: skipping oversampling\n",
      "[INFO OVERSAMPLE] Specified ratio too low: skipping oversampling\n",
      "[INFO OVERSAMPLE] Specified ratio too low: skipping oversampling\n",
      "[INFO OVERSAMPLE] Specified ratio too low: skipping oversampling\n",
      "[INFO OVERSAMPLE] Specified ratio too low: skipping oversampling\n",
      "[INFO OVERSAMPLE] Specified ratio too low: skipping oversampling\n",
      "[INFO OVERSAMPLE] Specified ratio too low: skipping oversampling\n",
      "[INFO OVERSAMPLE] Specified ratio too low: skipping oversampling\n",
      "[INFO OVERSAMPLE] Specified ratio too low: skipping oversampling\n",
      "[INFO OVERSAMPLE] Specified ratio too low: skipping oversampling\n",
      "[INFO OVERSAMPLE] Specified ratio too low: skipping oversampling\n",
      "[INFO OVERSAMPLE] Specified ratio too low: skipping oversampling\n",
      "[INFO OVERSAMPLE] Specified ratio too low: skipping oversampling\n",
      "[INFO OVERSAMPLE] Specified ratio too low: skipping oversampling\n",
      "[INFO OVERSAMPLE] Specified ratio too low: skipping oversampling\n",
      "[INFO OVERSAMPLE] Specified ratio too low: skipping oversampling\n",
      "[INFO OVERSAMPLE] Specified ratio too low: skipping oversampling\n",
      "[INFO OVERSAMPLE] Specified ratio too low: skipping oversampling\n",
      "[INFO OVERSAMPLE] Specified ratio too low: skipping oversampling\n",
      "[INFO OVERSAMPLE] Specified ratio too low: skipping oversampling\n",
      "[INFO OVERSAMPLE] Specified ratio too low: skipping oversampling\n",
      "[INFO OVERSAMPLE] Specified ratio too low: skipping oversampling\n",
      "[INFO OVERSAMPLE] Specified ratio too low: skipping oversampling\n",
      "[INFO OVERSAMPLE] Specified ratio too low: skipping oversampling\n",
      "[INFO OVERSAMPLE] Specified ratio too low: skipping oversampling\n",
      "[INFO OVERSAMPLE] Specified ratio too low: skipping oversampling\n",
      "[INFO OVERSAMPLE] Specified ratio too low: skipping oversampling\n",
      "[INFO OVERSAMPLE] Specified ratio too low: skipping oversampling\n",
      "[INFO OVERSAMPLE] Specified ratio too low: skipping oversampling\n",
      "[INFO OVERSAMPLE] Specified ratio too low: skipping oversampling\n",
      "[INFO OVERSAMPLE] Specified ratio too low: skipping oversampling\n",
      "[INFO OVERSAMPLE] Specified ratio too low: skipping oversampling\n",
      "[INFO OVERSAMPLE] Specified ratio too low: skipping oversampling\n",
      "[INFO OVERSAMPLE] Specified ratio too low: skipping oversampling\n",
      "[INFO OVERSAMPLE] Specified ratio too low: skipping oversampling\n",
      "[INFO OVERSAMPLE] Specified ratio too low: skipping oversampling\n",
      "[INFO OVERSAMPLE] Specified ratio too low: skipping oversampling\n",
      "[INFO OVERSAMPLE] Specified ratio too low: skipping oversampling\n",
      "[INFO OVERSAMPLE] Specified ratio too low: skipping oversampling\n",
      "[INFO OVERSAMPLE] Specified ratio too low: skipping oversampling\n",
      "[INFO OVERSAMPLE] Specified ratio too low: skipping oversampling\n",
      "[INFO OVERSAMPLE] Specified ratio too low: skipping oversampling\n",
      "[INFO OVERSAMPLE] Specified ratio too low: skipping oversampling\n",
      "[INFO OVERSAMPLE] Specified ratio too low: skipping oversampling\n",
      "[INFO OVERSAMPLE] Specified ratio too low: skipping oversampling\n",
      "[INFO OVERSAMPLE] Specified ratio too low: skipping oversampling\n",
      "[INFO OVERSAMPLE] Specified ratio too low: skipping oversampling\n",
      "[INFO OVERSAMPLE] Specified ratio too low: skipping oversampling\n",
      "[INFO OVERSAMPLE] Specified ratio too low: skipping oversampling\n",
      "[INFO OVERSAMPLE] Specified ratio too low: skipping oversampling\n",
      "[INFO OVERSAMPLE] Specified ratio too low: skipping oversampling\n",
      "[INFO OVERSAMPLE] Specified ratio too low: skipping oversampling\n",
      "[INFO OVERSAMPLE] Specified ratio too low: skipping oversampling\n",
      "[INFO OVERSAMPLE] Specified ratio too low: skipping oversampling\n",
      "[INFO OVERSAMPLE] Specified ratio too low: skipping oversampling\n",
      "[INFO OVERSAMPLE] Specified ratio too low: skipping oversampling\n",
      "[INFO OVERSAMPLE] Specified ratio too low: skipping oversampling\n",
      "[INFO OVERSAMPLE] Specified ratio too low: skipping oversampling\n",
      "[INFO OVERSAMPLE] Specified ratio too low: skipping oversampling\n",
      "[INFO OVERSAMPLE] Specified ratio too low: skipping oversampling\n",
      "[INFO OVERSAMPLE] Specified ratio too low: skipping oversampling\n",
      "[INFO OVERSAMPLE] Specified ratio too low: skipping oversampling\n",
      "[INFO OVERSAMPLE] Specified ratio too low: skipping oversampling\n",
      "[INFO OVERSAMPLE] Specified ratio too low: skipping oversampling\n",
      "[INFO OVERSAMPLE] Specified ratio too low: skipping oversampling\n",
      "[INFO OVERSAMPLE] Specified ratio too low: skipping oversampling\n",
      "[INFO OVERSAMPLE] Specified ratio too low: skipping oversampling\n",
      "[INFO OVERSAMPLE] Specified ratio too low: skipping oversampling\n",
      "[INFO OVERSAMPLE] Specified ratio too low: skipping oversampling\n",
      "[INFO OVERSAMPLE] Specified ratio too low: skipping oversampling\n",
      "[INFO OVERSAMPLE] Specified ratio too low: skipping oversampling\n",
      "[INFO OVERSAMPLE] Specified ratio too low: skipping oversampling\n",
      "[INFO OVERSAMPLE] Specified ratio too low: skipping oversampling\n",
      "[INFO OVERSAMPLE] Specified ratio too low: skipping oversampling\n",
      "[INFO OVERSAMPLE] Specified ratio too low: skipping oversampling\n",
      "[INFO OVERSAMPLE] Specified ratio too low: skipping oversampling\n",
      "[INFO OVERSAMPLE] Specified ratio too low: skipping oversampling\n",
      "[INFO OVERSAMPLE] Specified ratio too low: skipping oversampling\n",
      "[INFO OVERSAMPLE] Specified ratio too low: skipping oversampling\n",
      "[INFO OVERSAMPLE] Specified ratio too low: skipping oversampling\n",
      "[INFO OVERSAMPLE] Specified ratio too low: skipping oversampling\n",
      "[INFO OVERSAMPLE] Specified ratio too low: skipping oversampling\n",
      "[INFO OVERSAMPLE] Specified ratio too low: skipping oversampling\n",
      "[INFO OVERSAMPLE] Specified ratio too low: skipping oversampling\n",
      "[INFO OVERSAMPLE] Specified ratio too low: skipping oversampling\n",
      "[INFO OVERSAMPLE] Specified ratio too low: skipping oversampling\n",
      "[INFO OVERSAMPLE] Specified ratio too low: skipping oversampling\n",
      "[INFO OVERSAMPLE] Specified ratio too low: skipping oversampling\n"
     ]
    }
   ],
   "source": [
    "if not any([(OUTPUT_FOLDER / f\"{i}\" / \"attack\").exists() for i in range(len(test_representatives_x))]):\n",
    "    \n",
    "    for ind, path in enumerate([OUTPUT_FOLDER / f\"{i}\" for i in range(len(test_representatives_x))]):\n",
    "        # load the local tree and label the noisy dataset\n",
    "        local_regressor = load_pickle_bz2(path / \"lime_localmodel.bz2\")\n",
    "\n",
    "        lime_dataset = pd.read_csv(path / \"lime_neigh.csv\")\n",
    "        lime_dataset_x = lime_dataset.drop('Target', axis=1)\n",
    "        lime_dataset_y = lime_dataset.Target\n",
    "\n",
    "        # compute fidelity and performances on the noisy dataset.\n",
    "        # NOTE: The labels associated with the noisy dataset are the same of the clean one.\n",
    "        compute_statistics_local_model(lime_dataset_x, lime_dataset_y, local_regressor, BB, path, \"statistics_limegenerated.txt\")\n",
    "\n",
    "        x_attack = lime_dataset_x.to_numpy()    \n",
    "        y_attack = local_regressor.predict(x_attack)\n",
    "\n",
    "        path_shadow = str(path / \"shadow\")\n",
    "\n",
    "        shadow_models = ShadowModelsManager(\n",
    "            n_models=4,\n",
    "            results_path=path_shadow,\n",
    "            test_size=0.5,\n",
    "            random_state=123,\n",
    "            model_creator_fn=create_adaboost,\n",
    "            categorical_mask=categorical_features_mask\n",
    "        )\n",
    "        # x_attack is the noisy dataset\n",
    "        shadow_models.fit(x_attack, y_attack)\n",
    "\n",
    "        # extracting the dataset for the attack models\n",
    "        attack_models_dataset = shadow_models.get_attack_dataset()\n",
    "\n",
    "        # saving the attack dataset\n",
    "        attack_models_dataset.to_csv(path / \"attack_models_train_dataset.csv\", index=False)\n",
    "\n",
    "        # Creating the attack model for each label using Adaboost\n",
    "        path_attack = str(path / \"attack\")\n",
    "        attack_models = AttackModelsManager(\n",
    "                results_path=path_attack, model_creator_fn=create_adaboost, attack_strategy=AttackStrategy.ONE_PER_LABEL\n",
    "        )\n",
    "        \n",
    "        attack_models.fit(attack_models_dataset)\n",
    "else:\n",
    "    print(\"The attack models already exist\")"
   ]
  },
  {
   "cell_type": "markdown",
   "metadata": {},
   "source": [
    "By looking at the test reports of the attack models, it seems that they <span style=\"background: red\">perform bad on both classes</span> with an accuracy of $\\simeq .50$"
   ]
  },
  {
   "cell_type": "markdown",
   "metadata": {},
   "source": [
    "# Creating the ensembles"
   ]
  },
  {
   "cell_type": "code",
   "execution_count": 11,
   "metadata": {},
   "outputs": [],
   "source": [
    "from mlem.ensemble import HardVotingClassifier, SoftVotingClassifier, KMostSureVotingClassifier\n",
    "from utils.attack_evaluation import evaluate_attack"
   ]
  },
  {
   "cell_type": "code",
   "execution_count": 12,
   "metadata": {},
   "outputs": [],
   "source": [
    "attack_models_0 = [load_pickle_bz2(OUTPUT_FOLDER / f\"{i}\" / \"attack\" / \"0\" / \"model.pkl.bz2\") for i in range(len(test_representatives_x))]\n",
    "attack_models_1 = [load_pickle_bz2(OUTPUT_FOLDER / f\"{i}\" / \"attack\" / \"1\" / \"model.pkl.bz2\") for i in range(len(test_representatives_x))]"
   ]
  },
  {
   "cell_type": "markdown",
   "metadata": {},
   "source": [
    "## Hard Voting"
   ]
  },
  {
   "cell_type": "code",
   "execution_count": 13,
   "metadata": {},
   "outputs": [],
   "source": [
    "hv0 = HardVotingClassifier(classifiers=attack_models_0)\n",
    "hv1 = HardVotingClassifier(classifiers=attack_models_1)"
   ]
  },
  {
   "cell_type": "code",
   "execution_count": 14,
   "metadata": {},
   "outputs": [
    {
     "name": "stdout",
     "output_type": "stream",
     "text": [
      "report full\n",
      "              precision    recall  f1-score   support\n",
      "\n",
      "          in       0.70      0.99      0.82     25289\n",
      "         out       0.31      0.01      0.02     10835\n",
      "\n",
      "    accuracy                           0.70     36124\n",
      "   macro avg       0.51      0.50      0.42     36124\n",
      "weighted avg       0.58      0.70      0.58     36124\n",
      "\n",
      "\n",
      "Class 0\n",
      "              precision    recall  f1-score   support\n",
      "\n",
      "          in       0.70      0.99      0.82     20352\n",
      "         out       0.33      0.01      0.02      8765\n",
      "\n",
      "    accuracy                           0.70     29117\n",
      "   macro avg       0.52      0.50      0.42     29117\n",
      "weighted avg       0.59      0.70      0.58     29117\n",
      "\n",
      "\n",
      "Class 1\n",
      "              precision    recall  f1-score   support\n",
      "\n",
      "          in       0.70      0.97      0.82      4937\n",
      "         out       0.29      0.03      0.05      2070\n",
      "\n",
      "    accuracy                           0.69      7007\n",
      "   macro avg       0.50      0.50      0.44      7007\n",
      "weighted avg       0.58      0.69      0.59      7007\n",
      "\n"
     ]
    },
    {
     "data": {
      "image/png": "[encoded data removed]",
      "text/plain": [
       "<Figure size 1440x1296 with 3 Axes>"
      ]
     },
     "metadata": {},
     "output_type": "display_data"
    }
   ],
   "source": [
    "evaluate_attack(hv0, hv1, BB, BB_DATA)"
   ]
  },
  {
   "cell_type": "markdown",
   "metadata": {},
   "source": [
    "## Soft Voting"
   ]
  },
  {
   "cell_type": "code",
   "execution_count": 15,
   "metadata": {},
   "outputs": [],
   "source": [
    "sv0 = SoftVotingClassifier(classifiers=attack_models_0)\n",
    "sv1 = SoftVotingClassifier(classifiers=attack_models_1)"
   ]
  },
  {
   "cell_type": "code",
   "execution_count": 16,
   "metadata": {},
   "outputs": [
    {
     "name": "stdout",
     "output_type": "stream",
     "text": [
      "report full\n",
      "              precision    recall  f1-score   support\n",
      "\n",
      "          in       0.70      0.93      0.80     25308\n",
      "         out       0.31      0.07      0.12     10847\n",
      "\n",
      "    accuracy                           0.67     36155\n",
      "   macro avg       0.51      0.50      0.46     36155\n",
      "weighted avg       0.58      0.67      0.60     36155\n",
      "\n",
      "\n",
      "Class 0\n",
      "              precision    recall  f1-score   support\n",
      "\n",
      "          in       0.70      0.97      0.81     20353\n",
      "         out       0.34      0.03      0.06      8766\n",
      "\n",
      "    accuracy                           0.69     29119\n",
      "   macro avg       0.52      0.50      0.44     29119\n",
      "weighted avg       0.59      0.69      0.59     29119\n",
      "\n",
      "\n",
      "Class 1\n",
      "              precision    recall  f1-score   support\n",
      "\n",
      "          in       0.70      0.74      0.72      4955\n",
      "         out       0.30      0.26      0.28      2081\n",
      "\n",
      "    accuracy                           0.60      7036\n",
      "   macro avg       0.50      0.50      0.50      7036\n",
      "weighted avg       0.58      0.60      0.59      7036\n",
      "\n"
     ]
    },
    {
     "data": {
      "image/png": "[encoded data removed]",
      "text/plain": [
       "<Figure size 1440x1296 with 3 Axes>"
      ]
     },
     "metadata": {},
     "output_type": "display_data"
    }
   ],
   "source": [
    "evaluate_attack(sv0, sv1, BB, BB_DATA)"
   ]
  }
 ],
 "metadata": {
  "kernelspec": {
   "display_name": "Python 3.8.10 ('venv': venv)",
   "language": "python",
   "name": "python3"
  },
  "language_info": {
   "codemirror_mode": {
    "name": "ipython",
    "version": 3
   },
   "file_extension": ".py",
   "mimetype": "text/x-python",
   "name": "python",
   "nbconvert_exporter": "python",
   "pygments_lexer": "ipython3",
   "version": "3.8.10"
  },
  "orig_nbformat": 4,
  "vscode": {
   "interpreter": {
    "hash": "19c5d3a3188652f893cd4e64043d7470541fe23a697d87860bb02bfe4b8542de"
   }
  }
 },
 "nbformat": 4,
 "nbformat_minor": 2
}
