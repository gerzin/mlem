{
 "cells": [
  {
   "cell_type": "markdown",
   "metadata": {},
   "source": [
    "# Packing all the diva data"
   ]
  },
  {
   "cell_type": "code",
   "execution_count": 1,
   "metadata": {},
   "outputs": [],
   "source": [
    "import pandas as pd\n",
    "import numpy as np\n",
    "import sys\n",
    "sys.path.append(\"../../\")\n",
    "sys.path.append(\"../../../\")\n",
    "from pathlib import Path\n",
    "from sklearn.metrics import classification_report"
   ]
  },
  {
   "cell_type": "code",
   "execution_count": 2,
   "metadata": {},
   "outputs": [],
   "source": [
    "from mlem.utilities import load_pickle_bz2, save_pickle_bz2"
   ]
  },
  {
   "cell_type": "code",
   "execution_count": 3,
   "metadata": {},
   "outputs": [],
   "source": [
    "DATA_PATH = Path(\"../../../notebooks/datasets/diva/BB_NO_CLUSTERING/BB_DATA\")"
   ]
  },
  {
   "cell_type": "code",
   "execution_count": 4,
   "metadata": {},
   "outputs": [
    {
     "name": "stdout",
     "output_type": "stream",
     "text": [
      "centroids.npz\n",
      "clusters_representatives_quantiles_5_40.csv\n",
      "clusters_representatives_quantiles_7_56.csv\n",
      "clusters_representatives_quantiles_9_72.csv\n",
      "diva_rf_noclustering.bz2\n",
      "diva_rf_noclustering_data_nsamples_5.npz\n",
      "diva_rf_noclustering_data_nsamples_7.npz\n",
      "diva_rf_noclustering_data_nsamples_9.npz\n",
      "kmeans_k5.bz2\n",
      "test.csv\n",
      "train_clustered_keep01.csv\n",
      "train.csv\n",
      "validation.csv\n",
      "validation_noisy.csv\n"
     ]
    }
   ],
   "source": [
    "%%bash\n",
    "ls ../../../notebooks/datasets/diva/BB_NO_CLUSTERING/BB_DATA"
   ]
  },
  {
   "cell_type": "code",
   "execution_count": 5,
   "metadata": {},
   "outputs": [],
   "source": [
    "black_box = load_pickle_bz2(DATA_PATH / \"diva_rf_noclustering.bz2\")"
   ]
  },
  {
   "cell_type": "code",
   "execution_count": 6,
   "metadata": {},
   "outputs": [
    {
     "data": {
      "text/html": [
       "<style>#sk-container-id-1 {color: black;background-color: white;}#sk-container-id-1 pre{padding: 0;}#sk-container-id-1 div.sk-toggleable {background-color: white;}#sk-container-id-1 label.sk-toggleable__label {cursor: pointer;display: block;width: 100%;margin-bottom: 0;padding: 0.3em;box-sizing: border-box;text-align: center;}#sk-container-id-1 label.sk-toggleable__label-arrow:before {content: \"▸\";float: left;margin-right: 0.25em;color: #696969;}#sk-container-id-1 label.sk-toggleable__label-arrow:hover:before {color: black;}#sk-container-id-1 div.sk-estimator:hover label.sk-toggleable__label-arrow:before {color: black;}#sk-container-id-1 div.sk-toggleable__content {max-height: 0;max-width: 0;overflow: hidden;text-align: left;background-color: #f0f8ff;}#sk-container-id-1 div.sk-toggleable__content pre {margin: 0.2em;color: black;border-radius: 0.25em;background-color: #f0f8ff;}#sk-container-id-1 input.sk-toggleable__control:checked~div.sk-toggleable__content {max-height: 200px;max-width: 100%;overflow: auto;}#sk-container-id-1 input.sk-toggleable__control:checked~label.sk-toggleable__label-arrow:before {content: \"▾\";}#sk-container-id-1 div.sk-estimator input.sk-toggleable__control:checked~label.sk-toggleable__label {background-color: #d4ebff;}#sk-container-id-1 div.sk-label input.sk-toggleable__control:checked~label.sk-toggleable__label {background-color: #d4ebff;}#sk-container-id-1 input.sk-hidden--visually {border: 0;clip: rect(1px 1px 1px 1px);clip: rect(1px, 1px, 1px, 1px);height: 1px;margin: -1px;overflow: hidden;padding: 0;position: absolute;width: 1px;}#sk-container-id-1 div.sk-estimator {font-family: monospace;background-color: #f0f8ff;border: 1px dotted black;border-radius: 0.25em;box-sizing: border-box;margin-bottom: 0.5em;}#sk-container-id-1 div.sk-estimator:hover {background-color: #d4ebff;}#sk-container-id-1 div.sk-parallel-item::after {content: \"\";width: 100%;border-bottom: 1px solid gray;flex-grow: 1;}#sk-container-id-1 div.sk-label:hover label.sk-toggleable__label {background-color: #d4ebff;}#sk-container-id-1 div.sk-serial::before {content: \"\";position: absolute;border-left: 1px solid gray;box-sizing: border-box;top: 0;bottom: 0;left: 50%;z-index: 0;}#sk-container-id-1 div.sk-serial {display: flex;flex-direction: column;align-items: center;background-color: white;padding-right: 0.2em;padding-left: 0.2em;position: relative;}#sk-container-id-1 div.sk-item {position: relative;z-index: 1;}#sk-container-id-1 div.sk-parallel {display: flex;align-items: stretch;justify-content: center;background-color: white;position: relative;}#sk-container-id-1 div.sk-item::before, #sk-container-id-1 div.sk-parallel-item::before {content: \"\";position: absolute;border-left: 1px solid gray;box-sizing: border-box;top: 0;bottom: 0;left: 50%;z-index: -1;}#sk-container-id-1 div.sk-parallel-item {display: flex;flex-direction: column;z-index: 1;position: relative;background-color: white;}#sk-container-id-1 div.sk-parallel-item:first-child::after {align-self: flex-end;width: 50%;}#sk-container-id-1 div.sk-parallel-item:last-child::after {align-self: flex-start;width: 50%;}#sk-container-id-1 div.sk-parallel-item:only-child::after {width: 0;}#sk-container-id-1 div.sk-dashed-wrapped {border: 1px dashed gray;margin: 0 0.4em 0.5em 0.4em;box-sizing: border-box;padding-bottom: 0.4em;background-color: white;}#sk-container-id-1 div.sk-label label {font-family: monospace;font-weight: bold;display: inline-block;line-height: 1.2em;}#sk-container-id-1 div.sk-label-container {text-align: center;}#sk-container-id-1 div.sk-container {/* jupyter's `normalize.less` sets `[hidden] { display: none; }` but bootstrap.min.css set `[hidden] { display: none !important; }` so we also need the `!important` here to be able to override the default hidden behavior on the sphinx rendered scikit-learn.org. See: https://github.com/scikit-learn/scikit-learn/issues/21755 */display: inline-block !important;position: relative;}#sk-container-id-1 div.sk-text-repr-fallback {display: none;}</style><div id=\"sk-container-id-1\" class=\"sk-top-container\"><div class=\"sk-text-repr-fallback\"><pre>RandomForestClassifier(bootstrap=False, criterion=&#x27;entropy&#x27;, max_depth=100,\n",
       "                       min_samples_leaf=10, min_samples_split=10,\n",
       "                       n_estimators=150)</pre><b>In a Jupyter environment, please rerun this cell to show the HTML representation or trust the notebook. <br />On GitHub, the HTML representation is unable to render, please try loading this page with nbviewer.org.</b></div><div class=\"sk-container\" hidden><div class=\"sk-item\"><div class=\"sk-estimator sk-toggleable\"><input class=\"sk-toggleable__control sk-hidden--visually\" id=\"sk-estimator-id-1\" type=\"checkbox\" checked><label for=\"sk-estimator-id-1\" class=\"sk-toggleable__label sk-toggleable__label-arrow\">RandomForestClassifier</label><div class=\"sk-toggleable__content\"><pre>RandomForestClassifier(bootstrap=False, criterion=&#x27;entropy&#x27;, max_depth=100,\n",
       "                       min_samples_leaf=10, min_samples_split=10,\n",
       "                       n_estimators=150)</pre></div></div></div></div></div>"
      ],
      "text/plain": [
       "RandomForestClassifier(bootstrap=False, criterion='entropy', max_depth=100,\n",
       "                       min_samples_leaf=10, min_samples_split=10,\n",
       "                       n_estimators=150)"
      ]
     },
     "execution_count": 6,
     "metadata": {},
     "output_type": "execute_result"
    }
   ],
   "source": [
    "black_box"
   ]
  },
  {
   "cell_type": "markdown",
   "metadata": {},
   "source": [
    "Saving the black box in the current folder as `diva_randbor.bz2`"
   ]
  },
  {
   "cell_type": "code",
   "execution_count": 7,
   "metadata": {},
   "outputs": [],
   "source": [
    "save_pickle_bz2(\"diva_randfor.bz2\", black_box)"
   ]
  },
  {
   "cell_type": "markdown",
   "metadata": {},
   "source": [
    "Creating a numpy dictionary with all the useful data"
   ]
  },
  {
   "cell_type": "markdown",
   "metadata": {},
   "source": [
    "Loading the old dict."
   ]
  },
  {
   "cell_type": "code",
   "execution_count": 8,
   "metadata": {},
   "outputs": [
    {
     "name": "stdout",
     "output_type": "stream",
     "text": [
      "x_train x_test y_train y_test x_test_clustered y_test_clustered\n"
     ]
    }
   ],
   "source": [
    "loaded = np.load(str(DATA_PATH / \"diva_rf_noclustering_data_nsamples_5.npz\"))\n",
    "print(*loaded.keys())"
   ]
  },
  {
   "cell_type": "code",
   "execution_count": 9,
   "metadata": {},
   "outputs": [
    {
     "name": "stdout",
     "output_type": "stream",
     "text": [
      "              precision    recall  f1-score   support\n",
      "\n",
      "           0       0.92      0.95      0.94      2094\n",
      "           1       0.85      0.77      0.81       745\n",
      "\n",
      "    accuracy                           0.90      2839\n",
      "   macro avg       0.89      0.86      0.87      2839\n",
      "weighted avg       0.90      0.90      0.90      2839\n",
      "\n"
     ]
    }
   ],
   "source": [
    "print(classification_report(loaded['y_test'], black_box.predict(loaded['x_test'])))"
   ]
  },
  {
   "cell_type": "code",
   "execution_count": 10,
   "metadata": {},
   "outputs": [],
   "source": [
    "valid = pd.read_csv(DATA_PATH / \"validation.csv\")\n",
    "valid_noisy = pd.read_csv(DATA_PATH / \"validation_noisy.csv\")"
   ]
  },
  {
   "cell_type": "code",
   "execution_count": 11,
   "metadata": {},
   "outputs": [
    {
     "name": "stdout",
     "output_type": "stream",
     "text": [
      "centroids\n"
     ]
    }
   ],
   "source": [
    "centroids = np.load(DATA_PATH / \"centroids.npz\")\n",
    "print(*centroids.keys())"
   ]
  },
  {
   "cell_type": "code",
   "execution_count": 12,
   "metadata": {},
   "outputs": [],
   "source": [
    "X_train = loaded['x_train']\n",
    "y_train = loaded['y_train']\n",
    "X_test  = loaded['x_test']\n",
    "y_test  = loaded['y_test']\n",
    "X_validation = valid.drop('Target', axis=1).to_numpy()\n",
    "y_validation = valid.Target.to_numpy()\n",
    "X_validation_noisy = valid_noisy.drop('Target', axis=1).to_numpy()\n",
    "y_validation_noisy = valid_noisy.Target.to_numpy()\n",
    "# on diva there were only two clusters\n",
    "x_attack_5_per_quantile = loaded['x_test_clustered']\n",
    "y_attack_5_per_quantile = loaded['y_test_clustered']\n"
   ]
  },
  {
   "cell_type": "code",
   "execution_count": 13,
   "metadata": {},
   "outputs": [
    {
     "data": {
      "text/plain": [
       "['FLG_PRES_RISCOSS',\n",
       " 'IMP_V_AGG_IVA',\n",
       " 'SOLVIBILITA',\n",
       " 'VOL_AFF_DICH',\n",
       " 'PESO_ADESIONE',\n",
       " 'TIPO_DICH_ACCERT',\n",
       " 'IMP_ESISTZ',\n",
       " 'DETR_IVA_ACC',\n",
       " 'VAL_ALIQ_MEDIA_ACQ',\n",
       " 'FLG_PRES_RICORSO',\n",
       " 'STATO_CONTROLLO',\n",
       " 'VAL_ALIQ_M_ACQ_IMP',\n",
       " 'FLG_VC',\n",
       " 'IMP_V_AGG_IMPON',\n",
       " 'VAR_RIMBORSO',\n",
       " 'VAL_ALIQ_MEDIA_VOL',\n",
       " 'IMP_IMPST_CREDIT',\n",
       " 'IMP_ACQ_NOIMP',\n",
       " 'COD_ATTIV_GEN',\n",
       " 'IVA_OP_IMPON_DIC',\n",
       " 'IMP_BEN_AMM',\n",
       " 'IMP_ECC_PREC',\n",
       " 'FLG_PRES_BILANCIO',\n",
       " 'imp_tot_pos',\n",
       " 'VAR_DETRAZIONE',\n",
       " 'MAG_IMP_RIT_ACC']"
      ]
     },
     "execution_count": 13,
     "metadata": {},
     "output_type": "execute_result"
    }
   ],
   "source": [
    "valid.columns[:-1].to_list()"
   ]
  },
  {
   "cell_type": "code",
   "execution_count": 14,
   "metadata": {},
   "outputs": [],
   "source": [
    "np.savez_compressed(\"diva-blackbox-data.npz\",\n",
    "    X_train=X_train, y_train=y_train, X_test=X_test, y_test=y_test, X_validation=X_validation, y_validation=y_validation, \\\n",
    "    X_validation_noisy=X_validation_noisy, y_validation_noisy=y_validation_noisy, \\\n",
    "    X_attack_5_per_quantile=x_attack_5_per_quantile, y_attack_5_per_quantile=y_attack_5_per_quantile, \\\n",
    "    categorical_features=[], numerical_features=valid.columns[:-1].to_list(), \\\n",
    "    categorical_features_mask=[False for _ in range(len(valid.columns[:-1].to_list()))], centroids=centroids['centroids']\n",
    ")"
   ]
  }
 ],
 "metadata": {
  "kernelspec": {
   "display_name": "Python 3.9.9 64-bit ('ml-environment')",
   "language": "python",
   "name": "python3"
  },
  "language_info": {
   "codemirror_mode": {
    "name": "ipython",
    "version": 3
   },
   "file_extension": ".py",
   "mimetype": "text/x-python",
   "name": "python",
   "nbconvert_exporter": "python",
   "pygments_lexer": "ipython3",
   "version": "3.9.9"
  },
  "orig_nbformat": 4,
  "vscode": {
   "interpreter": {
    "hash": "2926f9c34cf1633401c8a7234a4ce7220d90c6933b8b9775bef28283606af272"
   }
  }
 },
 "nbformat": 4,
 "nbformat_minor": 2
}
