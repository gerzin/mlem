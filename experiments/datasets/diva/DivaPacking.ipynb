{
 "cells": [
  {
   "cell_type": "markdown",
   "metadata": {},
   "source": [
    "# Packing all the diva data"
   ]
  },
  {
   "cell_type": "code",
   "execution_count": 1,
   "metadata": {},
   "outputs": [],
   "source": [
    "import pandas as pd\n",
    "import numpy as np\n",
    "import sys\n",
    "sys.path.append(\"../../\")\n",
    "sys.path.append(\"../../../\")\n",
    "from pathlib import Path\n",
    "from sklearn.metrics import classification_report"
   ]
  },
  {
   "cell_type": "code",
   "execution_count": 2,
   "metadata": {},
   "outputs": [],
   "source": [
    "from mlem.utilities import load_pickle_bz2, save_pickle_bz2"
   ]
  },
  {
   "cell_type": "code",
   "execution_count": 3,
   "metadata": {},
   "outputs": [],
   "source": [
    "DATA_PATH = Path(\"../../../notebooks/datasets/diva/BB_NO_CLUSTERING/BB_DATA\")"
   ]
  },
  {
   "cell_type": "code",
   "execution_count": 4,
   "metadata": {},
   "outputs": [
    {
     "name": "stdout",
     "output_type": "stream",
     "text": [
      "centroids.npz\n",
      "clusters_representatives_quantiles_5_40.csv\n",
      "clusters_representatives_quantiles_7_56.csv\n",
      "clusters_representatives_quantiles_9_72.csv\n",
      "diva_rf_noclustering.bz2\n",
      "diva_rf_noclustering_data_nsamples_5.npz\n",
      "diva_rf_noclustering_data_nsamples_7.npz\n",
      "diva_rf_noclustering_data_nsamples_9.npz\n",
      "kmeans_k5.bz2\n",
      "test.csv\n",
      "train_clustered_keep01.csv\n",
      "train.csv\n",
      "validation.csv\n",
      "validation_noisy.csv\n"
     ]
    }
   ],
   "source": [
    "%%bash\n",
    "ls ../../../notebooks/datasets/diva/BB_NO_CLUSTERING/BB_DATA"
   ]
  },
  {
   "cell_type": "code",
   "execution_count": 5,
   "metadata": {},
   "outputs": [],
   "source": [
    "black_box = load_pickle_bz2(DATA_PATH / \"diva_rf_noclustering.bz2\")"
   ]
  },
  {
   "cell_type": "code",
   "execution_count": 6,
   "metadata": {},
   "outputs": [
    {
     "data": {
      "text/html": [
       "<style>#sk-container-id-1 {color: black;background-color: white;}#sk-container-id-1 pre{padding: 0;}#sk-container-id-1 div.sk-toggleable {background-color: white;}#sk-container-id-1 label.sk-toggleable__label {cursor: pointer;display: block;width: 100%;margin-bottom: 0;padding: 0.3em;box-sizing: border-box;text-align: center;}#sk-container-id-1 label.sk-toggleable__label-arrow:before {content: \"▸\";float: left;margin-right: 0.25em;color: #696969;}#sk-container-id-1 label.sk-toggleable__label-arrow:hover:before {color: black;}#sk-container-id-1 div.sk-estimator:hover label.sk-toggleable__label-arrow:before {color: black;}#sk-container-id-1 div.sk-toggleable__content {max-height: 0;max-width: 0;overflow: hidden;text-align: left;background-color: #f0f8ff;}#sk-container-id-1 div.sk-toggleable__content pre {margin: 0.2em;color: black;border-radius: 0.25em;background-color: #f0f8ff;}#sk-container-id-1 input.sk-toggleable__control:checked~div.sk-toggleable__content {max-height: 200px;max-width: 100%;overflow: auto;}#sk-container-id-1 input.sk-toggleable__control:checked~label.sk-toggleable__label-arrow:before {content: \"▾\";}#sk-container-id-1 div.sk-estimator input.sk-toggleable__control:checked~label.sk-toggleable__label {background-color: #d4ebff;}#sk-container-id-1 div.sk-label input.sk-toggleable__control:checked~label.sk-toggleable__label {background-color: #d4ebff;}#sk-container-id-1 input.sk-hidden--visually {border: 0;clip: rect(1px 1px 1px 1px);clip: rect(1px, 1px, 1px, 1px);height: 1px;margin: -1px;overflow: hidden;padding: 0;position: absolute;width: 1px;}#sk-container-id-1 div.sk-estimator {font-family: monospace;background-color: #f0f8ff;border: 1px dotted black;border-radius: 0.25em;box-sizing: border-box;margin-bottom: 0.5em;}#sk-container-id-1 div.sk-estimator:hover {background-color: #d4ebff;}#sk-container-id-1 div.sk-parallel-item::after {content: \"\";width: 100%;border-bottom: 1px solid gray;flex-grow: 1;}#sk-container-id-1 div.sk-label:hover label.sk-toggleable__label {background-color: #d4ebff;}#sk-container-id-1 div.sk-serial::before {content: \"\";position: absolute;border-left: 1px solid gray;box-sizing: border-box;top: 0;bottom: 0;left: 50%;z-index: 0;}#sk-container-id-1 div.sk-serial {display: flex;flex-direction: column;align-items: center;background-color: white;padding-right: 0.2em;padding-left: 0.2em;position: relative;}#sk-container-id-1 div.sk-item {position: relative;z-index: 1;}#sk-container-id-1 div.sk-parallel {display: flex;align-items: stretch;justify-content: center;background-color: white;position: relative;}#sk-container-id-1 div.sk-item::before, #sk-container-id-1 div.sk-parallel-item::before {content: \"\";position: absolute;border-left: 1px solid gray;box-sizing: border-box;top: 0;bottom: 0;left: 50%;z-index: -1;}#sk-container-id-1 div.sk-parallel-item {display: flex;flex-direction: column;z-index: 1;position: relative;background-color: white;}#sk-container-id-1 div.sk-parallel-item:first-child::after {align-self: flex-end;width: 50%;}#sk-container-id-1 div.sk-parallel-item:last-child::after {align-self: flex-start;width: 50%;}#sk-container-id-1 div.sk-parallel-item:only-child::after {width: 0;}#sk-container-id-1 div.sk-dashed-wrapped {border: 1px dashed gray;margin: 0 0.4em 0.5em 0.4em;box-sizing: border-box;padding-bottom: 0.4em;background-color: white;}#sk-container-id-1 div.sk-label label {font-family: monospace;font-weight: bold;display: inline-block;line-height: 1.2em;}#sk-container-id-1 div.sk-label-container {text-align: center;}#sk-container-id-1 div.sk-container {/* jupyter's `normalize.less` sets `[hidden] { display: none; }` but bootstrap.min.css set `[hidden] { display: none !important; }` so we also need the `!important` here to be able to override the default hidden behavior on the sphinx rendered scikit-learn.org. See: https://github.com/scikit-learn/scikit-learn/issues/21755 */display: inline-block !important;position: relative;}#sk-container-id-1 div.sk-text-repr-fallback {display: none;}</style><div id=\"sk-container-id-1\" class=\"sk-top-container\"><div class=\"sk-text-repr-fallback\"><pre>RandomForestClassifier(bootstrap=False, criterion=&#x27;entropy&#x27;, max_depth=100,\n",
       "                       min_samples_leaf=10, min_samples_split=10,\n",
       "                       n_estimators=150)</pre><b>In a Jupyter environment, please rerun this cell to show the HTML representation or trust the notebook. <br />On GitHub, the HTML representation is unable to render, please try loading this page with nbviewer.org.</b></div><div class=\"sk-container\" hidden><div class=\"sk-item\"><div class=\"sk-estimator sk-toggleable\"><input class=\"sk-toggleable__control sk-hidden--visually\" id=\"sk-estimator-id-1\" type=\"checkbox\" checked><label for=\"sk-estimator-id-1\" class=\"sk-toggleable__label sk-toggleable__label-arrow\">RandomForestClassifier</label><div class=\"sk-toggleable__content\"><pre>RandomForestClassifier(bootstrap=False, criterion=&#x27;entropy&#x27;, max_depth=100,\n",
       "                       min_samples_leaf=10, min_samples_split=10,\n",
       "                       n_estimators=150)</pre></div></div></div></div></div>"
      ],
      "text/plain": [
       "RandomForestClassifier(bootstrap=False, criterion='entropy', max_depth=100,\n",
       "                       min_samples_leaf=10, min_samples_split=10,\n",
       "                       n_estimators=150)"
      ]
     },
     "execution_count": 6,
     "metadata": {},
     "output_type": "execute_result"
    }
   ],
   "source": [
    "black_box"
   ]
  },
  {
   "cell_type": "markdown",
   "metadata": {},
   "source": [
    "Saving the black box in the current folder as `diva_randbor.bz2`"
   ]
  },
  {
   "cell_type": "code",
   "execution_count": 7,
   "metadata": {},
   "outputs": [],
   "source": [
    "save_pickle_bz2(\"diva_randfor.bz2\", black_box)"
   ]
  },
  {
   "cell_type": "markdown",
   "metadata": {},
   "source": [
    "Creating a numpy dictionary with all the useful data"
   ]
  },
  {
   "cell_type": "markdown",
   "metadata": {},
   "source": [
    "Loading the old dict."
   ]
  },
  {
   "cell_type": "code",
   "execution_count": 7,
   "metadata": {},
   "outputs": [
    {
     "name": "stdout",
     "output_type": "stream",
     "text": [
      "x_train x_test y_train y_test x_test_clustered y_test_clustered\n"
     ]
    }
   ],
   "source": [
    "loaded = np.load(str(DATA_PATH / \"diva_rf_noclustering_data_nsamples_5.npz\"))\n",
    "print(*loaded.keys())"
   ]
  },
  {
   "cell_type": "code",
   "execution_count": 8,
   "metadata": {},
   "outputs": [
    {
     "name": "stdout",
     "output_type": "stream",
     "text": [
      "              precision    recall  f1-score   support\n",
      "\n",
      "           0       0.92      0.95      0.94      2094\n",
      "           1       0.85      0.77      0.81       745\n",
      "\n",
      "    accuracy                           0.90      2839\n",
      "   macro avg       0.89      0.86      0.87      2839\n",
      "weighted avg       0.90      0.90      0.90      2839\n",
      "\n"
     ]
    }
   ],
   "source": [
    "print(classification_report(loaded['y_test'], black_box.predict(loaded['x_test'])))"
   ]
  },
  {
   "cell_type": "code",
   "execution_count": 10,
   "metadata": {},
   "outputs": [],
   "source": [
    "valid = pd.read_csv(DATA_PATH / \"validation.csv\")\n",
    "valid_noisy = pd.read_csv(DATA_PATH / \"validation_noisy.csv\")"
   ]
  },
  {
   "cell_type": "code",
   "execution_count": 11,
   "metadata": {},
   "outputs": [
    {
     "name": "stdout",
     "output_type": "stream",
     "text": [
      "centroids\n"
     ]
    }
   ],
   "source": [
    "centroids = np.load(DATA_PATH / \"centroids.npz\")\n",
    "print(*centroids.keys())"
   ]
  },
  {
   "cell_type": "code",
   "execution_count": 12,
   "metadata": {},
   "outputs": [],
   "source": [
    "X_train = loaded['x_train']\n",
    "y_train = loaded['y_train']\n",
    "X_test  = loaded['x_test']\n",
    "y_test  = loaded['y_test']\n",
    "X_validation = valid.drop('Target', axis=1).to_numpy()\n",
    "y_validation = valid.Target.to_numpy()\n",
    "X_validation_noisy = valid_noisy.drop('Target', axis=1).to_numpy()\n",
    "y_validation_noisy = valid_noisy.Target.to_numpy()\n",
    "# on diva there were only two clusters\n",
    "x_attack_5_per_quantile = loaded['x_test_clustered']\n",
    "y_attack_5_per_quantile = loaded['y_test_clustered']\n"
   ]
  },
  {
   "cell_type": "code",
   "execution_count": 13,
   "metadata": {},
   "outputs": [
    {
     "data": {
      "text/plain": [
       "['FLG_PRES_RISCOSS',\n",
       " 'IMP_V_AGG_IVA',\n",
       " 'SOLVIBILITA',\n",
       " 'VOL_AFF_DICH',\n",
       " 'PESO_ADESIONE',\n",
       " 'TIPO_DICH_ACCERT',\n",
       " 'IMP_ESISTZ',\n",
       " 'DETR_IVA_ACC',\n",
       " 'VAL_ALIQ_MEDIA_ACQ',\n",
       " 'FLG_PRES_RICORSO',\n",
       " 'STATO_CONTROLLO',\n",
       " 'VAL_ALIQ_M_ACQ_IMP',\n",
       " 'FLG_VC',\n",
       " 'IMP_V_AGG_IMPON',\n",
       " 'VAR_RIMBORSO',\n",
       " 'VAL_ALIQ_MEDIA_VOL',\n",
       " 'IMP_IMPST_CREDIT',\n",
       " 'IMP_ACQ_NOIMP',\n",
       " 'COD_ATTIV_GEN',\n",
       " 'IVA_OP_IMPON_DIC',\n",
       " 'IMP_BEN_AMM',\n",
       " 'IMP_ECC_PREC',\n",
       " 'FLG_PRES_BILANCIO',\n",
       " 'imp_tot_pos',\n",
       " 'VAR_DETRAZIONE',\n",
       " 'MAG_IMP_RIT_ACC']"
      ]
     },
     "execution_count": 13,
     "metadata": {},
     "output_type": "execute_result"
    }
   ],
   "source": [
    "valid.columns[:-1].to_list()"
   ]
  },
  {
   "cell_type": "code",
   "execution_count": 14,
   "metadata": {},
   "outputs": [],
   "source": [
    "np.savez_compressed(\"diva-blackbox-data.npz\",\n",
    "    X_train=X_train, y_train=y_train, X_test=X_test, y_test=y_test, X_validation=X_validation, y_validation=y_validation, \\\n",
    "    X_validation_noisy=X_validation_noisy, y_validation_noisy=y_validation_noisy, \\\n",
    "    X_attack_5_per_quantile=x_attack_5_per_quantile, y_attack_5_per_quantile=y_attack_5_per_quantile, \\\n",
    "    categorical_features=[], numerical_features=valid.columns[:-1].to_list(), \\\n",
    "    categorical_features_mask=[False for _ in range(len(valid.columns[:-1].to_list()))], centroids=centroids['centroids']\n",
    ")"
   ]
  },
  {
   "cell_type": "markdown",
   "metadata": {},
   "source": [
    "# Adding to the data dictionary set of furthest elements\n",
    "\n",
    "In these cells I add to the `diva-blackbox-data.npz` another set computed by first selecting the furthest elements of the test set,\n",
    "and then iteratively selecting the furthest element from the ones already selected"
   ]
  },
  {
   "cell_type": "code",
   "execution_count": 9,
   "metadata": {},
   "outputs": [],
   "source": [
    "import sys\n",
    "import numpy as np\n",
    "import pandas as pd\n",
    "\n",
    "UTILS_RELATIVE_PATH = \"../../\"\n",
    "sys.path.append(UTILS_RELATIVE_PATH)\n",
    "from utils.filtering import extract_points_furthest_distance"
   ]
  },
  {
   "cell_type": "code",
   "execution_count": 10,
   "metadata": {},
   "outputs": [
    {
     "data": {
      "text/html": [
       "<div>\n",
       "<style scoped>\n",
       "    .dataframe tbody tr th:only-of-type {\n",
       "        vertical-align: middle;\n",
       "    }\n",
       "\n",
       "    .dataframe tbody tr th {\n",
       "        vertical-align: top;\n",
       "    }\n",
       "\n",
       "    .dataframe thead th {\n",
       "        text-align: right;\n",
       "    }\n",
       "</style>\n",
       "<table border=\"1\" class=\"dataframe\">\n",
       "  <thead>\n",
       "    <tr style=\"text-align: right;\">\n",
       "      <th></th>\n",
       "      <th>0</th>\n",
       "      <th>1</th>\n",
       "      <th>2</th>\n",
       "      <th>3</th>\n",
       "      <th>4</th>\n",
       "      <th>5</th>\n",
       "      <th>6</th>\n",
       "      <th>7</th>\n",
       "      <th>8</th>\n",
       "      <th>9</th>\n",
       "      <th>...</th>\n",
       "      <th>17</th>\n",
       "      <th>18</th>\n",
       "      <th>19</th>\n",
       "      <th>20</th>\n",
       "      <th>21</th>\n",
       "      <th>22</th>\n",
       "      <th>23</th>\n",
       "      <th>24</th>\n",
       "      <th>25</th>\n",
       "      <th>Target</th>\n",
       "    </tr>\n",
       "  </thead>\n",
       "  <tbody>\n",
       "    <tr>\n",
       "      <th>0</th>\n",
       "      <td>-0.658649</td>\n",
       "      <td>-0.000487</td>\n",
       "      <td>0.228899</td>\n",
       "      <td>0.021833</td>\n",
       "      <td>-0.449675</td>\n",
       "      <td>0.477425</td>\n",
       "      <td>-0.082859</td>\n",
       "      <td>-0.077551</td>\n",
       "      <td>0.769873</td>\n",
       "      <td>-0.542534</td>\n",
       "      <td>...</td>\n",
       "      <td>-0.036188</td>\n",
       "      <td>-0.071309</td>\n",
       "      <td>-0.058972</td>\n",
       "      <td>-0.018830</td>\n",
       "      <td>-0.075926</td>\n",
       "      <td>0.828543</td>\n",
       "      <td>-0.139304</td>\n",
       "      <td>0.184250</td>\n",
       "      <td>-0.035737</td>\n",
       "      <td>0</td>\n",
       "    </tr>\n",
       "    <tr>\n",
       "      <th>1</th>\n",
       "      <td>-0.658649</td>\n",
       "      <td>-0.017945</td>\n",
       "      <td>0.228899</td>\n",
       "      <td>-0.050791</td>\n",
       "      <td>-0.449675</td>\n",
       "      <td>0.477425</td>\n",
       "      <td>-0.082859</td>\n",
       "      <td>-0.077551</td>\n",
       "      <td>0.781589</td>\n",
       "      <td>-0.542534</td>\n",
       "      <td>...</td>\n",
       "      <td>-0.036188</td>\n",
       "      <td>2.000086</td>\n",
       "      <td>0.151528</td>\n",
       "      <td>-0.025852</td>\n",
       "      <td>-0.075926</td>\n",
       "      <td>0.828543</td>\n",
       "      <td>-0.139304</td>\n",
       "      <td>-0.183469</td>\n",
       "      <td>-0.035737</td>\n",
       "      <td>1</td>\n",
       "    </tr>\n",
       "    <tr>\n",
       "      <th>2</th>\n",
       "      <td>-0.658649</td>\n",
       "      <td>-0.014663</td>\n",
       "      <td>-0.737083</td>\n",
       "      <td>-0.042018</td>\n",
       "      <td>-0.449675</td>\n",
       "      <td>0.477425</td>\n",
       "      <td>-0.082859</td>\n",
       "      <td>-0.026768</td>\n",
       "      <td>0.322698</td>\n",
       "      <td>1.843203</td>\n",
       "      <td>...</td>\n",
       "      <td>-0.009822</td>\n",
       "      <td>1.769931</td>\n",
       "      <td>0.154897</td>\n",
       "      <td>-0.020344</td>\n",
       "      <td>-0.075926</td>\n",
       "      <td>0.828543</td>\n",
       "      <td>-0.139304</td>\n",
       "      <td>-0.158994</td>\n",
       "      <td>-0.035737</td>\n",
       "      <td>0</td>\n",
       "    </tr>\n",
       "    <tr>\n",
       "      <th>3</th>\n",
       "      <td>-0.658649</td>\n",
       "      <td>-0.039351</td>\n",
       "      <td>1.194882</td>\n",
       "      <td>-0.050732</td>\n",
       "      <td>-0.449675</td>\n",
       "      <td>0.477425</td>\n",
       "      <td>-0.082859</td>\n",
       "      <td>-0.076980</td>\n",
       "      <td>0.785494</td>\n",
       "      <td>1.843203</td>\n",
       "      <td>...</td>\n",
       "      <td>-0.036188</td>\n",
       "      <td>1.539776</td>\n",
       "      <td>0.095825</td>\n",
       "      <td>-0.026360</td>\n",
       "      <td>-0.075926</td>\n",
       "      <td>0.828543</td>\n",
       "      <td>-0.139304</td>\n",
       "      <td>-0.200442</td>\n",
       "      <td>-0.035737</td>\n",
       "      <td>1</td>\n",
       "    </tr>\n",
       "    <tr>\n",
       "      <th>4</th>\n",
       "      <td>1.518260</td>\n",
       "      <td>0.006973</td>\n",
       "      <td>0.228899</td>\n",
       "      <td>-0.046487</td>\n",
       "      <td>-0.449675</td>\n",
       "      <td>-1.161895</td>\n",
       "      <td>-0.082859</td>\n",
       "      <td>-0.077551</td>\n",
       "      <td>0.685905</td>\n",
       "      <td>1.843203</td>\n",
       "      <td>...</td>\n",
       "      <td>-0.036171</td>\n",
       "      <td>-0.761774</td>\n",
       "      <td>0.184564</td>\n",
       "      <td>-0.026024</td>\n",
       "      <td>-0.075926</td>\n",
       "      <td>-1.206937</td>\n",
       "      <td>-0.139304</td>\n",
       "      <td>-0.215383</td>\n",
       "      <td>-0.035737</td>\n",
       "      <td>0</td>\n",
       "    </tr>\n",
       "  </tbody>\n",
       "</table>\n",
       "<p>5 rows × 27 columns</p>\n",
       "</div>"
      ],
      "text/plain": [
       "          0         1         2         3         4         5         6  \\\n",
       "0 -0.658649 -0.000487  0.228899  0.021833 -0.449675  0.477425 -0.082859   \n",
       "1 -0.658649 -0.017945  0.228899 -0.050791 -0.449675  0.477425 -0.082859   \n",
       "2 -0.658649 -0.014663 -0.737083 -0.042018 -0.449675  0.477425 -0.082859   \n",
       "3 -0.658649 -0.039351  1.194882 -0.050732 -0.449675  0.477425 -0.082859   \n",
       "4  1.518260  0.006973  0.228899 -0.046487 -0.449675 -1.161895 -0.082859   \n",
       "\n",
       "          7         8         9  ...        17        18        19        20  \\\n",
       "0 -0.077551  0.769873 -0.542534  ... -0.036188 -0.071309 -0.058972 -0.018830   \n",
       "1 -0.077551  0.781589 -0.542534  ... -0.036188  2.000086  0.151528 -0.025852   \n",
       "2 -0.026768  0.322698  1.843203  ... -0.009822  1.769931  0.154897 -0.020344   \n",
       "3 -0.076980  0.785494  1.843203  ... -0.036188  1.539776  0.095825 -0.026360   \n",
       "4 -0.077551  0.685905  1.843203  ... -0.036171 -0.761774  0.184564 -0.026024   \n",
       "\n",
       "         21        22        23        24        25  Target  \n",
       "0 -0.075926  0.828543 -0.139304  0.184250 -0.035737       0  \n",
       "1 -0.075926  0.828543 -0.139304 -0.183469 -0.035737       1  \n",
       "2 -0.075926  0.828543 -0.139304 -0.158994 -0.035737       0  \n",
       "3 -0.075926  0.828543 -0.139304 -0.200442 -0.035737       1  \n",
       "4 -0.075926 -1.206937 -0.139304 -0.215383 -0.035737       0  \n",
       "\n",
       "[5 rows x 27 columns]"
      ]
     },
     "execution_count": 10,
     "metadata": {},
     "output_type": "execute_result"
    }
   ],
   "source": [
    "loaded = dict(np.load('diva-blackbox-data.npz'))\n",
    "X_test = loaded['X_test']\n",
    "y_test = loaded['y_test']\n",
    "test_df = pd.DataFrame(X_test)\n",
    "test_df['Target'] = y_test\n",
    "test_df.head()"
   ]
  },
  {
   "cell_type": "markdown",
   "metadata": {},
   "source": [
    "extracting $100$ points"
   ]
  },
  {
   "cell_type": "code",
   "execution_count": 11,
   "metadata": {},
   "outputs": [],
   "source": [
    "points_far = extract_points_furthest_distance(test_df, 100)"
   ]
  },
  {
   "cell_type": "code",
   "execution_count": 12,
   "metadata": {},
   "outputs": [],
   "source": [
    "X_distance_separated = points_far.drop('Target', axis=1).to_numpy()\n",
    "y_distance_separated = points_far.Target.to_numpy()"
   ]
  },
  {
   "cell_type": "code",
   "execution_count": 13,
   "metadata": {},
   "outputs": [],
   "source": [
    "loaded['X_distance_separated'] = X_distance_separated\n",
    "loaded['y_distance_separated'] = y_distance_separated"
   ]
  },
  {
   "cell_type": "code",
   "execution_count": 14,
   "metadata": {},
   "outputs": [],
   "source": [
    "np.savez('diva-blackbox-data2.npz', **loaded)"
   ]
  }
 ],
 "metadata": {
  "kernelspec": {
   "display_name": "Python 3.8.10 ('venv': venv)",
   "language": "python",
   "name": "python3"
  },
  "language_info": {
   "codemirror_mode": {
    "name": "ipython",
    "version": 3
   },
   "file_extension": ".py",
   "mimetype": "text/x-python",
   "name": "python",
   "nbconvert_exporter": "python",
   "pygments_lexer": "ipython3",
   "version": "3.8.10"
  },
  "orig_nbformat": 4,
  "vscode": {
   "interpreter": {
    "hash": "19c5d3a3188652f893cd4e64043d7470541fe23a697d87860bb02bfe4b8542de"
   }
  }
 },
 "nbformat": 4,
 "nbformat_minor": 2
}
