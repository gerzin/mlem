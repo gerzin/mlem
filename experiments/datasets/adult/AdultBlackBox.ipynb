{
 "cells": [
  {
   "cell_type": "markdown",
   "metadata": {},
   "source": [
    "# Adult black box creation"
   ]
  },
  {
   "cell_type": "code",
   "execution_count": 1,
   "metadata": {},
   "outputs": [],
   "source": [
    "%matplotlib inline\n",
    "import pandas as pd\n",
    "import numpy as np\n",
    "from pathlib import Path\n",
    "import seaborn as sns\n",
    "import matplotlib.pyplot as plt\n",
    "import sys\n",
    "import sys\n",
    "sys.path.append(\"../../\")\n",
    "\n",
    "sns.set_theme()\n",
    "\n",
    "np.random.seed(123)"
   ]
  },
  {
   "cell_type": "code",
   "execution_count": 2,
   "metadata": {},
   "outputs": [
    {
     "name": "stdout",
     "output_type": "stream",
     "text": [
      "X_train y_train X_test y_test X_validation y_validation X_validation_noisy y_validation_noisy X_attack_2_per_quantile y_attack_2_per_quantile X_attack_3_per_quantile y_attack_3_per_quantile categorical_features numerical_features categorical_features_mask centroids\n"
     ]
    }
   ],
   "source": [
    "loaded = np.load(\"adult-blackbox-data.npz\")\n",
    "print(*loaded.keys())"
   ]
  },
  {
   "cell_type": "code",
   "execution_count": 3,
   "metadata": {},
   "outputs": [],
   "source": [
    "X_train, y_train = loaded['X_train'], loaded['y_train']\n",
    "X_test, y_test = loaded['X_test'], loaded['y_test']"
   ]
  },
  {
   "cell_type": "markdown",
   "metadata": {},
   "source": [
    "# Creating a Black Box"
   ]
  },
  {
   "cell_type": "code",
   "execution_count": 4,
   "metadata": {},
   "outputs": [],
   "source": [
    "from sklearn.ensemble import RandomForestClassifier\n",
    "from sklearn.experimental import enable_halving_search_cv\n",
    "from sklearn.model_selection import HalvingGridSearchCV\n",
    "from sklearn.metrics import confusion_matrix, classification_report\n",
    "from utils.models import save_pickle_bz2"
   ]
  },
  {
   "cell_type": "markdown",
   "metadata": {},
   "source": [
    "## Random Forest"
   ]
  },
  {
   "cell_type": "code",
   "execution_count": 5,
   "metadata": {},
   "outputs": [],
   "source": [
    "# Hyperparameters of the grid search\n",
    "__HYPERPARAMETERS = {\n",
    "    \"bootstrap\": [True, False],\n",
    "    \"max_depth\": [100, 350, 500],\n",
    "    \"min_samples_leaf\": [10, 20, 50],\n",
    "    \"min_samples_split\": [5, 10, 50],\n",
    "    \"n_estimators\": [100, 150, 350, 500],\n",
    "    \"criterion\": [\"gini\", \"entropy\"],\n",
    "}\n",
    "\n",
    "def create_random_forest(\n",
    "        x,\n",
    "        y,\n",
    "        hyperparameters=__HYPERPARAMETERS,\n",
    "        n_jobs=12\n",
    ") -> RandomForestClassifier:\n",
    "    \"\"\"Creates a random forest classifier via grid search.\n",
    "\n",
    "    Args:\n",
    "        x (ndarray): Training input examples.\n",
    "        y (ndarray): Training target values.\n",
    "        hyperparameters (Dict[str, List[Any]], optional): Dictionary of hyperparameters for the grid search. Defaults to the fixed ones.\n",
    "        n_jobs: Number of jobs to run in parallel in the grid search.\n",
    "\n",
    "    Returns:\n",
    "        RandomForestClassifier: Random forest classifier.\n",
    "    \"\"\"\n",
    "\n",
    "    rf = RandomForestClassifier()\n",
    "    clf = HalvingGridSearchCV(rf, hyperparameters, refit=True, n_jobs=n_jobs, verbose=0)\n",
    "    clf.fit(x, y)\n",
    "    return clf.best_estimator_"
   ]
  },
  {
   "cell_type": "code",
   "execution_count": 6,
   "metadata": {},
   "outputs": [],
   "source": [
    "rf = create_random_forest(X_train, y_train)"
   ]
  },
  {
   "cell_type": "code",
   "execution_count": 7,
   "metadata": {},
   "outputs": [
    {
     "name": "stdout",
     "output_type": "stream",
     "text": [
      "              precision    recall  f1-score   support\n",
      "\n",
      "           0       0.88      0.95      0.91      8157\n",
      "           1       0.79      0.61      0.69      2690\n",
      "\n",
      "    accuracy                           0.86     10847\n",
      "   macro avg       0.84      0.78      0.80     10847\n",
      "weighted avg       0.86      0.86      0.86     10847\n",
      "\n"
     ]
    }
   ],
   "source": [
    "print(classification_report(y_test, rf.predict(X_test)))"
   ]
  },
  {
   "cell_type": "code",
   "execution_count": 32,
   "metadata": {},
   "outputs": [],
   "source": [
    "save_pickle_bz2(\"adult_randfor.bz2\", rf)"
   ]
  },
  {
   "cell_type": "markdown",
   "metadata": {},
   "source": [
    "## Adaboost"
   ]
  },
  {
   "cell_type": "code",
   "execution_count": 8,
   "metadata": {},
   "outputs": [],
   "source": [
    "from sklearn.ensemble import AdaBoostClassifier\n",
    "\n",
    "__HYPERPARAMETERS_AB = {\n",
    "    \"n_estimators\": [50, 100, 150, 200],\n",
    "    \"random_state\": [123]\n",
    "}\n",
    "\n",
    "def create_adaboost(\n",
    "        x,\n",
    "        y,\n",
    "        hyperparameters=__HYPERPARAMETERS_AB,\n",
    "        n_jobs=12\n",
    ") -> RandomForestClassifier:\n",
    "    \"\"\"Creates a random forest classifier via grid search.\n",
    "\n",
    "    Args:\n",
    "        x (ndarray): Training input examples.\n",
    "        y (ndarray): Training target values.\n",
    "        hyperparameters (Dict[str, List[Any]], optional): Dictionary of hyperparameters for the grid search. Defaults to the fixed ones.\n",
    "        n_jobs: Number of jobs to run in parallel in the grid search.\n",
    "\n",
    "    Returns:\n",
    "        RandomForestClassifier: Random forest classifier.\n",
    "    \"\"\"\n",
    "\n",
    "    ab = AdaBoostClassifier()\n",
    "    clf = HalvingGridSearchCV(ab, hyperparameters, refit=True, n_jobs=n_jobs, verbose=0)\n",
    "    clf.fit(x, y)\n",
    "    return clf.best_estimator_"
   ]
  },
  {
   "cell_type": "code",
   "execution_count": 9,
   "metadata": {},
   "outputs": [],
   "source": [
    "ab = create_adaboost(X_train, y_train)"
   ]
  },
  {
   "cell_type": "code",
   "execution_count": 10,
   "metadata": {},
   "outputs": [
    {
     "name": "stdout",
     "output_type": "stream",
     "text": [
      "              precision    recall  f1-score   support\n",
      "\n",
      "           0       0.89      0.94      0.91      8157\n",
      "           1       0.78      0.64      0.70      2690\n",
      "\n",
      "    accuracy                           0.87     10847\n",
      "   macro avg       0.83      0.79      0.81     10847\n",
      "weighted avg       0.86      0.87      0.86     10847\n",
      "\n"
     ]
    }
   ],
   "source": [
    "print(classification_report(y_test, ab.predict(X_test)))"
   ]
  },
  {
   "cell_type": "code",
   "execution_count": 31,
   "metadata": {},
   "outputs": [],
   "source": [
    "save_pickle_bz2(\"adult_adab.bz2\", ab)"
   ]
  },
  {
   "cell_type": "markdown",
   "metadata": {},
   "source": [
    "## Neural Network"
   ]
  },
  {
   "cell_type": "code",
   "execution_count": 52,
   "metadata": {},
   "outputs": [],
   "source": [
    "import tensorflow as tf\n",
    "import tensorflow.keras as keras\n",
    "from tensorflow.keras import layers\n",
    "from scikeras.wrappers import KerasClassifier # this wrapper makes a keras model compatible with the sklearn APIs\n",
    "\n",
    "def create_neural_network(input_shape, activation=\"relu\"):\n",
    "    model = keras.Sequential([\n",
    "        layers.Input(shape=(input_shape,)),\n",
    "        layers.Dense(32, activation=activation),\n",
    "        layers.Dense(16, activation=activation),\n",
    "        layers.Dense(8, activation=activation),\n",
    "        layers.Dense(1, activation='sigmoid')\n",
    "    ])\n",
    "    \n",
    "    model.compile(loss='binary_crossentropy', optimizer='adam', metrics=['accuracy'])\n",
    "    return model"
   ]
  },
  {
   "cell_type": "code",
   "execution_count": 53,
   "metadata": {},
   "outputs": [],
   "source": [
    "nn = KerasClassifier(create_neural_network(X_train.shape[1]))"
   ]
  },
  {
   "cell_type": "code",
   "execution_count": 54,
   "metadata": {},
   "outputs": [
    {
     "name": "stdout",
     "output_type": "stream",
     "text": [
      "Epoch 1/20\n",
      "554/554 [==============================] - 1s 1ms/step - loss: 0.4166 - accuracy: 0.8041 - val_loss: 0.3444 - val_accuracy: 0.8364\n",
      "Epoch 2/20\n",
      "554/554 [==============================] - 1s 1ms/step - loss: 0.3304 - accuracy: 0.8462 - val_loss: 0.3339 - val_accuracy: 0.8435\n",
      "Epoch 3/20\n",
      "554/554 [==============================] - 1s 1ms/step - loss: 0.3258 - accuracy: 0.8473 - val_loss: 0.3369 - val_accuracy: 0.8395\n",
      "Epoch 4/20\n",
      "554/554 [==============================] - 1s 1ms/step - loss: 0.3241 - accuracy: 0.8484 - val_loss: 0.3319 - val_accuracy: 0.8417\n",
      "Epoch 5/20\n",
      "554/554 [==============================] - 1s 1ms/step - loss: 0.3224 - accuracy: 0.8487 - val_loss: 0.3304 - val_accuracy: 0.8434\n",
      "Epoch 6/20\n",
      "554/554 [==============================] - 1s 1ms/step - loss: 0.3219 - accuracy: 0.8506 - val_loss: 0.3317 - val_accuracy: 0.8431\n",
      "Epoch 7/20\n",
      "554/554 [==============================] - 1s 1ms/step - loss: 0.3206 - accuracy: 0.8511 - val_loss: 0.3302 - val_accuracy: 0.8434\n",
      "Epoch 8/20\n",
      "554/554 [==============================] - 1s 1ms/step - loss: 0.3198 - accuracy: 0.8505 - val_loss: 0.3310 - val_accuracy: 0.8438\n",
      "Epoch 9/20\n",
      "554/554 [==============================] - 1s 1ms/step - loss: 0.3195 - accuracy: 0.8497 - val_loss: 0.3304 - val_accuracy: 0.8437\n",
      "Epoch 10/20\n",
      "554/554 [==============================] - 1s 1ms/step - loss: 0.3193 - accuracy: 0.8507 - val_loss: 0.3306 - val_accuracy: 0.8429\n",
      "Epoch 11/20\n",
      "554/554 [==============================] - 1s 1ms/step - loss: 0.3186 - accuracy: 0.8510 - val_loss: 0.3293 - val_accuracy: 0.8442\n",
      "Epoch 12/20\n",
      "554/554 [==============================] - 1s 1ms/step - loss: 0.3183 - accuracy: 0.8504 - val_loss: 0.3304 - val_accuracy: 0.8438\n",
      "Epoch 13/20\n",
      "554/554 [==============================] - 1s 1ms/step - loss: 0.3170 - accuracy: 0.8528 - val_loss: 0.3300 - val_accuracy: 0.8443\n",
      "Epoch 14/20\n",
      "554/554 [==============================] - 1s 1ms/step - loss: 0.3171 - accuracy: 0.8526 - val_loss: 0.3364 - val_accuracy: 0.8393\n",
      "Epoch 15/20\n",
      "554/554 [==============================] - 1s 1ms/step - loss: 0.3167 - accuracy: 0.8519 - val_loss: 0.3298 - val_accuracy: 0.8442\n",
      "Epoch 16/20\n",
      "554/554 [==============================] - 1s 1ms/step - loss: 0.3160 - accuracy: 0.8519 - val_loss: 0.3277 - val_accuracy: 0.8449\n",
      "Epoch 17/20\n",
      "554/554 [==============================] - 1s 1ms/step - loss: 0.3154 - accuracy: 0.8519 - val_loss: 0.3308 - val_accuracy: 0.8443\n",
      "Epoch 18/20\n",
      "554/554 [==============================] - 1s 1ms/step - loss: 0.3154 - accuracy: 0.8537 - val_loss: 0.3282 - val_accuracy: 0.8450\n",
      "Epoch 19/20\n",
      "554/554 [==============================] - 1s 1ms/step - loss: 0.3145 - accuracy: 0.8534 - val_loss: 0.3291 - val_accuracy: 0.8446\n",
      "Epoch 20/20\n",
      "554/554 [==============================] - 1s 1ms/step - loss: 0.3141 - accuracy: 0.8531 - val_loss: 0.3276 - val_accuracy: 0.8441\n"
     ]
    },
    {
     "data": {
      "text/html": [
       "<style>#sk-container-id-8 {color: black;background-color: white;}#sk-container-id-8 pre{padding: 0;}#sk-container-id-8 div.sk-toggleable {background-color: white;}#sk-container-id-8 label.sk-toggleable__label {cursor: pointer;display: block;width: 100%;margin-bottom: 0;padding: 0.3em;box-sizing: border-box;text-align: center;}#sk-container-id-8 label.sk-toggleable__label-arrow:before {content: \"▸\";float: left;margin-right: 0.25em;color: #696969;}#sk-container-id-8 label.sk-toggleable__label-arrow:hover:before {color: black;}#sk-container-id-8 div.sk-estimator:hover label.sk-toggleable__label-arrow:before {color: black;}#sk-container-id-8 div.sk-toggleable__content {max-height: 0;max-width: 0;overflow: hidden;text-align: left;background-color: #f0f8ff;}#sk-container-id-8 div.sk-toggleable__content pre {margin: 0.2em;color: black;border-radius: 0.25em;background-color: #f0f8ff;}#sk-container-id-8 input.sk-toggleable__control:checked~div.sk-toggleable__content {max-height: 200px;max-width: 100%;overflow: auto;}#sk-container-id-8 input.sk-toggleable__control:checked~label.sk-toggleable__label-arrow:before {content: \"▾\";}#sk-container-id-8 div.sk-estimator input.sk-toggleable__control:checked~label.sk-toggleable__label {background-color: #d4ebff;}#sk-container-id-8 div.sk-label input.sk-toggleable__control:checked~label.sk-toggleable__label {background-color: #d4ebff;}#sk-container-id-8 input.sk-hidden--visually {border: 0;clip: rect(1px 1px 1px 1px);clip: rect(1px, 1px, 1px, 1px);height: 1px;margin: -1px;overflow: hidden;padding: 0;position: absolute;width: 1px;}#sk-container-id-8 div.sk-estimator {font-family: monospace;background-color: #f0f8ff;border: 1px dotted black;border-radius: 0.25em;box-sizing: border-box;margin-bottom: 0.5em;}#sk-container-id-8 div.sk-estimator:hover {background-color: #d4ebff;}#sk-container-id-8 div.sk-parallel-item::after {content: \"\";width: 100%;border-bottom: 1px solid gray;flex-grow: 1;}#sk-container-id-8 div.sk-label:hover label.sk-toggleable__label {background-color: #d4ebff;}#sk-container-id-8 div.sk-serial::before {content: \"\";position: absolute;border-left: 1px solid gray;box-sizing: border-box;top: 0;bottom: 0;left: 50%;z-index: 0;}#sk-container-id-8 div.sk-serial {display: flex;flex-direction: column;align-items: center;background-color: white;padding-right: 0.2em;padding-left: 0.2em;position: relative;}#sk-container-id-8 div.sk-item {position: relative;z-index: 1;}#sk-container-id-8 div.sk-parallel {display: flex;align-items: stretch;justify-content: center;background-color: white;position: relative;}#sk-container-id-8 div.sk-item::before, #sk-container-id-8 div.sk-parallel-item::before {content: \"\";position: absolute;border-left: 1px solid gray;box-sizing: border-box;top: 0;bottom: 0;left: 50%;z-index: -1;}#sk-container-id-8 div.sk-parallel-item {display: flex;flex-direction: column;z-index: 1;position: relative;background-color: white;}#sk-container-id-8 div.sk-parallel-item:first-child::after {align-self: flex-end;width: 50%;}#sk-container-id-8 div.sk-parallel-item:last-child::after {align-self: flex-start;width: 50%;}#sk-container-id-8 div.sk-parallel-item:only-child::after {width: 0;}#sk-container-id-8 div.sk-dashed-wrapped {border: 1px dashed gray;margin: 0 0.4em 0.5em 0.4em;box-sizing: border-box;padding-bottom: 0.4em;background-color: white;}#sk-container-id-8 div.sk-label label {font-family: monospace;font-weight: bold;display: inline-block;line-height: 1.2em;}#sk-container-id-8 div.sk-label-container {text-align: center;}#sk-container-id-8 div.sk-container {/* jupyter's `normalize.less` sets `[hidden] { display: none; }` but bootstrap.min.css set `[hidden] { display: none !important; }` so we also need the `!important` here to be able to override the default hidden behavior on the sphinx rendered scikit-learn.org. See: https://github.com/scikit-learn/scikit-learn/issues/21755 */display: inline-block !important;position: relative;}#sk-container-id-8 div.sk-text-repr-fallback {display: none;}</style><div id=\"sk-container-id-8\" class=\"sk-top-container\"><div class=\"sk-text-repr-fallback\"><pre>KerasClassifier(\n",
       "\tmodel=&lt;keras.engine.sequential.Sequential object at 0x7f7cc3841460&gt;\n",
       "\tbuild_fn=None\n",
       "\twarm_start=False\n",
       "\trandom_state=None\n",
       "\toptimizer=rmsprop\n",
       "\tloss=None\n",
       "\tmetrics=None\n",
       "\tbatch_size=None\n",
       "\tvalidation_batch_size=None\n",
       "\tverbose=1\n",
       "\tcallbacks=None\n",
       "\tvalidation_split=0.0\n",
       "\tshuffle=True\n",
       "\trun_eagerly=False\n",
       "\tepochs=1\n",
       "\tclass_weight=None\n",
       ")</pre><b>In a Jupyter environment, please rerun this cell to show the HTML representation or trust the notebook. <br />On GitHub, the HTML representation is unable to render, please try loading this page with nbviewer.org.</b></div><div class=\"sk-container\" hidden><div class=\"sk-item\"><div class=\"sk-estimator sk-toggleable\"><input class=\"sk-toggleable__control sk-hidden--visually\" id=\"sk-estimator-id-8\" type=\"checkbox\" checked><label for=\"sk-estimator-id-8\" class=\"sk-toggleable__label sk-toggleable__label-arrow\">KerasClassifier</label><div class=\"sk-toggleable__content\"><pre>KerasClassifier(\n",
       "\tmodel=&lt;keras.engine.sequential.Sequential object at 0x7f7cc3841460&gt;\n",
       "\tbuild_fn=None\n",
       "\twarm_start=False\n",
       "\trandom_state=None\n",
       "\toptimizer=rmsprop\n",
       "\tloss=None\n",
       "\tmetrics=None\n",
       "\tbatch_size=None\n",
       "\tvalidation_batch_size=None\n",
       "\tverbose=1\n",
       "\tcallbacks=None\n",
       "\tvalidation_split=0.0\n",
       "\tshuffle=True\n",
       "\trun_eagerly=False\n",
       "\tepochs=1\n",
       "\tclass_weight=None\n",
       ")</pre></div></div></div></div></div>"
      ],
      "text/plain": [
       "KerasClassifier(\n",
       "\tmodel=<keras.engine.sequential.Sequential object at 0x7f7cc3841460>\n",
       "\tbuild_fn=None\n",
       "\twarm_start=False\n",
       "\trandom_state=None\n",
       "\toptimizer=rmsprop\n",
       "\tloss=None\n",
       "\tmetrics=None\n",
       "\tbatch_size=None\n",
       "\tvalidation_batch_size=None\n",
       "\tverbose=1\n",
       "\tcallbacks=None\n",
       "\tvalidation_split=0.0\n",
       "\tshuffle=True\n",
       "\trun_eagerly=False\n",
       "\tepochs=1\n",
       "\tclass_weight=None\n",
       ")"
      ]
     },
     "execution_count": 54,
     "metadata": {},
     "output_type": "execute_result"
    }
   ],
   "source": [
    "nn.fit(X_train, y_train, epochs=20, validation_split=0.3)"
   ]
  },
  {
   "cell_type": "code",
   "execution_count": 55,
   "metadata": {},
   "outputs": [
    {
     "name": "stdout",
     "output_type": "stream",
     "text": [
      "339/339 [==============================] - 0s 670us/step\n",
      "              precision    recall  f1-score   support\n",
      "\n",
      "           0       0.87      0.94      0.91      8157\n",
      "           1       0.76      0.58      0.66      2690\n",
      "\n",
      "    accuracy                           0.85     10847\n",
      "   macro avg       0.82      0.76      0.78     10847\n",
      "weighted avg       0.85      0.85      0.85     10847\n",
      "\n"
     ]
    }
   ],
   "source": [
    "print(classification_report(y_test, nn.predict(X_test)))"
   ]
  },
  {
   "cell_type": "code",
   "execution_count": null,
   "metadata": {},
   "outputs": [],
   "source": []
  }
 ],
 "metadata": {
  "kernelspec": {
   "display_name": "Python 3.9.9 64-bit ('ml-environment')",
   "language": "python",
   "name": "python3"
  },
  "language_info": {
   "codemirror_mode": {
    "name": "ipython",
    "version": 3
   },
   "file_extension": ".py",
   "mimetype": "text/x-python",
   "name": "python",
   "nbconvert_exporter": "python",
   "pygments_lexer": "ipython3",
   "version": "3.9.9"
  },
  "orig_nbformat": 4,
  "vscode": {
   "interpreter": {
    "hash": "2926f9c34cf1633401c8a7234a4ce7220d90c6933b8b9775bef28283606af272"
   }
  }
 },
 "nbformat": 4,
 "nbformat_minor": 2
}
