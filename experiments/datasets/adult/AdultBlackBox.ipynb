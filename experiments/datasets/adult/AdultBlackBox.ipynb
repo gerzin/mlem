{
 "cells": [
  {
   "cell_type": "markdown",
   "metadata": {},
   "source": [
    "# Adult black box creation\n",
    "\n",
    "In this notebook I create and save two black boxes with similar performances over the data generated in the [`AdultDatasetPreparation.ipynb`](./AdultDatasetPreparation.ipynb) notebook:\n",
    "* `adult_randfor.bz2` is a RandomForest with the following performances:\n",
    "```\n",
    "              precision    recall  f1-score   support\n",
    "\n",
    "           0       0.88      0.95      0.91      8157\n",
    "           1       0.79      0.61      0.69      2690\n",
    "\n",
    "    accuracy                           0.86     10847\n",
    "   macro avg       0.84      0.78      0.80     10847\n",
    "weighted avg       0.86      0.86      0.86     10847\n",
    "```\n",
    "\n",
    "    \n",
    "* `adult_adab.bz2` is an Adaboost with the following performances:\n",
    "\n",
    "```\n",
    "              precision    recall  f1-score   support\n",
    "\n",
    "           0       0.89      0.94      0.91      8157\n",
    "           1       0.78      0.64      0.70      2690\n",
    "\n",
    "    accuracy                           0.87     10847\n",
    "   macro avg       0.83      0.79      0.81     10847\n",
    "weighted avg       0.86      0.87      0.86     10847\n",
    "```\n",
    "\n",
    "\n",
    "At the end of the notebook there are a few experiments with a NN which do not yield improvements over the above models.\n"
   ]
  },
  {
   "cell_type": "code",
   "execution_count": 1,
   "metadata": {},
   "outputs": [],
   "source": [
    "%matplotlib inline\n",
    "import pandas as pd\n",
    "import numpy as np\n",
    "from pathlib import Path\n",
    "import seaborn as sns\n",
    "import matplotlib.pyplot as plt\n",
    "import sys\n",
    "import sys\n",
    "sys.path.append(\"../../\")\n",
    "\n",
    "sns.set_theme()\n",
    "\n",
    "np.random.seed(123)"
   ]
  },
  {
   "cell_type": "code",
   "execution_count": 2,
   "metadata": {},
   "outputs": [
    {
     "name": "stdout",
     "output_type": "stream",
     "text": [
      "X_train y_train X_test y_test X_validation y_validation X_validation_noisy y_validation_noisy X_attack_2_per_quantile y_attack_2_per_quantile X_attack_3_per_quantile y_attack_3_per_quantile categorical_features numerical_features categorical_features_mask centroids\n"
     ]
    }
   ],
   "source": [
    "loaded = np.load(\"adult-blackbox-data.npz\")\n",
    "print(*loaded.keys())"
   ]
  },
  {
   "cell_type": "code",
   "execution_count": 3,
   "metadata": {},
   "outputs": [],
   "source": [
    "X_train, y_train = loaded['X_train'], loaded['y_train']\n",
    "X_test, y_test = loaded['X_test'], loaded['y_test']"
   ]
  },
  {
   "cell_type": "markdown",
   "metadata": {},
   "source": [
    "# Creating a Black Box"
   ]
  },
  {
   "cell_type": "code",
   "execution_count": 10,
   "metadata": {},
   "outputs": [],
   "source": [
    "from sklearn.ensemble import RandomForestClassifier\n",
    "from sklearn.experimental import enable_halving_search_cv\n",
    "from sklearn.model_selection import HalvingGridSearchCV\n",
    "from sklearn.metrics import confusion_matrix, classification_report\n",
    "from utils.models import save_pickle_bz2"
   ]
  },
  {
   "cell_type": "markdown",
   "metadata": {},
   "source": [
    "## Random Forest"
   ]
  },
  {
   "cell_type": "code",
   "execution_count": 5,
   "metadata": {},
   "outputs": [],
   "source": [
    "# Hyperparameters of the grid search\n",
    "__HYPERPARAMETERS = {\n",
    "    \"bootstrap\": [True, False],\n",
    "    \"max_depth\": [100, 350, 500],\n",
    "    \"min_samples_leaf\": [10, 20, 50],\n",
    "    \"min_samples_split\": [5, 10, 50],\n",
    "    \"n_estimators\": [100, 150, 350, 500],\n",
    "    \"criterion\": [\"gini\", \"entropy\"],\n",
    "}\n",
    "\n",
    "def create_random_forest(\n",
    "        x,\n",
    "        y,\n",
    "        hyperparameters=__HYPERPARAMETERS,\n",
    "        n_jobs=12\n",
    ") -> RandomForestClassifier:\n",
    "    \"\"\"Creates a random forest classifier via grid search.\n",
    "\n",
    "    Args:\n",
    "        x (ndarray): Training input examples.\n",
    "        y (ndarray): Training target values.\n",
    "        hyperparameters (Dict[str, List[Any]], optional): Dictionary of hyperparameters for the grid search. Defaults to the fixed ones.\n",
    "        n_jobs: Number of jobs to run in parallel in the grid search.\n",
    "\n",
    "    Returns:\n",
    "        RandomForestClassifier: Random forest classifier.\n",
    "    \"\"\"\n",
    "\n",
    "    rf = RandomForestClassifier()\n",
    "    clf = HalvingGridSearchCV(rf, hyperparameters, refit=True, n_jobs=n_jobs, verbose=0)\n",
    "    clf.fit(x, y)\n",
    "    return clf.best_estimator_"
   ]
  },
  {
   "cell_type": "code",
   "execution_count": 6,
   "metadata": {},
   "outputs": [],
   "source": [
    "rf = create_random_forest(X_train, y_train)"
   ]
  },
  {
   "cell_type": "code",
   "execution_count": 7,
   "metadata": {},
   "outputs": [
    {
     "name": "stdout",
     "output_type": "stream",
     "text": [
      "              precision    recall  f1-score   support\n",
      "\n",
      "           0       0.88      0.95      0.91      8157\n",
      "           1       0.79      0.61      0.69      2690\n",
      "\n",
      "    accuracy                           0.86     10847\n",
      "   macro avg       0.84      0.78      0.80     10847\n",
      "weighted avg       0.86      0.86      0.86     10847\n",
      "\n"
     ]
    }
   ],
   "source": [
    "print(classification_report(y_test, rf.predict(X_test)))"
   ]
  },
  {
   "cell_type": "code",
   "execution_count": 32,
   "metadata": {},
   "outputs": [],
   "source": [
    "save_pickle_bz2(\"adult_randfor.bz2\", rf)"
   ]
  },
  {
   "cell_type": "markdown",
   "metadata": {},
   "source": [
    "## Adaboost"
   ]
  },
  {
   "cell_type": "code",
   "execution_count": 8,
   "metadata": {},
   "outputs": [],
   "source": [
    "from sklearn.ensemble import AdaBoostClassifier\n",
    "\n",
    "__HYPERPARAMETERS_AB = {\n",
    "    \"n_estimators\": [50, 100, 150, 200],\n",
    "    \"random_state\": [123]\n",
    "}\n",
    "\n",
    "def create_adaboost(\n",
    "        x,\n",
    "        y,\n",
    "        hyperparameters=__HYPERPARAMETERS_AB,\n",
    "        n_jobs=12\n",
    ") -> RandomForestClassifier:\n",
    "    \"\"\"Creates a random forest classifier via grid search.\n",
    "\n",
    "    Args:\n",
    "        x (ndarray): Training input examples.\n",
    "        y (ndarray): Training target values.\n",
    "        hyperparameters (Dict[str, List[Any]], optional): Dictionary of hyperparameters for the grid search. Defaults to the fixed ones.\n",
    "        n_jobs: Number of jobs to run in parallel in the grid search.\n",
    "\n",
    "    Returns:\n",
    "        RandomForestClassifier: Random forest classifier.\n",
    "    \"\"\"\n",
    "\n",
    "    ab = AdaBoostClassifier()\n",
    "    clf = HalvingGridSearchCV(ab, hyperparameters, refit=True, n_jobs=n_jobs, verbose=0)\n",
    "    clf.fit(x, y)\n",
    "    return clf.best_estimator_"
   ]
  },
  {
   "cell_type": "code",
   "execution_count": 9,
   "metadata": {},
   "outputs": [],
   "source": [
    "ab = create_adaboost(X_train, y_train)"
   ]
  },
  {
   "cell_type": "code",
   "execution_count": 10,
   "metadata": {},
   "outputs": [
    {
     "name": "stdout",
     "output_type": "stream",
     "text": [
      "              precision    recall  f1-score   support\n",
      "\n",
      "           0       0.89      0.94      0.91      8157\n",
      "           1       0.78      0.64      0.70      2690\n",
      "\n",
      "    accuracy                           0.87     10847\n",
      "   macro avg       0.83      0.79      0.81     10847\n",
      "weighted avg       0.86      0.87      0.86     10847\n",
      "\n"
     ]
    }
   ],
   "source": [
    "print(classification_report(y_test, ab.predict(X_test)))"
   ]
  },
  {
   "cell_type": "code",
   "execution_count": 31,
   "metadata": {},
   "outputs": [],
   "source": [
    "save_pickle_bz2(\"adult_adab.bz2\", ab)"
   ]
  },
  {
   "cell_type": "markdown",
   "metadata": {},
   "source": [
    "## Neural Network"
   ]
  },
  {
   "cell_type": "code",
   "execution_count": 12,
   "metadata": {},
   "outputs": [
    {
     "name": "stdout",
     "output_type": "stream",
     "text": [
      "GPU?: [PhysicalDevice(name='/physical_device:GPU:0', device_type='GPU')]\n"
     ]
    }
   ],
   "source": [
    "import tensorflow as tf\n",
    "import tensorflow.keras as keras\n",
    "from tensorflow.keras import layers\n",
    "from scikeras.wrappers import KerasClassifier # this wrapper makes a keras model compatible with the sklearn APIs\n",
    "tf.get_logger().setLevel('ERROR')\n",
    "print(f\"GPU?: {tf.config.list_physical_devices('GPU')}\")\n",
    "\n",
    "def create_neural_network(input_shape, activation=\"relu\"):\n",
    "    model = keras.Sequential([\n",
    "        layers.Input(shape=(input_shape,)),\n",
    "        layers.Dense(32, activation=activation),\n",
    "        layers.Dense(16, activation=activation),\n",
    "        layers.Dense(8, activation=activation),\n",
    "        layers.Dense(1, activation='sigmoid')\n",
    "    ])\n",
    "    \n",
    "    model.compile(loss='binary_crossentropy', optimizer='adam', metrics=['accuracy'])\n",
    "    return model"
   ]
  },
  {
   "cell_type": "code",
   "execution_count": 13,
   "metadata": {},
   "outputs": [],
   "source": [
    "model = create_neural_network(X_train.shape[1])"
   ]
  },
  {
   "cell_type": "code",
   "execution_count": 14,
   "metadata": {},
   "outputs": [
    {
     "name": "stdout",
     "output_type": "stream",
     "text": [
      "Epoch 1/20\n",
      "712/712 [==============================] - 2s 2ms/step - loss: 0.3930 - accuracy: 0.8233 - val_loss: 0.3435 - val_accuracy: 0.8356\n",
      "Epoch 2/20\n",
      "712/712 [==============================] - 1s 1ms/step - loss: 0.3305 - accuracy: 0.8445 - val_loss: 0.3417 - val_accuracy: 0.8376\n",
      "Epoch 3/20\n",
      "712/712 [==============================] - 1s 1ms/step - loss: 0.3266 - accuracy: 0.8470 - val_loss: 0.3384 - val_accuracy: 0.8333\n",
      "Epoch 4/20\n",
      "712/712 [==============================] - 1s 1ms/step - loss: 0.3248 - accuracy: 0.8479 - val_loss: 0.3341 - val_accuracy: 0.8408\n",
      "Epoch 5/20\n",
      "712/712 [==============================] - 1s 2ms/step - loss: 0.3228 - accuracy: 0.8488 - val_loss: 0.3422 - val_accuracy: 0.8368\n",
      "Epoch 6/20\n",
      "712/712 [==============================] - 1s 2ms/step - loss: 0.3219 - accuracy: 0.8487 - val_loss: 0.3371 - val_accuracy: 0.8356\n",
      "Epoch 7/20\n",
      "712/712 [==============================] - 1s 2ms/step - loss: 0.3202 - accuracy: 0.8504 - val_loss: 0.3345 - val_accuracy: 0.8404\n",
      "Epoch 8/20\n",
      "712/712 [==============================] - 1s 2ms/step - loss: 0.3190 - accuracy: 0.8503 - val_loss: 0.3320 - val_accuracy: 0.8443\n",
      "Epoch 9/20\n",
      "712/712 [==============================] - 1s 2ms/step - loss: 0.3183 - accuracy: 0.8516 - val_loss: 0.3416 - val_accuracy: 0.8352\n",
      "Epoch 10/20\n",
      "712/712 [==============================] - 1s 2ms/step - loss: 0.3181 - accuracy: 0.8506 - val_loss: 0.3387 - val_accuracy: 0.8364\n",
      "Epoch 11/20\n",
      "712/712 [==============================] - 1s 1ms/step - loss: 0.3183 - accuracy: 0.8502 - val_loss: 0.3332 - val_accuracy: 0.8435\n",
      "Epoch 12/20\n",
      "712/712 [==============================] - 1s 1ms/step - loss: 0.3166 - accuracy: 0.8510 - val_loss: 0.3382 - val_accuracy: 0.8396\n",
      "Epoch 13/20\n",
      "712/712 [==============================] - 1s 2ms/step - loss: 0.3158 - accuracy: 0.8508 - val_loss: 0.3349 - val_accuracy: 0.8384\n",
      "Epoch 14/20\n",
      "712/712 [==============================] - 1s 2ms/step - loss: 0.3154 - accuracy: 0.8520 - val_loss: 0.3327 - val_accuracy: 0.8392\n",
      "Epoch 15/20\n",
      "712/712 [==============================] - 1s 2ms/step - loss: 0.3150 - accuracy: 0.8517 - val_loss: 0.3359 - val_accuracy: 0.8372\n",
      "Epoch 16/20\n",
      "712/712 [==============================] - 1s 2ms/step - loss: 0.3141 - accuracy: 0.8522 - val_loss: 0.3443 - val_accuracy: 0.8388\n",
      "Epoch 17/20\n",
      "712/712 [==============================] - 1s 2ms/step - loss: 0.3138 - accuracy: 0.8520 - val_loss: 0.3373 - val_accuracy: 0.8348\n",
      "Epoch 18/20\n",
      "712/712 [==============================] - 1s 2ms/step - loss: 0.3137 - accuracy: 0.8530 - val_loss: 0.3354 - val_accuracy: 0.8380\n",
      "Epoch 19/20\n",
      "712/712 [==============================] - 1s 1ms/step - loss: 0.3135 - accuracy: 0.8520 - val_loss: 0.3408 - val_accuracy: 0.8388\n",
      "Epoch 20/20\n",
      "712/712 [==============================] - 1s 2ms/step - loss: 0.3133 - accuracy: 0.8539 - val_loss: 0.3352 - val_accuracy: 0.8400\n"
     ]
    }
   ],
   "source": [
    "history = model.fit(X_train, y_train, epochs=20, validation_split=0.1, verbose=1)"
   ]
  },
  {
   "cell_type": "code",
   "execution_count": 15,
   "metadata": {},
   "outputs": [
    {
     "data": {
      "image/png": "[encoded data removed]",
      "text/plain": [
       "<Figure size 576x360 with 1 Axes>"
      ]
     },
     "metadata": {},
     "output_type": "display_data"
    }
   ],
   "source": [
    "pd.DataFrame(history.history).plot(figsize=(8,5))\n",
    "plt.grid(True)\n",
    "plt.gca().set_ylim(0,1)\n",
    "plt.show()"
   ]
  },
  {
   "cell_type": "code",
   "execution_count": 16,
   "metadata": {},
   "outputs": [
    {
     "name": "stdout",
     "output_type": "stream",
     "text": [
      "              precision    recall  f1-score   support\n",
      "\n",
      "           0       0.87      0.94      0.91      8157\n",
      "           1       0.76      0.59      0.67      2690\n",
      "\n",
      "    accuracy                           0.85     10847\n",
      "   macro avg       0.82      0.77      0.79     10847\n",
      "weighted avg       0.85      0.85      0.85     10847\n",
      "\n"
     ]
    }
   ],
   "source": [
    "print(classification_report(y_test, model.predict(X_test).round()))"
   ]
  }
 ],
 "metadata": {
  "kernelspec": {
   "display_name": "Python 3.9.9 64-bit ('ml-environment')",
   "language": "python",
   "name": "python3"
  },
  "language_info": {
   "codemirror_mode": {
    "name": "ipython",
    "version": 3
   },
   "file_extension": ".py",
   "mimetype": "text/x-python",
   "name": "python",
   "nbconvert_exporter": "python",
   "pygments_lexer": "ipython3",
   "version": "3.9.9"
  },
  "orig_nbformat": 4,
  "vscode": {
   "interpreter": {
    "hash": "2926f9c34cf1633401c8a7234a4ce7220d90c6933b8b9775bef28283606af272"
   }
  }
 },
 "nbformat": 4,
 "nbformat_minor": 2
}
