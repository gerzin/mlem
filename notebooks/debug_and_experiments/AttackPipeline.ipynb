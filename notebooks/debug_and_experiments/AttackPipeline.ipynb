{
 "cells": [
  {
   "cell_type": "code",
   "execution_count": 1,
   "metadata": {
    "pycharm": {
     "name": "#%%\n"
    },
    "tags": []
   },
   "outputs": [],
   "source": [
    "import pandas as pd\n",
    "import numpy as np\n",
    "from sklearn.datasets import make_classification\n",
    "import scipy.spatial.distance as distance\n",
    "from sklearn.mixture import GaussianMixture"
   ]
  },
  {
   "cell_type": "code",
   "execution_count": 2,
   "metadata": {},
   "outputs": [],
   "source": [
    "data = make_classification(n_classes=2, n_features=5, n_samples=500)\n",
    "data_lime = make_classification(n_classes=2, n_features=5, n_samples=500)"
   ]
  },
  {
   "cell_type": "code",
   "execution_count": 3,
   "metadata": {},
   "outputs": [],
   "source": [
    "df = pd.DataFrame(data[0])\n",
    "df['Target'] = data[1]\n",
    "df_lime = pd.DataFrame(data_lime[0])\n",
    "df_lime['Target'] = data_lime[1]"
   ]
  },
  {
   "cell_type": "code",
   "execution_count": 4,
   "metadata": {},
   "outputs": [
    {
     "data": {
      "text/plain": [
       "array([1, 1, 1, 1, 0])"
      ]
     },
     "execution_count": 4,
     "metadata": {},
     "output_type": "execute_result"
    }
   ],
   "source": [
    "class DummyBB:\n",
    "    def __init__(self):\n",
    "        pass\n",
    "    def predict(self, x):\n",
    "        return np.random.randint(2, size=len(x))\n",
    "black_box = DummyBB()\n",
    "black_box.predict(np.random.randn(5,3))"
   ]
  },
  {
   "cell_type": "code",
   "execution_count": 5,
   "metadata": {},
   "outputs": [],
   "source": [
    "def sample_dataset_from_gaussian_mixture(dataset, categorical_mask):\n",
    "    gm = GaussianMixture(n_components=3, random_state=123).fit(dataset)\n",
    "    stat_dataset = gm.sample(n_samples=5000)\n",
    "    return stat_dataset"
   ]
  },
  {
   "cell_type": "code",
   "execution_count": 7,
   "metadata": {},
   "outputs": [
    {
     "name": "stderr",
     "output_type": "stream",
     "text": [
      "/home/gerardozinno/.pyenv/versions/ml-environment/lib/python3.9/site-packages/sklearn/utils/validation.py:1858: FutureWarning: Feature names only support names that are all strings. Got feature names with dtypes: ['int', 'str']. An error will be raised in 1.2.\n",
      "  warnings.warn(\n"
     ]
    },
    {
     "data": {
      "text/plain": [
       "(array([[ 7.05564683e-01,  1.84592410e+00,  2.77170475e+00,\n",
       "         -1.45990904e+00, -2.02336352e-01,  9.99571087e-01],\n",
       "        [ 1.21169944e+00,  1.00452079e+00, -4.02242473e-02,\n",
       "          1.29763109e-01, -1.09762045e+00,  9.99361098e-01],\n",
       "        [-2.87582361e+00, -2.43178788e+00, -8.71022635e-03,\n",
       "         -2.20957066e+00,  2.58920172e+00,  1.00038619e+00],\n",
       "        ...,\n",
       "        [-1.22237988e+00, -1.53520138e+00, -1.11979415e+00,\n",
       "         -8.60076139e-01,  9.25425042e-01,  5.11945963e-04],\n",
       "        [-1.63450590e+00, -2.08732825e+00, -1.56711292e+00,\n",
       "          1.14634850e+00,  1.22833709e+00,  4.30501175e-04],\n",
       "        [-6.74525827e-01, -7.77160843e-01, -4.66157297e-01,\n",
       "         -1.70970384e+00,  5.34988841e-01,  1.82790084e-03]]),\n",
       " array([0, 0, 0, ..., 2, 2, 2]))"
      ]
     },
     "execution_count": 7,
     "metadata": {},
     "output_type": "execute_result"
    }
   ],
   "source": [
    "sample_dataset_from_gaussian_mixture(df_lime, categorical_mask=[False])"
   ]
  },
  {
   "cell_type": "code",
   "execution_count": 8,
   "metadata": {},
   "outputs": [],
   "source": [
    "gm = GaussianMixture()"
   ]
  },
  {
   "cell_type": "code",
   "execution_count": 9,
   "metadata": {},
   "outputs": [],
   "source": [
    "def get_labels_distr_bin(y):\n",
    "    unique, counts = np.unique(y, return_counts=True)\n",
    "    print(unique)\n",
    "    return np.array([x/len(y) for x in counts])"
   ]
  },
  {
   "cell_type": "code",
   "execution_count": 13,
   "metadata": {},
   "outputs": [
    {
     "name": "stdout",
     "output_type": "stream",
     "text": [
      "[0 1]\n"
     ]
    }
   ],
   "source": [
    "a, b = get_labels_distr_bin([1,0,1,0,1,1])"
   ]
  },
  {
   "cell_type": "code",
   "execution_count": 14,
   "metadata": {},
   "outputs": [
    {
     "data": {
      "text/plain": [
       "0.3333333333333333"
      ]
     },
     "execution_count": 14,
     "metadata": {},
     "output_type": "execute_result"
    }
   ],
   "source": [
    "a"
   ]
  },
  {
   "cell_type": "code",
   "execution_count": 15,
   "metadata": {},
   "outputs": [],
   "source": [
    "def stat_sample_dataset(x_train, n_samples=8000):\n",
    "    gm = GaussianMixture(n_components=3, random_state=123).fit(x_train)\n",
    "    stat_dataset = gm.sample(n_samples=n_samples)\n",
    "    return stat_dataset"
   ]
  },
  {
   "cell_type": "code",
   "execution_count": 17,
   "metadata": {},
   "outputs": [],
   "source": [
    "a, b = stat_sample_dataset(df.drop('Target', axis=1).to_numpy())"
   ]
  },
  {
   "cell_type": "code",
   "execution_count": 18,
   "metadata": {},
   "outputs": [
    {
     "data": {
      "text/plain": [
       "array([[ 0.55012575, -0.54278105,  0.24938183, -1.60750234,  0.26415763],\n",
       "       [ 0.7805263 , -1.30092364, -0.32961757,  0.78469063, -0.13199155],\n",
       "       [ 0.83582371, -1.96589603, -1.08016128,  0.47478613, -0.68330589],\n",
       "       ...,\n",
       "       [-2.64121466,  2.31202654, -1.5574769 ,  1.04459641, -1.54090114],\n",
       "       [-2.1548527 ,  1.72822223, -1.47169333,  0.34450012, -1.40557203],\n",
       "       [-0.59325653,  0.28181663, -0.65503118,  1.48407546, -0.57217342]])"
      ]
     },
     "execution_count": 18,
     "metadata": {},
     "output_type": "execute_result"
    }
   ],
   "source": [
    "a"
   ]
  },
  {
   "cell_type": "code",
   "execution_count": 22,
   "metadata": {},
   "outputs": [
    {
     "data": {
      "text/plain": [
       "array([0, 1, 2])"
      ]
     },
     "execution_count": 22,
     "metadata": {},
     "output_type": "execute_result"
    }
   ],
   "source": [
    "np.unique(b)"
   ]
  },
  {
   "cell_type": "code",
   "execution_count": null,
   "metadata": {},
   "outputs": [],
   "source": []
  }
 ],
 "metadata": {
  "kernelspec": {
   "display_name": "Python 3 (ipykernel)",
   "language": "python",
   "name": "python3"
  },
  "language_info": {
   "codemirror_mode": {
    "name": "ipython",
    "version": 3
   },
   "file_extension": ".py",
   "mimetype": "text/x-python",
   "name": "python",
   "nbconvert_exporter": "python",
   "pygments_lexer": "ipython3",
   "version": "3.9.9"
  }
 },
 "nbformat": 4,
 "nbformat_minor": 4
}
