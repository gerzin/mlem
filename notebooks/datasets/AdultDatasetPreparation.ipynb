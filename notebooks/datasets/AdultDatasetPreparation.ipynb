{
 "cells": [
  {
   "cell_type": "code",
   "execution_count": 1,
   "id": "d2ca07af-43f7-49a3-919b-76e225f92ec4",
   "metadata": {},
   "outputs": [],
   "source": [
    "import numpy as np\n",
    "import pandas as pd\n",
    "import matplotlib.pyplot as plt\n",
    "import seaborn as sns; sns.set()"
   ]
  },
  {
   "cell_type": "code",
   "execution_count": 2,
   "id": "b18a422b-f522-4773-ad55-ca034039428f",
   "metadata": {},
   "outputs": [],
   "source": [
    "np.random.seed(10)"
   ]
  },
  {
   "cell_type": "markdown",
   "id": "92e1875e-cfbc-485b-b950-45bebe519a33",
   "metadata": {},
   "source": [
    "# GETTING THE DATASET\n",
    "Here I download the dataset (3/4 Mb, but pandas is a bit slow to download it), delete the rows with missing values and replace the targets with a 0 and 1 instead of '<=50K', '>50K'"
   ]
  },
  {
   "cell_type": "code",
   "execution_count": 3,
   "id": "08dfaa7d-5098-476e-bb06-3a0e118fc9c4",
   "metadata": {},
   "outputs": [],
   "source": [
    "DATASET_URL = 'https://archive.ics.uci.edu/ml/machine-learning-databases/adult/adult.data'\n",
    "columns = ['Age', 'Workclass', 'Fnlwgt', 'Education', 'Education-num', 'Marital-status', 'Occupation', 'Relationship', 'Race', 'Sex', 'Capital-gain', 'Capital-loss', 'Hours-per-week', 'Native-country', 'Target']\n",
    "df = pd.read_csv(DATASET_URL, names=columns, na_values=['?', ' ?', '? '])"
   ]
  },
  {
   "cell_type": "code",
   "execution_count": 4,
   "id": "50d37421-b5b6-42e4-9c0f-0e86a712156b",
   "metadata": {},
   "outputs": [],
   "source": [
    "# strip the strings\n",
    "df_str = df.select_dtypes(['object'])\n",
    "df[df_str.columns] = df_str.apply(lambda x: x.str.strip())\n",
    "# remove missing values and duplicates\n",
    "df = df.dropna()\n",
    "df = df.drop_duplicates()\n",
    "# map the target into {0,1}\n",
    "map_targ = {\n",
    "        '<=50K': 0,\n",
    "        '>50K': 1\n",
    "}\n",
    "df['Target'] = df.iloc[:, -1].map(map_targ)"
   ]
  },
  {
   "cell_type": "code",
   "execution_count": 5,
   "id": "5bb55890-d7d6-47f0-b7f2-fc45663f654d",
   "metadata": {},
   "outputs": [
    {
     "name": "stdout",
     "output_type": "stream",
     "text": [
      "<class 'pandas.core.frame.DataFrame'>\n",
      "Int64Index: 30139 entries, 0 to 32560\n",
      "Data columns (total 15 columns):\n",
      " #   Column          Non-Null Count  Dtype \n",
      "---  ------          --------------  ----- \n",
      " 0   Age             30139 non-null  int64 \n",
      " 1   Workclass       30139 non-null  object\n",
      " 2   Fnlwgt          30139 non-null  int64 \n",
      " 3   Education       30139 non-null  object\n",
      " 4   Education-num   30139 non-null  int64 \n",
      " 5   Marital-status  30139 non-null  object\n",
      " 6   Occupation      30139 non-null  object\n",
      " 7   Relationship    30139 non-null  object\n",
      " 8   Race            30139 non-null  object\n",
      " 9   Sex             30139 non-null  object\n",
      " 10  Capital-gain    30139 non-null  int64 \n",
      " 11  Capital-loss    30139 non-null  int64 \n",
      " 12  Hours-per-week  30139 non-null  int64 \n",
      " 13  Native-country  30139 non-null  object\n",
      " 14  Target          30139 non-null  int64 \n",
      "dtypes: int64(7), object(8)\n",
      "memory usage: 3.7+ MB\n"
     ]
    }
   ],
   "source": [
    "df.info()"
   ]
  },
  {
   "cell_type": "code",
   "execution_count": 6,
   "id": "52371a00-772b-414d-a5a7-aa23150f1778",
   "metadata": {},
   "outputs": [
    {
     "data": {
      "text/plain": [
       "0    22633\n",
       "1     7506\n",
       "Name: Target, dtype: int64"
      ]
     },
     "execution_count": 6,
     "metadata": {},
     "output_type": "execute_result"
    }
   ],
   "source": [
    "df['Target'].value_counts()"
   ]
  },
  {
   "cell_type": "code",
   "execution_count": 7,
   "id": "baaff544-e6f4-4036-8985-f58a6f198f88",
   "metadata": {},
   "outputs": [
    {
     "data": {
      "text/html": [
       "<div>\n",
       "<style scoped>\n",
       "    .dataframe tbody tr th:only-of-type {\n",
       "        vertical-align: middle;\n",
       "    }\n",
       "\n",
       "    .dataframe tbody tr th {\n",
       "        vertical-align: top;\n",
       "    }\n",
       "\n",
       "    .dataframe thead th {\n",
       "        text-align: right;\n",
       "    }\n",
       "</style>\n",
       "<table border=\"1\" class=\"dataframe\">\n",
       "  <thead>\n",
       "    <tr style=\"text-align: right;\">\n",
       "      <th></th>\n",
       "      <th>Age</th>\n",
       "      <th>Workclass</th>\n",
       "      <th>Fnlwgt</th>\n",
       "      <th>Education</th>\n",
       "      <th>Education-num</th>\n",
       "      <th>Marital-status</th>\n",
       "      <th>Occupation</th>\n",
       "      <th>Relationship</th>\n",
       "      <th>Race</th>\n",
       "      <th>Sex</th>\n",
       "      <th>Capital-gain</th>\n",
       "      <th>Capital-loss</th>\n",
       "      <th>Hours-per-week</th>\n",
       "      <th>Native-country</th>\n",
       "      <th>Target</th>\n",
       "    </tr>\n",
       "  </thead>\n",
       "  <tbody>\n",
       "    <tr>\n",
       "      <th>0</th>\n",
       "      <td>39</td>\n",
       "      <td>State-gov</td>\n",
       "      <td>77516</td>\n",
       "      <td>Bachelors</td>\n",
       "      <td>13</td>\n",
       "      <td>Never-married</td>\n",
       "      <td>Adm-clerical</td>\n",
       "      <td>Not-in-family</td>\n",
       "      <td>White</td>\n",
       "      <td>Male</td>\n",
       "      <td>2174</td>\n",
       "      <td>0</td>\n",
       "      <td>40</td>\n",
       "      <td>United-States</td>\n",
       "      <td>0</td>\n",
       "    </tr>\n",
       "    <tr>\n",
       "      <th>1</th>\n",
       "      <td>50</td>\n",
       "      <td>Self-emp-not-inc</td>\n",
       "      <td>83311</td>\n",
       "      <td>Bachelors</td>\n",
       "      <td>13</td>\n",
       "      <td>Married-civ-spouse</td>\n",
       "      <td>Exec-managerial</td>\n",
       "      <td>Husband</td>\n",
       "      <td>White</td>\n",
       "      <td>Male</td>\n",
       "      <td>0</td>\n",
       "      <td>0</td>\n",
       "      <td>13</td>\n",
       "      <td>United-States</td>\n",
       "      <td>0</td>\n",
       "    </tr>\n",
       "    <tr>\n",
       "      <th>2</th>\n",
       "      <td>38</td>\n",
       "      <td>Private</td>\n",
       "      <td>215646</td>\n",
       "      <td>HS-grad</td>\n",
       "      <td>9</td>\n",
       "      <td>Divorced</td>\n",
       "      <td>Handlers-cleaners</td>\n",
       "      <td>Not-in-family</td>\n",
       "      <td>White</td>\n",
       "      <td>Male</td>\n",
       "      <td>0</td>\n",
       "      <td>0</td>\n",
       "      <td>40</td>\n",
       "      <td>United-States</td>\n",
       "      <td>0</td>\n",
       "    </tr>\n",
       "  </tbody>\n",
       "</table>\n",
       "</div>"
      ],
      "text/plain": [
       "   Age         Workclass  Fnlwgt  Education  Education-num  \\\n",
       "0   39         State-gov   77516  Bachelors             13   \n",
       "1   50  Self-emp-not-inc   83311  Bachelors             13   \n",
       "2   38           Private  215646    HS-grad              9   \n",
       "\n",
       "       Marital-status         Occupation   Relationship   Race   Sex  \\\n",
       "0       Never-married       Adm-clerical  Not-in-family  White  Male   \n",
       "1  Married-civ-spouse    Exec-managerial        Husband  White  Male   \n",
       "2            Divorced  Handlers-cleaners  Not-in-family  White  Male   \n",
       "\n",
       "   Capital-gain  Capital-loss  Hours-per-week Native-country  Target  \n",
       "0          2174             0              40  United-States       0  \n",
       "1             0             0              13  United-States       0  \n",
       "2             0             0              40  United-States       0  "
      ]
     },
     "execution_count": 7,
     "metadata": {},
     "output_type": "execute_result"
    }
   ],
   "source": [
    "df.head(3)"
   ]
  },
  {
   "cell_type": "markdown",
   "id": "9a9a52a0-aa07-4e8f-a455-5c212835264c",
   "metadata": {},
   "source": [
    "# Features preparation\n",
    "\n",
    "Extract the numerical features and scale them"
   ]
  },
  {
   "cell_type": "code",
   "execution_count": 8,
   "id": "200db15c-9bd1-49fa-8767-f9d39626f021",
   "metadata": {},
   "outputs": [],
   "source": [
    "from sklearn.preprocessing import StandardScaler, Normalizer"
   ]
  },
  {
   "cell_type": "code",
   "execution_count": 9,
   "id": "dd3d23d0-d082-4a16-bfa1-af2fc378b315",
   "metadata": {},
   "outputs": [],
   "source": [
    "NUMERICAL_FEATURES = ['Age', 'Fnlwgt', 'Education-num', 'Capital-gain', 'Capital-loss']\n",
    "\n",
    "df_numerical = df[NUMERICAL_FEATURES + ['Target']].copy()\n",
    "\n",
    "# Scale the numerical features\n",
    "scaler = StandardScaler()\n",
    "df_numerical[NUMERICAL_FEATURES] = scaler.fit_transform(df_numerical[NUMERICAL_FEATURES])"
   ]
  },
  {
   "cell_type": "code",
   "execution_count": 10,
   "id": "76c0ba47-4048-49ba-a733-51913532b1f3",
   "metadata": {},
   "outputs": [
    {
     "data": {
      "text/html": [
       "<div>\n",
       "<style scoped>\n",
       "    .dataframe tbody tr th:only-of-type {\n",
       "        vertical-align: middle;\n",
       "    }\n",
       "\n",
       "    .dataframe tbody tr th {\n",
       "        vertical-align: top;\n",
       "    }\n",
       "\n",
       "    .dataframe thead th {\n",
       "        text-align: right;\n",
       "    }\n",
       "</style>\n",
       "<table border=\"1\" class=\"dataframe\">\n",
       "  <thead>\n",
       "    <tr style=\"text-align: right;\">\n",
       "      <th></th>\n",
       "      <th>Age</th>\n",
       "      <th>Fnlwgt</th>\n",
       "      <th>Education-num</th>\n",
       "      <th>Capital-gain</th>\n",
       "      <th>Capital-loss</th>\n",
       "      <th>Target</th>\n",
       "    </tr>\n",
       "  </thead>\n",
       "  <tbody>\n",
       "    <tr>\n",
       "      <th>0</th>\n",
       "      <td>0.042516</td>\n",
       "      <td>-1.062676</td>\n",
       "      <td>1.128996</td>\n",
       "      <td>0.145925</td>\n",
       "      <td>-0.218673</td>\n",
       "      <td>0</td>\n",
       "    </tr>\n",
       "    <tr>\n",
       "      <th>1</th>\n",
       "      <td>0.880215</td>\n",
       "      <td>-1.007829</td>\n",
       "      <td>1.128996</td>\n",
       "      <td>-0.147502</td>\n",
       "      <td>-0.218673</td>\n",
       "      <td>0</td>\n",
       "    </tr>\n",
       "    <tr>\n",
       "      <th>2</th>\n",
       "      <td>-0.033639</td>\n",
       "      <td>0.244669</td>\n",
       "      <td>-0.440434</td>\n",
       "      <td>-0.147502</td>\n",
       "      <td>-0.218673</td>\n",
       "      <td>0</td>\n",
       "    </tr>\n",
       "    <tr>\n",
       "      <th>3</th>\n",
       "      <td>1.108678</td>\n",
       "      <td>0.425206</td>\n",
       "      <td>-1.225149</td>\n",
       "      <td>-0.147502</td>\n",
       "      <td>-0.218673</td>\n",
       "      <td>0</td>\n",
       "    </tr>\n",
       "    <tr>\n",
       "      <th>4</th>\n",
       "      <td>-0.795183</td>\n",
       "      <td>1.406572</td>\n",
       "      <td>1.128996</td>\n",
       "      <td>-0.147502</td>\n",
       "      <td>-0.218673</td>\n",
       "      <td>0</td>\n",
       "    </tr>\n",
       "    <tr>\n",
       "      <th>...</th>\n",
       "      <td>...</td>\n",
       "      <td>...</td>\n",
       "      <td>...</td>\n",
       "      <td>...</td>\n",
       "      <td>...</td>\n",
       "      <td>...</td>\n",
       "    </tr>\n",
       "    <tr>\n",
       "      <th>32556</th>\n",
       "      <td>-0.871338</td>\n",
       "      <td>0.638926</td>\n",
       "      <td>0.736639</td>\n",
       "      <td>-0.147502</td>\n",
       "      <td>-0.218673</td>\n",
       "      <td>0</td>\n",
       "    </tr>\n",
       "    <tr>\n",
       "      <th>32557</th>\n",
       "      <td>0.118670</td>\n",
       "      <td>-0.335246</td>\n",
       "      <td>-0.440434</td>\n",
       "      <td>-0.147502</td>\n",
       "      <td>-0.218673</td>\n",
       "      <td>1</td>\n",
       "    </tr>\n",
       "    <tr>\n",
       "      <th>32558</th>\n",
       "      <td>1.489450</td>\n",
       "      <td>-0.358567</td>\n",
       "      <td>-0.440434</td>\n",
       "      <td>-0.147502</td>\n",
       "      <td>-0.218673</td>\n",
       "      <td>0</td>\n",
       "    </tr>\n",
       "    <tr>\n",
       "      <th>32559</th>\n",
       "      <td>-1.252110</td>\n",
       "      <td>0.110688</td>\n",
       "      <td>-0.440434</td>\n",
       "      <td>-0.147502</td>\n",
       "      <td>-0.218673</td>\n",
       "      <td>0</td>\n",
       "    </tr>\n",
       "    <tr>\n",
       "      <th>32560</th>\n",
       "      <td>1.032523</td>\n",
       "      <td>0.928780</td>\n",
       "      <td>-0.440434</td>\n",
       "      <td>1.880305</td>\n",
       "      <td>-0.218673</td>\n",
       "      <td>1</td>\n",
       "    </tr>\n",
       "  </tbody>\n",
       "</table>\n",
       "<p>30139 rows × 6 columns</p>\n",
       "</div>"
      ],
      "text/plain": [
       "            Age    Fnlwgt  Education-num  Capital-gain  Capital-loss  Target\n",
       "0      0.042516 -1.062676       1.128996      0.145925     -0.218673       0\n",
       "1      0.880215 -1.007829       1.128996     -0.147502     -0.218673       0\n",
       "2     -0.033639  0.244669      -0.440434     -0.147502     -0.218673       0\n",
       "3      1.108678  0.425206      -1.225149     -0.147502     -0.218673       0\n",
       "4     -0.795183  1.406572       1.128996     -0.147502     -0.218673       0\n",
       "...         ...       ...            ...           ...           ...     ...\n",
       "32556 -0.871338  0.638926       0.736639     -0.147502     -0.218673       0\n",
       "32557  0.118670 -0.335246      -0.440434     -0.147502     -0.218673       1\n",
       "32558  1.489450 -0.358567      -0.440434     -0.147502     -0.218673       0\n",
       "32559 -1.252110  0.110688      -0.440434     -0.147502     -0.218673       0\n",
       "32560  1.032523  0.928780      -0.440434      1.880305     -0.218673       1\n",
       "\n",
       "[30139 rows x 6 columns]"
      ]
     },
     "execution_count": 10,
     "metadata": {},
     "output_type": "execute_result"
    }
   ],
   "source": [
    "df_numerical"
   ]
  },
  {
   "cell_type": "markdown",
   "id": "e6be0fef-b499-4d24-b5b5-e34f33ebdcda",
   "metadata": {},
   "source": [
    "# Clustering"
   ]
  },
  {
   "cell_type": "markdown",
   "id": "9ed717f7-90ef-42df-87ad-8a873a2b9491",
   "metadata": {},
   "source": [
    "Imports and utility functions"
   ]
  },
  {
   "cell_type": "code",
   "execution_count": 11,
   "id": "f73089d3-31e8-4a21-b2fb-a5b1bb20cd85",
   "metadata": {},
   "outputs": [],
   "source": [
    "from sklearn.cluster import KMeans\n",
    "from sklearn import metrics\n",
    "from sklearn.metrics import silhouette_score\n",
    "from kneed import KneeLocator"
   ]
  },
  {
   "cell_type": "code",
   "execution_count": 12,
   "id": "1f253337-7d82-42df-905c-aee1dcf17607",
   "metadata": {},
   "outputs": [],
   "source": [
    "CLUSTERS = [*range(2, 12)]"
   ]
  },
  {
   "cell_type": "code",
   "execution_count": 13,
   "id": "89bd13e6-1a67-486c-91f0-09c202eb88f0",
   "metadata": {},
   "outputs": [],
   "source": [
    "def print_metrics(X, kmeans):\n",
    "    \"\"\"print the metrics of the kmeans model.\n",
    "    Parameters\n",
    "    ----------\n",
    "        X - normalized dataset\n",
    "        kmeans - model.\n",
    "    Prints\n",
    "    ------\n",
    "        K\n",
    "        SSE\n",
    "        Silhouette score\n",
    "        Separation\n",
    "    \n",
    "    \"\"\"\n",
    "    print(f'K={len(kmeans.cluster_centers_)}')\n",
    "    print('\\tSSE:\\t\\t{}'.format(kmeans.inertia_))\n",
    "    print('\\tSilhouette:\\t\\t{}'.format(metrics.silhouette_score(X, kmeans.labels_)))\n",
    "    print('\\tDaviesBouldin score:\\t\\t{}'.format(metrics.davies_bouldin_score(X, kmeans.labels_)))\n",
    "\n",
    "def run_kmeans(X, range_nclusters=CLUSTERS):\n",
    "    '''runs kmeans for different values of k'''\n",
    "    inertia, models = [], []\n",
    "    for k in range_nclusters:\n",
    "        k_means = KMeans(init='k-means++', n_clusters= k, n_init=20, random_state=123)\n",
    "        model = k_means.fit(X) #returns fitted estimator\n",
    "        models.append(model)\n",
    "        inertia.append(k_means.inertia_)\n",
    "    return inertia, models"
   ]
  },
  {
   "cell_type": "markdown",
   "id": "6bf70588-369b-468f-a770-047e10938b7d",
   "metadata": {},
   "source": [
    "## Class 0\n",
    "Compute the clusters for class $0$"
   ]
  },
  {
   "cell_type": "code",
   "execution_count": 28,
   "id": "ae976218-73ba-4604-8206-bbf049cd7507",
   "metadata": {},
   "outputs": [],
   "source": [
    "zeroes = df_numerical[df_numerical['Target'] == 0].copy()"
   ]
  },
  {
   "cell_type": "code",
   "execution_count": 15,
   "id": "5e956877-f125-4d74-b5a0-99603cdf4d4d",
   "metadata": {},
   "outputs": [],
   "source": [
    "wcss_0, models_0 = run_kmeans(zeroes[NUMERICAL_FEATURES])"
   ]
  },
  {
   "cell_type": "code",
   "execution_count": 16,
   "id": "f5cd7b8c-db8a-40ed-bb15-fb45ea91dbb1",
   "metadata": {},
   "outputs": [
    {
     "name": "stdout",
     "output_type": "stream",
     "text": [
      "K=2\n",
      "\tSSE:\t\t63831.006741162106\n",
      "\tSilhouette:\t\t0.2552998888638537\n",
      "\tDaviesBouldin score:\t\t1.581301395476283\n",
      "K=3\n",
      "\tSSE:\t\t51503.01747275321\n",
      "\tSilhouette:\t\t0.27813943678632086\n",
      "\tDaviesBouldin score:\t\t1.1913434368355498\n",
      "K=4\n",
      "\tSSE:\t\t40636.09948004913\n",
      "\tSilhouette:\t\t0.2843852517397693\n",
      "\tDaviesBouldin score:\t\t1.083047950117436\n",
      "K=5\n",
      "\tSSE:\t\t33723.290347028604\n",
      "\tSilhouette:\t\t0.29922619998416083\n",
      "\tDaviesBouldin score:\t\t0.9977057657651812\n",
      "K=6\n",
      "\tSSE:\t\t29483.557526698864\n",
      "\tSilhouette:\t\t0.3070600574999428\n",
      "\tDaviesBouldin score:\t\t0.9979324332981961\n",
      "K=7\n",
      "\tSSE:\t\t26760.33925953259\n",
      "\tSilhouette:\t\t0.270694082019993\n",
      "\tDaviesBouldin score:\t\t1.047926295733393\n",
      "K=8\n",
      "\tSSE:\t\t24715.332045885636\n",
      "\tSilhouette:\t\t0.256985518762944\n",
      "\tDaviesBouldin score:\t\t1.0559173553310746\n",
      "K=9\n",
      "\tSSE:\t\t22903.12106860362\n",
      "\tSilhouette:\t\t0.26322841507445494\n",
      "\tDaviesBouldin score:\t\t1.0261740095776104\n",
      "K=10\n",
      "\tSSE:\t\t21374.70532036135\n",
      "\tSilhouette:\t\t0.2696351020444503\n",
      "\tDaviesBouldin score:\t\t1.0120815164789208\n",
      "K=11\n",
      "\tSSE:\t\t19928.19568087851\n",
      "\tSilhouette:\t\t0.27840196756453917\n",
      "\tDaviesBouldin score:\t\t1.0146402159736705\n"
     ]
    }
   ],
   "source": [
    "for m in models_0:\n",
    "    print_metrics(zeroes[NUMERICAL_FEATURES], m)"
   ]
  },
  {
   "cell_type": "code",
   "execution_count": 17,
   "id": "f75d0a50-1bdb-4ffd-98d3-1963b2d223c3",
   "metadata": {},
   "outputs": [
    {
     "data": {
      "image/png": "[encoded data removed]",
      "text/plain": [
       "<Figure size 432x288 with 1 Axes>"
      ]
     },
     "metadata": {},
     "output_type": "display_data"
    }
   ],
   "source": [
    "sil_score_0 = []\n",
    "for m in models_0:\n",
    "    sil_score_0.append(silhouette_score(zeroes[NUMERICAL_FEATURES], m.labels_))\n",
    "    \n",
    "plt.plot(CLUSTERS, sil_score_0, 'bo-', label=\"K-means\")\n",
    "plt.vlines(np.argmax(sil_score_0) + 2, min(sil_score_0), max(sil_score_0), 'r', '--', label=\"max silhouette\")\n",
    "plt.xticks(CLUSTERS)\n",
    "plt.xlabel(\"K\")\n",
    "plt.xticks(range(2, 11))\n",
    "plt.ylabel(\"Silhouette score\")\n",
    "plt.legend()\n",
    "plt.show()"
   ]
  },
  {
   "cell_type": "code",
   "execution_count": 18,
   "id": "782814e3-c99e-4906-bfd6-1e974302e0b1",
   "metadata": {},
   "outputs": [
    {
     "data": {
      "image/png": "[encoded data removed]",
      "text/plain": [
       "<Figure size 432x288 with 1 Axes>"
      ]
     },
     "metadata": {},
     "output_type": "display_data"
    }
   ],
   "source": [
    "kl = KneeLocator(CLUSTERS, wcss_0, curve=\"convex\", direction=\"decreasing\")\n",
    "plt.plot(CLUSTERS, wcss_0, 'o-', label=\"K-means\")\n",
    "plt.vlines(kl.elbow, min(wcss_0), max(wcss_0), 'r', '--', label=\"elbow\")\n",
    "plt.xticks(CLUSTERS)\n",
    "plt.xlabel(\"K\")\n",
    "plt.ylabel(\"WCSS\")\n",
    "plt.legend()\n",
    "plt.show()"
   ]
  },
  {
   "cell_type": "markdown",
   "id": "77cdde03-b0c5-4285-b916-337c6267fe65",
   "metadata": {},
   "source": [
    "Pick $k = 5$"
   ]
  },
  {
   "cell_type": "code",
   "execution_count": 22,
   "id": "e1324d36-dc36-4c1b-84be-9038d5aa283a",
   "metadata": {},
   "outputs": [
    {
     "name": "stdout",
     "output_type": "stream",
     "text": [
      "KMeans(n_clusters=5, n_init=20, random_state=123)\n"
     ]
    }
   ],
   "source": [
    "kmeans_0 = models_0[3]\n",
    "print(kmeans_0)"
   ]
  },
  {
   "cell_type": "code",
   "execution_count": 30,
   "id": "7b802b96-2e7a-45f8-acaf-f514f59bfd88",
   "metadata": {},
   "outputs": [],
   "source": [
    "clusters_0 = kmeans_0.predict(zeroes[NUMERICAL_FEATURES])\n",
    "\n",
    "zeroes['Cluster'] = clusters_0\n",
    "\n",
    "zeroes"
   ]
  },
  {
   "cell_type": "code",
   "execution_count": 41,
   "id": "4da166ba-f443-4d01-bc7d-5d18674e5b7a",
   "metadata": {},
   "outputs": [
    {
     "data": {
      "text/plain": [
       "2    8803\n",
       "3    5427\n",
       "4    4178\n",
       "0    3567\n",
       "1     658\n",
       "Name: Cluster, dtype: int64"
      ]
     },
     "execution_count": 41,
     "metadata": {},
     "output_type": "execute_result"
    }
   ],
   "source": [
    "zeroes['Cluster'].value_counts()"
   ]
  },
  {
   "cell_type": "markdown",
   "id": "4a6025b3-6a31-4a49-bea1-2f351ad5099e",
   "metadata": {},
   "source": [
    "## Class 1\n",
    "Compute the clusters for class $1$"
   ]
  },
  {
   "cell_type": "code",
   "execution_count": 31,
   "id": "eea6d909-d43c-4c05-ad3f-5aa06af6fe5d",
   "metadata": {},
   "outputs": [],
   "source": [
    "ones = df_numerical[df_numerical['Target'] == 1].copy()"
   ]
  },
  {
   "cell_type": "code",
   "execution_count": 32,
   "id": "3365e8c0-e065-4ca2-882a-be505cc4d8f3",
   "metadata": {},
   "outputs": [],
   "source": [
    "wcss_1, models_1 = run_kmeans(ones[NUMERICAL_FEATURES])"
   ]
  },
  {
   "cell_type": "code",
   "execution_count": 33,
   "id": "03fd17a7-17e1-4176-91ea-891f63e7f6ac",
   "metadata": {},
   "outputs": [
    {
     "name": "stdout",
     "output_type": "stream",
     "text": [
      "K=2\n",
      "\tSSE:\t\t37150.38774810925\n",
      "\tSilhouette:\t\t0.7969001241835686\n",
      "\tDaviesBouldin score:\t\t0.2560647192018851\n",
      "K=3\n",
      "\tSSE:\t\t21254.271745611128\n",
      "\tSilhouette:\t\t0.6033587746319867\n",
      "\tDaviesBouldin score:\t\t0.4941953568760528\n",
      "K=4\n",
      "\tSSE:\t\t16816.139344629057\n",
      "\tSilhouette:\t\t0.30347247765596697\n",
      "\tDaviesBouldin score:\t\t0.9936463936829607\n",
      "K=5\n",
      "\tSSE:\t\t13789.572972048065\n",
      "\tSilhouette:\t\t0.3178756875711479\n",
      "\tDaviesBouldin score:\t\t0.9403264767486696\n",
      "K=6\n",
      "\tSSE:\t\t12180.671719785285\n",
      "\tSilhouette:\t\t0.32950109162196806\n",
      "\tDaviesBouldin score:\t\t0.9228915021564218\n",
      "K=7\n",
      "\tSSE:\t\t11035.897887392823\n",
      "\tSilhouette:\t\t0.30585771902355596\n",
      "\tDaviesBouldin score:\t\t0.9676521730211665\n",
      "K=8\n",
      "\tSSE:\t\t10129.200272678125\n",
      "\tSilhouette:\t\t0.2864427613300817\n",
      "\tDaviesBouldin score:\t\t1.0182902977182713\n",
      "K=9\n",
      "\tSSE:\t\t9518.804678173123\n",
      "\tSilhouette:\t\t0.29312906896165103\n",
      "\tDaviesBouldin score:\t\t1.0826880661658844\n",
      "K=10\n",
      "\tSSE:\t\t8984.522411893198\n",
      "\tSilhouette:\t\t0.26285808597042515\n",
      "\tDaviesBouldin score:\t\t1.205239616582261\n",
      "K=11\n",
      "\tSSE:\t\t8475.424912019114\n",
      "\tSilhouette:\t\t0.26711338303584625\n",
      "\tDaviesBouldin score:\t\t1.144507527748487\n"
     ]
    }
   ],
   "source": [
    "for m in models_1:\n",
    "    print_metrics(ones[NUMERICAL_FEATURES], m)"
   ]
  },
  {
   "cell_type": "code",
   "execution_count": 34,
   "id": "89e4b398-af51-4151-b87b-a2af39073f26",
   "metadata": {},
   "outputs": [
    {
     "data": {
      "image/png": "[encoded data removed]",
      "text/plain": [
       "<Figure size 432x288 with 1 Axes>"
      ]
     },
     "metadata": {},
     "output_type": "display_data"
    }
   ],
   "source": [
    "sil_score_1 = []\n",
    "for m in models_1:\n",
    "    sil_score_1.append(silhouette_score(ones[NUMERICAL_FEATURES], m.labels_))\n",
    "    \n",
    "plt.plot(CLUSTERS, sil_score_1, 'bo-', label=\"K-means\")\n",
    "plt.vlines(np.argmax(sil_score_1) + 2, min(sil_score_1), max(sil_score_1), 'r', '--', label=\"max silhouette\")\n",
    "plt.xticks(CLUSTERS)\n",
    "plt.xlabel(\"K\")\n",
    "plt.xticks(range(2, 11))\n",
    "plt.ylabel(\"Silhouette score\")\n",
    "plt.legend()\n",
    "plt.show()"
   ]
  },
  {
   "cell_type": "code",
   "execution_count": 35,
   "id": "f01f6958-ead1-4291-92d0-35d6b46c947f",
   "metadata": {},
   "outputs": [
    {
     "data": {
      "image/png": "[encoded data removed]",
      "text/plain": [
       "<Figure size 432x288 with 1 Axes>"
      ]
     },
     "metadata": {},
     "output_type": "display_data"
    }
   ],
   "source": [
    "kl = KneeLocator(CLUSTERS, wcss_1, curve=\"convex\", direction=\"decreasing\")\n",
    "plt.plot(CLUSTERS, wcss_1, 'o-', label=\"K-means\")\n",
    "plt.vlines(kl.elbow, min(wcss_1), max(wcss_1), 'r', '--', label=\"elbow\")\n",
    "plt.xticks(CLUSTERS)\n",
    "plt.xlabel(\"K\")\n",
    "plt.ylabel(\"WCSS\")\n",
    "plt.legend()\n",
    "plt.show()"
   ]
  },
  {
   "cell_type": "markdown",
   "id": "a0672264-6883-431a-a2d1-544ce0082587",
   "metadata": {},
   "source": [
    "Pick $k=4$"
   ]
  },
  {
   "cell_type": "code",
   "execution_count": 38,
   "id": "1ec92da2-d4cd-4ccd-a2fe-38bb5ed5be0f",
   "metadata": {},
   "outputs": [
    {
     "name": "stdout",
     "output_type": "stream",
     "text": [
      "KMeans(n_clusters=4, n_init=20, random_state=123)\n"
     ]
    }
   ],
   "source": [
    "kmeans_1 = models_1[2]\n",
    "print(kmeans_1)"
   ]
  },
  {
   "cell_type": "code",
   "execution_count": 39,
   "id": "08436bd4-e680-42b7-a58f-aefec9e48b8f",
   "metadata": {},
   "outputs": [
    {
     "data": {
      "text/html": [
       "<div>\n",
       "<style scoped>\n",
       "    .dataframe tbody tr th:only-of-type {\n",
       "        vertical-align: middle;\n",
       "    }\n",
       "\n",
       "    .dataframe tbody tr th {\n",
       "        vertical-align: top;\n",
       "    }\n",
       "\n",
       "    .dataframe thead th {\n",
       "        text-align: right;\n",
       "    }\n",
       "</style>\n",
       "<table border=\"1\" class=\"dataframe\">\n",
       "  <thead>\n",
       "    <tr style=\"text-align: right;\">\n",
       "      <th></th>\n",
       "      <th>Age</th>\n",
       "      <th>Fnlwgt</th>\n",
       "      <th>Education-num</th>\n",
       "      <th>Capital-gain</th>\n",
       "      <th>Capital-loss</th>\n",
       "      <th>Target</th>\n",
       "      <th>Cluster</th>\n",
       "    </tr>\n",
       "  </thead>\n",
       "  <tbody>\n",
       "    <tr>\n",
       "      <th>7</th>\n",
       "      <td>1.032523</td>\n",
       "      <td>0.187844</td>\n",
       "      <td>-0.440434</td>\n",
       "      <td>-0.147502</td>\n",
       "      <td>-0.218673</td>\n",
       "      <td>1</td>\n",
       "      <td>2</td>\n",
       "    </tr>\n",
       "    <tr>\n",
       "      <th>8</th>\n",
       "      <td>-0.566720</td>\n",
       "      <td>-1.363035</td>\n",
       "      <td>1.521353</td>\n",
       "      <td>1.753432</td>\n",
       "      <td>-0.218673</td>\n",
       "      <td>1</td>\n",
       "      <td>0</td>\n",
       "    </tr>\n",
       "    <tr>\n",
       "      <th>9</th>\n",
       "      <td>0.270979</td>\n",
       "      <td>-0.287213</td>\n",
       "      <td>1.128996</td>\n",
       "      <td>0.551379</td>\n",
       "      <td>-0.218673</td>\n",
       "      <td>1</td>\n",
       "      <td>0</td>\n",
       "    </tr>\n",
       "    <tr>\n",
       "      <th>10</th>\n",
       "      <td>-0.109793</td>\n",
       "      <td>0.858146</td>\n",
       "      <td>-0.048076</td>\n",
       "      <td>-0.147502</td>\n",
       "      <td>-0.218673</td>\n",
       "      <td>1</td>\n",
       "      <td>2</td>\n",
       "    </tr>\n",
       "    <tr>\n",
       "      <th>11</th>\n",
       "      <td>-0.642875</td>\n",
       "      <td>-0.459014</td>\n",
       "      <td>1.128996</td>\n",
       "      <td>-0.147502</td>\n",
       "      <td>-0.218673</td>\n",
       "      <td>1</td>\n",
       "      <td>0</td>\n",
       "    </tr>\n",
       "    <tr>\n",
       "      <th>...</th>\n",
       "      <td>...</td>\n",
       "      <td>...</td>\n",
       "      <td>...</td>\n",
       "      <td>...</td>\n",
       "      <td>...</td>\n",
       "      <td>...</td>\n",
       "      <td>...</td>\n",
       "    </tr>\n",
       "    <tr>\n",
       "      <th>32538</th>\n",
       "      <td>-0.033639</td>\n",
       "      <td>-0.479051</td>\n",
       "      <td>1.128996</td>\n",
       "      <td>1.879765</td>\n",
       "      <td>-0.218673</td>\n",
       "      <td>1</td>\n",
       "      <td>0</td>\n",
       "    </tr>\n",
       "    <tr>\n",
       "      <th>32545</th>\n",
       "      <td>0.042516</td>\n",
       "      <td>-0.741041</td>\n",
       "      <td>0.736639</td>\n",
       "      <td>-0.147502</td>\n",
       "      <td>-0.218673</td>\n",
       "      <td>1</td>\n",
       "      <td>0</td>\n",
       "    </tr>\n",
       "    <tr>\n",
       "      <th>32554</th>\n",
       "      <td>1.108678</td>\n",
       "      <td>1.249989</td>\n",
       "      <td>1.521353</td>\n",
       "      <td>-0.147502</td>\n",
       "      <td>-0.218673</td>\n",
       "      <td>1</td>\n",
       "      <td>0</td>\n",
       "    </tr>\n",
       "    <tr>\n",
       "      <th>32557</th>\n",
       "      <td>0.118670</td>\n",
       "      <td>-0.335246</td>\n",
       "      <td>-0.440434</td>\n",
       "      <td>-0.147502</td>\n",
       "      <td>-0.218673</td>\n",
       "      <td>1</td>\n",
       "      <td>2</td>\n",
       "    </tr>\n",
       "    <tr>\n",
       "      <th>32560</th>\n",
       "      <td>1.032523</td>\n",
       "      <td>0.928780</td>\n",
       "      <td>-0.440434</td>\n",
       "      <td>1.880305</td>\n",
       "      <td>-0.218673</td>\n",
       "      <td>1</td>\n",
       "      <td>2</td>\n",
       "    </tr>\n",
       "  </tbody>\n",
       "</table>\n",
       "<p>7506 rows × 7 columns</p>\n",
       "</div>"
      ],
      "text/plain": [
       "            Age    Fnlwgt  Education-num  Capital-gain  Capital-loss  Target  \\\n",
       "7      1.032523  0.187844      -0.440434     -0.147502     -0.218673       1   \n",
       "8     -0.566720 -1.363035       1.521353      1.753432     -0.218673       1   \n",
       "9      0.270979 -0.287213       1.128996      0.551379     -0.218673       1   \n",
       "10    -0.109793  0.858146      -0.048076     -0.147502     -0.218673       1   \n",
       "11    -0.642875 -0.459014       1.128996     -0.147502     -0.218673       1   \n",
       "...         ...       ...            ...           ...           ...     ...   \n",
       "32538 -0.033639 -0.479051       1.128996      1.879765     -0.218673       1   \n",
       "32545  0.042516 -0.741041       0.736639     -0.147502     -0.218673       1   \n",
       "32554  1.108678  1.249989       1.521353     -0.147502     -0.218673       1   \n",
       "32557  0.118670 -0.335246      -0.440434     -0.147502     -0.218673       1   \n",
       "32560  1.032523  0.928780      -0.440434      1.880305     -0.218673       1   \n",
       "\n",
       "       Cluster  \n",
       "7            2  \n",
       "8            0  \n",
       "9            0  \n",
       "10           2  \n",
       "11           0  \n",
       "...        ...  \n",
       "32538        0  \n",
       "32545        0  \n",
       "32554        0  \n",
       "32557        2  \n",
       "32560        2  \n",
       "\n",
       "[7506 rows x 7 columns]"
      ]
     },
     "execution_count": 39,
     "metadata": {},
     "output_type": "execute_result"
    }
   ],
   "source": [
    "clusters_1 = kmeans_1.predict(ones[NUMERICAL_FEATURES])\n",
    "\n",
    "ones['Cluster'] = clusters_1\n",
    "\n",
    "ones"
   ]
  },
  {
   "cell_type": "code",
   "execution_count": 40,
   "id": "e65270b6-25db-46f7-9af7-0daebe7c553a",
   "metadata": {},
   "outputs": [
    {
     "data": {
      "text/plain": [
       "0    3432\n",
       "2    3191\n",
       "3     735\n",
       "1     148\n",
       "Name: Cluster, dtype: int64"
      ]
     },
     "execution_count": 40,
     "metadata": {},
     "output_type": "execute_result"
    }
   ],
   "source": [
    "ones['Cluster'].value_counts()"
   ]
  },
  {
   "cell_type": "code",
   "execution_count": null,
   "id": "bfb058fd-0a9d-4888-8567-74fde555ca08",
   "metadata": {},
   "outputs": [],
   "source": []
  },
  {
   "cell_type": "markdown",
   "id": "83a9b85f-dab7-4fc0-aed5-11f0d2435940",
   "metadata": {},
   "source": [
    "# Random Forest Creation"
   ]
  },
  {
   "cell_type": "code",
   "execution_count": null,
   "id": "ab3792e2-806a-4bf6-ba09-9473873894cd",
   "metadata": {},
   "outputs": [],
   "source": []
  }
 ],
 "metadata": {
  "kernelspec": {
   "display_name": "Python 3 (ipykernel)",
   "language": "python",
   "name": "python3"
  },
  "language_info": {
   "codemirror_mode": {
    "name": "ipython",
    "version": 3
   },
   "file_extension": ".py",
   "mimetype": "text/x-python",
   "name": "python",
   "nbconvert_exporter": "python",
   "pygments_lexer": "ipython3",
   "version": "3.9.9"
  }
 },
 "nbformat": 4,
 "nbformat_minor": 5
}
