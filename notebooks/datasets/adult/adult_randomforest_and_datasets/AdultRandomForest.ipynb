{
 "cells": [
  {
   "cell_type": "code",
   "execution_count": 1,
   "id": "58c3cce8-8382-4f56-a39f-94158bebf9eb",
   "metadata": {},
   "outputs": [],
   "source": [
    "import numpy as np\n",
    "import bz2\n",
    "import pandas as pd\n",
    "import pickle\n",
    "np.random.seed(10)"
   ]
  },
  {
   "cell_type": "code",
   "execution_count": 2,
   "id": "266d27e1-0a06-4981-a382-5300c9321e0b",
   "metadata": {},
   "outputs": [],
   "source": [
    "RF_PATH=\"adult_randfor.bz2\"\n",
    "DATA_PATH=\"adult_randfor.data.npz\""
   ]
  },
  {
   "cell_type": "markdown",
   "id": "20d82ba8-a4bb-4bd2-bfb3-0427e9f6b75f",
   "metadata": {},
   "source": [
    "Carico la random forest"
   ]
  },
  {
   "cell_type": "code",
   "execution_count": 3,
   "id": "0c7864c3-9c2e-4bbe-abf0-93b93c347a4f",
   "metadata": {},
   "outputs": [
    {
     "name": "stderr",
     "output_type": "stream",
     "text": [
      "/home/gerardozinno/.pyenv/versions/3.9.9/envs/ml-environment/lib/python3.9/site-packages/sklearn/base.py:329: UserWarning: Trying to unpickle estimator DecisionTreeClassifier from version 1.0.1 when using version 1.0.2. This might lead to breaking code or invalid results. Use at your own risk. For more info please refer to:\n",
      "https://scikit-learn.org/stable/modules/model_persistence.html#security-maintainability-limitations\n",
      "  warnings.warn(\n",
      "/home/gerardozinno/.pyenv/versions/3.9.9/envs/ml-environment/lib/python3.9/site-packages/sklearn/base.py:329: UserWarning: Trying to unpickle estimator RandomForestClassifier from version 1.0.1 when using version 1.0.2. This might lead to breaking code or invalid results. Use at your own risk. For more info please refer to:\n",
      "https://scikit-learn.org/stable/modules/model_persistence.html#security-maintainability-limitations\n",
      "  warnings.warn(\n"
     ]
    }
   ],
   "source": [
    "with bz2.BZ2File(RF_PATH) as f:\n",
    "    black_box = pickle.load(f)"
   ]
  },
  {
   "cell_type": "code",
   "execution_count": 4,
   "id": "a1554814-b4a2-4a25-937b-c5d4c1343bf6",
   "metadata": {},
   "outputs": [
    {
     "data": {
      "text/plain": [
       "RandomForestClassifier(criterion='entropy', max_depth=350, max_features='sqrt',\n",
       "                       min_samples_leaf=10, min_samples_split=10,\n",
       "                       n_estimators=350)"
      ]
     },
     "execution_count": 4,
     "metadata": {},
     "output_type": "execute_result"
    }
   ],
   "source": [
    "black_box"
   ]
  },
  {
   "cell_type": "code",
   "execution_count": 5,
   "id": "0221bb73-e33d-4aff-aa89-de86487d247e",
   "metadata": {},
   "outputs": [
    {
     "name": "stdout",
     "output_type": "stream",
     "text": [
      "x_train\n",
      "x_test\n",
      "y_train\n",
      "y_test\n",
      "x_test_clustered\n",
      "y_test_clustered\n"
     ]
    }
   ],
   "source": [
    "loaded = np.load(DATA_PATH, allow_pickle=True)\n",
    "for key in loaded.keys():\n",
    "    print(key)"
   ]
  },
  {
   "cell_type": "markdown",
   "id": "eb8382cf-77af-4efc-b4d1-2e123de8bb73",
   "metadata": {},
   "source": [
    "x_test_clustered contiene i 5 elementi più vicini ad ogni centroide, estratti dal test set."
   ]
  },
  {
   "cell_type": "code",
   "execution_count": 6,
   "id": "b9942965-72c4-4e26-9e52-8e1512750c7b",
   "metadata": {},
   "outputs": [],
   "source": [
    "x_train, x_test, x_test_clustered = loaded['x_train'], loaded['x_test'], loaded['x_test_clustered']\n",
    "y_train, y_test, y_test_clustered = loaded['y_train'], loaded['y_test'], loaded['y_test_clustered']"
   ]
  },
  {
   "cell_type": "markdown",
   "id": "3b26c23e-9add-4ec5-90bc-1f7109544bb3",
   "metadata": {},
   "source": [
    "Nei file csv sono contenute anche le informazioni relative ai cluster "
   ]
  },
  {
   "cell_type": "code",
   "execution_count": 7,
   "id": "11578aa4-8929-4b93-a983-5246089d3787",
   "metadata": {},
   "outputs": [],
   "source": [
    "trainset = pd.read_csv(\"adult_trainset.csv\")\n",
    "testset  = pd.read_csv(\"adult_testset.csv\")\n",
    "closest = pd.read_csv(\"adult_clustered_5_closest.csv\")"
   ]
  },
  {
   "cell_type": "markdown",
   "id": "599f2627-1601-45ac-b477-51b3e0609e9a",
   "metadata": {},
   "source": [
    "La prima colonna, `Unnamed: 0` contiene l'indice della riga nel dataset adult originale, deve essere scartata, era lì solo per un eventuale debug. (closest ne ha due da scartare)"
   ]
  },
  {
   "cell_type": "code",
   "execution_count": 8,
   "id": "0a43326d-72be-41aa-ab55-6c2fc85859d3",
   "metadata": {},
   "outputs": [
    {
     "data": {
      "text/html": [
       "<div>\n",
       "<style scoped>\n",
       "    .dataframe tbody tr th:only-of-type {\n",
       "        vertical-align: middle;\n",
       "    }\n",
       "\n",
       "    .dataframe tbody tr th {\n",
       "        vertical-align: top;\n",
       "    }\n",
       "\n",
       "    .dataframe thead th {\n",
       "        text-align: right;\n",
       "    }\n",
       "</style>\n",
       "<table border=\"1\" class=\"dataframe\">\n",
       "  <thead>\n",
       "    <tr style=\"text-align: right;\">\n",
       "      <th></th>\n",
       "      <th>Unnamed: 0</th>\n",
       "      <th>Age</th>\n",
       "      <th>Workclass</th>\n",
       "      <th>Fnlwgt</th>\n",
       "      <th>Education</th>\n",
       "      <th>Education-num</th>\n",
       "      <th>Marital-status</th>\n",
       "      <th>Occupation</th>\n",
       "      <th>Relationship</th>\n",
       "      <th>Race</th>\n",
       "      <th>Sex</th>\n",
       "      <th>Capital-gain</th>\n",
       "      <th>Capital-loss</th>\n",
       "      <th>Hours-per-week</th>\n",
       "      <th>Native-country</th>\n",
       "      <th>Target</th>\n",
       "      <th>Cluster</th>\n",
       "    </tr>\n",
       "  </thead>\n",
       "  <tbody>\n",
       "    <tr>\n",
       "      <th>0</th>\n",
       "      <td>7662</td>\n",
       "      <td>0.11867</td>\n",
       "      <td>0.285829</td>\n",
       "      <td>-0.895058</td>\n",
       "      <td>0.421658</td>\n",
       "      <td>1.128996</td>\n",
       "      <td>0.048399</td>\n",
       "      <td>0.485342</td>\n",
       "      <td>0.106689</td>\n",
       "      <td>0.263855</td>\n",
       "      <td>0.313955</td>\n",
       "      <td>-0.147502</td>\n",
       "      <td>-0.218673</td>\n",
       "      <td>0.756794</td>\n",
       "      <td>0.254411</td>\n",
       "      <td>0</td>\n",
       "      <td>1</td>\n",
       "    </tr>\n",
       "  </tbody>\n",
       "</table>\n",
       "</div>"
      ],
      "text/plain": [
       "   Unnamed: 0      Age  Workclass    Fnlwgt  Education  Education-num  \\\n",
       "0        7662  0.11867   0.285829 -0.895058   0.421658       1.128996   \n",
       "\n",
       "   Marital-status  Occupation  Relationship      Race       Sex  Capital-gain  \\\n",
       "0        0.048399    0.485342      0.106689  0.263855  0.313955     -0.147502   \n",
       "\n",
       "   Capital-loss  Hours-per-week  Native-country  Target  Cluster  \n",
       "0     -0.218673        0.756794        0.254411       0        1  "
      ]
     },
     "execution_count": 8,
     "metadata": {},
     "output_type": "execute_result"
    }
   ],
   "source": [
    "trainset.head(1)"
   ]
  },
  {
   "cell_type": "code",
   "execution_count": 9,
   "id": "d1ebdb58-339b-494c-b0d2-9bafc0bc9362",
   "metadata": {},
   "outputs": [
    {
     "data": {
      "text/html": [
       "<div>\n",
       "<style scoped>\n",
       "    .dataframe tbody tr th:only-of-type {\n",
       "        vertical-align: middle;\n",
       "    }\n",
       "\n",
       "    .dataframe tbody tr th {\n",
       "        vertical-align: top;\n",
       "    }\n",
       "\n",
       "    .dataframe thead th {\n",
       "        text-align: right;\n",
       "    }\n",
       "</style>\n",
       "<table border=\"1\" class=\"dataframe\">\n",
       "  <thead>\n",
       "    <tr style=\"text-align: right;\">\n",
       "      <th></th>\n",
       "      <th>Unnamed: 0</th>\n",
       "      <th>Unnamed: 0.1</th>\n",
       "      <th>Age</th>\n",
       "      <th>Workclass</th>\n",
       "      <th>Fnlwgt</th>\n",
       "      <th>Education</th>\n",
       "      <th>Education-num</th>\n",
       "      <th>Marital-status</th>\n",
       "      <th>Occupation</th>\n",
       "      <th>Relationship</th>\n",
       "      <th>Race</th>\n",
       "      <th>Sex</th>\n",
       "      <th>Capital-gain</th>\n",
       "      <th>Capital-loss</th>\n",
       "      <th>Hours-per-week</th>\n",
       "      <th>Native-country</th>\n",
       "      <th>Target</th>\n",
       "      <th>Cluster</th>\n",
       "    </tr>\n",
       "  </thead>\n",
       "  <tbody>\n",
       "    <tr>\n",
       "      <th>0</th>\n",
       "      <td>2642</td>\n",
       "      <td>10006</td>\n",
       "      <td>-0.719029</td>\n",
       "      <td>0.218918</td>\n",
       "      <td>-0.298864</td>\n",
       "      <td>0.164328</td>\n",
       "      <td>-0.440434</td>\n",
       "      <td>0.048399</td>\n",
       "      <td>0.116515</td>\n",
       "      <td>0.066334</td>\n",
       "      <td>0.263855</td>\n",
       "      <td>0.313955</td>\n",
       "      <td>-0.147502</td>\n",
       "      <td>-0.218673</td>\n",
       "      <td>-0.495444</td>\n",
       "      <td>0.254411</td>\n",
       "      <td>0</td>\n",
       "      <td>0</td>\n",
       "    </tr>\n",
       "  </tbody>\n",
       "</table>\n",
       "</div>"
      ],
      "text/plain": [
       "   Unnamed: 0  Unnamed: 0.1       Age  Workclass    Fnlwgt  Education  \\\n",
       "0        2642         10006 -0.719029   0.218918 -0.298864   0.164328   \n",
       "\n",
       "   Education-num  Marital-status  Occupation  Relationship      Race  \\\n",
       "0      -0.440434        0.048399    0.116515      0.066334  0.263855   \n",
       "\n",
       "        Sex  Capital-gain  Capital-loss  Hours-per-week  Native-country  \\\n",
       "0  0.313955     -0.147502     -0.218673       -0.495444        0.254411   \n",
       "\n",
       "   Target  Cluster  \n",
       "0       0        0  "
      ]
     },
     "execution_count": 9,
     "metadata": {},
     "output_type": "execute_result"
    }
   ],
   "source": [
    "closest.head(1)"
   ]
  },
  {
   "cell_type": "markdown",
   "id": "ba0cdbfd-a87c-4829-b1c6-81ded11787af",
   "metadata": {},
   "source": [
    "Separo features / target / cluster"
   ]
  },
  {
   "cell_type": "code",
   "execution_count": 10,
   "id": "ca74408a-d8ba-47aa-839f-2e4efd4e2a2f",
   "metadata": {},
   "outputs": [],
   "source": [
    "trainset_features  = trainset.iloc[:,1:-2]\n",
    "trainset_targets   = trainset['Target']\n",
    "trainset_cluster   = trainset['Cluster']\n",
    "\n",
    "testset_features   = testset.iloc[:,1:-2]\n",
    "testset_targets    = testset['Target']\n",
    "testset_cluster    = testset['Cluster']\n",
    "\n",
    "closest_features = closest.iloc[:,2:-2]\n",
    "closest_targets  = closest['Target']\n",
    "closest_cluster  = closest['Cluster']"
   ]
  },
  {
   "cell_type": "markdown",
   "id": "591cfe29-0336-4fd5-8ec9-028e70acfa09",
   "metadata": {},
   "source": [
    "Controllo che i dati nei csv siano effettivamente quelli usati per allenare la random forest."
   ]
  },
  {
   "cell_type": "code",
   "execution_count": 11,
   "id": "4016b5f0-1dcc-43e6-869f-f1a5bb15827e",
   "metadata": {},
   "outputs": [],
   "source": [
    "assert (trainset_features.to_numpy() == x_train).all().all()\n",
    "assert (testset_features.to_numpy() == x_test).all().all()\n",
    "assert (closest_features.to_numpy() == x_test_clustered).all().all()\n",
    "assert (trainset_targets.to_numpy() == y_train).all().all()\n",
    "assert (testset_targets.to_numpy() == y_test).all().all()\n",
    "assert (closest_targets.to_numpy() == y_test_clustered).all().all()"
   ]
  }
 ],
 "metadata": {
  "kernelspec": {
   "display_name": "Python 3 (ipykernel)",
   "language": "python",
   "name": "python3"
  },
  "language_info": {
   "codemirror_mode": {
    "name": "ipython",
    "version": 3
   },
   "file_extension": ".py",
   "mimetype": "text/x-python",
   "name": "python",
   "nbconvert_exporter": "python",
   "pygments_lexer": "ipython3",
   "version": "3.9.9"
  }
 },
 "nbformat": 4,
 "nbformat_minor": 5
}
