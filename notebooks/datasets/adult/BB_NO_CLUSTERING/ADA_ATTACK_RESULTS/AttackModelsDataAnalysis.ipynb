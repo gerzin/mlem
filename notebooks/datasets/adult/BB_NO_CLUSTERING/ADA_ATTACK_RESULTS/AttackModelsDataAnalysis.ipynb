{
 "cells": [
  {
   "cell_type": "markdown",
   "id": "c9db0740-002e-49ed-bbd7-85e89d19116d",
   "metadata": {},
   "source": [
    "Analysis of the attack models data in order to see why they are majority classifiers"
   ]
  },
  {
   "cell_type": "code",
   "execution_count": 1,
   "id": "7d631a0c-b828-4492-859e-1dfc609f2fab",
   "metadata": {},
   "outputs": [],
   "source": [
    "import numpy as np\n",
    "import pandas as pd\n",
    "import matplotlib.pyplot as plt\n",
    "import seaborn as sns; sns.set()\n",
    "from pathlib import Path\n",
    "import os\n",
    "import sys\n",
    "import bz2\n",
    "import pickle\n",
    "np.random.seed(10)\n",
    "# adds the visibility of the mlem module, needed to load the attack models\n",
    "sys.path.append(\"../../../../..\") \n",
    "import mlem\n",
    "from mlem.ensemble import HardVotingClassifier\n",
    "from mlem.utilities import report_and_confusion, load_pickle_bz2"
   ]
  },
  {
   "cell_type": "code",
   "execution_count": 2,
   "id": "7522666d-f96c-497e-b2ec-90211b76aaa6",
   "metadata": {},
   "outputs": [],
   "source": [
    "from sklearn.metrics import classification_report, ConfusionMatrixDisplay"
   ]
  },
  {
   "cell_type": "code",
   "execution_count": 3,
   "id": "2b146011-ce94-40a5-bcef-ee429769f3dd",
   "metadata": {},
   "outputs": [],
   "source": [
    "BLACK_BOX_PATH = '../BB_DATA/adult_rf_noclustering.bz2'\n",
    "black_box = load_pickle_bz2(BLACK_BOX_PATH)"
   ]
  },
  {
   "cell_type": "code",
   "execution_count": 4,
   "id": "bdcfb755-e076-47e2-a4c5-e714869ef058",
   "metadata": {},
   "outputs": [
    {
     "name": "stdout",
     "output_type": "stream",
     "text": [
      "x_train x_test y_train y_test x_test_clustered y_test_clustered "
     ]
    }
   ],
   "source": [
    "BASE_BB_DATA_PATH = \"../BB_DATA/adult_rf_noclustering_data_nsamples_{n_samples}.npz\"\n",
    "loaded = np.load(BASE_BB_DATA_PATH.format(n_samples=1), allow_pickle=True)\n",
    "for k in loaded.keys():\n",
    "    print(k, end=\" \")\n",
    "x_train = loaded[\"x_train\"]\n",
    "x_test = loaded[\"x_test\"]\n",
    "y_train = loaded[\"y_train\"]\n",
    "y_test = loaded[\"y_test\"]\n",
    "x_test_clustered = loaded[\"x_test_clustered\"]\n",
    "y_test_clustered = loaded[\"y_test_clustered\"]"
   ]
  },
  {
   "cell_type": "markdown",
   "id": "6eb127ee-d2dc-4a62-8184-0a4c33325b44",
   "metadata": {},
   "source": [
    "# Load Attack Models and data"
   ]
  },
  {
   "cell_type": "code",
   "execution_count": 5,
   "id": "30a09c57-ab85-4160-b04b-1dbbd1c51651",
   "metadata": {},
   "outputs": [],
   "source": [
    "def load_atk_and_data(idx, base_path=\"/home/gerardozinno/Desktop/ExperimentsResult/ADA/ADULT/adult_results_noclust_ada_1/gaussian/same/\"):\n",
    "    index_template = Path(base_path) / f\"{idx}\" / \"attack\"\n",
    "    atk_0 = load_pickle_bz2(index_template / \"0\" / \"model.pkl.bz2\")\n",
    "    atk_1 = load_pickle_bz2(index_template / \"1\" / \"model.pkl.bz2\")\n",
    "    data_0 = np.load(index_template / \"0\" / \"data.npz\" ,allow_pickle=True)\n",
    "    data_1 = np.load(index_template / \"1\" / \"data.npz\" ,allow_pickle=True)\n",
    "    return (atk_0, data_0), (atk_1, data_1)"
   ]
  },
  {
   "cell_type": "markdown",
   "id": "92922e84-fbcb-4ea1-b0c1-090d1f0ab480",
   "metadata": {},
   "source": [
    "## idx 0"
   ]
  },
  {
   "cell_type": "code",
   "execution_count": 6,
   "id": "4c4a449d-0c9f-456c-8201-be5fed4ae238",
   "metadata": {},
   "outputs": [
    {
     "name": "stdout",
     "output_type": "stream",
     "text": [
      "x_train x_test y_train y_test "
     ]
    },
    {
     "name": "stderr",
     "output_type": "stream",
     "text": [
      "/home/gerardozinno/.pyenv/versions/ml-environment/lib/python3.9/site-packages/sklearn/base.py:329: UserWarning: Trying to unpickle estimator DecisionTreeClassifier from version 1.0.2 when using version 1.1.1. This might lead to breaking code or invalid results. Use at your own risk. For more info please refer to:\n",
      "https://scikit-learn.org/stable/model_persistence.html#security-maintainability-limitations\n",
      "  warnings.warn(\n",
      "/home/gerardozinno/.pyenv/versions/ml-environment/lib/python3.9/site-packages/sklearn/base.py:329: UserWarning: Trying to unpickle estimator AdaBoostClassifier from version 1.0.2 when using version 1.1.1. This might lead to breaking code or invalid results. Use at your own risk. For more info please refer to:\n",
      "https://scikit-learn.org/stable/model_persistence.html#security-maintainability-limitations\n",
      "  warnings.warn(\n"
     ]
    }
   ],
   "source": [
    "(atk_0, data_0), (atk_1, data_1) = load_atk_and_data(0)\n",
    "for k in data_0.keys():\n",
    "    print(k, end=\" \")"
   ]
  },
  {
   "cell_type": "markdown",
   "id": "31b9e94c-a81d-4ad4-9c22-02dbda3e4b2e",
   "metadata": {},
   "source": [
    "#### train"
   ]
  },
  {
   "cell_type": "markdown",
   "id": "133240b3-a32c-4bed-8d9f-41f527b7ca31",
   "metadata": {},
   "source": [
    "Trainset for the attack model trained to recognise the label 0"
   ]
  },
  {
   "cell_type": "code",
   "execution_count": 7,
   "id": "cd766fd0-2d56-4035-9b65-d19f3a3dec12",
   "metadata": {},
   "outputs": [
    {
     "data": {
      "text/plain": [
       "0         1         Target\n",
       "0.535312  0.464688  in        52\n",
       "0.544175  0.455825  in        45\n",
       "0.533603  0.466397  in        31\n",
       "0.535312  0.464688  out       20\n",
       "0.553686  0.446314  in        20\n",
       "                              ..\n",
       "0.537402  0.462598  out        1\n",
       "0.537403  0.462597  in         1\n",
       "0.537410  0.462590  in         1\n",
       "0.537413  0.462587  in         1\n",
       "0.741065  0.258935  in         1\n",
       "Length: 13786, dtype: int64"
      ]
     },
     "execution_count": 7,
     "metadata": {},
     "output_type": "execute_result"
    }
   ],
   "source": [
    "d0_train = pd.DataFrame(data_0['x_train'])\n",
    "d0_train['Target'] = data_0['y_train']\n",
    "\n",
    "d0_train.value_counts()"
   ]
  },
  {
   "cell_type": "markdown",
   "id": "fca7938d-d439-4140-935c-8d9c82e59b2f",
   "metadata": {},
   "source": [
    "This values appear with two different labels:\n",
    "\n",
    "    0.535312  0.464688  in        52\n",
    "    0.535312  0.464688  out       20"
   ]
  },
  {
   "cell_type": "code",
   "execution_count": 8,
   "id": "469d8e1e-9ae3-4a5c-ba33-b0bdd881799e",
   "metadata": {},
   "outputs": [
    {
     "data": {
      "text/plain": [
       "in     0.802888\n",
       "out    0.197112\n",
       "Name: Target, dtype: float64"
      ]
     },
     "execution_count": 8,
     "metadata": {},
     "output_type": "execute_result"
    }
   ],
   "source": [
    "d0_train.Target.value_counts(normalize=True)"
   ]
  },
  {
   "cell_type": "code",
   "execution_count": 9,
   "id": "a0c0fb1e-50b2-4212-a006-8897f88de593",
   "metadata": {},
   "outputs": [
    {
     "data": {
      "text/html": [
       "<div>\n",
       "<style scoped>\n",
       "    .dataframe tbody tr th:only-of-type {\n",
       "        vertical-align: middle;\n",
       "    }\n",
       "\n",
       "    .dataframe tbody tr th {\n",
       "        vertical-align: top;\n",
       "    }\n",
       "\n",
       "    .dataframe thead th {\n",
       "        text-align: right;\n",
       "    }\n",
       "</style>\n",
       "<table border=\"1\" class=\"dataframe\">\n",
       "  <thead>\n",
       "    <tr style=\"text-align: right;\">\n",
       "      <th></th>\n",
       "      <th>0</th>\n",
       "      <th>1</th>\n",
       "    </tr>\n",
       "  </thead>\n",
       "  <tbody>\n",
       "    <tr>\n",
       "      <th>count</th>\n",
       "      <td>15996.000000</td>\n",
       "      <td>15996.000000</td>\n",
       "    </tr>\n",
       "    <tr>\n",
       "      <th>mean</th>\n",
       "      <td>0.549075</td>\n",
       "      <td>0.450925</td>\n",
       "    </tr>\n",
       "    <tr>\n",
       "      <th>std</th>\n",
       "      <td>0.025819</td>\n",
       "      <td>0.025819</td>\n",
       "    </tr>\n",
       "    <tr>\n",
       "      <th>min</th>\n",
       "      <td>0.490693</td>\n",
       "      <td>0.258935</td>\n",
       "    </tr>\n",
       "    <tr>\n",
       "      <th>25%</th>\n",
       "      <td>0.532639</td>\n",
       "      <td>0.438618</td>\n",
       "    </tr>\n",
       "    <tr>\n",
       "      <th>50%</th>\n",
       "      <td>0.545928</td>\n",
       "      <td>0.454072</td>\n",
       "    </tr>\n",
       "    <tr>\n",
       "      <th>75%</th>\n",
       "      <td>0.561382</td>\n",
       "      <td>0.467361</td>\n",
       "    </tr>\n",
       "    <tr>\n",
       "      <th>max</th>\n",
       "      <td>0.741065</td>\n",
       "      <td>0.509307</td>\n",
       "    </tr>\n",
       "  </tbody>\n",
       "</table>\n",
       "</div>"
      ],
      "text/plain": [
       "                  0             1\n",
       "count  15996.000000  15996.000000\n",
       "mean       0.549075      0.450925\n",
       "std        0.025819      0.025819\n",
       "min        0.490693      0.258935\n",
       "25%        0.532639      0.438618\n",
       "50%        0.545928      0.454072\n",
       "75%        0.561382      0.467361\n",
       "max        0.741065      0.509307"
      ]
     },
     "execution_count": 9,
     "metadata": {},
     "output_type": "execute_result"
    }
   ],
   "source": [
    "d0_train.describe()"
   ]
  },
  {
   "cell_type": "markdown",
   "id": "2d592c42-02fa-41b2-88bb-ee66e4ecaded",
   "metadata": {},
   "source": [
    "Trainset for the attack model trained to recognise the label 1"
   ]
  },
  {
   "cell_type": "code",
   "execution_count": 10,
   "id": "bdc572ec-f933-4402-b8e6-5f91a22a5e2f",
   "metadata": {},
   "outputs": [
    {
     "data": {
      "text/plain": [
       "0         1         Target\n",
       "0.414062  0.585938  in        23\n",
       "0.457965  0.542035  in        19\n",
       "0.489567  0.510433  in        19\n",
       "0.353937  0.646063  in        18\n",
       "0.489991  0.510009  in        16\n",
       "                              ..\n",
       "0.439280  0.560720  in         1\n",
       "0.439235  0.560765  in         1\n",
       "0.439227  0.560773  in         1\n",
       "0.439155  0.560845  in         1\n",
       "0.506060  0.493940  out        1\n",
       "Length: 9487, dtype: int64"
      ]
     },
     "execution_count": 10,
     "metadata": {},
     "output_type": "execute_result"
    }
   ],
   "source": [
    "d1_train = pd.DataFrame(data_1['x_train'])\n",
    "d1_train['Target'] = data_1['y_train']\n",
    "d1_train.value_counts()"
   ]
  },
  {
   "cell_type": "markdown",
   "id": "421da0a5-74bf-4e94-8db2-729a88501a8a",
   "metadata": {},
   "source": [
    "The out class is not represented enough"
   ]
  },
  {
   "cell_type": "code",
   "execution_count": 11,
   "id": "be28af84-93b0-49f8-b0ac-29f9764547cb",
   "metadata": {},
   "outputs": [
    {
     "data": {
      "text/plain": [
       "in     0.96737\n",
       "out    0.03263\n",
       "Name: Target, dtype: float64"
      ]
     },
     "execution_count": 11,
     "metadata": {},
     "output_type": "execute_result"
    }
   ],
   "source": [
    "d1_train.Target.value_counts(normalize=True)"
   ]
  },
  {
   "cell_type": "code",
   "execution_count": 12,
   "id": "998f3d87-4e0e-477f-b045-2f1a75681da0",
   "metadata": {},
   "outputs": [
    {
     "data": {
      "text/html": [
       "<div>\n",
       "<style scoped>\n",
       "    .dataframe tbody tr th:only-of-type {\n",
       "        vertical-align: middle;\n",
       "    }\n",
       "\n",
       "    .dataframe tbody tr th {\n",
       "        vertical-align: top;\n",
       "    }\n",
       "\n",
       "    .dataframe thead th {\n",
       "        text-align: right;\n",
       "    }\n",
       "</style>\n",
       "<table border=\"1\" class=\"dataframe\">\n",
       "  <thead>\n",
       "    <tr style=\"text-align: right;\">\n",
       "      <th></th>\n",
       "      <th>0</th>\n",
       "      <th>1</th>\n",
       "    </tr>\n",
       "  </thead>\n",
       "  <tbody>\n",
       "    <tr>\n",
       "      <th>count</th>\n",
       "      <td>13270.000000</td>\n",
       "      <td>13270.000000</td>\n",
       "    </tr>\n",
       "    <tr>\n",
       "      <th>mean</th>\n",
       "      <td>0.440449</td>\n",
       "      <td>0.559551</td>\n",
       "    </tr>\n",
       "    <tr>\n",
       "      <th>std</th>\n",
       "      <td>0.040985</td>\n",
       "      <td>0.040985</td>\n",
       "    </tr>\n",
       "    <tr>\n",
       "      <th>min</th>\n",
       "      <td>0.277925</td>\n",
       "      <td>0.493940</td>\n",
       "    </tr>\n",
       "    <tr>\n",
       "      <th>25%</th>\n",
       "      <td>0.409709</td>\n",
       "      <td>0.524964</td>\n",
       "    </tr>\n",
       "    <tr>\n",
       "      <th>50%</th>\n",
       "      <td>0.451793</td>\n",
       "      <td>0.548207</td>\n",
       "    </tr>\n",
       "    <tr>\n",
       "      <th>75%</th>\n",
       "      <td>0.475036</td>\n",
       "      <td>0.590291</td>\n",
       "    </tr>\n",
       "    <tr>\n",
       "      <th>max</th>\n",
       "      <td>0.506060</td>\n",
       "      <td>0.722075</td>\n",
       "    </tr>\n",
       "  </tbody>\n",
       "</table>\n",
       "</div>"
      ],
      "text/plain": [
       "                  0             1\n",
       "count  13270.000000  13270.000000\n",
       "mean       0.440449      0.559551\n",
       "std        0.040985      0.040985\n",
       "min        0.277925      0.493940\n",
       "25%        0.409709      0.524964\n",
       "50%        0.451793      0.548207\n",
       "75%        0.475036      0.590291\n",
       "max        0.506060      0.722075"
      ]
     },
     "execution_count": 12,
     "metadata": {},
     "output_type": "execute_result"
    }
   ],
   "source": [
    "d1_train.describe()"
   ]
  },
  {
   "cell_type": "markdown",
   "id": "ce3f3f73-2445-4c98-95f1-833bf3582f3f",
   "metadata": {},
   "source": [
    "#### test"
   ]
  },
  {
   "cell_type": "markdown",
   "id": "1e760de5-e4c3-4126-9a99-4dd962e0de7b",
   "metadata": {},
   "source": [
    "Testset for the attack model trained to recognise the label 0"
   ]
  },
  {
   "cell_type": "code",
   "execution_count": 13,
   "id": "171acb0f-3c1c-40a3-8754-e243be64cb6f",
   "metadata": {},
   "outputs": [
    {
     "data": {
      "text/plain": [
       "0         1         Target\n",
       "0.535312  0.464688  in        17\n",
       "0.533603  0.466397  in         9\n",
       "0.533771  0.466229  in         9\n",
       "0.544175  0.455825  in         9\n",
       "0.547973  0.452027  in         9\n",
       "                              ..\n",
       "0.537127  0.462873  in         1\n",
       "0.537112  0.462888  out        1\n",
       "0.537088  0.462912  in         1\n",
       "0.537084  0.462916  in         1\n",
       "0.709064  0.290936  in         1\n",
       "Length: 4925, dtype: int64"
      ]
     },
     "execution_count": 13,
     "metadata": {},
     "output_type": "execute_result"
    }
   ],
   "source": [
    "d0_test = pd.DataFrame(data_0['x_test'])\n",
    "d0_test['Target'] = data_0['y_test']\n",
    "d0_test.value_counts()"
   ]
  },
  {
   "cell_type": "code",
   "execution_count": 14,
   "id": "60500094-bb51-43b8-a25f-2d201ba45d40",
   "metadata": {},
   "outputs": [
    {
     "data": {
      "text/plain": [
       "in     0.7982\n",
       "out    0.2018\n",
       "Name: Target, dtype: float64"
      ]
     },
     "execution_count": 14,
     "metadata": {},
     "output_type": "execute_result"
    }
   ],
   "source": [
    "d0_test.Target.value_counts(normalize=True)"
   ]
  },
  {
   "cell_type": "code",
   "execution_count": 15,
   "id": "83f53b7e-a7be-4e1e-a40a-6c07ad70430a",
   "metadata": {},
   "outputs": [
    {
     "data": {
      "text/html": [
       "<div>\n",
       "<style scoped>\n",
       "    .dataframe tbody tr th:only-of-type {\n",
       "        vertical-align: middle;\n",
       "    }\n",
       "\n",
       "    .dataframe tbody tr th {\n",
       "        vertical-align: top;\n",
       "    }\n",
       "\n",
       "    .dataframe thead th {\n",
       "        text-align: right;\n",
       "    }\n",
       "</style>\n",
       "<table border=\"1\" class=\"dataframe\">\n",
       "  <thead>\n",
       "    <tr style=\"text-align: right;\">\n",
       "      <th></th>\n",
       "      <th>0</th>\n",
       "      <th>1</th>\n",
       "    </tr>\n",
       "  </thead>\n",
       "  <tbody>\n",
       "    <tr>\n",
       "      <th>count</th>\n",
       "      <td>5332.000000</td>\n",
       "      <td>5332.000000</td>\n",
       "    </tr>\n",
       "    <tr>\n",
       "      <th>mean</th>\n",
       "      <td>0.549161</td>\n",
       "      <td>0.450839</td>\n",
       "    </tr>\n",
       "    <tr>\n",
       "      <th>std</th>\n",
       "      <td>0.026303</td>\n",
       "      <td>0.026303</td>\n",
       "    </tr>\n",
       "    <tr>\n",
       "      <th>min</th>\n",
       "      <td>0.451728</td>\n",
       "      <td>0.290936</td>\n",
       "    </tr>\n",
       "    <tr>\n",
       "      <th>25%</th>\n",
       "      <td>0.532076</td>\n",
       "      <td>0.438898</td>\n",
       "    </tr>\n",
       "    <tr>\n",
       "      <th>50%</th>\n",
       "      <td>0.545957</td>\n",
       "      <td>0.454043</td>\n",
       "    </tr>\n",
       "    <tr>\n",
       "      <th>75%</th>\n",
       "      <td>0.561102</td>\n",
       "      <td>0.467924</td>\n",
       "    </tr>\n",
       "    <tr>\n",
       "      <th>max</th>\n",
       "      <td>0.709064</td>\n",
       "      <td>0.548272</td>\n",
       "    </tr>\n",
       "  </tbody>\n",
       "</table>\n",
       "</div>"
      ],
      "text/plain": [
       "                 0            1\n",
       "count  5332.000000  5332.000000\n",
       "mean      0.549161     0.450839\n",
       "std       0.026303     0.026303\n",
       "min       0.451728     0.290936\n",
       "25%       0.532076     0.438898\n",
       "50%       0.545957     0.454043\n",
       "75%       0.561102     0.467924\n",
       "max       0.709064     0.548272"
      ]
     },
     "execution_count": 15,
     "metadata": {},
     "output_type": "execute_result"
    }
   ],
   "source": [
    "d0_test.describe()"
   ]
  },
  {
   "cell_type": "markdown",
   "id": "026b6012-304c-438c-ad0c-682f9d5477d5",
   "metadata": {},
   "source": [
    "Testset for the attack model trained to recognise the label 1"
   ]
  },
  {
   "cell_type": "code",
   "execution_count": 16,
   "id": "c6844410-9fbd-4e64-a500-a44095e2004a",
   "metadata": {},
   "outputs": [
    {
     "data": {
      "text/plain": [
       "0         1         Target\n",
       "0.417448  0.582552  in        9\n",
       "0.457965  0.542035  in        8\n",
       "0.489991  0.510009  in        8\n",
       "0.440280  0.559720  in        7\n",
       "0.469984  0.530016  in        6\n",
       "                             ..\n",
       "0.432105  0.567895  in        1\n",
       "0.432172  0.567828  in        1\n",
       "0.432228  0.567772  in        1\n",
       "0.432369  0.567631  in        1\n",
       "0.502548  0.497452  out       1\n",
       "Length: 3797, dtype: int64"
      ]
     },
     "execution_count": 16,
     "metadata": {},
     "output_type": "execute_result"
    }
   ],
   "source": [
    "d1_test = pd.DataFrame(data_1['x_test'])\n",
    "d1_test['Target'] = data_1['y_test']\n",
    "d1_test.value_counts()"
   ]
  },
  {
   "cell_type": "markdown",
   "id": "0cb38508-e6f3-4d9c-b725-f65c28c224b5",
   "metadata": {},
   "source": [
    "The out class is not represented enough"
   ]
  },
  {
   "cell_type": "code",
   "execution_count": 17,
   "id": "1518b42c-13de-41e8-848f-923fdf8815ec",
   "metadata": {},
   "outputs": [
    {
     "data": {
      "text/plain": [
       "in     0.963382\n",
       "out    0.036618\n",
       "Name: Target, dtype: float64"
      ]
     },
     "execution_count": 17,
     "metadata": {},
     "output_type": "execute_result"
    }
   ],
   "source": [
    "d1_test.Target.value_counts(normalize=True)"
   ]
  },
  {
   "cell_type": "code",
   "execution_count": 18,
   "id": "59c0e697-42d7-43ee-82ec-6575d00da7a0",
   "metadata": {},
   "outputs": [
    {
     "data": {
      "text/html": [
       "<div>\n",
       "<style scoped>\n",
       "    .dataframe tbody tr th:only-of-type {\n",
       "        vertical-align: middle;\n",
       "    }\n",
       "\n",
       "    .dataframe tbody tr th {\n",
       "        vertical-align: top;\n",
       "    }\n",
       "\n",
       "    .dataframe thead th {\n",
       "        text-align: right;\n",
       "    }\n",
       "</style>\n",
       "<table border=\"1\" class=\"dataframe\">\n",
       "  <thead>\n",
       "    <tr style=\"text-align: right;\">\n",
       "      <th></th>\n",
       "      <th>0</th>\n",
       "      <th>1</th>\n",
       "    </tr>\n",
       "  </thead>\n",
       "  <tbody>\n",
       "    <tr>\n",
       "      <th>count</th>\n",
       "      <td>4424.000000</td>\n",
       "      <td>4424.000000</td>\n",
       "    </tr>\n",
       "    <tr>\n",
       "      <th>mean</th>\n",
       "      <td>0.440667</td>\n",
       "      <td>0.559333</td>\n",
       "    </tr>\n",
       "    <tr>\n",
       "      <th>std</th>\n",
       "      <td>0.040722</td>\n",
       "      <td>0.040722</td>\n",
       "    </tr>\n",
       "    <tr>\n",
       "      <th>min</th>\n",
       "      <td>0.293519</td>\n",
       "      <td>0.497452</td>\n",
       "    </tr>\n",
       "    <tr>\n",
       "      <th>25%</th>\n",
       "      <td>0.411173</td>\n",
       "      <td>0.525503</td>\n",
       "    </tr>\n",
       "    <tr>\n",
       "      <th>50%</th>\n",
       "      <td>0.451985</td>\n",
       "      <td>0.548015</td>\n",
       "    </tr>\n",
       "    <tr>\n",
       "      <th>75%</th>\n",
       "      <td>0.474497</td>\n",
       "      <td>0.588827</td>\n",
       "    </tr>\n",
       "    <tr>\n",
       "      <th>max</th>\n",
       "      <td>0.502548</td>\n",
       "      <td>0.706481</td>\n",
       "    </tr>\n",
       "  </tbody>\n",
       "</table>\n",
       "</div>"
      ],
      "text/plain": [
       "                 0            1\n",
       "count  4424.000000  4424.000000\n",
       "mean      0.440667     0.559333\n",
       "std       0.040722     0.040722\n",
       "min       0.293519     0.497452\n",
       "25%       0.411173     0.525503\n",
       "50%       0.451985     0.548015\n",
       "75%       0.474497     0.588827\n",
       "max       0.502548     0.706481"
      ]
     },
     "execution_count": 18,
     "metadata": {},
     "output_type": "execute_result"
    }
   ],
   "source": [
    "d1_test.describe()"
   ]
  },
  {
   "cell_type": "markdown",
   "id": "34b632ed-a3f9-4639-a7ec-ae779190a577",
   "metadata": {},
   "source": [
    "## idx 1"
   ]
  },
  {
   "cell_type": "code",
   "execution_count": 19,
   "id": "bc4ecb25-14b2-4c58-a806-0315a5e00e31",
   "metadata": {},
   "outputs": [
    {
     "name": "stdout",
     "output_type": "stream",
     "text": [
      "x_train x_test y_train y_test "
     ]
    },
    {
     "name": "stderr",
     "output_type": "stream",
     "text": [
      "/home/gerardozinno/.pyenv/versions/ml-environment/lib/python3.9/site-packages/sklearn/base.py:329: UserWarning: Trying to unpickle estimator DecisionTreeClassifier from version 1.0.2 when using version 1.1.1. This might lead to breaking code or invalid results. Use at your own risk. For more info please refer to:\n",
      "https://scikit-learn.org/stable/model_persistence.html#security-maintainability-limitations\n",
      "  warnings.warn(\n",
      "/home/gerardozinno/.pyenv/versions/ml-environment/lib/python3.9/site-packages/sklearn/base.py:329: UserWarning: Trying to unpickle estimator AdaBoostClassifier from version 1.0.2 when using version 1.1.1. This might lead to breaking code or invalid results. Use at your own risk. For more info please refer to:\n",
      "https://scikit-learn.org/stable/model_persistence.html#security-maintainability-limitations\n",
      "  warnings.warn(\n"
     ]
    }
   ],
   "source": [
    "(atk_0, data_0), (atk_1, data_1) = load_atk_and_data(1)\n",
    "for k in data_0.keys():\n",
    "    print(k, end=\" \")"
   ]
  },
  {
   "cell_type": "markdown",
   "id": "8d0d3714-8694-490b-96c6-bd618a7c12fa",
   "metadata": {},
   "source": [
    "#### train"
   ]
  },
  {
   "cell_type": "markdown",
   "id": "a77306b2-32cb-4152-b3c1-cdfeff49baad",
   "metadata": {},
   "source": [
    "Trainset for the attack model trained to recognise the label 0"
   ]
  },
  {
   "cell_type": "code",
   "execution_count": 20,
   "id": "eb0b798c-60b7-4806-8e05-53f99c47cab7",
   "metadata": {},
   "outputs": [
    {
     "data": {
      "text/plain": [
       "0         1         Target\n",
       "0.546289  0.453711  in        16\n",
       "0.513124  0.486876  in        15\n",
       "0.606937  0.393063  in        14\n",
       "0.513884  0.486116  in        12\n",
       "0.608273  0.391727  in        12\n",
       "                              ..\n",
       "0.539924  0.460076  in         1\n",
       "0.539922  0.460078  in         1\n",
       "0.539914  0.460086  in         1\n",
       "0.539912  0.460088  out        1\n",
       "0.656645  0.343355  in         1\n",
       "Length: 9199, dtype: int64"
      ]
     },
     "execution_count": 20,
     "metadata": {},
     "output_type": "execute_result"
    }
   ],
   "source": [
    "d0_train = pd.DataFrame(data_0['x_train'])\n",
    "d0_train['Target'] = data_0['y_train']\n",
    "\n",
    "d0_train.value_counts()"
   ]
  },
  {
   "cell_type": "markdown",
   "id": "3878f667-cc11-4bda-9e81-9c07a7baa43f",
   "metadata": {},
   "source": [
    "Class out misrepresented"
   ]
  },
  {
   "cell_type": "code",
   "execution_count": 21,
   "id": "9a0ab0ac-7d66-44ad-8852-a700310ada27",
   "metadata": {},
   "outputs": [
    {
     "data": {
      "text/plain": [
       "in     0.978845\n",
       "out    0.021155\n",
       "Name: Target, dtype: float64"
      ]
     },
     "execution_count": 21,
     "metadata": {},
     "output_type": "execute_result"
    }
   ],
   "source": [
    "d0_train.Target.value_counts(normalize=True)"
   ]
  },
  {
   "cell_type": "code",
   "execution_count": 22,
   "id": "25f15f89-591e-4be2-9822-5fd8db20e351",
   "metadata": {},
   "outputs": [
    {
     "data": {
      "text/html": [
       "<div>\n",
       "<style scoped>\n",
       "    .dataframe tbody tr th:only-of-type {\n",
       "        vertical-align: middle;\n",
       "    }\n",
       "\n",
       "    .dataframe tbody tr th {\n",
       "        vertical-align: top;\n",
       "    }\n",
       "\n",
       "    .dataframe thead th {\n",
       "        text-align: right;\n",
       "    }\n",
       "</style>\n",
       "<table border=\"1\" class=\"dataframe\">\n",
       "  <thead>\n",
       "    <tr style=\"text-align: right;\">\n",
       "      <th></th>\n",
       "      <th>0</th>\n",
       "      <th>1</th>\n",
       "    </tr>\n",
       "  </thead>\n",
       "  <tbody>\n",
       "    <tr>\n",
       "      <th>count</th>\n",
       "      <td>13614.000000</td>\n",
       "      <td>13614.000000</td>\n",
       "    </tr>\n",
       "    <tr>\n",
       "      <th>mean</th>\n",
       "      <td>0.563660</td>\n",
       "      <td>0.436340</td>\n",
       "    </tr>\n",
       "    <tr>\n",
       "      <th>std</th>\n",
       "      <td>0.038137</td>\n",
       "      <td>0.038137</td>\n",
       "    </tr>\n",
       "    <tr>\n",
       "      <th>min</th>\n",
       "      <td>0.460994</td>\n",
       "      <td>0.343355</td>\n",
       "    </tr>\n",
       "    <tr>\n",
       "      <th>25%</th>\n",
       "      <td>0.528731</td>\n",
       "      <td>0.399625</td>\n",
       "    </tr>\n",
       "    <tr>\n",
       "      <th>50%</th>\n",
       "      <td>0.555570</td>\n",
       "      <td>0.444430</td>\n",
       "    </tr>\n",
       "    <tr>\n",
       "      <th>75%</th>\n",
       "      <td>0.600375</td>\n",
       "      <td>0.471269</td>\n",
       "    </tr>\n",
       "    <tr>\n",
       "      <th>max</th>\n",
       "      <td>0.656645</td>\n",
       "      <td>0.539006</td>\n",
       "    </tr>\n",
       "  </tbody>\n",
       "</table>\n",
       "</div>"
      ],
      "text/plain": [
       "                  0             1\n",
       "count  13614.000000  13614.000000\n",
       "mean       0.563660      0.436340\n",
       "std        0.038137      0.038137\n",
       "min        0.460994      0.343355\n",
       "25%        0.528731      0.399625\n",
       "50%        0.555570      0.444430\n",
       "75%        0.600375      0.471269\n",
       "max        0.656645      0.539006"
      ]
     },
     "execution_count": 22,
     "metadata": {},
     "output_type": "execute_result"
    }
   ],
   "source": [
    "d0_train.describe()"
   ]
  },
  {
   "cell_type": "markdown",
   "id": "3217d562-1fa0-48bf-be31-77549f8f314c",
   "metadata": {},
   "source": [
    "Trainset for the attack model trained to recognise the label 1"
   ]
  },
  {
   "cell_type": "code",
   "execution_count": 23,
   "id": "7d314f62-bd15-4e78-925f-6c8cf53fa0cb",
   "metadata": {},
   "outputs": [
    {
     "data": {
      "text/plain": [
       "0         1         Target\n",
       "0.444086  0.555914  in        14\n",
       "0.440188  0.559812  in        10\n",
       "0.438133  0.561867  in         9\n",
       "0.442315  0.557685  in         9\n",
       "0.445389  0.554611  in         9\n",
       "                              ..\n",
       "0.436329  0.563671  in         1\n",
       "                    out        1\n",
       "0.436330  0.563670  in         1\n",
       "0.436335  0.563665  in         1\n",
       "0.526595  0.473405  out        1\n",
       "Length: 15717, dtype: int64"
      ]
     },
     "execution_count": 23,
     "metadata": {},
     "output_type": "execute_result"
    }
   ],
   "source": [
    "d1_train = pd.DataFrame(data_1['x_train'])\n",
    "d1_train['Target'] = data_1['y_train']\n",
    "d1_train.value_counts()"
   ]
  },
  {
   "cell_type": "markdown",
   "id": "28d96b08-7ddf-48c3-b4a8-efb1b7d9cf35",
   "metadata": {},
   "source": [
    "The out class is not represented enough"
   ]
  },
  {
   "cell_type": "code",
   "execution_count": 24,
   "id": "949ec4ca-9fb0-4ab7-8f6c-17c56a6980f0",
   "metadata": {},
   "outputs": [
    {
     "data": {
      "text/plain": [
       "in     0.798835\n",
       "out    0.201165\n",
       "Name: Target, dtype: float64"
      ]
     },
     "execution_count": 24,
     "metadata": {},
     "output_type": "execute_result"
    }
   ],
   "source": [
    "d1_train.Target.value_counts(normalize=True)"
   ]
  },
  {
   "cell_type": "code",
   "execution_count": 25,
   "id": "58055997-f2fa-4142-8ecc-0351352d9db1",
   "metadata": {},
   "outputs": [
    {
     "data": {
      "text/html": [
       "<div>\n",
       "<style scoped>\n",
       "    .dataframe tbody tr th:only-of-type {\n",
       "        vertical-align: middle;\n",
       "    }\n",
       "\n",
       "    .dataframe tbody tr th {\n",
       "        vertical-align: top;\n",
       "    }\n",
       "\n",
       "    .dataframe thead th {\n",
       "        text-align: right;\n",
       "    }\n",
       "</style>\n",
       "<table border=\"1\" class=\"dataframe\">\n",
       "  <thead>\n",
       "    <tr style=\"text-align: right;\">\n",
       "      <th></th>\n",
       "      <th>0</th>\n",
       "      <th>1</th>\n",
       "    </tr>\n",
       "  </thead>\n",
       "  <tbody>\n",
       "    <tr>\n",
       "      <th>count</th>\n",
       "      <td>16653.000000</td>\n",
       "      <td>16653.000000</td>\n",
       "    </tr>\n",
       "    <tr>\n",
       "      <th>mean</th>\n",
       "      <td>0.442087</td>\n",
       "      <td>0.557913</td>\n",
       "    </tr>\n",
       "    <tr>\n",
       "      <th>std</th>\n",
       "      <td>0.023782</td>\n",
       "      <td>0.023782</td>\n",
       "    </tr>\n",
       "    <tr>\n",
       "      <th>min</th>\n",
       "      <td>0.296897</td>\n",
       "      <td>0.473405</td>\n",
       "    </tr>\n",
       "    <tr>\n",
       "      <th>25%</th>\n",
       "      <td>0.430463</td>\n",
       "      <td>0.543177</td>\n",
       "    </tr>\n",
       "    <tr>\n",
       "      <th>50%</th>\n",
       "      <td>0.443774</td>\n",
       "      <td>0.556226</td>\n",
       "    </tr>\n",
       "    <tr>\n",
       "      <th>75%</th>\n",
       "      <td>0.456823</td>\n",
       "      <td>0.569537</td>\n",
       "    </tr>\n",
       "    <tr>\n",
       "      <th>max</th>\n",
       "      <td>0.526595</td>\n",
       "      <td>0.703103</td>\n",
       "    </tr>\n",
       "  </tbody>\n",
       "</table>\n",
       "</div>"
      ],
      "text/plain": [
       "                  0             1\n",
       "count  16653.000000  16653.000000\n",
       "mean       0.442087      0.557913\n",
       "std        0.023782      0.023782\n",
       "min        0.296897      0.473405\n",
       "25%        0.430463      0.543177\n",
       "50%        0.443774      0.556226\n",
       "75%        0.456823      0.569537\n",
       "max        0.526595      0.703103"
      ]
     },
     "execution_count": 25,
     "metadata": {},
     "output_type": "execute_result"
    }
   ],
   "source": [
    "d1_train.describe()"
   ]
  },
  {
   "cell_type": "markdown",
   "id": "ed243375-305c-49e1-926f-f5b3dcc49f15",
   "metadata": {},
   "source": [
    "#### test"
   ]
  },
  {
   "cell_type": "markdown",
   "id": "110a20a1-eeaa-47ca-91a1-0f984b5dc77e",
   "metadata": {},
   "source": [
    "Testset for the attack model trained to recognise the label 0"
   ]
  },
  {
   "cell_type": "code",
   "execution_count": 26,
   "id": "13aab251-183c-4249-8656-18d9606fbce3",
   "metadata": {},
   "outputs": [
    {
     "data": {
      "text/plain": [
       "0         1         Target\n",
       "0.608273  0.391727  in        9\n",
       "0.546289  0.453711  in        9\n",
       "0.512205  0.487795  in        6\n",
       "0.606937  0.393063  in        6\n",
       "0.602440  0.397560  in        6\n",
       "                             ..\n",
       "0.537026  0.462974  in        1\n",
       "0.537039  0.462961  in        1\n",
       "0.537084  0.462916  in        1\n",
       "0.537135  0.462865  in        1\n",
       "0.660830  0.339170  in        1\n",
       "Length: 3844, dtype: int64"
      ]
     },
     "execution_count": 26,
     "metadata": {},
     "output_type": "execute_result"
    }
   ],
   "source": [
    "d0_test = pd.DataFrame(data_0['x_test'])\n",
    "d0_test['Target'] = data_0['y_test']\n",
    "d0_test.value_counts()"
   ]
  },
  {
   "cell_type": "code",
   "execution_count": 27,
   "id": "17484d65-045f-4ce7-a456-35cc888fcd20",
   "metadata": {},
   "outputs": [
    {
     "data": {
      "text/plain": [
       "in     0.978405\n",
       "out    0.021595\n",
       "Name: Target, dtype: float64"
      ]
     },
     "execution_count": 27,
     "metadata": {},
     "output_type": "execute_result"
    }
   ],
   "source": [
    "d0_test.Target.value_counts(normalize=True)"
   ]
  },
  {
   "cell_type": "code",
   "execution_count": 28,
   "id": "15d81707-b337-45d3-ae2d-4002e2ed6945",
   "metadata": {},
   "outputs": [
    {
     "data": {
      "text/html": [
       "<div>\n",
       "<style scoped>\n",
       "    .dataframe tbody tr th:only-of-type {\n",
       "        vertical-align: middle;\n",
       "    }\n",
       "\n",
       "    .dataframe tbody tr th {\n",
       "        vertical-align: top;\n",
       "    }\n",
       "\n",
       "    .dataframe thead th {\n",
       "        text-align: right;\n",
       "    }\n",
       "</style>\n",
       "<table border=\"1\" class=\"dataframe\">\n",
       "  <thead>\n",
       "    <tr style=\"text-align: right;\">\n",
       "      <th></th>\n",
       "      <th>0</th>\n",
       "      <th>1</th>\n",
       "    </tr>\n",
       "  </thead>\n",
       "  <tbody>\n",
       "    <tr>\n",
       "      <th>count</th>\n",
       "      <td>4538.000000</td>\n",
       "      <td>4538.000000</td>\n",
       "    </tr>\n",
       "    <tr>\n",
       "      <th>mean</th>\n",
       "      <td>0.563852</td>\n",
       "      <td>0.436148</td>\n",
       "    </tr>\n",
       "    <tr>\n",
       "      <th>std</th>\n",
       "      <td>0.037960</td>\n",
       "      <td>0.037960</td>\n",
       "    </tr>\n",
       "    <tr>\n",
       "      <th>min</th>\n",
       "      <td>0.495058</td>\n",
       "      <td>0.339170</td>\n",
       "    </tr>\n",
       "    <tr>\n",
       "      <th>25%</th>\n",
       "      <td>0.529039</td>\n",
       "      <td>0.399434</td>\n",
       "    </tr>\n",
       "    <tr>\n",
       "      <th>50%</th>\n",
       "      <td>0.555730</td>\n",
       "      <td>0.444270</td>\n",
       "    </tr>\n",
       "    <tr>\n",
       "      <th>75%</th>\n",
       "      <td>0.600566</td>\n",
       "      <td>0.470961</td>\n",
       "    </tr>\n",
       "    <tr>\n",
       "      <th>max</th>\n",
       "      <td>0.660830</td>\n",
       "      <td>0.504942</td>\n",
       "    </tr>\n",
       "  </tbody>\n",
       "</table>\n",
       "</div>"
      ],
      "text/plain": [
       "                 0            1\n",
       "count  4538.000000  4538.000000\n",
       "mean      0.563852     0.436148\n",
       "std       0.037960     0.037960\n",
       "min       0.495058     0.339170\n",
       "25%       0.529039     0.399434\n",
       "50%       0.555730     0.444270\n",
       "75%       0.600566     0.470961\n",
       "max       0.660830     0.504942"
      ]
     },
     "execution_count": 28,
     "metadata": {},
     "output_type": "execute_result"
    }
   ],
   "source": [
    "d0_test.describe()"
   ]
  },
  {
   "cell_type": "markdown",
   "id": "f196785a-9bd7-40ac-b666-bbab621f1b74",
   "metadata": {},
   "source": [
    "Testset for the attack model trained to recognise the label 1"
   ]
  },
  {
   "cell_type": "code",
   "execution_count": 29,
   "id": "91c2e725-620e-4dff-b8b0-eb1a82ec5652",
   "metadata": {},
   "outputs": [
    {
     "data": {
      "text/plain": [
       "0         1         Target\n",
       "0.439130  0.560870  in        6\n",
       "0.444536  0.555464  in        4\n",
       "0.395306  0.604694  in        3\n",
       "0.438133  0.561867  in        3\n",
       "0.439071  0.560929  in        3\n",
       "                             ..\n",
       "0.435828  0.564172  out       1\n",
       "0.435827  0.564173  out       1\n",
       "                    in        1\n",
       "0.435812  0.564188  in        1\n",
       "0.515932  0.484068  out       1\n",
       "Length: 5436, dtype: int64"
      ]
     },
     "execution_count": 29,
     "metadata": {},
     "output_type": "execute_result"
    }
   ],
   "source": [
    "d1_test = pd.DataFrame(data_1['x_test'])\n",
    "d1_test['Target'] = data_1['y_test']\n",
    "d1_test.value_counts()"
   ]
  },
  {
   "cell_type": "markdown",
   "id": "649d20ed-51af-4fc0-853a-4dc97459c414",
   "metadata": {},
   "source": [
    "The out class is not represented enough"
   ]
  },
  {
   "cell_type": "code",
   "execution_count": 30,
   "id": "4bc8b797-ad57-47b1-a96d-35d7c696d4f4",
   "metadata": {},
   "outputs": [
    {
     "data": {
      "text/plain": [
       "in     0.803999\n",
       "out    0.196001\n",
       "Name: Target, dtype: float64"
      ]
     },
     "execution_count": 30,
     "metadata": {},
     "output_type": "execute_result"
    }
   ],
   "source": [
    "d1_test.Target.value_counts(normalize=True)"
   ]
  },
  {
   "cell_type": "code",
   "execution_count": 31,
   "id": "4956b166-34b5-4067-9726-1f92ac717913",
   "metadata": {},
   "outputs": [
    {
     "data": {
      "text/html": [
       "<div>\n",
       "<style scoped>\n",
       "    .dataframe tbody tr th:only-of-type {\n",
       "        vertical-align: middle;\n",
       "    }\n",
       "\n",
       "    .dataframe tbody tr th {\n",
       "        vertical-align: top;\n",
       "    }\n",
       "\n",
       "    .dataframe thead th {\n",
       "        text-align: right;\n",
       "    }\n",
       "</style>\n",
       "<table border=\"1\" class=\"dataframe\">\n",
       "  <thead>\n",
       "    <tr style=\"text-align: right;\">\n",
       "      <th></th>\n",
       "      <th>0</th>\n",
       "      <th>1</th>\n",
       "    </tr>\n",
       "  </thead>\n",
       "  <tbody>\n",
       "    <tr>\n",
       "      <th>count</th>\n",
       "      <td>5551.000000</td>\n",
       "      <td>5551.000000</td>\n",
       "    </tr>\n",
       "    <tr>\n",
       "      <th>mean</th>\n",
       "      <td>0.442042</td>\n",
       "      <td>0.557958</td>\n",
       "    </tr>\n",
       "    <tr>\n",
       "      <th>std</th>\n",
       "      <td>0.023785</td>\n",
       "      <td>0.023785</td>\n",
       "    </tr>\n",
       "    <tr>\n",
       "      <th>min</th>\n",
       "      <td>0.325239</td>\n",
       "      <td>0.484068</td>\n",
       "    </tr>\n",
       "    <tr>\n",
       "      <th>25%</th>\n",
       "      <td>0.430324</td>\n",
       "      <td>0.543051</td>\n",
       "    </tr>\n",
       "    <tr>\n",
       "      <th>50%</th>\n",
       "      <td>0.444018</td>\n",
       "      <td>0.555982</td>\n",
       "    </tr>\n",
       "    <tr>\n",
       "      <th>75%</th>\n",
       "      <td>0.456949</td>\n",
       "      <td>0.569676</td>\n",
       "    </tr>\n",
       "    <tr>\n",
       "      <th>max</th>\n",
       "      <td>0.515932</td>\n",
       "      <td>0.674761</td>\n",
       "    </tr>\n",
       "  </tbody>\n",
       "</table>\n",
       "</div>"
      ],
      "text/plain": [
       "                 0            1\n",
       "count  5551.000000  5551.000000\n",
       "mean      0.442042     0.557958\n",
       "std       0.023785     0.023785\n",
       "min       0.325239     0.484068\n",
       "25%       0.430324     0.543051\n",
       "50%       0.444018     0.555982\n",
       "75%       0.456949     0.569676\n",
       "max       0.515932     0.674761"
      ]
     },
     "execution_count": 31,
     "metadata": {},
     "output_type": "execute_result"
    }
   ],
   "source": [
    "d1_test.describe()"
   ]
  },
  {
   "cell_type": "markdown",
   "id": "dabfb71a-fb86-4d1c-a933-548c0356deca",
   "metadata": {},
   "source": [
    "## idx 2"
   ]
  },
  {
   "cell_type": "code",
   "execution_count": 32,
   "id": "7b6e7985-df53-492c-9f9e-44f1ae659847",
   "metadata": {},
   "outputs": [
    {
     "name": "stdout",
     "output_type": "stream",
     "text": [
      "x_train x_test y_train y_test "
     ]
    },
    {
     "name": "stderr",
     "output_type": "stream",
     "text": [
      "/home/gerardozinno/.pyenv/versions/ml-environment/lib/python3.9/site-packages/sklearn/base.py:329: UserWarning: Trying to unpickle estimator DecisionTreeClassifier from version 1.0.2 when using version 1.1.1. This might lead to breaking code or invalid results. Use at your own risk. For more info please refer to:\n",
      "https://scikit-learn.org/stable/model_persistence.html#security-maintainability-limitations\n",
      "  warnings.warn(\n",
      "/home/gerardozinno/.pyenv/versions/ml-environment/lib/python3.9/site-packages/sklearn/base.py:329: UserWarning: Trying to unpickle estimator AdaBoostClassifier from version 1.0.2 when using version 1.1.1. This might lead to breaking code or invalid results. Use at your own risk. For more info please refer to:\n",
      "https://scikit-learn.org/stable/model_persistence.html#security-maintainability-limitations\n",
      "  warnings.warn(\n"
     ]
    }
   ],
   "source": [
    "(atk_0, data_0), (atk_1, data_1) = load_atk_and_data(2)\n",
    "for k in data_0.keys():\n",
    "    print(k, end=\" \")"
   ]
  },
  {
   "cell_type": "markdown",
   "id": "487548e4-9473-4d4b-b5b9-372c15407541",
   "metadata": {},
   "source": [
    "#### train"
   ]
  },
  {
   "cell_type": "markdown",
   "id": "944a7614-af05-4d70-8063-720919f680dd",
   "metadata": {},
   "source": [
    "Trainset for the attack model trained to recognise the label 0"
   ]
  },
  {
   "cell_type": "code",
   "execution_count": 33,
   "id": "02139327-e192-4493-86ea-28dcae10586f",
   "metadata": {},
   "outputs": [
    {
     "data": {
      "text/plain": [
       "0         1         Target\n",
       "0.532207  0.467793  in        15\n",
       "0.613668  0.386332  in        13\n",
       "0.541932  0.458068  in        11\n",
       "0.536388  0.463612  in        11\n",
       "0.526574  0.473426  in        11\n",
       "                              ..\n",
       "0.533975  0.466025  in         1\n",
       "0.533971  0.466029  in         1\n",
       "0.533956  0.466044  in         1\n",
       "0.533950  0.466050  in         1\n",
       "0.686169  0.313831  in         1\n",
       "Length: 9630, dtype: int64"
      ]
     },
     "execution_count": 33,
     "metadata": {},
     "output_type": "execute_result"
    }
   ],
   "source": [
    "d0_train = pd.DataFrame(data_0['x_train'])\n",
    "d0_train['Target'] = data_0['y_train']\n",
    "\n",
    "d0_train.value_counts()"
   ]
  },
  {
   "cell_type": "markdown",
   "id": "a9553cec-ca8c-4796-97ec-381077ccf501",
   "metadata": {},
   "source": [
    "This values appear with two different labels:\n",
    "\n",
    "    0.535312  0.464688  in        52\n",
    "    0.535312  0.464688  out       20"
   ]
  },
  {
   "cell_type": "code",
   "execution_count": 34,
   "id": "bd18f826-a4a0-482b-9d1c-2215f5827962",
   "metadata": {},
   "outputs": [
    {
     "data": {
      "text/plain": [
       "in     0.977273\n",
       "out    0.022727\n",
       "Name: Target, dtype: float64"
      ]
     },
     "execution_count": 34,
     "metadata": {},
     "output_type": "execute_result"
    }
   ],
   "source": [
    "d0_train.Target.value_counts(normalize=True)"
   ]
  },
  {
   "cell_type": "code",
   "execution_count": 35,
   "id": "de7e04e5-dfbf-4ba7-9978-289fc1e7dc48",
   "metadata": {},
   "outputs": [
    {
     "data": {
      "text/html": [
       "<div>\n",
       "<style scoped>\n",
       "    .dataframe tbody tr th:only-of-type {\n",
       "        vertical-align: middle;\n",
       "    }\n",
       "\n",
       "    .dataframe tbody tr th {\n",
       "        vertical-align: top;\n",
       "    }\n",
       "\n",
       "    .dataframe thead th {\n",
       "        text-align: right;\n",
       "    }\n",
       "</style>\n",
       "<table border=\"1\" class=\"dataframe\">\n",
       "  <thead>\n",
       "    <tr style=\"text-align: right;\">\n",
       "      <th></th>\n",
       "      <th>0</th>\n",
       "      <th>1</th>\n",
       "    </tr>\n",
       "  </thead>\n",
       "  <tbody>\n",
       "    <tr>\n",
       "      <th>count</th>\n",
       "      <td>13464.000000</td>\n",
       "      <td>13464.000000</td>\n",
       "    </tr>\n",
       "    <tr>\n",
       "      <th>mean</th>\n",
       "      <td>0.557400</td>\n",
       "      <td>0.442600</td>\n",
       "    </tr>\n",
       "    <tr>\n",
       "      <th>std</th>\n",
       "      <td>0.035502</td>\n",
       "      <td>0.035502</td>\n",
       "    </tr>\n",
       "    <tr>\n",
       "      <th>min</th>\n",
       "      <td>0.490198</td>\n",
       "      <td>0.313831</td>\n",
       "    </tr>\n",
       "    <tr>\n",
       "      <th>25%</th>\n",
       "      <td>0.526980</td>\n",
       "      <td>0.409847</td>\n",
       "    </tr>\n",
       "    <tr>\n",
       "      <th>50%</th>\n",
       "      <td>0.545865</td>\n",
       "      <td>0.454135</td>\n",
       "    </tr>\n",
       "    <tr>\n",
       "      <th>75%</th>\n",
       "      <td>0.590153</td>\n",
       "      <td>0.473020</td>\n",
       "    </tr>\n",
       "    <tr>\n",
       "      <th>max</th>\n",
       "      <td>0.686169</td>\n",
       "      <td>0.509802</td>\n",
       "    </tr>\n",
       "  </tbody>\n",
       "</table>\n",
       "</div>"
      ],
      "text/plain": [
       "                  0             1\n",
       "count  13464.000000  13464.000000\n",
       "mean       0.557400      0.442600\n",
       "std        0.035502      0.035502\n",
       "min        0.490198      0.313831\n",
       "25%        0.526980      0.409847\n",
       "50%        0.545865      0.454135\n",
       "75%        0.590153      0.473020\n",
       "max        0.686169      0.509802"
      ]
     },
     "execution_count": 35,
     "metadata": {},
     "output_type": "execute_result"
    }
   ],
   "source": [
    "d0_train.describe()"
   ]
  },
  {
   "cell_type": "markdown",
   "id": "f06d858d-5400-4007-8e49-d5a3aa123566",
   "metadata": {},
   "source": [
    "Trainset for the attack model trained to recognise the label 1"
   ]
  },
  {
   "cell_type": "code",
   "execution_count": 36,
   "id": "6d6ab887-7d19-46c8-b40d-5ed55b06a265",
   "metadata": {},
   "outputs": [
    {
     "data": {
      "text/plain": [
       "0         1         Target\n",
       "0.455082  0.544918  in        6\n",
       "0.455955  0.544045  in        5\n",
       "0.455503  0.544497  in        5\n",
       "0.459932  0.540068  in        5\n",
       "0.456697  0.543303  in        5\n",
       "                             ..\n",
       "0.442260  0.557740  in        1\n",
       "0.442267  0.557733  in        1\n",
       "0.442270  0.557730  in        1\n",
       "0.442274  0.557726  out       1\n",
       "0.512038  0.487962  out       1\n",
       "Length: 15824, dtype: int64"
      ]
     },
     "execution_count": 36,
     "metadata": {},
     "output_type": "execute_result"
    }
   ],
   "source": [
    "d1_train = pd.DataFrame(data_1['x_train'])\n",
    "d1_train['Target'] = data_1['y_train']\n",
    "d1_train.value_counts()"
   ]
  },
  {
   "cell_type": "markdown",
   "id": "7b719ba8-32eb-46d6-9ff5-0a18c9aa6026",
   "metadata": {},
   "source": [
    "The out class is not represented enough"
   ]
  },
  {
   "cell_type": "code",
   "execution_count": 37,
   "id": "7e6db10e-6d37-46a2-a5d2-df7e081f2f08",
   "metadata": {},
   "outputs": [
    {
     "data": {
      "text/plain": [
       "in     0.797647\n",
       "out    0.202353\n",
       "Name: Target, dtype: float64"
      ]
     },
     "execution_count": 37,
     "metadata": {},
     "output_type": "execute_result"
    }
   ],
   "source": [
    "d1_train.Target.value_counts(normalize=True)"
   ]
  },
  {
   "cell_type": "code",
   "execution_count": 38,
   "id": "4b2f52ce-6af9-4bac-9f5a-2e45b399d403",
   "metadata": {},
   "outputs": [
    {
     "data": {
      "text/html": [
       "<div>\n",
       "<style scoped>\n",
       "    .dataframe tbody tr th:only-of-type {\n",
       "        vertical-align: middle;\n",
       "    }\n",
       "\n",
       "    .dataframe tbody tr th {\n",
       "        vertical-align: top;\n",
       "    }\n",
       "\n",
       "    .dataframe thead th {\n",
       "        text-align: right;\n",
       "    }\n",
       "</style>\n",
       "<table border=\"1\" class=\"dataframe\">\n",
       "  <thead>\n",
       "    <tr style=\"text-align: right;\">\n",
       "      <th></th>\n",
       "      <th>0</th>\n",
       "      <th>1</th>\n",
       "    </tr>\n",
       "  </thead>\n",
       "  <tbody>\n",
       "    <tr>\n",
       "      <th>count</th>\n",
       "      <td>16491.000000</td>\n",
       "      <td>16491.000000</td>\n",
       "    </tr>\n",
       "    <tr>\n",
       "      <th>mean</th>\n",
       "      <td>0.446852</td>\n",
       "      <td>0.553148</td>\n",
       "    </tr>\n",
       "    <tr>\n",
       "      <th>std</th>\n",
       "      <td>0.023001</td>\n",
       "      <td>0.023001</td>\n",
       "    </tr>\n",
       "    <tr>\n",
       "      <th>min</th>\n",
       "      <td>0.329721</td>\n",
       "      <td>0.487962</td>\n",
       "    </tr>\n",
       "    <tr>\n",
       "      <th>25%</th>\n",
       "      <td>0.436922</td>\n",
       "      <td>0.538917</td>\n",
       "    </tr>\n",
       "    <tr>\n",
       "      <th>50%</th>\n",
       "      <td>0.449712</td>\n",
       "      <td>0.550288</td>\n",
       "    </tr>\n",
       "    <tr>\n",
       "      <th>75%</th>\n",
       "      <td>0.461083</td>\n",
       "      <td>0.563078</td>\n",
       "    </tr>\n",
       "    <tr>\n",
       "      <th>max</th>\n",
       "      <td>0.512038</td>\n",
       "      <td>0.670279</td>\n",
       "    </tr>\n",
       "  </tbody>\n",
       "</table>\n",
       "</div>"
      ],
      "text/plain": [
       "                  0             1\n",
       "count  16491.000000  16491.000000\n",
       "mean       0.446852      0.553148\n",
       "std        0.023001      0.023001\n",
       "min        0.329721      0.487962\n",
       "25%        0.436922      0.538917\n",
       "50%        0.449712      0.550288\n",
       "75%        0.461083      0.563078\n",
       "max        0.512038      0.670279"
      ]
     },
     "execution_count": 38,
     "metadata": {},
     "output_type": "execute_result"
    }
   ],
   "source": [
    "d1_train.describe()"
   ]
  },
  {
   "cell_type": "markdown",
   "id": "bb517723-facf-45a8-9ead-8baf304f8dc0",
   "metadata": {},
   "source": [
    "#### test"
   ]
  },
  {
   "cell_type": "markdown",
   "id": "1dc092f1-6662-4492-b623-2ce845be6a2a",
   "metadata": {},
   "source": [
    "Testset for the attack model trained to recognise the label 0"
   ]
  },
  {
   "cell_type": "code",
   "execution_count": 39,
   "id": "b247bc26-5e1f-489d-ad4d-37678b123468",
   "metadata": {},
   "outputs": [
    {
     "data": {
      "text/plain": [
       "0         1         Target\n",
       "0.574948  0.425052  in        5\n",
       "0.529523  0.470477  in        5\n",
       "0.586836  0.413164  in        4\n",
       "0.601012  0.398988  in        4\n",
       "0.590132  0.409868  in        4\n",
       "                             ..\n",
       "0.533057  0.466943  in        1\n",
       "0.533083  0.466917  in        1\n",
       "0.533130  0.466870  in        1\n",
       "0.533144  0.466856  in        1\n",
       "0.677628  0.322372  in        1\n",
       "Length: 3916, dtype: int64"
      ]
     },
     "execution_count": 39,
     "metadata": {},
     "output_type": "execute_result"
    }
   ],
   "source": [
    "d0_test = pd.DataFrame(data_0['x_test'])\n",
    "d0_test['Target'] = data_0['y_test']\n",
    "d0_test.value_counts()"
   ]
  },
  {
   "cell_type": "code",
   "execution_count": 40,
   "id": "78a84b0c-9f05-45ef-86a9-18c2c5ac8127",
   "metadata": {},
   "outputs": [
    {
     "data": {
      "text/plain": [
       "in     0.980392\n",
       "out    0.019608\n",
       "Name: Target, dtype: float64"
      ]
     },
     "execution_count": 40,
     "metadata": {},
     "output_type": "execute_result"
    }
   ],
   "source": [
    "d0_test.Target.value_counts(normalize=True)"
   ]
  },
  {
   "cell_type": "code",
   "execution_count": 41,
   "id": "6d386227-f80d-4774-b206-6b69068576ff",
   "metadata": {},
   "outputs": [
    {
     "data": {
      "text/html": [
       "<div>\n",
       "<style scoped>\n",
       "    .dataframe tbody tr th:only-of-type {\n",
       "        vertical-align: middle;\n",
       "    }\n",
       "\n",
       "    .dataframe tbody tr th {\n",
       "        vertical-align: top;\n",
       "    }\n",
       "\n",
       "    .dataframe thead th {\n",
       "        text-align: right;\n",
       "    }\n",
       "</style>\n",
       "<table border=\"1\" class=\"dataframe\">\n",
       "  <thead>\n",
       "    <tr style=\"text-align: right;\">\n",
       "      <th></th>\n",
       "      <th>0</th>\n",
       "      <th>1</th>\n",
       "    </tr>\n",
       "  </thead>\n",
       "  <tbody>\n",
       "    <tr>\n",
       "      <th>count</th>\n",
       "      <td>4488.000000</td>\n",
       "      <td>4488.000000</td>\n",
       "    </tr>\n",
       "    <tr>\n",
       "      <th>mean</th>\n",
       "      <td>0.557191</td>\n",
       "      <td>0.442809</td>\n",
       "    </tr>\n",
       "    <tr>\n",
       "      <th>std</th>\n",
       "      <td>0.035552</td>\n",
       "      <td>0.035552</td>\n",
       "    </tr>\n",
       "    <tr>\n",
       "      <th>min</th>\n",
       "      <td>0.499355</td>\n",
       "      <td>0.322372</td>\n",
       "    </tr>\n",
       "    <tr>\n",
       "      <th>25%</th>\n",
       "      <td>0.526784</td>\n",
       "      <td>0.409824</td>\n",
       "    </tr>\n",
       "    <tr>\n",
       "      <th>50%</th>\n",
       "      <td>0.545070</td>\n",
       "      <td>0.454930</td>\n",
       "    </tr>\n",
       "    <tr>\n",
       "      <th>75%</th>\n",
       "      <td>0.590176</td>\n",
       "      <td>0.473216</td>\n",
       "    </tr>\n",
       "    <tr>\n",
       "      <th>max</th>\n",
       "      <td>0.677628</td>\n",
       "      <td>0.500645</td>\n",
       "    </tr>\n",
       "  </tbody>\n",
       "</table>\n",
       "</div>"
      ],
      "text/plain": [
       "                 0            1\n",
       "count  4488.000000  4488.000000\n",
       "mean      0.557191     0.442809\n",
       "std       0.035552     0.035552\n",
       "min       0.499355     0.322372\n",
       "25%       0.526784     0.409824\n",
       "50%       0.545070     0.454930\n",
       "75%       0.590176     0.473216\n",
       "max       0.677628     0.500645"
      ]
     },
     "execution_count": 41,
     "metadata": {},
     "output_type": "execute_result"
    }
   ],
   "source": [
    "d0_test.describe()"
   ]
  },
  {
   "cell_type": "markdown",
   "id": "75668f10-36d2-445a-9874-e5154098be31",
   "metadata": {},
   "source": [
    "Testset for the attack model trained to recognise the label 1"
   ]
  },
  {
   "cell_type": "code",
   "execution_count": 42,
   "id": "8a0d7246-57c8-49bc-b4ae-465ec6399f89",
   "metadata": {},
   "outputs": [
    {
     "data": {
      "text/plain": [
       "0         1         Target\n",
       "0.455955  0.544045  in        4\n",
       "0.461945  0.538055  in        3\n",
       "0.413510  0.586490  in        3\n",
       "0.430222  0.569778  in        3\n",
       "0.437150  0.562850  in        3\n",
       "                             ..\n",
       "0.442170  0.557830  out       1\n",
       "0.442160  0.557840  in        1\n",
       "0.442156  0.557844  out       1\n",
       "0.442145  0.557855  in        1\n",
       "0.525878  0.474122  out       1\n",
       "Length: 5396, dtype: int64"
      ]
     },
     "execution_count": 42,
     "metadata": {},
     "output_type": "execute_result"
    }
   ],
   "source": [
    "d1_test = pd.DataFrame(data_1['x_test'])\n",
    "d1_test['Target'] = data_1['y_test']\n",
    "d1_test.value_counts()"
   ]
  },
  {
   "cell_type": "markdown",
   "id": "1d98364a-9827-46bb-8762-c6e07df694ac",
   "metadata": {},
   "source": [
    "The out class is not represented enough"
   ]
  },
  {
   "cell_type": "code",
   "execution_count": 43,
   "id": "6209b05c-653f-40f9-8137-27277ca2c0f8",
   "metadata": {},
   "outputs": [
    {
     "data": {
      "text/plain": [
       "in     0.801164\n",
       "out    0.198836\n",
       "Name: Target, dtype: float64"
      ]
     },
     "execution_count": 43,
     "metadata": {},
     "output_type": "execute_result"
    }
   ],
   "source": [
    "d1_test.Target.value_counts(normalize=True)"
   ]
  },
  {
   "cell_type": "code",
   "execution_count": 44,
   "id": "9284101a-ebc1-495a-8dd8-05b836079a07",
   "metadata": {},
   "outputs": [
    {
     "data": {
      "text/html": [
       "<div>\n",
       "<style scoped>\n",
       "    .dataframe tbody tr th:only-of-type {\n",
       "        vertical-align: middle;\n",
       "    }\n",
       "\n",
       "    .dataframe tbody tr th {\n",
       "        vertical-align: top;\n",
       "    }\n",
       "\n",
       "    .dataframe thead th {\n",
       "        text-align: right;\n",
       "    }\n",
       "</style>\n",
       "<table border=\"1\" class=\"dataframe\">\n",
       "  <thead>\n",
       "    <tr style=\"text-align: right;\">\n",
       "      <th></th>\n",
       "      <th>0</th>\n",
       "      <th>1</th>\n",
       "    </tr>\n",
       "  </thead>\n",
       "  <tbody>\n",
       "    <tr>\n",
       "      <th>count</th>\n",
       "      <td>5497.000000</td>\n",
       "      <td>5497.000000</td>\n",
       "    </tr>\n",
       "    <tr>\n",
       "      <th>mean</th>\n",
       "      <td>0.446982</td>\n",
       "      <td>0.553018</td>\n",
       "    </tr>\n",
       "    <tr>\n",
       "      <th>std</th>\n",
       "      <td>0.022745</td>\n",
       "      <td>0.022745</td>\n",
       "    </tr>\n",
       "    <tr>\n",
       "      <th>min</th>\n",
       "      <td>0.333267</td>\n",
       "      <td>0.474122</td>\n",
       "    </tr>\n",
       "    <tr>\n",
       "      <th>25%</th>\n",
       "      <td>0.436466</td>\n",
       "      <td>0.538522</td>\n",
       "    </tr>\n",
       "    <tr>\n",
       "      <th>50%</th>\n",
       "      <td>0.449751</td>\n",
       "      <td>0.550249</td>\n",
       "    </tr>\n",
       "    <tr>\n",
       "      <th>75%</th>\n",
       "      <td>0.461478</td>\n",
       "      <td>0.563534</td>\n",
       "    </tr>\n",
       "    <tr>\n",
       "      <th>max</th>\n",
       "      <td>0.525878</td>\n",
       "      <td>0.666733</td>\n",
       "    </tr>\n",
       "  </tbody>\n",
       "</table>\n",
       "</div>"
      ],
      "text/plain": [
       "                 0            1\n",
       "count  5497.000000  5497.000000\n",
       "mean      0.446982     0.553018\n",
       "std       0.022745     0.022745\n",
       "min       0.333267     0.474122\n",
       "25%       0.436466     0.538522\n",
       "50%       0.449751     0.550249\n",
       "75%       0.461478     0.563534\n",
       "max       0.525878     0.666733"
      ]
     },
     "execution_count": 44,
     "metadata": {},
     "output_type": "execute_result"
    }
   ],
   "source": [
    "d1_test.describe()"
   ]
  },
  {
   "cell_type": "markdown",
   "id": "4f7cfe32-702c-47e2-8476-b1438a05e891",
   "metadata": {},
   "source": [
    "## idx 20"
   ]
  },
  {
   "cell_type": "code",
   "execution_count": 45,
   "id": "e4b9885c-4fd4-4e25-bda8-e3c6e623d6cb",
   "metadata": {},
   "outputs": [
    {
     "name": "stdout",
     "output_type": "stream",
     "text": [
      "x_train x_test y_train y_test "
     ]
    },
    {
     "name": "stderr",
     "output_type": "stream",
     "text": [
      "/home/gerardozinno/.pyenv/versions/ml-environment/lib/python3.9/site-packages/sklearn/base.py:329: UserWarning: Trying to unpickle estimator DecisionTreeClassifier from version 1.0.2 when using version 1.1.1. This might lead to breaking code or invalid results. Use at your own risk. For more info please refer to:\n",
      "https://scikit-learn.org/stable/model_persistence.html#security-maintainability-limitations\n",
      "  warnings.warn(\n",
      "/home/gerardozinno/.pyenv/versions/ml-environment/lib/python3.9/site-packages/sklearn/base.py:329: UserWarning: Trying to unpickle estimator AdaBoostClassifier from version 1.0.2 when using version 1.1.1. This might lead to breaking code or invalid results. Use at your own risk. For more info please refer to:\n",
      "https://scikit-learn.org/stable/model_persistence.html#security-maintainability-limitations\n",
      "  warnings.warn(\n"
     ]
    }
   ],
   "source": [
    "(atk_0, data_0), (atk_1, data_1) = load_atk_and_data(20)\n",
    "for k in data_0.keys():\n",
    "    print(k, end=\" \")"
   ]
  },
  {
   "cell_type": "markdown",
   "id": "7c5a5ed2-8722-4a05-be35-bc67ab5544cc",
   "metadata": {},
   "source": [
    "#### train"
   ]
  },
  {
   "cell_type": "markdown",
   "id": "3cbb5374-22be-4733-b2ca-67e8b12d73c9",
   "metadata": {},
   "source": [
    "Trainset for the attack model trained to recognise the label 0"
   ]
  },
  {
   "cell_type": "code",
   "execution_count": 46,
   "id": "a3792e50-8826-4db6-a2bf-a7c46dda4ac4",
   "metadata": {},
   "outputs": [
    {
     "data": {
      "text/plain": [
       "0         1         Target\n",
       "0.526360  0.473640  in        13\n",
       "0.530328  0.469672  in        12\n",
       "0.525273  0.474727  in        12\n",
       "0.616675  0.383325  in        11\n",
       "0.522925  0.477075  in        10\n",
       "                              ..\n",
       "0.534068  0.465932  in         1\n",
       "0.534063  0.465937  in         1\n",
       "0.534054  0.465946  in         1\n",
       "0.534051  0.465949  in         1\n",
       "0.703273  0.296727  out        1\n",
       "Length: 9427, dtype: int64"
      ]
     },
     "execution_count": 46,
     "metadata": {},
     "output_type": "execute_result"
    }
   ],
   "source": [
    "d0_train = pd.DataFrame(data_0['x_train'])\n",
    "d0_train['Target'] = data_0['y_train']\n",
    "\n",
    "d0_train.value_counts()"
   ]
  },
  {
   "cell_type": "code",
   "execution_count": 47,
   "id": "2ed4927c-fc03-4b2a-ab25-d98db17a296e",
   "metadata": {},
   "outputs": [
    {
     "data": {
      "text/plain": [
       "in     0.978093\n",
       "out    0.021907\n",
       "Name: Target, dtype: float64"
      ]
     },
     "execution_count": 47,
     "metadata": {},
     "output_type": "execute_result"
    }
   ],
   "source": [
    "d0_train.Target.value_counts(normalize=True)"
   ]
  },
  {
   "cell_type": "code",
   "execution_count": 48,
   "id": "04a7fba6-d728-47eb-a443-8393f212f5f5",
   "metadata": {},
   "outputs": [
    {
     "data": {
      "text/html": [
       "<div>\n",
       "<style scoped>\n",
       "    .dataframe tbody tr th:only-of-type {\n",
       "        vertical-align: middle;\n",
       "    }\n",
       "\n",
       "    .dataframe tbody tr th {\n",
       "        vertical-align: top;\n",
       "    }\n",
       "\n",
       "    .dataframe thead th {\n",
       "        text-align: right;\n",
       "    }\n",
       "</style>\n",
       "<table border=\"1\" class=\"dataframe\">\n",
       "  <thead>\n",
       "    <tr style=\"text-align: right;\">\n",
       "      <th></th>\n",
       "      <th>0</th>\n",
       "      <th>1</th>\n",
       "    </tr>\n",
       "  </thead>\n",
       "  <tbody>\n",
       "    <tr>\n",
       "      <th>count</th>\n",
       "      <td>13603.000000</td>\n",
       "      <td>13603.000000</td>\n",
       "    </tr>\n",
       "    <tr>\n",
       "      <th>mean</th>\n",
       "      <td>0.563816</td>\n",
       "      <td>0.436184</td>\n",
       "    </tr>\n",
       "    <tr>\n",
       "      <th>std</th>\n",
       "      <td>0.044036</td>\n",
       "      <td>0.044036</td>\n",
       "    </tr>\n",
       "    <tr>\n",
       "      <th>min</th>\n",
       "      <td>0.441062</td>\n",
       "      <td>0.296727</td>\n",
       "    </tr>\n",
       "    <tr>\n",
       "      <th>25%</th>\n",
       "      <td>0.525800</td>\n",
       "      <td>0.404067</td>\n",
       "    </tr>\n",
       "    <tr>\n",
       "      <th>50%</th>\n",
       "      <td>0.550138</td>\n",
       "      <td>0.449862</td>\n",
       "    </tr>\n",
       "    <tr>\n",
       "      <th>75%</th>\n",
       "      <td>0.595933</td>\n",
       "      <td>0.474200</td>\n",
       "    </tr>\n",
       "    <tr>\n",
       "      <th>max</th>\n",
       "      <td>0.703273</td>\n",
       "      <td>0.558938</td>\n",
       "    </tr>\n",
       "  </tbody>\n",
       "</table>\n",
       "</div>"
      ],
      "text/plain": [
       "                  0             1\n",
       "count  13603.000000  13603.000000\n",
       "mean       0.563816      0.436184\n",
       "std        0.044036      0.044036\n",
       "min        0.441062      0.296727\n",
       "25%        0.525800      0.404067\n",
       "50%        0.550138      0.449862\n",
       "75%        0.595933      0.474200\n",
       "max        0.703273      0.558938"
      ]
     },
     "execution_count": 48,
     "metadata": {},
     "output_type": "execute_result"
    }
   ],
   "source": [
    "d0_train.describe()"
   ]
  },
  {
   "cell_type": "markdown",
   "id": "6f9ed8fe-4a77-4c6a-89a0-017548c4a769",
   "metadata": {},
   "source": [
    "Trainset for the attack model trained to recognise the label 1"
   ]
  },
  {
   "cell_type": "code",
   "execution_count": 49,
   "id": "8bc0e11e-8757-453e-8e7d-ff686741016d",
   "metadata": {},
   "outputs": [
    {
     "data": {
      "text/plain": [
       "0         1         Target\n",
       "0.433837  0.566163  in        49\n",
       "0.419578  0.580422  in        18\n",
       "0.416365  0.583635  in        17\n",
       "0.448298  0.551702  in        13\n",
       "0.441793  0.558207  in        13\n",
       "                              ..\n",
       "0.438088  0.561912  in         1\n",
       "0.438102  0.561898  out        1\n",
       "0.438112  0.561888  in         1\n",
       "0.438113  0.561887  out        1\n",
       "0.547629  0.452371  out        1\n",
       "Length: 15433, dtype: int64"
      ]
     },
     "execution_count": 49,
     "metadata": {},
     "output_type": "execute_result"
    }
   ],
   "source": [
    "d1_train = pd.DataFrame(data_1['x_train'])\n",
    "d1_train['Target'] = data_1['y_train']\n",
    "d1_train.value_counts()"
   ]
  },
  {
   "cell_type": "markdown",
   "id": "82eefb6b-48be-4ef2-92e3-405f4ece046a",
   "metadata": {},
   "source": [
    "The out class is not represented enough"
   ]
  },
  {
   "cell_type": "code",
   "execution_count": 50,
   "id": "aa0d8053-ab94-4af2-83ad-b188b6803f3f",
   "metadata": {},
   "outputs": [
    {
     "data": {
      "text/plain": [
       "in     0.799326\n",
       "out    0.200674\n",
       "Name: Target, dtype: float64"
      ]
     },
     "execution_count": 50,
     "metadata": {},
     "output_type": "execute_result"
    }
   ],
   "source": [
    "d1_train.Target.value_counts(normalize=True)"
   ]
  },
  {
   "cell_type": "code",
   "execution_count": 51,
   "id": "04f7653b-150a-4552-b2bf-5c4b5cfe33ec",
   "metadata": {},
   "outputs": [
    {
     "data": {
      "text/html": [
       "<div>\n",
       "<style scoped>\n",
       "    .dataframe tbody tr th:only-of-type {\n",
       "        vertical-align: middle;\n",
       "    }\n",
       "\n",
       "    .dataframe tbody tr th {\n",
       "        vertical-align: top;\n",
       "    }\n",
       "\n",
       "    .dataframe thead th {\n",
       "        text-align: right;\n",
       "    }\n",
       "</style>\n",
       "<table border=\"1\" class=\"dataframe\">\n",
       "  <thead>\n",
       "    <tr style=\"text-align: right;\">\n",
       "      <th></th>\n",
       "      <th>0</th>\n",
       "      <th>1</th>\n",
       "    </tr>\n",
       "  </thead>\n",
       "  <tbody>\n",
       "    <tr>\n",
       "      <th>count</th>\n",
       "      <td>16614.000000</td>\n",
       "      <td>16614.000000</td>\n",
       "    </tr>\n",
       "    <tr>\n",
       "      <th>mean</th>\n",
       "      <td>0.442457</td>\n",
       "      <td>0.557543</td>\n",
       "    </tr>\n",
       "    <tr>\n",
       "      <th>std</th>\n",
       "      <td>0.028208</td>\n",
       "      <td>0.028208</td>\n",
       "    </tr>\n",
       "    <tr>\n",
       "      <th>min</th>\n",
       "      <td>0.232238</td>\n",
       "      <td>0.452371</td>\n",
       "    </tr>\n",
       "    <tr>\n",
       "      <th>25%</th>\n",
       "      <td>0.430219</td>\n",
       "      <td>0.539812</td>\n",
       "    </tr>\n",
       "    <tr>\n",
       "      <th>50%</th>\n",
       "      <td>0.446104</td>\n",
       "      <td>0.553896</td>\n",
       "    </tr>\n",
       "    <tr>\n",
       "      <th>75%</th>\n",
       "      <td>0.460188</td>\n",
       "      <td>0.569781</td>\n",
       "    </tr>\n",
       "    <tr>\n",
       "      <th>max</th>\n",
       "      <td>0.547629</td>\n",
       "      <td>0.767762</td>\n",
       "    </tr>\n",
       "  </tbody>\n",
       "</table>\n",
       "</div>"
      ],
      "text/plain": [
       "                  0             1\n",
       "count  16614.000000  16614.000000\n",
       "mean       0.442457      0.557543\n",
       "std        0.028208      0.028208\n",
       "min        0.232238      0.452371\n",
       "25%        0.430219      0.539812\n",
       "50%        0.446104      0.553896\n",
       "75%        0.460188      0.569781\n",
       "max        0.547629      0.767762"
      ]
     },
     "execution_count": 51,
     "metadata": {},
     "output_type": "execute_result"
    }
   ],
   "source": [
    "d1_train.describe()"
   ]
  },
  {
   "cell_type": "markdown",
   "id": "3f84ccc8-8e25-4b25-b15e-9da93f53df01",
   "metadata": {},
   "source": [
    "#### test"
   ]
  },
  {
   "cell_type": "markdown",
   "id": "9c5bf8f2-0266-416e-8d62-4b9b57e52e93",
   "metadata": {},
   "source": [
    "Testset for the attack model trained to recognise the label 0"
   ]
  },
  {
   "cell_type": "code",
   "execution_count": 52,
   "id": "9cf2d2bd-79fe-4f80-8a0c-b1111add6ba8",
   "metadata": {},
   "outputs": [
    {
     "data": {
      "text/plain": [
       "0         1         Target\n",
       "0.655192  0.344808  in        6\n",
       "0.653809  0.346191  in        5\n",
       "0.595572  0.404428  in        5\n",
       "0.633207  0.366793  in        4\n",
       "0.635057  0.364943  in        4\n",
       "                             ..\n",
       "0.533715  0.466285  in        1\n",
       "0.533719  0.466281  in        1\n",
       "0.533723  0.466277  in        1\n",
       "0.533759  0.466241  in        1\n",
       "0.701896  0.298104  in        1\n",
       "Length: 3919, dtype: int64"
      ]
     },
     "execution_count": 52,
     "metadata": {},
     "output_type": "execute_result"
    }
   ],
   "source": [
    "d0_test = pd.DataFrame(data_0['x_test'])\n",
    "d0_test['Target'] = data_0['y_test']\n",
    "d0_test.value_counts()"
   ]
  },
  {
   "cell_type": "code",
   "execution_count": 53,
   "id": "eef4c8f1-4034-4734-b455-c0d8b4044853",
   "metadata": {},
   "outputs": [
    {
     "data": {
      "text/plain": [
       "in     0.976406\n",
       "out    0.023594\n",
       "Name: Target, dtype: float64"
      ]
     },
     "execution_count": 53,
     "metadata": {},
     "output_type": "execute_result"
    }
   ],
   "source": [
    "d0_test.Target.value_counts(normalize=True)"
   ]
  },
  {
   "cell_type": "code",
   "execution_count": 54,
   "id": "b0688f08-e55f-4373-b953-3f3b34fcbaee",
   "metadata": {},
   "outputs": [
    {
     "data": {
      "text/html": [
       "<div>\n",
       "<style scoped>\n",
       "    .dataframe tbody tr th:only-of-type {\n",
       "        vertical-align: middle;\n",
       "    }\n",
       "\n",
       "    .dataframe tbody tr th {\n",
       "        vertical-align: top;\n",
       "    }\n",
       "\n",
       "    .dataframe thead th {\n",
       "        text-align: right;\n",
       "    }\n",
       "</style>\n",
       "<table border=\"1\" class=\"dataframe\">\n",
       "  <thead>\n",
       "    <tr style=\"text-align: right;\">\n",
       "      <th></th>\n",
       "      <th>0</th>\n",
       "      <th>1</th>\n",
       "    </tr>\n",
       "  </thead>\n",
       "  <tbody>\n",
       "    <tr>\n",
       "      <th>count</th>\n",
       "      <td>4535.000000</td>\n",
       "      <td>4535.000000</td>\n",
       "    </tr>\n",
       "    <tr>\n",
       "      <th>mean</th>\n",
       "      <td>0.563729</td>\n",
       "      <td>0.436271</td>\n",
       "    </tr>\n",
       "    <tr>\n",
       "      <th>std</th>\n",
       "      <td>0.043412</td>\n",
       "      <td>0.043412</td>\n",
       "    </tr>\n",
       "    <tr>\n",
       "      <th>min</th>\n",
       "      <td>0.477135</td>\n",
       "      <td>0.298104</td>\n",
       "    </tr>\n",
       "    <tr>\n",
       "      <th>25%</th>\n",
       "      <td>0.526371</td>\n",
       "      <td>0.404742</td>\n",
       "    </tr>\n",
       "    <tr>\n",
       "      <th>50%</th>\n",
       "      <td>0.551201</td>\n",
       "      <td>0.448799</td>\n",
       "    </tr>\n",
       "    <tr>\n",
       "      <th>75%</th>\n",
       "      <td>0.595258</td>\n",
       "      <td>0.473629</td>\n",
       "    </tr>\n",
       "    <tr>\n",
       "      <th>max</th>\n",
       "      <td>0.701896</td>\n",
       "      <td>0.522865</td>\n",
       "    </tr>\n",
       "  </tbody>\n",
       "</table>\n",
       "</div>"
      ],
      "text/plain": [
       "                 0            1\n",
       "count  4535.000000  4535.000000\n",
       "mean      0.563729     0.436271\n",
       "std       0.043412     0.043412\n",
       "min       0.477135     0.298104\n",
       "25%       0.526371     0.404742\n",
       "50%       0.551201     0.448799\n",
       "75%       0.595258     0.473629\n",
       "max       0.701896     0.522865"
      ]
     },
     "execution_count": 54,
     "metadata": {},
     "output_type": "execute_result"
    }
   ],
   "source": [
    "d0_test.describe()"
   ]
  },
  {
   "cell_type": "markdown",
   "id": "2c63dce6-cd0a-4308-bb92-cd2f4ae83abb",
   "metadata": {},
   "source": [
    "Testset for the attack model trained to recognise the label 1"
   ]
  },
  {
   "cell_type": "code",
   "execution_count": 55,
   "id": "2b487747-1e19-4471-aa07-3998d0baad8b",
   "metadata": {},
   "outputs": [
    {
     "data": {
      "text/plain": [
       "0         1         Target\n",
       "0.433837  0.566163  in        9\n",
       "0.416365  0.583635  in        7\n",
       "0.447169  0.552831  in        5\n",
       "0.443509  0.556491  in        5\n",
       "0.433837  0.566163  out       5\n",
       "                             ..\n",
       "0.437407  0.562593  in        1\n",
       "0.437393  0.562607  out       1\n",
       "0.437388  0.562612  in        1\n",
       "0.437384  0.562616  in        1\n",
       "0.561107  0.438893  out       1\n",
       "Length: 5366, dtype: int64"
      ]
     },
     "execution_count": 55,
     "metadata": {},
     "output_type": "execute_result"
    }
   ],
   "source": [
    "d1_test = pd.DataFrame(data_1['x_test'])\n",
    "d1_test['Target'] = data_1['y_test']\n",
    "d1_test.value_counts()"
   ]
  },
  {
   "cell_type": "markdown",
   "id": "88dfa458-def1-4bf0-81c0-e0358a0fd273",
   "metadata": {},
   "source": [
    "The out class is not represented enough"
   ]
  },
  {
   "cell_type": "code",
   "execution_count": 56,
   "id": "0cd4d039-91be-4622-a95a-bb01e0cc5022",
   "metadata": {},
   "outputs": [
    {
     "data": {
      "text/plain": [
       "in     0.804081\n",
       "out    0.195919\n",
       "Name: Target, dtype: float64"
      ]
     },
     "execution_count": 56,
     "metadata": {},
     "output_type": "execute_result"
    }
   ],
   "source": [
    "d1_test.Target.value_counts(normalize=True)"
   ]
  },
  {
   "cell_type": "code",
   "execution_count": 57,
   "id": "9dcabca5-4762-4451-91be-3b67534a2474",
   "metadata": {
    "tags": []
   },
   "outputs": [
    {
     "data": {
      "text/html": [
       "<div>\n",
       "<style scoped>\n",
       "    .dataframe tbody tr th:only-of-type {\n",
       "        vertical-align: middle;\n",
       "    }\n",
       "\n",
       "    .dataframe tbody tr th {\n",
       "        vertical-align: top;\n",
       "    }\n",
       "\n",
       "    .dataframe thead th {\n",
       "        text-align: right;\n",
       "    }\n",
       "</style>\n",
       "<table border=\"1\" class=\"dataframe\">\n",
       "  <thead>\n",
       "    <tr style=\"text-align: right;\">\n",
       "      <th></th>\n",
       "      <th>0</th>\n",
       "      <th>1</th>\n",
       "    </tr>\n",
       "  </thead>\n",
       "  <tbody>\n",
       "    <tr>\n",
       "      <th>count</th>\n",
       "      <td>5538.000000</td>\n",
       "      <td>5538.000000</td>\n",
       "    </tr>\n",
       "    <tr>\n",
       "      <th>mean</th>\n",
       "      <td>0.442411</td>\n",
       "      <td>0.557589</td>\n",
       "    </tr>\n",
       "    <tr>\n",
       "      <th>std</th>\n",
       "      <td>0.029245</td>\n",
       "      <td>0.029245</td>\n",
       "    </tr>\n",
       "    <tr>\n",
       "      <th>min</th>\n",
       "      <td>0.266011</td>\n",
       "      <td>0.438893</td>\n",
       "    </tr>\n",
       "    <tr>\n",
       "      <th>25%</th>\n",
       "      <td>0.430392</td>\n",
       "      <td>0.539750</td>\n",
       "    </tr>\n",
       "    <tr>\n",
       "      <th>50%</th>\n",
       "      <td>0.446921</td>\n",
       "      <td>0.553079</td>\n",
       "    </tr>\n",
       "    <tr>\n",
       "      <th>75%</th>\n",
       "      <td>0.460250</td>\n",
       "      <td>0.569608</td>\n",
       "    </tr>\n",
       "    <tr>\n",
       "      <th>max</th>\n",
       "      <td>0.561107</td>\n",
       "      <td>0.733989</td>\n",
       "    </tr>\n",
       "  </tbody>\n",
       "</table>\n",
       "</div>"
      ],
      "text/plain": [
       "                 0            1\n",
       "count  5538.000000  5538.000000\n",
       "mean      0.442411     0.557589\n",
       "std       0.029245     0.029245\n",
       "min       0.266011     0.438893\n",
       "25%       0.430392     0.539750\n",
       "50%       0.446921     0.553079\n",
       "75%       0.460250     0.569608\n",
       "max       0.561107     0.733989"
      ]
     },
     "execution_count": 57,
     "metadata": {},
     "output_type": "execute_result"
    }
   ],
   "source": [
    "d1_test.describe()"
   ]
  },
  {
   "cell_type": "markdown",
   "id": "a23edf82-28ac-4f58-8fa6-86e42783a8ce",
   "metadata": {},
   "source": [
    "## idx 23"
   ]
  },
  {
   "cell_type": "code",
   "execution_count": 58,
   "id": "61fcb772-ef7f-41bb-84f2-85de2a74cd49",
   "metadata": {},
   "outputs": [
    {
     "name": "stdout",
     "output_type": "stream",
     "text": [
      "x_train x_test y_train y_test "
     ]
    },
    {
     "name": "stderr",
     "output_type": "stream",
     "text": [
      "/home/gerardozinno/.pyenv/versions/ml-environment/lib/python3.9/site-packages/sklearn/base.py:329: UserWarning: Trying to unpickle estimator DecisionTreeClassifier from version 1.0.2 when using version 1.1.1. This might lead to breaking code or invalid results. Use at your own risk. For more info please refer to:\n",
      "https://scikit-learn.org/stable/model_persistence.html#security-maintainability-limitations\n",
      "  warnings.warn(\n",
      "/home/gerardozinno/.pyenv/versions/ml-environment/lib/python3.9/site-packages/sklearn/base.py:329: UserWarning: Trying to unpickle estimator AdaBoostClassifier from version 1.0.2 when using version 1.1.1. This might lead to breaking code or invalid results. Use at your own risk. For more info please refer to:\n",
      "https://scikit-learn.org/stable/model_persistence.html#security-maintainability-limitations\n",
      "  warnings.warn(\n"
     ]
    }
   ],
   "source": [
    "(atk_0, data_0), (atk_1, data_1) = load_atk_and_data(23)\n",
    "for k in data_0.keys():\n",
    "    print(k, end=\" \")"
   ]
  },
  {
   "cell_type": "markdown",
   "id": "8747e23c-5b3d-4acc-9553-9d9ebe4d27ce",
   "metadata": {},
   "source": [
    "#### train"
   ]
  },
  {
   "cell_type": "markdown",
   "id": "2564ba2b-5396-4efe-913c-49769f79a7e8",
   "metadata": {},
   "source": [
    "Trainset for the attack model trained to recognise the label 0"
   ]
  },
  {
   "cell_type": "code",
   "execution_count": 59,
   "id": "da4629a1-1438-46ab-9cc5-a04ff6d064e9",
   "metadata": {},
   "outputs": [
    {
     "data": {
      "text/plain": [
       "0         1         Target\n",
       "0.521133  0.478867  in        15\n",
       "0.646191  0.353809  in        13\n",
       "0.611000  0.389000  in        11\n",
       "0.627770  0.372230  in        11\n",
       "0.530208  0.469792  in        11\n",
       "                              ..\n",
       "0.530394  0.469606  in         1\n",
       "0.530385  0.469615  in         1\n",
       "0.530383  0.469617  in         1\n",
       "0.530375  0.469625  in         1\n",
       "0.539874  0.460126  in         1\n",
       "Length: 9432, dtype: int64"
      ]
     },
     "execution_count": 59,
     "metadata": {},
     "output_type": "execute_result"
    }
   ],
   "source": [
    "d0_train = pd.DataFrame(data_0['x_train'])\n",
    "d0_train['Target'] = data_0['y_train']\n",
    "\n",
    "d0_train.value_counts()"
   ]
  },
  {
   "cell_type": "code",
   "execution_count": 60,
   "id": "e6968aee-b777-4e30-aef6-4027abb4d62d",
   "metadata": {},
   "outputs": [
    {
     "data": {
      "text/plain": [
       "in     0.976233\n",
       "out    0.023767\n",
       "Name: Target, dtype: float64"
      ]
     },
     "execution_count": 60,
     "metadata": {},
     "output_type": "execute_result"
    }
   ],
   "source": [
    "d0_train.Target.value_counts(normalize=True)"
   ]
  },
  {
   "cell_type": "code",
   "execution_count": 61,
   "id": "7459ae41-071a-4703-8cf0-92bb4340e33a",
   "metadata": {},
   "outputs": [
    {
     "data": {
      "text/html": [
       "<div>\n",
       "<style scoped>\n",
       "    .dataframe tbody tr th:only-of-type {\n",
       "        vertical-align: middle;\n",
       "    }\n",
       "\n",
       "    .dataframe tbody tr th {\n",
       "        vertical-align: top;\n",
       "    }\n",
       "\n",
       "    .dataframe thead th {\n",
       "        text-align: right;\n",
       "    }\n",
       "</style>\n",
       "<table border=\"1\" class=\"dataframe\">\n",
       "  <thead>\n",
       "    <tr style=\"text-align: right;\">\n",
       "      <th></th>\n",
       "      <th>0</th>\n",
       "      <th>1</th>\n",
       "    </tr>\n",
       "  </thead>\n",
       "  <tbody>\n",
       "    <tr>\n",
       "      <th>count</th>\n",
       "      <td>13506.000000</td>\n",
       "      <td>13506.000000</td>\n",
       "    </tr>\n",
       "    <tr>\n",
       "      <th>mean</th>\n",
       "      <td>0.560074</td>\n",
       "      <td>0.439926</td>\n",
       "    </tr>\n",
       "    <tr>\n",
       "      <th>std</th>\n",
       "      <td>0.043507</td>\n",
       "      <td>0.043507</td>\n",
       "    </tr>\n",
       "    <tr>\n",
       "      <th>min</th>\n",
       "      <td>0.487665</td>\n",
       "      <td>0.310961</td>\n",
       "    </tr>\n",
       "    <tr>\n",
       "      <th>25%</th>\n",
       "      <td>0.523208</td>\n",
       "      <td>0.404788</td>\n",
       "    </tr>\n",
       "    <tr>\n",
       "      <th>50%</th>\n",
       "      <td>0.542158</td>\n",
       "      <td>0.457842</td>\n",
       "    </tr>\n",
       "    <tr>\n",
       "      <th>75%</th>\n",
       "      <td>0.595212</td>\n",
       "      <td>0.476792</td>\n",
       "    </tr>\n",
       "    <tr>\n",
       "      <th>max</th>\n",
       "      <td>0.689039</td>\n",
       "      <td>0.512335</td>\n",
       "    </tr>\n",
       "  </tbody>\n",
       "</table>\n",
       "</div>"
      ],
      "text/plain": [
       "                  0             1\n",
       "count  13506.000000  13506.000000\n",
       "mean       0.560074      0.439926\n",
       "std        0.043507      0.043507\n",
       "min        0.487665      0.310961\n",
       "25%        0.523208      0.404788\n",
       "50%        0.542158      0.457842\n",
       "75%        0.595212      0.476792\n",
       "max        0.689039      0.512335"
      ]
     },
     "execution_count": 61,
     "metadata": {},
     "output_type": "execute_result"
    }
   ],
   "source": [
    "d0_train.describe()"
   ]
  },
  {
   "cell_type": "markdown",
   "id": "51fc99e3-63a9-4dc6-bff8-fd0f0eff6cc9",
   "metadata": {},
   "source": [
    "Trainset for the attack model trained to recognise the label 1"
   ]
  },
  {
   "cell_type": "code",
   "execution_count": 62,
   "id": "c3e0d8b3-07f0-43b0-b8d6-249863a9907f",
   "metadata": {},
   "outputs": [
    {
     "data": {
      "text/plain": [
       "0         1         Target\n",
       "0.437436  0.562564  in        23\n",
       "0.436723  0.563277  in        15\n",
       "0.448443  0.551557  in        12\n",
       "0.442516  0.557484  in        11\n",
       "0.440409  0.559591  in        11\n",
       "                              ..\n",
       "0.445384  0.554616  in         1\n",
       "0.445387  0.554613  in         1\n",
       "0.445388  0.554612  in         1\n",
       "0.445410  0.554590  out        1\n",
       "0.549557  0.450443  out        1\n",
       "Length: 14797, dtype: int64"
      ]
     },
     "execution_count": 62,
     "metadata": {},
     "output_type": "execute_result"
    }
   ],
   "source": [
    "d1_train = pd.DataFrame(data_1['x_train'])\n",
    "d1_train['Target'] = data_1['y_train']\n",
    "d1_train.value_counts()"
   ]
  },
  {
   "cell_type": "markdown",
   "id": "2ed41ff8-0f81-4f8a-b305-b1c1fba8fcb8",
   "metadata": {},
   "source": [
    "The out class is not represented enough"
   ]
  },
  {
   "cell_type": "code",
   "execution_count": 63,
   "id": "73b4c396-02d6-47e5-95ac-b37d55e2d3d2",
   "metadata": {},
   "outputs": [
    {
     "data": {
      "text/plain": [
       "in     0.801019\n",
       "out    0.198981\n",
       "Name: Target, dtype: float64"
      ]
     },
     "execution_count": 63,
     "metadata": {},
     "output_type": "execute_result"
    }
   ],
   "source": [
    "d1_train.Target.value_counts(normalize=True)"
   ]
  },
  {
   "cell_type": "code",
   "execution_count": 64,
   "id": "3cfc8a9f-db09-403b-bea6-7c27fb72d9b2",
   "metadata": {},
   "outputs": [
    {
     "data": {
      "text/html": [
       "<div>\n",
       "<style scoped>\n",
       "    .dataframe tbody tr th:only-of-type {\n",
       "        vertical-align: middle;\n",
       "    }\n",
       "\n",
       "    .dataframe tbody tr th {\n",
       "        vertical-align: top;\n",
       "    }\n",
       "\n",
       "    .dataframe thead th {\n",
       "        text-align: right;\n",
       "    }\n",
       "</style>\n",
       "<table border=\"1\" class=\"dataframe\">\n",
       "  <thead>\n",
       "    <tr style=\"text-align: right;\">\n",
       "      <th></th>\n",
       "      <th>0</th>\n",
       "      <th>1</th>\n",
       "    </tr>\n",
       "  </thead>\n",
       "  <tbody>\n",
       "    <tr>\n",
       "      <th>count</th>\n",
       "      <td>16479.000000</td>\n",
       "      <td>16479.000000</td>\n",
       "    </tr>\n",
       "    <tr>\n",
       "      <th>mean</th>\n",
       "      <td>0.450192</td>\n",
       "      <td>0.549808</td>\n",
       "    </tr>\n",
       "    <tr>\n",
       "      <th>std</th>\n",
       "      <td>0.023906</td>\n",
       "      <td>0.023906</td>\n",
       "    </tr>\n",
       "    <tr>\n",
       "      <th>min</th>\n",
       "      <td>0.299624</td>\n",
       "      <td>0.450443</td>\n",
       "    </tr>\n",
       "    <tr>\n",
       "      <th>25%</th>\n",
       "      <td>0.439139</td>\n",
       "      <td>0.535256</td>\n",
       "    </tr>\n",
       "    <tr>\n",
       "      <th>50%</th>\n",
       "      <td>0.452271</td>\n",
       "      <td>0.547729</td>\n",
       "    </tr>\n",
       "    <tr>\n",
       "      <th>75%</th>\n",
       "      <td>0.464744</td>\n",
       "      <td>0.560861</td>\n",
       "    </tr>\n",
       "    <tr>\n",
       "      <th>max</th>\n",
       "      <td>0.549557</td>\n",
       "      <td>0.700376</td>\n",
       "    </tr>\n",
       "  </tbody>\n",
       "</table>\n",
       "</div>"
      ],
      "text/plain": [
       "                  0             1\n",
       "count  16479.000000  16479.000000\n",
       "mean       0.450192      0.549808\n",
       "std        0.023906      0.023906\n",
       "min        0.299624      0.450443\n",
       "25%        0.439139      0.535256\n",
       "50%        0.452271      0.547729\n",
       "75%        0.464744      0.560861\n",
       "max        0.549557      0.700376"
      ]
     },
     "execution_count": 64,
     "metadata": {},
     "output_type": "execute_result"
    }
   ],
   "source": [
    "d1_train.describe()"
   ]
  },
  {
   "cell_type": "markdown",
   "id": "60c36580-2498-4971-abff-cd6d75790dd4",
   "metadata": {},
   "source": [
    "#### test"
   ]
  },
  {
   "cell_type": "markdown",
   "id": "a97a441f-51e9-4de2-9439-3ce2bfa57d2f",
   "metadata": {},
   "source": [
    "Testset for the attack model trained to recognise the label 0"
   ]
  },
  {
   "cell_type": "code",
   "execution_count": 65,
   "id": "fb41c928-6a56-4aec-9529-2f9047ddecb6",
   "metadata": {},
   "outputs": [
    {
     "data": {
      "text/plain": [
       "0         1         Target\n",
       "0.629463  0.370537  in        7\n",
       "0.611000  0.389000  in        6\n",
       "0.641376  0.358624  in        5\n",
       "0.519981  0.480019  in        5\n",
       "0.609630  0.390370  in        5\n",
       "                             ..\n",
       "0.529427  0.470573  in        1\n",
       "0.529460  0.470540  in        1\n",
       "                    in        1\n",
       "0.529470  0.470530  in        1\n",
       "0.689039  0.310961  in        1\n",
       "Length: 3917, dtype: int64"
      ]
     },
     "execution_count": 65,
     "metadata": {},
     "output_type": "execute_result"
    }
   ],
   "source": [
    "d0_test = pd.DataFrame(data_0['x_test'])\n",
    "d0_test['Target'] = data_0['y_test']\n",
    "d0_test.value_counts()"
   ]
  },
  {
   "cell_type": "code",
   "execution_count": 66,
   "id": "f0fc5474-066b-4464-8fa7-71e8c294f5e5",
   "metadata": {},
   "outputs": [
    {
     "data": {
      "text/plain": [
       "in     0.975789\n",
       "out    0.024211\n",
       "Name: Target, dtype: float64"
      ]
     },
     "execution_count": 66,
     "metadata": {},
     "output_type": "execute_result"
    }
   ],
   "source": [
    "d0_test.Target.value_counts(normalize=True)"
   ]
  },
  {
   "cell_type": "code",
   "execution_count": 67,
   "id": "6cf30333-7ca8-4a4d-ac68-30b2485720c1",
   "metadata": {},
   "outputs": [
    {
     "data": {
      "text/html": [
       "<div>\n",
       "<style scoped>\n",
       "    .dataframe tbody tr th:only-of-type {\n",
       "        vertical-align: middle;\n",
       "    }\n",
       "\n",
       "    .dataframe tbody tr th {\n",
       "        vertical-align: top;\n",
       "    }\n",
       "\n",
       "    .dataframe thead th {\n",
       "        text-align: right;\n",
       "    }\n",
       "</style>\n",
       "<table border=\"1\" class=\"dataframe\">\n",
       "  <thead>\n",
       "    <tr style=\"text-align: right;\">\n",
       "      <th></th>\n",
       "      <th>0</th>\n",
       "      <th>1</th>\n",
       "    </tr>\n",
       "  </thead>\n",
       "  <tbody>\n",
       "    <tr>\n",
       "      <th>count</th>\n",
       "      <td>4502.000000</td>\n",
       "      <td>4502.000000</td>\n",
       "    </tr>\n",
       "    <tr>\n",
       "      <th>mean</th>\n",
       "      <td>0.560423</td>\n",
       "      <td>0.439577</td>\n",
       "    </tr>\n",
       "    <tr>\n",
       "      <th>std</th>\n",
       "      <td>0.043533</td>\n",
       "      <td>0.043533</td>\n",
       "    </tr>\n",
       "    <tr>\n",
       "      <th>min</th>\n",
       "      <td>0.493918</td>\n",
       "      <td>0.310961</td>\n",
       "    </tr>\n",
       "    <tr>\n",
       "      <th>25%</th>\n",
       "      <td>0.523560</td>\n",
       "      <td>0.402927</td>\n",
       "    </tr>\n",
       "    <tr>\n",
       "      <th>50%</th>\n",
       "      <td>0.542807</td>\n",
       "      <td>0.457193</td>\n",
       "    </tr>\n",
       "    <tr>\n",
       "      <th>75%</th>\n",
       "      <td>0.597073</td>\n",
       "      <td>0.476440</td>\n",
       "    </tr>\n",
       "    <tr>\n",
       "      <th>max</th>\n",
       "      <td>0.689039</td>\n",
       "      <td>0.506082</td>\n",
       "    </tr>\n",
       "  </tbody>\n",
       "</table>\n",
       "</div>"
      ],
      "text/plain": [
       "                 0            1\n",
       "count  4502.000000  4502.000000\n",
       "mean      0.560423     0.439577\n",
       "std       0.043533     0.043533\n",
       "min       0.493918     0.310961\n",
       "25%       0.523560     0.402927\n",
       "50%       0.542807     0.457193\n",
       "75%       0.597073     0.476440\n",
       "max       0.689039     0.506082"
      ]
     },
     "execution_count": 67,
     "metadata": {},
     "output_type": "execute_result"
    }
   ],
   "source": [
    "d0_test.describe()"
   ]
  },
  {
   "cell_type": "markdown",
   "id": "ce70202f-d060-47f1-b0b4-676a39a65c6d",
   "metadata": {},
   "source": [
    "Testset for the attack model trained to recognise the label 1"
   ]
  },
  {
   "cell_type": "code",
   "execution_count": 68,
   "id": "d19542ae-676e-4e53-abf2-d34e8c1714a8",
   "metadata": {},
   "outputs": [
    {
     "data": {
      "text/plain": [
       "0         1         Target\n",
       "0.430092  0.569908  in        8\n",
       "0.437436  0.562564  in        7\n",
       "0.425165  0.574835  in        5\n",
       "0.451819  0.548181  in        5\n",
       "0.438605  0.561395  in        5\n",
       "                             ..\n",
       "0.445480  0.554520  in        1\n",
       "0.445477  0.554523  in        1\n",
       "0.445476  0.554524  out       1\n",
       "0.445459  0.554541  out       1\n",
       "0.503980  0.496020  out       1\n",
       "Length: 5196, dtype: int64"
      ]
     },
     "execution_count": 68,
     "metadata": {},
     "output_type": "execute_result"
    }
   ],
   "source": [
    "d1_test = pd.DataFrame(data_1['x_test'])\n",
    "d1_test['Target'] = data_1['y_test']\n",
    "d1_test.value_counts()"
   ]
  },
  {
   "cell_type": "markdown",
   "id": "010fff6c-27a6-4ae3-9922-68a92e0cc595",
   "metadata": {},
   "source": [
    "The out class is not represented enough"
   ]
  },
  {
   "cell_type": "code",
   "execution_count": 69,
   "id": "b666ae30-6b14-4137-b4b1-c57323ffb523",
   "metadata": {},
   "outputs": [
    {
     "data": {
      "text/plain": [
       "in     0.797014\n",
       "out    0.202986\n",
       "Name: Target, dtype: float64"
      ]
     },
     "execution_count": 69,
     "metadata": {},
     "output_type": "execute_result"
    }
   ],
   "source": [
    "d1_test.Target.value_counts(normalize=True)"
   ]
  },
  {
   "cell_type": "code",
   "execution_count": 70,
   "id": "b3bc7f9c-1adf-43a1-80bb-813680a79b14",
   "metadata": {},
   "outputs": [
    {
     "data": {
      "text/html": [
       "<div>\n",
       "<style scoped>\n",
       "    .dataframe tbody tr th:only-of-type {\n",
       "        vertical-align: middle;\n",
       "    }\n",
       "\n",
       "    .dataframe tbody tr th {\n",
       "        vertical-align: top;\n",
       "    }\n",
       "\n",
       "    .dataframe thead th {\n",
       "        text-align: right;\n",
       "    }\n",
       "</style>\n",
       "<table border=\"1\" class=\"dataframe\">\n",
       "  <thead>\n",
       "    <tr style=\"text-align: right;\">\n",
       "      <th></th>\n",
       "      <th>0</th>\n",
       "      <th>1</th>\n",
       "    </tr>\n",
       "  </thead>\n",
       "  <tbody>\n",
       "    <tr>\n",
       "      <th>count</th>\n",
       "      <td>5493.000000</td>\n",
       "      <td>5493.000000</td>\n",
       "    </tr>\n",
       "    <tr>\n",
       "      <th>mean</th>\n",
       "      <td>0.450585</td>\n",
       "      <td>0.549415</td>\n",
       "    </tr>\n",
       "    <tr>\n",
       "      <th>std</th>\n",
       "      <td>0.023016</td>\n",
       "      <td>0.023016</td>\n",
       "    </tr>\n",
       "    <tr>\n",
       "      <th>min</th>\n",
       "      <td>0.309350</td>\n",
       "      <td>0.496020</td>\n",
       "    </tr>\n",
       "    <tr>\n",
       "      <th>25%</th>\n",
       "      <td>0.439252</td>\n",
       "      <td>0.535221</td>\n",
       "    </tr>\n",
       "    <tr>\n",
       "      <th>50%</th>\n",
       "      <td>0.453000</td>\n",
       "      <td>0.547000</td>\n",
       "    </tr>\n",
       "    <tr>\n",
       "      <th>75%</th>\n",
       "      <td>0.464779</td>\n",
       "      <td>0.560748</td>\n",
       "    </tr>\n",
       "    <tr>\n",
       "      <th>max</th>\n",
       "      <td>0.503980</td>\n",
       "      <td>0.690650</td>\n",
       "    </tr>\n",
       "  </tbody>\n",
       "</table>\n",
       "</div>"
      ],
      "text/plain": [
       "                 0            1\n",
       "count  5493.000000  5493.000000\n",
       "mean      0.450585     0.549415\n",
       "std       0.023016     0.023016\n",
       "min       0.309350     0.496020\n",
       "25%       0.439252     0.535221\n",
       "50%       0.453000     0.547000\n",
       "75%       0.464779     0.560748\n",
       "max       0.503980     0.690650"
      ]
     },
     "execution_count": 70,
     "metadata": {},
     "output_type": "execute_result"
    }
   ],
   "source": [
    "d1_test.describe()"
   ]
  }
 ],
 "metadata": {
  "kernelspec": {
   "display_name": "Python 3 (ipykernel)",
   "language": "python",
   "name": "python3"
  },
  "language_info": {
   "codemirror_mode": {
    "name": "ipython",
    "version": 3
   },
   "file_extension": ".py",
   "mimetype": "text/x-python",
   "name": "python",
   "nbconvert_exporter": "python",
   "pygments_lexer": "ipython3",
   "version": "3.9.9"
  }
 },
 "nbformat": 4,
 "nbformat_minor": 5
}
