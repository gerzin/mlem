{
 "cells": [
  {
   "cell_type": "markdown",
   "id": "3dc60773-fa10-4c3f-a5ee-b22b20412701",
   "metadata": {},
   "source": [
    "# Analysis of the attack on Adult without clustering before the construction of the blackbox\n",
    "\n",
    "For this attack I used adaboost instead of the random forests both for the shadow models and the attack models"
   ]
  },
  {
   "cell_type": "code",
   "execution_count": 1,
   "id": "f7a37695-362d-4556-ad67-48a0424073a8",
   "metadata": {},
   "outputs": [],
   "source": [
    "import numpy as np\n",
    "import pandas as pd\n",
    "import matplotlib.pyplot as plt\n",
    "import seaborn as sns; sns.set()\n",
    "from pathlib import Path\n",
    "import os\n",
    "import sys\n",
    "import bz2\n",
    "import pickle\n",
    "np.random.seed(10)\n",
    "# adds the visibility of the mlem module, needed to load the attack models\n",
    "sys.path.append(\"../../../../..\") \n",
    "import mlem\n",
    "from mlem.ensemble import HardVotingClassifier"
   ]
  },
  {
   "cell_type": "code",
   "execution_count": 2,
   "id": "930fa39d-86a1-4962-9d93-25c01224643c",
   "metadata": {},
   "outputs": [],
   "source": [
    "import warnings"
   ]
  },
  {
   "cell_type": "code",
   "execution_count": 7,
   "id": "8760d626-a0c6-412d-8559-37de6e55e496",
   "metadata": {},
   "outputs": [],
   "source": [
    "BLACK_BOX_PATH = '../BB_DATA/adult_rf_noclustering.bz2'"
   ]
  },
  {
   "cell_type": "code",
   "execution_count": 13,
   "id": "834dd815-dacb-4695-a0ff-3a05f2739b14",
   "metadata": {},
   "outputs": [],
   "source": [
    "def get_attack_mod(index:int, targets=[0,1], base_folder=None):\n",
    "    \"\"\"\n",
    "    Args:\n",
    "        index - row of the dataset on which the attack model was built\n",
    "        targets (int | List(int)) - targets for the attack model.\n",
    "    Returns:\n",
    "        List containing the attack models (or model) for that particular index\n",
    "    \"\"\"\n",
    "    if type(targets) is int:\n",
    "        targets = [targets]\n",
    "    loaded_models = []\n",
    "    for t in targets:\n",
    "        path = f\"{base_folder}/{index}/attack/{t}/model.pkl.bz2\"\n",
    "        with bz2.BZ2File(path) as f:\n",
    "            data = pickle.load(f)\n",
    "            loaded_models.append(data)\n",
    "    return loaded_models\n",
    "        \n",
    "\n",
    "def split_probs_array(arr):\n",
    "    \"\"\"\n",
    "    \n",
    "    \"\"\"\n",
    "    n_classes = len(arr[0])\n",
    "    separated = []\n",
    "    max_index_row = np.argmax(arr, axis=1)\n",
    "    for c in range(n_classes):\n",
    "        separated.append(arr[max_index_row == c])\n",
    "    return separated"
   ]
  },
  {
   "cell_type": "code",
   "execution_count": 5,
   "id": "d1fdfeb6-80ce-4eba-9975-d9cca3de24ea",
   "metadata": {},
   "outputs": [
    {
     "data": {
      "text/html": [
       "<style>#sk-container-id-1 {color: black;background-color: white;}#sk-container-id-1 pre{padding: 0;}#sk-container-id-1 div.sk-toggleable {background-color: white;}#sk-container-id-1 label.sk-toggleable__label {cursor: pointer;display: block;width: 100%;margin-bottom: 0;padding: 0.3em;box-sizing: border-box;text-align: center;}#sk-container-id-1 label.sk-toggleable__label-arrow:before {content: \"▸\";float: left;margin-right: 0.25em;color: #696969;}#sk-container-id-1 label.sk-toggleable__label-arrow:hover:before {color: black;}#sk-container-id-1 div.sk-estimator:hover label.sk-toggleable__label-arrow:before {color: black;}#sk-container-id-1 div.sk-toggleable__content {max-height: 0;max-width: 0;overflow: hidden;text-align: left;background-color: #f0f8ff;}#sk-container-id-1 div.sk-toggleable__content pre {margin: 0.2em;color: black;border-radius: 0.25em;background-color: #f0f8ff;}#sk-container-id-1 input.sk-toggleable__control:checked~div.sk-toggleable__content {max-height: 200px;max-width: 100%;overflow: auto;}#sk-container-id-1 input.sk-toggleable__control:checked~label.sk-toggleable__label-arrow:before {content: \"▾\";}#sk-container-id-1 div.sk-estimator input.sk-toggleable__control:checked~label.sk-toggleable__label {background-color: #d4ebff;}#sk-container-id-1 div.sk-label input.sk-toggleable__control:checked~label.sk-toggleable__label {background-color: #d4ebff;}#sk-container-id-1 input.sk-hidden--visually {border: 0;clip: rect(1px 1px 1px 1px);clip: rect(1px, 1px, 1px, 1px);height: 1px;margin: -1px;overflow: hidden;padding: 0;position: absolute;width: 1px;}#sk-container-id-1 div.sk-estimator {font-family: monospace;background-color: #f0f8ff;border: 1px dotted black;border-radius: 0.25em;box-sizing: border-box;margin-bottom: 0.5em;}#sk-container-id-1 div.sk-estimator:hover {background-color: #d4ebff;}#sk-container-id-1 div.sk-parallel-item::after {content: \"\";width: 100%;border-bottom: 1px solid gray;flex-grow: 1;}#sk-container-id-1 div.sk-label:hover label.sk-toggleable__label {background-color: #d4ebff;}#sk-container-id-1 div.sk-serial::before {content: \"\";position: absolute;border-left: 1px solid gray;box-sizing: border-box;top: 0;bottom: 0;left: 50%;z-index: 0;}#sk-container-id-1 div.sk-serial {display: flex;flex-direction: column;align-items: center;background-color: white;padding-right: 0.2em;padding-left: 0.2em;position: relative;}#sk-container-id-1 div.sk-item {position: relative;z-index: 1;}#sk-container-id-1 div.sk-parallel {display: flex;align-items: stretch;justify-content: center;background-color: white;position: relative;}#sk-container-id-1 div.sk-item::before, #sk-container-id-1 div.sk-parallel-item::before {content: \"\";position: absolute;border-left: 1px solid gray;box-sizing: border-box;top: 0;bottom: 0;left: 50%;z-index: -1;}#sk-container-id-1 div.sk-parallel-item {display: flex;flex-direction: column;z-index: 1;position: relative;background-color: white;}#sk-container-id-1 div.sk-parallel-item:first-child::after {align-self: flex-end;width: 50%;}#sk-container-id-1 div.sk-parallel-item:last-child::after {align-self: flex-start;width: 50%;}#sk-container-id-1 div.sk-parallel-item:only-child::after {width: 0;}#sk-container-id-1 div.sk-dashed-wrapped {border: 1px dashed gray;margin: 0 0.4em 0.5em 0.4em;box-sizing: border-box;padding-bottom: 0.4em;background-color: white;}#sk-container-id-1 div.sk-label label {font-family: monospace;font-weight: bold;display: inline-block;line-height: 1.2em;}#sk-container-id-1 div.sk-label-container {text-align: center;}#sk-container-id-1 div.sk-container {/* jupyter's `normalize.less` sets `[hidden] { display: none; }` but bootstrap.min.css set `[hidden] { display: none !important; }` so we also need the `!important` here to be able to override the default hidden behavior on the sphinx rendered scikit-learn.org. See: https://github.com/scikit-learn/scikit-learn/issues/21755 */display: inline-block !important;position: relative;}#sk-container-id-1 div.sk-text-repr-fallback {display: none;}</style><div id=\"sk-container-id-1\" class=\"sk-top-container\"><div class=\"sk-text-repr-fallback\"><pre>RandomForestClassifier(max_depth=100, min_samples_leaf=10, min_samples_split=5,\n",
       "                       n_estimators=350)</pre><b>In a Jupyter environment, please rerun this cell to show the HTML representation or trust the notebook. <br />On GitHub, the HTML representation is unable to render, please try loading this page with nbviewer.org.</b></div><div class=\"sk-container\" hidden><div class=\"sk-item\"><div class=\"sk-estimator sk-toggleable\"><input class=\"sk-toggleable__control sk-hidden--visually\" id=\"sk-estimator-id-1\" type=\"checkbox\" checked><label for=\"sk-estimator-id-1\" class=\"sk-toggleable__label sk-toggleable__label-arrow\">RandomForestClassifier</label><div class=\"sk-toggleable__content\"><pre>RandomForestClassifier(max_depth=100, min_samples_leaf=10, min_samples_split=5,\n",
       "                       n_estimators=350)</pre></div></div></div></div></div>"
      ],
      "text/plain": [
       "RandomForestClassifier(max_depth=100, min_samples_leaf=10, min_samples_split=5,\n",
       "                       n_estimators=350)"
      ]
     },
     "execution_count": 5,
     "metadata": {},
     "output_type": "execute_result"
    }
   ],
   "source": [
    "with bz2.BZ2File(BLACK_BOX_PATH) as f:\n",
    "    black_box = pickle.load(f)\n",
    "black_box"
   ]
  },
  {
   "cell_type": "markdown",
   "id": "c34038ea-b2b5-40e2-8eac-fea6d973cc6b",
   "metadata": {},
   "source": [
    "# Attack"
   ]
  },
  {
   "cell_type": "code",
   "execution_count": 26,
   "id": "0142c5bc-9534-400f-9eb4-11cf402de818",
   "metadata": {},
   "outputs": [],
   "source": [
    "from sklearn.metrics import classification_report, ConfusionMatrixDisplay"
   ]
  },
  {
   "cell_type": "code",
   "execution_count": 8,
   "id": "ff5e3f4b-151b-4d0b-a2d1-f77341fc6288",
   "metadata": {},
   "outputs": [],
   "source": [
    "BASE_BB_DATA_PATH = \"../BB_DATA/adult_rf_noclustering_data_nsamples_{n_samples}.npz\""
   ]
  },
  {
   "cell_type": "markdown",
   "id": "dc9c8cc1-2041-4936-a0a7-8f5434045dff",
   "metadata": {},
   "source": [
    "## $1$ element per quantile"
   ]
  },
  {
   "cell_type": "code",
   "execution_count": null,
   "id": "f2b8b93e-636a-49b2-bf20-ea01779ce3a5",
   "metadata": {},
   "outputs": [],
   "source": [
    "BB_DATA = \"../BB_DATA/clusters_representatives_quantiles_1_24.csv\""
   ]
  },
  {
   "cell_type": "code",
   "execution_count": 11,
   "id": "c40921f3-cd81-425d-9480-4edbd151029b",
   "metadata": {},
   "outputs": [
    {
     "name": "stdout",
     "output_type": "stream",
     "text": [
      "x_train x_test y_train y_test x_test_clustered y_test_clustered "
     ]
    }
   ],
   "source": [
    "loaded = np.load(BASE_BB_DATA_PATH.format(n_samples=1), allow_pickle=True)\n",
    "for k in loaded.keys():\n",
    "    print(k, end=\" \")\n",
    "x_train = loaded[\"x_train\"]\n",
    "x_test = loaded[\"x_test\"]\n",
    "y_train = loaded[\"y_train\"]\n",
    "y_test = loaded[\"y_test\"]\n",
    "x_test_clustered = loaded[\"x_test_clustered\"]\n",
    "y_test_clustered = loaded[\"y_test_clustered\"]"
   ]
  },
  {
   "cell_type": "code",
   "execution_count": 14,
   "id": "38896247-1997-42ef-a7c4-f682d08dcf4a",
   "metadata": {},
   "outputs": [
    {
     "name": "stderr",
     "output_type": "stream",
     "text": [
      "/home/gerardozinno/.pyenv/versions/ml-environment/lib/python3.9/site-packages/sklearn/base.py:329: UserWarning: Trying to unpickle estimator DecisionTreeClassifier from version 1.0.2 when using version 1.1.1. This might lead to breaking code or invalid results. Use at your own risk. For more info please refer to:\n",
      "https://scikit-learn.org/stable/model_persistence.html#security-maintainability-limitations\n",
      "  warnings.warn(\n",
      "/home/gerardozinno/.pyenv/versions/ml-environment/lib/python3.9/site-packages/sklearn/base.py:329: UserWarning: Trying to unpickle estimator AdaBoostClassifier from version 1.0.2 when using version 1.1.1. This might lead to breaking code or invalid results. Use at your own risk. For more info please refer to:\n",
      "https://scikit-learn.org/stable/model_persistence.html#security-maintainability-limitations\n",
      "  warnings.warn(\n"
     ]
    }
   ],
   "source": [
    "ATTACK_0, ATTACK_1 = [], []\n",
    "\n",
    "for index in range(len(x_test_clustered)):\n",
    "    atk0, atk1 = get_attack_mod(index, base_folder=\"/home/gerardozinno/Desktop/ExperimentsResult/ADA/ADULT/adult_results_noclust_ada_1/gaussian/same\")\n",
    "    ATTACK_0.append(atk0)\n",
    "    ATTACK_1.append(atk1)\n",
    "assert (len(ATTACK_0) == len(ATTACK_1)) and (len(ATTACK_0) == len(x_test_clustered))\n",
    "        \n",
    "ensemble_0 = HardVotingClassifier(classifiers=ATTACK_0)\n",
    "ensemble_1 = HardVotingClassifier(classifiers=ATTACK_1)"
   ]
  },
  {
   "cell_type": "code",
   "execution_count": 15,
   "id": "95a6494d-efa2-4389-9efb-795886eea1a7",
   "metadata": {},
   "outputs": [],
   "source": [
    "TRAIN_PREDICTIONS = black_box.predict_proba(x_train)\n",
    "TEST_PREDICTIONS  = black_box.predict_proba(x_test)"
   ]
  },
  {
   "cell_type": "code",
   "execution_count": 21,
   "id": "807a637e-340a-4999-9c7f-76eae0623b23",
   "metadata": {},
   "outputs": [],
   "source": [
    "TRAIN_0, TRAIN_1 = split_probs_array(TRAIN_PREDICTIONS)\n",
    "TEST_0, TEST_1  = split_probs_array(TEST_PREDICTIONS)"
   ]
  },
  {
   "cell_type": "code",
   "execution_count": 22,
   "id": "7da8a780-45b7-4df8-b752-c25486bc16bb",
   "metadata": {},
   "outputs": [],
   "source": [
    "IN_0 = ensemble_0.predict(TRAIN_0)\n",
    "IN_1 = ensemble_1.predict(TRAIN_1)\n",
    "OUT_0 = ensemble_0.predict(TEST_0)\n",
    "OUT_1 = ensemble_1.predict(TEST_1)"
   ]
  },
  {
   "cell_type": "code",
   "execution_count": 38,
   "id": "31255856-f7af-4fd9-a94d-0e551ca81e4c",
   "metadata": {},
   "outputs": [],
   "source": [
    "INS = np.concatenate([IN_0, IN_1])\n",
    "INS_LAB = np.array([\"in\"] * len(INS))\n",
    "OUTS = np.concatenate([OUT_0, OUT_1])\n",
    "OUTS_LAB = np.array([\"out\"] * len(OUTS))"
   ]
  },
  {
   "cell_type": "code",
   "execution_count": 39,
   "id": "20026321-84b2-4bee-a2b2-87e8bc7c907b",
   "metadata": {},
   "outputs": [
    {
     "name": "stdout",
     "output_type": "stream",
     "text": [
      "even_in = 0.0\n",
      "even_out = 0.0\n"
     ]
    }
   ],
   "source": [
    "number_even_in = len([x for x in INS if x == \"even\"])\n",
    "number_even_out = len([x for x in OUTS if x == \"even\"])\n",
    "print(f\"even_in = {number_even_in/len(INS)}\")\n",
    "print(F\"even_out = {number_even_out/len(OUTS)}\")"
   ]
  },
  {
   "cell_type": "code",
   "execution_count": 40,
   "id": "867a1991-52c5-478c-b286-51edd0b2277d",
   "metadata": {},
   "outputs": [],
   "source": [
    "INOUT = np.concatenate([INS, OUTS])\n",
    "INOUT_LAB = np.concatenate([INS_LAB, OUTS_LAB])"
   ]
  },
  {
   "cell_type": "code",
   "execution_count": 42,
   "id": "afbfd5b9-83b3-4b1f-a23a-8cd6e8bdbd08",
   "metadata": {},
   "outputs": [
    {
     "name": "stdout",
     "output_type": "stream",
     "text": [
      "              precision    recall  f1-score   support\n",
      "\n",
      "          in       0.70      1.00      0.82     16877\n",
      "         out       0.55      0.00      0.00      7234\n",
      "\n",
      "    accuracy                           0.70     24111\n",
      "   macro avg       0.62      0.50      0.41     24111\n",
      "weighted avg       0.65      0.70      0.58     24111\n",
      "\n"
     ]
    }
   ],
   "source": [
    "print(classification_report(INOUT_LAB, INOUT))"
   ]
  },
  {
   "cell_type": "code",
   "execution_count": 43,
   "id": "0992b45e-47d8-4533-88c9-9b3965d086ba",
   "metadata": {},
   "outputs": [
    {
     "data": {
      "text/plain": [
       "<sklearn.metrics._plot.confusion_matrix.ConfusionMatrixDisplay at 0x7f3f4f9d2820>"
      ]
     },
     "execution_count": 43,
     "metadata": {},
     "output_type": "execute_result"
    },
    {
     "data": {
      "image/png": "[encoded data removed]",
      "text/plain": [
       "<Figure size 432x288 with 2 Axes>"
      ]
     },
     "metadata": {},
     "output_type": "display_data"
    }
   ],
   "source": [
    "ConfusionMatrixDisplay.from_predictions(INOUT_LAB, INOUT)"
   ]
  },
  {
   "cell_type": "markdown",
   "id": "74f6a9e9-1752-4455-9f30-eda97d6f18b3",
   "metadata": {},
   "source": [
    "## $2$ elements per quantile"
   ]
  },
  {
   "cell_type": "code",
   "execution_count": 44,
   "id": "a3d0e8f5-6311-4c78-8138-4d1bf2a7d1f5",
   "metadata": {},
   "outputs": [],
   "source": [
    "BB_DATA = \"../BB_DATA/clusters_representatives_quantiles_2_48.csv\""
   ]
  },
  {
   "cell_type": "code",
   "execution_count": 45,
   "id": "f5782342-1f0c-4260-9725-480b0fa57c87",
   "metadata": {},
   "outputs": [
    {
     "name": "stdout",
     "output_type": "stream",
     "text": [
      "x_train x_test y_train y_test x_test_clustered y_test_clustered "
     ]
    }
   ],
   "source": [
    "loaded = np.load(BASE_BB_DATA_PATH.format(n_samples=2), allow_pickle=True)\n",
    "for k in loaded.keys():\n",
    "    print(k, end=\" \")\n",
    "x_train = loaded[\"x_train\"]\n",
    "x_test = loaded[\"x_test\"]\n",
    "y_train = loaded[\"y_train\"]\n",
    "y_test = loaded[\"y_test\"]\n",
    "x_test_clustered = loaded[\"x_test_clustered\"]\n",
    "y_test_clustered = loaded[\"y_test_clustered\"]"
   ]
  },
  {
   "cell_type": "code",
   "execution_count": 46,
   "id": "cf0a654f-5a33-4c62-87e2-7bda61ab61b2",
   "metadata": {},
   "outputs": [],
   "source": [
    "ATTACK_0, ATTACK_1 = [], []\n",
    "\n",
    "for index in range(len(x_test_clustered)):\n",
    "    atk0, atk1 = get_attack_mod(index, base_folder=\"/home/gerardozinno/Desktop/ExperimentsResult/ADA/ADULT/adult_results_noclust_ada_2/gaussian/same\")\n",
    "    ATTACK_0.append(atk0)\n",
    "    ATTACK_1.append(atk1)\n",
    "assert (len(ATTACK_0) == len(ATTACK_1)) and (len(ATTACK_0) == len(x_test_clustered))\n",
    "        \n",
    "ensemble_0 = HardVotingClassifier(classifiers=ATTACK_0)\n",
    "ensemble_1 = HardVotingClassifier(classifiers=ATTACK_1)"
   ]
  },
  {
   "cell_type": "code",
   "execution_count": 47,
   "id": "af6fb3a3-8f08-41f3-8aa9-81c704ac2511",
   "metadata": {},
   "outputs": [],
   "source": [
    "TRAIN_PREDICTIONS = black_box.predict_proba(x_train)\n",
    "TEST_PREDICTIONS  = black_box.predict_proba(x_test)"
   ]
  },
  {
   "cell_type": "code",
   "execution_count": 48,
   "id": "796e8e2a-3a23-4503-9a0d-073430410212",
   "metadata": {},
   "outputs": [],
   "source": [
    "TRAIN_0, TRAIN_1 = split_probs_array(TRAIN_PREDICTIONS)\n",
    "TEST_0, TEST_1  = split_probs_array(TEST_PREDICTIONS)"
   ]
  },
  {
   "cell_type": "code",
   "execution_count": 49,
   "id": "fe7ffabd-9e11-4d86-8d2a-6c56ee65aa9d",
   "metadata": {},
   "outputs": [],
   "source": [
    "IN_0 = ensemble_0.predict(TRAIN_0)\n",
    "IN_1 = ensemble_1.predict(TRAIN_1)\n",
    "OUT_0 = ensemble_0.predict(TEST_0)\n",
    "OUT_1 = ensemble_1.predict(TEST_1)"
   ]
  },
  {
   "cell_type": "code",
   "execution_count": 50,
   "id": "9223c3ec-f459-461e-a4ca-99eec106707b",
   "metadata": {},
   "outputs": [],
   "source": [
    "INS = np.concatenate([IN_0, IN_1])\n",
    "INS_LAB = np.array([\"in\"] * len(INS))\n",
    "OUTS = np.concatenate([OUT_0, OUT_1])\n",
    "OUTS_LAB = np.array([\"out\"] * len(OUTS))"
   ]
  },
  {
   "cell_type": "code",
   "execution_count": 51,
   "id": "5125d709-b7c5-4d62-9c49-ab41b6e67043",
   "metadata": {},
   "outputs": [
    {
     "name": "stdout",
     "output_type": "stream",
     "text": [
      "even_in = 0.0\n",
      "even_out = 0.0002764722145424385\n"
     ]
    }
   ],
   "source": [
    "number_even_in = len([x for x in INS if x == \"even\"])\n",
    "number_even_out = len([x for x in OUTS if x == \"even\"])\n",
    "print(f\"even_in = {number_even_in/len(INS)}\")\n",
    "print(F\"even_out = {number_even_out/len(OUTS)}\")"
   ]
  },
  {
   "cell_type": "code",
   "execution_count": 52,
   "id": "7c230a94-42ed-4966-b861-fe22e7db3ca8",
   "metadata": {},
   "outputs": [],
   "source": [
    "INOUT = np.concatenate([INS, OUTS])\n",
    "EVEN_MASK = INOUT != \"even\" # to mask away the even values\n",
    "INOUT_LAB = np.concatenate([INS_LAB, OUTS_LAB])"
   ]
  },
  {
   "cell_type": "code",
   "execution_count": 53,
   "id": "e466e093-9494-40f4-9420-36b70db22b05",
   "metadata": {},
   "outputs": [
    {
     "name": "stdout",
     "output_type": "stream",
     "text": [
      "              precision    recall  f1-score   support\n",
      "\n",
      "          in       0.70      1.00      0.82     16877\n",
      "         out       0.50      0.00      0.00      7232\n",
      "\n",
      "    accuracy                           0.70     24109\n",
      "   macro avg       0.60      0.50      0.41     24109\n",
      "weighted avg       0.64      0.70      0.58     24109\n",
      "\n"
     ]
    }
   ],
   "source": [
    "print(classification_report(INOUT_LAB[EVEN_MASK], INOUT[EVEN_MASK]))"
   ]
  },
  {
   "cell_type": "code",
   "execution_count": 55,
   "id": "3f0cdd13-8c2f-4561-872a-893cb364a16b",
   "metadata": {},
   "outputs": [
    {
     "data": {
      "text/plain": [
       "<sklearn.metrics._plot.confusion_matrix.ConfusionMatrixDisplay at 0x7f3f4d9c3d60>"
      ]
     },
     "execution_count": 55,
     "metadata": {},
     "output_type": "execute_result"
    },
    {
     "data": {
      "image/png": "[encoded data removed]",
      "text/plain": [
       "<Figure size 432x288 with 2 Axes>"
      ]
     },
     "metadata": {},
     "output_type": "display_data"
    }
   ],
   "source": [
    "ConfusionMatrixDisplay.from_predictions(INOUT_LAB[EVEN_MASK], INOUT[EVEN_MASK])"
   ]
  },
  {
   "cell_type": "markdown",
   "id": "7e73f420-58e8-4d0d-8079-7e03453a949d",
   "metadata": {},
   "source": [
    "## $3$ elements per quantile"
   ]
  },
  {
   "cell_type": "code",
   "execution_count": 56,
   "id": "527de7f6-2f66-4731-81be-0b3bdfa2de79",
   "metadata": {},
   "outputs": [],
   "source": [
    "BB_DATA = \"../BB_DATA/clusters_representatives_quantiles_3_72.csv\""
   ]
  },
  {
   "cell_type": "code",
   "execution_count": 57,
   "id": "cbbdec88-0508-444a-a24b-ed619b9d4b48",
   "metadata": {},
   "outputs": [
    {
     "name": "stdout",
     "output_type": "stream",
     "text": [
      "x_train x_test y_train y_test x_test_clustered y_test_clustered "
     ]
    }
   ],
   "source": [
    "loaded = np.load(BASE_BB_DATA_PATH.format(n_samples=3), allow_pickle=True)\n",
    "for k in loaded.keys():\n",
    "    print(k, end=\" \")\n",
    "x_train = loaded[\"x_train\"]\n",
    "x_test = loaded[\"x_test\"]\n",
    "y_train = loaded[\"y_train\"]\n",
    "y_test = loaded[\"y_test\"]\n",
    "x_test_clustered = loaded[\"x_test_clustered\"]\n",
    "y_test_clustered = loaded[\"y_test_clustered\"]"
   ]
  },
  {
   "cell_type": "code",
   "execution_count": 58,
   "id": "b63cc0a4-d61d-47c8-bc5e-85a95f7b9af5",
   "metadata": {},
   "outputs": [
    {
     "name": "stderr",
     "output_type": "stream",
     "text": [
      "/home/gerardozinno/.pyenv/versions/ml-environment/lib/python3.9/site-packages/sklearn/base.py:329: UserWarning: Trying to unpickle estimator DecisionTreeClassifier from version 1.0.2 when using version 1.1.1. This might lead to breaking code or invalid results. Use at your own risk. For more info please refer to:\n",
      "https://scikit-learn.org/stable/model_persistence.html#security-maintainability-limitations\n",
      "  warnings.warn(\n",
      "/home/gerardozinno/.pyenv/versions/ml-environment/lib/python3.9/site-packages/sklearn/base.py:329: UserWarning: Trying to unpickle estimator AdaBoostClassifier from version 1.0.2 when using version 1.1.1. This might lead to breaking code or invalid results. Use at your own risk. For more info please refer to:\n",
      "https://scikit-learn.org/stable/model_persistence.html#security-maintainability-limitations\n",
      "  warnings.warn(\n"
     ]
    }
   ],
   "source": [
    "ATTACK_0, ATTACK_1 = [], []\n",
    "\n",
    "for index in range(len(x_test_clustered)):\n",
    "    atk0, atk1 = get_attack_mod(index, base_folder=\"/home/gerardozinno/Desktop/ExperimentsResult/ADA/ADULT/adult_results_noclust_ada_3/gaussian/same\")\n",
    "    ATTACK_0.append(atk0)\n",
    "    ATTACK_1.append(atk1)\n",
    "assert (len(ATTACK_0) == len(ATTACK_1)) and (len(ATTACK_0) == len(x_test_clustered))\n",
    "        \n",
    "ensemble_0 = HardVotingClassifier(classifiers=ATTACK_0)\n",
    "ensemble_1 = HardVotingClassifier(classifiers=ATTACK_1)"
   ]
  },
  {
   "cell_type": "code",
   "execution_count": 69,
   "id": "1f1cda06-61ed-4b15-bce1-790ed90ad1de",
   "metadata": {},
   "outputs": [],
   "source": [
    "TRAIN_PREDICTIONS = black_box.predict_proba(x_train)\n",
    "TEST_PREDICTIONS  = black_box.predict_proba(x_test)"
   ]
  },
  {
   "cell_type": "code",
   "execution_count": 70,
   "id": "9708b49c-3f61-43f0-a6ec-49933845e5c9",
   "metadata": {},
   "outputs": [],
   "source": [
    "TRAIN_0, TRAIN_1 = split_probs_array(TRAIN_PREDICTIONS)\n",
    "TEST_0, TEST_1  = split_probs_array(TEST_PREDICTIONS)"
   ]
  },
  {
   "cell_type": "code",
   "execution_count": 71,
   "id": "d5702f75-288d-4782-9e05-9ad9523a479f",
   "metadata": {},
   "outputs": [],
   "source": [
    "IN_0 = ensemble_0.predict(TRAIN_0)\n",
    "IN_1 = ensemble_1.predict(TRAIN_1)\n",
    "OUT_0 = ensemble_0.predict(TEST_0)\n",
    "OUT_1 = ensemble_1.predict(TEST_1)"
   ]
  },
  {
   "cell_type": "code",
   "execution_count": 72,
   "id": "245faf8f-1b40-41ca-9209-962550a8a750",
   "metadata": {},
   "outputs": [],
   "source": [
    "INS = np.concatenate([IN_0, IN_1])\n",
    "INS_LAB = np.array([\"in\"] * len(INS))\n",
    "OUTS = np.concatenate([OUT_0, OUT_1])\n",
    "OUTS_LAB = np.array([\"out\"] * len(OUTS))"
   ]
  },
  {
   "cell_type": "code",
   "execution_count": 73,
   "id": "007280d6-9042-4279-a073-0034b99e49d8",
   "metadata": {},
   "outputs": [
    {
     "name": "stdout",
     "output_type": "stream",
     "text": [
      "even_in = 0.0\n",
      "even_out = 0.0\n"
     ]
    }
   ],
   "source": [
    "number_even_in = len([x for x in INS if x == \"even\"])\n",
    "number_even_out = len([x for x in OUTS if x == \"even\"])\n",
    "print(f\"even_in = {number_even_in/len(INS)}\")\n",
    "print(F\"even_out = {number_even_out/len(OUTS)}\")"
   ]
  },
  {
   "cell_type": "code",
   "execution_count": 74,
   "id": "ae1962a0-2d1e-4704-a8ce-61fa1441cf7c",
   "metadata": {},
   "outputs": [],
   "source": [
    "INOUT = np.concatenate([INS, OUTS])\n",
    "EVEN_MASK = INOUT != \"even\" # to mask away the even values\n",
    "INOUT_LAB = np.concatenate([INS_LAB, OUTS_LAB])"
   ]
  },
  {
   "cell_type": "code",
   "execution_count": 75,
   "id": "5f20d98f-75be-4c56-bf45-95abc8d633b6",
   "metadata": {},
   "outputs": [
    {
     "name": "stdout",
     "output_type": "stream",
     "text": [
      "              precision    recall  f1-score   support\n",
      "\n",
      "          in       0.70      1.00      0.82     16877\n",
      "         out       0.67      0.00      0.00      7234\n",
      "\n",
      "    accuracy                           0.70     24111\n",
      "   macro avg       0.68      0.50      0.41     24111\n",
      "weighted avg       0.69      0.70      0.58     24111\n",
      "\n"
     ]
    }
   ],
   "source": [
    "print(classification_report(INOUT_LAB[EVEN_MASK], INOUT[EVEN_MASK]))"
   ]
  },
  {
   "cell_type": "code",
   "execution_count": 76,
   "id": "121136d6-5460-4d2e-a175-7c4140810796",
   "metadata": {},
   "outputs": [
    {
     "data": {
      "text/plain": [
       "<sklearn.metrics._plot.confusion_matrix.ConfusionMatrixDisplay at 0x7f3f4e88fc70>"
      ]
     },
     "execution_count": 76,
     "metadata": {},
     "output_type": "execute_result"
    },
    {
     "data": {
      "image/png": "[encoded data removed]",
      "text/plain": [
       "<Figure size 432x288 with 2 Axes>"
      ]
     },
     "metadata": {},
     "output_type": "display_data"
    }
   ],
   "source": [
    "ConfusionMatrixDisplay.from_predictions(INOUT_LAB[EVEN_MASK], INOUT[EVEN_MASK])"
   ]
  },
  {
   "cell_type": "code",
   "execution_count": null,
   "id": "f6686986-fba3-409d-b67a-e81d5e2d6b29",
   "metadata": {},
   "outputs": [],
   "source": []
  }
 ],
 "metadata": {
  "kernelspec": {
   "display_name": "Python 3 (ipykernel)",
   "language": "python",
   "name": "python3"
  },
  "language_info": {
   "codemirror_mode": {
    "name": "ipython",
    "version": 3
   },
   "file_extension": ".py",
   "mimetype": "text/x-python",
   "name": "python",
   "nbconvert_exporter": "python",
   "pygments_lexer": "ipython3",
   "version": "3.9.9"
  }
 },
 "nbformat": 4,
 "nbformat_minor": 5
}
