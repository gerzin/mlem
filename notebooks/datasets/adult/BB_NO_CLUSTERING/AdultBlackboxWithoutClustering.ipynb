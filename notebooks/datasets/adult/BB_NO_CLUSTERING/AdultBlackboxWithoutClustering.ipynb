{
 "cells": [
  {
   "cell_type": "markdown",
   "id": "eff355c5-989a-436a-942b-669aabe2c1c6",
   "metadata": {},
   "source": [
    "# Adult data preparation and BlackBox computed without clustering\n",
    "\n",
    "In this notebook I split the dataset in train/test/validation, then I create a random forest on Adult using the train set. I perform the clustering on the test set and using quantiles I get a set of representatives to be used in the attack. I also apply noise to the validation set.\n",
    "\n",
    "![schema attacco](./Images/experiments.jpg)"
   ]
  },
  {
   "cell_type": "code",
   "execution_count": 1,
   "id": "f430ca4c-662d-4820-bc39-0e6b27429401",
   "metadata": {},
   "outputs": [],
   "source": [
    "import numpy as np\n",
    "import pandas as pd\n",
    "import matplotlib.pyplot as plt\n",
    "import seaborn as sns; sns.set()\n",
    "from pathlib import Path\n",
    "import os\n",
    "import sys\n",
    "import category_encoders as ce\n",
    "import bz2\n",
    "import pickle\n",
    "np.random.seed(10)\n",
    "# adds the visibility of the mlem module, needed to load the attack models\n",
    "sys.path.append(\"../../../../\") \n",
    "import mlem\n",
    "from sklearn.preprocessing import StandardScaler"
   ]
  },
  {
   "cell_type": "code",
   "execution_count": 2,
   "id": "772b9838-37ea-46f9-8bdc-078efd88b927",
   "metadata": {},
   "outputs": [],
   "source": [
    "OUTPUT_FOLDER = Path(\"./BB_DATA\")\n",
    "OUTPUT_FOLDER.mkdir(exist_ok=True)"
   ]
  },
  {
   "cell_type": "markdown",
   "id": "cd3fc792-1909-4e46-ba87-2f88b598c175",
   "metadata": {},
   "source": [
    "Loading and pre-processing adult"
   ]
  },
  {
   "cell_type": "code",
   "execution_count": 3,
   "id": "52cfb2cf-132f-4e3a-a304-aeb34c431827",
   "metadata": {},
   "outputs": [],
   "source": [
    "DATASET_PATH = Path(\"../adult.data\")\n",
    "DATASET_URL = 'https://archive.ics.uci.edu/ml/machine-learning-databases/adult/adult.data' if not DATASET_PATH.exists() else DATASET_PATH\n",
    "columns = ['Age', 'Workclass', 'Fnlwgt', 'Education', 'Education-num', 'Marital-status', 'Occupation', 'Relationship', 'Race', 'Sex', 'Capital-gain', 'Capital-loss', 'Hours-per-week', 'Native-country', 'Target']\n",
    "df = pd.read_csv(DATASET_URL, names=columns, na_values=['?', ' ?', '? '])"
   ]
  },
  {
   "cell_type": "code",
   "execution_count": 4,
   "id": "7f23705e-b109-43b2-8c14-232bcee76158",
   "metadata": {},
   "outputs": [],
   "source": [
    "# strip the strings\n",
    "df_str = df.select_dtypes(['object'])\n",
    "df[df_str.columns] = df_str.apply(lambda x: x.str.strip())\n",
    "# remove missing values and duplicates\n",
    "df = df.dropna()\n",
    "df = df.drop_duplicates()\n",
    "# map the target into {0,1}\n",
    "map_targ = {\n",
    "        '<=50K': 0,\n",
    "        '>50K': 1\n",
    "}\n",
    "\n",
    "feat = df.iloc[:, :-1]\n",
    "targ = df.iloc[:, -1]\n",
    "targ = targ.map(map_targ)\n",
    "targenc = ce.TargetEncoder(verbose=1,return_df=True)\n",
    "df = targenc.fit_transform(feat, targ)\n",
    "# using the standard scaler on the numerical features\n",
    "NUMERICAL_FEATURES = ['Age', 'Fnlwgt', 'Education-num', 'Capital-gain', 'Capital-loss', 'Hours-per-week']\n",
    "scaler = StandardScaler()\n",
    "df[NUMERICAL_FEATURES] = scaler.fit_transform(df[NUMERICAL_FEATURES])\n",
    "df['Target'] = targ"
   ]
  },
  {
   "cell_type": "code",
   "execution_count": 5,
   "id": "2420f947-4745-4feb-8d9c-aec3ce66ff3f",
   "metadata": {},
   "outputs": [
    {
     "data": {
      "text/html": [
       "<div>\n",
       "<style scoped>\n",
       "    .dataframe tbody tr th:only-of-type {\n",
       "        vertical-align: middle;\n",
       "    }\n",
       "\n",
       "    .dataframe tbody tr th {\n",
       "        vertical-align: top;\n",
       "    }\n",
       "\n",
       "    .dataframe thead th {\n",
       "        text-align: right;\n",
       "    }\n",
       "</style>\n",
       "<table border=\"1\" class=\"dataframe\">\n",
       "  <thead>\n",
       "    <tr style=\"text-align: right;\">\n",
       "      <th></th>\n",
       "      <th>Age</th>\n",
       "      <th>Workclass</th>\n",
       "      <th>Fnlwgt</th>\n",
       "      <th>Education</th>\n",
       "      <th>Education-num</th>\n",
       "      <th>Marital-status</th>\n",
       "      <th>Occupation</th>\n",
       "      <th>Relationship</th>\n",
       "      <th>Race</th>\n",
       "      <th>Sex</th>\n",
       "      <th>Capital-gain</th>\n",
       "      <th>Capital-loss</th>\n",
       "      <th>Hours-per-week</th>\n",
       "      <th>Native-country</th>\n",
       "      <th>Target</th>\n",
       "    </tr>\n",
       "  </thead>\n",
       "  <tbody>\n",
       "    <tr>\n",
       "      <th>0</th>\n",
       "      <td>0.042516</td>\n",
       "      <td>0.268960</td>\n",
       "      <td>-1.062676</td>\n",
       "      <td>0.421658</td>\n",
       "      <td>1.128996</td>\n",
       "      <td>0.048399</td>\n",
       "      <td>0.133907</td>\n",
       "      <td>0.106689</td>\n",
       "      <td>0.263855</td>\n",
       "      <td>0.313955</td>\n",
       "      <td>0.145925</td>\n",
       "      <td>-0.218673</td>\n",
       "      <td>-0.078031</td>\n",
       "      <td>0.254411</td>\n",
       "      <td>0</td>\n",
       "    </tr>\n",
       "    <tr>\n",
       "      <th>1</th>\n",
       "      <td>0.880215</td>\n",
       "      <td>0.285829</td>\n",
       "      <td>-1.007829</td>\n",
       "      <td>0.421658</td>\n",
       "      <td>1.128996</td>\n",
       "      <td>0.455011</td>\n",
       "      <td>0.485342</td>\n",
       "      <td>0.455728</td>\n",
       "      <td>0.263855</td>\n",
       "      <td>0.313955</td>\n",
       "      <td>-0.147502</td>\n",
       "      <td>-0.218673</td>\n",
       "      <td>-2.332060</td>\n",
       "      <td>0.254411</td>\n",
       "      <td>0</td>\n",
       "    </tr>\n",
       "    <tr>\n",
       "      <th>2</th>\n",
       "      <td>-0.033639</td>\n",
       "      <td>0.218918</td>\n",
       "      <td>0.244669</td>\n",
       "      <td>0.164328</td>\n",
       "      <td>-0.440434</td>\n",
       "      <td>0.107312</td>\n",
       "      <td>0.061527</td>\n",
       "      <td>0.106689</td>\n",
       "      <td>0.263855</td>\n",
       "      <td>0.313955</td>\n",
       "      <td>-0.147502</td>\n",
       "      <td>-0.218673</td>\n",
       "      <td>-0.078031</td>\n",
       "      <td>0.254411</td>\n",
       "      <td>0</td>\n",
       "    </tr>\n",
       "    <tr>\n",
       "      <th>3</th>\n",
       "      <td>1.108678</td>\n",
       "      <td>0.218918</td>\n",
       "      <td>0.425206</td>\n",
       "      <td>0.056298</td>\n",
       "      <td>-1.225149</td>\n",
       "      <td>0.455011</td>\n",
       "      <td>0.061527</td>\n",
       "      <td>0.455728</td>\n",
       "      <td>0.129972</td>\n",
       "      <td>0.313955</td>\n",
       "      <td>-0.147502</td>\n",
       "      <td>-0.218673</td>\n",
       "      <td>-0.078031</td>\n",
       "      <td>0.254411</td>\n",
       "      <td>0</td>\n",
       "    </tr>\n",
       "    <tr>\n",
       "      <th>4</th>\n",
       "      <td>-0.795183</td>\n",
       "      <td>0.218918</td>\n",
       "      <td>1.406572</td>\n",
       "      <td>0.421658</td>\n",
       "      <td>1.128996</td>\n",
       "      <td>0.455011</td>\n",
       "      <td>0.448686</td>\n",
       "      <td>0.493599</td>\n",
       "      <td>0.129972</td>\n",
       "      <td>0.113783</td>\n",
       "      <td>-0.147502</td>\n",
       "      <td>-0.218673</td>\n",
       "      <td>-0.078031</td>\n",
       "      <td>0.271739</td>\n",
       "      <td>0</td>\n",
       "    </tr>\n",
       "    <tr>\n",
       "      <th>...</th>\n",
       "      <td>...</td>\n",
       "      <td>...</td>\n",
       "      <td>...</td>\n",
       "      <td>...</td>\n",
       "      <td>...</td>\n",
       "      <td>...</td>\n",
       "      <td>...</td>\n",
       "      <td>...</td>\n",
       "      <td>...</td>\n",
       "      <td>...</td>\n",
       "      <td>...</td>\n",
       "      <td>...</td>\n",
       "      <td>...</td>\n",
       "      <td>...</td>\n",
       "      <td>...</td>\n",
       "    </tr>\n",
       "    <tr>\n",
       "      <th>32556</th>\n",
       "      <td>-0.871338</td>\n",
       "      <td>0.218918</td>\n",
       "      <td>0.638926</td>\n",
       "      <td>0.253968</td>\n",
       "      <td>0.736639</td>\n",
       "      <td>0.455011</td>\n",
       "      <td>0.305159</td>\n",
       "      <td>0.493599</td>\n",
       "      <td>0.263855</td>\n",
       "      <td>0.113783</td>\n",
       "      <td>-0.147502</td>\n",
       "      <td>-0.218673</td>\n",
       "      <td>-0.244996</td>\n",
       "      <td>0.254411</td>\n",
       "      <td>0</td>\n",
       "    </tr>\n",
       "    <tr>\n",
       "      <th>32557</th>\n",
       "      <td>0.118670</td>\n",
       "      <td>0.218918</td>\n",
       "      <td>-0.335246</td>\n",
       "      <td>0.164328</td>\n",
       "      <td>-0.440434</td>\n",
       "      <td>0.455011</td>\n",
       "      <td>0.124236</td>\n",
       "      <td>0.455728</td>\n",
       "      <td>0.263855</td>\n",
       "      <td>0.313955</td>\n",
       "      <td>-0.147502</td>\n",
       "      <td>-0.218673</td>\n",
       "      <td>-0.078031</td>\n",
       "      <td>0.254411</td>\n",
       "      <td>1</td>\n",
       "    </tr>\n",
       "    <tr>\n",
       "      <th>32558</th>\n",
       "      <td>1.489450</td>\n",
       "      <td>0.218918</td>\n",
       "      <td>-0.358567</td>\n",
       "      <td>0.164328</td>\n",
       "      <td>-0.440434</td>\n",
       "      <td>0.096735</td>\n",
       "      <td>0.133907</td>\n",
       "      <td>0.066334</td>\n",
       "      <td>0.263855</td>\n",
       "      <td>0.113783</td>\n",
       "      <td>-0.147502</td>\n",
       "      <td>-0.218673</td>\n",
       "      <td>-0.078031</td>\n",
       "      <td>0.254411</td>\n",
       "      <td>0</td>\n",
       "    </tr>\n",
       "    <tr>\n",
       "      <th>32559</th>\n",
       "      <td>-1.252110</td>\n",
       "      <td>0.218918</td>\n",
       "      <td>0.110688</td>\n",
       "      <td>0.164328</td>\n",
       "      <td>-0.440434</td>\n",
       "      <td>0.048399</td>\n",
       "      <td>0.133907</td>\n",
       "      <td>0.014343</td>\n",
       "      <td>0.263855</td>\n",
       "      <td>0.313955</td>\n",
       "      <td>-0.147502</td>\n",
       "      <td>-0.218673</td>\n",
       "      <td>-1.747682</td>\n",
       "      <td>0.254411</td>\n",
       "      <td>0</td>\n",
       "    </tr>\n",
       "    <tr>\n",
       "      <th>32560</th>\n",
       "      <td>1.032523</td>\n",
       "      <td>0.558659</td>\n",
       "      <td>0.928780</td>\n",
       "      <td>0.164328</td>\n",
       "      <td>-0.440434</td>\n",
       "      <td>0.455011</td>\n",
       "      <td>0.485342</td>\n",
       "      <td>0.493599</td>\n",
       "      <td>0.263855</td>\n",
       "      <td>0.113783</td>\n",
       "      <td>1.880305</td>\n",
       "      <td>-0.218673</td>\n",
       "      <td>-0.078031</td>\n",
       "      <td>0.254411</td>\n",
       "      <td>1</td>\n",
       "    </tr>\n",
       "  </tbody>\n",
       "</table>\n",
       "<p>30139 rows × 15 columns</p>\n",
       "</div>"
      ],
      "text/plain": [
       "            Age  Workclass    Fnlwgt  Education  Education-num  \\\n",
       "0      0.042516   0.268960 -1.062676   0.421658       1.128996   \n",
       "1      0.880215   0.285829 -1.007829   0.421658       1.128996   \n",
       "2     -0.033639   0.218918  0.244669   0.164328      -0.440434   \n",
       "3      1.108678   0.218918  0.425206   0.056298      -1.225149   \n",
       "4     -0.795183   0.218918  1.406572   0.421658       1.128996   \n",
       "...         ...        ...       ...        ...            ...   \n",
       "32556 -0.871338   0.218918  0.638926   0.253968       0.736639   \n",
       "32557  0.118670   0.218918 -0.335246   0.164328      -0.440434   \n",
       "32558  1.489450   0.218918 -0.358567   0.164328      -0.440434   \n",
       "32559 -1.252110   0.218918  0.110688   0.164328      -0.440434   \n",
       "32560  1.032523   0.558659  0.928780   0.164328      -0.440434   \n",
       "\n",
       "       Marital-status  Occupation  Relationship      Race       Sex  \\\n",
       "0            0.048399    0.133907      0.106689  0.263855  0.313955   \n",
       "1            0.455011    0.485342      0.455728  0.263855  0.313955   \n",
       "2            0.107312    0.061527      0.106689  0.263855  0.313955   \n",
       "3            0.455011    0.061527      0.455728  0.129972  0.313955   \n",
       "4            0.455011    0.448686      0.493599  0.129972  0.113783   \n",
       "...               ...         ...           ...       ...       ...   \n",
       "32556        0.455011    0.305159      0.493599  0.263855  0.113783   \n",
       "32557        0.455011    0.124236      0.455728  0.263855  0.313955   \n",
       "32558        0.096735    0.133907      0.066334  0.263855  0.113783   \n",
       "32559        0.048399    0.133907      0.014343  0.263855  0.313955   \n",
       "32560        0.455011    0.485342      0.493599  0.263855  0.113783   \n",
       "\n",
       "       Capital-gain  Capital-loss  Hours-per-week  Native-country  Target  \n",
       "0          0.145925     -0.218673       -0.078031        0.254411       0  \n",
       "1         -0.147502     -0.218673       -2.332060        0.254411       0  \n",
       "2         -0.147502     -0.218673       -0.078031        0.254411       0  \n",
       "3         -0.147502     -0.218673       -0.078031        0.254411       0  \n",
       "4         -0.147502     -0.218673       -0.078031        0.271739       0  \n",
       "...             ...           ...             ...             ...     ...  \n",
       "32556     -0.147502     -0.218673       -0.244996        0.254411       0  \n",
       "32557     -0.147502     -0.218673       -0.078031        0.254411       1  \n",
       "32558     -0.147502     -0.218673       -0.078031        0.254411       0  \n",
       "32559     -0.147502     -0.218673       -1.747682        0.254411       0  \n",
       "32560      1.880305     -0.218673       -0.078031        0.254411       1  \n",
       "\n",
       "[30139 rows x 15 columns]"
      ]
     },
     "execution_count": 5,
     "metadata": {},
     "output_type": "execute_result"
    }
   ],
   "source": [
    "df"
   ]
  },
  {
   "cell_type": "code",
   "execution_count": 2,
   "id": "a2c039eb-b991-4737-b60c-615d8e0e785c",
   "metadata": {},
   "outputs": [
    {
     "data": {
      "text/plain": [
       "[False,\n",
       " True,\n",
       " False,\n",
       " True,\n",
       " False,\n",
       " True,\n",
       " True,\n",
       " True,\n",
       " True,\n",
       " True,\n",
       " False,\n",
       " False,\n",
       " False,\n",
       " True]"
      ]
     },
     "execution_count": 2,
     "metadata": {},
     "output_type": "execute_result"
    }
   ],
   "source": [
    "[not x for x in [ True, False,  True, False,  True, False, False, False, False, False,  True,  True,  True, False]]"
   ]
  },
  {
   "cell_type": "markdown",
   "id": "9b93c83d-5a3f-4204-8b2c-8c04ad78d94a",
   "metadata": {},
   "source": [
    "# Train, Test, Validation"
   ]
  },
  {
   "cell_type": "markdown",
   "id": "c6ada50d-7899-48fc-baff-94db805a993d",
   "metadata": {
    "tags": []
   },
   "source": [
    "Utility functions to add the noise to the \"validation\" dataset"
   ]
  },
  {
   "cell_type": "code",
   "execution_count": 6,
   "id": "cfcaad52-460b-4356-bc93-d72fc50f7a77",
   "metadata": {
    "tags": []
   },
   "outputs": [],
   "source": [
    "from typing import Callable\n",
    "from numpy import array\n",
    "def frequency_based_noise(column, size):\n",
    "    \"\"\"\n",
    "    Sample values from a column with replacement.\n",
    "\n",
    "    Args:\n",
    "        column: column to sample from\n",
    "        size: number of elements to sample\n",
    "\n",
    "    Returns:\n",
    "        Array of samples\n",
    "    \"\"\"\n",
    "    return column.sample(size, replace=True).to_numpy()\n",
    "\n",
    "\n",
    "def insert_noise_categorical(dataset: pd.DataFrame, perc: float = 0.1,\n",
    "                             noise_generating_function: Callable[[pd.Series, int], np.array] = frequency_based_noise):\n",
    "    \"\"\"\n",
    "    Insert noise in a categorical dataset and returns the dataset passed as argument.\n",
    "\n",
    "    Args:\n",
    "        dataset (DataFrame): dataset on which to insert the noise ( it should only contain categorical variables )\n",
    "        perc (float): percentage of noise in the range [0,1]\n",
    "       noise_generating_function (Callable[[int], array]): function used to generate the noise, must take as input the number of noisy values to\n",
    "                                   generate inside an argument named size and return an array containing the random values.\n",
    "\n",
    "    Returns:\n",
    "        dataset\n",
    "    \"\"\"\n",
    "    n_rows, n_col = dataset.shape\n",
    "    percentage = int(perc * n_rows)\n",
    "\n",
    "    for c in range(n_col):\n",
    "        index_to_replace = np.random.choice(dataset.index,\n",
    "                                            size=percentage)\n",
    "        new_values = noise_generating_function(dataset[dataset.columns[c]], size=percentage)\n",
    "        assert (len(index_to_replace) == len(new_values))\n",
    "        for ind, val in zip(index_to_replace, new_values):\n",
    "            dataset.iloc[ind, c] = val\n",
    "    return dataset\n",
    "\n",
    "\n",
    "def insert_noise_numerical(dataset: pd.DataFrame, perc: float = 0.1,\n",
    "                           noise_generating_function: Callable[[int], np.array] = np.random.normal):\n",
    "    \"\"\"\n",
    "    Insert noise in a numerical dataset and returns the dataset passed as argument.\n",
    "\n",
    "    Args:\n",
    "        dataset (DataFrame): dataset on which to insert the noise.\n",
    "        perc (float): percentage of noise in the range [0,1]\n",
    "        noise_generating_function (Callable[[int], array]): function used to generate the noise, must take as input the number of noisy values to\n",
    "                                   generate inside an argument named size and return an array containing the random values.\n",
    "\n",
    "\n",
    "    Examples:\n",
    "\n",
    "        >>> df = pd.DataFrame(data={'col1': 10 * [1], 'col2': 10 * [2], 'col3': 10 * [3]})\n",
    "        >>> df[NUMERICAL] = insert_noise_numerical(df[NUMERICAL].copy(), perc=0.1, noise_generating_function=np.random.rand) # note np.random.rand has a size parameter\n",
    "\n",
    "    \"\"\"\n",
    "    n_rows, n_col = dataset.shape\n",
    "    percentage = int(perc * n_rows)\n",
    "\n",
    "    for c in range(n_col):\n",
    "        index_to_replace = np.random.choice(dataset.index,\n",
    "                                            size=percentage)\n",
    "        new_values = noise_generating_function(size=percentage)\n",
    "        assert (len(index_to_replace) == len(new_values))\n",
    "        for ind, val in zip(index_to_replace, new_values):\n",
    "            dataset.iloc[ind, c] = val\n",
    "    return dataset"
   ]
  },
  {
   "cell_type": "code",
   "execution_count": 7,
   "id": "b24f9b56-6407-4776-8aec-9514cb4cc1c6",
   "metadata": {},
   "outputs": [],
   "source": [
    "from sklearn.model_selection import train_test_split"
   ]
  },
  {
   "cell_type": "code",
   "execution_count": 8,
   "id": "7d841c54-cb3a-4bed-a7c5-accac5ac7397",
   "metadata": {},
   "outputs": [],
   "source": [
    "train_test, validation = train_test_split(df, train_size=0.8, stratify=df['Target'], random_state=123)\n",
    "train, test = train_test_split(train_test, train_size=0.7, stratify=train_test['Target'], random_state=123)"
   ]
  },
  {
   "cell_type": "markdown",
   "id": "765443dc-542a-473e-af72-ce2a3e846c3d",
   "metadata": {},
   "source": [
    "Creating a noisy version of the validation dataset"
   ]
  },
  {
   "cell_type": "code",
   "execution_count": 9,
   "id": "f92051ba-f074-4ec5-bdd3-c3e2472ffbb2",
   "metadata": {},
   "outputs": [],
   "source": [
    "NUMERICAL_FEATURES = ['Age', 'Fnlwgt', 'Education-num', 'Capital-gain', 'Capital-loss', 'Hours-per-week']\n",
    "CATEGORICAL_FEATURES = ['Relationship','Native-country','Workclass','Sex','Marital-status','Education','Occupation','Race']\n",
    "\n",
    "NUMERICAL_NOISE_PERC = 0.1\n",
    "CATEGORICAL_NOISE_PERC = 0.1"
   ]
  },
  {
   "cell_type": "code",
   "execution_count": 10,
   "id": "5d8b7b12-1483-429d-bcc3-aefef4334499",
   "metadata": {},
   "outputs": [],
   "source": [
    "validation_noisy = validation.reset_index().copy()\n",
    "validation_noisy[NUMERICAL_FEATURES] = insert_noise_numerical(validation_noisy[NUMERICAL_FEATURES].copy(), perc=NUMERICAL_NOISE_PERC)\n",
    "validation_noisy[CATEGORICAL_FEATURES] = insert_noise_categorical(validation_noisy[CATEGORICAL_FEATURES].copy(), perc=CATEGORICAL_NOISE_PERC)"
   ]
  },
  {
   "cell_type": "code",
   "execution_count": 11,
   "id": "7406e922-786e-4365-aaa8-d18501bb7cea",
   "metadata": {},
   "outputs": [
    {
     "data": {
      "text/html": [
       "<div>\n",
       "<style scoped>\n",
       "    .dataframe tbody tr th:only-of-type {\n",
       "        vertical-align: middle;\n",
       "    }\n",
       "\n",
       "    .dataframe tbody tr th {\n",
       "        vertical-align: top;\n",
       "    }\n",
       "\n",
       "    .dataframe thead th {\n",
       "        text-align: right;\n",
       "    }\n",
       "</style>\n",
       "<table border=\"1\" class=\"dataframe\">\n",
       "  <thead>\n",
       "    <tr style=\"text-align: right;\">\n",
       "      <th></th>\n",
       "      <th>Age</th>\n",
       "      <th>Workclass</th>\n",
       "      <th>Fnlwgt</th>\n",
       "      <th>Education</th>\n",
       "      <th>Education-num</th>\n",
       "      <th>Marital-status</th>\n",
       "      <th>Occupation</th>\n",
       "      <th>Relationship</th>\n",
       "      <th>Race</th>\n",
       "      <th>Sex</th>\n",
       "      <th>Capital-gain</th>\n",
       "      <th>Capital-loss</th>\n",
       "      <th>Hours-per-week</th>\n",
       "      <th>Native-country</th>\n",
       "      <th>Target</th>\n",
       "    </tr>\n",
       "  </thead>\n",
       "  <tbody>\n",
       "    <tr>\n",
       "      <th>0</th>\n",
       "      <td>-0.349668</td>\n",
       "      <td>0.218918</td>\n",
       "      <td>-0.143786</td>\n",
       "      <td>0.041812</td>\n",
       "      <td>-2.794579</td>\n",
       "      <td>0.096735</td>\n",
       "      <td>0.061527</td>\n",
       "      <td>0.106689</td>\n",
       "      <td>0.263855</td>\n",
       "      <td>0.113783</td>\n",
       "      <td>-0.147502</td>\n",
       "      <td>-0.218673</td>\n",
       "      <td>-2.582507</td>\n",
       "      <td>0.352941</td>\n",
       "      <td>0</td>\n",
       "    </tr>\n",
       "    <tr>\n",
       "      <th>1</th>\n",
       "      <td>1.641759</td>\n",
       "      <td>0.218918</td>\n",
       "      <td>-0.466141</td>\n",
       "      <td>0.164328</td>\n",
       "      <td>-0.440434</td>\n",
       "      <td>0.048399</td>\n",
       "      <td>0.270647</td>\n",
       "      <td>0.106689</td>\n",
       "      <td>0.263855</td>\n",
       "      <td>0.313955</td>\n",
       "      <td>-0.147502</td>\n",
       "      <td>-0.218673</td>\n",
       "      <td>-0.078031</td>\n",
       "      <td>0.254411</td>\n",
       "      <td>0</td>\n",
       "    </tr>\n",
       "    <tr>\n",
       "      <th>2</th>\n",
       "      <td>-1.175956</td>\n",
       "      <td>0.218918</td>\n",
       "      <td>0.570166</td>\n",
       "      <td>0.200180</td>\n",
       "      <td>-0.048076</td>\n",
       "      <td>0.048399</td>\n",
       "      <td>0.116515</td>\n",
       "      <td>0.106689</td>\n",
       "      <td>0.263855</td>\n",
       "      <td>0.113783</td>\n",
       "      <td>-0.147502</td>\n",
       "      <td>-0.218673</td>\n",
       "      <td>0.756794</td>\n",
       "      <td>0.254411</td>\n",
       "      <td>0</td>\n",
       "    </tr>\n",
       "    <tr>\n",
       "      <th>3</th>\n",
       "      <td>-0.185948</td>\n",
       "      <td>0.218918</td>\n",
       "      <td>0.456267</td>\n",
       "      <td>0.200180</td>\n",
       "      <td>-0.048076</td>\n",
       "      <td>0.048399</td>\n",
       "      <td>0.270647</td>\n",
       "      <td>0.106689</td>\n",
       "      <td>0.263855</td>\n",
       "      <td>0.113783</td>\n",
       "      <td>-0.147502</td>\n",
       "      <td>-0.218673</td>\n",
       "      <td>-1.747682</td>\n",
       "      <td>0.254411</td>\n",
       "      <td>0</td>\n",
       "    </tr>\n",
       "    <tr>\n",
       "      <th>4</th>\n",
       "      <td>0.956369</td>\n",
       "      <td>0.294630</td>\n",
       "      <td>-0.885934</td>\n",
       "      <td>0.200180</td>\n",
       "      <td>-0.048076</td>\n",
       "      <td>0.455011</td>\n",
       "      <td>0.133907</td>\n",
       "      <td>0.493599</td>\n",
       "      <td>0.263855</td>\n",
       "      <td>0.113783</td>\n",
       "      <td>-0.147502</td>\n",
       "      <td>-0.218673</td>\n",
       "      <td>-0.078031</td>\n",
       "      <td>0.254411</td>\n",
       "      <td>0</td>\n",
       "    </tr>\n",
       "    <tr>\n",
       "      <th>...</th>\n",
       "      <td>...</td>\n",
       "      <td>...</td>\n",
       "      <td>...</td>\n",
       "      <td>...</td>\n",
       "      <td>...</td>\n",
       "      <td>...</td>\n",
       "      <td>...</td>\n",
       "      <td>...</td>\n",
       "      <td>...</td>\n",
       "      <td>...</td>\n",
       "      <td>...</td>\n",
       "      <td>...</td>\n",
       "      <td>...</td>\n",
       "      <td>...</td>\n",
       "      <td>...</td>\n",
       "    </tr>\n",
       "    <tr>\n",
       "      <th>6023</th>\n",
       "      <td>0.270979</td>\n",
       "      <td>0.218918</td>\n",
       "      <td>-0.344332</td>\n",
       "      <td>0.421658</td>\n",
       "      <td>1.128996</td>\n",
       "      <td>0.455011</td>\n",
       "      <td>0.133907</td>\n",
       "      <td>0.455728</td>\n",
       "      <td>0.129972</td>\n",
       "      <td>0.313955</td>\n",
       "      <td>-0.147502</td>\n",
       "      <td>-0.218673</td>\n",
       "      <td>-0.078031</td>\n",
       "      <td>0.254411</td>\n",
       "      <td>1</td>\n",
       "    </tr>\n",
       "    <tr>\n",
       "      <th>6024</th>\n",
       "      <td>0.727906</td>\n",
       "      <td>0.294630</td>\n",
       "      <td>0.285518</td>\n",
       "      <td>0.263198</td>\n",
       "      <td>0.344281</td>\n",
       "      <td>0.455011</td>\n",
       "      <td>0.225590</td>\n",
       "      <td>0.455728</td>\n",
       "      <td>0.263855</td>\n",
       "      <td>0.313955</td>\n",
       "      <td>-0.147502</td>\n",
       "      <td>-0.218673</td>\n",
       "      <td>-0.078031</td>\n",
       "      <td>0.254411</td>\n",
       "      <td>0</td>\n",
       "    </tr>\n",
       "    <tr>\n",
       "      <th>6025</th>\n",
       "      <td>-0.940617</td>\n",
       "      <td>0.218918</td>\n",
       "      <td>0.277710</td>\n",
       "      <td>0.164328</td>\n",
       "      <td>-0.440434</td>\n",
       "      <td>0.455011</td>\n",
       "      <td>0.133907</td>\n",
       "      <td>0.493599</td>\n",
       "      <td>0.263855</td>\n",
       "      <td>0.313955</td>\n",
       "      <td>-0.147502</td>\n",
       "      <td>-0.218673</td>\n",
       "      <td>1.806070</td>\n",
       "      <td>0.254411</td>\n",
       "      <td>0</td>\n",
       "    </tr>\n",
       "    <tr>\n",
       "      <th>6026</th>\n",
       "      <td>-0.338257</td>\n",
       "      <td>0.218918</td>\n",
       "      <td>1.650929</td>\n",
       "      <td>0.263198</td>\n",
       "      <td>-0.048076</td>\n",
       "      <td>0.107312</td>\n",
       "      <td>0.041134</td>\n",
       "      <td>0.106689</td>\n",
       "      <td>0.263855</td>\n",
       "      <td>0.313955</td>\n",
       "      <td>-0.147502</td>\n",
       "      <td>-0.218673</td>\n",
       "      <td>-0.578926</td>\n",
       "      <td>0.254411</td>\n",
       "      <td>0</td>\n",
       "    </tr>\n",
       "    <tr>\n",
       "      <th>6027</th>\n",
       "      <td>0.347133</td>\n",
       "      <td>0.285829</td>\n",
       "      <td>-0.751868</td>\n",
       "      <td>0.164328</td>\n",
       "      <td>-0.440434</td>\n",
       "      <td>0.455011</td>\n",
       "      <td>0.202926</td>\n",
       "      <td>0.455728</td>\n",
       "      <td>0.263855</td>\n",
       "      <td>0.313955</td>\n",
       "      <td>-0.147502</td>\n",
       "      <td>-0.218673</td>\n",
       "      <td>-0.672164</td>\n",
       "      <td>0.254411</td>\n",
       "      <td>0</td>\n",
       "    </tr>\n",
       "  </tbody>\n",
       "</table>\n",
       "<p>6028 rows × 15 columns</p>\n",
       "</div>"
      ],
      "text/plain": [
       "           Age  Workclass    Fnlwgt  Education  Education-num  Marital-status  \\\n",
       "0    -0.349668   0.218918 -0.143786   0.041812      -2.794579        0.096735   \n",
       "1     1.641759   0.218918 -0.466141   0.164328      -0.440434        0.048399   \n",
       "2    -1.175956   0.218918  0.570166   0.200180      -0.048076        0.048399   \n",
       "3    -0.185948   0.218918  0.456267   0.200180      -0.048076        0.048399   \n",
       "4     0.956369   0.294630 -0.885934   0.200180      -0.048076        0.455011   \n",
       "...        ...        ...       ...        ...            ...             ...   \n",
       "6023  0.270979   0.218918 -0.344332   0.421658       1.128996        0.455011   \n",
       "6024  0.727906   0.294630  0.285518   0.263198       0.344281        0.455011   \n",
       "6025 -0.940617   0.218918  0.277710   0.164328      -0.440434        0.455011   \n",
       "6026 -0.338257   0.218918  1.650929   0.263198      -0.048076        0.107312   \n",
       "6027  0.347133   0.285829 -0.751868   0.164328      -0.440434        0.455011   \n",
       "\n",
       "      Occupation  Relationship      Race       Sex  Capital-gain  \\\n",
       "0       0.061527      0.106689  0.263855  0.113783     -0.147502   \n",
       "1       0.270647      0.106689  0.263855  0.313955     -0.147502   \n",
       "2       0.116515      0.106689  0.263855  0.113783     -0.147502   \n",
       "3       0.270647      0.106689  0.263855  0.113783     -0.147502   \n",
       "4       0.133907      0.493599  0.263855  0.113783     -0.147502   \n",
       "...          ...           ...       ...       ...           ...   \n",
       "6023    0.133907      0.455728  0.129972  0.313955     -0.147502   \n",
       "6024    0.225590      0.455728  0.263855  0.313955     -0.147502   \n",
       "6025    0.133907      0.493599  0.263855  0.313955     -0.147502   \n",
       "6026    0.041134      0.106689  0.263855  0.313955     -0.147502   \n",
       "6027    0.202926      0.455728  0.263855  0.313955     -0.147502   \n",
       "\n",
       "      Capital-loss  Hours-per-week  Native-country  Target  \n",
       "0        -0.218673       -2.582507        0.352941       0  \n",
       "1        -0.218673       -0.078031        0.254411       0  \n",
       "2        -0.218673        0.756794        0.254411       0  \n",
       "3        -0.218673       -1.747682        0.254411       0  \n",
       "4        -0.218673       -0.078031        0.254411       0  \n",
       "...            ...             ...             ...     ...  \n",
       "6023     -0.218673       -0.078031        0.254411       1  \n",
       "6024     -0.218673       -0.078031        0.254411       0  \n",
       "6025     -0.218673        1.806070        0.254411       0  \n",
       "6026     -0.218673       -0.578926        0.254411       0  \n",
       "6027     -0.218673       -0.672164        0.254411       0  \n",
       "\n",
       "[6028 rows x 15 columns]"
      ]
     },
     "execution_count": 11,
     "metadata": {},
     "output_type": "execute_result"
    }
   ],
   "source": [
    "validation_noisy = validation_noisy.drop(labels='index', axis=1)\n",
    "validation_noisy"
   ]
  },
  {
   "cell_type": "code",
   "execution_count": 12,
   "id": "735d287f-21d4-4a00-88b1-eae39a72736e",
   "metadata": {},
   "outputs": [
    {
     "name": "stdout",
     "output_type": "stream",
     "text": [
      "Saving the datasets in BB_DATA\n"
     ]
    }
   ],
   "source": [
    "print(f\"Saving the datasets in {OUTPUT_FOLDER}\")\n",
    "for dataset_name in \"train,test,validation,validation_noisy\".split(\",\"):\n",
    "    dataset = eval(dataset_name)\n",
    "    dataset.to_csv(OUTPUT_FOLDER / f\"{dataset_name}.csv\", index=False)"
   ]
  },
  {
   "cell_type": "markdown",
   "id": "21da9807-b048-471c-99d7-95b7de3cc73a",
   "metadata": {},
   "source": [
    "# Creating the black box"
   ]
  },
  {
   "cell_type": "code",
   "execution_count": 13,
   "id": "fb807a33-4091-4e22-bd87-78e20bb5f934",
   "metadata": {},
   "outputs": [],
   "source": [
    "import bz2\n",
    "import pickle\n",
    "\n",
    "def save_pickle_bz2(path: str, obj):\n",
    "    \"\"\"Saves a pickle file compressed in BZ2 format.\n",
    "\n",
    "    Args:\n",
    "        path (str): Path where to save object.\n",
    "        obj (Any): Object to save.\n",
    "    \"\"\"\n",
    "    with bz2.open(path, \"wb\") as f:\n",
    "        pickle.dump(obj, f)\n",
    "def load_pickle_bz2(path):\n",
    "    \"\"\"\n",
    "    Loads data saved with save_pickle_bz2\n",
    "\n",
    "    Args:\n",
    "        path (str): Path where the data are located\n",
    "\n",
    "    Returns:\n",
    "        loaded object\n",
    "    \"\"\"\n",
    "    with bz2.BZ2File(path) as f:\n",
    "        data = pickle.load(f)\n",
    "    return data"
   ]
  },
  {
   "cell_type": "code",
   "execution_count": 14,
   "id": "42d8b976-1164-4325-853c-c61437fd067c",
   "metadata": {},
   "outputs": [],
   "source": [
    "X_train = train.drop(labels=[\"Target\"], axis=1).to_numpy()\n",
    "y_train = train.Target.to_numpy()"
   ]
  },
  {
   "cell_type": "code",
   "execution_count": 15,
   "id": "678f14da-c8ea-4b90-83cc-6a18aa8ed7e8",
   "metadata": {},
   "outputs": [],
   "source": [
    "X_test = test.drop(labels=[\"Target\"], axis=1).to_numpy()\n",
    "y_test = test.Target.to_numpy()"
   ]
  },
  {
   "cell_type": "code",
   "execution_count": 16,
   "id": "a3d5b9ef-2a8c-4946-8938-98f04c94092c",
   "metadata": {},
   "outputs": [],
   "source": [
    "from pathlib import Path\n",
    "from sklearn.ensemble import RandomForestClassifier\n",
    "import pandas as pd\n",
    "from sklearn.experimental import enable_halving_search_cv\n",
    "from sklearn.model_selection import HalvingGridSearchCV\n",
    "import numpy as np\n",
    "from sklearn.metrics import confusion_matrix, classification_report"
   ]
  },
  {
   "cell_type": "code",
   "execution_count": 17,
   "id": "47e4f409-94ee-4641-93d8-6f40b036e823",
   "metadata": {},
   "outputs": [],
   "source": [
    "# Hyperparameters of the grid search\n",
    "__HYPERPARAMETERS = {\n",
    "    \"bootstrap\": [True, False],\n",
    "    \"max_depth\": [100, 350, 500],\n",
    "    \"min_samples_leaf\": [10, 20, 50],\n",
    "    \"min_samples_split\": [5, 10, 50],\n",
    "    \"n_estimators\": [100, 150, 350, 500],\n",
    "    \"criterion\": [\"gini\", \"entropy\"],\n",
    "}\n",
    "\n",
    "def create_random_forest(\n",
    "        x,\n",
    "        y,\n",
    "        hyperparameters=__HYPERPARAMETERS,\n",
    "        n_jobs=12\n",
    ") -> RandomForestClassifier:\n",
    "    \"\"\"Creates a random forest classifier via grid search.\n",
    "\n",
    "    Args:\n",
    "        x (ndarray): Training input examples.\n",
    "        y (ndarray): Training target values.\n",
    "        hyperparameters (Dict[str, List[Any]], optional): Dictionary of hyperparameters for the grid search. Defaults to the fixed ones.\n",
    "        n_jobs: Number of jobs to run in parallel in the grid search.\n",
    "\n",
    "    Returns:\n",
    "        RandomForestClassifier: Random forest classifier.\n",
    "    \"\"\"\n",
    "\n",
    "    rf = RandomForestClassifier()\n",
    "    clf = HalvingGridSearchCV(rf, hyperparameters, refit=True, n_jobs=n_jobs, verbose=0)\n",
    "    clf.fit(x, y)\n",
    "    return clf.best_estimator_"
   ]
  },
  {
   "cell_type": "code",
   "execution_count": 18,
   "id": "30b2b0a8-1259-4ccb-b66c-cc65d806c72d",
   "metadata": {},
   "outputs": [],
   "source": [
    "rf = create_random_forest(X_train, y_train)"
   ]
  },
  {
   "cell_type": "code",
   "execution_count": 19,
   "id": "e24cb734-ed79-46be-bcc6-52b43ac2f9fd",
   "metadata": {},
   "outputs": [
    {
     "name": "stdout",
     "output_type": "stream",
     "text": [
      "              precision    recall  f1-score   support\n",
      "\n",
      "           0       0.88      0.94      0.91      5432\n",
      "           1       0.79      0.62      0.69      1802\n",
      "\n",
      "    accuracy                           0.86      7234\n",
      "   macro avg       0.83      0.78      0.80      7234\n",
      "weighted avg       0.86      0.86      0.86      7234\n",
      "\n"
     ]
    }
   ],
   "source": [
    "print(classification_report(y_test, rf.predict(X_test)))"
   ]
  },
  {
   "cell_type": "code",
   "execution_count": 20,
   "id": "d7344ac7-d2e1-42f8-a6ee-ea98e5882435",
   "metadata": {},
   "outputs": [],
   "source": [
    "save_pickle_bz2(OUTPUT_FOLDER / \"adult_rf_noclustering.bz2\", rf)"
   ]
  },
  {
   "cell_type": "markdown",
   "id": "a14b3907-8a87-4456-a8c0-5288334ce761",
   "metadata": {},
   "source": [
    "### trying AdaBoost"
   ]
  },
  {
   "cell_type": "code",
   "execution_count": 21,
   "id": "faadb246-c9f6-402f-8d8d-fb93335d6f51",
   "metadata": {},
   "outputs": [],
   "source": [
    "from sklearn.ensemble import AdaBoostClassifier\n",
    "\n",
    "__HYPERPARAMETERS_AB = {\n",
    "    \"n_estimators\": [50, 100, 150, 200],\n",
    "    \"random_state\": [123]\n",
    "}\n",
    "\n",
    "def create_adaboost(\n",
    "        x,\n",
    "        y,\n",
    "        hyperparameters=__HYPERPARAMETERS_AB,\n",
    "        n_jobs=12\n",
    ") -> RandomForestClassifier:\n",
    "    \"\"\"Creates a random forest classifier via grid search.\n",
    "\n",
    "    Args:\n",
    "        x (ndarray): Training input examples.\n",
    "        y (ndarray): Training target values.\n",
    "        hyperparameters (Dict[str, List[Any]], optional): Dictionary of hyperparameters for the grid search. Defaults to the fixed ones.\n",
    "        n_jobs: Number of jobs to run in parallel in the grid search.\n",
    "\n",
    "    Returns:\n",
    "        RandomForestClassifier: Random forest classifier.\n",
    "    \"\"\"\n",
    "\n",
    "    ab = AdaBoostClassifier()\n",
    "    clf = HalvingGridSearchCV(ab, hyperparameters, refit=True, n_jobs=n_jobs, verbose=0)\n",
    "    clf.fit(x, y)\n",
    "    return clf.best_estimator_\n"
   ]
  },
  {
   "cell_type": "code",
   "execution_count": 22,
   "id": "d3444232-1b4c-4dc5-915f-d94da9b1b965",
   "metadata": {},
   "outputs": [],
   "source": [
    "ab = create_adaboost(X_train, y_train)"
   ]
  },
  {
   "cell_type": "markdown",
   "id": "df77737d-f60e-4a46-9061-34625b717447",
   "metadata": {},
   "source": [
    "Almost same results of random forest but way faster grid search due to less parameters"
   ]
  },
  {
   "cell_type": "code",
   "execution_count": 23,
   "id": "23287bf5-40de-4f1b-bbd4-2b5be08a6469",
   "metadata": {},
   "outputs": [
    {
     "name": "stdout",
     "output_type": "stream",
     "text": [
      "              precision    recall  f1-score   support\n",
      "\n",
      "           0       0.89      0.94      0.91      5432\n",
      "           1       0.78      0.65      0.71      1802\n",
      "\n",
      "    accuracy                           0.87      7234\n",
      "   macro avg       0.84      0.80      0.81      7234\n",
      "weighted avg       0.86      0.87      0.86      7234\n",
      "\n"
     ]
    }
   ],
   "source": [
    "print(classification_report(y_test, ab.predict(X_test)))"
   ]
  },
  {
   "cell_type": "markdown",
   "id": "b6051a48-2288-4f51-b4a0-e7db2f22e490",
   "metadata": {},
   "source": [
    "# Clustering on the training set, computation of centroids representatives using  quantiles"
   ]
  },
  {
   "cell_type": "markdown",
   "id": "83af3d83-6ba4-48db-af49-7142b1fae18f",
   "metadata": {},
   "source": [
    "Clustering utility functions"
   ]
  },
  {
   "cell_type": "code",
   "execution_count": 24,
   "id": "fef86402-5e53-42fb-b379-e5abe05ae3ab",
   "metadata": {},
   "outputs": [],
   "source": [
    "from sklearn.cluster import KMeans\n",
    "from sklearn import metrics\n",
    "from sklearn.metrics import silhouette_score, silhouette_samples\n",
    "import matplotlib.cm as cm\n",
    "from kneed import KneeLocator\n",
    "\n",
    "CLUSTERS = [*range(2, 12)]\n",
    "\n",
    "def print_metrics(X, kmeans):\n",
    "    \"\"\"print the metrics of the kmeans model.\n",
    "    Parameters\n",
    "    ----------\n",
    "        X - normalized dataset\n",
    "        kmeans - model.\n",
    "    Prints\n",
    "    ------\n",
    "        K\n",
    "        SSE\n",
    "        Silhouette score\n",
    "        Separation\n",
    "    \n",
    "    \"\"\"\n",
    "    print(f'K={len(kmeans.cluster_centers_)}')\n",
    "    print('\\tSSE:\\t\\t{}'.format(kmeans.inertia_))\n",
    "    print('\\tSilhouette:\\t\\t{}'.format(metrics.silhouette_score(X, kmeans.labels_)))\n",
    "    print('\\tDaviesBouldin score:\\t\\t{}'.format(metrics.davies_bouldin_score(X, kmeans.labels_)))\n",
    "\n",
    "def run_kmeans(X, range_nclusters=CLUSTERS):\n",
    "    '''runs kmeans for different values of k'''\n",
    "    inertia, models = [], []\n",
    "    for k in range_nclusters:\n",
    "        k_means = KMeans(init='k-means++', n_clusters= k, n_init=20, random_state=123)\n",
    "        model = k_means.fit(X) #returns fitted estimator\n",
    "        models.append(model)\n",
    "        inertia.append(k_means.inertia_)\n",
    "    return inertia, models\n",
    "\n",
    "def plot_silouette(data, models):\n",
    "    \"\"\"\n",
    "    models - list of already fit kmeans models\n",
    "    \"\"\"\n",
    "    fig, axs = plt.subplots(ncols=len(models), figsize=(15,5), sharex=True, sharey=True)\n",
    "    for i,model in enumerate(models):\n",
    "        nclusters = model.n_clusters\n",
    "        axs[i].set_xlim([-0.1, 1])\n",
    "        axs[i].set_ylim([0, len(data) + (nclusters + 1) * 10])\n",
    "        axs[i].set_title(f\"$K={nclusters}$\")\n",
    "        \n",
    "        clusters = model.predict(data)\n",
    "        silhouette_avg = silhouette_score(data, clusters)\n",
    "        \n",
    "        # Compute the silhouette scores for each sample\n",
    "        sample_silhouette_values = silhouette_samples(data, clusters)\n",
    "        \n",
    "        y_lower = 10\n",
    "        for j in range(nclusters):\n",
    "            # Aggregate the silhouette scores for samples belonging to\n",
    "            # cluster i, and sort them\n",
    "            ith_cluster_silhouette_values = sample_silhouette_values[clusters == j]\n",
    "\n",
    "            ith_cluster_silhouette_values.sort()\n",
    "\n",
    "            size_cluster_i = ith_cluster_silhouette_values.shape[0]\n",
    "            y_upper = y_lower + size_cluster_i\n",
    "\n",
    "            color = cm.nipy_spectral(float(j) / nclusters)\n",
    "            axs[i].fill_betweenx(np.arange(y_lower, y_upper), 0, ith_cluster_silhouette_values, facecolor=color, edgecolor=color, alpha=0.7)\n",
    "\n",
    "            # Label the silhouette plots with their cluster numbers at the middle\n",
    "            axs[i].text(-0.05, y_lower + 0.5 * size_cluster_i, str(j))\n",
    "\n",
    "            # Compute the new y_lower for next plot\n",
    "            y_lower = y_upper + 10  # 10 for the 0 samples\n",
    "        \n",
    "        # The vertical line for average silhouette score of all the values\n",
    "        axs[i].axvline(x=silhouette_avg, color=\"red\", linestyle=\"--\")\n",
    "\n",
    "        axs[i].set_yticks([])  # Clear the yaxis labels / ticks\n",
    "        axs[i].set_xticks([-0.1, 0, 0.2, 0.4, 0.6, 0.8, 1])\n",
    "\n",
    "        \n",
    "    plt.tight_layout()"
   ]
  },
  {
   "cell_type": "markdown",
   "id": "baffb430-0dfc-4f7c-b83d-d0dbe71f3b96",
   "metadata": {},
   "source": [
    "Clustering on numerical features"
   ]
  },
  {
   "cell_type": "code",
   "execution_count": 25,
   "id": "7223b103-0463-4172-a82c-2fd2e4b2be3e",
   "metadata": {},
   "outputs": [],
   "source": [
    "X_test_cluster = test.drop(labels=([\"Target\"] + CATEGORICAL_FEATURES), axis=1)\n",
    "X_cluster = X_test_cluster.to_numpy()"
   ]
  },
  {
   "cell_type": "code",
   "execution_count": 26,
   "id": "e034bf4f-08cb-4953-b0f6-41038bcc7d27",
   "metadata": {},
   "outputs": [],
   "source": [
    "wcss, models = run_kmeans(X_cluster)"
   ]
  },
  {
   "cell_type": "code",
   "execution_count": 27,
   "id": "59f3926d-ddbc-4d7c-bee5-341c9fbb0862",
   "metadata": {},
   "outputs": [
    {
     "data": {
      "image/png": "[encoded data removed]",
      "text/plain": [
       "<Figure size 432x288 with 1 Axes>"
      ]
     },
     "metadata": {},
     "output_type": "display_data"
    }
   ],
   "source": [
    "sil_score = []\n",
    "for m in models:\n",
    "    sil_score.append(silhouette_score(X_cluster, m.labels_))\n",
    "    \n",
    "plt.plot(CLUSTERS, sil_score, 'bo-', label=\"K-means\")\n",
    "plt.vlines(np.argmax(sil_score) + 2, min(sil_score), max(sil_score), 'r', '--', label=\"max silhouette\")\n",
    "plt.xticks(CLUSTERS)\n",
    "plt.xlabel(\"K\")\n",
    "plt.xticks(range(2, 12))\n",
    "plt.ylabel(\"Silhouette score\")\n",
    "plt.legend()\n",
    "plt.show()"
   ]
  },
  {
   "cell_type": "code",
   "execution_count": 28,
   "id": "881b9e5f-a6af-413a-b2f0-e571194fb34c",
   "metadata": {},
   "outputs": [
    {
     "data": {
      "image/png": "[encoded data removed]",
      "text/plain": [
       "<Figure size 432x288 with 1 Axes>"
      ]
     },
     "metadata": {},
     "output_type": "display_data"
    }
   ],
   "source": [
    "kl = KneeLocator(CLUSTERS, wcss, curve=\"convex\", direction=\"decreasing\")\n",
    "plt.plot(CLUSTERS, wcss, 'o-', label=\"K-means\")\n",
    "plt.vlines(kl.elbow, min(wcss), max(wcss), 'r', '--', label=\"elbow\")\n",
    "plt.xticks(CLUSTERS)\n",
    "plt.xlabel(\"K\")\n",
    "plt.ylabel(\"WCSS\")\n",
    "plt.legend()\n",
    "plt.show()"
   ]
  },
  {
   "cell_type": "code",
   "execution_count": 29,
   "id": "63eff4f3-a44e-45c8-a9ea-9969b7c16917",
   "metadata": {},
   "outputs": [
    {
     "data": {
      "image/png": "[encoded data removed]",
      "text/plain": [
       "<Figure size 1080x360 with 7 Axes>"
      ]
     },
     "metadata": {},
     "output_type": "display_data"
    }
   ],
   "source": [
    "plot_silouette(X_cluster, models[0:7])"
   ]
  },
  {
   "cell_type": "markdown",
   "id": "d657c795-7cfa-439f-91f6-d6d377da3da7",
   "metadata": {},
   "source": [
    "pick K=$6$"
   ]
  },
  {
   "cell_type": "code",
   "execution_count": 30,
   "id": "2bd1b234-76b1-4281-8163-e0dac173dfc8",
   "metadata": {},
   "outputs": [
    {
     "data": {
      "text/plain": [
       "[KMeans(n_clusters=2, n_init=20, random_state=123),\n",
       " KMeans(n_clusters=3, n_init=20, random_state=123),\n",
       " KMeans(n_clusters=4, n_init=20, random_state=123),\n",
       " KMeans(n_clusters=5, n_init=20, random_state=123),\n",
       " KMeans(n_clusters=6, n_init=20, random_state=123),\n",
       " KMeans(n_clusters=7, n_init=20, random_state=123),\n",
       " KMeans(n_init=20, random_state=123),\n",
       " KMeans(n_clusters=9, n_init=20, random_state=123),\n",
       " KMeans(n_clusters=10, n_init=20, random_state=123),\n",
       " KMeans(n_clusters=11, n_init=20, random_state=123)]"
      ]
     },
     "execution_count": 30,
     "metadata": {},
     "output_type": "execute_result"
    }
   ],
   "source": [
    "models"
   ]
  },
  {
   "cell_type": "code",
   "execution_count": 31,
   "id": "952ce58b-e4c1-49ae-a3d0-1f30e62bc8ae",
   "metadata": {},
   "outputs": [
    {
     "data": {
      "text/html": [
       "<style>#sk-container-id-1 {color: black;background-color: white;}#sk-container-id-1 pre{padding: 0;}#sk-container-id-1 div.sk-toggleable {background-color: white;}#sk-container-id-1 label.sk-toggleable__label {cursor: pointer;display: block;width: 100%;margin-bottom: 0;padding: 0.3em;box-sizing: border-box;text-align: center;}#sk-container-id-1 label.sk-toggleable__label-arrow:before {content: \"▸\";float: left;margin-right: 0.25em;color: #696969;}#sk-container-id-1 label.sk-toggleable__label-arrow:hover:before {color: black;}#sk-container-id-1 div.sk-estimator:hover label.sk-toggleable__label-arrow:before {color: black;}#sk-container-id-1 div.sk-toggleable__content {max-height: 0;max-width: 0;overflow: hidden;text-align: left;background-color: #f0f8ff;}#sk-container-id-1 div.sk-toggleable__content pre {margin: 0.2em;color: black;border-radius: 0.25em;background-color: #f0f8ff;}#sk-container-id-1 input.sk-toggleable__control:checked~div.sk-toggleable__content {max-height: 200px;max-width: 100%;overflow: auto;}#sk-container-id-1 input.sk-toggleable__control:checked~label.sk-toggleable__label-arrow:before {content: \"▾\";}#sk-container-id-1 div.sk-estimator input.sk-toggleable__control:checked~label.sk-toggleable__label {background-color: #d4ebff;}#sk-container-id-1 div.sk-label input.sk-toggleable__control:checked~label.sk-toggleable__label {background-color: #d4ebff;}#sk-container-id-1 input.sk-hidden--visually {border: 0;clip: rect(1px 1px 1px 1px);clip: rect(1px, 1px, 1px, 1px);height: 1px;margin: -1px;overflow: hidden;padding: 0;position: absolute;width: 1px;}#sk-container-id-1 div.sk-estimator {font-family: monospace;background-color: #f0f8ff;border: 1px dotted black;border-radius: 0.25em;box-sizing: border-box;margin-bottom: 0.5em;}#sk-container-id-1 div.sk-estimator:hover {background-color: #d4ebff;}#sk-container-id-1 div.sk-parallel-item::after {content: \"\";width: 100%;border-bottom: 1px solid gray;flex-grow: 1;}#sk-container-id-1 div.sk-label:hover label.sk-toggleable__label {background-color: #d4ebff;}#sk-container-id-1 div.sk-serial::before {content: \"\";position: absolute;border-left: 1px solid gray;box-sizing: border-box;top: 0;bottom: 0;left: 50%;z-index: 0;}#sk-container-id-1 div.sk-serial {display: flex;flex-direction: column;align-items: center;background-color: white;padding-right: 0.2em;padding-left: 0.2em;position: relative;}#sk-container-id-1 div.sk-item {position: relative;z-index: 1;}#sk-container-id-1 div.sk-parallel {display: flex;align-items: stretch;justify-content: center;background-color: white;position: relative;}#sk-container-id-1 div.sk-item::before, #sk-container-id-1 div.sk-parallel-item::before {content: \"\";position: absolute;border-left: 1px solid gray;box-sizing: border-box;top: 0;bottom: 0;left: 50%;z-index: -1;}#sk-container-id-1 div.sk-parallel-item {display: flex;flex-direction: column;z-index: 1;position: relative;background-color: white;}#sk-container-id-1 div.sk-parallel-item:first-child::after {align-self: flex-end;width: 50%;}#sk-container-id-1 div.sk-parallel-item:last-child::after {align-self: flex-start;width: 50%;}#sk-container-id-1 div.sk-parallel-item:only-child::after {width: 0;}#sk-container-id-1 div.sk-dashed-wrapped {border: 1px dashed gray;margin: 0 0.4em 0.5em 0.4em;box-sizing: border-box;padding-bottom: 0.4em;background-color: white;}#sk-container-id-1 div.sk-label label {font-family: monospace;font-weight: bold;display: inline-block;line-height: 1.2em;}#sk-container-id-1 div.sk-label-container {text-align: center;}#sk-container-id-1 div.sk-container {/* jupyter's `normalize.less` sets `[hidden] { display: none; }` but bootstrap.min.css set `[hidden] { display: none !important; }` so we also need the `!important` here to be able to override the default hidden behavior on the sphinx rendered scikit-learn.org. See: https://github.com/scikit-learn/scikit-learn/issues/21755 */display: inline-block !important;position: relative;}#sk-container-id-1 div.sk-text-repr-fallback {display: none;}</style><div id=\"sk-container-id-1\" class=\"sk-top-container\"><div class=\"sk-text-repr-fallback\"><pre>KMeans(n_clusters=6, n_init=20, random_state=123)</pre><b>In a Jupyter environment, please rerun this cell to show the HTML representation or trust the notebook. <br />On GitHub, the HTML representation is unable to render, please try loading this page with nbviewer.org.</b></div><div class=\"sk-container\" hidden><div class=\"sk-item\"><div class=\"sk-estimator sk-toggleable\"><input class=\"sk-toggleable__control sk-hidden--visually\" id=\"sk-estimator-id-1\" type=\"checkbox\" checked><label for=\"sk-estimator-id-1\" class=\"sk-toggleable__label sk-toggleable__label-arrow\">KMeans</label><div class=\"sk-toggleable__content\"><pre>KMeans(n_clusters=6, n_init=20, random_state=123)</pre></div></div></div></div></div>"
      ],
      "text/plain": [
       "KMeans(n_clusters=6, n_init=20, random_state=123)"
      ]
     },
     "execution_count": 31,
     "metadata": {},
     "output_type": "execute_result"
    }
   ],
   "source": [
    "kmeans = models[4]\n",
    "kmeans"
   ]
  },
  {
   "cell_type": "code",
   "execution_count": 32,
   "id": "935a6f68-f96a-4de8-be0d-c4dc1c13456d",
   "metadata": {},
   "outputs": [],
   "source": [
    "test['Cluster'] = kmeans.predict(X_cluster)"
   ]
  },
  {
   "cell_type": "code",
   "execution_count": 33,
   "id": "849e325c-baf9-4aa5-bb85-fcd89407b736",
   "metadata": {},
   "outputs": [
    {
     "data": {
      "text/plain": [
       "0    2198\n",
       "2    1904\n",
       "5    1701\n",
       "3    1048\n",
       "1     352\n",
       "4      31\n",
       "Name: Cluster, dtype: int64"
      ]
     },
     "execution_count": 33,
     "metadata": {},
     "output_type": "execute_result"
    }
   ],
   "source": [
    "test['Cluster'].value_counts()"
   ]
  },
  {
   "cell_type": "code",
   "execution_count": 34,
   "id": "e375057b-e746-4214-bbd1-dac640f6c363",
   "metadata": {},
   "outputs": [],
   "source": [
    "centroids = kmeans.cluster_centers_\n",
    "np.savez(OUTPUT_FOLDER / \"centroids\", centroids=centroids)\n",
    "train.to_csv(OUTPUT_FOLDER / \"train_clustered.csv\", index=False)\n",
    "save_pickle_bz2(OUTPUT_FOLDER / \"kmeans_k6.bz2\", kmeans)"
   ]
  },
  {
   "cell_type": "markdown",
   "id": "31ca9bd4-9cda-418c-9452-714218933572",
   "metadata": {},
   "source": [
    "### sampling from clusters using quantiles"
   ]
  },
  {
   "cell_type": "code",
   "execution_count": 35,
   "id": "e4f85a6e-8bfa-44c1-b173-8dd1ae02deac",
   "metadata": {},
   "outputs": [],
   "source": [
    "import scipy.spatial.distance as distance\n",
    "\n",
    "def sample_from_quantile(data, centroid, nsamples=1):\n",
    "    distances = distance.cdist(data[NUMERICAL_FEATURES].to_numpy(), centroid, metric=\"euclidean\")\n",
    "    df = data.copy()\n",
    "    df['Distances'] = distances\n",
    "    labels = ['q1', 'q2', 'q3', 'q4']\n",
    "    df['Quantiles'] = pd.qcut(df.Distances, q = 4, labels=labels)\n",
    "    out = pd.concat([df[df['Quantiles'].eq(label)].sample(nsamples) for label in labels])\n",
    "    return out.drop(labels=['Distances', 'Quantiles'], axis=1)"
   ]
  },
  {
   "cell_type": "markdown",
   "id": "6bb4f74f-b180-4ed1-b5ff-beff4809b06f",
   "metadata": {},
   "source": [
    "Sample 1,2,3 points per quantile"
   ]
  },
  {
   "cell_type": "code",
   "execution_count": 36,
   "id": "686c1bb0-a054-484b-9022-feb576e9ef18",
   "metadata": {},
   "outputs": [],
   "source": [
    "for n_samp in (1,2,3):\n",
    "    samples = []\n",
    "    for label, centroid in enumerate(centroids):\n",
    "        data = test[test.Cluster == label]\n",
    "        samples.append(sample_from_quantile(data, np.array([centroid]), nsamples=n_samp))\n",
    "    representatives = pd.concat(samples)\n",
    "    representatives.to_csv(OUTPUT_FOLDER / f\"clusters_representatives_quantiles_{n_samp}_{6*4*n_samp}.csv\", index=False)\n",
    "    x_test_clustered = representatives.drop(labels=['Target', 'Cluster'], axis=1).to_numpy()\n",
    "    y_test_clustered = representatives.Target.to_numpy()\n",
    "    np.savez(OUTPUT_FOLDER / f\"adult_rf_noclustering_data_nsamples_{n_samp}\", x_train=X_train, x_test=X_test, y_train=y_train, y_test=y_test, x_test_clustered=x_test_clustered, y_test_clustered=y_test_clustered)"
   ]
  },
  {
   "cell_type": "markdown",
   "id": "f6803aa9-94e3-4f92-ad1e-a12dc0a3c6f1",
   "metadata": {},
   "source": [
    "Thrash"
   ]
  },
  {
   "cell_type": "code",
   "execution_count": 2,
   "id": "abbd4e9d-117b-47ff-b0a6-19b7dd94ec9c",
   "metadata": {},
   "outputs": [],
   "source": [
    "import numpy as np\n",
    "import scipy.spatial.distance as distance\n",
    "\n",
    "import pandas as pd"
   ]
  },
  {
   "cell_type": "code",
   "execution_count": 3,
   "id": "5b1c1eb3-4561-4d80-a633-338186a49485",
   "metadata": {},
   "outputs": [
    {
     "data": {
      "text/plain": [
       "array([ True, False,  True, False,  True, False, False, False, False,\n",
       "       False,  True,  True,  True, False])"
      ]
     },
     "execution_count": 3,
     "metadata": {},
     "output_type": "execute_result"
    }
   ],
   "source": [
    "ADULT_COLUMN_MASK = np.array([int(x) == 1 for x in \"1,0,1,0,1,0,0,0,0,0,1,1,1,0\".split(\",\")])\n",
    "ADULT_COLUMN_MASK"
   ]
  },
  {
   "cell_type": "code",
   "execution_count": 4,
   "id": "56f9bca8-a2fb-4fda-a62b-7f0030ab5eb3",
   "metadata": {},
   "outputs": [],
   "source": [
    "a = np.random.randn(6, 14)"
   ]
  },
  {
   "cell_type": "code",
   "execution_count": 5,
   "id": "2a49e06e-fc6e-438b-a492-4842f365ff88",
   "metadata": {},
   "outputs": [],
   "source": [
    "d = pd.DataFrame(a)"
   ]
  },
  {
   "cell_type": "code",
   "execution_count": 6,
   "id": "5a023bad-d736-4851-9a98-650f410781f3",
   "metadata": {},
   "outputs": [],
   "source": [
    "d['Label'] = np.array([1,0,1,0,1,0])"
   ]
  },
  {
   "cell_type": "code",
   "execution_count": 7,
   "id": "0170b9ad-2ff7-402e-856f-1efc7203669e",
   "metadata": {},
   "outputs": [],
   "source": [
    "ones = d[d['Label'] == 1].copy()\n",
    "zeros = d[d['Label'] == 0].copy()"
   ]
  },
  {
   "cell_type": "code",
   "execution_count": 10,
   "id": "39abda77-0563-4f9c-b844-c0ea8931989e",
   "metadata": {},
   "outputs": [
    {
     "data": {
      "text/html": [
       "<div>\n",
       "<style scoped>\n",
       "    .dataframe tbody tr th:only-of-type {\n",
       "        vertical-align: middle;\n",
       "    }\n",
       "\n",
       "    .dataframe tbody tr th {\n",
       "        vertical-align: top;\n",
       "    }\n",
       "\n",
       "    .dataframe thead th {\n",
       "        text-align: right;\n",
       "    }\n",
       "</style>\n",
       "<table border=\"1\" class=\"dataframe\">\n",
       "  <thead>\n",
       "    <tr style=\"text-align: right;\">\n",
       "      <th></th>\n",
       "      <th>0</th>\n",
       "      <th>1</th>\n",
       "      <th>2</th>\n",
       "      <th>3</th>\n",
       "      <th>4</th>\n",
       "      <th>5</th>\n",
       "      <th>6</th>\n",
       "      <th>7</th>\n",
       "      <th>8</th>\n",
       "      <th>9</th>\n",
       "      <th>10</th>\n",
       "      <th>11</th>\n",
       "      <th>12</th>\n",
       "      <th>13</th>\n",
       "      <th>Label</th>\n",
       "    </tr>\n",
       "  </thead>\n",
       "  <tbody>\n",
       "    <tr>\n",
       "      <th>0</th>\n",
       "      <td>1.267431</td>\n",
       "      <td>-0.227388</td>\n",
       "      <td>0.333324</td>\n",
       "      <td>-0.982847</td>\n",
       "      <td>-0.982445</td>\n",
       "      <td>-0.806472</td>\n",
       "      <td>0.043624</td>\n",
       "      <td>-0.070934</td>\n",
       "      <td>-1.029996</td>\n",
       "      <td>1.256086</td>\n",
       "      <td>-1.386281</td>\n",
       "      <td>-0.892360</td>\n",
       "      <td>1.633260</td>\n",
       "      <td>1.221633</td>\n",
       "      <td>1</td>\n",
       "    </tr>\n",
       "    <tr>\n",
       "      <th>2</th>\n",
       "      <td>0.402746</td>\n",
       "      <td>0.173093</td>\n",
       "      <td>-0.274010</td>\n",
       "      <td>-0.745897</td>\n",
       "      <td>0.418745</td>\n",
       "      <td>0.443825</td>\n",
       "      <td>-0.076837</td>\n",
       "      <td>0.588433</td>\n",
       "      <td>1.452426</td>\n",
       "      <td>0.190581</td>\n",
       "      <td>-1.055481</td>\n",
       "      <td>0.353509</td>\n",
       "      <td>0.385436</td>\n",
       "      <td>0.912561</td>\n",
       "      <td>1</td>\n",
       "    </tr>\n",
       "    <tr>\n",
       "      <th>4</th>\n",
       "      <td>-0.275430</td>\n",
       "      <td>0.825965</td>\n",
       "      <td>-0.026833</td>\n",
       "      <td>-1.361004</td>\n",
       "      <td>-1.124275</td>\n",
       "      <td>-1.189422</td>\n",
       "      <td>-0.399223</td>\n",
       "      <td>0.952970</td>\n",
       "      <td>0.609169</td>\n",
       "      <td>0.435510</td>\n",
       "      <td>-0.679522</td>\n",
       "      <td>-0.370230</td>\n",
       "      <td>0.683894</td>\n",
       "      <td>0.316260</td>\n",
       "      <td>1</td>\n",
       "    </tr>\n",
       "  </tbody>\n",
       "</table>\n",
       "</div>"
      ],
      "text/plain": [
       "          0         1         2         3         4         5         6  \\\n",
       "0  1.267431 -0.227388  0.333324 -0.982847 -0.982445 -0.806472  0.043624   \n",
       "2  0.402746  0.173093 -0.274010 -0.745897  0.418745  0.443825 -0.076837   \n",
       "4 -0.275430  0.825965 -0.026833 -1.361004 -1.124275 -1.189422 -0.399223   \n",
       "\n",
       "          7         8         9        10        11        12        13  Label  \n",
       "0 -0.070934 -1.029996  1.256086 -1.386281 -0.892360  1.633260  1.221633      1  \n",
       "2  0.588433  1.452426  0.190581 -1.055481  0.353509  0.385436  0.912561      1  \n",
       "4  0.952970  0.609169  0.435510 -0.679522 -0.370230  0.683894  0.316260      1  "
      ]
     },
     "execution_count": 10,
     "metadata": {},
     "output_type": "execute_result"
    }
   ],
   "source": [
    "ones"
   ]
  },
  {
   "cell_type": "code",
   "execution_count": 14,
   "id": "eff56dc7-7243-403b-a629-1e02e877993d",
   "metadata": {},
   "outputs": [
    {
     "data": {
      "text/plain": [
       "array([[ 1.26743129,  0.3333236 , -0.98244451, -1.38628066, -0.89236043,\n",
       "         1.63326012],\n",
       "       [ 0.4027464 , -0.27400995,  0.41874476, -1.0554808 ,  0.35350925,\n",
       "         0.3854363 ],\n",
       "       [-0.27542997, -0.0268328 , -1.12427526, -0.67952243, -0.3702299 ,\n",
       "         0.68389411]])"
      ]
     },
     "execution_count": 14,
     "metadata": {},
     "output_type": "execute_result"
    }
   ],
   "source": [
    "ones.drop('Label',axis=1).to_numpy()[:, ADULT_COLUMN_MASK]"
   ]
  },
  {
   "cell_type": "code",
   "execution_count": 15,
   "id": "34270bae-1e7a-4cb9-95ed-472da73a6cc3",
   "metadata": {},
   "outputs": [
    {
     "data": {
      "text/plain": [
       "array([ True, False,  True, False,  True, False, False, False, False,\n",
       "       False,  True,  True,  True, False])"
      ]
     },
     "execution_count": 15,
     "metadata": {},
     "output_type": "execute_result"
    }
   ],
   "source": [
    "np.array(ADULT_COLUMN_MASK)"
   ]
  },
  {
   "cell_type": "code",
   "execution_count": 16,
   "id": "49c31736-340b-4b77-9aef-eb6b354e6b74",
   "metadata": {},
   "outputs": [
    {
     "data": {
      "text/plain": [
       "array([[ 1.26743129, -0.22738752,  0.3333236 , -0.98284722, -0.98244451,\n",
       "        -0.80647204,  0.04362365, -0.07093387, -1.02999624,  1.2560858 ,\n",
       "        -1.38628066, -0.89236043,  1.63326012,  1.22163271],\n",
       "       [ 0.87154304,  0.92951824,  0.48294434, -0.67437892, -0.84307975,\n",
       "         0.90419066, -0.43047957,  1.18365415, -0.08379832, -0.9594766 ,\n",
       "         0.40134243,  0.09539801,  1.61236489,  0.90603743],\n",
       "       [ 0.4027464 ,  0.1730925 , -0.27400995, -0.74589746,  0.41874476,\n",
       "         0.44382476, -0.07683744,  0.58843265,  1.45242622,  0.19058057,\n",
       "        -1.0554808 ,  0.35350925,  0.3854363 ,  0.91256136],\n",
       "       [ 0.91803796, -1.15176549, -0.72394429, -1.31162687, -0.81915085,\n",
       "         0.31028771, -0.73349655, -1.00963505, -0.59662516,  0.83434295,\n",
       "        -0.76063277, -1.14891402, -0.39452285,  0.33514549],\n",
       "       [-0.27542997,  0.82596455, -0.0268328 , -1.36100393, -1.12427526,\n",
       "        -1.18942203, -0.39922312,  0.95296964,  0.60916874,  0.43550951,\n",
       "        -0.67952243, -0.3702299 ,  0.68389411,  0.31626028],\n",
       "       [ 1.33555272, -0.51499854,  0.33986323, -1.52574575,  0.17453889,\n",
       "        -1.01690461,  1.57449556,  0.02516279,  0.12541584,  0.25867876,\n",
       "        -0.11000405,  2.04248043, -1.29670124, -0.26834668]])"
      ]
     },
     "execution_count": 16,
     "metadata": {},
     "output_type": "execute_result"
    }
   ],
   "source": [
    "a"
   ]
  },
  {
   "cell_type": "code",
   "execution_count": 17,
   "id": "728e60e8-205d-45b0-bde0-3c26e3beb27b",
   "metadata": {},
   "outputs": [],
   "source": [
    "def compute_centroids(data: np.ndarray, axis=0):\n",
    "    \"\"\"\n",
    "    Returns the centroid of a matrix.\n",
    "    Args:\n",
    "        data: matrix\n",
    "        axis: axis along which compute the centroid\n",
    "    Returns:\n",
    "\n",
    "    \"\"\"\n",
    "    return data.mean(axis=axis)"
   ]
  },
  {
   "cell_type": "code",
   "execution_count": 18,
   "id": "b25072c7-8012-445a-9eb7-c49dcbadc6b6",
   "metadata": {},
   "outputs": [],
   "source": [
    "column_mask = ADULT_COLUMN_MASK"
   ]
  },
  {
   "cell_type": "code",
   "execution_count": 19,
   "id": "cdd21c88-31fe-473a-bec0-639a59770502",
   "metadata": {},
   "outputs": [],
   "source": [
    "centroid_0 = compute_centroids(zeros.drop('Label', axis=1).to_numpy()[:, column_mask])\n",
    "centroid_1 = compute_centroids(ones.drop('Label', axis=1).to_numpy()[:, column_mask])"
   ]
  },
  {
   "cell_type": "code",
   "execution_count": 20,
   "id": "89a80ac5-322e-4691-b016-bb95dc07fec1",
   "metadata": {},
   "outputs": [
    {
     "data": {
      "text/plain": [
       "array([ 1.04171124,  0.03295442, -0.49589724, -0.15643146,  0.32965481,\n",
       "       -0.0262864 ])"
      ]
     },
     "execution_count": 20,
     "metadata": {},
     "output_type": "execute_result"
    }
   ],
   "source": [
    "centroid_0"
   ]
  },
  {
   "cell_type": "code",
   "execution_count": 21,
   "id": "10c1c831-850b-4b9e-8bd3-37240a7581bb",
   "metadata": {},
   "outputs": [],
   "source": [
    "zeros['Dist'] = distance.cdist(zeros.drop(labels=['Label'], axis=1).to_numpy()[:, column_mask], np.array([centroid_0]))\n",
    "ones['Dist'] = distance.cdist(ones.drop(labels=['Label'], axis=1).to_numpy()[:, column_mask], np.array([centroid_1]))"
   ]
  },
  {
   "cell_type": "code",
   "execution_count": 22,
   "id": "c77305d6-01f8-477e-8713-a02db783e84e",
   "metadata": {},
   "outputs": [
    {
     "data": {
      "text/html": [
       "<div>\n",
       "<style scoped>\n",
       "    .dataframe tbody tr th:only-of-type {\n",
       "        vertical-align: middle;\n",
       "    }\n",
       "\n",
       "    .dataframe tbody tr th {\n",
       "        vertical-align: top;\n",
       "    }\n",
       "\n",
       "    .dataframe thead th {\n",
       "        text-align: right;\n",
       "    }\n",
       "</style>\n",
       "<table border=\"1\" class=\"dataframe\">\n",
       "  <thead>\n",
       "    <tr style=\"text-align: right;\">\n",
       "      <th></th>\n",
       "      <th>0</th>\n",
       "      <th>1</th>\n",
       "      <th>2</th>\n",
       "      <th>3</th>\n",
       "      <th>4</th>\n",
       "      <th>5</th>\n",
       "      <th>6</th>\n",
       "      <th>7</th>\n",
       "      <th>8</th>\n",
       "      <th>9</th>\n",
       "      <th>10</th>\n",
       "      <th>11</th>\n",
       "      <th>12</th>\n",
       "      <th>13</th>\n",
       "      <th>Label</th>\n",
       "      <th>Dist</th>\n",
       "    </tr>\n",
       "  </thead>\n",
       "  <tbody>\n",
       "    <tr>\n",
       "      <th>0</th>\n",
       "      <td>1.267431</td>\n",
       "      <td>-0.227388</td>\n",
       "      <td>0.333324</td>\n",
       "      <td>-0.982847</td>\n",
       "      <td>-0.982445</td>\n",
       "      <td>-0.806472</td>\n",
       "      <td>0.043624</td>\n",
       "      <td>-0.070934</td>\n",
       "      <td>-1.029996</td>\n",
       "      <td>1.256086</td>\n",
       "      <td>-1.386281</td>\n",
       "      <td>-0.892360</td>\n",
       "      <td>1.633260</td>\n",
       "      <td>1.221633</td>\n",
       "      <td>1</td>\n",
       "      <td>1.388376</td>\n",
       "    </tr>\n",
       "    <tr>\n",
       "      <th>2</th>\n",
       "      <td>0.402746</td>\n",
       "      <td>0.173093</td>\n",
       "      <td>-0.274010</td>\n",
       "      <td>-0.745897</td>\n",
       "      <td>0.418745</td>\n",
       "      <td>0.443825</td>\n",
       "      <td>-0.076837</td>\n",
       "      <td>0.588433</td>\n",
       "      <td>1.452426</td>\n",
       "      <td>0.190581</td>\n",
       "      <td>-1.055481</td>\n",
       "      <td>0.353509</td>\n",
       "      <td>0.385436</td>\n",
       "      <td>0.912561</td>\n",
       "      <td>1</td>\n",
       "      <td>1.321015</td>\n",
       "    </tr>\n",
       "    <tr>\n",
       "      <th>4</th>\n",
       "      <td>-0.275430</td>\n",
       "      <td>0.825965</td>\n",
       "      <td>-0.026833</td>\n",
       "      <td>-1.361004</td>\n",
       "      <td>-1.124275</td>\n",
       "      <td>-1.189422</td>\n",
       "      <td>-0.399223</td>\n",
       "      <td>0.952970</td>\n",
       "      <td>0.609169</td>\n",
       "      <td>0.435510</td>\n",
       "      <td>-0.679522</td>\n",
       "      <td>-0.370230</td>\n",
       "      <td>0.683894</td>\n",
       "      <td>0.316260</td>\n",
       "      <td>1</td>\n",
       "      <td>1.023127</td>\n",
       "    </tr>\n",
       "  </tbody>\n",
       "</table>\n",
       "</div>"
      ],
      "text/plain": [
       "          0         1         2         3         4         5         6  \\\n",
       "0  1.267431 -0.227388  0.333324 -0.982847 -0.982445 -0.806472  0.043624   \n",
       "2  0.402746  0.173093 -0.274010 -0.745897  0.418745  0.443825 -0.076837   \n",
       "4 -0.275430  0.825965 -0.026833 -1.361004 -1.124275 -1.189422 -0.399223   \n",
       "\n",
       "          7         8         9        10        11        12        13  \\\n",
       "0 -0.070934 -1.029996  1.256086 -1.386281 -0.892360  1.633260  1.221633   \n",
       "2  0.588433  1.452426  0.190581 -1.055481  0.353509  0.385436  0.912561   \n",
       "4  0.952970  0.609169  0.435510 -0.679522 -0.370230  0.683894  0.316260   \n",
       "\n",
       "   Label      Dist  \n",
       "0      1  1.388376  \n",
       "2      1  1.321015  \n",
       "4      1  1.023127  "
      ]
     },
     "execution_count": 22,
     "metadata": {},
     "output_type": "execute_result"
    }
   ],
   "source": [
    "ones"
   ]
  },
  {
   "cell_type": "code",
   "execution_count": 23,
   "id": "4fafed4c-0d7e-4543-9c50-71ee5cbf8a37",
   "metadata": {},
   "outputs": [
    {
     "data": {
      "text/html": [
       "<div>\n",
       "<style scoped>\n",
       "    .dataframe tbody tr th:only-of-type {\n",
       "        vertical-align: middle;\n",
       "    }\n",
       "\n",
       "    .dataframe tbody tr th {\n",
       "        vertical-align: top;\n",
       "    }\n",
       "\n",
       "    .dataframe thead th {\n",
       "        text-align: right;\n",
       "    }\n",
       "</style>\n",
       "<table border=\"1\" class=\"dataframe\">\n",
       "  <thead>\n",
       "    <tr style=\"text-align: right;\">\n",
       "      <th></th>\n",
       "      <th>0</th>\n",
       "      <th>1</th>\n",
       "      <th>2</th>\n",
       "      <th>3</th>\n",
       "      <th>4</th>\n",
       "      <th>5</th>\n",
       "      <th>6</th>\n",
       "      <th>7</th>\n",
       "      <th>8</th>\n",
       "      <th>9</th>\n",
       "      <th>10</th>\n",
       "      <th>11</th>\n",
       "      <th>12</th>\n",
       "      <th>13</th>\n",
       "      <th>Label</th>\n",
       "      <th>Dist</th>\n",
       "    </tr>\n",
       "  </thead>\n",
       "  <tbody>\n",
       "    <tr>\n",
       "      <th>1</th>\n",
       "      <td>0.871543</td>\n",
       "      <td>0.929518</td>\n",
       "      <td>0.482944</td>\n",
       "      <td>-0.674379</td>\n",
       "      <td>-0.843080</td>\n",
       "      <td>0.904191</td>\n",
       "      <td>-0.430480</td>\n",
       "      <td>1.183654</td>\n",
       "      <td>-0.083798</td>\n",
       "      <td>-0.959477</td>\n",
       "      <td>0.401342</td>\n",
       "      <td>0.095398</td>\n",
       "      <td>1.612365</td>\n",
       "      <td>0.906037</td>\n",
       "      <td>0</td>\n",
       "      <td>1.844763</td>\n",
       "    </tr>\n",
       "    <tr>\n",
       "      <th>3</th>\n",
       "      <td>0.918038</td>\n",
       "      <td>-1.151765</td>\n",
       "      <td>-0.723944</td>\n",
       "      <td>-1.311627</td>\n",
       "      <td>-0.819151</td>\n",
       "      <td>0.310288</td>\n",
       "      <td>-0.733497</td>\n",
       "      <td>-1.009635</td>\n",
       "      <td>-0.596625</td>\n",
       "      <td>0.834343</td>\n",
       "      <td>-0.760633</td>\n",
       "      <td>-1.148914</td>\n",
       "      <td>-0.394523</td>\n",
       "      <td>0.335145</td>\n",
       "      <td>0</td>\n",
       "      <td>1.838343</td>\n",
       "    </tr>\n",
       "    <tr>\n",
       "      <th>5</th>\n",
       "      <td>1.335553</td>\n",
       "      <td>-0.514999</td>\n",
       "      <td>0.339863</td>\n",
       "      <td>-1.525746</td>\n",
       "      <td>0.174539</td>\n",
       "      <td>-1.016905</td>\n",
       "      <td>1.574496</td>\n",
       "      <td>0.025163</td>\n",
       "      <td>0.125416</td>\n",
       "      <td>0.258679</td>\n",
       "      <td>-0.110004</td>\n",
       "      <td>2.042480</td>\n",
       "      <td>-1.296701</td>\n",
       "      <td>-0.268347</td>\n",
       "      <td>0</td>\n",
       "      <td>2.275940</td>\n",
       "    </tr>\n",
       "  </tbody>\n",
       "</table>\n",
       "</div>"
      ],
      "text/plain": [
       "          0         1         2         3         4         5         6  \\\n",
       "1  0.871543  0.929518  0.482944 -0.674379 -0.843080  0.904191 -0.430480   \n",
       "3  0.918038 -1.151765 -0.723944 -1.311627 -0.819151  0.310288 -0.733497   \n",
       "5  1.335553 -0.514999  0.339863 -1.525746  0.174539 -1.016905  1.574496   \n",
       "\n",
       "          7         8         9        10        11        12        13  \\\n",
       "1  1.183654 -0.083798 -0.959477  0.401342  0.095398  1.612365  0.906037   \n",
       "3 -1.009635 -0.596625  0.834343 -0.760633 -1.148914 -0.394523  0.335145   \n",
       "5  0.025163  0.125416  0.258679 -0.110004  2.042480 -1.296701 -0.268347   \n",
       "\n",
       "   Label      Dist  \n",
       "1      0  1.844763  \n",
       "3      0  1.838343  \n",
       "5      0  2.275940  "
      ]
     },
     "execution_count": 23,
     "metadata": {},
     "output_type": "execute_result"
    }
   ],
   "source": [
    "zeros"
   ]
  },
  {
   "cell_type": "code",
   "execution_count": 28,
   "id": "0ab8ef3f-260f-465e-bf5c-e8cc67dba9d4",
   "metadata": {},
   "outputs": [
    {
     "data": {
      "text/plain": [
       "0.25081372179945327"
      ]
     },
     "execution_count": 28,
     "metadata": {},
     "output_type": "execute_result"
    }
   ],
   "source": [
    "zeros.Dist.std()"
   ]
  },
  {
   "cell_type": "code",
   "execution_count": 31,
   "id": "f9a89b03-9a83-45a1-83b9-2ba685285de0",
   "metadata": {},
   "outputs": [],
   "source": [
    "centroid_0_dist = distance.cdist(d.drop(labels=['Label'], axis=1).to_numpy()[:, column_mask],\n",
    "                                     np.array([centroid_0]))\n",
    "centroid_1_dist = distance.cdist(d.drop(labels=['Label'], axis=1).to_numpy()[:, column_mask],\n",
    "                                     np.array([centroid_1]))\n",
    "df_dist = np.minimum(centroid_0_dist, centroid_1_dist)\n"
   ]
  },
  {
   "cell_type": "code",
   "execution_count": 32,
   "id": "777bd36a-20e9-4784-8eb6-a6fe1e65633a",
   "metadata": {},
   "outputs": [],
   "source": [
    "d['Dist'] = df_dist\n",
    "df_mean = d.Dist.mean()\n",
    "df_std = d.Dist.std()\n",
    "alpha = 1"
   ]
  },
  {
   "cell_type": "code",
   "execution_count": 33,
   "id": "bfd46606-c7e3-4f3f-978e-af2b495c56d5",
   "metadata": {},
   "outputs": [
    {
     "data": {
      "text/html": [
       "<div>\n",
       "<style scoped>\n",
       "    .dataframe tbody tr th:only-of-type {\n",
       "        vertical-align: middle;\n",
       "    }\n",
       "\n",
       "    .dataframe tbody tr th {\n",
       "        vertical-align: top;\n",
       "    }\n",
       "\n",
       "    .dataframe thead th {\n",
       "        text-align: right;\n",
       "    }\n",
       "</style>\n",
       "<table border=\"1\" class=\"dataframe\">\n",
       "  <thead>\n",
       "    <tr style=\"text-align: right;\">\n",
       "      <th></th>\n",
       "      <th>0</th>\n",
       "      <th>1</th>\n",
       "      <th>2</th>\n",
       "      <th>3</th>\n",
       "      <th>4</th>\n",
       "      <th>5</th>\n",
       "      <th>6</th>\n",
       "      <th>7</th>\n",
       "      <th>8</th>\n",
       "      <th>9</th>\n",
       "      <th>10</th>\n",
       "      <th>11</th>\n",
       "      <th>12</th>\n",
       "      <th>13</th>\n",
       "      <th>Label</th>\n",
       "      <th>Dist</th>\n",
       "    </tr>\n",
       "  </thead>\n",
       "  <tbody>\n",
       "    <tr>\n",
       "      <th>0</th>\n",
       "      <td>1.267431</td>\n",
       "      <td>-0.227388</td>\n",
       "      <td>0.333324</td>\n",
       "      <td>-0.982847</td>\n",
       "      <td>-0.982445</td>\n",
       "      <td>-0.806472</td>\n",
       "      <td>0.043624</td>\n",
       "      <td>-0.070934</td>\n",
       "      <td>-1.029996</td>\n",
       "      <td>1.256086</td>\n",
       "      <td>-1.386281</td>\n",
       "      <td>-0.892360</td>\n",
       "      <td>1.633260</td>\n",
       "      <td>1.221633</td>\n",
       "      <td>1</td>\n",
       "      <td>1.388376</td>\n",
       "    </tr>\n",
       "    <tr>\n",
       "      <th>1</th>\n",
       "      <td>0.871543</td>\n",
       "      <td>0.929518</td>\n",
       "      <td>0.482944</td>\n",
       "      <td>-0.674379</td>\n",
       "      <td>-0.843080</td>\n",
       "      <td>0.904191</td>\n",
       "      <td>-0.430480</td>\n",
       "      <td>1.183654</td>\n",
       "      <td>-0.083798</td>\n",
       "      <td>-0.959477</td>\n",
       "      <td>0.401342</td>\n",
       "      <td>0.095398</td>\n",
       "      <td>1.612365</td>\n",
       "      <td>0.906037</td>\n",
       "      <td>0</td>\n",
       "      <td>1.791802</td>\n",
       "    </tr>\n",
       "    <tr>\n",
       "      <th>2</th>\n",
       "      <td>0.402746</td>\n",
       "      <td>0.173093</td>\n",
       "      <td>-0.274010</td>\n",
       "      <td>-0.745897</td>\n",
       "      <td>0.418745</td>\n",
       "      <td>0.443825</td>\n",
       "      <td>-0.076837</td>\n",
       "      <td>0.588433</td>\n",
       "      <td>1.452426</td>\n",
       "      <td>0.190581</td>\n",
       "      <td>-1.055481</td>\n",
       "      <td>0.353509</td>\n",
       "      <td>0.385436</td>\n",
       "      <td>0.912561</td>\n",
       "      <td>1</td>\n",
       "      <td>1.321015</td>\n",
       "    </tr>\n",
       "    <tr>\n",
       "      <th>3</th>\n",
       "      <td>0.918038</td>\n",
       "      <td>-1.151765</td>\n",
       "      <td>-0.723944</td>\n",
       "      <td>-1.311627</td>\n",
       "      <td>-0.819151</td>\n",
       "      <td>0.310288</td>\n",
       "      <td>-0.733497</td>\n",
       "      <td>-1.009635</td>\n",
       "      <td>-0.596625</td>\n",
       "      <td>0.834343</td>\n",
       "      <td>-0.760633</td>\n",
       "      <td>-1.148914</td>\n",
       "      <td>-0.394523</td>\n",
       "      <td>0.335145</td>\n",
       "      <td>0</td>\n",
       "      <td>1.811859</td>\n",
       "    </tr>\n",
       "    <tr>\n",
       "      <th>4</th>\n",
       "      <td>-0.275430</td>\n",
       "      <td>0.825965</td>\n",
       "      <td>-0.026833</td>\n",
       "      <td>-1.361004</td>\n",
       "      <td>-1.124275</td>\n",
       "      <td>-1.189422</td>\n",
       "      <td>-0.399223</td>\n",
       "      <td>0.952970</td>\n",
       "      <td>0.609169</td>\n",
       "      <td>0.435510</td>\n",
       "      <td>-0.679522</td>\n",
       "      <td>-0.370230</td>\n",
       "      <td>0.683894</td>\n",
       "      <td>0.316260</td>\n",
       "      <td>1</td>\n",
       "      <td>1.023127</td>\n",
       "    </tr>\n",
       "    <tr>\n",
       "      <th>5</th>\n",
       "      <td>1.335553</td>\n",
       "      <td>-0.514999</td>\n",
       "      <td>0.339863</td>\n",
       "      <td>-1.525746</td>\n",
       "      <td>0.174539</td>\n",
       "      <td>-1.016905</td>\n",
       "      <td>1.574496</td>\n",
       "      <td>0.025163</td>\n",
       "      <td>0.125416</td>\n",
       "      <td>0.258679</td>\n",
       "      <td>-0.110004</td>\n",
       "      <td>2.042480</td>\n",
       "      <td>-1.296701</td>\n",
       "      <td>-0.268347</td>\n",
       "      <td>0</td>\n",
       "      <td>2.275940</td>\n",
       "    </tr>\n",
       "  </tbody>\n",
       "</table>\n",
       "</div>"
      ],
      "text/plain": [
       "          0         1         2         3         4         5         6  \\\n",
       "0  1.267431 -0.227388  0.333324 -0.982847 -0.982445 -0.806472  0.043624   \n",
       "1  0.871543  0.929518  0.482944 -0.674379 -0.843080  0.904191 -0.430480   \n",
       "2  0.402746  0.173093 -0.274010 -0.745897  0.418745  0.443825 -0.076837   \n",
       "3  0.918038 -1.151765 -0.723944 -1.311627 -0.819151  0.310288 -0.733497   \n",
       "4 -0.275430  0.825965 -0.026833 -1.361004 -1.124275 -1.189422 -0.399223   \n",
       "5  1.335553 -0.514999  0.339863 -1.525746  0.174539 -1.016905  1.574496   \n",
       "\n",
       "          7         8         9        10        11        12        13  \\\n",
       "0 -0.070934 -1.029996  1.256086 -1.386281 -0.892360  1.633260  1.221633   \n",
       "1  1.183654 -0.083798 -0.959477  0.401342  0.095398  1.612365  0.906037   \n",
       "2  0.588433  1.452426  0.190581 -1.055481  0.353509  0.385436  0.912561   \n",
       "3 -1.009635 -0.596625  0.834343 -0.760633 -1.148914 -0.394523  0.335145   \n",
       "4  0.952970  0.609169  0.435510 -0.679522 -0.370230  0.683894  0.316260   \n",
       "5  0.025163  0.125416  0.258679 -0.110004  2.042480 -1.296701 -0.268347   \n",
       "\n",
       "   Label      Dist  \n",
       "0      1  1.388376  \n",
       "1      0  1.791802  \n",
       "2      1  1.321015  \n",
       "3      0  1.811859  \n",
       "4      1  1.023127  \n",
       "5      0  2.275940  "
      ]
     },
     "execution_count": 33,
     "metadata": {},
     "output_type": "execute_result"
    }
   ],
   "source": [
    "d"
   ]
  },
  {
   "cell_type": "code",
   "execution_count": 40,
   "id": "0b3a6a5b-1d2b-4b1a-8dd5-6f8d8972315f",
   "metadata": {},
   "outputs": [
    {
     "data": {
      "text/html": [
       "<div>\n",
       "<style scoped>\n",
       "    .dataframe tbody tr th:only-of-type {\n",
       "        vertical-align: middle;\n",
       "    }\n",
       "\n",
       "    .dataframe tbody tr th {\n",
       "        vertical-align: top;\n",
       "    }\n",
       "\n",
       "    .dataframe thead th {\n",
       "        text-align: right;\n",
       "    }\n",
       "</style>\n",
       "<table border=\"1\" class=\"dataframe\">\n",
       "  <thead>\n",
       "    <tr style=\"text-align: right;\">\n",
       "      <th></th>\n",
       "      <th>0</th>\n",
       "      <th>1</th>\n",
       "      <th>2</th>\n",
       "      <th>3</th>\n",
       "      <th>4</th>\n",
       "      <th>5</th>\n",
       "      <th>6</th>\n",
       "      <th>7</th>\n",
       "      <th>8</th>\n",
       "      <th>9</th>\n",
       "      <th>10</th>\n",
       "      <th>11</th>\n",
       "      <th>12</th>\n",
       "      <th>13</th>\n",
       "    </tr>\n",
       "  </thead>\n",
       "  <tbody>\n",
       "    <tr>\n",
       "      <th>0</th>\n",
       "      <td>1.267431</td>\n",
       "      <td>-0.227388</td>\n",
       "      <td>0.333324</td>\n",
       "      <td>-0.982847</td>\n",
       "      <td>-0.982445</td>\n",
       "      <td>-0.806472</td>\n",
       "      <td>0.043624</td>\n",
       "      <td>-0.070934</td>\n",
       "      <td>-1.029996</td>\n",
       "      <td>1.256086</td>\n",
       "      <td>-1.386281</td>\n",
       "      <td>-0.892360</td>\n",
       "      <td>1.633260</td>\n",
       "      <td>1.221633</td>\n",
       "    </tr>\n",
       "    <tr>\n",
       "      <th>2</th>\n",
       "      <td>0.402746</td>\n",
       "      <td>0.173093</td>\n",
       "      <td>-0.274010</td>\n",
       "      <td>-0.745897</td>\n",
       "      <td>0.418745</td>\n",
       "      <td>0.443825</td>\n",
       "      <td>-0.076837</td>\n",
       "      <td>0.588433</td>\n",
       "      <td>1.452426</td>\n",
       "      <td>0.190581</td>\n",
       "      <td>-1.055481</td>\n",
       "      <td>0.353509</td>\n",
       "      <td>0.385436</td>\n",
       "      <td>0.912561</td>\n",
       "    </tr>\n",
       "    <tr>\n",
       "      <th>4</th>\n",
       "      <td>-0.275430</td>\n",
       "      <td>0.825965</td>\n",
       "      <td>-0.026833</td>\n",
       "      <td>-1.361004</td>\n",
       "      <td>-1.124275</td>\n",
       "      <td>-1.189422</td>\n",
       "      <td>-0.399223</td>\n",
       "      <td>0.952970</td>\n",
       "      <td>0.609169</td>\n",
       "      <td>0.435510</td>\n",
       "      <td>-0.679522</td>\n",
       "      <td>-0.370230</td>\n",
       "      <td>0.683894</td>\n",
       "      <td>0.316260</td>\n",
       "    </tr>\n",
       "  </tbody>\n",
       "</table>\n",
       "</div>"
      ],
      "text/plain": [
       "          0         1         2         3         4         5         6  \\\n",
       "0  1.267431 -0.227388  0.333324 -0.982847 -0.982445 -0.806472  0.043624   \n",
       "2  0.402746  0.173093 -0.274010 -0.745897  0.418745  0.443825 -0.076837   \n",
       "4 -0.275430  0.825965 -0.026833 -1.361004 -1.124275 -1.189422 -0.399223   \n",
       "\n",
       "          7         8         9        10        11        12        13  \n",
       "0 -0.070934 -1.029996  1.256086 -1.386281 -0.892360  1.633260  1.221633  \n",
       "2  0.588433  1.452426  0.190581 -1.055481  0.353509  0.385436  0.912561  \n",
       "4  0.952970  0.609169  0.435510 -0.679522 -0.370230  0.683894  0.316260  "
      ]
     },
     "execution_count": 40,
     "metadata": {},
     "output_type": "execute_result"
    }
   ],
   "source": [
    "d[d.Dist < 1.6].drop(['Label', 'Dist'], axis=1)"
   ]
  },
  {
   "cell_type": "code",
   "execution_count": 42,
   "id": "82e1ded3-0867-4eab-b322-fb1317f617e5",
   "metadata": {},
   "outputs": [
    {
     "data": {
      "text/plain": [
       "0"
      ]
     },
     "execution_count": 42,
     "metadata": {},
     "output_type": "execute_result"
    }
   ],
   "source": [
    "sum([False])"
   ]
  },
  {
   "cell_type": "code",
   "execution_count": null,
   "id": "262662f1-8f29-488e-88cf-5b4be40b5259",
   "metadata": {},
   "outputs": [],
   "source": []
  }
 ],
 "metadata": {
  "kernelspec": {
   "display_name": "Python 3 (ipykernel)",
   "language": "python",
   "name": "python3"
  },
  "language_info": {
   "codemirror_mode": {
    "name": "ipython",
    "version": 3
   },
   "file_extension": ".py",
   "mimetype": "text/x-python",
   "name": "python",
   "nbconvert_exporter": "python",
   "pygments_lexer": "ipython3",
   "version": "3.9.9"
  }
 },
 "nbformat": 4,
 "nbformat_minor": 5
}
