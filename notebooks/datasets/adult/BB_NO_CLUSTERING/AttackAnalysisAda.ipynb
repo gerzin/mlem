{
 "cells": [
  {
   "cell_type": "markdown",
   "id": "c92c35d0-0da7-4969-a365-c1feda2294d3",
   "metadata": {},
   "source": [
    "# Analysis of the attack on Adult without clustering before the construction of the blackbox\n",
    "\n",
    "For this attack I used adaboost instead of the random forests both for the shadow models and the attack models"
   ]
  },
  {
   "cell_type": "code",
   "execution_count": 17,
   "id": "e34c4c09-274b-4eab-9f1a-f8fb1d6e0ef1",
   "metadata": {},
   "outputs": [],
   "source": [
    "import numpy as np\n",
    "import pandas as pd\n",
    "import matplotlib.pyplot as plt\n",
    "import seaborn as sns; sns.set()\n",
    "from pathlib import Path\n",
    "import os\n",
    "import sys\n",
    "import bz2\n",
    "import pickle\n",
    "np.random.seed(10)\n",
    "# adds the visibility of the mlem module, needed to load the attack models\n",
    "sys.path.append(\"../../../..\") \n",
    "import mlem\n",
    "from mlem.ensemble import HardVotingClassifier"
   ]
  },
  {
   "cell_type": "code",
   "execution_count": 2,
   "id": "88d1ae1d-3e20-46e9-b407-d45d4284012b",
   "metadata": {},
   "outputs": [],
   "source": [
    "import warnings"
   ]
  },
  {
   "cell_type": "code",
   "execution_count": 3,
   "id": "a958a5b0-dfac-4ddc-9ced-706ac87bd600",
   "metadata": {},
   "outputs": [],
   "source": [
    "BLACK_BOX_PATH = './adult_rf_noclustering.bz2'\n",
    "EXPERIMENTS_RESULTS_FOLDER = \"/home/gerardozinno/Desktop/adult_results_noclust_ada/gaussian/same\"\n",
    "BLACK_BOX_DATA_PATH = './adult_rf_noclustering_data.npz'\n",
    "TRAIN_SET_CSV = 'train.csv'\n",
    "TEST_SET_CSV  = 'test.csv'\n",
    "NOISY_VALIDATION_SET_CSV = 'validation_noisy.csv'\n",
    "CENTROIDS_NEIGHBORS = 'clusters_representatives_quantiles.csv'"
   ]
  },
  {
   "cell_type": "code",
   "execution_count": 4,
   "id": "6b8d9ef6-5330-4de7-96b7-9ba63204ecca",
   "metadata": {},
   "outputs": [],
   "source": [
    "def get_attack_mod(index:int, targets=[0,1], base_folder=EXPERIMENTS_RESULTS_FOLDER):\n",
    "    \"\"\"\n",
    "    Args:\n",
    "        index - row of the dataset on which the attack model was built\n",
    "        targets (int | List(int)) - targets for the attack model.\n",
    "    Returns:\n",
    "        List containing the attack models (or model) for that particular index\n",
    "    \"\"\"\n",
    "    if type(targets) is int:\n",
    "        targets = [targets]\n",
    "    loaded_models = []\n",
    "    for t in targets:\n",
    "        path = f\"{base_folder}/{index}/attack/{t}/model.pkl.bz2\"\n",
    "        with bz2.BZ2File(path) as f:\n",
    "            data = pickle.load(f)\n",
    "            loaded_models.append(data)\n",
    "    return loaded_models\n",
    "        \n",
    "def get_local_model(index:int, base_folder=EXPERIMENTS_RESULTS_FOLDER):\n",
    "    \"\"\"\n",
    "    Args:\n",
    "        index - row of the dataset on which the local model was built.\n",
    "    Returns:\n",
    "        Local model\n",
    "    \"\"\"\n",
    "    path = f\"{base_folder}/{index}/black_box\"\n",
    "    local_model_path = f\"{path}/model.pkl.bz2\"\n",
    "    with bz2.BZ2File(local_model_path) as lm:\n",
    "        local_model = pickle.load(lm)\n",
    "    return local_model\n",
    "\n",
    "def get_local_model_data(index: int, base_folder=EXPERIMENTS_RESULTS_FOLDER):\n",
    "    \"\"\"\n",
    "    Args:\n",
    "        index - row of the dataset on which the local model was built.\n",
    "    Returns:\n",
    "        Structure with keys x and y\n",
    "    \"\"\"\n",
    "    path = f\"{base_folder}/{index}/black_box\"\n",
    "    data_path = f\"{path}/data.npz\"\n",
    "    loaded = np.load(data_path, allow_pickle=True)\n",
    "    return loaded\n",
    "\n",
    "#def get_subset_target_cluster(df, target, cluster):\n",
    "#    \"\"\"\n",
    "#    Returns the subset of a dataframe with the specified target and cluster.\n",
    "#    \"\"\"\n",
    "#    tmp = df[df['Target'] == target]\n",
    "#    return tmp[tmp['Cluster'] == cluster]\n",
    "\n",
    "def get_subset_cluster(df, cluster):\n",
    "    \"\"\"\n",
    "    Returns the subset of a dataframe with the specified Cluster.\n",
    "    \"\"\"\n",
    "    return df[df['Cluster'] == cluster]\n",
    "\n",
    "def split_probs_array(arr):\n",
    "    \"\"\"\n",
    "    \n",
    "    \"\"\"\n",
    "    n_classes = len(arr[0])\n",
    "    separated = []\n",
    "    max_index_row = np.argmax(arr, axis=1)\n",
    "    for c in range(n_classes):\n",
    "        separated.append(arr[max_index_row == c])\n",
    "    return separated"
   ]
  },
  {
   "cell_type": "markdown",
   "id": "29ba8508-b4d8-459a-bef3-f3b166fa460f",
   "metadata": {},
   "source": [
    "loading the data and the black box"
   ]
  },
  {
   "cell_type": "code",
   "execution_count": 6,
   "id": "99da8562-fede-4f17-9f56-f7a0384591fc",
   "metadata": {},
   "outputs": [
    {
     "data": {
      "text/html": [
       "<style>#sk-container-id-1 {color: black;background-color: white;}#sk-container-id-1 pre{padding: 0;}#sk-container-id-1 div.sk-toggleable {background-color: white;}#sk-container-id-1 label.sk-toggleable__label {cursor: pointer;display: block;width: 100%;margin-bottom: 0;padding: 0.3em;box-sizing: border-box;text-align: center;}#sk-container-id-1 label.sk-toggleable__label-arrow:before {content: \"▸\";float: left;margin-right: 0.25em;color: #696969;}#sk-container-id-1 label.sk-toggleable__label-arrow:hover:before {color: black;}#sk-container-id-1 div.sk-estimator:hover label.sk-toggleable__label-arrow:before {color: black;}#sk-container-id-1 div.sk-toggleable__content {max-height: 0;max-width: 0;overflow: hidden;text-align: left;background-color: #f0f8ff;}#sk-container-id-1 div.sk-toggleable__content pre {margin: 0.2em;color: black;border-radius: 0.25em;background-color: #f0f8ff;}#sk-container-id-1 input.sk-toggleable__control:checked~div.sk-toggleable__content {max-height: 200px;max-width: 100%;overflow: auto;}#sk-container-id-1 input.sk-toggleable__control:checked~label.sk-toggleable__label-arrow:before {content: \"▾\";}#sk-container-id-1 div.sk-estimator input.sk-toggleable__control:checked~label.sk-toggleable__label {background-color: #d4ebff;}#sk-container-id-1 div.sk-label input.sk-toggleable__control:checked~label.sk-toggleable__label {background-color: #d4ebff;}#sk-container-id-1 input.sk-hidden--visually {border: 0;clip: rect(1px 1px 1px 1px);clip: rect(1px, 1px, 1px, 1px);height: 1px;margin: -1px;overflow: hidden;padding: 0;position: absolute;width: 1px;}#sk-container-id-1 div.sk-estimator {font-family: monospace;background-color: #f0f8ff;border: 1px dotted black;border-radius: 0.25em;box-sizing: border-box;margin-bottom: 0.5em;}#sk-container-id-1 div.sk-estimator:hover {background-color: #d4ebff;}#sk-container-id-1 div.sk-parallel-item::after {content: \"\";width: 100%;border-bottom: 1px solid gray;flex-grow: 1;}#sk-container-id-1 div.sk-label:hover label.sk-toggleable__label {background-color: #d4ebff;}#sk-container-id-1 div.sk-serial::before {content: \"\";position: absolute;border-left: 1px solid gray;box-sizing: border-box;top: 0;bottom: 0;left: 50%;z-index: 0;}#sk-container-id-1 div.sk-serial {display: flex;flex-direction: column;align-items: center;background-color: white;padding-right: 0.2em;padding-left: 0.2em;position: relative;}#sk-container-id-1 div.sk-item {position: relative;z-index: 1;}#sk-container-id-1 div.sk-parallel {display: flex;align-items: stretch;justify-content: center;background-color: white;position: relative;}#sk-container-id-1 div.sk-item::before, #sk-container-id-1 div.sk-parallel-item::before {content: \"\";position: absolute;border-left: 1px solid gray;box-sizing: border-box;top: 0;bottom: 0;left: 50%;z-index: -1;}#sk-container-id-1 div.sk-parallel-item {display: flex;flex-direction: column;z-index: 1;position: relative;background-color: white;}#sk-container-id-1 div.sk-parallel-item:first-child::after {align-self: flex-end;width: 50%;}#sk-container-id-1 div.sk-parallel-item:last-child::after {align-self: flex-start;width: 50%;}#sk-container-id-1 div.sk-parallel-item:only-child::after {width: 0;}#sk-container-id-1 div.sk-dashed-wrapped {border: 1px dashed gray;margin: 0 0.4em 0.5em 0.4em;box-sizing: border-box;padding-bottom: 0.4em;background-color: white;}#sk-container-id-1 div.sk-label label {font-family: monospace;font-weight: bold;display: inline-block;line-height: 1.2em;}#sk-container-id-1 div.sk-label-container {text-align: center;}#sk-container-id-1 div.sk-container {/* jupyter's `normalize.less` sets `[hidden] { display: none; }` but bootstrap.min.css set `[hidden] { display: none !important; }` so we also need the `!important` here to be able to override the default hidden behavior on the sphinx rendered scikit-learn.org. See: https://github.com/scikit-learn/scikit-learn/issues/21755 */display: inline-block !important;position: relative;}#sk-container-id-1 div.sk-text-repr-fallback {display: none;}</style><div id=\"sk-container-id-1\" class=\"sk-top-container\"><div class=\"sk-text-repr-fallback\"><pre>RandomForestClassifier(max_depth=100, min_samples_leaf=10, min_samples_split=10)</pre><b>In a Jupyter environment, please rerun this cell to show the HTML representation or trust the notebook. <br />On GitHub, the HTML representation is unable to render, please try loading this page with nbviewer.org.</b></div><div class=\"sk-container\" hidden><div class=\"sk-item\"><div class=\"sk-estimator sk-toggleable\"><input class=\"sk-toggleable__control sk-hidden--visually\" id=\"sk-estimator-id-1\" type=\"checkbox\" checked><label for=\"sk-estimator-id-1\" class=\"sk-toggleable__label sk-toggleable__label-arrow\">RandomForestClassifier</label><div class=\"sk-toggleable__content\"><pre>RandomForestClassifier(max_depth=100, min_samples_leaf=10, min_samples_split=10)</pre></div></div></div></div></div>"
      ],
      "text/plain": [
       "RandomForestClassifier(max_depth=100, min_samples_leaf=10, min_samples_split=10)"
      ]
     },
     "execution_count": 6,
     "metadata": {},
     "output_type": "execute_result"
    }
   ],
   "source": [
    "with bz2.BZ2File(BLACK_BOX_PATH) as f:\n",
    "    black_box = pickle.load(f)\n",
    "black_box"
   ]
  },
  {
   "cell_type": "code",
   "execution_count": 7,
   "id": "52634090-304b-4222-885b-83e4699a84e3",
   "metadata": {},
   "outputs": [
    {
     "name": "stdout",
     "output_type": "stream",
     "text": [
      "x_train x_test y_train y_test x_test_clustered y_test_clustered "
     ]
    }
   ],
   "source": [
    "loaded = np.load(BLACK_BOX_DATA_PATH, allow_pickle=True)\n",
    "for k in loaded.keys():\n",
    "    print(k, end=\" \")"
   ]
  },
  {
   "cell_type": "code",
   "execution_count": 8,
   "id": "dcf8bdd7-839d-4651-b8d3-0edb3ff7304c",
   "metadata": {},
   "outputs": [],
   "source": [
    "x_train = loaded[\"x_train\"]\n",
    "x_test = loaded[\"x_test\"]\n",
    "y_train = loaded[\"y_train\"]\n",
    "y_test = loaded[\"y_test\"]\n",
    "x_test_clustered = loaded[\"x_test_clustered\"]\n",
    "y_test_clustered = loaded[\"y_test_clustered\"]"
   ]
  },
  {
   "cell_type": "code",
   "execution_count": 10,
   "id": "c87c4547-3442-4956-bb83-c3167e56e257",
   "metadata": {},
   "outputs": [],
   "source": [
    "feat_cols = [\n",
    "    'Age', 'Workclass', 'Fnlwgt', 'Education', 'Education-num', 'Marital-status',\n",
    "    'Occupation', 'Relationship', 'Race', 'Sex', 'Capital-gain', 'Capital-loss',\n",
    "    'Hours-per-week', 'Native-country'\n",
    "]\n",
    "adult_train = pd.read_csv(TRAIN_SET_CSV)\n",
    "adult_test = pd.read_csv(TEST_SET_CSV)\n",
    "adult_test_subset_cluster = pd.read_csv(CENTROIDS_NEIGHBORS)"
   ]
  },
  {
   "cell_type": "code",
   "execution_count": 11,
   "id": "d55fb7b2-3a3c-482c-8672-268814f00f11",
   "metadata": {},
   "outputs": [],
   "source": [
    "from sklearn.metrics import classification_report, ConfusionMatrixDisplay"
   ]
  },
  {
   "cell_type": "code",
   "execution_count": 13,
   "id": "d9732b96-3293-4055-9fe5-4d583e993e01",
   "metadata": {},
   "outputs": [],
   "source": [
    "feat_cols = [\n",
    "    'Age', 'Workclass', 'Fnlwgt', 'Education', 'Education-num', 'Marital-status',\n",
    "    'Occupation', 'Relationship', 'Race', 'Sex', 'Capital-gain', 'Capital-loss',\n",
    "    'Hours-per-week', 'Native-country'\n",
    "]\n",
    "\n",
    "BASE_RESULTS_PATH = Path(\"ADA_ATTACK_RESULTS\")\n",
    "BASE_RESULTS_PATH.mkdir(exist_ok=True)"
   ]
  },
  {
   "cell_type": "markdown",
   "id": "a99016e8-23b3-48dc-a4b1-8d68b113e8fd",
   "metadata": {},
   "source": [
    "# Attack with the Hard Voting Classifier"
   ]
  },
  {
   "cell_type": "markdown",
   "id": "638eeeea-b87d-433c-a1b1-93b40e007b2e",
   "metadata": {},
   "source": [
    "Attack with 48 voting classifiers"
   ]
  },
  {
   "cell_type": "code",
   "execution_count": 21,
   "id": "89ca6614-b727-4c72-b603-01182be81fc9",
   "metadata": {},
   "outputs": [
    {
     "name": "stderr",
     "output_type": "stream",
     "text": [
      "/home/gerardozinno/.pyenv/versions/ml-environment/lib/python3.9/site-packages/sklearn/base.py:329: UserWarning: Trying to unpickle estimator DecisionTreeClassifier from version 1.0.2 when using version 1.1.1. This might lead to breaking code or invalid results. Use at your own risk. For more info please refer to:\n",
      "https://scikit-learn.org/stable/model_persistence.html#security-maintainability-limitations\n",
      "  warnings.warn(\n",
      "/home/gerardozinno/.pyenv/versions/ml-environment/lib/python3.9/site-packages/sklearn/base.py:329: UserWarning: Trying to unpickle estimator AdaBoostClassifier from version 1.0.2 when using version 1.1.1. This might lead to breaking code or invalid results. Use at your own risk. For more info please refer to:\n",
      "https://scikit-learn.org/stable/model_persistence.html#security-maintainability-limitations\n",
      "  warnings.warn(\n"
     ]
    }
   ],
   "source": [
    "ATTACK_0, ATTACK_1 = [], []\n",
    "\n",
    "for index in range(len(x_test_clustered)):\n",
    "    atk0, atk1 = get_attack_mod(index)\n",
    "    ATTACK_0.append(atk0)\n",
    "    ATTACK_1.append(atk1)\n",
    "assert (len(ATTACK_0) == len(ATTACK_1)) and (len(ATTACK_0) == len(x_test_clustered))\n",
    "        \n",
    "ensemble_0 = HardVotingClassifier(classifiers=ATTACK_0)\n",
    "ensemble_1 = HardVotingClassifier(classifiers=ATTACK_1)"
   ]
  },
  {
   "cell_type": "code",
   "execution_count": 22,
   "id": "7ed6f4d8-9030-42e7-815a-1a9e80da964a",
   "metadata": {},
   "outputs": [],
   "source": [
    "TRAIN = adult_train[feat_cols]\n",
    "TEST = adult_test[feat_cols]"
   ]
  },
  {
   "cell_type": "code",
   "execution_count": 23,
   "id": "21898ed4-f1e9-41a1-a94e-d35eb72c5e4a",
   "metadata": {},
   "outputs": [],
   "source": [
    "TRAIN_PREDICTIONS = black_box.predict_proba(TRAIN.to_numpy())\n",
    "TEST_PREDICTIONS  = black_box.predict_proba(TEST.to_numpy())"
   ]
  },
  {
   "cell_type": "markdown",
   "id": "e65e5b0d-0bcd-4f77-b1d7-1710145b946a",
   "metadata": {},
   "source": [
    "Now I let the ensemble_0 evaluate the train / test predictions belonging to class 0. Then I do the same for ensemble 1."
   ]
  },
  {
   "cell_type": "code",
   "execution_count": 24,
   "id": "dc298673-08de-46da-b591-e82d666f23b5",
   "metadata": {},
   "outputs": [],
   "source": [
    "TRAIN_PREDICTIONS_0 = TRAIN_PREDICTIONS[adult_train['Target'] == 0]\n",
    "TRAIN_PREDICTIONS_1 = TRAIN_PREDICTIONS[adult_train['Target'] == 1]\n",
    "TEST_PREDICTIONS_0 = TEST_PREDICTIONS[adult_test['Target'] == 0]\n",
    "TEST_PREDICTIONS_1 = TEST_PREDICTIONS[adult_test['Target'] == 1]"
   ]
  },
  {
   "cell_type": "code",
   "execution_count": 25,
   "id": "349df454-7c11-44c4-9974-7777456b64b2",
   "metadata": {},
   "outputs": [],
   "source": [
    "IN_0 = ensemble_0.predict(TRAIN_PREDICTIONS_0)\n",
    "IN_1 = ensemble_1.predict(TRAIN_PREDICTIONS_1)\n",
    "OUT_0 = ensemble_0.predict(TEST_PREDICTIONS_0)\n",
    "OUT_1 = ensemble_1.predict(TEST_PREDICTIONS_1)"
   ]
  },
  {
   "cell_type": "code",
   "execution_count": 26,
   "id": "9ec3b744-5422-48d6-98e7-f09bbcfedf73",
   "metadata": {},
   "outputs": [],
   "source": [
    "INS = np.concatenate([IN_0, IN_1])\n",
    "OUTS = np.concatenate([OUT_0, OUT_1])"
   ]
  },
  {
   "cell_type": "code",
   "execution_count": 27,
   "id": "8932a3be-4d06-4626-b1ba-139ffd455d0c",
   "metadata": {},
   "outputs": [
    {
     "name": "stdout",
     "output_type": "stream",
     "text": [
      "len(number_outs)/len(OUTS)=0.13892728780757535\n",
      "len(number_even)/len(OUTS)=0.0\n"
     ]
    }
   ],
   "source": [
    "number_outs = [x for x in OUTS if x == \"out\"]\n",
    "number_even = [x for x in OUTS if x == \"even\"]\n",
    "print(f\"{len(number_outs)/len(OUTS)=}\")\n",
    "print(f\"{len(number_even)/len(OUTS)=}\")"
   ]
  },
  {
   "cell_type": "code",
   "execution_count": 28,
   "id": "0174243f-d048-435b-8ef2-d02b09dc445c",
   "metadata": {},
   "outputs": [],
   "source": [
    "INS_MASK = ['in'] * len(INS)\n",
    "OUTS_MASK = ['out'] * len(OUTS)\n",
    "INOUTS = np.concatenate([INS, OUTS])\n",
    "EVEN_MASK = INOUTS != \"even\" # to mask away the even value"
   ]
  },
  {
   "cell_type": "code",
   "execution_count": 29,
   "id": "6c175f82-9618-45cb-a1d3-c9624070fddc",
   "metadata": {},
   "outputs": [
    {
     "name": "stdout",
     "output_type": "stream",
     "text": [
      "              precision    recall  f1-score   support\n",
      "\n",
      "          in       0.70      0.88      0.78     16877\n",
      "         out       0.33      0.14      0.19      7234\n",
      "\n",
      "    accuracy                           0.66     24111\n",
      "   macro avg       0.51      0.51      0.49     24111\n",
      "weighted avg       0.59      0.66      0.60     24111\n",
      "\n"
     ]
    }
   ],
   "source": [
    "print(classification_report(np.array(INS_MASK + OUTS_MASK)[EVEN_MASK], INOUTS[EVEN_MASK]))"
   ]
  },
  {
   "cell_type": "code",
   "execution_count": 30,
   "id": "aa2e91e3-e9d9-487e-9a43-c2a87dd7771e",
   "metadata": {},
   "outputs": [
    {
     "data": {
      "text/plain": [
       "<sklearn.metrics._plot.confusion_matrix.ConfusionMatrixDisplay at 0x7f66a83ffb20>"
      ]
     },
     "execution_count": 30,
     "metadata": {},
     "output_type": "execute_result"
    },
    {
     "data": {
      "image/png": "[encoded data removed]",
      "text/plain": [
       "<Figure size 432x288 with 2 Axes>"
      ]
     },
     "metadata": {},
     "output_type": "display_data"
    }
   ],
   "source": [
    "ConfusionMatrixDisplay.from_predictions(np.array(INS_MASK + OUTS_MASK)[EVEN_MASK], INOUTS[EVEN_MASK])"
   ]
  }
 ],
 "metadata": {
  "kernelspec": {
   "display_name": "Python 3 (ipykernel)",
   "language": "python",
   "name": "python3"
  },
  "language_info": {
   "codemirror_mode": {
    "name": "ipython",
    "version": 3
   },
   "file_extension": ".py",
   "mimetype": "text/x-python",
   "name": "python",
   "nbconvert_exporter": "python",
   "pygments_lexer": "ipython3",
   "version": "3.9.9"
  }
 },
 "nbformat": 4,
 "nbformat_minor": 5
}
