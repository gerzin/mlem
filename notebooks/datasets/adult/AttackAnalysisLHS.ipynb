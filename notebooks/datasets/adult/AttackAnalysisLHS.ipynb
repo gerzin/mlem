{
 "cells": [
  {
   "cell_type": "code",
   "execution_count": 1,
   "id": "330ac9c4-a44d-42c3-b22d-3b73837bc70c",
   "metadata": {},
   "outputs": [],
   "source": [
    "import numpy as np\n",
    "import pandas as pd\n",
    "import matplotlib.pyplot as plt\n",
    "import seaborn as sns; sns.set()\n",
    "from pathlib import Path\n",
    "import os\n",
    "import sys\n",
    "import bz2\n",
    "import pickle\n",
    "np.random.seed(10)\n",
    "# adds the visibility of the mlem module, needed to load the attack models\n",
    "sys.path.append(\"../../../\") \n",
    "import mlem"
   ]
  },
  {
   "cell_type": "code",
   "execution_count": 2,
   "id": "2eef9f54-9362-45e7-95dc-30608984ca21",
   "metadata": {},
   "outputs": [],
   "source": [
    "import warnings"
   ]
  },
  {
   "cell_type": "code",
   "execution_count": 3,
   "id": "3cdb6a43-5bdd-4e67-8676-8ec9e3f571e7",
   "metadata": {},
   "outputs": [],
   "source": [
    "EXPERIMENTS_FOLDER = \"/home/gerardozinno/Desktop/risultati_clustered_lhs/lhs/same\""
   ]
  },
  {
   "cell_type": "code",
   "execution_count": 4,
   "id": "4ef28eaa-ad71-4a5f-acbb-fdcbac18055a",
   "metadata": {},
   "outputs": [],
   "source": [
    "def get_attack_mod(index:int, targets=[0,1], base_folder=EXPERIMENTS_FOLDER):\n",
    "    \"\"\"\n",
    "    Args:\n",
    "        index - row of the dataset on which the attack model was built\n",
    "        targets (int | List(int)) - targets for the attack model.\n",
    "    Returns:\n",
    "        List containing the attack models (or model) for that particular index\n",
    "    \"\"\"\n",
    "    if type(targets) is int:\n",
    "        targets = [targets]\n",
    "    loaded_models = []\n",
    "    for t in targets:\n",
    "        path = f\"{EXPERIMENTS_FOLDER}/{index}/attack/{t}/model.pkl.bz2\"\n",
    "        with bz2.BZ2File(path) as f:\n",
    "            data = pickle.load(f)\n",
    "            loaded_models.append(data)\n",
    "    return loaded_models\n",
    "        \n",
    "def get_local_model(index:int, base_folder=EXPERIMENTS_FOLDER):\n",
    "    \"\"\"\n",
    "    Args:\n",
    "        index - row of the dataset on which the local model was built.\n",
    "    Returns:\n",
    "        Local model\n",
    "    \"\"\"\n",
    "    path = f\"{EXPERIMENTS_FOLDER}/{index}/black_box\"\n",
    "    local_model_path = f\"{path}/model.pkl.bz2\"\n",
    "    with bz2.BZ2File(local_model_path) as lm:\n",
    "        local_model = pickle.load(lm)\n",
    "    return local_model\n",
    "\n",
    "def get_local_model_data(index: int, base_folder=EXPERIMENTS_FOLDER):\n",
    "    \"\"\"\n",
    "    Args:\n",
    "        index - row of the dataset on which the local model was built.\n",
    "    Returns:\n",
    "        Structure with keys x and y\n",
    "    \"\"\"\n",
    "    path = f\"{EXPERIMENTS_FOLDER}/{index}/black_box\"\n",
    "    data_path = f\"{path}/data.npz\"\n",
    "    loaded = np.load(data_path, allow_pickle=True)\n",
    "    return loaded\n",
    "\n",
    "def get_subset_target_cluster(df, target, cluster):\n",
    "    \"\"\"\n",
    "    Returns the subset of a dataframe with the specified target and cluster.\n",
    "    \"\"\"\n",
    "    tmp = df[df['Target'] == target]\n",
    "    return tmp[tmp['Cluster'] == cluster]\n",
    "\n",
    "def split_probs_array(arr):\n",
    "    \"\"\"\n",
    "    \n",
    "    \"\"\"\n",
    "    n_classes = len(arr[0])\n",
    "    separated = []\n",
    "    max_index_row = np.argmax(arr, axis=1)\n",
    "    for c in range(n_classes):\n",
    "        separated.append(arr[max_index_row == c])\n",
    "    return separated"
   ]
  },
  {
   "cell_type": "markdown",
   "id": "2aeeab36-e36f-4883-92ae-40746f46733a",
   "metadata": {},
   "source": [
    "loading the data and the black box"
   ]
  },
  {
   "cell_type": "code",
   "execution_count": 5,
   "id": "60dbfa32-86cd-4e1a-8b57-83175fce51b6",
   "metadata": {},
   "outputs": [
    {
     "name": "stderr",
     "output_type": "stream",
     "text": [
      "/home/gerardozinno/.pyenv/versions/3.9.9/envs/ml-environment/lib/python3.9/site-packages/sklearn/base.py:329: UserWarning: Trying to unpickle estimator DecisionTreeClassifier from version 1.0.1 when using version 1.0.2. This might lead to breaking code or invalid results. Use at your own risk. For more info please refer to:\n",
      "https://scikit-learn.org/stable/modules/model_persistence.html#security-maintainability-limitations\n",
      "  warnings.warn(\n",
      "/home/gerardozinno/.pyenv/versions/3.9.9/envs/ml-environment/lib/python3.9/site-packages/sklearn/base.py:329: UserWarning: Trying to unpickle estimator RandomForestClassifier from version 1.0.1 when using version 1.0.2. This might lead to breaking code or invalid results. Use at your own risk. For more info please refer to:\n",
      "https://scikit-learn.org/stable/modules/model_persistence.html#security-maintainability-limitations\n",
      "  warnings.warn(\n"
     ]
    }
   ],
   "source": [
    "with bz2.BZ2File(\"./dataset_backups/adult_randfor.bz2\") as f:\n",
    "    black_box = pickle.load(f)"
   ]
  },
  {
   "cell_type": "code",
   "execution_count": 6,
   "id": "73a13703-d2d2-4f10-9047-dba29b70e5e3",
   "metadata": {},
   "outputs": [
    {
     "name": "stdout",
     "output_type": "stream",
     "text": [
      "x_train x_test y_train y_test x_test_clustered y_test_clustered "
     ]
    }
   ],
   "source": [
    "loaded = np.load(\"adult_randfor.data-extended.npz\", allow_pickle=True)\n",
    "for k in loaded.keys():\n",
    "    print(k, end=\" \")"
   ]
  },
  {
   "cell_type": "code",
   "execution_count": 7,
   "id": "66b5403a-f3d1-49b2-8c56-ea23fc7d3396",
   "metadata": {},
   "outputs": [],
   "source": [
    "x_train = loaded[\"x_train\"]\n",
    "x_test = loaded[\"x_test\"]\n",
    "y_train = loaded[\"y_train\"]\n",
    "y_test = loaded[\"y_test\"]\n",
    "x_test_clustered = loaded[\"x_test_clustered\"]\n",
    "y_test_clustered = loaded[\"y_test_clustered\"]"
   ]
  },
  {
   "cell_type": "markdown",
   "id": "e8b5730c-8269-40af-9e29-cada645919cd",
   "metadata": {},
   "source": [
    "doing some integrity checks"
   ]
  },
  {
   "cell_type": "code",
   "execution_count": 8,
   "id": "88158592-a2ea-46cc-ac44-02bd0519effc",
   "metadata": {},
   "outputs": [],
   "source": [
    "feat_cols = [\n",
    "    'Age', 'Workclass', 'Fnlwgt', 'Education', 'Education-num', 'Marital-status',\n",
    "    'Occupation', 'Relationship', 'Race', 'Sex', 'Capital-gain', 'Capital-loss',\n",
    "    'Hours-per-week', 'Native-country'\n",
    "]\n",
    "adult_train = pd.read_csv(\"adult_trainset.csv\")\n",
    "adult_test = pd.read_csv(\"adult_testset.csv\")\n",
    "adult_test_subset_cluster = pd.read_csv(\"adult_clustered_5_closest.csv\")\n",
    "assert (adult_train[feat_cols] == x_train).all().all() and \\\n",
    "       (adult_test[feat_cols] == x_test).all().all()   and \\\n",
    "       (adult_test_subset_cluster[feat_cols] == x_test_clustered).all().all()"
   ]
  },
  {
   "cell_type": "code",
   "execution_count": 9,
   "id": "6916381d-419e-4b03-b5c3-3f1a50469e3c",
   "metadata": {},
   "outputs": [],
   "source": [
    "adult_train_ones = adult_train[adult_train['Target'] == 1]\n",
    "adult_train_zeroes = adult_train[adult_train['Target'] == 0]"
   ]
  },
  {
   "cell_type": "code",
   "execution_count": 10,
   "id": "70528409-e861-4b03-baad-15ea662faee8",
   "metadata": {},
   "outputs": [
    {
     "data": {
      "text/html": [
       "<div>\n",
       "<style scoped>\n",
       "    .dataframe tbody tr th:only-of-type {\n",
       "        vertical-align: middle;\n",
       "    }\n",
       "\n",
       "    .dataframe tbody tr th {\n",
       "        vertical-align: top;\n",
       "    }\n",
       "\n",
       "    .dataframe thead th {\n",
       "        text-align: right;\n",
       "    }\n",
       "</style>\n",
       "<table border=\"1\" class=\"dataframe\">\n",
       "  <thead>\n",
       "    <tr style=\"text-align: right;\">\n",
       "      <th></th>\n",
       "      <th>Unnamed: 0</th>\n",
       "      <th>Age</th>\n",
       "      <th>Workclass</th>\n",
       "      <th>Fnlwgt</th>\n",
       "      <th>Education</th>\n",
       "      <th>Education-num</th>\n",
       "      <th>Marital-status</th>\n",
       "      <th>Occupation</th>\n",
       "      <th>Relationship</th>\n",
       "      <th>Race</th>\n",
       "      <th>Sex</th>\n",
       "      <th>Capital-gain</th>\n",
       "      <th>Capital-loss</th>\n",
       "      <th>Hours-per-week</th>\n",
       "      <th>Native-country</th>\n",
       "      <th>Target</th>\n",
       "      <th>Cluster</th>\n",
       "    </tr>\n",
       "  </thead>\n",
       "  <tbody>\n",
       "    <tr>\n",
       "      <th>12674</th>\n",
       "      <td>26860</td>\n",
       "      <td>1.032523</td>\n",
       "      <td>0.218918</td>\n",
       "      <td>-0.310837</td>\n",
       "      <td>0.164328</td>\n",
       "      <td>-0.440434</td>\n",
       "      <td>0.455011</td>\n",
       "      <td>0.061527</td>\n",
       "      <td>0.455728</td>\n",
       "      <td>0.263855</td>\n",
       "      <td>0.313955</td>\n",
       "      <td>-0.147502</td>\n",
       "      <td>-0.218673</td>\n",
       "      <td>-0.078031</td>\n",
       "      <td>0.254411</td>\n",
       "      <td>1</td>\n",
       "      <td>1</td>\n",
       "    </tr>\n",
       "    <tr>\n",
       "      <th>12675</th>\n",
       "      <td>26865</td>\n",
       "      <td>0.880215</td>\n",
       "      <td>0.218918</td>\n",
       "      <td>1.421195</td>\n",
       "      <td>0.263198</td>\n",
       "      <td>0.344281</td>\n",
       "      <td>0.455011</td>\n",
       "      <td>0.225590</td>\n",
       "      <td>0.455728</td>\n",
       "      <td>0.263855</td>\n",
       "      <td>0.313955</td>\n",
       "      <td>-0.147502</td>\n",
       "      <td>-0.218673</td>\n",
       "      <td>-0.078031</td>\n",
       "      <td>0.254411</td>\n",
       "      <td>1</td>\n",
       "      <td>1</td>\n",
       "    </tr>\n",
       "    <tr>\n",
       "      <th>12676</th>\n",
       "      <td>4411</td>\n",
       "      <td>0.347133</td>\n",
       "      <td>0.218918</td>\n",
       "      <td>1.082561</td>\n",
       "      <td>0.564576</td>\n",
       "      <td>1.521353</td>\n",
       "      <td>0.455011</td>\n",
       "      <td>0.448686</td>\n",
       "      <td>0.455728</td>\n",
       "      <td>0.263855</td>\n",
       "      <td>0.313955</td>\n",
       "      <td>-0.147502</td>\n",
       "      <td>-0.218673</td>\n",
       "      <td>0.756794</td>\n",
       "      <td>0.254411</td>\n",
       "      <td>1</td>\n",
       "      <td>3</td>\n",
       "    </tr>\n",
       "    <tr>\n",
       "      <th>12677</th>\n",
       "      <td>24148</td>\n",
       "      <td>0.575597</td>\n",
       "      <td>0.218918</td>\n",
       "      <td>-0.042629</td>\n",
       "      <td>0.056298</td>\n",
       "      <td>-1.225149</td>\n",
       "      <td>0.455011</td>\n",
       "      <td>0.061527</td>\n",
       "      <td>0.455728</td>\n",
       "      <td>0.263855</td>\n",
       "      <td>0.313955</td>\n",
       "      <td>-0.147502</td>\n",
       "      <td>-0.218673</td>\n",
       "      <td>0.339381</td>\n",
       "      <td>0.254411</td>\n",
       "      <td>1</td>\n",
       "      <td>1</td>\n",
       "    </tr>\n",
       "    <tr>\n",
       "      <th>12678</th>\n",
       "      <td>28103</td>\n",
       "      <td>1.032523</td>\n",
       "      <td>0.285829</td>\n",
       "      <td>-0.062930</td>\n",
       "      <td>0.076923</td>\n",
       "      <td>-0.832791</td>\n",
       "      <td>0.455011</td>\n",
       "      <td>0.485342</td>\n",
       "      <td>0.455728</td>\n",
       "      <td>0.263855</td>\n",
       "      <td>0.313955</td>\n",
       "      <td>-0.147502</td>\n",
       "      <td>-0.218673</td>\n",
       "      <td>0.756794</td>\n",
       "      <td>0.254411</td>\n",
       "      <td>1</td>\n",
       "      <td>1</td>\n",
       "    </tr>\n",
       "    <tr>\n",
       "      <th>...</th>\n",
       "      <td>...</td>\n",
       "      <td>...</td>\n",
       "      <td>...</td>\n",
       "      <td>...</td>\n",
       "      <td>...</td>\n",
       "      <td>...</td>\n",
       "      <td>...</td>\n",
       "      <td>...</td>\n",
       "      <td>...</td>\n",
       "      <td>...</td>\n",
       "      <td>...</td>\n",
       "      <td>...</td>\n",
       "      <td>...</td>\n",
       "      <td>...</td>\n",
       "      <td>...</td>\n",
       "      <td>...</td>\n",
       "      <td>...</td>\n",
       "    </tr>\n",
       "    <tr>\n",
       "      <th>16871</th>\n",
       "      <td>6010</td>\n",
       "      <td>-0.262102</td>\n",
       "      <td>0.218918</td>\n",
       "      <td>0.001145</td>\n",
       "      <td>0.421658</td>\n",
       "      <td>1.128996</td>\n",
       "      <td>0.455011</td>\n",
       "      <td>0.270647</td>\n",
       "      <td>0.493599</td>\n",
       "      <td>0.263855</td>\n",
       "      <td>0.113783</td>\n",
       "      <td>-0.147502</td>\n",
       "      <td>-0.218673</td>\n",
       "      <td>-0.912857</td>\n",
       "      <td>0.254411</td>\n",
       "      <td>1</td>\n",
       "      <td>3</td>\n",
       "    </tr>\n",
       "    <tr>\n",
       "      <th>16872</th>\n",
       "      <td>24384</td>\n",
       "      <td>0.956369</td>\n",
       "      <td>0.218918</td>\n",
       "      <td>0.388645</td>\n",
       "      <td>0.200180</td>\n",
       "      <td>-0.048076</td>\n",
       "      <td>0.455011</td>\n",
       "      <td>0.225590</td>\n",
       "      <td>0.455728</td>\n",
       "      <td>0.263855</td>\n",
       "      <td>0.313955</td>\n",
       "      <td>-0.147502</td>\n",
       "      <td>4.669585</td>\n",
       "      <td>1.591619</td>\n",
       "      <td>0.254411</td>\n",
       "      <td>1</td>\n",
       "      <td>0</td>\n",
       "    </tr>\n",
       "    <tr>\n",
       "      <th>16873</th>\n",
       "      <td>10776</td>\n",
       "      <td>1.184832</td>\n",
       "      <td>0.558659</td>\n",
       "      <td>-0.409070</td>\n",
       "      <td>0.164328</td>\n",
       "      <td>-0.440434</td>\n",
       "      <td>0.455011</td>\n",
       "      <td>0.225590</td>\n",
       "      <td>0.455728</td>\n",
       "      <td>0.263855</td>\n",
       "      <td>0.313955</td>\n",
       "      <td>-0.147502</td>\n",
       "      <td>-0.218673</td>\n",
       "      <td>-0.078031</td>\n",
       "      <td>0.254411</td>\n",
       "      <td>1</td>\n",
       "      <td>1</td>\n",
       "    </tr>\n",
       "    <tr>\n",
       "      <th>16874</th>\n",
       "      <td>3612</td>\n",
       "      <td>1.032523</td>\n",
       "      <td>0.387063</td>\n",
       "      <td>4.043523</td>\n",
       "      <td>0.421658</td>\n",
       "      <td>1.128996</td>\n",
       "      <td>0.455011</td>\n",
       "      <td>0.305159</td>\n",
       "      <td>0.455728</td>\n",
       "      <td>0.129972</td>\n",
       "      <td>0.313955</td>\n",
       "      <td>0.890157</td>\n",
       "      <td>-0.218673</td>\n",
       "      <td>-0.078031</td>\n",
       "      <td>0.254411</td>\n",
       "      <td>1</td>\n",
       "      <td>3</td>\n",
       "    </tr>\n",
       "    <tr>\n",
       "      <th>16875</th>\n",
       "      <td>13170</td>\n",
       "      <td>1.184832</td>\n",
       "      <td>0.285829</td>\n",
       "      <td>-1.121092</td>\n",
       "      <td>0.564576</td>\n",
       "      <td>1.521353</td>\n",
       "      <td>0.107312</td>\n",
       "      <td>0.448686</td>\n",
       "      <td>0.106689</td>\n",
       "      <td>0.263855</td>\n",
       "      <td>0.313955</td>\n",
       "      <td>-0.147502</td>\n",
       "      <td>-0.218673</td>\n",
       "      <td>0.756794</td>\n",
       "      <td>0.254411</td>\n",
       "      <td>1</td>\n",
       "      <td>3</td>\n",
       "    </tr>\n",
       "  </tbody>\n",
       "</table>\n",
       "<p>4202 rows × 17 columns</p>\n",
       "</div>"
      ],
      "text/plain": [
       "       Unnamed: 0       Age  Workclass    Fnlwgt  Education  Education-num  \\\n",
       "12674       26860  1.032523   0.218918 -0.310837   0.164328      -0.440434   \n",
       "12675       26865  0.880215   0.218918  1.421195   0.263198       0.344281   \n",
       "12676        4411  0.347133   0.218918  1.082561   0.564576       1.521353   \n",
       "12677       24148  0.575597   0.218918 -0.042629   0.056298      -1.225149   \n",
       "12678       28103  1.032523   0.285829 -0.062930   0.076923      -0.832791   \n",
       "...           ...       ...        ...       ...        ...            ...   \n",
       "16871        6010 -0.262102   0.218918  0.001145   0.421658       1.128996   \n",
       "16872       24384  0.956369   0.218918  0.388645   0.200180      -0.048076   \n",
       "16873       10776  1.184832   0.558659 -0.409070   0.164328      -0.440434   \n",
       "16874        3612  1.032523   0.387063  4.043523   0.421658       1.128996   \n",
       "16875       13170  1.184832   0.285829 -1.121092   0.564576       1.521353   \n",
       "\n",
       "       Marital-status  Occupation  Relationship      Race       Sex  \\\n",
       "12674        0.455011    0.061527      0.455728  0.263855  0.313955   \n",
       "12675        0.455011    0.225590      0.455728  0.263855  0.313955   \n",
       "12676        0.455011    0.448686      0.455728  0.263855  0.313955   \n",
       "12677        0.455011    0.061527      0.455728  0.263855  0.313955   \n",
       "12678        0.455011    0.485342      0.455728  0.263855  0.313955   \n",
       "...               ...         ...           ...       ...       ...   \n",
       "16871        0.455011    0.270647      0.493599  0.263855  0.113783   \n",
       "16872        0.455011    0.225590      0.455728  0.263855  0.313955   \n",
       "16873        0.455011    0.225590      0.455728  0.263855  0.313955   \n",
       "16874        0.455011    0.305159      0.455728  0.129972  0.313955   \n",
       "16875        0.107312    0.448686      0.106689  0.263855  0.313955   \n",
       "\n",
       "       Capital-gain  Capital-loss  Hours-per-week  Native-country  Target  \\\n",
       "12674     -0.147502     -0.218673       -0.078031        0.254411       1   \n",
       "12675     -0.147502     -0.218673       -0.078031        0.254411       1   \n",
       "12676     -0.147502     -0.218673        0.756794        0.254411       1   \n",
       "12677     -0.147502     -0.218673        0.339381        0.254411       1   \n",
       "12678     -0.147502     -0.218673        0.756794        0.254411       1   \n",
       "...             ...           ...             ...             ...     ...   \n",
       "16871     -0.147502     -0.218673       -0.912857        0.254411       1   \n",
       "16872     -0.147502      4.669585        1.591619        0.254411       1   \n",
       "16873     -0.147502     -0.218673       -0.078031        0.254411       1   \n",
       "16874      0.890157     -0.218673       -0.078031        0.254411       1   \n",
       "16875     -0.147502     -0.218673        0.756794        0.254411       1   \n",
       "\n",
       "       Cluster  \n",
       "12674        1  \n",
       "12675        1  \n",
       "12676        3  \n",
       "12677        1  \n",
       "12678        1  \n",
       "...        ...  \n",
       "16871        3  \n",
       "16872        0  \n",
       "16873        1  \n",
       "16874        3  \n",
       "16875        3  \n",
       "\n",
       "[4202 rows x 17 columns]"
      ]
     },
     "execution_count": 10,
     "metadata": {},
     "output_type": "execute_result"
    }
   ],
   "source": [
    "adult_train_ones"
   ]
  },
  {
   "cell_type": "code",
   "execution_count": 11,
   "id": "e5623564-b4c1-4303-9d51-4c006d24ccd1",
   "metadata": {},
   "outputs": [],
   "source": [
    "from sklearn.metrics import classification_report"
   ]
  },
  {
   "cell_type": "code",
   "execution_count": 12,
   "id": "569ad724-259f-4603-bf71-01272208fc2a",
   "metadata": {},
   "outputs": [
    {
     "name": "stdout",
     "output_type": "stream",
     "text": [
      "ind=0 targ=0 clus=0 adult_analysis_results_lhs/00_t0_c0\n",
      "ind=1 targ=0 clus=0 adult_analysis_results_lhs/01_t0_c0\n",
      "ind=2 targ=0 clus=0 adult_analysis_results_lhs/02_t0_c0\n",
      "ind=3 targ=0 clus=0 adult_analysis_results_lhs/03_t0_c0\n",
      "ind=4 targ=0 clus=0 adult_analysis_results_lhs/04_t0_c0\n",
      "ind=5 targ=0 clus=1 adult_analysis_results_lhs/05_t0_c1\n",
      "ind=6 targ=0 clus=1 adult_analysis_results_lhs/06_t0_c1\n",
      "ind=7 targ=0 clus=1 adult_analysis_results_lhs/07_t0_c1\n",
      "ind=8 targ=0 clus=1 adult_analysis_results_lhs/08_t0_c1\n",
      "ind=9 targ=0 clus=1 adult_analysis_results_lhs/09_t0_c1\n",
      "ind=10 targ=0 clus=2 adult_analysis_results_lhs/10_t0_c2\n",
      "ind=11 targ=0 clus=2 adult_analysis_results_lhs/11_t0_c2\n",
      "ind=12 targ=0 clus=2 adult_analysis_results_lhs/12_t0_c2\n",
      "ind=13 targ=0 clus=2 adult_analysis_results_lhs/13_t0_c2\n",
      "ind=14 targ=0 clus=2 adult_analysis_results_lhs/14_t0_c2\n",
      "ind=15 targ=0 clus=3 adult_analysis_results_lhs/15_t0_c3\n",
      "ind=16 targ=0 clus=3 adult_analysis_results_lhs/16_t0_c3\n",
      "ind=17 targ=0 clus=3 adult_analysis_results_lhs/17_t0_c3\n",
      "ind=18 targ=0 clus=3 adult_analysis_results_lhs/18_t0_c3\n",
      "ind=19 targ=0 clus=3 adult_analysis_results_lhs/19_t0_c3\n",
      "ind=20 targ=0 clus=4 adult_analysis_results_lhs/20_t0_c4\n",
      "ind=21 targ=0 clus=4 adult_analysis_results_lhs/21_t0_c4\n",
      "ind=22 targ=0 clus=4 adult_analysis_results_lhs/22_t0_c4\n",
      "ind=23 targ=0 clus=4 adult_analysis_results_lhs/23_t0_c4\n",
      "ind=24 targ=0 clus=4 adult_analysis_results_lhs/24_t0_c4\n",
      "ind=25 targ=1 clus=0 adult_analysis_results_lhs/25_t1_c0\n",
      "ind=26 targ=1 clus=0 adult_analysis_results_lhs/26_t1_c0\n",
      "ind=27 targ=1 clus=0 adult_analysis_results_lhs/27_t1_c0\n",
      "ind=28 targ=1 clus=0 adult_analysis_results_lhs/28_t1_c0\n",
      "ind=29 targ=1 clus=0 adult_analysis_results_lhs/29_t1_c0\n",
      "ind=30 targ=1 clus=1 adult_analysis_results_lhs/30_t1_c1\n",
      "ind=31 targ=1 clus=1 adult_analysis_results_lhs/31_t1_c1\n",
      "ind=32 targ=1 clus=1 adult_analysis_results_lhs/32_t1_c1\n",
      "ind=33 targ=1 clus=1 adult_analysis_results_lhs/33_t1_c1\n",
      "ind=34 targ=1 clus=1 adult_analysis_results_lhs/34_t1_c1\n",
      "ind=35 targ=1 clus=2 adult_analysis_results_lhs/35_t1_c2\n",
      "ind=36 targ=1 clus=2 adult_analysis_results_lhs/36_t1_c2\n",
      "ind=37 targ=1 clus=2 adult_analysis_results_lhs/37_t1_c2\n",
      "ind=38 targ=1 clus=2 adult_analysis_results_lhs/38_t1_c2\n",
      "ind=39 targ=1 clus=2 adult_analysis_results_lhs/39_t1_c2\n",
      "ind=40 targ=1 clus=3 adult_analysis_results_lhs/40_t1_c3\n",
      "ind=41 targ=1 clus=3 adult_analysis_results_lhs/41_t1_c3\n",
      "ind=42 targ=1 clus=3 adult_analysis_results_lhs/42_t1_c3\n",
      "ind=43 targ=1 clus=3 adult_analysis_results_lhs/43_t1_c3\n",
      "ind=44 targ=1 clus=3 adult_analysis_results_lhs/44_t1_c3\n"
     ]
    }
   ],
   "source": [
    "feat_cols = [\n",
    "    'Age', 'Workclass', 'Fnlwgt', 'Education', 'Education-num', 'Marital-status',\n",
    "    'Occupation', 'Relationship', 'Race', 'Sex', 'Capital-gain', 'Capital-loss',\n",
    "    'Hours-per-week', 'Native-country'\n",
    "]\n",
    "\n",
    "BASE_RESULTS_PATH = Path(\"adult_analysis_results_lhs\")\n",
    "BASE_RESULTS_PATH.mkdir(exist_ok=False)\n",
    "\n",
    "with warnings.catch_warnings():\n",
    "    warnings.simplefilter(\"ignore\")\n",
    "    # for each (target, cluster)...\n",
    "    for ind, (targ, clus) in enumerate(adult_test_subset_cluster[['Target', 'Cluster']].values):\n",
    "        ind_res_path = BASE_RESULTS_PATH / f\"{ind:02d}_t{targ}_c{clus}\"\n",
    "        ind_res_path.mkdir(exist_ok=True)\n",
    "        print(f\"{ind=} {targ=} {clus=} {ind_res_path}\")\n",
    "        # retrieve the attack models\n",
    "        attack_0, attack_1 = get_attack_mod(ind)\n",
    "\n",
    "        # TRAIN\n",
    "        train_path = ind_res_path / \"train\"\n",
    "        train_path.mkdir(exist_ok=\"true\")\n",
    "        # get the subset of the training set\n",
    "        train_subset = get_subset_target_cluster(adult_train, targ, clus)\n",
    "\n",
    "        probs_train = black_box.predict_proba(train_subset[feat_cols].to_numpy())\n",
    "        ones_train, zeroes_train = split_probs_array(probs_train)\n",
    "        assert len(zeroes_train) + len(ones_train) == len(probs_train)\n",
    "\n",
    "        if len(zeroes_train) > 0:\n",
    "            atk_0_train = attack_0.predict(zeroes_train)\n",
    "            report_0_train = classification_report([\"in\"]*len(atk_0_train), atk_0_train)\n",
    "            with open(str(train_path / \"0.txt\"), \"w\") as f:\n",
    "                f.write(report_0_train)\n",
    "\n",
    "        if len(ones_train) > 0:\n",
    "            atk_1_train = attack_1.predict(ones_train)\n",
    "            report_1_train = classification_report([\"in\"]*len(atk_1_train), atk_1_train)\n",
    "            with open(str(train_path / \"1.txt\"), \"w\") as f:\n",
    "                f.write(report_1_train)\n",
    "        \n",
    "        l0tr = len(zeroes_train)\n",
    "        l1tr = len(ones_train)\n",
    "        \n",
    "        train_results = None\n",
    "        if l0tr == 0:\n",
    "            train_results = atk_1_train\n",
    "        elif l1tr == 0:\n",
    "            train_results = atk_0_train\n",
    "        else:\n",
    "            train_results = np.concatenate((atk_0_train, atk_1_train))\n",
    "        with open(str(train_path / \"01.txt\"), \"w\") as f:\n",
    "            report_01_train = classification_report([\"in\"]*len(train_results), train_results)\n",
    "            f.write(report_01_train)\n",
    "\n",
    "        \n",
    "\n",
    "        #TEST\n",
    "        test_path = ind_res_path / \"test\"\n",
    "        test_path.mkdir(exist_ok=\"true\")\n",
    "        # get test subset of the test set\n",
    "        test_subset  = get_subset_target_cluster(adult_test, targ, clus)\n",
    "\n",
    "        probs_test = black_box.predict_proba(test_subset[feat_cols].to_numpy())\n",
    "        ones_test, zeroes_test = split_probs_array(probs_test)\n",
    "        assert len(zeroes_test) + len(ones_test) == len(probs_test)\n",
    "\n",
    "        if len(zeroes_test) > 0:\n",
    "            atk_0_test = attack_0.predict(zeroes_test)\n",
    "            report_0_test = classification_report([\"out\"] * len(atk_0_test), atk_0_test)\n",
    "            with open(str(test_path / \"0.txt\"), \"w\") as f:\n",
    "                f.write(report_0_test)\n",
    "\n",
    "        if len(ones_test) > 0:\n",
    "            atk_1_test = attack_0.predict(ones_test)\n",
    "            report_1_test = classification_report([\"out\"] * len(atk_1_test), atk_1_test)\n",
    "            with open(str(test_path / \"1.txt\"), \"w\") as f:\n",
    "                f.write(report_1_test)\n",
    "        \n",
    "        l0te = len(zeroes_test)\n",
    "        l1te = len(ones_test)\n",
    "        test_results = None\n",
    "        if l0te == 0:\n",
    "            test_results = atk_1_test\n",
    "        elif l1te == 0:\n",
    "            test_results = atk_0_test\n",
    "        else:\n",
    "            test_results = np.concatenate((atk_0_test, atk_1_test))\n",
    "            \n",
    "        with open(str(test_path / \"01.txt\"), \"w\") as f:\n",
    "            report_01_train = classification_report([\"out\"]*len(test_results), test_results)\n",
    "            f.write(report_01_train)\n",
    "        \n",
    "        # Concatenating test and train\n",
    "        with open(str(ind_res_path / \"traintest_full.txt\"), \"w\") as f:\n",
    "            full = np.concatenate((train_results, test_results))\n",
    "            mask = [\"in\"] * len(train_results) + [\"out\"] * len(test_results)\n",
    "            f.write(classification_report(mask, full))"
   ]
  },
  {
   "cell_type": "markdown",
   "id": "56172397-171e-4240-8cc7-de15b1284ad2",
   "metadata": {},
   "source": [
    "# Using a Voting classifier"
   ]
  },
  {
   "cell_type": "code",
   "execution_count": 19,
   "id": "014a3923-683c-4528-bcf4-ff556ee90282",
   "metadata": {},
   "outputs": [],
   "source": [
    "from sklearn.ensemble import VotingClassifier\n",
    "from sklearn.utils.validation import check_is_fitted"
   ]
  },
  {
   "cell_type": "code",
   "execution_count": 13,
   "id": "e098f99d-f06c-4914-96ce-4bc5509bb7bd",
   "metadata": {},
   "outputs": [
    {
     "name": "stdout",
     "output_type": "stream",
     "text": [
      "t=0 c=0 indices=[0, 1, 2, 3, 4]\n"
     ]
    },
    {
     "name": "stderr",
     "output_type": "stream",
     "text": [
      "/home/gerardozinno/.pyenv/versions/3.9.9/envs/ml-environment/lib/python3.9/site-packages/sklearn/base.py:329: UserWarning: Trying to unpickle estimator DecisionTreeClassifier from version 1.0.1 when using version 1.0.2. This might lead to breaking code or invalid results. Use at your own risk. For more info please refer to:\n",
      "https://scikit-learn.org/stable/modules/model_persistence.html#security-maintainability-limitations\n",
      "  warnings.warn(\n",
      "/home/gerardozinno/.pyenv/versions/3.9.9/envs/ml-environment/lib/python3.9/site-packages/sklearn/base.py:329: UserWarning: Trying to unpickle estimator RandomForestClassifier from version 1.0.1 when using version 1.0.2. This might lead to breaking code or invalid results. Use at your own risk. For more info please refer to:\n",
      "https://scikit-learn.org/stable/modules/model_persistence.html#security-maintainability-limitations\n",
      "  warnings.warn(\n"
     ]
    },
    {
     "name": "stdout",
     "output_type": "stream",
     "text": [
      "len(atk_0_train)=2 len(atk_1_train)=4126\n",
      "t=0 c=1 indices=[5, 6, 7, 8, 9]\n"
     ]
    },
    {
     "name": "stderr",
     "output_type": "stream",
     "text": [
      "/home/gerardozinno/.pyenv/versions/3.9.9/envs/ml-environment/lib/python3.9/site-packages/sklearn/metrics/_classification.py:1318: UndefinedMetricWarning: Precision and F-score are ill-defined and being set to 0.0 in labels with no predicted samples. Use `zero_division` parameter to control this behavior.\n",
      "  _warn_prf(average, modifier, msg_start, len(result))\n",
      "/home/gerardozinno/.pyenv/versions/3.9.9/envs/ml-environment/lib/python3.9/site-packages/sklearn/metrics/_classification.py:1318: UndefinedMetricWarning: Precision and F-score are ill-defined and being set to 0.0 in labels with no predicted samples. Use `zero_division` parameter to control this behavior.\n",
      "  _warn_prf(average, modifier, msg_start, len(result))\n",
      "/home/gerardozinno/.pyenv/versions/3.9.9/envs/ml-environment/lib/python3.9/site-packages/sklearn/metrics/_classification.py:1318: UndefinedMetricWarning: Precision and F-score are ill-defined and being set to 0.0 in labels with no predicted samples. Use `zero_division` parameter to control this behavior.\n",
      "  _warn_prf(average, modifier, msg_start, len(result))\n",
      "/home/gerardozinno/.pyenv/versions/3.9.9/envs/ml-environment/lib/python3.9/site-packages/sklearn/base.py:329: UserWarning: Trying to unpickle estimator DecisionTreeClassifier from version 1.0.1 when using version 1.0.2. This might lead to breaking code or invalid results. Use at your own risk. For more info please refer to:\n",
      "https://scikit-learn.org/stable/modules/model_persistence.html#security-maintainability-limitations\n",
      "  warnings.warn(\n",
      "/home/gerardozinno/.pyenv/versions/3.9.9/envs/ml-environment/lib/python3.9/site-packages/sklearn/base.py:329: UserWarning: Trying to unpickle estimator RandomForestClassifier from version 1.0.1 when using version 1.0.2. This might lead to breaking code or invalid results. Use at your own risk. For more info please refer to:\n",
      "https://scikit-learn.org/stable/modules/model_persistence.html#security-maintainability-limitations\n",
      "  warnings.warn(\n"
     ]
    },
    {
     "name": "stdout",
     "output_type": "stream",
     "text": [
      "len(atk_0_train)=421 len(atk_1_train)=2949\n",
      "t=0 c=2 indices=[10, 11, 12, 13, 14]\n"
     ]
    },
    {
     "name": "stderr",
     "output_type": "stream",
     "text": [
      "/home/gerardozinno/.pyenv/versions/3.9.9/envs/ml-environment/lib/python3.9/site-packages/sklearn/base.py:329: UserWarning: Trying to unpickle estimator DecisionTreeClassifier from version 1.0.1 when using version 1.0.2. This might lead to breaking code or invalid results. Use at your own risk. For more info please refer to:\n",
      "https://scikit-learn.org/stable/modules/model_persistence.html#security-maintainability-limitations\n",
      "  warnings.warn(\n",
      "/home/gerardozinno/.pyenv/versions/3.9.9/envs/ml-environment/lib/python3.9/site-packages/sklearn/base.py:329: UserWarning: Trying to unpickle estimator RandomForestClassifier from version 1.0.1 when using version 1.0.2. This might lead to breaking code or invalid results. Use at your own risk. For more info please refer to:\n",
      "https://scikit-learn.org/stable/modules/model_persistence.html#security-maintainability-limitations\n",
      "  warnings.warn(\n"
     ]
    },
    {
     "name": "stdout",
     "output_type": "stream",
     "text": [
      "len(atk_0_train)=81 len(atk_1_train)=2752\n",
      "t=0 c=3 indices=[15, 16, 17, 18, 19]\n"
     ]
    },
    {
     "name": "stderr",
     "output_type": "stream",
     "text": [
      "/home/gerardozinno/.pyenv/versions/3.9.9/envs/ml-environment/lib/python3.9/site-packages/sklearn/base.py:329: UserWarning: Trying to unpickle estimator DecisionTreeClassifier from version 1.0.1 when using version 1.0.2. This might lead to breaking code or invalid results. Use at your own risk. For more info please refer to:\n",
      "https://scikit-learn.org/stable/modules/model_persistence.html#security-maintainability-limitations\n",
      "  warnings.warn(\n",
      "/home/gerardozinno/.pyenv/versions/3.9.9/envs/ml-environment/lib/python3.9/site-packages/sklearn/base.py:329: UserWarning: Trying to unpickle estimator RandomForestClassifier from version 1.0.1 when using version 1.0.2. This might lead to breaking code or invalid results. Use at your own risk. For more info please refer to:\n",
      "https://scikit-learn.org/stable/modules/model_persistence.html#security-maintainability-limitations\n",
      "  warnings.warn(\n"
     ]
    },
    {
     "name": "stdout",
     "output_type": "stream",
     "text": [
      "len(atk_0_train)=50 len(atk_1_train)=1925\n",
      "t=0 c=4 indices=[20, 21, 22, 23, 24]\n"
     ]
    },
    {
     "name": "stderr",
     "output_type": "stream",
     "text": [
      "/home/gerardozinno/.pyenv/versions/3.9.9/envs/ml-environment/lib/python3.9/site-packages/sklearn/base.py:329: UserWarning: Trying to unpickle estimator DecisionTreeClassifier from version 1.0.1 when using version 1.0.2. This might lead to breaking code or invalid results. Use at your own risk. For more info please refer to:\n",
      "https://scikit-learn.org/stable/modules/model_persistence.html#security-maintainability-limitations\n",
      "  warnings.warn(\n",
      "/home/gerardozinno/.pyenv/versions/3.9.9/envs/ml-environment/lib/python3.9/site-packages/sklearn/base.py:329: UserWarning: Trying to unpickle estimator RandomForestClassifier from version 1.0.1 when using version 1.0.2. This might lead to breaking code or invalid results. Use at your own risk. For more info please refer to:\n",
      "https://scikit-learn.org/stable/modules/model_persistence.html#security-maintainability-limitations\n",
      "  warnings.warn(\n"
     ]
    },
    {
     "name": "stdout",
     "output_type": "stream",
     "text": [
      "len(atk_0_train)=32 len(atk_1_train)=336\n",
      "t=1 c=0 indices=[25, 26, 27, 28, 29]\n"
     ]
    },
    {
     "name": "stderr",
     "output_type": "stream",
     "text": [
      "/home/gerardozinno/.pyenv/versions/3.9.9/envs/ml-environment/lib/python3.9/site-packages/sklearn/metrics/_classification.py:1318: UndefinedMetricWarning: Precision and F-score are ill-defined and being set to 0.0 in labels with no predicted samples. Use `zero_division` parameter to control this behavior.\n",
      "  _warn_prf(average, modifier, msg_start, len(result))\n",
      "/home/gerardozinno/.pyenv/versions/3.9.9/envs/ml-environment/lib/python3.9/site-packages/sklearn/metrics/_classification.py:1318: UndefinedMetricWarning: Precision and F-score are ill-defined and being set to 0.0 in labels with no predicted samples. Use `zero_division` parameter to control this behavior.\n",
      "  _warn_prf(average, modifier, msg_start, len(result))\n",
      "/home/gerardozinno/.pyenv/versions/3.9.9/envs/ml-environment/lib/python3.9/site-packages/sklearn/metrics/_classification.py:1318: UndefinedMetricWarning: Precision and F-score are ill-defined and being set to 0.0 in labels with no predicted samples. Use `zero_division` parameter to control this behavior.\n",
      "  _warn_prf(average, modifier, msg_start, len(result))\n",
      "/home/gerardozinno/.pyenv/versions/3.9.9/envs/ml-environment/lib/python3.9/site-packages/sklearn/base.py:329: UserWarning: Trying to unpickle estimator DecisionTreeClassifier from version 1.0.1 when using version 1.0.2. This might lead to breaking code or invalid results. Use at your own risk. For more info please refer to:\n",
      "https://scikit-learn.org/stable/modules/model_persistence.html#security-maintainability-limitations\n",
      "  warnings.warn(\n",
      "/home/gerardozinno/.pyenv/versions/3.9.9/envs/ml-environment/lib/python3.9/site-packages/sklearn/base.py:329: UserWarning: Trying to unpickle estimator RandomForestClassifier from version 1.0.1 when using version 1.0.2. This might lead to breaking code or invalid results. Use at your own risk. For more info please refer to:\n",
      "https://scikit-learn.org/stable/modules/model_persistence.html#security-maintainability-limitations\n",
      "  warnings.warn(\n"
     ]
    },
    {
     "name": "stdout",
     "output_type": "stream",
     "text": [
      "len(atk_0_train)=363 len(atk_1_train)=48\n",
      "t=1 c=1 indices=[30, 31, 32, 33, 34]\n"
     ]
    },
    {
     "name": "stderr",
     "output_type": "stream",
     "text": [
      "/home/gerardozinno/.pyenv/versions/3.9.9/envs/ml-environment/lib/python3.9/site-packages/sklearn/base.py:329: UserWarning: Trying to unpickle estimator DecisionTreeClassifier from version 1.0.1 when using version 1.0.2. This might lead to breaking code or invalid results. Use at your own risk. For more info please refer to:\n",
      "https://scikit-learn.org/stable/modules/model_persistence.html#security-maintainability-limitations\n",
      "  warnings.warn(\n",
      "/home/gerardozinno/.pyenv/versions/3.9.9/envs/ml-environment/lib/python3.9/site-packages/sklearn/base.py:329: UserWarning: Trying to unpickle estimator RandomForestClassifier from version 1.0.1 when using version 1.0.2. This might lead to breaking code or invalid results. Use at your own risk. For more info please refer to:\n",
      "https://scikit-learn.org/stable/modules/model_persistence.html#security-maintainability-limitations\n",
      "  warnings.warn(\n"
     ]
    },
    {
     "name": "stdout",
     "output_type": "stream",
     "text": [
      "len(atk_0_train)=721 len(atk_1_train)=1062\n",
      "t=1 c=2 indices=[35, 36, 37, 38, 39]\n"
     ]
    },
    {
     "name": "stderr",
     "output_type": "stream",
     "text": [
      "/home/gerardozinno/.pyenv/versions/3.9.9/envs/ml-environment/lib/python3.9/site-packages/sklearn/metrics/_classification.py:1318: UndefinedMetricWarning: Precision and F-score are ill-defined and being set to 0.0 in labels with no predicted samples. Use `zero_division` parameter to control this behavior.\n",
      "  _warn_prf(average, modifier, msg_start, len(result))\n",
      "/home/gerardozinno/.pyenv/versions/3.9.9/envs/ml-environment/lib/python3.9/site-packages/sklearn/metrics/_classification.py:1318: UndefinedMetricWarning: Precision and F-score are ill-defined and being set to 0.0 in labels with no predicted samples. Use `zero_division` parameter to control this behavior.\n",
      "  _warn_prf(average, modifier, msg_start, len(result))\n",
      "/home/gerardozinno/.pyenv/versions/3.9.9/envs/ml-environment/lib/python3.9/site-packages/sklearn/metrics/_classification.py:1318: UndefinedMetricWarning: Precision and F-score are ill-defined and being set to 0.0 in labels with no predicted samples. Use `zero_division` parameter to control this behavior.\n",
      "  _warn_prf(average, modifier, msg_start, len(result))\n",
      "/home/gerardozinno/.pyenv/versions/3.9.9/envs/ml-environment/lib/python3.9/site-packages/sklearn/base.py:329: UserWarning: Trying to unpickle estimator DecisionTreeClassifier from version 1.0.1 when using version 1.0.2. This might lead to breaking code or invalid results. Use at your own risk. For more info please refer to:\n",
      "https://scikit-learn.org/stable/modules/model_persistence.html#security-maintainability-limitations\n",
      "  warnings.warn(\n",
      "/home/gerardozinno/.pyenv/versions/3.9.9/envs/ml-environment/lib/python3.9/site-packages/sklearn/base.py:329: UserWarning: Trying to unpickle estimator RandomForestClassifier from version 1.0.1 when using version 1.0.2. This might lead to breaking code or invalid results. Use at your own risk. For more info please refer to:\n",
      "https://scikit-learn.org/stable/modules/model_persistence.html#security-maintainability-limitations\n",
      "  warnings.warn(\n"
     ]
    },
    {
     "name": "stdout",
     "output_type": "stream",
     "text": [
      "len(atk_0_train)=83 len(atk_1_train)=0\n",
      "t=1 c=3 indices=[40, 41, 42, 43, 44]\n"
     ]
    },
    {
     "name": "stderr",
     "output_type": "stream",
     "text": [
      "/home/gerardozinno/.pyenv/versions/3.9.9/envs/ml-environment/lib/python3.9/site-packages/sklearn/metrics/_classification.py:1318: UndefinedMetricWarning: Precision and F-score are ill-defined and being set to 0.0 in labels with no predicted samples. Use `zero_division` parameter to control this behavior.\n",
      "  _warn_prf(average, modifier, msg_start, len(result))\n",
      "/home/gerardozinno/.pyenv/versions/3.9.9/envs/ml-environment/lib/python3.9/site-packages/sklearn/metrics/_classification.py:1318: UndefinedMetricWarning: Precision and F-score are ill-defined and being set to 0.0 in labels with no predicted samples. Use `zero_division` parameter to control this behavior.\n",
      "  _warn_prf(average, modifier, msg_start, len(result))\n",
      "/home/gerardozinno/.pyenv/versions/3.9.9/envs/ml-environment/lib/python3.9/site-packages/sklearn/metrics/_classification.py:1318: UndefinedMetricWarning: Precision and F-score are ill-defined and being set to 0.0 in labels with no predicted samples. Use `zero_division` parameter to control this behavior.\n",
      "  _warn_prf(average, modifier, msg_start, len(result))\n",
      "/home/gerardozinno/.pyenv/versions/3.9.9/envs/ml-environment/lib/python3.9/site-packages/sklearn/base.py:329: UserWarning: Trying to unpickle estimator DecisionTreeClassifier from version 1.0.1 when using version 1.0.2. This might lead to breaking code or invalid results. Use at your own risk. For more info please refer to:\n",
      "https://scikit-learn.org/stable/modules/model_persistence.html#security-maintainability-limitations\n",
      "  warnings.warn(\n",
      "/home/gerardozinno/.pyenv/versions/3.9.9/envs/ml-environment/lib/python3.9/site-packages/sklearn/base.py:329: UserWarning: Trying to unpickle estimator RandomForestClassifier from version 1.0.1 when using version 1.0.2. This might lead to breaking code or invalid results. Use at your own risk. For more info please refer to:\n",
      "https://scikit-learn.org/stable/modules/model_persistence.html#security-maintainability-limitations\n",
      "  warnings.warn(\n"
     ]
    },
    {
     "name": "stdout",
     "output_type": "stream",
     "text": [
      "len(atk_0_train)=1602 len(atk_1_train)=323\n"
     ]
    }
   ],
   "source": [
    "BASE_VOTING_PATH = Path(\"voting_lhs\")\n",
    "BASE_VOTING_PATH.mkdir(exist_ok=False)\n",
    "\n",
    "def hard_classify(predictionslist):\n",
    "    def count(x):\n",
    "        ins = [h for h in x if h == \"in\"]\n",
    "        if len(ins) > 2:\n",
    "            return \"in\"\n",
    "        else:\n",
    "            return \"out\"\n",
    "    arr = np.asarray(predictionslist)\n",
    "    return np.apply_along_axis(count, axis=0, arr=arr)\n",
    "\n",
    "def soft_classify(predictionslist):\n",
    "    def sum_probs(x):\n",
    "        pass\n",
    "    arr = np.asarray(predictionslist)\n",
    "    return np.apply_along_axis(sum_probs, axis=0, arr=arr)\n",
    "\n",
    "for a in adult_test_subset_cluster[['Target', 'Cluster']].groupby(['Target', 'Cluster']):\n",
    "    indices = a[1].index.values.tolist()\n",
    "    t,c = a[0][0], a[0][1]\n",
    "    print(f\"{t=} {c=} {indices=}\")\n",
    "    atk0 = []\n",
    "    atk1 = []\n",
    "    for ind in indices:\n",
    "        a0, a1 = get_attack_mod(ind)\n",
    "        atk0.append(a0)\n",
    "        atk1.append(a1)\n",
    "    \n",
    "    \n",
    "    train_subset = get_subset_target_cluster(adult_train, t, c)\n",
    "    test_subset  = get_subset_target_cluster(adult_test, t, c)\n",
    "    \n",
    "    probs_train = black_box.predict_proba(train_subset[feat_cols].to_numpy())\n",
    "    probs_test = black_box.predict_proba(test_subset[feat_cols].to_numpy())\n",
    "    \n",
    "    ones_train, zeroes_train = split_probs_array(probs_train)\n",
    "    ones_test, zeroes_test = split_probs_array(probs_test)\n",
    "    \n",
    "    \n",
    "    atk_0_train, atk_1_train, atk_0_test, atk_1_test = [], [], [], []\n",
    "    if len(zeroes_train) > 0:\n",
    "        atk_0_train = hard_classify([model.predict(zeroes_train) for model in atk0])\n",
    "\n",
    "    if len(ones_train) > 0:\n",
    "        atk_1_train = hard_classify([model.predict(ones_train) for model in atk1])\n",
    "    \n",
    "    if len(zeroes_test) > 0:\n",
    "        atk_0_test = hard_classify([model.predict(zeroes_test) for model in atk0])\n",
    "\n",
    "    if len(ones_test) > 0:\n",
    "        atk_1_test = hard_classify([model.predict(ones_test) for model in atk1])\n",
    "    \n",
    "    print(f\"{len(atk_0_train)=} {len(atk_1_train)=}\")\n",
    "    train_results = np.concatenate((atk_0_train, atk_1_train))\n",
    "    train_labels  = [\"in\"] * len(train_results)\n",
    "    test_results  = np.concatenate((atk_0_test, atk_1_test))\n",
    "    test_labels   = [\"out\"] * len(test_results)\n",
    "    \n",
    "    full_results  = np.concatenate((train_results, test_results))\n",
    "    full_labels   = np.concatenate((train_labels, test_labels))\n",
    "    \n",
    "    report_full = classification_report(full_labels, full_results)\n",
    "    \n",
    "    with open(str(BASE_VOTING_PATH / f\"t{t}_c{c}.txt\"), \"w\") as f:\n",
    "        f.write(report_full)"
   ]
  },
  {
   "cell_type": "code",
   "execution_count": 26,
   "id": "97b50808-2bbf-4271-96ee-bbf0e803eb0a",
   "metadata": {},
   "outputs": [
    {
     "data": {
      "text/plain": [
       "'in'"
      ]
     },
     "execution_count": 26,
     "metadata": {},
     "output_type": "execute_result"
    }
   ],
   "source": [
    "a0.classes_"
   ]
  },
  {
   "cell_type": "code",
   "execution_count": 28,
   "id": "a25103ff-9f8f-445a-a3e7-cb670ad28a6f",
   "metadata": {},
   "outputs": [
    {
     "data": {
      "text/plain": [
       "[('zero_0',\n",
       "  RandomForestClassifier(criterion='entropy', max_depth=100, min_samples_leaf=10,\n",
       "                         min_samples_split=5)),\n",
       " ('zero_1',\n",
       "  RandomForestClassifier(max_depth=100, min_samples_leaf=20, min_samples_split=5)),\n",
       " ('zero_2',\n",
       "  RandomForestClassifier(criterion='entropy', max_depth=100, min_samples_leaf=10,\n",
       "                         min_samples_split=5)),\n",
       " ('zero_3',\n",
       "  RandomForestClassifier(bootstrap=False, criterion='entropy', max_depth=500,\n",
       "                         max_features='sqrt', min_samples_leaf=50,\n",
       "                         min_samples_split=50, n_estimators=500)),\n",
       " ('zero_4',\n",
       "  RandomForestClassifier(criterion='entropy', max_depth=500, min_samples_leaf=10,\n",
       "                         min_samples_split=50, n_estimators=350))]"
      ]
     },
     "execution_count": 28,
     "metadata": {},
     "output_type": "execute_result"
    }
   ],
   "source": [
    "atk0"
   ]
  },
  {
   "cell_type": "code",
   "execution_count": 29,
   "id": "6d9a1890-5b85-4b5d-9b11-0738e773293d",
   "metadata": {},
   "outputs": [],
   "source": [
    "aaa = [x[1] for x in atk0]"
   ]
  },
  {
   "cell_type": "code",
   "execution_count": 30,
   "id": "98ec3bee-d0e6-492f-bcaa-d3114eaa6d34",
   "metadata": {},
   "outputs": [
    {
     "data": {
      "text/plain": [
       "[RandomForestClassifier(criterion='entropy', max_depth=100, min_samples_leaf=10,\n",
       "                        min_samples_split=5),\n",
       " RandomForestClassifier(max_depth=100, min_samples_leaf=20, min_samples_split=5),\n",
       " RandomForestClassifier(criterion='entropy', max_depth=100, min_samples_leaf=10,\n",
       "                        min_samples_split=5),\n",
       " RandomForestClassifier(bootstrap=False, criterion='entropy', max_depth=500,\n",
       "                        max_features='sqrt', min_samples_leaf=50,\n",
       "                        min_samples_split=50, n_estimators=500),\n",
       " RandomForestClassifier(criterion='entropy', max_depth=500, min_samples_leaf=10,\n",
       "                        min_samples_split=50, n_estimators=350)]"
      ]
     },
     "execution_count": 30,
     "metadata": {},
     "output_type": "execute_result"
    }
   ],
   "source": [
    "aaa"
   ]
  },
  {
   "cell_type": "code",
   "execution_count": 34,
   "id": "fe564e95-8b9a-458e-9528-8aecb1094dd0",
   "metadata": {},
   "outputs": [
    {
     "data": {
      "text/plain": [
       "array([[-1.40441914,  0.26896013, -0.106742  , ..., -0.21867335,\n",
       "        -0.07803133,  0.25441118],\n",
       "       [ 0.80406006,  0.2946299 ,  0.80713136, ..., -0.21867335,\n",
       "         1.59161922,  0.25441118],\n",
       "       [-0.18594786,  0.21891843, -0.29131116, ..., -0.21867335,\n",
       "        -0.24499639,  0.25441118],\n",
       "       ...,\n",
       "       [ 0.65175115,  0.21891843,  1.70669424, ..., -0.21867335,\n",
       "         0.75679395,  0.25441118],\n",
       "       [ 0.80406006,  0.21891843,  3.35167007, ..., -0.21867335,\n",
       "         0.08893372,  0.25441118],\n",
       "       [ 0.11866996,  0.21891843, -0.64206923, ..., -0.21867335,\n",
       "        -0.07803133,  0.38888888]])"
      ]
     },
     "execution_count": 34,
     "metadata": {},
     "output_type": "execute_result"
    }
   ],
   "source": [
    "x_test"
   ]
  },
  {
   "cell_type": "code",
   "execution_count": 35,
   "id": "f8f77fc8-7b64-4e24-9079-2ed6d864b4ac",
   "metadata": {},
   "outputs": [],
   "source": [
    "probs_train = black_box.predict_proba(train_subset[feat_cols].to_numpy())"
   ]
  },
  {
   "cell_type": "code",
   "execution_count": 36,
   "id": "ef891824-b5d8-4063-9cd5-84348e27f6f6",
   "metadata": {},
   "outputs": [
    {
     "data": {
      "text/plain": [
       "array([[9.90213854e-01, 9.78614599e-03],\n",
       "       [9.70459682e-01, 2.95403176e-02],\n",
       "       [9.99913420e-01, 8.65800866e-05],\n",
       "       ...,\n",
       "       [8.47961415e-01, 1.52038585e-01],\n",
       "       [9.86203174e-01, 1.37968257e-02],\n",
       "       [9.98158455e-01, 1.84154489e-03]])"
      ]
     },
     "execution_count": 36,
     "metadata": {},
     "output_type": "execute_result"
    }
   ],
   "source": [
    "probs_train"
   ]
  },
  {
   "cell_type": "code",
   "execution_count": 37,
   "id": "9a648a2d-6a1d-4743-8321-995e2d3bdae8",
   "metadata": {},
   "outputs": [],
   "source": [
    "ones_train, zeroes_train = split_probs_array(probs_train)"
   ]
  },
  {
   "cell_type": "code",
   "execution_count": 38,
   "id": "648568c4-79f4-4a43-85d9-46f4e74421cc",
   "metadata": {},
   "outputs": [
    {
     "data": {
      "text/plain": [
       "array([[9.90213854e-01, 9.78614599e-03],\n",
       "       [9.70459682e-01, 2.95403176e-02],\n",
       "       [9.99913420e-01, 8.65800866e-05],\n",
       "       ...,\n",
       "       [8.47961415e-01, 1.52038585e-01],\n",
       "       [9.86203174e-01, 1.37968257e-02],\n",
       "       [9.98158455e-01, 1.84154489e-03]])"
      ]
     },
     "execution_count": 38,
     "metadata": {},
     "output_type": "execute_result"
    }
   ],
   "source": [
    "ones_train"
   ]
  },
  {
   "cell_type": "code",
   "execution_count": 40,
   "id": "c79e0c0d-0bc5-448b-bee7-840048882448",
   "metadata": {},
   "outputs": [],
   "source": [
    "preds = [m.predict(ones_train) for m in aaa]"
   ]
  },
  {
   "cell_type": "code",
   "execution_count": 41,
   "id": "ed0a8d92-5f69-45ed-aa1d-e53b4840df85",
   "metadata": {},
   "outputs": [
    {
     "data": {
      "text/plain": [
       "[array(['in', 'in', 'in', ..., 'in', 'in', 'in'], dtype=object),\n",
       " array(['in', 'in', 'in', ..., 'in', 'in', 'in'], dtype=object),\n",
       " array(['in', 'in', 'in', ..., 'in', 'in', 'in'], dtype=object),\n",
       " array(['in', 'in', 'in', ..., 'in', 'in', 'in'], dtype=object),\n",
       " array(['in', 'in', 'in', ..., 'in', 'in', 'in'], dtype=object)]"
      ]
     },
     "execution_count": 41,
     "metadata": {},
     "output_type": "execute_result"
    }
   ],
   "source": [
    "preds"
   ]
  },
  {
   "cell_type": "code",
   "execution_count": 43,
   "id": "9293238b-bba4-406c-bc82-325bbb11283f",
   "metadata": {},
   "outputs": [],
   "source": [
    "asa = np.asarray(preds)"
   ]
  },
  {
   "cell_type": "code",
   "execution_count": 51,
   "id": "724a0b4a-28be-43e8-955d-d5a2f909ea49",
   "metadata": {},
   "outputs": [
    {
     "data": {
      "text/plain": [
       "array([['in', 'in', 'in', ..., 'in', 'in', 'in'],\n",
       "       ['in', 'in', 'in', ..., 'in', 'in', 'in'],\n",
       "       ['in', 'in', 'in', ..., 'in', 'in', 'in'],\n",
       "       ['in', 'in', 'in', ..., 'in', 'in', 'in'],\n",
       "       ['in', 'in', 'in', ..., 'in', 'in', 'in']], dtype=object)"
      ]
     },
     "execution_count": 51,
     "metadata": {},
     "output_type": "execute_result"
    }
   ],
   "source": [
    "asa"
   ]
  },
  {
   "cell_type": "code",
   "execution_count": 54,
   "id": "4431579c-cc99-4d1e-9bd2-796e3dde1c1e",
   "metadata": {},
   "outputs": [
    {
     "data": {
      "text/plain": [
       "array([5, 5, 5, ..., 5, 5, 5])"
      ]
     },
     "execution_count": 54,
     "metadata": {},
     "output_type": "execute_result"
    }
   ],
   "source": [
    "np.apply_along_axis(lambda x: len(x), axis=0, arr=asa)"
   ]
  },
  {
   "cell_type": "code",
   "execution_count": 57,
   "id": "d2e9f495-1036-47a8-8cb9-7e95c10d9d58",
   "metadata": {},
   "outputs": [],
   "source": [
    "def count(x):\n",
    "        ins = [h for h in x if h == \"in\"]\n",
    "        if len(ins) > 2:\n",
    "            return \"in\"\n",
    "        else:\n",
    "            return \"out\""
   ]
  },
  {
   "cell_type": "code",
   "execution_count": 59,
   "id": "4bc79a4b-da5f-42c6-8d1d-2bbc478003ed",
   "metadata": {},
   "outputs": [
    {
     "data": {
      "text/plain": [
       "'in'"
      ]
     },
     "execution_count": 59,
     "metadata": {},
     "output_type": "execute_result"
    }
   ],
   "source": [
    "count(asa[:,0])"
   ]
  },
  {
   "cell_type": "code",
   "execution_count": null,
   "id": "1b957fe5-a421-48b8-97bc-4e21af77f331",
   "metadata": {},
   "outputs": [],
   "source": []
  }
 ],
 "metadata": {
  "kernelspec": {
   "display_name": "Python 3 (ipykernel)",
   "language": "python",
   "name": "python3"
  },
  "language_info": {
   "codemirror_mode": {
    "name": "ipython",
    "version": 3
   },
   "file_extension": ".py",
   "mimetype": "text/x-python",
   "name": "python",
   "nbconvert_exporter": "python",
   "pygments_lexer": "ipython3",
   "version": "3.9.9"
  }
 },
 "nbformat": 4,
 "nbformat_minor": 5
}
