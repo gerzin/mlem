{
 "cells": [
  {
   "cell_type": "code",
   "execution_count": 6,
   "id": "58c3cce8-8382-4f56-a39f-94158bebf9eb",
   "metadata": {},
   "outputs": [],
   "source": [
    "import numpy as np\n",
    "import bz2\n",
    "import pickle\n",
    "np.random.seed(10)"
   ]
  },
  {
   "cell_type": "code",
   "execution_count": 2,
   "id": "266d27e1-0a06-4981-a382-5300c9321e0b",
   "metadata": {},
   "outputs": [],
   "source": [
    "RF_PATH=\"dataset_backups/\"\n",
    "DATA_PATH=\"adult_randfor.data-extended.npz\""
   ]
  },
  {
   "cell_type": "markdown",
   "id": "20d82ba8-a4bb-4bd2-bfb3-0427e9f6b75f",
   "metadata": {},
   "source": [
    "Carico la random forest"
   ]
  },
  {
   "cell_type": "code",
   "execution_count": 7,
   "id": "0c7864c3-9c2e-4bbe-abf0-93b93c347a4f",
   "metadata": {},
   "outputs": [
    {
     "name": "stderr",
     "output_type": "stream",
     "text": [
      "/home/gerardozinno/.pyenv/versions/3.9.9/envs/ml-environment/lib/python3.9/site-packages/sklearn/base.py:329: UserWarning: Trying to unpickle estimator DecisionTreeClassifier from version 1.0.1 when using version 1.0.2. This might lead to breaking code or invalid results. Use at your own risk. For more info please refer to:\n",
      "https://scikit-learn.org/stable/modules/model_persistence.html#security-maintainability-limitations\n",
      "  warnings.warn(\n",
      "/home/gerardozinno/.pyenv/versions/3.9.9/envs/ml-environment/lib/python3.9/site-packages/sklearn/base.py:329: UserWarning: Trying to unpickle estimator RandomForestClassifier from version 1.0.1 when using version 1.0.2. This might lead to breaking code or invalid results. Use at your own risk. For more info please refer to:\n",
      "https://scikit-learn.org/stable/modules/model_persistence.html#security-maintainability-limitations\n",
      "  warnings.warn(\n"
     ]
    }
   ],
   "source": [
    "with bz2.BZ2File(\"./dataset_backups/adult_randfor.bz2\") as f:\n",
    "    black_box = pickle.load(f)"
   ]
  },
  {
   "cell_type": "code",
   "execution_count": 8,
   "id": "a1554814-b4a2-4a25-937b-c5d4c1343bf6",
   "metadata": {},
   "outputs": [
    {
     "data": {
      "text/plain": [
       "RandomForestClassifier(criterion='entropy', max_depth=350, max_features='sqrt',\n",
       "                       min_samples_leaf=10, min_samples_split=10,\n",
       "                       n_estimators=350)"
      ]
     },
     "execution_count": 8,
     "metadata": {},
     "output_type": "execute_result"
    }
   ],
   "source": [
    "black_box"
   ]
  },
  {
   "cell_type": "code",
   "execution_count": 11,
   "id": "0221bb73-e33d-4aff-aa89-de86487d247e",
   "metadata": {},
   "outputs": [
    {
     "name": "stdout",
     "output_type": "stream",
     "text": [
      "x_train\n",
      "x_test\n",
      "y_train\n",
      "y_test\n",
      "x_test_clustered\n",
      "y_test_clustered\n"
     ]
    }
   ],
   "source": [
    "loaded = np.load(DATA_PATH, allow_pickle=True)\n",
    "\n",
    "for key in loaded.keys():\n",
    "    print(key)"
   ]
  },
  {
   "cell_type": "markdown",
   "id": "eb8382cf-77af-4efc-b4d1-2e123de8bb73",
   "metadata": {},
   "source": [
    "x_test_clustered contiene i 5 elementi più vicini ad ogni centroide."
   ]
  },
  {
   "cell_type": "code",
   "execution_count": 14,
   "id": "b9942965-72c4-4e26-9e52-8e1512750c7b",
   "metadata": {},
   "outputs": [],
   "source": [
    "x_train, x_test, x_test_clustered = loaded['x_train'], loaded['x_test'], loaded['x_test_clustered']\n",
    "y_train, y_test, y_test_clustered = loaded['y_train'], loaded['y_test'], loaded['y_test_clustered']"
   ]
  },
  {
   "cell_type": "code",
   "execution_count": 17,
   "id": "17bb6868-8c71-4dc1-b879-d41978541e36",
   "metadata": {},
   "outputs": [
    {
     "data": {
      "text/plain": [
       "array([[ 0.11866996,  0.28582866, -0.89505798, ..., -0.21867335,\n",
       "         0.75679395,  0.25441118],\n",
       "       [-0.49056568,  0.21891843,  1.97075657, ..., -0.21867335,\n",
       "        -2.16509452,  0.05445545],\n",
       "       [-0.33825677,  0.21891843, -0.18004533, ..., -0.21867335,\n",
       "         0.75679395,  0.25441118],\n",
       "       ...,\n",
       "       [ 1.18483233,  0.55865922, -0.40906971, ..., -0.21867335,\n",
       "        -0.07803133,  0.25441118],\n",
       "       [ 1.03252342,  0.38706257,  4.04352285, ..., -0.21867335,\n",
       "        -0.07803133,  0.25441118],\n",
       "       [ 1.18483233,  0.28582866, -1.12109155, ..., -0.21867335,\n",
       "         0.75679395,  0.25441118]])"
      ]
     },
     "execution_count": 17,
     "metadata": {},
     "output_type": "execute_result"
    }
   ],
   "source": []
  },
  {
   "cell_type": "code",
   "execution_count": null,
   "id": "11578aa4-8929-4b93-a983-5246089d3787",
   "metadata": {},
   "outputs": [],
   "source": []
  }
 ],
 "metadata": {
  "kernelspec": {
   "display_name": "Python 3 (ipykernel)",
   "language": "python",
   "name": "python3"
  },
  "language_info": {
   "codemirror_mode": {
    "name": "ipython",
    "version": 3
   },
   "file_extension": ".py",
   "mimetype": "text/x-python",
   "name": "python",
   "nbconvert_exporter": "python",
   "pygments_lexer": "ipython3",
   "version": "3.9.9"
  }
 },
 "nbformat": 4,
 "nbformat_minor": 5
}
