{
 "cells": [
  {
   "cell_type": "markdown",
   "id": "1b326266-a6de-49b1-b857-4156bb51633f",
   "metadata": {},
   "source": [
    "# Clustering on Diva without division on targets"
   ]
  },
  {
   "cell_type": "code",
   "execution_count": 1,
   "id": "81a95d1e-8228-4423-bdcb-3b74fcafc50d",
   "metadata": {},
   "outputs": [],
   "source": [
    "import numpy as np\n",
    "import pandas as pd\n",
    "import matplotlib.pyplot as plt\n",
    "import seaborn as sns; sns.set()\n",
    "import category_encoders as ce\n",
    "from pathlib import Path\n",
    "\n",
    "np.random.seed(10)"
   ]
  },
  {
   "cell_type": "code",
   "execution_count": 38,
   "id": "3037e20a-f74c-40a4-9821-10dac6e871f9",
   "metadata": {},
   "outputs": [],
   "source": [
    "import bz2\n",
    "import pickle\n",
    "\n",
    "def save_pickle_bz2(path: str, obj):\n",
    "    \"\"\"Saves a pickle file compressed in BZ2 format.\n",
    "\n",
    "    Args:\n",
    "        path (str): Path where to save object.\n",
    "        obj (Any): Object to save.\n",
    "    \"\"\"\n",
    "    with bz2.open(path, \"wb\") as f:\n",
    "        pickle.dump(obj, f)\n",
    "def load_pickle_bz2(path):\n",
    "    \"\"\"\n",
    "    Loads data saved with save_pickle_bz2\n",
    "\n",
    "    Args:\n",
    "        path (str): Path where the data are located\n",
    "\n",
    "    Returns:\n",
    "        loaded object\n",
    "    \"\"\"\n",
    "    with bz2.BZ2File(path) as f:\n",
    "        data = pickle.load(f)\n",
    "    return data"
   ]
  },
  {
   "cell_type": "code",
   "execution_count": 2,
   "id": "6161e8a0-6bf4-4615-b1c4-3e3ca8c4a682",
   "metadata": {},
   "outputs": [],
   "source": [
    "df = pd.read_excel(\"./processed_diva.xlsx\")\n",
    "df = df.dropna()\n",
    "df = df.drop_duplicates()\n",
    "\n",
    "features, target = df.iloc[:,:-1], df.iloc[:,-1]"
   ]
  },
  {
   "cell_type": "code",
   "execution_count": 3,
   "id": "4063a65d-d170-41d4-931c-00e3fefdd8fb",
   "metadata": {},
   "outputs": [],
   "source": [
    "target = target.map({0.0: 0, 3.0: 1})"
   ]
  },
  {
   "cell_type": "code",
   "execution_count": 4,
   "id": "f21ab8b6-33d3-4560-953b-529205431a88",
   "metadata": {},
   "outputs": [],
   "source": [
    "numeric = features.select_dtypes('number')"
   ]
  },
  {
   "cell_type": "markdown",
   "id": "e0f9dc86-e000-45d0-a8ff-0cca98398ed6",
   "metadata": {},
   "source": [
    "# feature selection"
   ]
  },
  {
   "cell_type": "markdown",
   "id": "a92324b2-cd8b-4743-b8db-9e49b5dfa887",
   "metadata": {},
   "source": [
    "Removing columns with only one value"
   ]
  },
  {
   "cell_type": "code",
   "execution_count": 5,
   "id": "7b672756-bdb8-4ab9-9587-1fe0f5082bf1",
   "metadata": {},
   "outputs": [
    {
     "name": "stdout",
     "output_type": "stream",
     "text": [
      "Discarding features with only one value:\n",
      "Discarding col='TIPO_CONTROLLO'\n",
      "Discarding col='RIM_DA_RES_AUT'\n",
      "Discarding col='RIMB_NON_CONC_AUT'\n",
      "Discarding col='CREDITO_NON_RIC_AUT'\n"
     ]
    }
   ],
   "source": [
    "numeric_copy = numeric.copy()\n",
    "print(\"Discarding features with only one value:\")\n",
    "columns_to_keep = []\n",
    "for col in numeric_copy.columns:\n",
    "    count = df[col].value_counts().count()\n",
    "    if count != 1:\n",
    "        columns_to_keep.append(col)\n",
    "    else:\n",
    "        print(f\"Discarding {col=}\")\n",
    "numeric_copy = numeric_copy[columns_to_keep]"
   ]
  },
  {
   "cell_type": "markdown",
   "id": "090e430c-be4a-4340-8f42-a797691de2a4",
   "metadata": {},
   "source": [
    "Removing numeric columns that I think are categorical columns that have been encoded"
   ]
  },
  {
   "cell_type": "code",
   "execution_count": 6,
   "id": "af2cba9a-957b-4112-ae7d-5e98baecf8a5",
   "metadata": {},
   "outputs": [
    {
     "name": "stdout",
     "output_type": "stream",
     "text": [
      "Discarding encoded categorical:\n",
      "Discarding col='TIPO_DICH_ACCERT'\n",
      "Discarding col='COD_CLASSE_VOLUME'\n"
     ]
    }
   ],
   "source": [
    "possibly_categorical = ['TIPO_DICH_ACCERT','COD_CLASSE_VOLUME']\n",
    "print(\"Discarding encoded categorical:\")\n",
    "for col in possibly_categorical:\n",
    "    print(f\"Discarding {col=}\")\n",
    "numeric_copy = numeric_copy.drop(possibly_categorical, axis=1)"
   ]
  },
  {
   "cell_type": "markdown",
   "id": "41219898-ceb8-4d82-82a4-8877da50bee6",
   "metadata": {},
   "source": [
    "Removing correlated columns"
   ]
  },
  {
   "cell_type": "code",
   "execution_count": 7,
   "id": "790cee57-65c2-410b-a2d0-d8b946ccf37d",
   "metadata": {},
   "outputs": [],
   "source": [
    "def correlation_matrix(df: pd.DataFrame, figsize=(50,50)):\n",
    "    \"\"\"\n",
    "    A function to calculate and plot\n",
    "    correlation matrix of a DataFrame.\n",
    "    \"\"\"\n",
    "    # Create the matrix\n",
    "    matrix = df.corr()\n",
    "    \n",
    "    # Create cmap\n",
    "    cmap = sns.diverging_palette(250, 15, s=75, l=40,\n",
    "                             n=9, center=\"light\", as_cmap=True)\n",
    "    # Create a mask\n",
    "    mask = np.triu(np.ones_like(matrix, dtype=bool))\n",
    "    \n",
    "    # Make figsize bigger\n",
    "    fig, ax = plt.subplots(figsize=figsize)\n",
    "    \n",
    "    # Plot the matrix\n",
    "    _ = sns.heatmap(matrix, mask=mask, center=0, annot=True,\n",
    "             fmt='.2f', square=True, cmap=cmap, ax=ax)"
   ]
  },
  {
   "cell_type": "code",
   "execution_count": 8,
   "id": "30248f08-9e19-4fc4-9734-883219ed2268",
   "metadata": {},
   "outputs": [],
   "source": [
    "def identify_correlated(df, threshold):\n",
    "    \"\"\"\n",
    "    A function to identify highly correlated features.\n",
    "    \"\"\"\n",
    "    # Compute correlation matrix with absolute values\n",
    "    matrix = df.corr().abs()\n",
    "    \n",
    "    # Create a boolean mask\n",
    "    mask = np.triu(np.ones_like(matrix, dtype=bool))\n",
    "    \n",
    "    # Subset the matrix\n",
    "    reduced_matrix = matrix.mask(mask)\n",
    "    \n",
    "    # Find cols that meet the threshold\n",
    "    to_drop = [c for c in reduced_matrix.columns if \\\n",
    "              any(reduced_matrix[c] > threshold)]\n",
    "    \n",
    "    return to_drop"
   ]
  },
  {
   "cell_type": "code",
   "execution_count": 9,
   "id": "f77b2a3e-8dcb-43dc-82aa-96ec98a75fff",
   "metadata": {},
   "outputs": [
    {
     "name": "stdout",
     "output_type": "stream",
     "text": [
      "Dropping 33 columns:\n",
      "Dropping AFFIDABILITA\n",
      "Dropping IVA_OP_IMPON_DIC\n",
      "Dropping CREDITI_IVA_DIC\n",
      "Dropping VOL_AFF_DICH\n",
      "Dropping VOL_ACC_DEF\n",
      "Dropping DETR_IVA_DIC\n",
      "Dropping DETR_IVA_ACC\n",
      "Dropping MAG_IMP_IRPEF_ACC\n",
      "Dropping MAG_IMP_RIT_ACC\n",
      "Dropping IMP_BEN_AMM\n",
      "Dropping IMP_BENI_ALTRI\n",
      "Dropping IMP_INTRA_IMPOST\n",
      "Dropping IMP_IMPOR_IMPON\n",
      "Dropping IMP_ESPORTAZ\n",
      "Dropping IMP_OPER_INT\n",
      "Dropping IMP_CESS_BENI\n",
      "Dropping IMP_VE_VOLAFF\n",
      "Dropping IMP_ACQ_NOIMP\n",
      "Dropping IMP_ACQ_ESENTI\n",
      "Dropping IMP_ACQ_NODETR\n",
      "Dropping IMP_OPER\n",
      "Dropping IMP_IVA_DEB\n",
      "Dropping IMP_CONSUM_IMPON\n",
      "Dropping IMP_SOGG_IVA_IMPON\n",
      "Dropping FLG_PRES_BILANCIO\n",
      "Dropping IMP_PERD_CONTEC\n",
      "Dropping IMP_RIM_FINALI\n",
      "Dropping IMP_IMPST_NETTA\n",
      "Dropping imp_ricavi_comp_attiv\n",
      "Dropping imp_tot_pos\n",
      "Dropping imp_redd_lrd_attiv\n",
      "Dropping imp_redd_imp_attiv\n",
      "Dropping VAR_CREDITO\n"
     ]
    }
   ],
   "source": [
    "to_drop = identify_correlated(numeric_copy, threshold=0.75)\n",
    "print(f\"Dropping {len(to_drop)} columns:\")\n",
    "for c in to_drop:\n",
    "    print(f\"Dropping {c}\")"
   ]
  },
  {
   "cell_type": "code",
   "execution_count": 10,
   "id": "5ce7d6ae-b17e-43fe-be12-4545ba06f93c",
   "metadata": {},
   "outputs": [],
   "source": [
    "numeric_copy = numeric_copy.drop(to_drop, axis=1)\n",
    "numeric_copy['Target'] = target"
   ]
  },
  {
   "cell_type": "markdown",
   "id": "6fc11f1c-dd5c-4026-8a23-7bcd5ec2f80d",
   "metadata": {},
   "source": [
    "# Scaling the dataset"
   ]
  },
  {
   "cell_type": "code",
   "execution_count": 11,
   "id": "539fced8-06ec-49f9-93be-978dec3c2572",
   "metadata": {},
   "outputs": [],
   "source": [
    "feat_cols = numeric_copy.columns[:-1]"
   ]
  },
  {
   "cell_type": "markdown",
   "id": "f51eeb36-ca44-4da5-828b-ab736e988b6f",
   "metadata": {},
   "source": [
    "## Standard Scaling"
   ]
  },
  {
   "cell_type": "code",
   "execution_count": 13,
   "id": "aa801aed-9ed3-4d80-b5f5-7c45ed106ab2",
   "metadata": {},
   "outputs": [],
   "source": [
    "from sklearn.preprocessing import StandardScaler"
   ]
  },
  {
   "cell_type": "code",
   "execution_count": 16,
   "id": "fb2083f2-af88-4837-bbbf-3a548744a585",
   "metadata": {},
   "outputs": [
    {
     "data": {
      "text/html": [
       "<div>\n",
       "<style scoped>\n",
       "    .dataframe tbody tr th:only-of-type {\n",
       "        vertical-align: middle;\n",
       "    }\n",
       "\n",
       "    .dataframe tbody tr th {\n",
       "        vertical-align: top;\n",
       "    }\n",
       "\n",
       "    .dataframe thead th {\n",
       "        text-align: right;\n",
       "    }\n",
       "</style>\n",
       "<table border=\"1\" class=\"dataframe\">\n",
       "  <thead>\n",
       "    <tr style=\"text-align: right;\">\n",
       "      <th></th>\n",
       "      <th>ANN_IMPST</th>\n",
       "      <th>FLG_PRES_ADESIONE</th>\n",
       "      <th>FLG_PRES_RICORSO</th>\n",
       "      <th>PESO</th>\n",
       "      <th>PESO_ADESIONE</th>\n",
       "      <th>SOLVIBILITA</th>\n",
       "      <th>STATO_CONTROLLO</th>\n",
       "      <th>FL_CONDONO</th>\n",
       "      <th>RIMB_NON_CONC</th>\n",
       "      <th>RIMB_NON_CONC_DEF</th>\n",
       "      <th>...</th>\n",
       "      <th>IMP_ECC_PREC_F24</th>\n",
       "      <th>IMP_IMPST_DEBITO</th>\n",
       "      <th>IMP_IMPST_CREDIT</th>\n",
       "      <th>imp_sps_prest_lavoro</th>\n",
       "      <th>imp_tot_neg</th>\n",
       "      <th>VAR_RIMBORSO</th>\n",
       "      <th>VAR_DETRAZIONE</th>\n",
       "      <th>VAR_VOL_AFF_POS</th>\n",
       "      <th>VAR_VOL_AFF_NEG</th>\n",
       "      <th>Target</th>\n",
       "    </tr>\n",
       "  </thead>\n",
       "  <tbody>\n",
       "    <tr>\n",
       "      <th>0</th>\n",
       "      <td>0.525330</td>\n",
       "      <td>1.205881</td>\n",
       "      <td>-0.542534</td>\n",
       "      <td>0.199212</td>\n",
       "      <td>4.058525</td>\n",
       "      <td>0.228899</td>\n",
       "      <td>0.622848</td>\n",
       "      <td>-0.216617</td>\n",
       "      <td>-0.054656</td>\n",
       "      <td>-0.021763</td>\n",
       "      <td>...</td>\n",
       "      <td>0.124370</td>\n",
       "      <td>-0.043217</td>\n",
       "      <td>0.179158</td>\n",
       "      <td>0.098229</td>\n",
       "      <td>-0.13833</td>\n",
       "      <td>-0.073177</td>\n",
       "      <td>0.531387</td>\n",
       "      <td>0.080565</td>\n",
       "      <td>-0.027459</td>\n",
       "      <td>0</td>\n",
       "    </tr>\n",
       "    <tr>\n",
       "      <th>1</th>\n",
       "      <td>-0.856356</td>\n",
       "      <td>-0.829269</td>\n",
       "      <td>-0.542534</td>\n",
       "      <td>-0.634054</td>\n",
       "      <td>-0.449675</td>\n",
       "      <td>0.228899</td>\n",
       "      <td>0.493609</td>\n",
       "      <td>-0.216617</td>\n",
       "      <td>-0.054656</td>\n",
       "      <td>-0.021763</td>\n",
       "      <td>...</td>\n",
       "      <td>-0.117234</td>\n",
       "      <td>-0.043217</td>\n",
       "      <td>-0.054288</td>\n",
       "      <td>-0.037581</td>\n",
       "      <td>-0.13833</td>\n",
       "      <td>-0.033024</td>\n",
       "      <td>-0.215376</td>\n",
       "      <td>-0.044752</td>\n",
       "      <td>-0.035756</td>\n",
       "      <td>0</td>\n",
       "    </tr>\n",
       "    <tr>\n",
       "      <th>2</th>\n",
       "      <td>-0.165513</td>\n",
       "      <td>-0.829269</td>\n",
       "      <td>-0.542534</td>\n",
       "      <td>-0.634054</td>\n",
       "      <td>-0.449675</td>\n",
       "      <td>0.228899</td>\n",
       "      <td>0.881327</td>\n",
       "      <td>-0.216617</td>\n",
       "      <td>-0.054656</td>\n",
       "      <td>-0.021763</td>\n",
       "      <td>...</td>\n",
       "      <td>0.002622</td>\n",
       "      <td>-0.035326</td>\n",
       "      <td>-0.054288</td>\n",
       "      <td>-0.029966</td>\n",
       "      <td>-0.13833</td>\n",
       "      <td>-0.073177</td>\n",
       "      <td>-0.138035</td>\n",
       "      <td>-0.044641</td>\n",
       "      <td>-0.035756</td>\n",
       "      <td>0</td>\n",
       "    </tr>\n",
       "    <tr>\n",
       "      <th>3</th>\n",
       "      <td>-0.165513</td>\n",
       "      <td>-0.829269</td>\n",
       "      <td>-0.542534</td>\n",
       "      <td>-0.109405</td>\n",
       "      <td>-0.449675</td>\n",
       "      <td>1.194882</td>\n",
       "      <td>-1.444980</td>\n",
       "      <td>-0.216617</td>\n",
       "      <td>-0.054656</td>\n",
       "      <td>-0.021763</td>\n",
       "      <td>...</td>\n",
       "      <td>-0.117234</td>\n",
       "      <td>-0.043217</td>\n",
       "      <td>-0.054288</td>\n",
       "      <td>-0.037581</td>\n",
       "      <td>-0.13833</td>\n",
       "      <td>-0.073177</td>\n",
       "      <td>-0.201583</td>\n",
       "      <td>-0.050602</td>\n",
       "      <td>-0.035756</td>\n",
       "      <td>0</td>\n",
       "    </tr>\n",
       "    <tr>\n",
       "      <th>4</th>\n",
       "      <td>-0.165513</td>\n",
       "      <td>1.205881</td>\n",
       "      <td>-0.542534</td>\n",
       "      <td>-0.634054</td>\n",
       "      <td>-0.449675</td>\n",
       "      <td>0.228899</td>\n",
       "      <td>0.752088</td>\n",
       "      <td>-0.216617</td>\n",
       "      <td>-0.054656</td>\n",
       "      <td>-0.021763</td>\n",
       "      <td>...</td>\n",
       "      <td>-0.117234</td>\n",
       "      <td>-0.043217</td>\n",
       "      <td>-0.054288</td>\n",
       "      <td>-0.037581</td>\n",
       "      <td>-0.13833</td>\n",
       "      <td>-0.073177</td>\n",
       "      <td>-0.198857</td>\n",
       "      <td>-0.046994</td>\n",
       "      <td>-0.035756</td>\n",
       "      <td>0</td>\n",
       "    </tr>\n",
       "  </tbody>\n",
       "</table>\n",
       "<p>5 rows × 48 columns</p>\n",
       "</div>"
      ],
      "text/plain": [
       "   ANN_IMPST  FLG_PRES_ADESIONE  FLG_PRES_RICORSO      PESO  PESO_ADESIONE  \\\n",
       "0   0.525330           1.205881         -0.542534  0.199212       4.058525   \n",
       "1  -0.856356          -0.829269         -0.542534 -0.634054      -0.449675   \n",
       "2  -0.165513          -0.829269         -0.542534 -0.634054      -0.449675   \n",
       "3  -0.165513          -0.829269         -0.542534 -0.109405      -0.449675   \n",
       "4  -0.165513           1.205881         -0.542534 -0.634054      -0.449675   \n",
       "\n",
       "   SOLVIBILITA  STATO_CONTROLLO  FL_CONDONO  RIMB_NON_CONC  RIMB_NON_CONC_DEF  \\\n",
       "0     0.228899         0.622848   -0.216617      -0.054656          -0.021763   \n",
       "1     0.228899         0.493609   -0.216617      -0.054656          -0.021763   \n",
       "2     0.228899         0.881327   -0.216617      -0.054656          -0.021763   \n",
       "3     1.194882        -1.444980   -0.216617      -0.054656          -0.021763   \n",
       "4     0.228899         0.752088   -0.216617      -0.054656          -0.021763   \n",
       "\n",
       "   ...  IMP_ECC_PREC_F24  IMP_IMPST_DEBITO  IMP_IMPST_CREDIT  \\\n",
       "0  ...          0.124370         -0.043217          0.179158   \n",
       "1  ...         -0.117234         -0.043217         -0.054288   \n",
       "2  ...          0.002622         -0.035326         -0.054288   \n",
       "3  ...         -0.117234         -0.043217         -0.054288   \n",
       "4  ...         -0.117234         -0.043217         -0.054288   \n",
       "\n",
       "   imp_sps_prest_lavoro  imp_tot_neg  VAR_RIMBORSO  VAR_DETRAZIONE  \\\n",
       "0              0.098229     -0.13833     -0.073177        0.531387   \n",
       "1             -0.037581     -0.13833     -0.033024       -0.215376   \n",
       "2             -0.029966     -0.13833     -0.073177       -0.138035   \n",
       "3             -0.037581     -0.13833     -0.073177       -0.201583   \n",
       "4             -0.037581     -0.13833     -0.073177       -0.198857   \n",
       "\n",
       "   VAR_VOL_AFF_POS  VAR_VOL_AFF_NEG  Target  \n",
       "0         0.080565        -0.027459       0  \n",
       "1        -0.044752        -0.035756       0  \n",
       "2        -0.044641        -0.035756       0  \n",
       "3        -0.050602        -0.035756       0  \n",
       "4        -0.046994        -0.035756       0  \n",
       "\n",
       "[5 rows x 48 columns]"
      ]
     },
     "execution_count": 16,
     "metadata": {},
     "output_type": "execute_result"
    }
   ],
   "source": [
    "df_std = numeric_copy.copy()\n",
    "standard_scaler = StandardScaler()\n",
    "df_std[feat_cols] = standard_scaler.fit_transform(df_std[feat_cols])\n",
    "df_std.head()"
   ]
  },
  {
   "cell_type": "markdown",
   "id": "9a8358a3-288c-485c-96e5-496c61629764",
   "metadata": {},
   "source": [
    "## MinMax scaling"
   ]
  },
  {
   "cell_type": "code",
   "execution_count": 17,
   "id": "44d37d02-654d-4d99-ac46-f5c134b1fe12",
   "metadata": {},
   "outputs": [],
   "source": [
    "from sklearn.preprocessing import MinMaxScaler"
   ]
  },
  {
   "cell_type": "code",
   "execution_count": 18,
   "id": "64fc7f99-a47b-4d51-ace9-b2da1798c03c",
   "metadata": {},
   "outputs": [
    {
     "data": {
      "text/html": [
       "<div>\n",
       "<style scoped>\n",
       "    .dataframe tbody tr th:only-of-type {\n",
       "        vertical-align: middle;\n",
       "    }\n",
       "\n",
       "    .dataframe tbody tr th {\n",
       "        vertical-align: top;\n",
       "    }\n",
       "\n",
       "    .dataframe thead th {\n",
       "        text-align: right;\n",
       "    }\n",
       "</style>\n",
       "<table border=\"1\" class=\"dataframe\">\n",
       "  <thead>\n",
       "    <tr style=\"text-align: right;\">\n",
       "      <th></th>\n",
       "      <th>ANN_IMPST</th>\n",
       "      <th>FLG_PRES_ADESIONE</th>\n",
       "      <th>FLG_PRES_RICORSO</th>\n",
       "      <th>PESO</th>\n",
       "      <th>PESO_ADESIONE</th>\n",
       "      <th>SOLVIBILITA</th>\n",
       "      <th>STATO_CONTROLLO</th>\n",
       "      <th>FL_CONDONO</th>\n",
       "      <th>RIMB_NON_CONC</th>\n",
       "      <th>RIMB_NON_CONC_DEF</th>\n",
       "      <th>...</th>\n",
       "      <th>IMP_ECC_PREC_F24</th>\n",
       "      <th>IMP_IMPST_DEBITO</th>\n",
       "      <th>IMP_IMPST_CREDIT</th>\n",
       "      <th>imp_sps_prest_lavoro</th>\n",
       "      <th>imp_tot_neg</th>\n",
       "      <th>VAR_RIMBORSO</th>\n",
       "      <th>VAR_DETRAZIONE</th>\n",
       "      <th>VAR_VOL_AFF_POS</th>\n",
       "      <th>VAR_VOL_AFF_NEG</th>\n",
       "      <th>Target</th>\n",
       "    </tr>\n",
       "  </thead>\n",
       "  <tbody>\n",
       "    <tr>\n",
       "      <th>0</th>\n",
       "      <td>0.6</td>\n",
       "      <td>1.0</td>\n",
       "      <td>0.0</td>\n",
       "      <td>0.086873</td>\n",
       "      <td>0.888889</td>\n",
       "      <td>0.6</td>\n",
       "      <td>0.500000</td>\n",
       "      <td>0.0</td>\n",
       "      <td>0.0</td>\n",
       "      <td>0.0</td>\n",
       "      <td>...</td>\n",
       "      <td>0.004715</td>\n",
       "      <td>0.000000</td>\n",
       "      <td>0.002533</td>\n",
       "      <td>0.005010</td>\n",
       "      <td>0.0</td>\n",
       "      <td>0.000000</td>\n",
       "      <td>1.194026e-02</td>\n",
       "      <td>0.002484</td>\n",
       "      <td>0.033235</td>\n",
       "      <td>0</td>\n",
       "    </tr>\n",
       "    <tr>\n",
       "      <th>1</th>\n",
       "      <td>0.2</td>\n",
       "      <td>0.0</td>\n",
       "      <td>0.0</td>\n",
       "      <td>0.034749</td>\n",
       "      <td>0.000000</td>\n",
       "      <td>0.6</td>\n",
       "      <td>0.470588</td>\n",
       "      <td>0.0</td>\n",
       "      <td>0.0</td>\n",
       "      <td>0.0</td>\n",
       "      <td>...</td>\n",
       "      <td>0.000000</td>\n",
       "      <td>0.000000</td>\n",
       "      <td>0.000000</td>\n",
       "      <td>0.003635</td>\n",
       "      <td>0.0</td>\n",
       "      <td>0.000513</td>\n",
       "      <td>1.023279e-07</td>\n",
       "      <td>0.001146</td>\n",
       "      <td>0.033122</td>\n",
       "      <td>0</td>\n",
       "    </tr>\n",
       "    <tr>\n",
       "      <th>2</th>\n",
       "      <td>0.4</td>\n",
       "      <td>0.0</td>\n",
       "      <td>0.0</td>\n",
       "      <td>0.034749</td>\n",
       "      <td>0.000000</td>\n",
       "      <td>0.6</td>\n",
       "      <td>0.558824</td>\n",
       "      <td>0.0</td>\n",
       "      <td>0.0</td>\n",
       "      <td>0.0</td>\n",
       "      <td>...</td>\n",
       "      <td>0.002339</td>\n",
       "      <td>0.000083</td>\n",
       "      <td>0.000000</td>\n",
       "      <td>0.003713</td>\n",
       "      <td>0.0</td>\n",
       "      <td>0.000000</td>\n",
       "      <td>1.236735e-03</td>\n",
       "      <td>0.001147</td>\n",
       "      <td>0.033122</td>\n",
       "      <td>0</td>\n",
       "    </tr>\n",
       "    <tr>\n",
       "      <th>3</th>\n",
       "      <td>0.4</td>\n",
       "      <td>0.0</td>\n",
       "      <td>0.0</td>\n",
       "      <td>0.067568</td>\n",
       "      <td>0.000000</td>\n",
       "      <td>0.8</td>\n",
       "      <td>0.029412</td>\n",
       "      <td>0.0</td>\n",
       "      <td>0.0</td>\n",
       "      <td>0.0</td>\n",
       "      <td>...</td>\n",
       "      <td>0.000000</td>\n",
       "      <td>0.000000</td>\n",
       "      <td>0.000000</td>\n",
       "      <td>0.003635</td>\n",
       "      <td>0.0</td>\n",
       "      <td>0.000000</td>\n",
       "      <td>2.206446e-04</td>\n",
       "      <td>0.001084</td>\n",
       "      <td>0.033122</td>\n",
       "      <td>0</td>\n",
       "    </tr>\n",
       "    <tr>\n",
       "      <th>4</th>\n",
       "      <td>0.4</td>\n",
       "      <td>1.0</td>\n",
       "      <td>0.0</td>\n",
       "      <td>0.034749</td>\n",
       "      <td>0.000000</td>\n",
       "      <td>0.6</td>\n",
       "      <td>0.529412</td>\n",
       "      <td>0.0</td>\n",
       "      <td>0.0</td>\n",
       "      <td>0.0</td>\n",
       "      <td>...</td>\n",
       "      <td>0.000000</td>\n",
       "      <td>0.000000</td>\n",
       "      <td>0.000000</td>\n",
       "      <td>0.003635</td>\n",
       "      <td>0.0</td>\n",
       "      <td>0.000000</td>\n",
       "      <td>2.642362e-04</td>\n",
       "      <td>0.001122</td>\n",
       "      <td>0.033122</td>\n",
       "      <td>0</td>\n",
       "    </tr>\n",
       "  </tbody>\n",
       "</table>\n",
       "<p>5 rows × 48 columns</p>\n",
       "</div>"
      ],
      "text/plain": [
       "   ANN_IMPST  FLG_PRES_ADESIONE  FLG_PRES_RICORSO      PESO  PESO_ADESIONE  \\\n",
       "0        0.6                1.0               0.0  0.086873       0.888889   \n",
       "1        0.2                0.0               0.0  0.034749       0.000000   \n",
       "2        0.4                0.0               0.0  0.034749       0.000000   \n",
       "3        0.4                0.0               0.0  0.067568       0.000000   \n",
       "4        0.4                1.0               0.0  0.034749       0.000000   \n",
       "\n",
       "   SOLVIBILITA  STATO_CONTROLLO  FL_CONDONO  RIMB_NON_CONC  RIMB_NON_CONC_DEF  \\\n",
       "0          0.6         0.500000         0.0            0.0                0.0   \n",
       "1          0.6         0.470588         0.0            0.0                0.0   \n",
       "2          0.6         0.558824         0.0            0.0                0.0   \n",
       "3          0.8         0.029412         0.0            0.0                0.0   \n",
       "4          0.6         0.529412         0.0            0.0                0.0   \n",
       "\n",
       "   ...  IMP_ECC_PREC_F24  IMP_IMPST_DEBITO  IMP_IMPST_CREDIT  \\\n",
       "0  ...          0.004715          0.000000          0.002533   \n",
       "1  ...          0.000000          0.000000          0.000000   \n",
       "2  ...          0.002339          0.000083          0.000000   \n",
       "3  ...          0.000000          0.000000          0.000000   \n",
       "4  ...          0.000000          0.000000          0.000000   \n",
       "\n",
       "   imp_sps_prest_lavoro  imp_tot_neg  VAR_RIMBORSO  VAR_DETRAZIONE  \\\n",
       "0              0.005010          0.0      0.000000    1.194026e-02   \n",
       "1              0.003635          0.0      0.000513    1.023279e-07   \n",
       "2              0.003713          0.0      0.000000    1.236735e-03   \n",
       "3              0.003635          0.0      0.000000    2.206446e-04   \n",
       "4              0.003635          0.0      0.000000    2.642362e-04   \n",
       "\n",
       "   VAR_VOL_AFF_POS  VAR_VOL_AFF_NEG  Target  \n",
       "0         0.002484         0.033235       0  \n",
       "1         0.001146         0.033122       0  \n",
       "2         0.001147         0.033122       0  \n",
       "3         0.001084         0.033122       0  \n",
       "4         0.001122         0.033122       0  \n",
       "\n",
       "[5 rows x 48 columns]"
      ]
     },
     "execution_count": 18,
     "metadata": {},
     "output_type": "execute_result"
    }
   ],
   "source": [
    "df_minmax = numeric_copy.copy()\n",
    "minmax_scaler = MinMaxScaler()\n",
    "df_minmax[feat_cols] = minmax_scaler.fit_transform(df_minmax[feat_cols])\n",
    "df_minmax.head()"
   ]
  },
  {
   "cell_type": "markdown",
   "id": "246fd48e-4ff5-4bc6-af74-bbc078e72eaa",
   "metadata": {},
   "source": [
    "# Clustering"
   ]
  },
  {
   "cell_type": "code",
   "execution_count": 19,
   "id": "c66f9d3e-3126-4494-afea-caf123965c2c",
   "metadata": {},
   "outputs": [],
   "source": [
    "from sklearn.cluster import KMeans\n",
    "from sklearn import metrics\n",
    "from sklearn.metrics import silhouette_score, silhouette_samples\n",
    "import matplotlib.cm as cm\n",
    "from kneed import KneeLocator\n",
    "\n",
    "CLUSTERS = [*range(2, 12)]"
   ]
  },
  {
   "cell_type": "code",
   "execution_count": 20,
   "id": "f552caac-a155-4e0e-aa12-ef9e042c960e",
   "metadata": {},
   "outputs": [],
   "source": [
    "def print_metrics(X, kmeans):\n",
    "    \"\"\"print the metrics of the kmeans model.\n",
    "    Parameters\n",
    "    ----------\n",
    "        X - normalized dataset\n",
    "        kmeans - model.\n",
    "    Prints\n",
    "    ------\n",
    "        K\n",
    "        SSE\n",
    "        Silhouette score\n",
    "        Separation\n",
    "    \n",
    "    \"\"\"\n",
    "    print(f'K={len(kmeans.cluster_centers_)}')\n",
    "    print('\\tSSE:\\t\\t{}'.format(kmeans.inertia_))\n",
    "    print('\\tSilhouette:\\t\\t{}'.format(metrics.silhouette_score(X, kmeans.labels_)))\n",
    "    print('\\tDaviesBouldin score:\\t\\t{}'.format(metrics.davies_bouldin_score(X, kmeans.labels_)))\n",
    "\n",
    "def run_kmeans(X, range_nclusters=CLUSTERS):\n",
    "    '''runs kmeans for different values of k'''\n",
    "    inertia, models = [], []\n",
    "    for k in range_nclusters:\n",
    "        k_means = KMeans(init='k-means++', n_clusters= k, n_init=20, random_state=123)\n",
    "        model = k_means.fit(X) #returns fitted estimator\n",
    "        models.append(model)\n",
    "        inertia.append(k_means.inertia_)\n",
    "    return inertia, models\n",
    "\n",
    "def plot_silouette(data, models):\n",
    "    \"\"\"\n",
    "    models - list of already fit kmeans models\n",
    "    \"\"\"\n",
    "    fig, axs = plt.subplots(ncols=len(models), figsize=(15,5), sharex=True, sharey=True)\n",
    "    for i,model in enumerate(models):\n",
    "        nclusters = model.n_clusters\n",
    "        axs[i].set_xlim([-0.1, 1])\n",
    "        axs[i].set_ylim([0, len(data) + (nclusters + 1) * 10])\n",
    "        axs[i].set_title(f\"$K={nclusters}$\")\n",
    "        \n",
    "        clusters = model.predict(data)\n",
    "        silhouette_avg = silhouette_score(data, clusters)\n",
    "        \n",
    "        # Compute the silhouette scores for each sample\n",
    "        sample_silhouette_values = silhouette_samples(data, clusters)\n",
    "        \n",
    "        y_lower = 10\n",
    "        for j in range(nclusters):\n",
    "            # Aggregate the silhouette scores for samples belonging to\n",
    "            # cluster i, and sort them\n",
    "            ith_cluster_silhouette_values = sample_silhouette_values[clusters == j]\n",
    "\n",
    "            ith_cluster_silhouette_values.sort()\n",
    "\n",
    "            size_cluster_i = ith_cluster_silhouette_values.shape[0]\n",
    "            y_upper = y_lower + size_cluster_i\n",
    "\n",
    "            color = cm.nipy_spectral(float(j) / nclusters)\n",
    "            axs[i].fill_betweenx(np.arange(y_lower, y_upper), 0, ith_cluster_silhouette_values, facecolor=color, edgecolor=color, alpha=0.7)\n",
    "\n",
    "            # Label the silhouette plots with their cluster numbers at the middle\n",
    "            axs[i].text(-0.05, y_lower + 0.5 * size_cluster_i, str(j))\n",
    "\n",
    "            # Compute the new y_lower for next plot\n",
    "            y_lower = y_upper + 10  # 10 for the 0 samples\n",
    "        \n",
    "        # The vertical line for average silhouette score of all the values\n",
    "        axs[i].axvline(x=silhouette_avg, color=\"red\", linestyle=\"--\")\n",
    "\n",
    "        axs[i].set_yticks([])  # Clear the yaxis labels / ticks\n",
    "        axs[i].set_xticks([-0.1, 0, 0.2, 0.4, 0.6, 0.8, 1])\n",
    "\n",
    "        \n",
    "    plt.tight_layout()"
   ]
  },
  {
   "cell_type": "markdown",
   "id": "86c309a9-f315-4b5f-a262-5b0a92102ff9",
   "metadata": {},
   "source": [
    "## Clustering on standard scaled dataset"
   ]
  },
  {
   "cell_type": "code",
   "execution_count": 21,
   "id": "0029153d-b65a-4701-a393-046cb7deb6c0",
   "metadata": {},
   "outputs": [],
   "source": [
    "wcss_std, models_std = run_kmeans(df_std[feat_cols])"
   ]
  },
  {
   "cell_type": "code",
   "execution_count": 22,
   "id": "daefe946-c2b4-4193-8e19-3095340c0751",
   "metadata": {},
   "outputs": [
    {
     "data": {
      "image/png": "[encoded data removed]",
      "text/plain": [
       "<Figure size 432x288 with 1 Axes>"
      ]
     },
     "metadata": {},
     "output_type": "display_data"
    }
   ],
   "source": [
    "sil_score_std = []\n",
    "for m in models_std:\n",
    "    sil_score_std.append(silhouette_score(df_std[feat_cols], m.labels_))\n",
    "    \n",
    "plt.plot(CLUSTERS, sil_score_std, 'bo-', label=\"K-means\")\n",
    "plt.vlines(np.argmax(sil_score_std) + 2, min(sil_score_std), max(sil_score_std), 'r', '--', label=\"max silhouette\")\n",
    "plt.xticks(CLUSTERS)\n",
    "plt.xlabel(\"K\")\n",
    "plt.xticks(range(2, 12))\n",
    "plt.ylabel(\"Silhouette score\")\n",
    "plt.legend()\n",
    "plt.show()"
   ]
  },
  {
   "cell_type": "code",
   "execution_count": 23,
   "id": "39faacb7-dfac-478d-93e8-4dece1f9a2ce",
   "metadata": {},
   "outputs": [
    {
     "name": "stderr",
     "output_type": "stream",
     "text": [
      "/home/gerardozinno/.pyenv/versions/3.9.9/envs/ml-environment/lib/python3.9/site-packages/kneed/knee_locator.py:304: UserWarning: No knee/elbow found\n",
      "  warnings.warn(\"No knee/elbow found\")\n"
     ]
    },
    {
     "ename": "TypeError",
     "evalue": "ufunc 'isfinite' not supported for the input types, and the inputs could not be safely coerced to any supported types according to the casting rule ''safe''",
     "output_type": "error",
     "traceback": [
      "\u001b[0;31m---------------------------------------------------------------------------\u001b[0m",
      "\u001b[0;31mTypeError\u001b[0m                                 Traceback (most recent call last)",
      "\u001b[0;32m/tmp/ipykernel_29639/302321278.py\u001b[0m in \u001b[0;36m<module>\u001b[0;34m\u001b[0m\n\u001b[1;32m      1\u001b[0m \u001b[0mkl\u001b[0m \u001b[0;34m=\u001b[0m \u001b[0mKneeLocator\u001b[0m\u001b[0;34m(\u001b[0m\u001b[0mCLUSTERS\u001b[0m\u001b[0;34m,\u001b[0m \u001b[0mwcss_std\u001b[0m\u001b[0;34m,\u001b[0m \u001b[0mcurve\u001b[0m\u001b[0;34m=\u001b[0m\u001b[0;34m\"convex\"\u001b[0m\u001b[0;34m,\u001b[0m \u001b[0mdirection\u001b[0m\u001b[0;34m=\u001b[0m\u001b[0;34m\"decreasing\"\u001b[0m\u001b[0;34m)\u001b[0m\u001b[0;34m\u001b[0m\u001b[0;34m\u001b[0m\u001b[0m\n\u001b[1;32m      2\u001b[0m \u001b[0mplt\u001b[0m\u001b[0;34m.\u001b[0m\u001b[0mplot\u001b[0m\u001b[0;34m(\u001b[0m\u001b[0mCLUSTERS\u001b[0m\u001b[0;34m,\u001b[0m \u001b[0mwcss_std\u001b[0m\u001b[0;34m,\u001b[0m \u001b[0;34m'o-'\u001b[0m\u001b[0;34m,\u001b[0m \u001b[0mlabel\u001b[0m\u001b[0;34m=\u001b[0m\u001b[0;34m\"K-means\"\u001b[0m\u001b[0;34m)\u001b[0m\u001b[0;34m\u001b[0m\u001b[0;34m\u001b[0m\u001b[0m\n\u001b[0;32m----> 3\u001b[0;31m \u001b[0mplt\u001b[0m\u001b[0;34m.\u001b[0m\u001b[0mvlines\u001b[0m\u001b[0;34m(\u001b[0m\u001b[0mkl\u001b[0m\u001b[0;34m.\u001b[0m\u001b[0melbow\u001b[0m\u001b[0;34m,\u001b[0m \u001b[0mmin\u001b[0m\u001b[0;34m(\u001b[0m\u001b[0mwcss_std\u001b[0m\u001b[0;34m)\u001b[0m\u001b[0;34m,\u001b[0m \u001b[0mmax\u001b[0m\u001b[0;34m(\u001b[0m\u001b[0mwcss_std\u001b[0m\u001b[0;34m)\u001b[0m\u001b[0;34m,\u001b[0m \u001b[0;34m'r'\u001b[0m\u001b[0;34m,\u001b[0m \u001b[0;34m'--'\u001b[0m\u001b[0;34m,\u001b[0m \u001b[0mlabel\u001b[0m\u001b[0;34m=\u001b[0m\u001b[0;34m\"elbow\"\u001b[0m\u001b[0;34m)\u001b[0m\u001b[0;34m\u001b[0m\u001b[0;34m\u001b[0m\u001b[0m\n\u001b[0m\u001b[1;32m      4\u001b[0m \u001b[0mplt\u001b[0m\u001b[0;34m.\u001b[0m\u001b[0mxticks\u001b[0m\u001b[0;34m(\u001b[0m\u001b[0mCLUSTERS\u001b[0m\u001b[0;34m)\u001b[0m\u001b[0;34m\u001b[0m\u001b[0;34m\u001b[0m\u001b[0m\n\u001b[1;32m      5\u001b[0m \u001b[0mplt\u001b[0m\u001b[0;34m.\u001b[0m\u001b[0mxlabel\u001b[0m\u001b[0;34m(\u001b[0m\u001b[0;34m\"K\"\u001b[0m\u001b[0;34m)\u001b[0m\u001b[0;34m\u001b[0m\u001b[0;34m\u001b[0m\u001b[0m\n",
      "\u001b[0;32m~/.pyenv/versions/3.9.9/envs/ml-environment/lib/python3.9/site-packages/matplotlib/pyplot.py\u001b[0m in \u001b[0;36mvlines\u001b[0;34m(x, ymin, ymax, colors, linestyles, label, data, **kwargs)\u001b[0m\n\u001b[1;32m   2998\u001b[0m         \u001b[0mx\u001b[0m\u001b[0;34m,\u001b[0m \u001b[0mymin\u001b[0m\u001b[0;34m,\u001b[0m \u001b[0mymax\u001b[0m\u001b[0;34m,\u001b[0m \u001b[0mcolors\u001b[0m\u001b[0;34m=\u001b[0m\u001b[0;32mNone\u001b[0m\u001b[0;34m,\u001b[0m \u001b[0mlinestyles\u001b[0m\u001b[0;34m=\u001b[0m\u001b[0;34m'solid'\u001b[0m\u001b[0;34m,\u001b[0m \u001b[0mlabel\u001b[0m\u001b[0;34m=\u001b[0m\u001b[0;34m''\u001b[0m\u001b[0;34m,\u001b[0m \u001b[0;34m*\u001b[0m\u001b[0;34m,\u001b[0m\u001b[0;34m\u001b[0m\u001b[0;34m\u001b[0m\u001b[0m\n\u001b[1;32m   2999\u001b[0m         data=None, **kwargs):\n\u001b[0;32m-> 3000\u001b[0;31m     return gca().vlines(\n\u001b[0m\u001b[1;32m   3001\u001b[0m         \u001b[0mx\u001b[0m\u001b[0;34m,\u001b[0m \u001b[0mymin\u001b[0m\u001b[0;34m,\u001b[0m \u001b[0mymax\u001b[0m\u001b[0;34m,\u001b[0m \u001b[0mcolors\u001b[0m\u001b[0;34m=\u001b[0m\u001b[0mcolors\u001b[0m\u001b[0;34m,\u001b[0m \u001b[0mlinestyles\u001b[0m\u001b[0;34m=\u001b[0m\u001b[0mlinestyles\u001b[0m\u001b[0;34m,\u001b[0m\u001b[0;34m\u001b[0m\u001b[0;34m\u001b[0m\u001b[0m\n\u001b[1;32m   3002\u001b[0m         \u001b[0mlabel\u001b[0m\u001b[0;34m=\u001b[0m\u001b[0mlabel\u001b[0m\u001b[0;34m,\u001b[0m \u001b[0;34m**\u001b[0m\u001b[0;34m(\u001b[0m\u001b[0;34m{\u001b[0m\u001b[0;34m\"data\"\u001b[0m\u001b[0;34m:\u001b[0m \u001b[0mdata\u001b[0m\u001b[0;34m}\u001b[0m \u001b[0;32mif\u001b[0m \u001b[0mdata\u001b[0m \u001b[0;32mis\u001b[0m \u001b[0;32mnot\u001b[0m \u001b[0;32mNone\u001b[0m \u001b[0;32melse\u001b[0m \u001b[0;34m{\u001b[0m\u001b[0;34m}\u001b[0m\u001b[0;34m)\u001b[0m\u001b[0;34m,\u001b[0m\u001b[0;34m\u001b[0m\u001b[0;34m\u001b[0m\u001b[0m\n",
      "\u001b[0;32m~/.pyenv/versions/3.9.9/envs/ml-environment/lib/python3.9/site-packages/matplotlib/__init__.py\u001b[0m in \u001b[0;36minner\u001b[0;34m(ax, data, *args, **kwargs)\u001b[0m\n\u001b[1;32m   1410\u001b[0m     \u001b[0;32mdef\u001b[0m \u001b[0minner\u001b[0m\u001b[0;34m(\u001b[0m\u001b[0max\u001b[0m\u001b[0;34m,\u001b[0m \u001b[0;34m*\u001b[0m\u001b[0margs\u001b[0m\u001b[0;34m,\u001b[0m \u001b[0mdata\u001b[0m\u001b[0;34m=\u001b[0m\u001b[0;32mNone\u001b[0m\u001b[0;34m,\u001b[0m \u001b[0;34m**\u001b[0m\u001b[0mkwargs\u001b[0m\u001b[0;34m)\u001b[0m\u001b[0;34m:\u001b[0m\u001b[0;34m\u001b[0m\u001b[0;34m\u001b[0m\u001b[0m\n\u001b[1;32m   1411\u001b[0m         \u001b[0;32mif\u001b[0m \u001b[0mdata\u001b[0m \u001b[0;32mis\u001b[0m \u001b[0;32mNone\u001b[0m\u001b[0;34m:\u001b[0m\u001b[0;34m\u001b[0m\u001b[0;34m\u001b[0m\u001b[0m\n\u001b[0;32m-> 1412\u001b[0;31m             \u001b[0;32mreturn\u001b[0m \u001b[0mfunc\u001b[0m\u001b[0;34m(\u001b[0m\u001b[0max\u001b[0m\u001b[0;34m,\u001b[0m \u001b[0;34m*\u001b[0m\u001b[0mmap\u001b[0m\u001b[0;34m(\u001b[0m\u001b[0msanitize_sequence\u001b[0m\u001b[0;34m,\u001b[0m \u001b[0margs\u001b[0m\u001b[0;34m)\u001b[0m\u001b[0;34m,\u001b[0m \u001b[0;34m**\u001b[0m\u001b[0mkwargs\u001b[0m\u001b[0;34m)\u001b[0m\u001b[0;34m\u001b[0m\u001b[0;34m\u001b[0m\u001b[0m\n\u001b[0m\u001b[1;32m   1413\u001b[0m \u001b[0;34m\u001b[0m\u001b[0m\n\u001b[1;32m   1414\u001b[0m         \u001b[0mbound\u001b[0m \u001b[0;34m=\u001b[0m \u001b[0mnew_sig\u001b[0m\u001b[0;34m.\u001b[0m\u001b[0mbind\u001b[0m\u001b[0;34m(\u001b[0m\u001b[0max\u001b[0m\u001b[0;34m,\u001b[0m \u001b[0;34m*\u001b[0m\u001b[0margs\u001b[0m\u001b[0;34m,\u001b[0m \u001b[0;34m**\u001b[0m\u001b[0mkwargs\u001b[0m\u001b[0;34m)\u001b[0m\u001b[0;34m\u001b[0m\u001b[0;34m\u001b[0m\u001b[0m\n",
      "\u001b[0;32m~/.pyenv/versions/3.9.9/envs/ml-environment/lib/python3.9/site-packages/matplotlib/axes/_axes.py\u001b[0m in \u001b[0;36mvlines\u001b[0;34m(self, x, ymin, ymax, colors, linestyles, label, **kwargs)\u001b[0m\n\u001b[1;32m   1146\u001b[0m \u001b[0;34m\u001b[0m\u001b[0m\n\u001b[1;32m   1147\u001b[0m             \u001b[0mcorners\u001b[0m \u001b[0;34m=\u001b[0m \u001b[0;34m(\u001b[0m\u001b[0mminx\u001b[0m\u001b[0;34m,\u001b[0m \u001b[0mminy\u001b[0m\u001b[0;34m)\u001b[0m\u001b[0;34m,\u001b[0m \u001b[0;34m(\u001b[0m\u001b[0mmaxx\u001b[0m\u001b[0;34m,\u001b[0m \u001b[0mmaxy\u001b[0m\u001b[0;34m)\u001b[0m\u001b[0;34m\u001b[0m\u001b[0;34m\u001b[0m\u001b[0m\n\u001b[0;32m-> 1148\u001b[0;31m             \u001b[0mself\u001b[0m\u001b[0;34m.\u001b[0m\u001b[0mupdate_datalim\u001b[0m\u001b[0;34m(\u001b[0m\u001b[0mcorners\u001b[0m\u001b[0;34m)\u001b[0m\u001b[0;34m\u001b[0m\u001b[0;34m\u001b[0m\u001b[0m\n\u001b[0m\u001b[1;32m   1149\u001b[0m             \u001b[0mself\u001b[0m\u001b[0;34m.\u001b[0m\u001b[0m_request_autoscale_view\u001b[0m\u001b[0;34m(\u001b[0m\u001b[0;34m)\u001b[0m\u001b[0;34m\u001b[0m\u001b[0;34m\u001b[0m\u001b[0m\n\u001b[1;32m   1150\u001b[0m \u001b[0;34m\u001b[0m\u001b[0m\n",
      "\u001b[0;32m~/.pyenv/versions/3.9.9/envs/ml-environment/lib/python3.9/site-packages/matplotlib/axes/_base.py\u001b[0m in \u001b[0;36mupdate_datalim\u001b[0;34m(self, xys, updatex, updatey)\u001b[0m\n\u001b[1;32m   2474\u001b[0m         \"\"\"\n\u001b[1;32m   2475\u001b[0m         \u001b[0mxys\u001b[0m \u001b[0;34m=\u001b[0m \u001b[0mnp\u001b[0m\u001b[0;34m.\u001b[0m\u001b[0masarray\u001b[0m\u001b[0;34m(\u001b[0m\u001b[0mxys\u001b[0m\u001b[0;34m)\u001b[0m\u001b[0;34m\u001b[0m\u001b[0;34m\u001b[0m\u001b[0m\n\u001b[0;32m-> 2476\u001b[0;31m         \u001b[0;32mif\u001b[0m \u001b[0;32mnot\u001b[0m \u001b[0mnp\u001b[0m\u001b[0;34m.\u001b[0m\u001b[0many\u001b[0m\u001b[0;34m(\u001b[0m\u001b[0mnp\u001b[0m\u001b[0;34m.\u001b[0m\u001b[0misfinite\u001b[0m\u001b[0;34m(\u001b[0m\u001b[0mxys\u001b[0m\u001b[0;34m)\u001b[0m\u001b[0;34m)\u001b[0m\u001b[0;34m:\u001b[0m\u001b[0;34m\u001b[0m\u001b[0;34m\u001b[0m\u001b[0m\n\u001b[0m\u001b[1;32m   2477\u001b[0m             \u001b[0;32mreturn\u001b[0m\u001b[0;34m\u001b[0m\u001b[0;34m\u001b[0m\u001b[0m\n\u001b[1;32m   2478\u001b[0m         self.dataLim.update_from_data_xy(xys, self.ignore_existing_data_limits,\n",
      "\u001b[0;31mTypeError\u001b[0m: ufunc 'isfinite' not supported for the input types, and the inputs could not be safely coerced to any supported types according to the casting rule ''safe''"
     ]
    },
    {
     "data": {
      "image/png": "[encoded data removed]",
      "text/plain": [
       "<Figure size 432x288 with 1 Axes>"
      ]
     },
     "metadata": {},
     "output_type": "display_data"
    }
   ],
   "source": [
    "kl = KneeLocator(CLUSTERS, wcss_std, curve=\"convex\", direction=\"decreasing\")\n",
    "plt.plot(CLUSTERS, wcss_std, 'o-', label=\"K-means\")\n",
    "plt.vlines(kl.elbow, min(wcss_std), max(wcss_std), 'r', '--', label=\"elbow\")\n",
    "plt.xticks(CLUSTERS)\n",
    "plt.xlabel(\"K\")\n",
    "plt.ylabel(\"WCSS\")\n",
    "plt.legend()\n",
    "plt.show()"
   ]
  },
  {
   "cell_type": "markdown",
   "id": "42914cc0-c822-4c16-9b35-014e68240b1c",
   "metadata": {},
   "source": [
    "## Clustering on minmax scaled dataset"
   ]
  },
  {
   "cell_type": "code",
   "execution_count": 24,
   "id": "36258722-23ea-47cf-a5a8-e350300ad50d",
   "metadata": {},
   "outputs": [],
   "source": [
    "wcss_minmax, models_minmax = run_kmeans(df_minmax[feat_cols])"
   ]
  },
  {
   "cell_type": "code",
   "execution_count": 26,
   "id": "5863e37f-cc14-48b1-9292-6fa1c3882f66",
   "metadata": {},
   "outputs": [
    {
     "data": {
      "image/png": "[encoded data removed]",
      "text/plain": [
       "<Figure size 432x288 with 1 Axes>"
      ]
     },
     "metadata": {},
     "output_type": "display_data"
    }
   ],
   "source": [
    "sil_score_minmax = []\n",
    "for m in models_std:\n",
    "    sil_score_minmax.append(silhouette_score(df_minmax[feat_cols], m.labels_))\n",
    "    \n",
    "plt.plot(CLUSTERS, sil_score_minmax, 'bo-', label=\"K-means\")\n",
    "plt.vlines(np.argmax(sil_score_minmax) + 2, min(sil_score_minmax), max(sil_score_minmax), 'r', '--', label=\"max silhouette\")\n",
    "plt.xticks(CLUSTERS)\n",
    "plt.xlabel(\"K\")\n",
    "plt.xticks(range(2, 12))\n",
    "plt.ylabel(\"Silhouette score\")\n",
    "plt.legend()\n",
    "plt.show()"
   ]
  },
  {
   "cell_type": "code",
   "execution_count": 27,
   "id": "eb8747fe-eb0f-4ff9-abbd-741441521882",
   "metadata": {},
   "outputs": [
    {
     "data": {
      "image/png": "[encoded data removed]",
      "text/plain": [
       "<Figure size 432x288 with 1 Axes>"
      ]
     },
     "metadata": {},
     "output_type": "display_data"
    }
   ],
   "source": [
    "kl = KneeLocator(CLUSTERS, wcss_minmax, curve=\"convex\", direction=\"decreasing\")\n",
    "plt.plot(CLUSTERS, wcss_minmax, 'o-', label=\"K-means\")\n",
    "plt.vlines(kl.elbow, min(wcss_minmax), max(wcss_minmax), 'r', '--', label=\"elbow\")\n",
    "plt.xticks(CLUSTERS)\n",
    "plt.xlabel(\"K\")\n",
    "plt.ylabel(\"WCSS\")\n",
    "plt.legend()\n",
    "plt.show()"
   ]
  },
  {
   "cell_type": "code",
   "execution_count": 29,
   "id": "28df64c4-8b39-4694-821a-9586d46bc221",
   "metadata": {},
   "outputs": [
    {
     "data": {
      "image/png": "[encoded data removed]",
      "text/plain": [
       "<Figure size 1080x360 with 10 Axes>"
      ]
     },
     "metadata": {},
     "output_type": "display_data"
    }
   ],
   "source": [
    "plot_silouette(df_minmax[feat_cols], models_minmax[0:10])"
   ]
  },
  {
   "cell_type": "markdown",
   "id": "2b81d83a-4e29-4901-a993-efa8f4130e5b",
   "metadata": {},
   "source": [
    "# Picking k=5"
   ]
  },
  {
   "cell_type": "code",
   "execution_count": 36,
   "id": "80ea5461-abf2-462b-a35a-f1056f9ec765",
   "metadata": {},
   "outputs": [],
   "source": [
    "selected_kmeans = models_minmax[3]\n",
    "centroids = selected_kmeans.cluster_centers_"
   ]
  },
  {
   "cell_type": "code",
   "execution_count": 34,
   "id": "2a27007f-387c-4015-ab7d-56e69fed9d08",
   "metadata": {},
   "outputs": [],
   "source": [
    "df_minmax['Cluster'] = selected_kmeans.predict(df_minmax[feat_cols])"
   ]
  },
  {
   "cell_type": "code",
   "execution_count": 35,
   "id": "8784ae01-229d-43c1-a102-c28b58bce9cb",
   "metadata": {},
   "outputs": [
    {
     "data": {
      "text/plain": [
       "2    4176\n",
       "4    2663\n",
       "0    2444\n",
       "3    1419\n",
       "1    1127\n",
       "Name: Cluster, dtype: int64"
      ]
     },
     "execution_count": 35,
     "metadata": {},
     "output_type": "execute_result"
    }
   ],
   "source": [
    "df_minmax['Cluster'].value_counts()"
   ]
  },
  {
   "cell_type": "markdown",
   "id": "d0f714e7-be64-4486-9b5e-713ab501c93c",
   "metadata": {},
   "source": [
    "## Saving the kmeans model and the centroids"
   ]
  },
  {
   "cell_type": "code",
   "execution_count": 37,
   "id": "cf2131e7-4ec7-4a10-8402-3a203e8f0878",
   "metadata": {},
   "outputs": [],
   "source": [
    "OUTPUTS_PATH = Path(\"diva_outputs\")\n",
    "OUTPUTS_PATH.mkdir(exist_ok=True)"
   ]
  },
  {
   "cell_type": "code",
   "execution_count": 40,
   "id": "3f9c10cc-c479-473f-af3c-4f3080a8600e",
   "metadata": {},
   "outputs": [],
   "source": [
    "np.savez(OUTPUTS_PATH / \"centroids_minmax_k5\", centroids=centroids)\n",
    "save_pickle_bz2(OUTPUTS_PATH / \"kmeans_minmax_k5.bz2\", selected_kmeans)"
   ]
  },
  {
   "cell_type": "markdown",
   "id": "d072957a-67ab-441f-8dfd-605709e5211a",
   "metadata": {},
   "source": [
    "# Test, Training, Validation splitting"
   ]
  },
  {
   "cell_type": "code",
   "execution_count": 41,
   "id": "da5726fe-1f30-4fcd-977a-84f92dad141f",
   "metadata": {},
   "outputs": [],
   "source": [
    "from sklearn.model_selection import train_test_split"
   ]
  },
  {
   "cell_type": "code",
   "execution_count": 42,
   "id": "0596d4ac-f3b4-4220-8b7e-eeb4a63c935a",
   "metadata": {},
   "outputs": [],
   "source": [
    "train_test, validation = train_test_split(df_minmax, train_size=0.8, stratify=df_minmax['Cluster'], random_state=123)\n",
    "train, test = train_test_split(train_test, train_size=0.7, stratify=train_test['Cluster'], random_state=123)"
   ]
  },
  {
   "cell_type": "code",
   "execution_count": 49,
   "id": "dff38e60-8309-44d4-9f80-bf8c6c9ac64e",
   "metadata": {},
   "outputs": [
    {
     "name": "stdout",
     "output_type": "stream",
     "text": [
      "len(train)=6624\n",
      "clusters distribution\n",
      "2    0.353110\n",
      "4    0.225091\n",
      "0    0.206522\n",
      "3    0.120018\n",
      "1    0.095260\n",
      "Name: Cluster, dtype: float64\n",
      "len(test)=2839\n",
      "clusters distribution\n",
      "2    0.352941\n",
      "4    0.225079\n",
      "0    0.206763\n",
      "3    0.119760\n",
      "1    0.095456\n",
      "Name: Cluster, dtype: float64\n",
      "len(validation)=2366\n",
      "clusters distribution\n",
      "2    0.352916\n",
      "4    0.225275\n",
      "0    0.206678\n",
      "3    0.120034\n",
      "1    0.095097\n",
      "Name: Cluster, dtype: float64\n"
     ]
    }
   ],
   "source": [
    "for s in [\"train\", \"test\", \"validation\"]:\n",
    "    ss = eval(s)\n",
    "    print(f\"len({s})={len(ss)}\")\n",
    "    print(\"clusters distribution\")\n",
    "    print(ss['Cluster'].value_counts(normalize=True))"
   ]
  },
  {
   "cell_type": "markdown",
   "id": "35c4226b-396e-4c47-bb1f-47c87ab8fd63",
   "metadata": {},
   "source": [
    "Generating the set of centroids neighbors"
   ]
  },
  {
   "cell_type": "code",
   "execution_count": 60,
   "id": "0c735fbe-f514-4df9-811a-957a5b0d4fa6",
   "metadata": {},
   "outputs": [],
   "source": [
    "from sklearn.metrics import pairwise_distances\n",
    "\n",
    "def find_nearest_neighbors(df: pd.DataFrame, centroids, k, columns_to_consider=feat_cols, cluster_col='Cluster', group_by=['Cluster']):\n",
    "    \"\"\"\n",
    "    \n",
    "    \"\"\"\n",
    "    assert len(columns_to_consider) == len(centroids[0])\n",
    "    # indices of the elements to put in the final dataframe\n",
    "    clustered_ind = []\n",
    "    for (_, cluster), cent in zip(df.groupby(group_by), centroids):\n",
    "        #print(cluster[cluster_col].value_counts())\n",
    "        #print(f\"Centroid: {cent}\")\n",
    "        features = cluster[columns_to_consider].copy()\n",
    "        distances = pairwise_distances(features, [cent])\n",
    "        features['Dist'] = distances\n",
    "        # sort by distance and get the first k rows\n",
    "        sorted_f = features.sort_values(by=['Dist']).head(k)\n",
    "        clustered_ind += sorted_f.index.to_list()\n",
    "    return df.loc[clustered_ind]"
   ]
  },
  {
   "cell_type": "code",
   "execution_count": 61,
   "id": "ac7dd88a-5bfa-4195-8520-ae6e74efdd91",
   "metadata": {},
   "outputs": [],
   "source": [
    "centroids_neighbors = find_nearest_neighbors(test, centroids, 8)"
   ]
  },
  {
   "cell_type": "markdown",
   "id": "570ad1a0-f991-4d40-bd19-d5104cb46fea",
   "metadata": {},
   "source": [
    "# Saving the sets"
   ]
  },
  {
   "cell_type": "code",
   "execution_count": 50,
   "id": "9841a61b-133c-43e2-863a-e654f3c621ab",
   "metadata": {},
   "outputs": [],
   "source": [
    "df_minmax.to_csv(OUTPUTS_PATH / \"diva_minmax.csv\")\n",
    "train.to_csv(OUTPUTS_PATH / \"diva_train.csv\")\n",
    "test.to_csv(OUTPUTS_PATH / \"diva_test.csv\")\n",
    "validation.to_csv(OUTPUTS_PATH / \"diva_validation.csv\")\n",
    "centroids_neighbors.to_csv(OUTPUTS_PATH / \"diva_centroids_neighbors.csv\")"
   ]
  },
  {
   "cell_type": "markdown",
   "id": "e3d60dac-7a6d-4264-a812-cb8d3e0121b5",
   "metadata": {},
   "source": [
    "# Creating a random forest"
   ]
  },
  {
   "cell_type": "code",
   "execution_count": 73,
   "id": "a634574f-11c7-4498-8343-551b7a495502",
   "metadata": {},
   "outputs": [],
   "source": [
    "from pathlib import Path\n",
    "from sklearn.ensemble import RandomForestClassifier\n",
    "import pandas as pd\n",
    "from sklearn.experimental import enable_halving_search_cv\n",
    "from sklearn.model_selection import HalvingGridSearchCV\n",
    "import numpy as np\n",
    "from sklearn.metrics import confusion_matrix, classification_report"
   ]
  },
  {
   "cell_type": "code",
   "execution_count": 74,
   "id": "1df2ff55-2a6f-44c8-b73d-6318702f1549",
   "metadata": {},
   "outputs": [],
   "source": [
    "# Hyperparameters of the grid search\n",
    "__HYPERPARAMETERS = {\n",
    "    \"bootstrap\": [True, False],\n",
    "    \"max_depth\": [100, 350, 500],\n",
    "    \"max_features\": [\"auto\", \"sqrt\"],\n",
    "    \"min_samples_leaf\": [10, 20, 50],\n",
    "    \"min_samples_split\": [5, 10, 50],\n",
    "    \"n_estimators\": [100, 150, 350, 500],\n",
    "    \"criterion\": [\"gini\", \"entropy\"],\n",
    "}\n",
    "\n",
    "def create_random_forest(\n",
    "        x,\n",
    "        y,\n",
    "        hyperparameters=__HYPERPARAMETERS,\n",
    "        n_jobs=12\n",
    ") -> RandomForestClassifier:\n",
    "    \"\"\"Creates a random forest classifier via grid search.\n",
    "\n",
    "    Args:\n",
    "        x (ndarray): Training input examples.\n",
    "        y (ndarray): Training target values.\n",
    "        hyperparameters (Dict[str, List[Any]], optional): Dictionary of hyperparameters for the grid search. Defaults to the fixed ones.\n",
    "        n_jobs: Number of jobs to run in parallel in the grid search. (default 4)\n",
    "\n",
    "    Returns:\n",
    "        RandomForestClassifier: Random forest classifier.\n",
    "    \"\"\"\n",
    "\n",
    "    rf = RandomForestClassifier()\n",
    "    clf = HalvingGridSearchCV(rf, hyperparameters, refit=True, n_jobs=n_jobs, verbose=1)\n",
    "    clf.fit(x, y)\n",
    "    return clf.best_estimator_"
   ]
  },
  {
   "cell_type": "markdown",
   "id": "4f98b47c-eb29-408d-9bde-2f785fd9e8d3",
   "metadata": {},
   "source": [
    "## Loading the sets"
   ]
  },
  {
   "cell_type": "code",
   "execution_count": 69,
   "id": "5af758e6-3415-4940-a7f5-51e03fb400cb",
   "metadata": {},
   "outputs": [],
   "source": [
    "trainset = pd.read_csv(OUTPUTS_PATH / \"diva_train.csv\")\n",
    "testset  = pd.read_csv(OUTPUTS_PATH / \"diva_test.csv\")\n",
    "cluster_neighbors = pd.read_csv(OUTPUTS_PATH / \"diva_centroids_neighbors.csv\")"
   ]
  },
  {
   "cell_type": "code",
   "execution_count": 78,
   "id": "e92ef992-6a3f-4b92-9767-da888abf0b80",
   "metadata": {},
   "outputs": [],
   "source": [
    "X_train = trainset[feat_cols].to_numpy()\n",
    "y_train = trainset['Target'].to_numpy()\n",
    "\n",
    "X_test = testset[feat_cols].to_numpy()\n",
    "y_test = testset['Target'].to_numpy()\n",
    "\n",
    "x_test_clustered = cluster_neighbors[feat_cols].to_numpy()\n",
    "y_test_clustered = cluster_neighbors['Target'].to_numpy()"
   ]
  },
  {
   "cell_type": "code",
   "execution_count": 79,
   "id": "a96415f5-4c78-4a2c-b783-1e92f180fdba",
   "metadata": {},
   "outputs": [],
   "source": [
    "assert len(X_train) == len(y_train)\n",
    "assert len(X_test) == len(y_test)\n",
    "assert len(x_test_clustered) == len(y_test_clustered)"
   ]
  },
  {
   "cell_type": "code",
   "execution_count": 80,
   "id": "412fd3d3-c7e3-41b6-abee-83b35625cbbe",
   "metadata": {},
   "outputs": [
    {
     "name": "stdout",
     "output_type": "stream",
     "text": [
      "n_iterations: 6\n",
      "n_required_iterations: 7\n",
      "n_possible_iterations: 6\n",
      "min_resources_: 20\n",
      "max_resources_: 6624\n",
      "aggressive_elimination: False\n",
      "factor: 3\n",
      "----------\n",
      "iter: 0\n",
      "n_candidates: 864\n",
      "n_resources: 20\n",
      "Fitting 5 folds for each of 864 candidates, totalling 4320 fits\n",
      "----------\n",
      "iter: 1\n",
      "n_candidates: 288\n",
      "n_resources: 60\n",
      "Fitting 5 folds for each of 288 candidates, totalling 1440 fits\n",
      "----------\n",
      "iter: 2\n",
      "n_candidates: 96\n",
      "n_resources: 180\n",
      "Fitting 5 folds for each of 96 candidates, totalling 480 fits\n",
      "----------\n",
      "iter: 3\n",
      "n_candidates: 32\n",
      "n_resources: 540\n",
      "Fitting 5 folds for each of 32 candidates, totalling 160 fits\n",
      "----------\n",
      "iter: 4\n",
      "n_candidates: 11\n",
      "n_resources: 1620\n",
      "Fitting 5 folds for each of 11 candidates, totalling 55 fits\n",
      "----------\n",
      "iter: 5\n",
      "n_candidates: 4\n",
      "n_resources: 4860\n",
      "Fitting 5 folds for each of 4 candidates, totalling 20 fits\n"
     ]
    }
   ],
   "source": [
    "rf = create_random_forest(X_train, y_train)"
   ]
  },
  {
   "cell_type": "code",
   "execution_count": 81,
   "id": "de2e9865-17b4-4513-9cff-0cc18e759d2b",
   "metadata": {},
   "outputs": [
    {
     "name": "stdout",
     "output_type": "stream",
     "text": [
      "              precision    recall  f1-score   support\n",
      "\n",
      "           0       0.89      0.95      0.92      2076\n",
      "           1       0.84      0.67      0.75       763\n",
      "\n",
      "    accuracy                           0.88      2839\n",
      "   macro avg       0.86      0.81      0.83      2839\n",
      "weighted avg       0.87      0.88      0.87      2839\n",
      "\n"
     ]
    }
   ],
   "source": [
    "from sklearn.metrics import classification_report\n",
    "\n",
    "print(classification_report(y_test, rf.predict(X_test)))"
   ]
  },
  {
   "cell_type": "code",
   "execution_count": 82,
   "id": "4f16be36-1b1e-48bc-8a1c-09d0453ce69d",
   "metadata": {},
   "outputs": [],
   "source": [
    "save_pickle_bz2(OUTPUTS_PATH / \"diva_minmax_randfor_k5.bz2\", rf)\n",
    "np.savez(OUTPUTS_PATH / \"diva_minmax_randfor_data\", X_train=X_train, y_train=y_train, X_test=X_test, y_test=y_test, x_test_clustered=x_test_clustered, y_test_clustered=y_test_clustered)"
   ]
  },
  {
   "cell_type": "code",
   "execution_count": null,
   "id": "19e974a2-cbc5-490f-8e93-c605675e5098",
   "metadata": {},
   "outputs": [],
   "source": []
  }
 ],
 "metadata": {
  "kernelspec": {
   "display_name": "Python 3 (ipykernel)",
   "language": "python",
   "name": "python3"
  },
  "language_info": {
   "codemirror_mode": {
    "name": "ipython",
    "version": 3
   },
   "file_extension": ".py",
   "mimetype": "text/x-python",
   "name": "python",
   "nbconvert_exporter": "python",
   "pygments_lexer": "ipython3",
   "version": "3.9.9"
  }
 },
 "nbformat": 4,
 "nbformat_minor": 5
}
