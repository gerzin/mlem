{
 "cells": [
  {
   "cell_type": "markdown",
   "id": "c9db0740-002e-49ed-bbd7-85e89d19116d",
   "metadata": {},
   "source": [
    "Analysis of the attack models data in order to see why they are majority classifiers"
   ]
  },
  {
   "cell_type": "code",
   "execution_count": 1,
   "id": "7d631a0c-b828-4492-859e-1dfc609f2fab",
   "metadata": {},
   "outputs": [],
   "source": [
    "import numpy as np\n",
    "import pandas as pd\n",
    "import matplotlib.pyplot as plt\n",
    "import seaborn as sns; sns.set()\n",
    "from pathlib import Path\n",
    "import os\n",
    "import sys\n",
    "import bz2\n",
    "import pickle\n",
    "np.random.seed(10)\n",
    "# adds the visibility of the mlem module, needed to load the attack models\n",
    "sys.path.append(\"../../../../..\") \n",
    "import mlem\n",
    "from mlem.ensemble import HardVotingClassifier\n",
    "from mlem.utilities import report_and_confusion, load_pickle_bz2"
   ]
  },
  {
   "cell_type": "code",
   "execution_count": 2,
   "id": "7522666d-f96c-497e-b2ec-90211b76aaa6",
   "metadata": {},
   "outputs": [],
   "source": [
    "from sklearn.metrics import classification_report, ConfusionMatrixDisplay"
   ]
  },
  {
   "cell_type": "code",
   "execution_count": 3,
   "id": "2b146011-ce94-40a5-bcef-ee429769f3dd",
   "metadata": {},
   "outputs": [],
   "source": [
    "BLACK_BOX_PATH = '../BB_DATA/diva_rf_noclustering.bz2'\n",
    "black_box = load_pickle_bz2(BLACK_BOX_PATH)"
   ]
  },
  {
   "cell_type": "code",
   "execution_count": 4,
   "id": "bdcfb755-e076-47e2-a4c5-e714869ef058",
   "metadata": {},
   "outputs": [
    {
     "name": "stdout",
     "output_type": "stream",
     "text": [
      "x_train x_test y_train y_test x_test_clustered y_test_clustered "
     ]
    }
   ],
   "source": [
    "BASE_BB_DATA_PATH = \"../BB_DATA/diva_rf_noclustering_data_nsamples_{n_samples}.npz\"\n",
    "loaded = np.load(BASE_BB_DATA_PATH.format(n_samples=5), allow_pickle=True)\n",
    "for k in loaded.keys():\n",
    "    print(k, end=\" \")\n",
    "x_train = loaded[\"x_train\"]\n",
    "x_test = loaded[\"x_test\"]\n",
    "y_train = loaded[\"y_train\"]\n",
    "y_test = loaded[\"y_test\"]\n",
    "x_test_clustered = loaded[\"x_test_clustered\"]\n",
    "y_test_clustered = loaded[\"y_test_clustered\"]"
   ]
  },
  {
   "cell_type": "markdown",
   "id": "6eb127ee-d2dc-4a62-8184-0a4c33325b44",
   "metadata": {},
   "source": [
    "# Load Attack Models and data"
   ]
  },
  {
   "cell_type": "code",
   "execution_count": 5,
   "id": "30a09c57-ab85-4160-b04b-1dbbd1c51651",
   "metadata": {},
   "outputs": [],
   "source": [
    "def load_atk_and_data(idx, base_path=\"/home/gerardozinno/Desktop/ExperimentsResult/ADA/DIVA/diva_results_noclust_5/gaussian/same/\"):\n",
    "    index_template = Path(base_path) / f\"{idx}\" / \"attack\"\n",
    "    atk_0 = load_pickle_bz2(index_template / \"0\" / \"model.pkl.bz2\")\n",
    "    atk_1 = load_pickle_bz2(index_template / \"1\" / \"model.pkl.bz2\")\n",
    "    data_0 = np.load(index_template / \"0\" / \"data.npz\" ,allow_pickle=True)\n",
    "    data_1 = np.load(index_template / \"1\" / \"data.npz\" ,allow_pickle=True)\n",
    "    return (atk_0, data_0), (atk_1, data_1)"
   ]
  },
  {
   "cell_type": "markdown",
   "id": "92922e84-fbcb-4ea1-b0c1-090d1f0ab480",
   "metadata": {},
   "source": [
    "## idx 0"
   ]
  },
  {
   "cell_type": "code",
   "execution_count": 6,
   "id": "4c4a449d-0c9f-456c-8201-be5fed4ae238",
   "metadata": {},
   "outputs": [
    {
     "name": "stdout",
     "output_type": "stream",
     "text": [
      "x_train x_test y_train y_test "
     ]
    },
    {
     "name": "stderr",
     "output_type": "stream",
     "text": [
      "/home/gerardozinno/.pyenv/versions/ml-environment/lib/python3.9/site-packages/sklearn/base.py:329: UserWarning: Trying to unpickle estimator DecisionTreeClassifier from version 1.0.2 when using version 1.1.1. This might lead to breaking code or invalid results. Use at your own risk. For more info please refer to:\n",
      "https://scikit-learn.org/stable/model_persistence.html#security-maintainability-limitations\n",
      "  warnings.warn(\n",
      "/home/gerardozinno/.pyenv/versions/ml-environment/lib/python3.9/site-packages/sklearn/base.py:329: UserWarning: Trying to unpickle estimator AdaBoostClassifier from version 1.0.2 when using version 1.1.1. This might lead to breaking code or invalid results. Use at your own risk. For more info please refer to:\n",
      "https://scikit-learn.org/stable/model_persistence.html#security-maintainability-limitations\n",
      "  warnings.warn(\n"
     ]
    }
   ],
   "source": [
    "(atk_0, data_0), (atk_1, data_1) = load_atk_and_data(0)\n",
    "for k in data_0.keys():\n",
    "    print(k, end=\" \")"
   ]
  },
  {
   "cell_type": "markdown",
   "id": "31b9e94c-a81d-4ad4-9c22-02dbda3e4b2e",
   "metadata": {},
   "source": [
    "#### train"
   ]
  },
  {
   "cell_type": "markdown",
   "id": "133240b3-a32c-4bed-8d9f-41f527b7ca31",
   "metadata": {},
   "source": [
    "Trainset for the attack model trained to recognise the label 0"
   ]
  },
  {
   "cell_type": "code",
   "execution_count": 7,
   "id": "cd766fd0-2d56-4035-9b65-d19f3a3dec12",
   "metadata": {},
   "outputs": [
    {
     "data": {
      "text/plain": [
       "0         1         Target\n",
       "0.603055  0.396945  in        4\n",
       "0.607988  0.392012  in        3\n",
       "0.589812  0.410188  in        2\n",
       "0.565087  0.434913  in        2\n",
       "0.586717  0.413283  in        2\n",
       "                             ..\n",
       "0.577820  0.422180  in        1\n",
       "0.577818  0.422182  in        1\n",
       "0.577816  0.422184  in        1\n",
       "0.577815  0.422185  in        1\n",
       "0.774163  0.225837  out       1\n",
       "Length: 6971, dtype: int64"
      ]
     },
     "execution_count": 7,
     "metadata": {},
     "output_type": "execute_result"
    }
   ],
   "source": [
    "d0_train = pd.DataFrame(data_0['x_train'])\n",
    "d0_train['Target'] = data_0['y_train']\n",
    "\n",
    "d0_train.value_counts()"
   ]
  },
  {
   "cell_type": "code",
   "execution_count": 8,
   "id": "469d8e1e-9ae3-4a5c-ba33-b0bdd881799e",
   "metadata": {},
   "outputs": [
    {
     "data": {
      "text/plain": [
       "in     0.797772\n",
       "out    0.202228\n",
       "Name: Target, dtype: float64"
      ]
     },
     "execution_count": 8,
     "metadata": {},
     "output_type": "execute_result"
    }
   ],
   "source": [
    "d0_train.Target.value_counts(normalize=True)"
   ]
  },
  {
   "cell_type": "code",
   "execution_count": 10,
   "id": "a0c0fb1e-50b2-4212-a006-8897f88de593",
   "metadata": {},
   "outputs": [
    {
     "data": {
      "text/html": [
       "<div>\n",
       "<style scoped>\n",
       "    .dataframe tbody tr th:only-of-type {\n",
       "        vertical-align: middle;\n",
       "    }\n",
       "\n",
       "    .dataframe tbody tr th {\n",
       "        vertical-align: top;\n",
       "    }\n",
       "\n",
       "    .dataframe thead th {\n",
       "        text-align: right;\n",
       "    }\n",
       "</style>\n",
       "<table border=\"1\" class=\"dataframe\">\n",
       "  <thead>\n",
       "    <tr style=\"text-align: right;\">\n",
       "      <th></th>\n",
       "      <th>0</th>\n",
       "      <th>1</th>\n",
       "    </tr>\n",
       "  </thead>\n",
       "  <tbody>\n",
       "    <tr>\n",
       "      <th>count</th>\n",
       "      <td>7002.000000</td>\n",
       "      <td>7002.000000</td>\n",
       "    </tr>\n",
       "    <tr>\n",
       "      <th>mean</th>\n",
       "      <td>0.595589</td>\n",
       "      <td>0.404411</td>\n",
       "    </tr>\n",
       "    <tr>\n",
       "      <th>std</th>\n",
       "      <td>0.039238</td>\n",
       "      <td>0.039238</td>\n",
       "    </tr>\n",
       "    <tr>\n",
       "      <th>min</th>\n",
       "      <td>0.480527</td>\n",
       "      <td>0.225837</td>\n",
       "    </tr>\n",
       "    <tr>\n",
       "      <th>25%</th>\n",
       "      <td>0.569417</td>\n",
       "      <td>0.379078</td>\n",
       "    </tr>\n",
       "    <tr>\n",
       "      <th>50%</th>\n",
       "      <td>0.592677</td>\n",
       "      <td>0.407323</td>\n",
       "    </tr>\n",
       "    <tr>\n",
       "      <th>75%</th>\n",
       "      <td>0.620922</td>\n",
       "      <td>0.430583</td>\n",
       "    </tr>\n",
       "    <tr>\n",
       "      <th>max</th>\n",
       "      <td>0.774163</td>\n",
       "      <td>0.519473</td>\n",
       "    </tr>\n",
       "  </tbody>\n",
       "</table>\n",
       "</div>"
      ],
      "text/plain": [
       "                 0            1\n",
       "count  7002.000000  7002.000000\n",
       "mean      0.595589     0.404411\n",
       "std       0.039238     0.039238\n",
       "min       0.480527     0.225837\n",
       "25%       0.569417     0.379078\n",
       "50%       0.592677     0.407323\n",
       "75%       0.620922     0.430583\n",
       "max       0.774163     0.519473"
      ]
     },
     "execution_count": 10,
     "metadata": {},
     "output_type": "execute_result"
    }
   ],
   "source": [
    "d0_train.describe()"
   ]
  },
  {
   "cell_type": "markdown",
   "id": "2d592c42-02fa-41b2-88bb-ee66e4ecaded",
   "metadata": {},
   "source": [
    "Trainset for the attack model trained to recognise the label 1"
   ]
  },
  {
   "cell_type": "code",
   "execution_count": 11,
   "id": "bdc572ec-f933-4402-b8e6-5f91a22a5e2f",
   "metadata": {},
   "outputs": [
    {
     "data": {
      "text/plain": [
       "0         1         Target\n",
       "0.453318  0.546682  in        15\n",
       "0.467609  0.532391  in        14\n",
       "0.460569  0.539431  in        10\n",
       "0.469808  0.530192  in        10\n",
       "0.463605  0.536395  in         9\n",
       "                              ..\n",
       "0.444748  0.555252  in         1\n",
       "0.457845  0.542155  in         1\n",
       "0.444764  0.555236  in         1\n",
       "0.457835  0.542165  in         1\n",
       "0.554687  0.445313  out        1\n",
       "Length: 3333, dtype: int64"
      ]
     },
     "execution_count": 11,
     "metadata": {},
     "output_type": "execute_result"
    }
   ],
   "source": [
    "d1_train = pd.DataFrame(data_1['x_train'])\n",
    "d1_train['Target'] = data_1['y_train']\n",
    "d1_train.value_counts()"
   ]
  },
  {
   "cell_type": "markdown",
   "id": "421da0a5-74bf-4e94-8db2-729a88501a8a",
   "metadata": {},
   "source": [
    "The out class is not represented enough"
   ]
  },
  {
   "cell_type": "code",
   "execution_count": 12,
   "id": "be28af84-93b0-49f8-b0ac-29f9764547cb",
   "metadata": {},
   "outputs": [
    {
     "data": {
      "text/plain": [
       "in     0.996975\n",
       "out    0.003025\n",
       "Name: Target, dtype: float64"
      ]
     },
     "execution_count": 12,
     "metadata": {},
     "output_type": "execute_result"
    }
   ],
   "source": [
    "d1_train.Target.value_counts(normalize=True)"
   ]
  },
  {
   "cell_type": "code",
   "execution_count": 13,
   "id": "998f3d87-4e0e-477f-b045-2f1a75681da0",
   "metadata": {},
   "outputs": [
    {
     "data": {
      "text/html": [
       "<div>\n",
       "<style scoped>\n",
       "    .dataframe tbody tr th:only-of-type {\n",
       "        vertical-align: middle;\n",
       "    }\n",
       "\n",
       "    .dataframe tbody tr th {\n",
       "        vertical-align: top;\n",
       "    }\n",
       "\n",
       "    .dataframe thead th {\n",
       "        text-align: right;\n",
       "    }\n",
       "</style>\n",
       "<table border=\"1\" class=\"dataframe\">\n",
       "  <thead>\n",
       "    <tr style=\"text-align: right;\">\n",
       "      <th></th>\n",
       "      <th>0</th>\n",
       "      <th>1</th>\n",
       "    </tr>\n",
       "  </thead>\n",
       "  <tbody>\n",
       "    <tr>\n",
       "      <th>count</th>\n",
       "      <td>5620.000000</td>\n",
       "      <td>5620.000000</td>\n",
       "    </tr>\n",
       "    <tr>\n",
       "      <th>mean</th>\n",
       "      <td>0.454867</td>\n",
       "      <td>0.545133</td>\n",
       "    </tr>\n",
       "    <tr>\n",
       "      <th>std</th>\n",
       "      <td>0.013849</td>\n",
       "      <td>0.013849</td>\n",
       "    </tr>\n",
       "    <tr>\n",
       "      <th>min</th>\n",
       "      <td>0.381422</td>\n",
       "      <td>0.445313</td>\n",
       "    </tr>\n",
       "    <tr>\n",
       "      <th>25%</th>\n",
       "      <td>0.448948</td>\n",
       "      <td>0.535785</td>\n",
       "    </tr>\n",
       "    <tr>\n",
       "      <th>50%</th>\n",
       "      <td>0.457241</td>\n",
       "      <td>0.542759</td>\n",
       "    </tr>\n",
       "    <tr>\n",
       "      <th>75%</th>\n",
       "      <td>0.464215</td>\n",
       "      <td>0.551052</td>\n",
       "    </tr>\n",
       "    <tr>\n",
       "      <th>max</th>\n",
       "      <td>0.554687</td>\n",
       "      <td>0.618578</td>\n",
       "    </tr>\n",
       "  </tbody>\n",
       "</table>\n",
       "</div>"
      ],
      "text/plain": [
       "                 0            1\n",
       "count  5620.000000  5620.000000\n",
       "mean      0.454867     0.545133\n",
       "std       0.013849     0.013849\n",
       "min       0.381422     0.445313\n",
       "25%       0.448948     0.535785\n",
       "50%       0.457241     0.542759\n",
       "75%       0.464215     0.551052\n",
       "max       0.554687     0.618578"
      ]
     },
     "execution_count": 13,
     "metadata": {},
     "output_type": "execute_result"
    }
   ],
   "source": [
    "d1_train.describe()"
   ]
  },
  {
   "cell_type": "markdown",
   "id": "ce3f3f73-2445-4c98-95f1-833bf3582f3f",
   "metadata": {},
   "source": [
    "#### test"
   ]
  },
  {
   "cell_type": "markdown",
   "id": "1e760de5-e4c3-4126-9a99-4dd962e0de7b",
   "metadata": {},
   "source": [
    "Testset for the attack model trained to recognise the label 0"
   ]
  },
  {
   "cell_type": "code",
   "execution_count": 14,
   "id": "171acb0f-3c1c-40a3-8754-e243be64cb6f",
   "metadata": {},
   "outputs": [
    {
     "data": {
      "text/plain": [
       "0         1         Target\n",
       "0.568251  0.431749  in        2\n",
       "0.603055  0.396945  in        2\n",
       "0.610694  0.389306  in        1\n",
       "0.610284  0.389716  in        1\n",
       "0.609980  0.390020  out       1\n",
       "                             ..\n",
       "0.578429  0.421571  in        1\n",
       "0.578476  0.421524  in        1\n",
       "0.578505  0.421495  in        1\n",
       "0.578592  0.421408  in        1\n",
       "0.743718  0.256282  in        1\n",
       "Length: 2332, dtype: int64"
      ]
     },
     "execution_count": 14,
     "metadata": {},
     "output_type": "execute_result"
    }
   ],
   "source": [
    "d0_test = pd.DataFrame(data_0['x_test'])\n",
    "d0_test['Target'] = data_0['y_test']\n",
    "d0_test.value_counts()"
   ]
  },
  {
   "cell_type": "code",
   "execution_count": 15,
   "id": "60500094-bb51-43b8-a25f-2d201ba45d40",
   "metadata": {},
   "outputs": [
    {
     "data": {
      "text/plain": [
       "in     0.805913\n",
       "out    0.194087\n",
       "Name: Target, dtype: float64"
      ]
     },
     "execution_count": 15,
     "metadata": {},
     "output_type": "execute_result"
    }
   ],
   "source": [
    "d0_test.Target.value_counts(normalize=True)"
   ]
  },
  {
   "cell_type": "code",
   "execution_count": 16,
   "id": "83f53b7e-a7be-4e1e-a40a-6c07ad70430a",
   "metadata": {},
   "outputs": [
    {
     "data": {
      "text/html": [
       "<div>\n",
       "<style scoped>\n",
       "    .dataframe tbody tr th:only-of-type {\n",
       "        vertical-align: middle;\n",
       "    }\n",
       "\n",
       "    .dataframe tbody tr th {\n",
       "        vertical-align: top;\n",
       "    }\n",
       "\n",
       "    .dataframe thead th {\n",
       "        text-align: right;\n",
       "    }\n",
       "</style>\n",
       "<table border=\"1\" class=\"dataframe\">\n",
       "  <thead>\n",
       "    <tr style=\"text-align: right;\">\n",
       "      <th></th>\n",
       "      <th>0</th>\n",
       "      <th>1</th>\n",
       "    </tr>\n",
       "  </thead>\n",
       "  <tbody>\n",
       "    <tr>\n",
       "      <th>count</th>\n",
       "      <td>2334.000000</td>\n",
       "      <td>2334.000000</td>\n",
       "    </tr>\n",
       "    <tr>\n",
       "      <th>mean</th>\n",
       "      <td>0.596267</td>\n",
       "      <td>0.403733</td>\n",
       "    </tr>\n",
       "    <tr>\n",
       "      <th>std</th>\n",
       "      <td>0.038834</td>\n",
       "      <td>0.038834</td>\n",
       "    </tr>\n",
       "    <tr>\n",
       "      <th>min</th>\n",
       "      <td>0.476653</td>\n",
       "      <td>0.256282</td>\n",
       "    </tr>\n",
       "    <tr>\n",
       "      <th>25%</th>\n",
       "      <td>0.569284</td>\n",
       "      <td>0.377707</td>\n",
       "    </tr>\n",
       "    <tr>\n",
       "      <th>50%</th>\n",
       "      <td>0.593198</td>\n",
       "      <td>0.406802</td>\n",
       "    </tr>\n",
       "    <tr>\n",
       "      <th>75%</th>\n",
       "      <td>0.622293</td>\n",
       "      <td>0.430716</td>\n",
       "    </tr>\n",
       "    <tr>\n",
       "      <th>max</th>\n",
       "      <td>0.743718</td>\n",
       "      <td>0.523347</td>\n",
       "    </tr>\n",
       "  </tbody>\n",
       "</table>\n",
       "</div>"
      ],
      "text/plain": [
       "                 0            1\n",
       "count  2334.000000  2334.000000\n",
       "mean      0.596267     0.403733\n",
       "std       0.038834     0.038834\n",
       "min       0.476653     0.256282\n",
       "25%       0.569284     0.377707\n",
       "50%       0.593198     0.406802\n",
       "75%       0.622293     0.430716\n",
       "max       0.743718     0.523347"
      ]
     },
     "execution_count": 16,
     "metadata": {},
     "output_type": "execute_result"
    }
   ],
   "source": [
    "d0_test.describe()"
   ]
  },
  {
   "cell_type": "markdown",
   "id": "026b6012-304c-438c-ad0c-682f9d5477d5",
   "metadata": {},
   "source": [
    "Testset for the attack model trained to recognise the label 1"
   ]
  },
  {
   "cell_type": "code",
   "execution_count": 17,
   "id": "c6844410-9fbd-4e64-a500-a44095e2004a",
   "metadata": {},
   "outputs": [
    {
     "data": {
      "text/plain": [
       "0         1         Target\n",
       "0.455963  0.544037  in        7\n",
       "0.467609  0.532391  in        7\n",
       "0.459987  0.540013  in        6\n",
       "0.469576  0.530424  in        6\n",
       "0.468676  0.531324  in        5\n",
       "                             ..\n",
       "0.452590  0.547410  in        1\n",
       "0.452530  0.547470  in        1\n",
       "0.452497  0.547503  in        1\n",
       "0.452477  0.547523  in        1\n",
       "0.531967  0.468033  out       1\n",
       "Length: 1464, dtype: int64"
      ]
     },
     "execution_count": 17,
     "metadata": {},
     "output_type": "execute_result"
    }
   ],
   "source": [
    "d1_test = pd.DataFrame(data_1['x_test'])\n",
    "d1_test['Target'] = data_1['y_test']\n",
    "d1_test.value_counts()"
   ]
  },
  {
   "cell_type": "markdown",
   "id": "0cb38508-e6f3-4d9c-b725-f65c28c224b5",
   "metadata": {},
   "source": [
    "The out class is not represented enough"
   ]
  },
  {
   "cell_type": "code",
   "execution_count": 18,
   "id": "1518b42c-13de-41e8-848f-923fdf8815ec",
   "metadata": {},
   "outputs": [
    {
     "data": {
      "text/plain": [
       "in     0.994664\n",
       "out    0.005336\n",
       "Name: Target, dtype: float64"
      ]
     },
     "execution_count": 18,
     "metadata": {},
     "output_type": "execute_result"
    }
   ],
   "source": [
    "d1_test.Target.value_counts(normalize=True)"
   ]
  },
  {
   "cell_type": "code",
   "execution_count": 19,
   "id": "59c0e697-42d7-43ee-82ec-6575d00da7a0",
   "metadata": {},
   "outputs": [
    {
     "data": {
      "text/html": [
       "<div>\n",
       "<style scoped>\n",
       "    .dataframe tbody tr th:only-of-type {\n",
       "        vertical-align: middle;\n",
       "    }\n",
       "\n",
       "    .dataframe tbody tr th {\n",
       "        vertical-align: top;\n",
       "    }\n",
       "\n",
       "    .dataframe thead th {\n",
       "        text-align: right;\n",
       "    }\n",
       "</style>\n",
       "<table border=\"1\" class=\"dataframe\">\n",
       "  <thead>\n",
       "    <tr style=\"text-align: right;\">\n",
       "      <th></th>\n",
       "      <th>0</th>\n",
       "      <th>1</th>\n",
       "    </tr>\n",
       "  </thead>\n",
       "  <tbody>\n",
       "    <tr>\n",
       "      <th>count</th>\n",
       "      <td>1874.000000</td>\n",
       "      <td>1874.000000</td>\n",
       "    </tr>\n",
       "    <tr>\n",
       "      <th>mean</th>\n",
       "      <td>0.455441</td>\n",
       "      <td>0.544559</td>\n",
       "    </tr>\n",
       "    <tr>\n",
       "      <th>std</th>\n",
       "      <td>0.013970</td>\n",
       "      <td>0.013970</td>\n",
       "    </tr>\n",
       "    <tr>\n",
       "      <th>min</th>\n",
       "      <td>0.384128</td>\n",
       "      <td>0.468033</td>\n",
       "    </tr>\n",
       "    <tr>\n",
       "      <th>25%</th>\n",
       "      <td>0.449211</td>\n",
       "      <td>0.535375</td>\n",
       "    </tr>\n",
       "    <tr>\n",
       "      <th>50%</th>\n",
       "      <td>0.458179</td>\n",
       "      <td>0.541821</td>\n",
       "    </tr>\n",
       "    <tr>\n",
       "      <th>75%</th>\n",
       "      <td>0.464625</td>\n",
       "      <td>0.550789</td>\n",
       "    </tr>\n",
       "    <tr>\n",
       "      <th>max</th>\n",
       "      <td>0.531967</td>\n",
       "      <td>0.615872</td>\n",
       "    </tr>\n",
       "  </tbody>\n",
       "</table>\n",
       "</div>"
      ],
      "text/plain": [
       "                 0            1\n",
       "count  1874.000000  1874.000000\n",
       "mean      0.455441     0.544559\n",
       "std       0.013970     0.013970\n",
       "min       0.384128     0.468033\n",
       "25%       0.449211     0.535375\n",
       "50%       0.458179     0.541821\n",
       "75%       0.464625     0.550789\n",
       "max       0.531967     0.615872"
      ]
     },
     "execution_count": 19,
     "metadata": {},
     "output_type": "execute_result"
    }
   ],
   "source": [
    "d1_test.describe()"
   ]
  },
  {
   "cell_type": "markdown",
   "id": "34b632ed-a3f9-4639-a7ec-ae779190a577",
   "metadata": {},
   "source": [
    "## idx 1"
   ]
  },
  {
   "cell_type": "code",
   "execution_count": 20,
   "id": "bc4ecb25-14b2-4c58-a806-0315a5e00e31",
   "metadata": {},
   "outputs": [
    {
     "name": "stdout",
     "output_type": "stream",
     "text": [
      "x_train x_test y_train y_test "
     ]
    },
    {
     "name": "stderr",
     "output_type": "stream",
     "text": [
      "/home/gerardozinno/.pyenv/versions/ml-environment/lib/python3.9/site-packages/sklearn/base.py:329: UserWarning: Trying to unpickle estimator DecisionTreeClassifier from version 1.0.2 when using version 1.1.1. This might lead to breaking code or invalid results. Use at your own risk. For more info please refer to:\n",
      "https://scikit-learn.org/stable/model_persistence.html#security-maintainability-limitations\n",
      "  warnings.warn(\n",
      "/home/gerardozinno/.pyenv/versions/ml-environment/lib/python3.9/site-packages/sklearn/base.py:329: UserWarning: Trying to unpickle estimator AdaBoostClassifier from version 1.0.2 when using version 1.1.1. This might lead to breaking code or invalid results. Use at your own risk. For more info please refer to:\n",
      "https://scikit-learn.org/stable/model_persistence.html#security-maintainability-limitations\n",
      "  warnings.warn(\n"
     ]
    }
   ],
   "source": [
    "(atk_0, data_0), (atk_1, data_1) = load_atk_and_data(1)\n",
    "for k in data_0.keys():\n",
    "    print(k, end=\" \")"
   ]
  },
  {
   "cell_type": "markdown",
   "id": "8d0d3714-8694-490b-96c6-bd618a7c12fa",
   "metadata": {},
   "source": [
    "#### train"
   ]
  },
  {
   "cell_type": "markdown",
   "id": "a77306b2-32cb-4152-b3c1-cdfeff49baad",
   "metadata": {},
   "source": [
    "Trainset for the attack model trained to recognise the label 0"
   ]
  },
  {
   "cell_type": "code",
   "execution_count": 21,
   "id": "eb0b798c-60b7-4806-8e05-53f99c47cab7",
   "metadata": {},
   "outputs": [
    {
     "data": {
      "text/plain": [
       "0         1         Target\n",
       "0.576123  0.423877  in        6\n",
       "0.579499  0.420501  in        4\n",
       "0.567174  0.432826  in        3\n",
       "0.571351  0.428649  in        3\n",
       "0.543433  0.456567  in        3\n",
       "                             ..\n",
       "0.545696  0.454304  in        1\n",
       "0.545674  0.454326  in        1\n",
       "0.545664  0.454336  in        1\n",
       "0.545660  0.454340  in        1\n",
       "0.766829  0.233171  in        1\n",
       "Length: 6748, dtype: int64"
      ]
     },
     "execution_count": 21,
     "metadata": {},
     "output_type": "execute_result"
    }
   ],
   "source": [
    "d0_train = pd.DataFrame(data_0['x_train'])\n",
    "d0_train['Target'] = data_0['y_train']\n",
    "\n",
    "d0_train.value_counts()"
   ]
  },
  {
   "cell_type": "markdown",
   "id": "3878f667-cc11-4bda-9e81-9c07a7baa43f",
   "metadata": {},
   "source": [
    "Class out misrepresented"
   ]
  },
  {
   "cell_type": "code",
   "execution_count": 22,
   "id": "9a0ab0ac-7d66-44ad-8852-a700310ada27",
   "metadata": {},
   "outputs": [
    {
     "data": {
      "text/plain": [
       "in     0.800294\n",
       "out    0.199706\n",
       "Name: Target, dtype: float64"
      ]
     },
     "execution_count": 22,
     "metadata": {},
     "output_type": "execute_result"
    }
   ],
   "source": [
    "d0_train.Target.value_counts(normalize=True)"
   ]
  },
  {
   "cell_type": "code",
   "execution_count": 23,
   "id": "25f15f89-591e-4be2-9822-5fd8db20e351",
   "metadata": {},
   "outputs": [
    {
     "data": {
      "text/html": [
       "<div>\n",
       "<style scoped>\n",
       "    .dataframe tbody tr th:only-of-type {\n",
       "        vertical-align: middle;\n",
       "    }\n",
       "\n",
       "    .dataframe tbody tr th {\n",
       "        vertical-align: top;\n",
       "    }\n",
       "\n",
       "    .dataframe thead th {\n",
       "        text-align: right;\n",
       "    }\n",
       "</style>\n",
       "<table border=\"1\" class=\"dataframe\">\n",
       "  <thead>\n",
       "    <tr style=\"text-align: right;\">\n",
       "      <th></th>\n",
       "      <th>0</th>\n",
       "      <th>1</th>\n",
       "    </tr>\n",
       "  </thead>\n",
       "  <tbody>\n",
       "    <tr>\n",
       "      <th>count</th>\n",
       "      <td>6795.000000</td>\n",
       "      <td>6795.000000</td>\n",
       "    </tr>\n",
       "    <tr>\n",
       "      <th>mean</th>\n",
       "      <td>0.558580</td>\n",
       "      <td>0.441420</td>\n",
       "    </tr>\n",
       "    <tr>\n",
       "      <th>std</th>\n",
       "      <td>0.032256</td>\n",
       "      <td>0.032256</td>\n",
       "    </tr>\n",
       "    <tr>\n",
       "      <th>min</th>\n",
       "      <td>0.487470</td>\n",
       "      <td>0.233171</td>\n",
       "    </tr>\n",
       "    <tr>\n",
       "      <th>25%</th>\n",
       "      <td>0.538438</td>\n",
       "      <td>0.427302</td>\n",
       "    </tr>\n",
       "    <tr>\n",
       "      <th>50%</th>\n",
       "      <td>0.557681</td>\n",
       "      <td>0.442319</td>\n",
       "    </tr>\n",
       "    <tr>\n",
       "      <th>75%</th>\n",
       "      <td>0.572698</td>\n",
       "      <td>0.461562</td>\n",
       "    </tr>\n",
       "    <tr>\n",
       "      <th>max</th>\n",
       "      <td>0.766829</td>\n",
       "      <td>0.512530</td>\n",
       "    </tr>\n",
       "  </tbody>\n",
       "</table>\n",
       "</div>"
      ],
      "text/plain": [
       "                 0            1\n",
       "count  6795.000000  6795.000000\n",
       "mean      0.558580     0.441420\n",
       "std       0.032256     0.032256\n",
       "min       0.487470     0.233171\n",
       "25%       0.538438     0.427302\n",
       "50%       0.557681     0.442319\n",
       "75%       0.572698     0.461562\n",
       "max       0.766829     0.512530"
      ]
     },
     "execution_count": 23,
     "metadata": {},
     "output_type": "execute_result"
    }
   ],
   "source": [
    "d0_train.describe()"
   ]
  },
  {
   "cell_type": "markdown",
   "id": "3217d562-1fa0-48bf-be31-77549f8f314c",
   "metadata": {},
   "source": [
    "Trainset for the attack model trained to recognise the label 1"
   ]
  },
  {
   "cell_type": "code",
   "execution_count": 24,
   "id": "7d314f62-bd15-4e78-925f-6c8cf53fa0cb",
   "metadata": {},
   "outputs": [
    {
     "data": {
      "text/plain": [
       "0         1         Target\n",
       "0.479419  0.520581  in        14\n",
       "0.463955  0.536045  in        10\n",
       "0.479870  0.520130  in         9\n",
       "0.471054  0.528946  in         9\n",
       "0.486617  0.513383  in         8\n",
       "                              ..\n",
       "0.469076  0.530924  in         1\n",
       "0.469077  0.530923  in         1\n",
       "0.469082  0.530918  in         1\n",
       "0.469103  0.530897  in         1\n",
       "0.580531  0.419469  out        1\n",
       "Length: 3855, dtype: int64"
      ]
     },
     "execution_count": 24,
     "metadata": {},
     "output_type": "execute_result"
    }
   ],
   "source": [
    "d1_train = pd.DataFrame(data_1['x_train'])\n",
    "d1_train['Target'] = data_1['y_train']\n",
    "d1_train.value_counts()"
   ]
  },
  {
   "cell_type": "markdown",
   "id": "28d96b08-7ddf-48c3-b4a8-efb1b7d9cf35",
   "metadata": {},
   "source": [
    "The out class is not represented enough"
   ]
  },
  {
   "cell_type": "code",
   "execution_count": 25,
   "id": "949ec4ca-9fb0-4ab7-8f6c-17c56a6980f0",
   "metadata": {},
   "outputs": [
    {
     "data": {
      "text/plain": [
       "in     0.987298\n",
       "out    0.012702\n",
       "Name: Target, dtype: float64"
      ]
     },
     "execution_count": 25,
     "metadata": {},
     "output_type": "execute_result"
    }
   ],
   "source": [
    "d1_train.Target.value_counts(normalize=True)"
   ]
  },
  {
   "cell_type": "code",
   "execution_count": 26,
   "id": "58055997-f2fa-4142-8ecc-0351352d9db1",
   "metadata": {},
   "outputs": [
    {
     "data": {
      "text/html": [
       "<div>\n",
       "<style scoped>\n",
       "    .dataframe tbody tr th:only-of-type {\n",
       "        vertical-align: middle;\n",
       "    }\n",
       "\n",
       "    .dataframe tbody tr th {\n",
       "        vertical-align: top;\n",
       "    }\n",
       "\n",
       "    .dataframe thead th {\n",
       "        text-align: right;\n",
       "    }\n",
       "</style>\n",
       "<table border=\"1\" class=\"dataframe\">\n",
       "  <thead>\n",
       "    <tr style=\"text-align: right;\">\n",
       "      <th></th>\n",
       "      <th>0</th>\n",
       "      <th>1</th>\n",
       "    </tr>\n",
       "  </thead>\n",
       "  <tbody>\n",
       "    <tr>\n",
       "      <th>count</th>\n",
       "      <td>5511.000000</td>\n",
       "      <td>5511.000000</td>\n",
       "    </tr>\n",
       "    <tr>\n",
       "      <th>mean</th>\n",
       "      <td>0.470639</td>\n",
       "      <td>0.529361</td>\n",
       "    </tr>\n",
       "    <tr>\n",
       "      <th>std</th>\n",
       "      <td>0.014792</td>\n",
       "      <td>0.014792</td>\n",
       "    </tr>\n",
       "    <tr>\n",
       "      <th>min</th>\n",
       "      <td>0.342252</td>\n",
       "      <td>0.419469</td>\n",
       "    </tr>\n",
       "    <tr>\n",
       "      <th>25%</th>\n",
       "      <td>0.464340</td>\n",
       "      <td>0.520561</td>\n",
       "    </tr>\n",
       "    <tr>\n",
       "      <th>50%</th>\n",
       "      <td>0.472718</td>\n",
       "      <td>0.527282</td>\n",
       "    </tr>\n",
       "    <tr>\n",
       "      <th>75%</th>\n",
       "      <td>0.479439</td>\n",
       "      <td>0.535660</td>\n",
       "    </tr>\n",
       "    <tr>\n",
       "      <th>max</th>\n",
       "      <td>0.580531</td>\n",
       "      <td>0.657748</td>\n",
       "    </tr>\n",
       "  </tbody>\n",
       "</table>\n",
       "</div>"
      ],
      "text/plain": [
       "                 0            1\n",
       "count  5511.000000  5511.000000\n",
       "mean      0.470639     0.529361\n",
       "std       0.014792     0.014792\n",
       "min       0.342252     0.419469\n",
       "25%       0.464340     0.520561\n",
       "50%       0.472718     0.527282\n",
       "75%       0.479439     0.535660\n",
       "max       0.580531     0.657748"
      ]
     },
     "execution_count": 26,
     "metadata": {},
     "output_type": "execute_result"
    }
   ],
   "source": [
    "d1_train.describe()"
   ]
  },
  {
   "cell_type": "markdown",
   "id": "ed243375-305c-49e1-926f-f5b3dcc49f15",
   "metadata": {},
   "source": [
    "#### test"
   ]
  },
  {
   "cell_type": "markdown",
   "id": "110a20a1-eeaa-47ca-91a1-0f984b5dc77e",
   "metadata": {},
   "source": [
    "Testset for the attack model trained to recognise the label 0"
   ]
  },
  {
   "cell_type": "code",
   "execution_count": 27,
   "id": "13aab251-183c-4249-8656-18d9606fbce3",
   "metadata": {},
   "outputs": [
    {
     "data": {
      "text/plain": [
       "0         1         Target\n",
       "0.574598  0.425402  in        2\n",
       "0.585507  0.414493  in        2\n",
       "0.550577  0.449423  in        2\n",
       "0.585411  0.414589  out       2\n",
       "0.579499  0.420501  in        2\n",
       "                             ..\n",
       "0.545663  0.454337  in        1\n",
       "0.545642  0.454358  in        1\n",
       "0.545638  0.454362  in        1\n",
       "0.545632  0.454368  in        1\n",
       "0.758679  0.241321  in        1\n",
       "Length: 2258, dtype: int64"
      ]
     },
     "execution_count": 27,
     "metadata": {},
     "output_type": "execute_result"
    }
   ],
   "source": [
    "d0_test = pd.DataFrame(data_0['x_test'])\n",
    "d0_test['Target'] = data_0['y_test']\n",
    "d0_test.value_counts()"
   ]
  },
  {
   "cell_type": "code",
   "execution_count": 28,
   "id": "17484d65-045f-4ce7-a456-35cc888fcd20",
   "metadata": {},
   "outputs": [
    {
     "data": {
      "text/plain": [
       "in     0.802649\n",
       "out    0.197351\n",
       "Name: Target, dtype: float64"
      ]
     },
     "execution_count": 28,
     "metadata": {},
     "output_type": "execute_result"
    }
   ],
   "source": [
    "d0_test.Target.value_counts(normalize=True)"
   ]
  },
  {
   "cell_type": "code",
   "execution_count": 29,
   "id": "15d81707-b337-45d3-ae2d-4002e2ed6945",
   "metadata": {},
   "outputs": [
    {
     "data": {
      "text/html": [
       "<div>\n",
       "<style scoped>\n",
       "    .dataframe tbody tr th:only-of-type {\n",
       "        vertical-align: middle;\n",
       "    }\n",
       "\n",
       "    .dataframe tbody tr th {\n",
       "        vertical-align: top;\n",
       "    }\n",
       "\n",
       "    .dataframe thead th {\n",
       "        text-align: right;\n",
       "    }\n",
       "</style>\n",
       "<table border=\"1\" class=\"dataframe\">\n",
       "  <thead>\n",
       "    <tr style=\"text-align: right;\">\n",
       "      <th></th>\n",
       "      <th>0</th>\n",
       "      <th>1</th>\n",
       "    </tr>\n",
       "  </thead>\n",
       "  <tbody>\n",
       "    <tr>\n",
       "      <th>count</th>\n",
       "      <td>2265.000000</td>\n",
       "      <td>2265.000000</td>\n",
       "    </tr>\n",
       "    <tr>\n",
       "      <th>mean</th>\n",
       "      <td>0.558715</td>\n",
       "      <td>0.441285</td>\n",
       "    </tr>\n",
       "    <tr>\n",
       "      <th>std</th>\n",
       "      <td>0.031059</td>\n",
       "      <td>0.031059</td>\n",
       "    </tr>\n",
       "    <tr>\n",
       "      <th>min</th>\n",
       "      <td>0.496028</td>\n",
       "      <td>0.241321</td>\n",
       "    </tr>\n",
       "    <tr>\n",
       "      <th>25%</th>\n",
       "      <td>0.538957</td>\n",
       "      <td>0.426823</td>\n",
       "    </tr>\n",
       "    <tr>\n",
       "      <th>50%</th>\n",
       "      <td>0.558270</td>\n",
       "      <td>0.441730</td>\n",
       "    </tr>\n",
       "    <tr>\n",
       "      <th>75%</th>\n",
       "      <td>0.573177</td>\n",
       "      <td>0.461043</td>\n",
       "    </tr>\n",
       "    <tr>\n",
       "      <th>max</th>\n",
       "      <td>0.758679</td>\n",
       "      <td>0.503972</td>\n",
       "    </tr>\n",
       "  </tbody>\n",
       "</table>\n",
       "</div>"
      ],
      "text/plain": [
       "                 0            1\n",
       "count  2265.000000  2265.000000\n",
       "mean      0.558715     0.441285\n",
       "std       0.031059     0.031059\n",
       "min       0.496028     0.241321\n",
       "25%       0.538957     0.426823\n",
       "50%       0.558270     0.441730\n",
       "75%       0.573177     0.461043\n",
       "max       0.758679     0.503972"
      ]
     },
     "execution_count": 29,
     "metadata": {},
     "output_type": "execute_result"
    }
   ],
   "source": [
    "d0_test.describe()"
   ]
  },
  {
   "cell_type": "markdown",
   "id": "f196785a-9bd7-40ac-b666-bbab621f1b74",
   "metadata": {},
   "source": [
    "Testset for the attack model trained to recognise the label 1"
   ]
  },
  {
   "cell_type": "code",
   "execution_count": 30,
   "id": "91c2e725-620e-4dff-b8b0-eb1a82ec5652",
   "metadata": {},
   "outputs": [
    {
     "data": {
      "text/plain": [
       "0         1         Target\n",
       "0.463955  0.536045  in        5\n",
       "0.473029  0.526971  in        4\n",
       "0.463831  0.536169  in        4\n",
       "0.468118  0.531882  in        4\n",
       "0.459480  0.540520  in        3\n",
       "                             ..\n",
       "0.468271  0.531729  in        1\n",
       "0.468268  0.531732  in        1\n",
       "0.468267  0.531733  in        1\n",
       "0.468217  0.531783  in        1\n",
       "0.516605  0.483395  out       1\n",
       "Length: 1619, dtype: int64"
      ]
     },
     "execution_count": 30,
     "metadata": {},
     "output_type": "execute_result"
    }
   ],
   "source": [
    "d1_test = pd.DataFrame(data_1['x_test'])\n",
    "d1_test['Target'] = data_1['y_test']\n",
    "d1_test.value_counts()"
   ]
  },
  {
   "cell_type": "markdown",
   "id": "649d20ed-51af-4fc0-853a-4dc97459c414",
   "metadata": {},
   "source": [
    "The out class is not represented enough"
   ]
  },
  {
   "cell_type": "code",
   "execution_count": 31,
   "id": "4bc8b797-ad57-47b1-a96d-35d7c696d4f4",
   "metadata": {},
   "outputs": [
    {
     "data": {
      "text/plain": [
       "in     0.988024\n",
       "out    0.011976\n",
       "Name: Target, dtype: float64"
      ]
     },
     "execution_count": 31,
     "metadata": {},
     "output_type": "execute_result"
    }
   ],
   "source": [
    "d1_test.Target.value_counts(normalize=True)"
   ]
  },
  {
   "cell_type": "code",
   "execution_count": 32,
   "id": "4956b166-34b5-4067-9726-1f92ac717913",
   "metadata": {},
   "outputs": [
    {
     "data": {
      "text/html": [
       "<div>\n",
       "<style scoped>\n",
       "    .dataframe tbody tr th:only-of-type {\n",
       "        vertical-align: middle;\n",
       "    }\n",
       "\n",
       "    .dataframe tbody tr th {\n",
       "        vertical-align: top;\n",
       "    }\n",
       "\n",
       "    .dataframe thead th {\n",
       "        text-align: right;\n",
       "    }\n",
       "</style>\n",
       "<table border=\"1\" class=\"dataframe\">\n",
       "  <thead>\n",
       "    <tr style=\"text-align: right;\">\n",
       "      <th></th>\n",
       "      <th>0</th>\n",
       "      <th>1</th>\n",
       "    </tr>\n",
       "  </thead>\n",
       "  <tbody>\n",
       "    <tr>\n",
       "      <th>count</th>\n",
       "      <td>1837.000000</td>\n",
       "      <td>1837.000000</td>\n",
       "    </tr>\n",
       "    <tr>\n",
       "      <th>mean</th>\n",
       "      <td>0.471077</td>\n",
       "      <td>0.528923</td>\n",
       "    </tr>\n",
       "    <tr>\n",
       "      <th>std</th>\n",
       "      <td>0.013738</td>\n",
       "      <td>0.013738</td>\n",
       "    </tr>\n",
       "    <tr>\n",
       "      <th>min</th>\n",
       "      <td>0.369268</td>\n",
       "      <td>0.483395</td>\n",
       "    </tr>\n",
       "    <tr>\n",
       "      <th>25%</th>\n",
       "      <td>0.464314</td>\n",
       "      <td>0.520217</td>\n",
       "    </tr>\n",
       "    <tr>\n",
       "      <th>50%</th>\n",
       "      <td>0.472945</td>\n",
       "      <td>0.527055</td>\n",
       "    </tr>\n",
       "    <tr>\n",
       "      <th>75%</th>\n",
       "      <td>0.479783</td>\n",
       "      <td>0.535686</td>\n",
       "    </tr>\n",
       "    <tr>\n",
       "      <th>max</th>\n",
       "      <td>0.516605</td>\n",
       "      <td>0.630732</td>\n",
       "    </tr>\n",
       "  </tbody>\n",
       "</table>\n",
       "</div>"
      ],
      "text/plain": [
       "                 0            1\n",
       "count  1837.000000  1837.000000\n",
       "mean      0.471077     0.528923\n",
       "std       0.013738     0.013738\n",
       "min       0.369268     0.483395\n",
       "25%       0.464314     0.520217\n",
       "50%       0.472945     0.527055\n",
       "75%       0.479783     0.535686\n",
       "max       0.516605     0.630732"
      ]
     },
     "execution_count": 32,
     "metadata": {},
     "output_type": "execute_result"
    }
   ],
   "source": [
    "d1_test.describe()"
   ]
  },
  {
   "cell_type": "markdown",
   "id": "dabfb71a-fb86-4d1c-a933-548c0356deca",
   "metadata": {},
   "source": [
    "## idx 2"
   ]
  },
  {
   "cell_type": "code",
   "execution_count": 33,
   "id": "7b6e7985-df53-492c-9f9e-44f1ae659847",
   "metadata": {},
   "outputs": [
    {
     "name": "stdout",
     "output_type": "stream",
     "text": [
      "x_train x_test y_train y_test "
     ]
    },
    {
     "name": "stderr",
     "output_type": "stream",
     "text": [
      "/home/gerardozinno/.pyenv/versions/ml-environment/lib/python3.9/site-packages/sklearn/base.py:329: UserWarning: Trying to unpickle estimator DecisionTreeClassifier from version 1.0.2 when using version 1.1.1. This might lead to breaking code or invalid results. Use at your own risk. For more info please refer to:\n",
      "https://scikit-learn.org/stable/model_persistence.html#security-maintainability-limitations\n",
      "  warnings.warn(\n",
      "/home/gerardozinno/.pyenv/versions/ml-environment/lib/python3.9/site-packages/sklearn/base.py:329: UserWarning: Trying to unpickle estimator AdaBoostClassifier from version 1.0.2 when using version 1.1.1. This might lead to breaking code or invalid results. Use at your own risk. For more info please refer to:\n",
      "https://scikit-learn.org/stable/model_persistence.html#security-maintainability-limitations\n",
      "  warnings.warn(\n"
     ]
    }
   ],
   "source": [
    "(atk_0, data_0), (atk_1, data_1) = load_atk_and_data(2)\n",
    "for k in data_0.keys():\n",
    "    print(k, end=\" \")"
   ]
  },
  {
   "cell_type": "markdown",
   "id": "487548e4-9473-4d4b-b5b9-372c15407541",
   "metadata": {},
   "source": [
    "#### train"
   ]
  },
  {
   "cell_type": "markdown",
   "id": "944a7614-af05-4d70-8063-720919f680dd",
   "metadata": {},
   "source": [
    "Trainset for the attack model trained to recognise the label 0"
   ]
  },
  {
   "cell_type": "code",
   "execution_count": 34,
   "id": "02139327-e192-4493-86ea-28dcae10586f",
   "metadata": {},
   "outputs": [
    {
     "data": {
      "text/plain": [
       "0         1         Target\n",
       "0.531389  0.468611  in        2\n",
       "0.567083  0.432917  in        2\n",
       "0.567322  0.432678  in        2\n",
       "0.547197  0.452803  in        2\n",
       "0.553511  0.446489  in        2\n",
       "                             ..\n",
       "0.538601  0.461399  out       1\n",
       "0.538593  0.461407  out       1\n",
       "0.538588  0.461412  out       1\n",
       "0.538581  0.461419  in        1\n",
       "0.646757  0.353243  out       1\n",
       "Length: 6510, dtype: int64"
      ]
     },
     "execution_count": 34,
     "metadata": {},
     "output_type": "execute_result"
    }
   ],
   "source": [
    "d0_train = pd.DataFrame(data_0['x_train'])\n",
    "d0_train['Target'] = data_0['y_train']\n",
    "\n",
    "d0_train.value_counts()"
   ]
  },
  {
   "cell_type": "markdown",
   "id": "a9553cec-ca8c-4796-97ec-381077ccf501",
   "metadata": {},
   "source": [
    "This values appear with two different labels:\n",
    "\n",
    "    0.535312  0.464688  in        52\n",
    "    0.535312  0.464688  out       20"
   ]
  },
  {
   "cell_type": "code",
   "execution_count": 35,
   "id": "bd18f826-a4a0-482b-9d1c-2215f5827962",
   "metadata": {},
   "outputs": [
    {
     "data": {
      "text/plain": [
       "in     0.799263\n",
       "out    0.200737\n",
       "Name: Target, dtype: float64"
      ]
     },
     "execution_count": 35,
     "metadata": {},
     "output_type": "execute_result"
    }
   ],
   "source": [
    "d0_train.Target.value_counts(normalize=True)"
   ]
  },
  {
   "cell_type": "code",
   "execution_count": 36,
   "id": "de7e04e5-dfbf-4ba7-9978-289fc1e7dc48",
   "metadata": {},
   "outputs": [
    {
     "data": {
      "text/html": [
       "<div>\n",
       "<style scoped>\n",
       "    .dataframe tbody tr th:only-of-type {\n",
       "        vertical-align: middle;\n",
       "    }\n",
       "\n",
       "    .dataframe tbody tr th {\n",
       "        vertical-align: top;\n",
       "    }\n",
       "\n",
       "    .dataframe thead th {\n",
       "        text-align: right;\n",
       "    }\n",
       "</style>\n",
       "<table border=\"1\" class=\"dataframe\">\n",
       "  <thead>\n",
       "    <tr style=\"text-align: right;\">\n",
       "      <th></th>\n",
       "      <th>0</th>\n",
       "      <th>1</th>\n",
       "    </tr>\n",
       "  </thead>\n",
       "  <tbody>\n",
       "    <tr>\n",
       "      <th>count</th>\n",
       "      <td>6516.000000</td>\n",
       "      <td>6516.000000</td>\n",
       "    </tr>\n",
       "    <tr>\n",
       "      <th>mean</th>\n",
       "      <td>0.548697</td>\n",
       "      <td>0.451303</td>\n",
       "    </tr>\n",
       "    <tr>\n",
       "      <th>std</th>\n",
       "      <td>0.023278</td>\n",
       "      <td>0.023278</td>\n",
       "    </tr>\n",
       "    <tr>\n",
       "      <th>min</th>\n",
       "      <td>0.440733</td>\n",
       "      <td>0.353243</td>\n",
       "    </tr>\n",
       "    <tr>\n",
       "      <th>25%</th>\n",
       "      <td>0.532147</td>\n",
       "      <td>0.436751</td>\n",
       "    </tr>\n",
       "    <tr>\n",
       "      <th>50%</th>\n",
       "      <td>0.549563</td>\n",
       "      <td>0.450437</td>\n",
       "    </tr>\n",
       "    <tr>\n",
       "      <th>75%</th>\n",
       "      <td>0.563249</td>\n",
       "      <td>0.467853</td>\n",
       "    </tr>\n",
       "    <tr>\n",
       "      <th>max</th>\n",
       "      <td>0.646757</td>\n",
       "      <td>0.559267</td>\n",
       "    </tr>\n",
       "  </tbody>\n",
       "</table>\n",
       "</div>"
      ],
      "text/plain": [
       "                 0            1\n",
       "count  6516.000000  6516.000000\n",
       "mean      0.548697     0.451303\n",
       "std       0.023278     0.023278\n",
       "min       0.440733     0.353243\n",
       "25%       0.532147     0.436751\n",
       "50%       0.549563     0.450437\n",
       "75%       0.563249     0.467853\n",
       "max       0.646757     0.559267"
      ]
     },
     "execution_count": 36,
     "metadata": {},
     "output_type": "execute_result"
    }
   ],
   "source": [
    "d0_train.describe()"
   ]
  },
  {
   "cell_type": "markdown",
   "id": "f06d858d-5400-4007-8e49-d5a3aa123566",
   "metadata": {},
   "source": [
    "Trainset for the attack model trained to recognise the label 1"
   ]
  },
  {
   "cell_type": "code",
   "execution_count": 37,
   "id": "6d6ab887-7d19-46c8-b40d-5ed55b06a265",
   "metadata": {},
   "outputs": [
    {
     "data": {
      "text/plain": [
       "0         1         Target\n",
       "0.482243  0.517757  in        9\n",
       "0.482822  0.517178  in        6\n",
       "0.484641  0.515359  in        6\n",
       "0.489135  0.510865  in        5\n",
       "0.487548  0.512452  in        5\n",
       "                             ..\n",
       "0.474143  0.525857  in        1\n",
       "                    in        1\n",
       "                    in        1\n",
       "0.474152  0.525848  in        1\n",
       "0.552003  0.447997  out       1\n",
       "Length: 4488, dtype: int64"
      ]
     },
     "execution_count": 37,
     "metadata": {},
     "output_type": "execute_result"
    }
   ],
   "source": [
    "d1_train = pd.DataFrame(data_1['x_train'])\n",
    "d1_train['Target'] = data_1['y_train']\n",
    "d1_train.value_counts()"
   ]
  },
  {
   "cell_type": "markdown",
   "id": "7b719ba8-32eb-46d6-9ff5-0a18c9aa6026",
   "metadata": {},
   "source": [
    "The out class is not represented enough"
   ]
  },
  {
   "cell_type": "code",
   "execution_count": 38,
   "id": "7e6db10e-6d37-46a2-a5d2-df7e081f2f08",
   "metadata": {},
   "outputs": [
    {
     "data": {
      "text/plain": [
       "in     0.976596\n",
       "out    0.023404\n",
       "Name: Target, dtype: float64"
      ]
     },
     "execution_count": 38,
     "metadata": {},
     "output_type": "execute_result"
    }
   ],
   "source": [
    "d1_train.Target.value_counts(normalize=True)"
   ]
  },
  {
   "cell_type": "code",
   "execution_count": 39,
   "id": "4b2f52ce-6af9-4bac-9f5a-2e45b399d403",
   "metadata": {},
   "outputs": [
    {
     "data": {
      "text/html": [
       "<div>\n",
       "<style scoped>\n",
       "    .dataframe tbody tr th:only-of-type {\n",
       "        vertical-align: middle;\n",
       "    }\n",
       "\n",
       "    .dataframe tbody tr th {\n",
       "        vertical-align: top;\n",
       "    }\n",
       "\n",
       "    .dataframe thead th {\n",
       "        text-align: right;\n",
       "    }\n",
       "</style>\n",
       "<table border=\"1\" class=\"dataframe\">\n",
       "  <thead>\n",
       "    <tr style=\"text-align: right;\">\n",
       "      <th></th>\n",
       "      <th>0</th>\n",
       "      <th>1</th>\n",
       "    </tr>\n",
       "  </thead>\n",
       "  <tbody>\n",
       "    <tr>\n",
       "      <th>count</th>\n",
       "      <td>5341.000000</td>\n",
       "      <td>5341.000000</td>\n",
       "    </tr>\n",
       "    <tr>\n",
       "      <th>mean</th>\n",
       "      <td>0.475781</td>\n",
       "      <td>0.524219</td>\n",
       "    </tr>\n",
       "    <tr>\n",
       "      <th>std</th>\n",
       "      <td>0.012901</td>\n",
       "      <td>0.012901</td>\n",
       "    </tr>\n",
       "    <tr>\n",
       "      <th>min</th>\n",
       "      <td>0.379912</td>\n",
       "      <td>0.447997</td>\n",
       "    </tr>\n",
       "    <tr>\n",
       "      <th>25%</th>\n",
       "      <td>0.470911</td>\n",
       "      <td>0.516097</td>\n",
       "    </tr>\n",
       "    <tr>\n",
       "      <th>50%</th>\n",
       "      <td>0.478376</td>\n",
       "      <td>0.521624</td>\n",
       "    </tr>\n",
       "    <tr>\n",
       "      <th>75%</th>\n",
       "      <td>0.483903</td>\n",
       "      <td>0.529089</td>\n",
       "    </tr>\n",
       "    <tr>\n",
       "      <th>max</th>\n",
       "      <td>0.552003</td>\n",
       "      <td>0.620088</td>\n",
       "    </tr>\n",
       "  </tbody>\n",
       "</table>\n",
       "</div>"
      ],
      "text/plain": [
       "                 0            1\n",
       "count  5341.000000  5341.000000\n",
       "mean      0.475781     0.524219\n",
       "std       0.012901     0.012901\n",
       "min       0.379912     0.447997\n",
       "25%       0.470911     0.516097\n",
       "50%       0.478376     0.521624\n",
       "75%       0.483903     0.529089\n",
       "max       0.552003     0.620088"
      ]
     },
     "execution_count": 39,
     "metadata": {},
     "output_type": "execute_result"
    }
   ],
   "source": [
    "d1_train.describe()"
   ]
  },
  {
   "cell_type": "markdown",
   "id": "bb517723-facf-45a8-9ead-8baf304f8dc0",
   "metadata": {},
   "source": [
    "#### test"
   ]
  },
  {
   "cell_type": "markdown",
   "id": "1dc092f1-6662-4492-b623-2ce845be6a2a",
   "metadata": {},
   "source": [
    "Testset for the attack model trained to recognise the label 0"
   ]
  },
  {
   "cell_type": "code",
   "execution_count": 40,
   "id": "b247bc26-5e1f-489d-ad4d-37678b123468",
   "metadata": {},
   "outputs": [
    {
     "data": {
      "text/plain": [
       "0         1         Target\n",
       "0.557862  0.442138  in        2\n",
       "0.561351  0.438649  in        2\n",
       "0.478880  0.521120  out       1\n",
       "0.558512  0.441488  in        1\n",
       "0.558386  0.441614  in        1\n",
       "                             ..\n",
       "0.539153  0.460847  in        1\n",
       "0.539146  0.460854  in        1\n",
       "0.539141  0.460859  out       1\n",
       "0.539116  0.460884  in        1\n",
       "0.657947  0.342053  in        1\n",
       "Length: 2170, dtype: int64"
      ]
     },
     "execution_count": 40,
     "metadata": {},
     "output_type": "execute_result"
    }
   ],
   "source": [
    "d0_test = pd.DataFrame(data_0['x_test'])\n",
    "d0_test['Target'] = data_0['y_test']\n",
    "d0_test.value_counts()"
   ]
  },
  {
   "cell_type": "code",
   "execution_count": 41,
   "id": "78a84b0c-9f05-45ef-86a9-18c2c5ac8127",
   "metadata": {},
   "outputs": [
    {
     "data": {
      "text/plain": [
       "in     0.805249\n",
       "out    0.194751\n",
       "Name: Target, dtype: float64"
      ]
     },
     "execution_count": 41,
     "metadata": {},
     "output_type": "execute_result"
    }
   ],
   "source": [
    "d0_test.Target.value_counts(normalize=True)"
   ]
  },
  {
   "cell_type": "code",
   "execution_count": 42,
   "id": "6d386227-f80d-4774-b206-6b69068576ff",
   "metadata": {},
   "outputs": [
    {
     "data": {
      "text/html": [
       "<div>\n",
       "<style scoped>\n",
       "    .dataframe tbody tr th:only-of-type {\n",
       "        vertical-align: middle;\n",
       "    }\n",
       "\n",
       "    .dataframe tbody tr th {\n",
       "        vertical-align: top;\n",
       "    }\n",
       "\n",
       "    .dataframe thead th {\n",
       "        text-align: right;\n",
       "    }\n",
       "</style>\n",
       "<table border=\"1\" class=\"dataframe\">\n",
       "  <thead>\n",
       "    <tr style=\"text-align: right;\">\n",
       "      <th></th>\n",
       "      <th>0</th>\n",
       "      <th>1</th>\n",
       "    </tr>\n",
       "  </thead>\n",
       "  <tbody>\n",
       "    <tr>\n",
       "      <th>count</th>\n",
       "      <td>2172.000000</td>\n",
       "      <td>2172.000000</td>\n",
       "    </tr>\n",
       "    <tr>\n",
       "      <th>mean</th>\n",
       "      <td>0.547799</td>\n",
       "      <td>0.452201</td>\n",
       "    </tr>\n",
       "    <tr>\n",
       "      <th>std</th>\n",
       "      <td>0.022894</td>\n",
       "      <td>0.022894</td>\n",
       "    </tr>\n",
       "    <tr>\n",
       "      <th>min</th>\n",
       "      <td>0.478880</td>\n",
       "      <td>0.342053</td>\n",
       "    </tr>\n",
       "    <tr>\n",
       "      <th>25%</th>\n",
       "      <td>0.531540</td>\n",
       "      <td>0.437840</td>\n",
       "    </tr>\n",
       "    <tr>\n",
       "      <th>50%</th>\n",
       "      <td>0.548995</td>\n",
       "      <td>0.451005</td>\n",
       "    </tr>\n",
       "    <tr>\n",
       "      <th>75%</th>\n",
       "      <td>0.562160</td>\n",
       "      <td>0.468460</td>\n",
       "    </tr>\n",
       "    <tr>\n",
       "      <th>max</th>\n",
       "      <td>0.657947</td>\n",
       "      <td>0.521120</td>\n",
       "    </tr>\n",
       "  </tbody>\n",
       "</table>\n",
       "</div>"
      ],
      "text/plain": [
       "                 0            1\n",
       "count  2172.000000  2172.000000\n",
       "mean      0.547799     0.452201\n",
       "std       0.022894     0.022894\n",
       "min       0.478880     0.342053\n",
       "25%       0.531540     0.437840\n",
       "50%       0.548995     0.451005\n",
       "75%       0.562160     0.468460\n",
       "max       0.657947     0.521120"
      ]
     },
     "execution_count": 42,
     "metadata": {},
     "output_type": "execute_result"
    }
   ],
   "source": [
    "d0_test.describe()"
   ]
  },
  {
   "cell_type": "markdown",
   "id": "75668f10-36d2-445a-9874-e5154098be31",
   "metadata": {},
   "source": [
    "Testset for the attack model trained to recognise the label 1"
   ]
  },
  {
   "cell_type": "code",
   "execution_count": 43,
   "id": "8a0d7246-57c8-49bc-b4ae-465ec6399f89",
   "metadata": {},
   "outputs": [
    {
     "data": {
      "text/plain": [
       "0         1         Target\n",
       "0.487548  0.512452  in        4\n",
       "0.472044  0.527956  in        4\n",
       "0.471639  0.528361  in        3\n",
       "0.481525  0.518475  in        3\n",
       "0.470344  0.529656  in        3\n",
       "                             ..\n",
       "0.473632  0.526368  in        1\n",
       "0.473609  0.526391  in        1\n",
       "0.473608  0.526392  in        1\n",
       "0.473598  0.526402  in        1\n",
       "0.537296  0.462704  out       1\n",
       "Length: 1654, dtype: int64"
      ]
     },
     "execution_count": 43,
     "metadata": {},
     "output_type": "execute_result"
    }
   ],
   "source": [
    "d1_test = pd.DataFrame(data_1['x_test'])\n",
    "d1_test['Target'] = data_1['y_test']\n",
    "d1_test.value_counts()"
   ]
  },
  {
   "cell_type": "markdown",
   "id": "1d98364a-9827-46bb-8762-c6e07df694ac",
   "metadata": {},
   "source": [
    "The out class is not represented enough"
   ]
  },
  {
   "cell_type": "code",
   "execution_count": 44,
   "id": "6209b05c-653f-40f9-8137-27277ca2c0f8",
   "metadata": {},
   "outputs": [
    {
     "data": {
      "text/plain": [
       "in     0.977541\n",
       "out    0.022459\n",
       "Name: Target, dtype: float64"
      ]
     },
     "execution_count": 44,
     "metadata": {},
     "output_type": "execute_result"
    }
   ],
   "source": [
    "d1_test.Target.value_counts(normalize=True)"
   ]
  },
  {
   "cell_type": "code",
   "execution_count": 45,
   "id": "9284101a-ebc1-495a-8dd8-05b836079a07",
   "metadata": {},
   "outputs": [
    {
     "data": {
      "text/html": [
       "<div>\n",
       "<style scoped>\n",
       "    .dataframe tbody tr th:only-of-type {\n",
       "        vertical-align: middle;\n",
       "    }\n",
       "\n",
       "    .dataframe tbody tr th {\n",
       "        vertical-align: top;\n",
       "    }\n",
       "\n",
       "    .dataframe thead th {\n",
       "        text-align: right;\n",
       "    }\n",
       "</style>\n",
       "<table border=\"1\" class=\"dataframe\">\n",
       "  <thead>\n",
       "    <tr style=\"text-align: right;\">\n",
       "      <th></th>\n",
       "      <th>0</th>\n",
       "      <th>1</th>\n",
       "    </tr>\n",
       "  </thead>\n",
       "  <tbody>\n",
       "    <tr>\n",
       "      <th>count</th>\n",
       "      <td>1781.000000</td>\n",
       "      <td>1781.000000</td>\n",
       "    </tr>\n",
       "    <tr>\n",
       "      <th>mean</th>\n",
       "      <td>0.475413</td>\n",
       "      <td>0.524587</td>\n",
       "    </tr>\n",
       "    <tr>\n",
       "      <th>std</th>\n",
       "      <td>0.012804</td>\n",
       "      <td>0.012804</td>\n",
       "    </tr>\n",
       "    <tr>\n",
       "      <th>min</th>\n",
       "      <td>0.380366</td>\n",
       "      <td>0.462704</td>\n",
       "    </tr>\n",
       "    <tr>\n",
       "      <th>25%</th>\n",
       "      <td>0.470403</td>\n",
       "      <td>0.516479</td>\n",
       "    </tr>\n",
       "    <tr>\n",
       "      <th>50%</th>\n",
       "      <td>0.477944</td>\n",
       "      <td>0.522056</td>\n",
       "    </tr>\n",
       "    <tr>\n",
       "      <th>75%</th>\n",
       "      <td>0.483521</td>\n",
       "      <td>0.529597</td>\n",
       "    </tr>\n",
       "    <tr>\n",
       "      <th>max</th>\n",
       "      <td>0.537296</td>\n",
       "      <td>0.619634</td>\n",
       "    </tr>\n",
       "  </tbody>\n",
       "</table>\n",
       "</div>"
      ],
      "text/plain": [
       "                 0            1\n",
       "count  1781.000000  1781.000000\n",
       "mean      0.475413     0.524587\n",
       "std       0.012804     0.012804\n",
       "min       0.380366     0.462704\n",
       "25%       0.470403     0.516479\n",
       "50%       0.477944     0.522056\n",
       "75%       0.483521     0.529597\n",
       "max       0.537296     0.619634"
      ]
     },
     "execution_count": 45,
     "metadata": {},
     "output_type": "execute_result"
    }
   ],
   "source": [
    "d1_test.describe()"
   ]
  },
  {
   "cell_type": "markdown",
   "id": "4f7cfe32-702c-47e2-8476-b1438a05e891",
   "metadata": {},
   "source": [
    "## idx 20"
   ]
  },
  {
   "cell_type": "code",
   "execution_count": 46,
   "id": "e4b9885c-4fd4-4e25-bda8-e3c6e623d6cb",
   "metadata": {},
   "outputs": [
    {
     "name": "stdout",
     "output_type": "stream",
     "text": [
      "x_train x_test y_train y_test "
     ]
    },
    {
     "name": "stderr",
     "output_type": "stream",
     "text": [
      "/home/gerardozinno/.pyenv/versions/ml-environment/lib/python3.9/site-packages/sklearn/base.py:329: UserWarning: Trying to unpickle estimator DecisionTreeClassifier from version 1.0.2 when using version 1.1.1. This might lead to breaking code or invalid results. Use at your own risk. For more info please refer to:\n",
      "https://scikit-learn.org/stable/model_persistence.html#security-maintainability-limitations\n",
      "  warnings.warn(\n",
      "/home/gerardozinno/.pyenv/versions/ml-environment/lib/python3.9/site-packages/sklearn/base.py:329: UserWarning: Trying to unpickle estimator AdaBoostClassifier from version 1.0.2 when using version 1.1.1. This might lead to breaking code or invalid results. Use at your own risk. For more info please refer to:\n",
      "https://scikit-learn.org/stable/model_persistence.html#security-maintainability-limitations\n",
      "  warnings.warn(\n"
     ]
    }
   ],
   "source": [
    "(atk_0, data_0), (atk_1, data_1) = load_atk_and_data(20)\n",
    "for k in data_0.keys():\n",
    "    print(k, end=\" \")"
   ]
  },
  {
   "cell_type": "markdown",
   "id": "7c5a5ed2-8722-4a05-be35-bc67ab5544cc",
   "metadata": {},
   "source": [
    "#### train"
   ]
  },
  {
   "cell_type": "markdown",
   "id": "3cbb5374-22be-4733-b2ca-67e8b12d73c9",
   "metadata": {},
   "source": [
    "Trainset for the attack model trained to recognise the label 0"
   ]
  },
  {
   "cell_type": "code",
   "execution_count": 47,
   "id": "a3792e50-8826-4db6-a2bf-a7c46dda4ac4",
   "metadata": {},
   "outputs": [
    {
     "data": {
      "text/plain": [
       "0         1         Target\n",
       "0.524584  0.475416  in        10\n",
       "0.543760  0.456240  in         6\n",
       "0.536302  0.463698  in         5\n",
       "0.540645  0.459355  in         3\n",
       "0.554333  0.445667  in         3\n",
       "                              ..\n",
       "0.514836  0.485164  in         1\n",
       "                    in         1\n",
       "0.514831  0.485169  in         1\n",
       "0.514815  0.485185  in         1\n",
       "0.607947  0.392053  out        1\n",
       "Length: 5183, dtype: int64"
      ]
     },
     "execution_count": 47,
     "metadata": {},
     "output_type": "execute_result"
    }
   ],
   "source": [
    "d0_train = pd.DataFrame(data_0['x_train'])\n",
    "d0_train['Target'] = data_0['y_train']\n",
    "\n",
    "d0_train.value_counts()"
   ]
  },
  {
   "cell_type": "code",
   "execution_count": 48,
   "id": "2ed4927c-fc03-4b2a-ab25-d98db17a296e",
   "metadata": {},
   "outputs": [
    {
     "data": {
      "text/plain": [
       "in     0.803922\n",
       "out    0.196078\n",
       "Name: Target, dtype: float64"
      ]
     },
     "execution_count": 48,
     "metadata": {},
     "output_type": "execute_result"
    }
   ],
   "source": [
    "d0_train.Target.value_counts(normalize=True)"
   ]
  },
  {
   "cell_type": "code",
   "execution_count": 49,
   "id": "04a7fba6-d728-47eb-a443-8393f212f5f5",
   "metadata": {},
   "outputs": [
    {
     "data": {
      "text/html": [
       "<div>\n",
       "<style scoped>\n",
       "    .dataframe tbody tr th:only-of-type {\n",
       "        vertical-align: middle;\n",
       "    }\n",
       "\n",
       "    .dataframe tbody tr th {\n",
       "        vertical-align: top;\n",
       "    }\n",
       "\n",
       "    .dataframe thead th {\n",
       "        text-align: right;\n",
       "    }\n",
       "</style>\n",
       "<table border=\"1\" class=\"dataframe\">\n",
       "  <thead>\n",
       "    <tr style=\"text-align: right;\">\n",
       "      <th></th>\n",
       "      <th>0</th>\n",
       "      <th>1</th>\n",
       "    </tr>\n",
       "  </thead>\n",
       "  <tbody>\n",
       "    <tr>\n",
       "      <th>count</th>\n",
       "      <td>5253.000000</td>\n",
       "      <td>5253.000000</td>\n",
       "    </tr>\n",
       "    <tr>\n",
       "      <th>mean</th>\n",
       "      <td>0.523426</td>\n",
       "      <td>0.476574</td>\n",
       "    </tr>\n",
       "    <tr>\n",
       "      <th>std</th>\n",
       "      <td>0.015590</td>\n",
       "      <td>0.015590</td>\n",
       "    </tr>\n",
       "    <tr>\n",
       "      <th>min</th>\n",
       "      <td>0.477492</td>\n",
       "      <td>0.392053</td>\n",
       "    </tr>\n",
       "    <tr>\n",
       "      <th>25%</th>\n",
       "      <td>0.511819</td>\n",
       "      <td>0.467906</td>\n",
       "    </tr>\n",
       "    <tr>\n",
       "      <th>50%</th>\n",
       "      <td>0.520981</td>\n",
       "      <td>0.479019</td>\n",
       "    </tr>\n",
       "    <tr>\n",
       "      <th>75%</th>\n",
       "      <td>0.532094</td>\n",
       "      <td>0.488181</td>\n",
       "    </tr>\n",
       "    <tr>\n",
       "      <th>max</th>\n",
       "      <td>0.607947</td>\n",
       "      <td>0.522508</td>\n",
       "    </tr>\n",
       "  </tbody>\n",
       "</table>\n",
       "</div>"
      ],
      "text/plain": [
       "                 0            1\n",
       "count  5253.000000  5253.000000\n",
       "mean      0.523426     0.476574\n",
       "std       0.015590     0.015590\n",
       "min       0.477492     0.392053\n",
       "25%       0.511819     0.467906\n",
       "50%       0.520981     0.479019\n",
       "75%       0.532094     0.488181\n",
       "max       0.607947     0.522508"
      ]
     },
     "execution_count": 49,
     "metadata": {},
     "output_type": "execute_result"
    }
   ],
   "source": [
    "d0_train.describe()"
   ]
  },
  {
   "cell_type": "markdown",
   "id": "6f9ed8fe-4a77-4c6a-89a0-017548c4a769",
   "metadata": {},
   "source": [
    "Trainset for the attack model trained to recognise the label 1"
   ]
  },
  {
   "cell_type": "code",
   "execution_count": 50,
   "id": "8bc0e11e-8757-453e-8e7d-ff686741016d",
   "metadata": {},
   "outputs": [
    {
     "data": {
      "text/plain": [
       "0         1         Target\n",
       "0.465504  0.534496  in        5\n",
       "0.490578  0.509422  in        5\n",
       "0.496845  0.503155  in        4\n",
       "0.493168  0.506832  in        4\n",
       "0.493609  0.506391  in        4\n",
       "                             ..\n",
       "0.478040  0.521960  out       1\n",
       "0.478042  0.521958  in        1\n",
       "0.478066  0.521934  in        1\n",
       "0.478091  0.521909  in        1\n",
       "0.530709  0.469291  out       1\n",
       "Length: 4333, dtype: int64"
      ]
     },
     "execution_count": 50,
     "metadata": {},
     "output_type": "execute_result"
    }
   ],
   "source": [
    "d1_train = pd.DataFrame(data_1['x_train'])\n",
    "d1_train['Target'] = data_1['y_train']\n",
    "d1_train.value_counts()"
   ]
  },
  {
   "cell_type": "markdown",
   "id": "82eefb6b-48be-4ef2-92e3-405f4ece046a",
   "metadata": {},
   "source": [
    "The out class is not represented enough"
   ]
  },
  {
   "cell_type": "code",
   "execution_count": 51,
   "id": "aa0d8053-ab94-4af2-83ad-b188b6803f3f",
   "metadata": {},
   "outputs": [
    {
     "data": {
      "text/plain": [
       "in     0.917211\n",
       "out    0.082789\n",
       "Name: Target, dtype: float64"
      ]
     },
     "execution_count": 51,
     "metadata": {},
     "output_type": "execute_result"
    }
   ],
   "source": [
    "d1_train.Target.value_counts(normalize=True)"
   ]
  },
  {
   "cell_type": "code",
   "execution_count": 52,
   "id": "04f7653b-150a-4552-b2bf-5c4b5cfe33ec",
   "metadata": {},
   "outputs": [
    {
     "data": {
      "text/html": [
       "<div>\n",
       "<style scoped>\n",
       "    .dataframe tbody tr th:only-of-type {\n",
       "        vertical-align: middle;\n",
       "    }\n",
       "\n",
       "    .dataframe tbody tr th {\n",
       "        vertical-align: top;\n",
       "    }\n",
       "\n",
       "    .dataframe thead th {\n",
       "        text-align: right;\n",
       "    }\n",
       "</style>\n",
       "<table border=\"1\" class=\"dataframe\">\n",
       "  <thead>\n",
       "    <tr style=\"text-align: right;\">\n",
       "      <th></th>\n",
       "      <th>0</th>\n",
       "      <th>1</th>\n",
       "    </tr>\n",
       "  </thead>\n",
       "  <tbody>\n",
       "    <tr>\n",
       "      <th>count</th>\n",
       "      <td>4590.000000</td>\n",
       "      <td>4590.000000</td>\n",
       "    </tr>\n",
       "    <tr>\n",
       "      <th>mean</th>\n",
       "      <td>0.478854</td>\n",
       "      <td>0.521146</td>\n",
       "    </tr>\n",
       "    <tr>\n",
       "      <th>std</th>\n",
       "      <td>0.016554</td>\n",
       "      <td>0.016554</td>\n",
       "    </tr>\n",
       "    <tr>\n",
       "      <th>min</th>\n",
       "      <td>0.392319</td>\n",
       "      <td>0.469291</td>\n",
       "    </tr>\n",
       "    <tr>\n",
       "      <th>25%</th>\n",
       "      <td>0.472468</td>\n",
       "      <td>0.509730</td>\n",
       "    </tr>\n",
       "    <tr>\n",
       "      <th>50%</th>\n",
       "      <td>0.483863</td>\n",
       "      <td>0.516137</td>\n",
       "    </tr>\n",
       "    <tr>\n",
       "      <th>75%</th>\n",
       "      <td>0.490270</td>\n",
       "      <td>0.527532</td>\n",
       "    </tr>\n",
       "    <tr>\n",
       "      <th>max</th>\n",
       "      <td>0.530709</td>\n",
       "      <td>0.607681</td>\n",
       "    </tr>\n",
       "  </tbody>\n",
       "</table>\n",
       "</div>"
      ],
      "text/plain": [
       "                 0            1\n",
       "count  4590.000000  4590.000000\n",
       "mean      0.478854     0.521146\n",
       "std       0.016554     0.016554\n",
       "min       0.392319     0.469291\n",
       "25%       0.472468     0.509730\n",
       "50%       0.483863     0.516137\n",
       "75%       0.490270     0.527532\n",
       "max       0.530709     0.607681"
      ]
     },
     "execution_count": 52,
     "metadata": {},
     "output_type": "execute_result"
    }
   ],
   "source": [
    "d1_train.describe()"
   ]
  },
  {
   "cell_type": "markdown",
   "id": "3f84ccc8-8e25-4b25-b15e-9da93f53df01",
   "metadata": {},
   "source": [
    "#### test"
   ]
  },
  {
   "cell_type": "markdown",
   "id": "9c5bf8f2-0266-416e-8d62-4b9b57e52e93",
   "metadata": {},
   "source": [
    "Testset for the attack model trained to recognise the label 0"
   ]
  },
  {
   "cell_type": "code",
   "execution_count": 53,
   "id": "9cf2d2bd-79fe-4f80-8a0c-b1111add6ba8",
   "metadata": {},
   "outputs": [
    {
     "data": {
      "text/plain": [
       "0         1         Target\n",
       "0.519973  0.480027  in        3\n",
       "0.532148  0.467852  in        2\n",
       "0.534986  0.465014  in        2\n",
       "0.526243  0.473757  in        2\n",
       "0.519246  0.480754  in        2\n",
       "                             ..\n",
       "0.514680  0.485320  in        1\n",
       "0.514677  0.485323  out       1\n",
       "0.514610  0.485390  in        1\n",
       "0.514609  0.485391  in        1\n",
       "0.597630  0.402370  in        1\n",
       "Length: 1745, dtype: int64"
      ]
     },
     "execution_count": 53,
     "metadata": {},
     "output_type": "execute_result"
    }
   ],
   "source": [
    "d0_test = pd.DataFrame(data_0['x_test'])\n",
    "d0_test['Target'] = data_0['y_test']\n",
    "d0_test.value_counts()"
   ]
  },
  {
   "cell_type": "code",
   "execution_count": 54,
   "id": "eef4c8f1-4034-4734-b455-c0d8b4044853",
   "metadata": {},
   "outputs": [
    {
     "data": {
      "text/plain": [
       "in     0.794403\n",
       "out    0.205597\n",
       "Name: Target, dtype: float64"
      ]
     },
     "execution_count": 54,
     "metadata": {},
     "output_type": "execute_result"
    }
   ],
   "source": [
    "d0_test.Target.value_counts(normalize=True)"
   ]
  },
  {
   "cell_type": "code",
   "execution_count": 55,
   "id": "b0688f08-e55f-4373-b953-3f3b34fcbaee",
   "metadata": {},
   "outputs": [
    {
     "data": {
      "text/html": [
       "<div>\n",
       "<style scoped>\n",
       "    .dataframe tbody tr th:only-of-type {\n",
       "        vertical-align: middle;\n",
       "    }\n",
       "\n",
       "    .dataframe tbody tr th {\n",
       "        vertical-align: top;\n",
       "    }\n",
       "\n",
       "    .dataframe thead th {\n",
       "        text-align: right;\n",
       "    }\n",
       "</style>\n",
       "<table border=\"1\" class=\"dataframe\">\n",
       "  <thead>\n",
       "    <tr style=\"text-align: right;\">\n",
       "      <th></th>\n",
       "      <th>0</th>\n",
       "      <th>1</th>\n",
       "    </tr>\n",
       "  </thead>\n",
       "  <tbody>\n",
       "    <tr>\n",
       "      <th>count</th>\n",
       "      <td>1751.000000</td>\n",
       "      <td>1751.000000</td>\n",
       "    </tr>\n",
       "    <tr>\n",
       "      <th>mean</th>\n",
       "      <td>0.523641</td>\n",
       "      <td>0.476359</td>\n",
       "    </tr>\n",
       "    <tr>\n",
       "      <th>std</th>\n",
       "      <td>0.015499</td>\n",
       "      <td>0.015499</td>\n",
       "    </tr>\n",
       "    <tr>\n",
       "      <th>min</th>\n",
       "      <td>0.486060</td>\n",
       "      <td>0.402370</td>\n",
       "    </tr>\n",
       "    <tr>\n",
       "      <th>25%</th>\n",
       "      <td>0.511906</td>\n",
       "      <td>0.467833</td>\n",
       "    </tr>\n",
       "    <tr>\n",
       "      <th>50%</th>\n",
       "      <td>0.521368</td>\n",
       "      <td>0.478632</td>\n",
       "    </tr>\n",
       "    <tr>\n",
       "      <th>75%</th>\n",
       "      <td>0.532167</td>\n",
       "      <td>0.488094</td>\n",
       "    </tr>\n",
       "    <tr>\n",
       "      <th>max</th>\n",
       "      <td>0.597630</td>\n",
       "      <td>0.513940</td>\n",
       "    </tr>\n",
       "  </tbody>\n",
       "</table>\n",
       "</div>"
      ],
      "text/plain": [
       "                 0            1\n",
       "count  1751.000000  1751.000000\n",
       "mean      0.523641     0.476359\n",
       "std       0.015499     0.015499\n",
       "min       0.486060     0.402370\n",
       "25%       0.511906     0.467833\n",
       "50%       0.521368     0.478632\n",
       "75%       0.532167     0.488094\n",
       "max       0.597630     0.513940"
      ]
     },
     "execution_count": 55,
     "metadata": {},
     "output_type": "execute_result"
    }
   ],
   "source": [
    "d0_test.describe()"
   ]
  },
  {
   "cell_type": "markdown",
   "id": "2c63dce6-cd0a-4308-bb92-cd2f4ae83abb",
   "metadata": {},
   "source": [
    "Testset for the attack model trained to recognise the label 1"
   ]
  },
  {
   "cell_type": "code",
   "execution_count": 56,
   "id": "2b487747-1e19-4471-aa07-3998d0baad8b",
   "metadata": {},
   "outputs": [
    {
     "data": {
      "text/plain": [
       "0         1         Target\n",
       "0.489638  0.510362  in        3\n",
       "0.486861  0.513139  in        2\n",
       "0.474181  0.525819  in        2\n",
       "0.467689  0.532311  in        2\n",
       "0.450647  0.549353  in        2\n",
       "                             ..\n",
       "0.477045  0.522955  in        1\n",
       "0.476968  0.523032  in        1\n",
       "0.476948  0.523052  in        1\n",
       "0.476921  0.523079  in        1\n",
       "0.521648  0.478352  out       1\n",
       "Length: 1500, dtype: int64"
      ]
     },
     "execution_count": 56,
     "metadata": {},
     "output_type": "execute_result"
    }
   ],
   "source": [
    "d1_test = pd.DataFrame(data_1['x_test'])\n",
    "d1_test['Target'] = data_1['y_test']\n",
    "d1_test.value_counts()"
   ]
  },
  {
   "cell_type": "markdown",
   "id": "88dfa458-def1-4bf0-81c0-e0358a0fd273",
   "metadata": {},
   "source": [
    "The out class is not represented enough"
   ]
  },
  {
   "cell_type": "code",
   "execution_count": 57,
   "id": "0cd4d039-91be-4622-a95a-bb01e0cc5022",
   "metadata": {},
   "outputs": [
    {
     "data": {
      "text/plain": [
       "in     0.917647\n",
       "out    0.082353\n",
       "Name: Target, dtype: float64"
      ]
     },
     "execution_count": 57,
     "metadata": {},
     "output_type": "execute_result"
    }
   ],
   "source": [
    "d1_test.Target.value_counts(normalize=True)"
   ]
  },
  {
   "cell_type": "code",
   "execution_count": 58,
   "id": "9dcabca5-4762-4451-91be-3b67534a2474",
   "metadata": {
    "tags": []
   },
   "outputs": [
    {
     "data": {
      "text/html": [
       "<div>\n",
       "<style scoped>\n",
       "    .dataframe tbody tr th:only-of-type {\n",
       "        vertical-align: middle;\n",
       "    }\n",
       "\n",
       "    .dataframe tbody tr th {\n",
       "        vertical-align: top;\n",
       "    }\n",
       "\n",
       "    .dataframe thead th {\n",
       "        text-align: right;\n",
       "    }\n",
       "</style>\n",
       "<table border=\"1\" class=\"dataframe\">\n",
       "  <thead>\n",
       "    <tr style=\"text-align: right;\">\n",
       "      <th></th>\n",
       "      <th>0</th>\n",
       "      <th>1</th>\n",
       "    </tr>\n",
       "  </thead>\n",
       "  <tbody>\n",
       "    <tr>\n",
       "      <th>count</th>\n",
       "      <td>1530.000000</td>\n",
       "      <td>1530.000000</td>\n",
       "    </tr>\n",
       "    <tr>\n",
       "      <th>mean</th>\n",
       "      <td>0.478442</td>\n",
       "      <td>0.521558</td>\n",
       "    </tr>\n",
       "    <tr>\n",
       "      <th>std</th>\n",
       "      <td>0.016713</td>\n",
       "      <td>0.016713</td>\n",
       "    </tr>\n",
       "    <tr>\n",
       "      <th>min</th>\n",
       "      <td>0.403415</td>\n",
       "      <td>0.478352</td>\n",
       "    </tr>\n",
       "    <tr>\n",
       "      <th>25%</th>\n",
       "      <td>0.471914</td>\n",
       "      <td>0.509886</td>\n",
       "    </tr>\n",
       "    <tr>\n",
       "      <th>50%</th>\n",
       "      <td>0.483640</td>\n",
       "      <td>0.516360</td>\n",
       "    </tr>\n",
       "    <tr>\n",
       "      <th>75%</th>\n",
       "      <td>0.490114</td>\n",
       "      <td>0.528086</td>\n",
       "    </tr>\n",
       "    <tr>\n",
       "      <th>max</th>\n",
       "      <td>0.521648</td>\n",
       "      <td>0.596585</td>\n",
       "    </tr>\n",
       "  </tbody>\n",
       "</table>\n",
       "</div>"
      ],
      "text/plain": [
       "                 0            1\n",
       "count  1530.000000  1530.000000\n",
       "mean      0.478442     0.521558\n",
       "std       0.016713     0.016713\n",
       "min       0.403415     0.478352\n",
       "25%       0.471914     0.509886\n",
       "50%       0.483640     0.516360\n",
       "75%       0.490114     0.528086\n",
       "max       0.521648     0.596585"
      ]
     },
     "execution_count": 58,
     "metadata": {},
     "output_type": "execute_result"
    }
   ],
   "source": [
    "d1_test.describe()"
   ]
  },
  {
   "cell_type": "markdown",
   "id": "a23edf82-28ac-4f58-8fa6-86e42783a8ce",
   "metadata": {},
   "source": [
    "## idx 23"
   ]
  },
  {
   "cell_type": "code",
   "execution_count": 59,
   "id": "61fcb772-ef7f-41bb-84f2-85de2a74cd49",
   "metadata": {},
   "outputs": [
    {
     "name": "stdout",
     "output_type": "stream",
     "text": [
      "x_train x_test y_train y_test "
     ]
    },
    {
     "name": "stderr",
     "output_type": "stream",
     "text": [
      "/home/gerardozinno/.pyenv/versions/ml-environment/lib/python3.9/site-packages/sklearn/base.py:329: UserWarning: Trying to unpickle estimator DecisionTreeClassifier from version 1.0.2 when using version 1.1.1. This might lead to breaking code or invalid results. Use at your own risk. For more info please refer to:\n",
      "https://scikit-learn.org/stable/model_persistence.html#security-maintainability-limitations\n",
      "  warnings.warn(\n",
      "/home/gerardozinno/.pyenv/versions/ml-environment/lib/python3.9/site-packages/sklearn/base.py:329: UserWarning: Trying to unpickle estimator AdaBoostClassifier from version 1.0.2 when using version 1.1.1. This might lead to breaking code or invalid results. Use at your own risk. For more info please refer to:\n",
      "https://scikit-learn.org/stable/model_persistence.html#security-maintainability-limitations\n",
      "  warnings.warn(\n"
     ]
    }
   ],
   "source": [
    "(atk_0, data_0), (atk_1, data_1) = load_atk_and_data(23)\n",
    "for k in data_0.keys():\n",
    "    print(k, end=\" \")"
   ]
  },
  {
   "cell_type": "markdown",
   "id": "8747e23c-5b3d-4acc-9553-9d9ebe4d27ce",
   "metadata": {},
   "source": [
    "#### train"
   ]
  },
  {
   "cell_type": "markdown",
   "id": "2564ba2b-5396-4efe-913c-49769f79a7e8",
   "metadata": {},
   "source": [
    "Trainset for the attack model trained to recognise the label 0"
   ]
  },
  {
   "cell_type": "code",
   "execution_count": 60,
   "id": "da4629a1-1438-46ab-9cc5-a04ff6d064e9",
   "metadata": {},
   "outputs": [
    {
     "data": {
      "text/plain": [
       "0         1         Target\n",
       "0.548101  0.451899  in        4\n",
       "0.519369  0.480631  in        3\n",
       "0.520448  0.479552  in        2\n",
       "0.519464  0.480536  in        2\n",
       "0.520314  0.479686  in        2\n",
       "                             ..\n",
       "0.517305  0.482695  in        1\n",
       "0.517302  0.482698  in        1\n",
       "0.517299  0.482701  out       1\n",
       "0.517293  0.482707  in        1\n",
       "0.607944  0.392056  in        1\n",
       "Length: 5565, dtype: int64"
      ]
     },
     "execution_count": 60,
     "metadata": {},
     "output_type": "execute_result"
    }
   ],
   "source": [
    "d0_train = pd.DataFrame(data_0['x_train'])\n",
    "d0_train['Target'] = data_0['y_train']\n",
    "\n",
    "d0_train.value_counts()"
   ]
  },
  {
   "cell_type": "code",
   "execution_count": 61,
   "id": "e6968aee-b777-4e30-aef6-4027abb4d62d",
   "metadata": {},
   "outputs": [
    {
     "data": {
      "text/plain": [
       "in     0.794692\n",
       "out    0.205308\n",
       "Name: Target, dtype: float64"
      ]
     },
     "execution_count": 61,
     "metadata": {},
     "output_type": "execute_result"
    }
   ],
   "source": [
    "d0_train.Target.value_counts(normalize=True)"
   ]
  },
  {
   "cell_type": "code",
   "execution_count": 62,
   "id": "7459ae41-071a-4703-8cf0-92bb4340e33a",
   "metadata": {},
   "outputs": [
    {
     "data": {
      "text/html": [
       "<div>\n",
       "<style scoped>\n",
       "    .dataframe tbody tr th:only-of-type {\n",
       "        vertical-align: middle;\n",
       "    }\n",
       "\n",
       "    .dataframe tbody tr th {\n",
       "        vertical-align: top;\n",
       "    }\n",
       "\n",
       "    .dataframe thead th {\n",
       "        text-align: right;\n",
       "    }\n",
       "</style>\n",
       "<table border=\"1\" class=\"dataframe\">\n",
       "  <thead>\n",
       "    <tr style=\"text-align: right;\">\n",
       "      <th></th>\n",
       "      <th>0</th>\n",
       "      <th>1</th>\n",
       "    </tr>\n",
       "  </thead>\n",
       "  <tbody>\n",
       "    <tr>\n",
       "      <th>count</th>\n",
       "      <td>5577.000000</td>\n",
       "      <td>5577.000000</td>\n",
       "    </tr>\n",
       "    <tr>\n",
       "      <th>mean</th>\n",
       "      <td>0.526977</td>\n",
       "      <td>0.473023</td>\n",
       "    </tr>\n",
       "    <tr>\n",
       "      <th>std</th>\n",
       "      <td>0.016595</td>\n",
       "      <td>0.016595</td>\n",
       "    </tr>\n",
       "    <tr>\n",
       "      <th>min</th>\n",
       "      <td>0.490788</td>\n",
       "      <td>0.392056</td>\n",
       "    </tr>\n",
       "    <tr>\n",
       "      <th>25%</th>\n",
       "      <td>0.513697</td>\n",
       "      <td>0.460729</td>\n",
       "    </tr>\n",
       "    <tr>\n",
       "      <th>50%</th>\n",
       "      <td>0.524363</td>\n",
       "      <td>0.475637</td>\n",
       "    </tr>\n",
       "    <tr>\n",
       "      <th>75%</th>\n",
       "      <td>0.539271</td>\n",
       "      <td>0.486303</td>\n",
       "    </tr>\n",
       "    <tr>\n",
       "      <th>max</th>\n",
       "      <td>0.607944</td>\n",
       "      <td>0.509212</td>\n",
       "    </tr>\n",
       "  </tbody>\n",
       "</table>\n",
       "</div>"
      ],
      "text/plain": [
       "                 0            1\n",
       "count  5577.000000  5577.000000\n",
       "mean      0.526977     0.473023\n",
       "std       0.016595     0.016595\n",
       "min       0.490788     0.392056\n",
       "25%       0.513697     0.460729\n",
       "50%       0.524363     0.475637\n",
       "75%       0.539271     0.486303\n",
       "max       0.607944     0.509212"
      ]
     },
     "execution_count": 62,
     "metadata": {},
     "output_type": "execute_result"
    }
   ],
   "source": [
    "d0_train.describe()"
   ]
  },
  {
   "cell_type": "markdown",
   "id": "51fc99e3-63a9-4dc6-bff8-fd0f0eff6cc9",
   "metadata": {},
   "source": [
    "Trainset for the attack model trained to recognise the label 1"
   ]
  },
  {
   "cell_type": "code",
   "execution_count": 63,
   "id": "c3e0d8b3-07f0-43b0-b8d6-249863a9907f",
   "metadata": {},
   "outputs": [
    {
     "data": {
      "text/plain": [
       "0         1         Target\n",
       "0.442306  0.557694  in        4\n",
       "0.472749  0.527251  in        4\n",
       "0.424472  0.575528  in        4\n",
       "0.404176  0.595824  in        3\n",
       "0.415371  0.584629  in        3\n",
       "                             ..\n",
       "0.474162  0.525838  in        1\n",
       "0.474164  0.525836  in        1\n",
       "0.474171  0.525829  in        1\n",
       "0.474189  0.525811  in        1\n",
       "0.539220  0.460780  out       1\n",
       "Length: 4486, dtype: int64"
      ]
     },
     "execution_count": 63,
     "metadata": {},
     "output_type": "execute_result"
    }
   ],
   "source": [
    "d1_train = pd.DataFrame(data_1['x_train'])\n",
    "d1_train['Target'] = data_1['y_train']\n",
    "d1_train.value_counts()"
   ]
  },
  {
   "cell_type": "markdown",
   "id": "2ed41ff8-0f81-4f8a-b305-b1c1fba8fcb8",
   "metadata": {},
   "source": [
    "The out class is not represented enough"
   ]
  },
  {
   "cell_type": "code",
   "execution_count": 64,
   "id": "73b4c396-02d6-47e5-95ac-b37d55e2d3d2",
   "metadata": {},
   "outputs": [
    {
     "data": {
      "text/plain": [
       "in     0.937949\n",
       "out    0.062051\n",
       "Name: Target, dtype: float64"
      ]
     },
     "execution_count": 64,
     "metadata": {},
     "output_type": "execute_result"
    }
   ],
   "source": [
    "d1_train.Target.value_counts(normalize=True)"
   ]
  },
  {
   "cell_type": "code",
   "execution_count": 65,
   "id": "3cfc8a9f-db09-403b-bea6-7c27fb72d9b2",
   "metadata": {},
   "outputs": [
    {
     "data": {
      "text/html": [
       "<div>\n",
       "<style scoped>\n",
       "    .dataframe tbody tr th:only-of-type {\n",
       "        vertical-align: middle;\n",
       "    }\n",
       "\n",
       "    .dataframe tbody tr th {\n",
       "        vertical-align: top;\n",
       "    }\n",
       "\n",
       "    .dataframe thead th {\n",
       "        text-align: right;\n",
       "    }\n",
       "</style>\n",
       "<table border=\"1\" class=\"dataframe\">\n",
       "  <thead>\n",
       "    <tr style=\"text-align: right;\">\n",
       "      <th></th>\n",
       "      <th>0</th>\n",
       "      <th>1</th>\n",
       "    </tr>\n",
       "  </thead>\n",
       "  <tbody>\n",
       "    <tr>\n",
       "      <th>count</th>\n",
       "      <td>4738.000000</td>\n",
       "      <td>4738.000000</td>\n",
       "    </tr>\n",
       "    <tr>\n",
       "      <th>mean</th>\n",
       "      <td>0.473348</td>\n",
       "      <td>0.526652</td>\n",
       "    </tr>\n",
       "    <tr>\n",
       "      <th>std</th>\n",
       "      <td>0.022813</td>\n",
       "      <td>0.022813</td>\n",
       "    </tr>\n",
       "    <tr>\n",
       "      <th>min</th>\n",
       "      <td>0.361299</td>\n",
       "      <td>0.460780</td>\n",
       "    </tr>\n",
       "    <tr>\n",
       "      <th>25%</th>\n",
       "      <td>0.464706</td>\n",
       "      <td>0.510380</td>\n",
       "    </tr>\n",
       "    <tr>\n",
       "      <th>50%</th>\n",
       "      <td>0.481560</td>\n",
       "      <td>0.518440</td>\n",
       "    </tr>\n",
       "    <tr>\n",
       "      <th>75%</th>\n",
       "      <td>0.489620</td>\n",
       "      <td>0.535294</td>\n",
       "    </tr>\n",
       "    <tr>\n",
       "      <th>max</th>\n",
       "      <td>0.539220</td>\n",
       "      <td>0.638701</td>\n",
       "    </tr>\n",
       "  </tbody>\n",
       "</table>\n",
       "</div>"
      ],
      "text/plain": [
       "                 0            1\n",
       "count  4738.000000  4738.000000\n",
       "mean      0.473348     0.526652\n",
       "std       0.022813     0.022813\n",
       "min       0.361299     0.460780\n",
       "25%       0.464706     0.510380\n",
       "50%       0.481560     0.518440\n",
       "75%       0.489620     0.535294\n",
       "max       0.539220     0.638701"
      ]
     },
     "execution_count": 65,
     "metadata": {},
     "output_type": "execute_result"
    }
   ],
   "source": [
    "d1_train.describe()"
   ]
  },
  {
   "cell_type": "markdown",
   "id": "60c36580-2498-4971-abff-cd6d75790dd4",
   "metadata": {},
   "source": [
    "#### test"
   ]
  },
  {
   "cell_type": "markdown",
   "id": "a97a441f-51e9-4de2-9439-3ce2bfa57d2f",
   "metadata": {},
   "source": [
    "Testset for the attack model trained to recognise the label 0"
   ]
  },
  {
   "cell_type": "code",
   "execution_count": 66,
   "id": "fb41c928-6a56-4aec-9529-2f9047ddecb6",
   "metadata": {},
   "outputs": [
    {
     "data": {
      "text/plain": [
       "0         1         Target\n",
       "0.452710  0.547290  out       1\n",
       "0.534627  0.465373  in        1\n",
       "0.535055  0.464945  out       1\n",
       "0.535021  0.464979  in        1\n",
       "0.535009  0.464991  in        1\n",
       "                             ..\n",
       "0.517905  0.482095  out       1\n",
       "0.517861  0.482139  in        1\n",
       "0.517803  0.482197  out       1\n",
       "0.517767  0.482233  in        1\n",
       "0.602181  0.397819  in        1\n",
       "Length: 1859, dtype: int64"
      ]
     },
     "execution_count": 66,
     "metadata": {},
     "output_type": "execute_result"
    }
   ],
   "source": [
    "d0_test = pd.DataFrame(data_0['x_test'])\n",
    "d0_test['Target'] = data_0['y_test']\n",
    "d0_test.value_counts()"
   ]
  },
  {
   "cell_type": "code",
   "execution_count": 67,
   "id": "f0fc5474-066b-4464-8fa7-71e8c294f5e5",
   "metadata": {},
   "outputs": [
    {
     "data": {
      "text/plain": [
       "in     0.805272\n",
       "out    0.194728\n",
       "Name: Target, dtype: float64"
      ]
     },
     "execution_count": 67,
     "metadata": {},
     "output_type": "execute_result"
    }
   ],
   "source": [
    "d0_test.Target.value_counts(normalize=True)"
   ]
  },
  {
   "cell_type": "code",
   "execution_count": 68,
   "id": "6cf30333-7ca8-4a4d-ac68-30b2485720c1",
   "metadata": {},
   "outputs": [
    {
     "data": {
      "text/html": [
       "<div>\n",
       "<style scoped>\n",
       "    .dataframe tbody tr th:only-of-type {\n",
       "        vertical-align: middle;\n",
       "    }\n",
       "\n",
       "    .dataframe tbody tr th {\n",
       "        vertical-align: top;\n",
       "    }\n",
       "\n",
       "    .dataframe thead th {\n",
       "        text-align: right;\n",
       "    }\n",
       "</style>\n",
       "<table border=\"1\" class=\"dataframe\">\n",
       "  <thead>\n",
       "    <tr style=\"text-align: right;\">\n",
       "      <th></th>\n",
       "      <th>0</th>\n",
       "      <th>1</th>\n",
       "    </tr>\n",
       "  </thead>\n",
       "  <tbody>\n",
       "    <tr>\n",
       "      <th>count</th>\n",
       "      <td>1859.000000</td>\n",
       "      <td>1859.000000</td>\n",
       "    </tr>\n",
       "    <tr>\n",
       "      <th>mean</th>\n",
       "      <td>0.527644</td>\n",
       "      <td>0.472356</td>\n",
       "    </tr>\n",
       "    <tr>\n",
       "      <th>std</th>\n",
       "      <td>0.017052</td>\n",
       "      <td>0.017052</td>\n",
       "    </tr>\n",
       "    <tr>\n",
       "      <th>min</th>\n",
       "      <td>0.452710</td>\n",
       "      <td>0.397819</td>\n",
       "    </tr>\n",
       "    <tr>\n",
       "      <th>25%</th>\n",
       "      <td>0.513901</td>\n",
       "      <td>0.460158</td>\n",
       "    </tr>\n",
       "    <tr>\n",
       "      <th>50%</th>\n",
       "      <td>0.525872</td>\n",
       "      <td>0.474128</td>\n",
       "    </tr>\n",
       "    <tr>\n",
       "      <th>75%</th>\n",
       "      <td>0.539842</td>\n",
       "      <td>0.486099</td>\n",
       "    </tr>\n",
       "    <tr>\n",
       "      <th>max</th>\n",
       "      <td>0.602181</td>\n",
       "      <td>0.547290</td>\n",
       "    </tr>\n",
       "  </tbody>\n",
       "</table>\n",
       "</div>"
      ],
      "text/plain": [
       "                 0            1\n",
       "count  1859.000000  1859.000000\n",
       "mean      0.527644     0.472356\n",
       "std       0.017052     0.017052\n",
       "min       0.452710     0.397819\n",
       "25%       0.513901     0.460158\n",
       "50%       0.525872     0.474128\n",
       "75%       0.539842     0.486099\n",
       "max       0.602181     0.547290"
      ]
     },
     "execution_count": 68,
     "metadata": {},
     "output_type": "execute_result"
    }
   ],
   "source": [
    "d0_test.describe()"
   ]
  },
  {
   "cell_type": "markdown",
   "id": "ce70202f-d060-47f1-b0b4-676a39a65c6d",
   "metadata": {},
   "source": [
    "Testset for the attack model trained to recognise the label 1"
   ]
  },
  {
   "cell_type": "code",
   "execution_count": 69,
   "id": "d19542ae-676e-4e53-abf2-d34e8c1714a8",
   "metadata": {},
   "outputs": [
    {
     "data": {
      "text/plain": [
       "0         1         Target\n",
       "0.431444  0.568556  in        3\n",
       "0.494761  0.505239  in        2\n",
       "0.465780  0.534220  in        2\n",
       "0.472626  0.527374  in        2\n",
       "0.428533  0.571467  in        2\n",
       "                             ..\n",
       "0.474503  0.525497  in        1\n",
       "0.474395  0.525605  in        1\n",
       "0.474381  0.525619  in        1\n",
       "0.474367  0.525633  in        1\n",
       "0.513478  0.486522  out       1\n",
       "Length: 1551, dtype: int64"
      ]
     },
     "execution_count": 69,
     "metadata": {},
     "output_type": "execute_result"
    }
   ],
   "source": [
    "d1_test = pd.DataFrame(data_1['x_test'])\n",
    "d1_test['Target'] = data_1['y_test']\n",
    "d1_test.value_counts()"
   ]
  },
  {
   "cell_type": "markdown",
   "id": "010fff6c-27a6-4ae3-9922-68a92e0cc595",
   "metadata": {},
   "source": [
    "The out class is not represented enough"
   ]
  },
  {
   "cell_type": "code",
   "execution_count": 70,
   "id": "b666ae30-6b14-4137-b4b1-c57323ffb523",
   "metadata": {},
   "outputs": [
    {
     "data": {
      "text/plain": [
       "in     0.939873\n",
       "out    0.060127\n",
       "Name: Target, dtype: float64"
      ]
     },
     "execution_count": 70,
     "metadata": {},
     "output_type": "execute_result"
    }
   ],
   "source": [
    "d1_test.Target.value_counts(normalize=True)"
   ]
  },
  {
   "cell_type": "code",
   "execution_count": 71,
   "id": "b3bc7f9c-1adf-43a1-80bb-813680a79b14",
   "metadata": {},
   "outputs": [
    {
     "data": {
      "text/html": [
       "<div>\n",
       "<style scoped>\n",
       "    .dataframe tbody tr th:only-of-type {\n",
       "        vertical-align: middle;\n",
       "    }\n",
       "\n",
       "    .dataframe tbody tr th {\n",
       "        vertical-align: top;\n",
       "    }\n",
       "\n",
       "    .dataframe thead th {\n",
       "        text-align: right;\n",
       "    }\n",
       "</style>\n",
       "<table border=\"1\" class=\"dataframe\">\n",
       "  <thead>\n",
       "    <tr style=\"text-align: right;\">\n",
       "      <th></th>\n",
       "      <th>0</th>\n",
       "      <th>1</th>\n",
       "    </tr>\n",
       "  </thead>\n",
       "  <tbody>\n",
       "    <tr>\n",
       "      <th>count</th>\n",
       "      <td>1580.000000</td>\n",
       "      <td>1580.000000</td>\n",
       "    </tr>\n",
       "    <tr>\n",
       "      <th>mean</th>\n",
       "      <td>0.474775</td>\n",
       "      <td>0.525225</td>\n",
       "    </tr>\n",
       "    <tr>\n",
       "      <th>std</th>\n",
       "      <td>0.021819</td>\n",
       "      <td>0.021819</td>\n",
       "    </tr>\n",
       "    <tr>\n",
       "      <th>min</th>\n",
       "      <td>0.371469</td>\n",
       "      <td>0.486522</td>\n",
       "    </tr>\n",
       "    <tr>\n",
       "      <th>25%</th>\n",
       "      <td>0.467264</td>\n",
       "      <td>0.509981</td>\n",
       "    </tr>\n",
       "    <tr>\n",
       "      <th>50%</th>\n",
       "      <td>0.482592</td>\n",
       "      <td>0.517408</td>\n",
       "    </tr>\n",
       "    <tr>\n",
       "      <th>75%</th>\n",
       "      <td>0.490019</td>\n",
       "      <td>0.532736</td>\n",
       "    </tr>\n",
       "    <tr>\n",
       "      <th>max</th>\n",
       "      <td>0.513478</td>\n",
       "      <td>0.628531</td>\n",
       "    </tr>\n",
       "  </tbody>\n",
       "</table>\n",
       "</div>"
      ],
      "text/plain": [
       "                 0            1\n",
       "count  1580.000000  1580.000000\n",
       "mean      0.474775     0.525225\n",
       "std       0.021819     0.021819\n",
       "min       0.371469     0.486522\n",
       "25%       0.467264     0.509981\n",
       "50%       0.482592     0.517408\n",
       "75%       0.490019     0.532736\n",
       "max       0.513478     0.628531"
      ]
     },
     "execution_count": 71,
     "metadata": {},
     "output_type": "execute_result"
    }
   ],
   "source": [
    "d1_test.describe()"
   ]
  },
  {
   "cell_type": "code",
   "execution_count": 73,
   "id": "0d37f37b-b0f9-4582-893b-973c667f7d45",
   "metadata": {},
   "outputs": [
    {
     "data": {
      "text/html": [
       "<div>\n",
       "<style scoped>\n",
       "    .dataframe tbody tr th:only-of-type {\n",
       "        vertical-align: middle;\n",
       "    }\n",
       "\n",
       "    .dataframe tbody tr th {\n",
       "        vertical-align: top;\n",
       "    }\n",
       "\n",
       "    .dataframe thead th {\n",
       "        text-align: right;\n",
       "    }\n",
       "</style>\n",
       "<table border=\"1\" class=\"dataframe\">\n",
       "  <thead>\n",
       "    <tr style=\"text-align: right;\">\n",
       "      <th></th>\n",
       "      <th>0</th>\n",
       "      <th>1</th>\n",
       "    </tr>\n",
       "  </thead>\n",
       "  <tbody>\n",
       "    <tr>\n",
       "      <th>count</th>\n",
       "      <td>4432.000000</td>\n",
       "      <td>4432.000000</td>\n",
       "    </tr>\n",
       "    <tr>\n",
       "      <th>mean</th>\n",
       "      <td>0.527390</td>\n",
       "      <td>0.472610</td>\n",
       "    </tr>\n",
       "    <tr>\n",
       "      <th>std</th>\n",
       "      <td>0.016617</td>\n",
       "      <td>0.016617</td>\n",
       "    </tr>\n",
       "    <tr>\n",
       "      <th>min</th>\n",
       "      <td>0.500006</td>\n",
       "      <td>0.392056</td>\n",
       "    </tr>\n",
       "    <tr>\n",
       "      <th>25%</th>\n",
       "      <td>0.513962</td>\n",
       "      <td>0.460214</td>\n",
       "    </tr>\n",
       "    <tr>\n",
       "      <th>50%</th>\n",
       "      <td>0.524829</td>\n",
       "      <td>0.475171</td>\n",
       "    </tr>\n",
       "    <tr>\n",
       "      <th>75%</th>\n",
       "      <td>0.539786</td>\n",
       "      <td>0.486038</td>\n",
       "    </tr>\n",
       "    <tr>\n",
       "      <th>max</th>\n",
       "      <td>0.607944</td>\n",
       "      <td>0.499994</td>\n",
       "    </tr>\n",
       "  </tbody>\n",
       "</table>\n",
       "</div>"
      ],
      "text/plain": [
       "                 0            1\n",
       "count  4432.000000  4432.000000\n",
       "mean      0.527390     0.472610\n",
       "std       0.016617     0.016617\n",
       "min       0.500006     0.392056\n",
       "25%       0.513962     0.460214\n",
       "50%       0.524829     0.475171\n",
       "75%       0.539786     0.486038\n",
       "max       0.607944     0.499994"
      ]
     },
     "execution_count": 73,
     "metadata": {},
     "output_type": "execute_result"
    }
   ],
   "source": [
    "d0_train[d0_train['Target'] == 'in'].describe()"
   ]
  },
  {
   "cell_type": "code",
   "execution_count": null,
   "id": "a5aba9a6-23f9-470e-87c3-6be7ec2c05a5",
   "metadata": {},
   "outputs": [],
   "source": []
  }
 ],
 "metadata": {
  "kernelspec": {
   "display_name": "Python 3 (ipykernel)",
   "language": "python",
   "name": "python3"
  },
  "language_info": {
   "codemirror_mode": {
    "name": "ipython",
    "version": 3
   },
   "file_extension": ".py",
   "mimetype": "text/x-python",
   "name": "python",
   "nbconvert_exporter": "python",
   "pygments_lexer": "ipython3",
   "version": "3.9.9"
  }
 },
 "nbformat": 4,
 "nbformat_minor": 5
}
