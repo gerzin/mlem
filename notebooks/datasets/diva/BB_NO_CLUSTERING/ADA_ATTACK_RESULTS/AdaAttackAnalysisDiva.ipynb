{
 "cells": [
  {
   "cell_type": "markdown",
   "id": "ace6552e-4e27-459b-8829-4ea1df77c8eb",
   "metadata": {},
   "source": [
    "# Analysis of the attack on Diva without clustering before the construction of the blackbox\n",
    "\n",
    "For this attack I used adaboost instead of the random forests both for the shadow models and the attack models"
   ]
  },
  {
   "cell_type": "code",
   "execution_count": 1,
   "id": "9ef0ef48-86df-4863-afd3-19d72c387f79",
   "metadata": {},
   "outputs": [],
   "source": [
    "import numpy as np\n",
    "import pandas as pd\n",
    "import matplotlib.pyplot as plt\n",
    "import seaborn as sns; sns.set()\n",
    "from pathlib import Path\n",
    "import os\n",
    "import sys\n",
    "import bz2\n",
    "import pickle\n",
    "np.random.seed(10)\n",
    "# adds the visibility of the mlem module, needed to load the attack models\n",
    "sys.path.append(\"../../../../..\") \n",
    "import mlem\n",
    "from mlem.ensemble import HardVotingClassifier"
   ]
  },
  {
   "cell_type": "code",
   "execution_count": 2,
   "id": "f8b00210-c959-4a22-869d-5a08f6528fbe",
   "metadata": {},
   "outputs": [],
   "source": [
    "import warnings"
   ]
  },
  {
   "cell_type": "code",
   "execution_count": 3,
   "id": "3b06c810-bd26-4df8-b285-c39d8af58a28",
   "metadata": {},
   "outputs": [],
   "source": [
    "BLACK_BOX_PATH = '../BB_DATA/diva_rf_noclustering.bz2'"
   ]
  },
  {
   "cell_type": "code",
   "execution_count": 4,
   "id": "11a127f3-ee7f-4305-a704-6e2a6aaa8894",
   "metadata": {},
   "outputs": [],
   "source": [
    "def get_attack_mod(index:int, targets=[0,1], base_folder=None):\n",
    "    \"\"\"\n",
    "    Args:\n",
    "        index - row of the dataset on which the attack model was built\n",
    "        targets (int | List(int)) - targets for the attack model.\n",
    "    Returns:\n",
    "        List containing the attack models (or model) for that particular index\n",
    "    \"\"\"\n",
    "    if type(targets) is int:\n",
    "        targets = [targets]\n",
    "    loaded_models = []\n",
    "    for t in targets:\n",
    "        path = f\"{base_folder}/{index}/attack/{t}/model.pkl.bz2\"\n",
    "        with bz2.BZ2File(path) as f:\n",
    "            data = pickle.load(f)\n",
    "            loaded_models.append(data)\n",
    "    return loaded_models\n",
    "        \n",
    "\n",
    "def split_probs_array(arr):\n",
    "    \"\"\"\n",
    "    \n",
    "    \"\"\"\n",
    "    n_classes = len(arr[0])\n",
    "    separated = []\n",
    "    max_index_row = np.argmax(arr, axis=1)\n",
    "    for c in range(n_classes):\n",
    "        separated.append(arr[max_index_row == c])\n",
    "    return separated"
   ]
  },
  {
   "cell_type": "code",
   "execution_count": 5,
   "id": "c6437658-8aa5-40b4-af50-19903c5ad2ef",
   "metadata": {},
   "outputs": [
    {
     "data": {
      "text/html": [
       "<style>#sk-container-id-1 {color: black;background-color: white;}#sk-container-id-1 pre{padding: 0;}#sk-container-id-1 div.sk-toggleable {background-color: white;}#sk-container-id-1 label.sk-toggleable__label {cursor: pointer;display: block;width: 100%;margin-bottom: 0;padding: 0.3em;box-sizing: border-box;text-align: center;}#sk-container-id-1 label.sk-toggleable__label-arrow:before {content: \"▸\";float: left;margin-right: 0.25em;color: #696969;}#sk-container-id-1 label.sk-toggleable__label-arrow:hover:before {color: black;}#sk-container-id-1 div.sk-estimator:hover label.sk-toggleable__label-arrow:before {color: black;}#sk-container-id-1 div.sk-toggleable__content {max-height: 0;max-width: 0;overflow: hidden;text-align: left;background-color: #f0f8ff;}#sk-container-id-1 div.sk-toggleable__content pre {margin: 0.2em;color: black;border-radius: 0.25em;background-color: #f0f8ff;}#sk-container-id-1 input.sk-toggleable__control:checked~div.sk-toggleable__content {max-height: 200px;max-width: 100%;overflow: auto;}#sk-container-id-1 input.sk-toggleable__control:checked~label.sk-toggleable__label-arrow:before {content: \"▾\";}#sk-container-id-1 div.sk-estimator input.sk-toggleable__control:checked~label.sk-toggleable__label {background-color: #d4ebff;}#sk-container-id-1 div.sk-label input.sk-toggleable__control:checked~label.sk-toggleable__label {background-color: #d4ebff;}#sk-container-id-1 input.sk-hidden--visually {border: 0;clip: rect(1px 1px 1px 1px);clip: rect(1px, 1px, 1px, 1px);height: 1px;margin: -1px;overflow: hidden;padding: 0;position: absolute;width: 1px;}#sk-container-id-1 div.sk-estimator {font-family: monospace;background-color: #f0f8ff;border: 1px dotted black;border-radius: 0.25em;box-sizing: border-box;margin-bottom: 0.5em;}#sk-container-id-1 div.sk-estimator:hover {background-color: #d4ebff;}#sk-container-id-1 div.sk-parallel-item::after {content: \"\";width: 100%;border-bottom: 1px solid gray;flex-grow: 1;}#sk-container-id-1 div.sk-label:hover label.sk-toggleable__label {background-color: #d4ebff;}#sk-container-id-1 div.sk-serial::before {content: \"\";position: absolute;border-left: 1px solid gray;box-sizing: border-box;top: 0;bottom: 0;left: 50%;z-index: 0;}#sk-container-id-1 div.sk-serial {display: flex;flex-direction: column;align-items: center;background-color: white;padding-right: 0.2em;padding-left: 0.2em;position: relative;}#sk-container-id-1 div.sk-item {position: relative;z-index: 1;}#sk-container-id-1 div.sk-parallel {display: flex;align-items: stretch;justify-content: center;background-color: white;position: relative;}#sk-container-id-1 div.sk-item::before, #sk-container-id-1 div.sk-parallel-item::before {content: \"\";position: absolute;border-left: 1px solid gray;box-sizing: border-box;top: 0;bottom: 0;left: 50%;z-index: -1;}#sk-container-id-1 div.sk-parallel-item {display: flex;flex-direction: column;z-index: 1;position: relative;background-color: white;}#sk-container-id-1 div.sk-parallel-item:first-child::after {align-self: flex-end;width: 50%;}#sk-container-id-1 div.sk-parallel-item:last-child::after {align-self: flex-start;width: 50%;}#sk-container-id-1 div.sk-parallel-item:only-child::after {width: 0;}#sk-container-id-1 div.sk-dashed-wrapped {border: 1px dashed gray;margin: 0 0.4em 0.5em 0.4em;box-sizing: border-box;padding-bottom: 0.4em;background-color: white;}#sk-container-id-1 div.sk-label label {font-family: monospace;font-weight: bold;display: inline-block;line-height: 1.2em;}#sk-container-id-1 div.sk-label-container {text-align: center;}#sk-container-id-1 div.sk-container {/* jupyter's `normalize.less` sets `[hidden] { display: none; }` but bootstrap.min.css set `[hidden] { display: none !important; }` so we also need the `!important` here to be able to override the default hidden behavior on the sphinx rendered scikit-learn.org. See: https://github.com/scikit-learn/scikit-learn/issues/21755 */display: inline-block !important;position: relative;}#sk-container-id-1 div.sk-text-repr-fallback {display: none;}</style><div id=\"sk-container-id-1\" class=\"sk-top-container\"><div class=\"sk-text-repr-fallback\"><pre>RandomForestClassifier(bootstrap=False, criterion=&#x27;entropy&#x27;, max_depth=100,\n",
       "                       min_samples_leaf=10, min_samples_split=10,\n",
       "                       n_estimators=150)</pre><b>In a Jupyter environment, please rerun this cell to show the HTML representation or trust the notebook. <br />On GitHub, the HTML representation is unable to render, please try loading this page with nbviewer.org.</b></div><div class=\"sk-container\" hidden><div class=\"sk-item\"><div class=\"sk-estimator sk-toggleable\"><input class=\"sk-toggleable__control sk-hidden--visually\" id=\"sk-estimator-id-1\" type=\"checkbox\" checked><label for=\"sk-estimator-id-1\" class=\"sk-toggleable__label sk-toggleable__label-arrow\">RandomForestClassifier</label><div class=\"sk-toggleable__content\"><pre>RandomForestClassifier(bootstrap=False, criterion=&#x27;entropy&#x27;, max_depth=100,\n",
       "                       min_samples_leaf=10, min_samples_split=10,\n",
       "                       n_estimators=150)</pre></div></div></div></div></div>"
      ],
      "text/plain": [
       "RandomForestClassifier(bootstrap=False, criterion='entropy', max_depth=100,\n",
       "                       min_samples_leaf=10, min_samples_split=10,\n",
       "                       n_estimators=150)"
      ]
     },
     "execution_count": 5,
     "metadata": {},
     "output_type": "execute_result"
    }
   ],
   "source": [
    "with bz2.BZ2File(BLACK_BOX_PATH) as f:\n",
    "    black_box = pickle.load(f)\n",
    "black_box"
   ]
  },
  {
   "cell_type": "markdown",
   "id": "f4db4c21-83a1-4ca7-a537-903126271c79",
   "metadata": {},
   "source": [
    "# Attack"
   ]
  },
  {
   "cell_type": "code",
   "execution_count": 6,
   "id": "63708c3b-ef85-4816-822f-23407be68fc4",
   "metadata": {},
   "outputs": [],
   "source": [
    "from sklearn.metrics import classification_report, ConfusionMatrixDisplay"
   ]
  },
  {
   "cell_type": "code",
   "execution_count": 8,
   "id": "04c97d95-466d-49d6-9882-d74a44b6cf7f",
   "metadata": {},
   "outputs": [],
   "source": [
    "BASE_BB_DATA_PATH = \"../BB_DATA/diva_rf_noclustering_data_nsamples_{n_samples}.npz\""
   ]
  },
  {
   "cell_type": "markdown",
   "id": "a8bd7f12-c43d-49e1-8627-42054aa69b1a",
   "metadata": {},
   "source": [
    "## $5$ elements per quantile"
   ]
  },
  {
   "cell_type": "code",
   "execution_count": 9,
   "id": "e229597a-8f9d-43d4-b644-28d9750574d5",
   "metadata": {},
   "outputs": [],
   "source": [
    "BB_DATA = \"../BB_DATA/clusters_representatives_quantiles_5_40.csv\""
   ]
  },
  {
   "cell_type": "code",
   "execution_count": 10,
   "id": "9b26126a-b309-447e-97d8-62eeba9a5904",
   "metadata": {},
   "outputs": [
    {
     "name": "stdout",
     "output_type": "stream",
     "text": [
      "x_train x_test y_train y_test x_test_clustered y_test_clustered "
     ]
    }
   ],
   "source": [
    "loaded = np.load(BASE_BB_DATA_PATH.format(n_samples=5), allow_pickle=True)\n",
    "for k in loaded.keys():\n",
    "    print(k, end=\" \")\n",
    "x_train = loaded[\"x_train\"]\n",
    "x_test = loaded[\"x_test\"]\n",
    "y_train = loaded[\"y_train\"]\n",
    "y_test = loaded[\"y_test\"]\n",
    "x_test_clustered = loaded[\"x_test_clustered\"]\n",
    "y_test_clustered = loaded[\"y_test_clustered\"]"
   ]
  },
  {
   "cell_type": "code",
   "execution_count": 11,
   "id": "cd4e175c-30e0-4f8e-addd-1a2c261fc323",
   "metadata": {},
   "outputs": [
    {
     "name": "stderr",
     "output_type": "stream",
     "text": [
      "/home/gerardozinno/.pyenv/versions/ml-environment/lib/python3.9/site-packages/sklearn/base.py:329: UserWarning: Trying to unpickle estimator DecisionTreeClassifier from version 1.0.2 when using version 1.1.1. This might lead to breaking code or invalid results. Use at your own risk. For more info please refer to:\n",
      "https://scikit-learn.org/stable/model_persistence.html#security-maintainability-limitations\n",
      "  warnings.warn(\n",
      "/home/gerardozinno/.pyenv/versions/ml-environment/lib/python3.9/site-packages/sklearn/base.py:329: UserWarning: Trying to unpickle estimator AdaBoostClassifier from version 1.0.2 when using version 1.1.1. This might lead to breaking code or invalid results. Use at your own risk. For more info please refer to:\n",
      "https://scikit-learn.org/stable/model_persistence.html#security-maintainability-limitations\n",
      "  warnings.warn(\n"
     ]
    }
   ],
   "source": [
    "ATTACK_0, ATTACK_1 = [], []\n",
    "\n",
    "for index in range(len(x_test_clustered)):\n",
    "    atk0, atk1 = get_attack_mod(index, base_folder=\"/home/gerardozinno/Desktop/ExperimentsResult/ADA/DIVA/diva_results_noclust_5/gaussian/same\")\n",
    "    ATTACK_0.append(atk0)\n",
    "    ATTACK_1.append(atk1)\n",
    "assert (len(ATTACK_0) == len(ATTACK_1)) and (len(ATTACK_0) == len(x_test_clustered))\n",
    "        \n",
    "ensemble_0 = HardVotingClassifier(classifiers=ATTACK_0)\n",
    "ensemble_1 = HardVotingClassifier(classifiers=ATTACK_1)"
   ]
  },
  {
   "cell_type": "code",
   "execution_count": 12,
   "id": "d2008e78-3b93-429b-bfb2-0f2d733a0646",
   "metadata": {},
   "outputs": [],
   "source": [
    "TRAIN_PREDICTIONS = black_box.predict_proba(x_train)\n",
    "TEST_PREDICTIONS  = black_box.predict_proba(x_test)"
   ]
  },
  {
   "cell_type": "code",
   "execution_count": 13,
   "id": "914d8b2d-c5c6-4af7-8cab-9899b3537d59",
   "metadata": {},
   "outputs": [],
   "source": [
    "TRAIN_0, TRAIN_1 = split_probs_array(TRAIN_PREDICTIONS)\n",
    "TEST_0, TEST_1  = split_probs_array(TEST_PREDICTIONS)"
   ]
  },
  {
   "cell_type": "code",
   "execution_count": 14,
   "id": "1443d03e-94e2-40b4-87bc-6ecde0428617",
   "metadata": {},
   "outputs": [],
   "source": [
    "IN_0 = ensemble_0.predict(TRAIN_0)\n",
    "IN_1 = ensemble_1.predict(TRAIN_1)\n",
    "OUT_0 = ensemble_0.predict(TEST_0)\n",
    "OUT_1 = ensemble_1.predict(TEST_1)"
   ]
  },
  {
   "cell_type": "code",
   "execution_count": 15,
   "id": "66b2098d-98c6-42b4-a38b-b03dbba12ce3",
   "metadata": {},
   "outputs": [],
   "source": [
    "INS = np.concatenate([IN_0, IN_1])\n",
    "INS_LAB = np.array([\"in\"] * len(INS))\n",
    "OUTS = np.concatenate([OUT_0, OUT_1])\n",
    "OUTS_LAB = np.array([\"out\"] * len(OUTS))"
   ]
  },
  {
   "cell_type": "code",
   "execution_count": 16,
   "id": "a8c817ef-5654-4fa0-aab1-964510337917",
   "metadata": {},
   "outputs": [
    {
     "name": "stdout",
     "output_type": "stream",
     "text": [
      "even_in = 0.0\n",
      "even_out = 0.0\n"
     ]
    }
   ],
   "source": [
    "number_even_in = len([x for x in INS if x == \"even\"])\n",
    "number_even_out = len([x for x in OUTS if x == \"even\"])\n",
    "print(f\"even_in = {number_even_in/len(INS)}\")\n",
    "print(F\"even_out = {number_even_out/len(OUTS)}\")"
   ]
  },
  {
   "cell_type": "code",
   "execution_count": 17,
   "id": "b0e0b8d1-d976-4d51-bf57-20bb8b60604b",
   "metadata": {},
   "outputs": [],
   "source": [
    "INOUT = np.concatenate([INS, OUTS])\n",
    "INOUT_LAB = np.concatenate([INS_LAB, OUTS_LAB])"
   ]
  },
  {
   "cell_type": "code",
   "execution_count": 20,
   "id": "f83a458c-7867-4ee6-8667-909b75f4864a",
   "metadata": {},
   "outputs": [
    {
     "name": "stdout",
     "output_type": "stream",
     "text": [
      "              precision    recall  f1-score   support\n",
      "\n",
      "          in       0.70      1.00      0.82      6624\n",
      "         out       0.00      0.00      0.00      2839\n",
      "\n",
      "    accuracy                           0.70      9463\n",
      "   macro avg       0.35      0.50      0.41      9463\n",
      "weighted avg       0.49      0.70      0.58      9463\n",
      "\n"
     ]
    }
   ],
   "source": [
    "print(classification_report(INOUT_LAB, INOUT))"
   ]
  },
  {
   "cell_type": "code",
   "execution_count": 21,
   "id": "803c62cd-512e-4afe-946c-5e8d30468d12",
   "metadata": {},
   "outputs": [
    {
     "data": {
      "text/plain": [
       "<sklearn.metrics._plot.confusion_matrix.ConfusionMatrixDisplay at 0x7f8171414f10>"
      ]
     },
     "execution_count": 21,
     "metadata": {},
     "output_type": "execute_result"
    },
    {
     "data": {
      "image/png": "[encoded data removed]",
      "text/plain": [
       "<Figure size 432x288 with 2 Axes>"
      ]
     },
     "metadata": {},
     "output_type": "display_data"
    }
   ],
   "source": [
    "ConfusionMatrixDisplay.from_predictions(INOUT_LAB, INOUT)"
   ]
  },
  {
   "cell_type": "markdown",
   "id": "cfbdb582-3cfe-45cf-8b56-43f794634f88",
   "metadata": {},
   "source": [
    "## $7$ elements per quantile"
   ]
  },
  {
   "cell_type": "code",
   "execution_count": 22,
   "id": "4b13b69c-ccd5-4074-a3d6-8f276fdbd5d3",
   "metadata": {},
   "outputs": [],
   "source": [
    "BB_DATA = \"../BB_DATA/clusters_representatives_quantiles_7_56.csv\""
   ]
  },
  {
   "cell_type": "code",
   "execution_count": 23,
   "id": "c88bc3c3-2443-4486-ad8c-502f6fd4ad34",
   "metadata": {},
   "outputs": [
    {
     "name": "stdout",
     "output_type": "stream",
     "text": [
      "x_train x_test y_train y_test x_test_clustered y_test_clustered "
     ]
    }
   ],
   "source": [
    "loaded = np.load(BASE_BB_DATA_PATH.format(n_samples=7), allow_pickle=True)\n",
    "for k in loaded.keys():\n",
    "    print(k, end=\" \")\n",
    "x_train = loaded[\"x_train\"]\n",
    "x_test = loaded[\"x_test\"]\n",
    "y_train = loaded[\"y_train\"]\n",
    "y_test = loaded[\"y_test\"]\n",
    "x_test_clustered = loaded[\"x_test_clustered\"]\n",
    "y_test_clustered = loaded[\"y_test_clustered\"]"
   ]
  },
  {
   "cell_type": "code",
   "execution_count": 24,
   "id": "e49f54d6-90b3-4c70-9101-31b9de272448",
   "metadata": {},
   "outputs": [
    {
     "name": "stderr",
     "output_type": "stream",
     "text": [
      "/home/gerardozinno/.pyenv/versions/ml-environment/lib/python3.9/site-packages/sklearn/base.py:329: UserWarning: Trying to unpickle estimator DecisionTreeClassifier from version 1.0.2 when using version 1.1.1. This might lead to breaking code or invalid results. Use at your own risk. For more info please refer to:\n",
      "https://scikit-learn.org/stable/model_persistence.html#security-maintainability-limitations\n",
      "  warnings.warn(\n",
      "/home/gerardozinno/.pyenv/versions/ml-environment/lib/python3.9/site-packages/sklearn/base.py:329: UserWarning: Trying to unpickle estimator AdaBoostClassifier from version 1.0.2 when using version 1.1.1. This might lead to breaking code or invalid results. Use at your own risk. For more info please refer to:\n",
      "https://scikit-learn.org/stable/model_persistence.html#security-maintainability-limitations\n",
      "  warnings.warn(\n"
     ]
    }
   ],
   "source": [
    "ATTACK_0, ATTACK_1 = [], []\n",
    "\n",
    "for index in range(len(x_test_clustered)):\n",
    "    atk0, atk1 = get_attack_mod(index, base_folder=\"/home/gerardozinno/Desktop/ExperimentsResult/ADA/DIVA/diva_results_noclust_7/gaussian/same\")\n",
    "    ATTACK_0.append(atk0)\n",
    "    ATTACK_1.append(atk1)\n",
    "assert (len(ATTACK_0) == len(ATTACK_1)) and (len(ATTACK_0) == len(x_test_clustered))\n",
    "        \n",
    "ensemble_0 = HardVotingClassifier(classifiers=ATTACK_0)\n",
    "ensemble_1 = HardVotingClassifier(classifiers=ATTACK_1)"
   ]
  },
  {
   "cell_type": "code",
   "execution_count": 25,
   "id": "e3a74907-a13c-4da2-8d11-8c32071a310a",
   "metadata": {},
   "outputs": [],
   "source": [
    "TRAIN_PREDICTIONS = black_box.predict_proba(x_train)\n",
    "TEST_PREDICTIONS  = black_box.predict_proba(x_test)"
   ]
  },
  {
   "cell_type": "code",
   "execution_count": 26,
   "id": "612cace7-b203-4564-98a9-e62062c0ae7c",
   "metadata": {},
   "outputs": [],
   "source": [
    "TRAIN_0, TRAIN_1 = split_probs_array(TRAIN_PREDICTIONS)\n",
    "TEST_0, TEST_1  = split_probs_array(TEST_PREDICTIONS)"
   ]
  },
  {
   "cell_type": "code",
   "execution_count": 27,
   "id": "84d737cc-1a5b-4756-be60-38c90829f6ce",
   "metadata": {},
   "outputs": [],
   "source": [
    "IN_0 = ensemble_0.predict(TRAIN_0)\n",
    "IN_1 = ensemble_1.predict(TRAIN_1)\n",
    "OUT_0 = ensemble_0.predict(TEST_0)\n",
    "OUT_1 = ensemble_1.predict(TEST_1)"
   ]
  },
  {
   "cell_type": "code",
   "execution_count": 28,
   "id": "e5e033bf-3079-4c92-8cb5-cce21e02e492",
   "metadata": {},
   "outputs": [],
   "source": [
    "INS = np.concatenate([IN_0, IN_1])\n",
    "INS_LAB = np.array([\"in\"] * len(INS))\n",
    "OUTS = np.concatenate([OUT_0, OUT_1])\n",
    "OUTS_LAB = np.array([\"out\"] * len(OUTS))"
   ]
  },
  {
   "cell_type": "code",
   "execution_count": 29,
   "id": "ba7dd29e-b829-4303-8a11-35dd8abe844b",
   "metadata": {},
   "outputs": [
    {
     "name": "stdout",
     "output_type": "stream",
     "text": [
      "even_in = 0.0\n",
      "even_out = 0.0\n"
     ]
    }
   ],
   "source": [
    "number_even_in = len([x for x in INS if x == \"even\"])\n",
    "number_even_out = len([x for x in OUTS if x == \"even\"])\n",
    "print(f\"even_in = {number_even_in/len(INS)}\")\n",
    "print(F\"even_out = {number_even_out/len(OUTS)}\")"
   ]
  },
  {
   "cell_type": "code",
   "execution_count": 30,
   "id": "5a68b896-d071-4c51-b106-afa58b46d7cb",
   "metadata": {},
   "outputs": [],
   "source": [
    "INOUT = np.concatenate([INS, OUTS])\n",
    "EVEN_MASK = INOUT != \"even\" # to mask away the even values\n",
    "INOUT_LAB = np.concatenate([INS_LAB, OUTS_LAB])"
   ]
  },
  {
   "cell_type": "code",
   "execution_count": 31,
   "id": "83b614e7-74ee-4a68-84c0-e1595e5a4580",
   "metadata": {},
   "outputs": [
    {
     "name": "stdout",
     "output_type": "stream",
     "text": [
      "              precision    recall  f1-score   support\n",
      "\n",
      "          in       0.70      1.00      0.82      6624\n",
      "         out       0.00      0.00      0.00      2839\n",
      "\n",
      "    accuracy                           0.70      9463\n",
      "   macro avg       0.35      0.50      0.41      9463\n",
      "weighted avg       0.49      0.70      0.58      9463\n",
      "\n"
     ]
    }
   ],
   "source": [
    "print(classification_report(INOUT_LAB[EVEN_MASK], INOUT[EVEN_MASK]))"
   ]
  },
  {
   "cell_type": "code",
   "execution_count": 32,
   "id": "43b979b2-cc57-45d3-9279-3ac9dc89b58c",
   "metadata": {},
   "outputs": [
    {
     "data": {
      "text/plain": [
       "<sklearn.metrics._plot.confusion_matrix.ConfusionMatrixDisplay at 0x7f81fc49b6d0>"
      ]
     },
     "execution_count": 32,
     "metadata": {},
     "output_type": "execute_result"
    },
    {
     "data": {
      "image/png": "[encoded data removed]",
      "text/plain": [
       "<Figure size 432x288 with 2 Axes>"
      ]
     },
     "metadata": {},
     "output_type": "display_data"
    }
   ],
   "source": [
    "ConfusionMatrixDisplay.from_predictions(INOUT_LAB[EVEN_MASK], INOUT[EVEN_MASK])"
   ]
  },
  {
   "cell_type": "markdown",
   "id": "2b2ae57a-cf06-4449-8579-a91e4dc9a904",
   "metadata": {},
   "source": [
    "## $9$ elements per quantile"
   ]
  },
  {
   "cell_type": "code",
   "execution_count": 33,
   "id": "06ac16c9-666c-491a-9790-8906d1982209",
   "metadata": {},
   "outputs": [],
   "source": [
    "BB_DATA = \"../BB_DATA/clusters_representatives_quantiles_9_72.csv\""
   ]
  },
  {
   "cell_type": "code",
   "execution_count": 34,
   "id": "69fc539c-cffd-4fb4-a3c9-7c0998fa62e2",
   "metadata": {},
   "outputs": [
    {
     "name": "stdout",
     "output_type": "stream",
     "text": [
      "x_train x_test y_train y_test x_test_clustered y_test_clustered "
     ]
    }
   ],
   "source": [
    "loaded = np.load(BASE_BB_DATA_PATH.format(n_samples=9), allow_pickle=True)\n",
    "for k in loaded.keys():\n",
    "    print(k, end=\" \")\n",
    "x_train = loaded[\"x_train\"]\n",
    "x_test = loaded[\"x_test\"]\n",
    "y_train = loaded[\"y_train\"]\n",
    "y_test = loaded[\"y_test\"]\n",
    "x_test_clustered = loaded[\"x_test_clustered\"]\n",
    "y_test_clustered = loaded[\"y_test_clustered\"]"
   ]
  },
  {
   "cell_type": "code",
   "execution_count": 35,
   "id": "c05075ea-9e68-4537-9327-7b09677abde3",
   "metadata": {},
   "outputs": [],
   "source": [
    "ATTACK_0, ATTACK_1 = [], []\n",
    "\n",
    "for index in range(len(x_test_clustered)):\n",
    "    atk0, atk1 = get_attack_mod(index, base_folder=\"/home/gerardozinno/Desktop/ExperimentsResult/ADA/DIVA/diva_results_noclust_ada_9/gaussian/same\")\n",
    "    ATTACK_0.append(atk0)\n",
    "    ATTACK_1.append(atk1)\n",
    "assert (len(ATTACK_0) == len(ATTACK_1)) and (len(ATTACK_0) == len(x_test_clustered))\n",
    "        \n",
    "ensemble_0 = HardVotingClassifier(classifiers=ATTACK_0)\n",
    "ensemble_1 = HardVotingClassifier(classifiers=ATTACK_1)"
   ]
  },
  {
   "cell_type": "code",
   "execution_count": 36,
   "id": "35491080-755c-409a-9dad-791a0f095e58",
   "metadata": {},
   "outputs": [],
   "source": [
    "TRAIN_PREDICTIONS = black_box.predict_proba(x_train)\n",
    "TEST_PREDICTIONS  = black_box.predict_proba(x_test)"
   ]
  },
  {
   "cell_type": "code",
   "execution_count": 37,
   "id": "87a1fe0e-c082-4d05-9cca-572cf42b7ab6",
   "metadata": {},
   "outputs": [],
   "source": [
    "TRAIN_0, TRAIN_1 = split_probs_array(TRAIN_PREDICTIONS)\n",
    "TEST_0, TEST_1  = split_probs_array(TEST_PREDICTIONS)"
   ]
  },
  {
   "cell_type": "code",
   "execution_count": 38,
   "id": "651b8fa5-4efe-4692-a4c2-2f748b74dbef",
   "metadata": {},
   "outputs": [],
   "source": [
    "IN_0 = ensemble_0.predict(TRAIN_0)\n",
    "IN_1 = ensemble_1.predict(TRAIN_1)\n",
    "OUT_0 = ensemble_0.predict(TEST_0)\n",
    "OUT_1 = ensemble_1.predict(TEST_1)"
   ]
  },
  {
   "cell_type": "code",
   "execution_count": 39,
   "id": "70c25b98-f3c8-4409-87f0-54c7ad56cad7",
   "metadata": {},
   "outputs": [],
   "source": [
    "INS = np.concatenate([IN_0, IN_1])\n",
    "INS_LAB = np.array([\"in\"] * len(INS))\n",
    "OUTS = np.concatenate([OUT_0, OUT_1])\n",
    "OUTS_LAB = np.array([\"out\"] * len(OUTS))"
   ]
  },
  {
   "cell_type": "code",
   "execution_count": 40,
   "id": "a3c30979-804d-49ad-aac0-7f489a129ffe",
   "metadata": {},
   "outputs": [
    {
     "name": "stdout",
     "output_type": "stream",
     "text": [
      "even_in = 0.00015096618357487922\n",
      "even_out = 0.0\n"
     ]
    }
   ],
   "source": [
    "number_even_in = len([x for x in INS if x == \"even\"])\n",
    "number_even_out = len([x for x in OUTS if x == \"even\"])\n",
    "print(f\"even_in = {number_even_in/len(INS)}\")\n",
    "print(F\"even_out = {number_even_out/len(OUTS)}\")"
   ]
  },
  {
   "cell_type": "code",
   "execution_count": 41,
   "id": "3a277d69-730b-4a33-b41a-7e9288fd9089",
   "metadata": {},
   "outputs": [],
   "source": [
    "INOUT = np.concatenate([INS, OUTS])\n",
    "EVEN_MASK = INOUT != \"even\" # to mask away the even values\n",
    "INOUT_LAB = np.concatenate([INS_LAB, OUTS_LAB])"
   ]
  },
  {
   "cell_type": "code",
   "execution_count": 42,
   "id": "26f26c01-bada-450f-b608-3564f3e2d658",
   "metadata": {},
   "outputs": [
    {
     "name": "stdout",
     "output_type": "stream",
     "text": [
      "              precision    recall  f1-score   support\n",
      "\n",
      "          in       0.70      1.00      0.82      6623\n",
      "         out       0.00      0.00      0.00      2839\n",
      "\n",
      "    accuracy                           0.70      9462\n",
      "   macro avg       0.35      0.50      0.41      9462\n",
      "weighted avg       0.49      0.70      0.58      9462\n",
      "\n"
     ]
    }
   ],
   "source": [
    "print(classification_report(INOUT_LAB[EVEN_MASK], INOUT[EVEN_MASK]))"
   ]
  },
  {
   "cell_type": "code",
   "execution_count": 43,
   "id": "b164bf02-051a-4e00-9755-625b843b6b92",
   "metadata": {},
   "outputs": [
    {
     "data": {
      "text/plain": [
       "<sklearn.metrics._plot.confusion_matrix.ConfusionMatrixDisplay at 0x7f8174e25a60>"
      ]
     },
     "execution_count": 43,
     "metadata": {},
     "output_type": "execute_result"
    },
    {
     "data": {
      "image/png": "[encoded data removed]",
      "text/plain": [
       "<Figure size 432x288 with 2 Axes>"
      ]
     },
     "metadata": {},
     "output_type": "display_data"
    }
   ],
   "source": [
    "ConfusionMatrixDisplay.from_predictions(INOUT_LAB[EVEN_MASK], INOUT[EVEN_MASK])"
   ]
  },
  {
   "cell_type": "code",
   "execution_count": null,
   "id": "fec9b532-909c-4a0a-8b41-ba4111ed4b07",
   "metadata": {},
   "outputs": [],
   "source": []
  }
 ],
 "metadata": {
  "kernelspec": {
   "display_name": "Python 3 (ipykernel)",
   "language": "python",
   "name": "python3"
  },
  "language_info": {
   "codemirror_mode": {
    "name": "ipython",
    "version": 3
   },
   "file_extension": ".py",
   "mimetype": "text/x-python",
   "name": "python",
   "nbconvert_exporter": "python",
   "pygments_lexer": "ipython3",
   "version": "3.9.9"
  }
 },
 "nbformat": 4,
 "nbformat_minor": 5
}
