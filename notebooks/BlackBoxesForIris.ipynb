{
 "cells": [
  {
   "cell_type": "code",
   "execution_count": 1,
   "id": "8f5d0c69-f869-48dd-be4b-a4dcbf59a75a",
   "metadata": {
    "tags": []
   },
   "outputs": [],
   "source": [
    "import sys\n",
    "import os\n",
    "from pathlib import Path\n",
    "import pandas as pd\n",
    "from sklearn.model_selection import train_test_split"
   ]
  },
  {
   "cell_type": "code",
   "execution_count": 2,
   "id": "6ad14304-6d90-4361-ae4c-7d9dfe7c76ce",
   "metadata": {},
   "outputs": [
    {
     "name": "stdout",
     "output_type": "stream",
     "text": [
      "ADDED: /home/gerardozinno/Desktop/Tesi/Code/mlem\n"
     ]
    }
   ],
   "source": [
    "# ADD OTHER FOLDERS TO THIS LIST TO ADD THEM TO THE sys.path\n",
    "modules_to_add = [\"\"]\n",
    "\n",
    "this_file = os.path.abspath('')\n",
    "\n",
    "for module in modules_to_add:\n",
    "    p = Path(this_file).parent / module \n",
    "    if p.exists():\n",
    "        sys.path.append(str(p))\n",
    "        print(f\"ADDED: {p}\")\n",
    "    else:\n",
    "        print(f\"ERROR: {p} doesn't exist\")"
   ]
  },
  {
   "cell_type": "code",
   "execution_count": 3,
   "id": "47f917ba-b67e-439c-a722-912d898a35f5",
   "metadata": {},
   "outputs": [
    {
     "name": "stdout",
     "output_type": "stream",
     "text": [
      "['/home/gerardozinno/Desktop/Tesi/Code/mlem/notebooks', '/home/gerardozinno/.pyenv/versions/3.9.9/lib/python39.zip', '/home/gerardozinno/.pyenv/versions/3.9.9/lib/python3.9', '/home/gerardozinno/.pyenv/versions/3.9.9/lib/python3.9/lib-dynload', '', '/home/gerardozinno/.pyenv/versions/3.9.9/envs/ml-environment/lib/python3.9/site-packages', '/home/gerardozinno/.pyenv/versions/3.9.9/envs/ml-environment/lib/python3.9/site-packages/IPython/extensions', '/home/gerardozinno/.ipython', '/home/gerardozinno/Desktop/Tesi/Code/mlem']\n"
     ]
    }
   ],
   "source": [
    "print(sys.path)"
   ]
  },
  {
   "cell_type": "code",
   "execution_count": 4,
   "id": "c67cf327-c950-4e8f-adb2-50318bc4c277",
   "metadata": {},
   "outputs": [],
   "source": [
    "from sklearn.datasets import load_iris"
   ]
  },
  {
   "cell_type": "code",
   "execution_count": 5,
   "id": "c5d1180a-43fc-4f8b-9389-f950d17902b9",
   "metadata": {},
   "outputs": [],
   "source": [
    "data, target = load_iris(return_X_y=True, as_frame=True)"
   ]
  },
  {
   "cell_type": "code",
   "execution_count": 6,
   "id": "d86abd25-0817-4d3b-b056-81bc7be9b940",
   "metadata": {},
   "outputs": [],
   "source": [
    "from sklearn.preprocessing import StandardScaler\n",
    "scaler = StandardScaler()\n",
    "data_scaled = scaler.fit_transform(data)"
   ]
  },
  {
   "cell_type": "markdown",
   "id": "1d515953-353a-47d3-996c-250f426eae67",
   "metadata": {},
   "source": [
    "## Fitting a model"
   ]
  },
  {
   "cell_type": "code",
   "execution_count": 7,
   "id": "704ae30d-c61d-4697-9d27-acfe77bb67a4",
   "metadata": {},
   "outputs": [],
   "source": [
    "import torch\n",
    "import numpy as np\n",
    "import torch.nn.functional as F\n",
    "from torch.utils.data import Dataset, DataLoader\n",
    "import torch.nn as nn"
   ]
  },
  {
   "cell_type": "code",
   "execution_count": 8,
   "id": "1c5adab2-d551-4f7b-b914-3e3993b693e6",
   "metadata": {},
   "outputs": [],
   "source": [
    "X_train, X_test, y_train, y_test = train_test_split(data_scaled, target.to_numpy(), test_size=0.2, random_state=123)"
   ]
  },
  {
   "cell_type": "code",
   "execution_count": 9,
   "id": "13e3243f-d7d4-49b2-a643-cc43ff9425a1",
   "metadata": {},
   "outputs": [],
   "source": [
    "class IrisScaledDataset(Dataset):\n",
    "    def __init__(self, features, target):\n",
    "        assert(len(features) == len(target))\n",
    "        self.feat = features.astype(np.float32)\n",
    "        self.targ = target\n",
    "    def __len__(self):\n",
    "        return len(self.feat)\n",
    "    \n",
    "    def __getitem__(self, idx):\n",
    "        f = self.feat[idx]\n",
    "        t = self.targ[idx]\n",
    "        return f,t"
   ]
  },
  {
   "cell_type": "code",
   "execution_count": 10,
   "id": "165f6a10-5fc9-4fde-9b3d-092ae651e19b",
   "metadata": {},
   "outputs": [],
   "source": [
    "train_data = IrisScaledDataset(X_train, y_train)\n",
    "test_data = IrisScaledDataset(X_test, y_test)\n",
    "\n",
    "train_dataloader = DataLoader(train_data, batch_size=16)\n",
    "test_dataloader = DataLoader(test_data, batch_size=16)"
   ]
  },
  {
   "cell_type": "code",
   "execution_count": 11,
   "id": "0e1fe73e-d1d5-4005-8a3c-3ea29ea09f07",
   "metadata": {},
   "outputs": [
    {
     "name": "stdout",
     "output_type": "stream",
     "text": [
      "cuda\n"
     ]
    }
   ],
   "source": [
    "device = torch.device(\"cuda\" if torch.cuda.is_available() else \"cpu\")\n",
    "print(device)"
   ]
  },
  {
   "cell_type": "code",
   "execution_count": 12,
   "id": "bf4122e5-4fb4-4824-85a5-208fea00a207",
   "metadata": {},
   "outputs": [
    {
     "data": {
      "text/plain": [
       "Model(\n",
       "  (layer1): Linear(in_features=4, out_features=50, bias=True)\n",
       "  (layer2): Linear(in_features=50, out_features=50, bias=True)\n",
       "  (layer3): Linear(in_features=50, out_features=3, bias=True)\n",
       ")"
      ]
     },
     "execution_count": 12,
     "metadata": {},
     "output_type": "execute_result"
    }
   ],
   "source": [
    "class Model(nn.Module):\n",
    "    def __init__(self, input_dim):\n",
    "        super(Model, self).__init__()\n",
    "        self.layer1 = nn.Linear(input_dim, 50)\n",
    "        self.layer2 = nn.Linear(50, 50)\n",
    "        self.layer3 = nn.Linear(50, 3)\n",
    "        \n",
    "    def forward(self, x):\n",
    "        x = F.relu(self.layer1(x))\n",
    "        x = F.relu(self.layer2(x))\n",
    "        x = F.softmax(self.layer3(x), dim=1)\n",
    "        return x\n",
    "    \n",
    "model     = Model(X_train.shape[1])\n",
    "model.to(device)\n",
    "optimizer = torch.optim.Adam(model.parameters(), lr=0.001)\n",
    "loss_fn   = nn.CrossEntropyLoss()\n",
    "model"
   ]
  },
  {
   "cell_type": "code",
   "execution_count": 13,
   "id": "3723cd0c-70e3-4c3e-bf3f-d69849afb5f8",
   "metadata": {},
   "outputs": [],
   "source": [
    "from blackboxes.pytorch.utilities import train"
   ]
  },
  {
   "cell_type": "code",
   "execution_count": 14,
   "id": "260d0b21-35a5-4408-b72e-abc244ed920d",
   "metadata": {},
   "outputs": [
    {
     "name": "stdout",
     "output_type": "stream",
     "text": [
      "Epoch: 0, Training Loss: 1.10, Test Loss: 1.066543, accuracy = 0.67\n",
      "Epoch: 1, Training Loss: 1.07, Test Loss: 1.024893, accuracy = 0.77\n",
      "Epoch: 2, Training Loss: 1.03, Test Loss: 0.974698, accuracy = 0.83\n",
      "Epoch: 3, Training Loss: 0.99, Test Loss: 0.911596, accuracy = 0.83\n",
      "Epoch: 4, Training Loss: 0.94, Test Loss: 0.844105, accuracy = 0.90\n",
      "Epoch: 5, Training Loss: 0.89, Test Loss: 0.785849, accuracy = 0.90\n",
      "Epoch: 6, Training Loss: 0.85, Test Loss: 0.745307, accuracy = 0.90\n",
      "Epoch: 7, Training Loss: 0.82, Test Loss: 0.720292, accuracy = 0.90\n",
      "Epoch: 8, Training Loss: 0.80, Test Loss: 0.704561, accuracy = 0.90\n",
      "Epoch: 9, Training Loss: 0.78, Test Loss: 0.693885, accuracy = 0.93\n",
      "Epoch: 10, Training Loss: 0.76, Test Loss: 0.685195, accuracy = 0.93\n",
      "Epoch: 11, Training Loss: 0.74, Test Loss: 0.676212, accuracy = 0.97\n",
      "Epoch: 12, Training Loss: 0.73, Test Loss: 0.666375, accuracy = 1.00\n",
      "Epoch: 13, Training Loss: 0.71, Test Loss: 0.656841, accuracy = 1.00\n",
      "Epoch: 14, Training Loss: 0.70, Test Loss: 0.648516, accuracy = 1.00\n",
      "Epoch: 15, Training Loss: 0.68, Test Loss: 0.641154, accuracy = 1.00\n",
      "Epoch: 16, Training Loss: 0.67, Test Loss: 0.634496, accuracy = 0.97\n",
      "Epoch: 17, Training Loss: 0.66, Test Loss: 0.628553, accuracy = 0.97\n",
      "Epoch: 18, Training Loss: 0.65, Test Loss: 0.623361, accuracy = 0.97\n",
      "Epoch: 19, Training Loss: 0.64, Test Loss: 0.619054, accuracy = 0.97\n"
     ]
    }
   ],
   "source": [
    "train(model, optimizer, loss_fn,train_dataloader, test_dataloader, epochs=20, device=device)"
   ]
  },
  {
   "cell_type": "code",
   "execution_count": 16,
   "id": "ff929d28-cc90-45fe-b49a-63c26966813a",
   "metadata": {},
   "outputs": [],
   "source": [
    "from mlem.black_box import PyTorchBlackBox\n",
    "\n",
    "bb = PyTorchBlackBox(model)"
   ]
  },
  {
   "cell_type": "code",
   "execution_count": 21,
   "id": "2d346ff6-1367-4acb-bdc2-4e888feb0efe",
   "metadata": {},
   "outputs": [
    {
     "data": {
      "text/plain": [
       "array([ True,  True,  True,  True,  True,  True,  True,  True,  True,\n",
       "        True,  True,  True,  True,  True,  True,  True,  True,  True,\n",
       "        True,  True])"
      ]
     },
     "execution_count": 21,
     "metadata": {},
     "output_type": "execute_result"
    }
   ],
   "source": [
    "bb.predict(X_test[:20]) == y_test[:20]"
   ]
  },
  {
   "cell_type": "code",
   "execution_count": 22,
   "id": "3677235d-cb48-440a-9181-593407e0f416",
   "metadata": {},
   "outputs": [
    {
     "data": {
      "text/plain": [
       "array([[2.1957760e-03, 5.0833678e-01, 4.8946741e-01],\n",
       "       [1.2547681e-04, 2.7490411e-02, 9.7238410e-01],\n",
       "       [6.3781699e-05, 1.4141833e-02, 9.8579431e-01],\n",
       "       [6.9175966e-02, 8.7685829e-01, 5.3965751e-02]], dtype=float32)"
      ]
     },
     "execution_count": 22,
     "metadata": {},
     "output_type": "execute_result"
    }
   ],
   "source": [
    "bb.predict_proba(X_test[:4])"
   ]
  },
  {
   "cell_type": "code",
   "execution_count": 15,
   "id": "a524b75e-96ee-4927-b6d2-00915f075100",
   "metadata": {},
   "outputs": [],
   "source": [
    "ROOT = Path(\"../pretrained/\")\n",
    "MODEL_NAME      = \"iris_pytorch.tar\"\n",
    "SAVE_PATH = ROOT / MODEL_NAME"
   ]
  }
 ],
 "metadata": {
  "kernelspec": {
   "display_name": "Python 3 (ipykernel)",
   "language": "python",
   "name": "python3"
  },
  "language_info": {
   "codemirror_mode": {
    "name": "ipython",
    "version": 3
   },
   "file_extension": ".py",
   "mimetype": "text/x-python",
   "name": "python",
   "nbconvert_exporter": "python",
   "pygments_lexer": "ipython3",
   "version": "3.9.9"
  }
 },
 "nbformat": 4,
 "nbformat_minor": 5
}
