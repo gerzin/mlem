{
 "cells": [
  {
   "cell_type": "markdown",
   "id": "dcd9b7b4-74f1-40b2-8078-e0f60d9c4531",
   "metadata": {},
   "source": [
    "# Attack pipeline on Adult using a Decision Tree as explainer"
   ]
  },
  {
   "cell_type": "code",
   "execution_count": 1,
   "id": "cbefd4b2-fe9a-465f-af10-88e782c9fd8b",
   "metadata": {},
   "outputs": [],
   "source": [
    "import numpy as np\n",
    "import pandas as pd\n",
    "import sys\n",
    "sys.path.append(\"../../\")\n",
    "sys.path.append(\"../../lime/\")\n",
    "import mlem\n",
    "import matplotlib.pyplot as plt\n",
    "from lime.lime_tabular import LimeTabularExplainer\n",
    "from sklearn.utils import shuffle\n",
    "from sklearn import tree\n",
    "from pathlib import Path"
   ]
  },
  {
   "cell_type": "code",
   "execution_count": 2,
   "id": "09f67959-396c-40c2-aaa2-750218ba89d8",
   "metadata": {},
   "outputs": [],
   "source": [
    "from sklearn.model_selection import train_test_split\n",
    "from sklearn.metrics import classification_report, ConfusionMatrixDisplay\n",
    "from sklearn.experimental import enable_halving_search_cv\n",
    "from sklearn.model_selection import HalvingGridSearchCV, GridSearchCV\n",
    "from mlem.utilities import save_pickle_bz2, load_pickle_bz2"
   ]
  },
  {
   "cell_type": "markdown",
   "id": "7c45e9ed-efc7-4525-87d4-9905f675707f",
   "metadata": {},
   "source": [
    "# DATA LOADING AND CONFIGURATION"
   ]
  },
  {
   "cell_type": "code",
   "execution_count": 3,
   "id": "d951aefb-a330-4f46-8a48-1a75af7f2486",
   "metadata": {},
   "outputs": [],
   "source": [
    "from mlem.utilities import load_pickle_bz2"
   ]
  },
  {
   "cell_type": "markdown",
   "id": "1d1dca8e-5ba8-487c-9e03-b446c5f46b3a",
   "metadata": {},
   "source": [
    "data for the attack"
   ]
  },
  {
   "cell_type": "code",
   "execution_count": 4,
   "id": "e508faeb-6572-4426-b95d-ded9d9df2603",
   "metadata": {},
   "outputs": [],
   "source": [
    "BLACK_BOX = load_pickle_bz2(\"../datasets/adult/BB_NO_CLUSTERING/BB_DATA/adult_rf_noclustering.bz2\")\n",
    "# x_train x_test y_train y_test x_test_clustered y_test_clustered\n",
    "BLACK_BOX_DATA = np.load(\"../datasets/adult/BB_NO_CLUSTERING/BB_DATA/adult_rf_noclustering_data_nsamples_2.npz\")\n",
    "# on the version of diva we're using all the features are numeric\n",
    "CATEGORICAL_FEATURES_MASK = ADULT_CATEGORICAL_FEATURES_MASK = [False, True, False, True, False, True, True, True, True, True, False, False, False, True]"
   ]
  },
  {
   "cell_type": "code",
   "execution_count": 5,
   "id": "df72977c-3c2e-4893-89a9-1f0de2a9c2f2",
   "metadata": {},
   "outputs": [],
   "source": [
    "train_distr = pd.DataFrame(BLACK_BOX_DATA['y_train']).value_counts(normalize=True)\n",
    "test_distr = pd.DataFrame(BLACK_BOX_DATA['y_test']).value_counts(normalize=True)"
   ]
  },
  {
   "cell_type": "code",
   "execution_count": 6,
   "id": "9e542b3d-da5e-4357-b3c3-a95cad3e9abe",
   "metadata": {},
   "outputs": [
    {
     "name": "stdout",
     "output_type": "stream",
     "text": [
      "train size = 16877 | test size = 7234 | total size = 24111\n",
      "train distribution:\n",
      "0    0.750963\n",
      "1    0.249037\n",
      "dtype: float64\n",
      "\n",
      "test distribution:\n",
      "0    0.750899\n",
      "1    0.249101\n",
      "dtype: float64\n"
     ]
    }
   ],
   "source": [
    "print(f\"train size = {len(BLACK_BOX_DATA['y_train'])} | test size = {len(BLACK_BOX_DATA['y_test'])} | total size = {len(BLACK_BOX_DATA['y_train']) + len(BLACK_BOX_DATA['y_test'])}\")\n",
    "print(f\"train distribution:\\n{train_distr}\\n\")\n",
    "print(f\"test distribution:\\n{test_distr}\")"
   ]
  },
  {
   "cell_type": "markdown",
   "id": "501a2f3c-0c41-410c-b9d4-c8d78c935bb6",
   "metadata": {},
   "source": [
    "X and Y are the row to attack"
   ]
  },
  {
   "cell_type": "code",
   "execution_count": 7,
   "id": "48848fda-af30-46da-a34d-438f1c8f5d02",
   "metadata": {},
   "outputs": [],
   "source": [
    "INDEX = 0"
   ]
  },
  {
   "cell_type": "code",
   "execution_count": 8,
   "id": "e8ebd2ff-6727-4730-81d3-605a84e441d4",
   "metadata": {},
   "outputs": [],
   "source": [
    "X = BLACK_BOX_DATA['x_test_clustered'][INDEX]\n",
    "Y = BLACK_BOX_DATA['y_test_clustered'][INDEX]"
   ]
  },
  {
   "cell_type": "markdown",
   "id": "4e18c2f7-2c92-400a-9788-67d07be1c176",
   "metadata": {},
   "source": [
    "### building the explainer"
   ]
  },
  {
   "cell_type": "markdown",
   "id": "f0935461-84cc-4dcc-bc52-c6cf754b8b56",
   "metadata": {},
   "source": [
    "Training the explainer on the training data of the black box"
   ]
  },
  {
   "cell_type": "code",
   "execution_count": 9,
   "id": "7002bb69-85af-4161-aa16-817854419021",
   "metadata": {},
   "outputs": [],
   "source": [
    "explainer_training_data = BLACK_BOX_DATA['x_train']\n",
    "explainer = LimeTabularExplainer(training_data=explainer_training_data, categorical_features=[i for (i, el) in enumerate(CATEGORICAL_FEATURES_MASK) if el], random_state=123)"
   ]
  },
  {
   "cell_type": "markdown",
   "id": "0964a712-1964-45ef-ac87-e6de54212a87",
   "metadata": {},
   "source": [
    "# Attack Pipeline on a single element"
   ]
  },
  {
   "cell_type": "markdown",
   "id": "84b1520f-eb78-4048-b976-449c5e720ef8",
   "metadata": {},
   "source": [
    "## 1) Creating the local explainer\n",
    "\n",
    "at the end of this section the important variables will be:\n",
    "* `local_model` : contains the local model (the ensemble classifier generated by LIME)\n",
    "* `x_neigh` : contains the neighborhood generated by LIME\n",
    "* `y_neigh`: contains the classification of `x_neigh` generated by the local_model"
   ]
  },
  {
   "cell_type": "markdown",
   "id": "3369d311-0d05-4cb0-adc0-c52df3c47808",
   "metadata": {},
   "source": [
    "This code is contained in the `__get_local_data` function in the mlem code"
   ]
  },
  {
   "cell_type": "code",
   "execution_count": 10,
   "id": "130b08d3-d533-47dc-8baa-3a09c71af09d",
   "metadata": {},
   "outputs": [],
   "source": [
    "explanations, lime_models, x_neigh = explainer.explain_instance(X, BLACK_BOX.predict_proba, labels=[0,1], sampling_method=\"gaussian\", num_samples=5000, num_features=len(X))"
   ]
  },
  {
   "cell_type": "code",
   "execution_count": 11,
   "id": "bcbcfbed-ceb9-4c07-904d-5fabccac694b",
   "metadata": {},
   "outputs": [
    {
     "data": {
      "image/png": "[encoded data removed]",
      "text/plain": [
       "<Figure size 288x288 with 1 Axes>"
      ]
     },
     "metadata": {
      "needs_background": "light"
     },
     "output_type": "display_data"
    },
    {
     "data": {
      "image/png": "[encoded data removed]",
      "text/plain": [
       "<Figure size 288x288 with 1 Axes>"
      ]
     },
     "metadata": {
      "needs_background": "light"
     },
     "output_type": "display_data"
    }
   ],
   "source": [
    "fig0 = explanations.as_pyplot_figure(label=0)\n",
    "fig1 = explanations.as_pyplot_figure(label=1)"
   ]
  },
  {
   "cell_type": "markdown",
   "id": "130967c2-2f10-4459-a410-6f9498334a6e",
   "metadata": {},
   "source": [
    "Difference between the points in the neighborhood and the original instance.\n",
    "\n",
    "*The instances generated by LIME are not very close to the original instance, maybe we could generate neighborhoods in a loop and keep only the closest elements*"
   ]
  },
  {
   "cell_type": "code",
   "execution_count": 15,
   "id": "9fe45814-2d70-4edc-baad-462824255c25",
   "metadata": {},
   "outputs": [
    {
     "name": "stdout",
     "output_type": "stream",
     "text": [
      "with cat:\tmax = 11.50 min = 0.55 avg = 2.75 std= 1.22\n",
      "without cat:\tmax = 11.49 min = 0.42 avg = 2.69 std= 1.24\n"
     ]
    }
   ],
   "source": [
    "from mlem.utilities import norm_nocategorical\n",
    "difference_from_X_cat = [np.linalg.norm(x_neigh[0]-x) for x in x_neigh]\n",
    "difference_from_X_nocat = [norm_nocategorical(x_neigh[0]-x, CATEGORICAL_FEATURES_MASK) for x in x_neigh]\n",
    "print(f\"with cat:\\tmax = {max(difference_from_X_cat[1:]):.2f} min = {min(difference_from_X_cat[1:]):.2f} avg = {np.average(difference_from_X_cat[1:]):.2f} std= {np.std(difference_from_X_cat[1:]):.2f}\")\n",
    "print(f\"without cat:\\tmax = {max(difference_from_X_nocat[1:]):.2f} min = {min(difference_from_X_nocat[1:]):.2f} avg = {np.average(difference_from_X_nocat[1:]):.2f} std= {np.std(difference_from_X_nocat[1:]):.2f}\")"
   ]
  },
  {
   "cell_type": "markdown",
   "id": "f5820f5e-f54d-4eed-9a30-23a2634de0f8",
   "metadata": {},
   "source": [
    "Creating the local model as ensamble of the models returned by lime"
   ]
  },
  {
   "cell_type": "code",
   "execution_count": 16,
   "id": "243d4dc9-37fb-451d-8d97-a8cefe0758a9",
   "metadata": {},
   "outputs": [],
   "source": [
    "attack_dataset = pd.DataFrame(x_neigh)\n",
    "attack_dataset['Target'] = BLACK_BOX.predict(attack_dataset.to_numpy())"
   ]
  },
  {
   "cell_type": "code",
   "execution_count": 17,
   "id": "f3f40f0d-89e8-4d8b-a693-1519e5df3b04",
   "metadata": {},
   "outputs": [
    {
     "data": {
      "text/plain": [
       "0    4485\n",
       "1     515\n",
       "Name: Target, dtype: int64"
      ]
     },
     "execution_count": 17,
     "metadata": {},
     "output_type": "execute_result"
    }
   ],
   "source": [
    "attack_dataset.Target.value_counts()"
   ]
  },
  {
   "cell_type": "code",
   "execution_count": 18,
   "id": "e9ad711d-a2cc-4b82-8e34-1f51a912dec8",
   "metadata": {},
   "outputs": [],
   "source": [
    "def generate_balanced_dataset(x, num_samples, black_box, explainer, max_tries=15, shuffle=True, verbose=False):\n",
    "    generated = pd.DataFrame(explainer.data_inverse(x, num_samples, 'gaussian')[1])\n",
    "    generated['Target'] = black_box.predict(generated.to_numpy())\n",
    "    min_class =-np.NINF\n",
    "    final = pd.DataFrame()\n",
    "    for t in range(max_tries):\n",
    "        if verbose:\n",
    "            print(f\"try number {t}\")\n",
    "        \n",
    "        if len(final) >= num_samples:\n",
    "            \n",
    "            return final.sample(frac=1) if shuffle else final\n",
    "        \n",
    "        generated = pd.DataFrame(explainer.data_inverse(x, num_samples, 'gaussian')[1])\n",
    "        generated['Target'] = black_box.predict(generated.to_numpy())\n",
    "        \n",
    "        zeroes = generated[generated['Target'] == 0]\n",
    "        ones   = generated[generated['Target'] == 1]\n",
    "        \n",
    "        if len(zeroes) == 0 or len(ones) == 0:\n",
    "            continue\n",
    "        \n",
    "        if len(final) < num_samples:\n",
    "            min_len = min(len(zeroes), len(ones))\n",
    "            final = pd.concat([final, zeroes.head(min_len).copy(), ones.head(min_len).copy()])\n",
    "    \n",
    "        if verbose:\n",
    "            p0, p1 = final.Target.value_counts(normalize=True)\n",
    "            print(f\"{len(final)=} {p0=} {p1=}\")\n",
    "        \n",
    "        \n",
    "    raise Exception(\"Could not generate balanced dataset\")\n"
   ]
  },
  {
   "cell_type": "code",
   "execution_count": 19,
   "id": "c9aad038-69e6-4ad4-985e-115cfc91d7c1",
   "metadata": {},
   "outputs": [],
   "source": [
    "#g = generate_balanced_dataset(X, 5000, BLACK_BOX, explainer, 20, True, True)"
   ]
  },
  {
   "cell_type": "code",
   "execution_count": 20,
   "id": "2e412424-4d09-49d8-89c4-30c0ce670bcc",
   "metadata": {},
   "outputs": [],
   "source": [
    "#g.to_csv(\"adult_lime_generated_around_0.csv\", index=False)"
   ]
  },
  {
   "cell_type": "code",
   "execution_count": 21,
   "id": "2b03914a-2e80-47cd-a5cf-cc62abe3ade7",
   "metadata": {},
   "outputs": [],
   "source": [
    "generated_dataset = pd.read_csv(\"adult_lime_generated_around_0.csv\")"
   ]
  },
  {
   "cell_type": "code",
   "execution_count": 22,
   "id": "936e1b39-a384-4e60-9757-a882579a4316",
   "metadata": {},
   "outputs": [],
   "source": [
    "ATTACK_DATASET = generated_dataset.copy()"
   ]
  },
  {
   "cell_type": "code",
   "execution_count": 23,
   "id": "99ae82b5-92db-4304-90a1-ba71b5f34060",
   "metadata": {},
   "outputs": [
    {
     "data": {
      "text/html": [
       "<div>\n",
       "<style scoped>\n",
       "    .dataframe tbody tr th:only-of-type {\n",
       "        vertical-align: middle;\n",
       "    }\n",
       "\n",
       "    .dataframe tbody tr th {\n",
       "        vertical-align: top;\n",
       "    }\n",
       "\n",
       "    .dataframe thead th {\n",
       "        text-align: right;\n",
       "    }\n",
       "</style>\n",
       "<table border=\"1\" class=\"dataframe\">\n",
       "  <thead>\n",
       "    <tr style=\"text-align: right;\">\n",
       "      <th></th>\n",
       "      <th>0</th>\n",
       "      <th>1</th>\n",
       "      <th>2</th>\n",
       "      <th>3</th>\n",
       "      <th>4</th>\n",
       "      <th>5</th>\n",
       "      <th>6</th>\n",
       "      <th>7</th>\n",
       "      <th>8</th>\n",
       "      <th>9</th>\n",
       "      <th>10</th>\n",
       "      <th>11</th>\n",
       "      <th>12</th>\n",
       "      <th>13</th>\n",
       "      <th>Target</th>\n",
       "    </tr>\n",
       "  </thead>\n",
       "  <tbody>\n",
       "    <tr>\n",
       "      <th>0</th>\n",
       "      <td>0.140810</td>\n",
       "      <td>0.218918</td>\n",
       "      <td>-1.151091</td>\n",
       "      <td>0.164328</td>\n",
       "      <td>1.788122</td>\n",
       "      <td>0.455011</td>\n",
       "      <td>0.124236</td>\n",
       "      <td>0.455728</td>\n",
       "      <td>0.263855</td>\n",
       "      <td>0.313955</td>\n",
       "      <td>-0.000003</td>\n",
       "      <td>0.0</td>\n",
       "      <td>-1.748542</td>\n",
       "      <td>0.254411</td>\n",
       "      <td>0</td>\n",
       "    </tr>\n",
       "    <tr>\n",
       "      <th>1</th>\n",
       "      <td>-0.522921</td>\n",
       "      <td>0.218918</td>\n",
       "      <td>-0.253538</td>\n",
       "      <td>0.421658</td>\n",
       "      <td>1.291273</td>\n",
       "      <td>0.455011</td>\n",
       "      <td>0.133907</td>\n",
       "      <td>0.014343</td>\n",
       "      <td>0.263855</td>\n",
       "      <td>0.313955</td>\n",
       "      <td>-0.000003</td>\n",
       "      <td>0.0</td>\n",
       "      <td>-0.648633</td>\n",
       "      <td>0.254411</td>\n",
       "      <td>0</td>\n",
       "    </tr>\n",
       "    <tr>\n",
       "      <th>2</th>\n",
       "      <td>-0.416459</td>\n",
       "      <td>0.218918</td>\n",
       "      <td>0.102679</td>\n",
       "      <td>0.749077</td>\n",
       "      <td>-1.481296</td>\n",
       "      <td>0.455011</td>\n",
       "      <td>0.448686</td>\n",
       "      <td>0.455728</td>\n",
       "      <td>0.263855</td>\n",
       "      <td>0.313955</td>\n",
       "      <td>-0.000003</td>\n",
       "      <td>0.0</td>\n",
       "      <td>1.071553</td>\n",
       "      <td>0.254411</td>\n",
       "      <td>1</td>\n",
       "    </tr>\n",
       "    <tr>\n",
       "      <th>3</th>\n",
       "      <td>-0.865284</td>\n",
       "      <td>0.218918</td>\n",
       "      <td>0.210266</td>\n",
       "      <td>0.164328</td>\n",
       "      <td>-0.048076</td>\n",
       "      <td>0.455011</td>\n",
       "      <td>0.061527</td>\n",
       "      <td>0.493599</td>\n",
       "      <td>0.263855</td>\n",
       "      <td>0.113783</td>\n",
       "      <td>-0.000003</td>\n",
       "      <td>0.0</td>\n",
       "      <td>-0.085408</td>\n",
       "      <td>0.125000</td>\n",
       "      <td>0</td>\n",
       "    </tr>\n",
       "    <tr>\n",
       "      <th>4</th>\n",
       "      <td>-0.991708</td>\n",
       "      <td>0.294630</td>\n",
       "      <td>-0.934414</td>\n",
       "      <td>0.200180</td>\n",
       "      <td>-1.291433</td>\n",
       "      <td>0.455011</td>\n",
       "      <td>0.116515</td>\n",
       "      <td>0.014343</td>\n",
       "      <td>0.129972</td>\n",
       "      <td>0.113783</td>\n",
       "      <td>2.179329</td>\n",
       "      <td>0.0</td>\n",
       "      <td>1.102858</td>\n",
       "      <td>0.348837</td>\n",
       "      <td>1</td>\n",
       "    </tr>\n",
       "    <tr>\n",
       "      <th>...</th>\n",
       "      <td>...</td>\n",
       "      <td>...</td>\n",
       "      <td>...</td>\n",
       "      <td>...</td>\n",
       "      <td>...</td>\n",
       "      <td>...</td>\n",
       "      <td>...</td>\n",
       "      <td>...</td>\n",
       "      <td>...</td>\n",
       "      <td>...</td>\n",
       "      <td>...</td>\n",
       "      <td>...</td>\n",
       "      <td>...</td>\n",
       "      <td>...</td>\n",
       "      <td>...</td>\n",
       "    </tr>\n",
       "    <tr>\n",
       "      <th>5955</th>\n",
       "      <td>1.481100</td>\n",
       "      <td>0.218918</td>\n",
       "      <td>0.177651</td>\n",
       "      <td>0.421658</td>\n",
       "      <td>-0.048076</td>\n",
       "      <td>0.107312</td>\n",
       "      <td>0.202926</td>\n",
       "      <td>0.455728</td>\n",
       "      <td>0.263855</td>\n",
       "      <td>0.313955</td>\n",
       "      <td>2.302275</td>\n",
       "      <td>0.0</td>\n",
       "      <td>1.230300</td>\n",
       "      <td>0.254411</td>\n",
       "      <td>1</td>\n",
       "    </tr>\n",
       "    <tr>\n",
       "      <th>5956</th>\n",
       "      <td>0.141398</td>\n",
       "      <td>0.218918</td>\n",
       "      <td>0.440817</td>\n",
       "      <td>0.263198</td>\n",
       "      <td>-0.048076</td>\n",
       "      <td>0.455011</td>\n",
       "      <td>0.225590</td>\n",
       "      <td>0.455728</td>\n",
       "      <td>0.263855</td>\n",
       "      <td>0.313955</td>\n",
       "      <td>-0.000003</td>\n",
       "      <td>0.0</td>\n",
       "      <td>0.330406</td>\n",
       "      <td>0.254411</td>\n",
       "      <td>1</td>\n",
       "    </tr>\n",
       "    <tr>\n",
       "      <th>5957</th>\n",
       "      <td>0.740863</td>\n",
       "      <td>0.285829</td>\n",
       "      <td>-0.207593</td>\n",
       "      <td>0.056298</td>\n",
       "      <td>0.907419</td>\n",
       "      <td>0.048399</td>\n",
       "      <td>0.485342</td>\n",
       "      <td>0.493599</td>\n",
       "      <td>0.263855</td>\n",
       "      <td>0.313955</td>\n",
       "      <td>-0.000003</td>\n",
       "      <td>0.0</td>\n",
       "      <td>-1.050966</td>\n",
       "      <td>0.254411</td>\n",
       "      <td>0</td>\n",
       "    </tr>\n",
       "    <tr>\n",
       "      <th>5958</th>\n",
       "      <td>-0.443961</td>\n",
       "      <td>0.268960</td>\n",
       "      <td>-0.965144</td>\n",
       "      <td>0.200180</td>\n",
       "      <td>0.894671</td>\n",
       "      <td>0.455011</td>\n",
       "      <td>0.225590</td>\n",
       "      <td>0.106689</td>\n",
       "      <td>0.263855</td>\n",
       "      <td>0.313955</td>\n",
       "      <td>0.894925</td>\n",
       "      <td>0.0</td>\n",
       "      <td>-0.903759</td>\n",
       "      <td>0.254411</td>\n",
       "      <td>1</td>\n",
       "    </tr>\n",
       "    <tr>\n",
       "      <th>5959</th>\n",
       "      <td>-0.637656</td>\n",
       "      <td>0.218918</td>\n",
       "      <td>-1.404458</td>\n",
       "      <td>0.200180</td>\n",
       "      <td>-0.048076</td>\n",
       "      <td>0.048399</td>\n",
       "      <td>0.041134</td>\n",
       "      <td>0.066334</td>\n",
       "      <td>0.263855</td>\n",
       "      <td>0.113783</td>\n",
       "      <td>3.111934</td>\n",
       "      <td>0.0</td>\n",
       "      <td>1.865872</td>\n",
       "      <td>0.254411</td>\n",
       "      <td>1</td>\n",
       "    </tr>\n",
       "  </tbody>\n",
       "</table>\n",
       "<p>5960 rows × 15 columns</p>\n",
       "</div>"
      ],
      "text/plain": [
       "             0         1         2         3         4         5         6  \\\n",
       "0     0.140810  0.218918 -1.151091  0.164328  1.788122  0.455011  0.124236   \n",
       "1    -0.522921  0.218918 -0.253538  0.421658  1.291273  0.455011  0.133907   \n",
       "2    -0.416459  0.218918  0.102679  0.749077 -1.481296  0.455011  0.448686   \n",
       "3    -0.865284  0.218918  0.210266  0.164328 -0.048076  0.455011  0.061527   \n",
       "4    -0.991708  0.294630 -0.934414  0.200180 -1.291433  0.455011  0.116515   \n",
       "...        ...       ...       ...       ...       ...       ...       ...   \n",
       "5955  1.481100  0.218918  0.177651  0.421658 -0.048076  0.107312  0.202926   \n",
       "5956  0.141398  0.218918  0.440817  0.263198 -0.048076  0.455011  0.225590   \n",
       "5957  0.740863  0.285829 -0.207593  0.056298  0.907419  0.048399  0.485342   \n",
       "5958 -0.443961  0.268960 -0.965144  0.200180  0.894671  0.455011  0.225590   \n",
       "5959 -0.637656  0.218918 -1.404458  0.200180 -0.048076  0.048399  0.041134   \n",
       "\n",
       "             7         8         9        10   11        12        13  Target  \n",
       "0     0.455728  0.263855  0.313955 -0.000003  0.0 -1.748542  0.254411       0  \n",
       "1     0.014343  0.263855  0.313955 -0.000003  0.0 -0.648633  0.254411       0  \n",
       "2     0.455728  0.263855  0.313955 -0.000003  0.0  1.071553  0.254411       1  \n",
       "3     0.493599  0.263855  0.113783 -0.000003  0.0 -0.085408  0.125000       0  \n",
       "4     0.014343  0.129972  0.113783  2.179329  0.0  1.102858  0.348837       1  \n",
       "...        ...       ...       ...       ...  ...       ...       ...     ...  \n",
       "5955  0.455728  0.263855  0.313955  2.302275  0.0  1.230300  0.254411       1  \n",
       "5956  0.455728  0.263855  0.313955 -0.000003  0.0  0.330406  0.254411       1  \n",
       "5957  0.493599  0.263855  0.313955 -0.000003  0.0 -1.050966  0.254411       0  \n",
       "5958  0.106689  0.263855  0.313955  0.894925  0.0 -0.903759  0.254411       1  \n",
       "5959  0.066334  0.263855  0.113783  3.111934  0.0  1.865872  0.254411       1  \n",
       "\n",
       "[5960 rows x 15 columns]"
      ]
     },
     "execution_count": 23,
     "metadata": {},
     "output_type": "execute_result"
    }
   ],
   "source": [
    "ATTACK_DATASET"
   ]
  },
  {
   "cell_type": "code",
   "execution_count": 24,
   "id": "287b5d81-db3d-4e94-acbb-4e25b809a444",
   "metadata": {},
   "outputs": [],
   "source": [
    "# Hyperparameters of the grid search\n",
    "__HYPERPARAMETERS = {\n",
    "    \"criterion\": [\"gini\", \"entropy\"],\n",
    "}\n",
    "\n",
    "def create_decision_tree(\n",
    "        x_train,\n",
    "        y_train,\n",
    "        hyperparameters = __HYPERPARAMETERS,\n",
    "        n_jobs=4,\n",
    "        use_halving=True\n",
    "):\n",
    "    \"\"\"Creates a random forest classifier via grid search.\n",
    "\n",
    "    Args:\n",
    "        x_train (ndarray): Training input examples.\n",
    "        y_train (ndarray): Training target values.\n",
    "        hyperparameters (Dict[str, List[Any]], optional): Dictionary of hyperparameters for the grid search. Defaults to the fixed ones.\n",
    "        n_jobs: Number of jobs to run in parallel in the grid search. (default 4)\n",
    "        use_halving (bool): If true use the HalvingGridSearch\n",
    "\n",
    "    Returns:\n",
    "        RandomForestClassifier: Random forest classifier.\n",
    "    \"\"\"\n",
    "\n",
    "    dt = tree.DecisionTreeClassifier()\n",
    "\n",
    "    if use_halving:\n",
    "        clf = HalvingGridSearchCV(dt, hyperparameters, refit=True, n_jobs=n_jobs, verbose=0)\n",
    "    else:\n",
    "        clf = RandomizedSearchCV(dt, hyperparameters, refit=True, n_jobs=n_jobs, verbose=0)\n",
    "    clf.fit(x_train, y_train)\n",
    "    # print(f\"GRID_SEARCH BEST PARAMS: {clf.best_params_=}\")\n",
    "    return clf.best_estimator_"
   ]
  },
  {
   "cell_type": "code",
   "execution_count": 25,
   "id": "bb465c80-8fd4-4c27-a1ea-d2c40e3c64d2",
   "metadata": {},
   "outputs": [],
   "source": [
    "X_train, X_test, y_train, y_test = train_test_split(generated_dataset.drop('Target', axis=1).to_numpy(), generated_dataset.Target.to_numpy(), test_size=0.33, random_state=42)"
   ]
  },
  {
   "cell_type": "code",
   "execution_count": 26,
   "id": "a8ddd534-9c6f-41a6-81fd-e296e93e8dd3",
   "metadata": {},
   "outputs": [],
   "source": [
    "dt = create_decision_tree(X_train, y_train, use_halving=True) if not Path(\"decision_tree_adult_96.bz2\").exists() else load_pickle_bz2(\"decision_tree_adult_96.bz2\")"
   ]
  },
  {
   "cell_type": "code",
   "execution_count": 27,
   "id": "8b001960-6f69-4a13-9290-640eb0b187ab",
   "metadata": {},
   "outputs": [
    {
     "data": {
      "text/html": [
       "<style>#sk-container-id-1 {color: black;background-color: white;}#sk-container-id-1 pre{padding: 0;}#sk-container-id-1 div.sk-toggleable {background-color: white;}#sk-container-id-1 label.sk-toggleable__label {cursor: pointer;display: block;width: 100%;margin-bottom: 0;padding: 0.3em;box-sizing: border-box;text-align: center;}#sk-container-id-1 label.sk-toggleable__label-arrow:before {content: \"▸\";float: left;margin-right: 0.25em;color: #696969;}#sk-container-id-1 label.sk-toggleable__label-arrow:hover:before {color: black;}#sk-container-id-1 div.sk-estimator:hover label.sk-toggleable__label-arrow:before {color: black;}#sk-container-id-1 div.sk-toggleable__content {max-height: 0;max-width: 0;overflow: hidden;text-align: left;background-color: #f0f8ff;}#sk-container-id-1 div.sk-toggleable__content pre {margin: 0.2em;color: black;border-radius: 0.25em;background-color: #f0f8ff;}#sk-container-id-1 input.sk-toggleable__control:checked~div.sk-toggleable__content {max-height: 200px;max-width: 100%;overflow: auto;}#sk-container-id-1 input.sk-toggleable__control:checked~label.sk-toggleable__label-arrow:before {content: \"▾\";}#sk-container-id-1 div.sk-estimator input.sk-toggleable__control:checked~label.sk-toggleable__label {background-color: #d4ebff;}#sk-container-id-1 div.sk-label input.sk-toggleable__control:checked~label.sk-toggleable__label {background-color: #d4ebff;}#sk-container-id-1 input.sk-hidden--visually {border: 0;clip: rect(1px 1px 1px 1px);clip: rect(1px, 1px, 1px, 1px);height: 1px;margin: -1px;overflow: hidden;padding: 0;position: absolute;width: 1px;}#sk-container-id-1 div.sk-estimator {font-family: monospace;background-color: #f0f8ff;border: 1px dotted black;border-radius: 0.25em;box-sizing: border-box;margin-bottom: 0.5em;}#sk-container-id-1 div.sk-estimator:hover {background-color: #d4ebff;}#sk-container-id-1 div.sk-parallel-item::after {content: \"\";width: 100%;border-bottom: 1px solid gray;flex-grow: 1;}#sk-container-id-1 div.sk-label:hover label.sk-toggleable__label {background-color: #d4ebff;}#sk-container-id-1 div.sk-serial::before {content: \"\";position: absolute;border-left: 1px solid gray;box-sizing: border-box;top: 0;bottom: 0;left: 50%;z-index: 0;}#sk-container-id-1 div.sk-serial {display: flex;flex-direction: column;align-items: center;background-color: white;padding-right: 0.2em;padding-left: 0.2em;position: relative;}#sk-container-id-1 div.sk-item {position: relative;z-index: 1;}#sk-container-id-1 div.sk-parallel {display: flex;align-items: stretch;justify-content: center;background-color: white;position: relative;}#sk-container-id-1 div.sk-item::before, #sk-container-id-1 div.sk-parallel-item::before {content: \"\";position: absolute;border-left: 1px solid gray;box-sizing: border-box;top: 0;bottom: 0;left: 50%;z-index: -1;}#sk-container-id-1 div.sk-parallel-item {display: flex;flex-direction: column;z-index: 1;position: relative;background-color: white;}#sk-container-id-1 div.sk-parallel-item:first-child::after {align-self: flex-end;width: 50%;}#sk-container-id-1 div.sk-parallel-item:last-child::after {align-self: flex-start;width: 50%;}#sk-container-id-1 div.sk-parallel-item:only-child::after {width: 0;}#sk-container-id-1 div.sk-dashed-wrapped {border: 1px dashed gray;margin: 0 0.4em 0.5em 0.4em;box-sizing: border-box;padding-bottom: 0.4em;background-color: white;}#sk-container-id-1 div.sk-label label {font-family: monospace;font-weight: bold;display: inline-block;line-height: 1.2em;}#sk-container-id-1 div.sk-label-container {text-align: center;}#sk-container-id-1 div.sk-container {/* jupyter's `normalize.less` sets `[hidden] { display: none; }` but bootstrap.min.css set `[hidden] { display: none !important; }` so we also need the `!important` here to be able to override the default hidden behavior on the sphinx rendered scikit-learn.org. See: https://github.com/scikit-learn/scikit-learn/issues/21755 */display: inline-block !important;position: relative;}#sk-container-id-1 div.sk-text-repr-fallback {display: none;}</style><div id=\"sk-container-id-1\" class=\"sk-top-container\"><div class=\"sk-text-repr-fallback\"><pre>DecisionTreeClassifier(criterion=&#x27;entropy&#x27;)</pre><b>In a Jupyter environment, please rerun this cell to show the HTML representation or trust the notebook. <br />On GitHub, the HTML representation is unable to render, please try loading this page with nbviewer.org.</b></div><div class=\"sk-container\" hidden><div class=\"sk-item\"><div class=\"sk-estimator sk-toggleable\"><input class=\"sk-toggleable__control sk-hidden--visually\" id=\"sk-estimator-id-1\" type=\"checkbox\" checked><label for=\"sk-estimator-id-1\" class=\"sk-toggleable__label sk-toggleable__label-arrow\">DecisionTreeClassifier</label><div class=\"sk-toggleable__content\"><pre>DecisionTreeClassifier(criterion=&#x27;entropy&#x27;)</pre></div></div></div></div></div>"
      ],
      "text/plain": [
       "DecisionTreeClassifier(criterion='entropy')"
      ]
     },
     "execution_count": 27,
     "metadata": {},
     "output_type": "execute_result"
    }
   ],
   "source": [
    "dt"
   ]
  },
  {
   "cell_type": "markdown",
   "id": "18d445a8-9ef5-45ae-b12f-5bd04d8c568a",
   "metadata": {},
   "source": [
    "The decision tree has good performances"
   ]
  },
  {
   "cell_type": "code",
   "execution_count": 28,
   "id": "e026a908-ed5b-49f2-97ad-c6216762e698",
   "metadata": {},
   "outputs": [
    {
     "name": "stdout",
     "output_type": "stream",
     "text": [
      "              precision    recall  f1-score   support\n",
      "\n",
      "           0       0.97      0.97      0.97       974\n",
      "           1       0.97      0.97      0.97       993\n",
      "\n",
      "    accuracy                           0.97      1967\n",
      "   macro avg       0.97      0.97      0.97      1967\n",
      "weighted avg       0.97      0.97      0.97      1967\n",
      "\n"
     ]
    }
   ],
   "source": [
    "print(classification_report(y_test, dt.predict(X_test)))"
   ]
  },
  {
   "cell_type": "markdown",
   "id": "eac86c2b-220e-44c9-b596-799db640475c",
   "metadata": {},
   "source": [
    "Black Box"
   ]
  },
  {
   "cell_type": "code",
   "execution_count": 29,
   "id": "cb4316cf-7254-4beb-b201-5e768a313670",
   "metadata": {},
   "outputs": [
    {
     "name": "stdout",
     "output_type": "stream",
     "text": [
      "              precision    recall  f1-score   support\n",
      "\n",
      "           0       1.00      1.00      1.00       974\n",
      "           1       1.00      1.00      1.00       993\n",
      "\n",
      "    accuracy                           1.00      1967\n",
      "   macro avg       1.00      1.00      1.00      1967\n",
      "weighted avg       1.00      1.00      1.00      1967\n",
      "\n"
     ]
    }
   ],
   "source": [
    "print(classification_report(y_test, BLACK_BOX.predict(X_test)))"
   ]
  },
  {
   "cell_type": "code",
   "execution_count": 30,
   "id": "eb866fca-aede-46d2-a580-6c18338a80ba",
   "metadata": {},
   "outputs": [
    {
     "data": {
      "text/plain": [
       "1    993\n",
       "0    974\n",
       "dtype: int64"
      ]
     },
     "execution_count": 30,
     "metadata": {},
     "output_type": "execute_result"
    }
   ],
   "source": [
    "pd.DataFrame(y_test).value_counts()"
   ]
  },
  {
   "cell_type": "code",
   "execution_count": 31,
   "id": "6f56e09b-34ee-475f-94a1-c06cd4211224",
   "metadata": {},
   "outputs": [],
   "source": [
    "if not Path(\"decision_tree_adult_96.bz2\").exists():\n",
    "    save_pickle_bz2(\"decision_tree_adult_96.bz2\", dt)\n",
    "    np.savez(\"decision_tree_adult_96.data.npz\", X_train=X_train, X_test=X_test, y_train=y_train, y_test=y_test)"
   ]
  },
  {
   "cell_type": "markdown",
   "id": "f0556b10-d208-4955-995a-cf155de8c577",
   "metadata": {},
   "source": [
    "# Attacking the decision tree"
   ]
  },
  {
   "cell_type": "code",
   "execution_count": 32,
   "id": "256df5a0-7b91-4bcb-8b0e-470f6fb6043b",
   "metadata": {},
   "outputs": [],
   "source": [
    "from mlem.shadow_models import ShadowModelsManager"
   ]
  },
  {
   "cell_type": "markdown",
   "id": "6bbdcf4d-b977-4e09-a2dc-91fb9ff6de35",
   "metadata": {},
   "source": [
    "Reloading the tree and its data"
   ]
  },
  {
   "cell_type": "code",
   "execution_count": 33,
   "id": "97db0da0-4eee-4749-9ec7-cbf283363424",
   "metadata": {},
   "outputs": [],
   "source": [
    "local_tree = load_pickle_bz2(\"decision_tree_adult_96.bz2\")\n",
    "loaded     = np.load(\"decision_tree_adult_96.data.npz\", allow_pickle=True)"
   ]
  },
  {
   "cell_type": "code",
   "execution_count": 34,
   "id": "0d51268e-1268-4422-9068-892da0a4a1d8",
   "metadata": {},
   "outputs": [],
   "source": [
    "X_train = loaded['X_train']\n",
    "X_test  = loaded['X_test']\n",
    "y_train = loaded['y_train']\n",
    "y_test  = loaded['y_test']\n",
    "full_generated_dataset = pd.read_csv(\"adult_lime_generated_around_0.csv\")"
   ]
  },
  {
   "cell_type": "markdown",
   "id": "b4397247-5b8a-4853-be25-3b2a1f972c51",
   "metadata": {},
   "source": [
    "Using the lime generated dataset as x_attack and the labels computed by the dt as y_attack"
   ]
  },
  {
   "cell_type": "code",
   "execution_count": 35,
   "id": "1fe1c416-0e87-4b39-897b-4d0f237e667e",
   "metadata": {},
   "outputs": [],
   "source": [
    "x_attack = full_generated_dataset.drop('Target', axis=1)\n",
    "y_attack = local_tree.predict(x_attack.to_numpy())"
   ]
  },
  {
   "cell_type": "markdown",
   "id": "c3f7921c-79c5-4e40-97f6-6ea77d821daa",
   "metadata": {},
   "source": [
    "Comparing the local_tree predictions to the \"real\" label"
   ]
  },
  {
   "cell_type": "code",
   "execution_count": 36,
   "id": "05c8b34d-38e8-4137-95b3-7227cfcf79b3",
   "metadata": {},
   "outputs": [
    {
     "data": {
      "text/plain": [
       "True     0.989765\n",
       "False    0.010235\n",
       "Name: Target, dtype: float64"
      ]
     },
     "execution_count": 36,
     "metadata": {},
     "output_type": "execute_result"
    }
   ],
   "source": [
    "(y_attack == full_generated_dataset.Target).value_counts(normalize=True)"
   ]
  },
  {
   "cell_type": "markdown",
   "id": "b03959bf-e2f8-43d1-8bd0-c24004a0fd66",
   "metadata": {},
   "source": [
    "### with Adaboost\n",
    "\n",
    "using adaboost for the ShadowModels"
   ]
  },
  {
   "cell_type": "code",
   "execution_count": 37,
   "id": "ceaa11c8-7ac0-4cda-b416-853d42417d91",
   "metadata": {},
   "outputs": [],
   "source": [
    "from mlem.utilities import create_adaboost\n",
    "\n",
    "path=\"DT/shadow_adab_adult_dt\"\n",
    "\n",
    "shadow_models = ShadowModelsManager(\n",
    "        n_models=4,\n",
    "        results_path=f\"{path}/shadow\",\n",
    "        test_size=0.5,\n",
    "        random_state=123,\n",
    "        model_creator_fn=create_adaboost,\n",
    "        categorical_mask=CATEGORICAL_FEATURES_MASK\n",
    "    )"
   ]
  },
  {
   "cell_type": "markdown",
   "id": "e5b57d28-675d-42b4-9d3e-e53157ff7873",
   "metadata": {},
   "source": [
    "Fitting 4 shadow models on the data"
   ]
  },
  {
   "cell_type": "code",
   "execution_count": 38,
   "id": "078ca55e-0650-4426-b331-c1684ee611a1",
   "metadata": {},
   "outputs": [],
   "source": [
    "shadow_models.fit(x_attack, y_attack)"
   ]
  },
  {
   "cell_type": "code",
   "execution_count": 39,
   "id": "8a856831-850b-45e8-8567-a0ece80549d4",
   "metadata": {},
   "outputs": [
    {
     "data": {
      "text/html": [
       "<div>\n",
       "<style scoped>\n",
       "    .dataframe tbody tr th:only-of-type {\n",
       "        vertical-align: middle;\n",
       "    }\n",
       "\n",
       "    .dataframe tbody tr th {\n",
       "        vertical-align: top;\n",
       "    }\n",
       "\n",
       "    .dataframe thead th {\n",
       "        text-align: right;\n",
       "    }\n",
       "</style>\n",
       "<table border=\"1\" class=\"dataframe\">\n",
       "  <thead>\n",
       "    <tr style=\"text-align: right;\">\n",
       "      <th></th>\n",
       "      <th>0</th>\n",
       "      <th>1</th>\n",
       "      <th>label</th>\n",
       "      <th>inout</th>\n",
       "    </tr>\n",
       "  </thead>\n",
       "  <tbody>\n",
       "    <tr>\n",
       "      <th>0</th>\n",
       "      <td>0.477977</td>\n",
       "      <td>0.522023</td>\n",
       "      <td>1</td>\n",
       "      <td>in</td>\n",
       "    </tr>\n",
       "    <tr>\n",
       "      <th>1</th>\n",
       "      <td>0.577727</td>\n",
       "      <td>0.422273</td>\n",
       "      <td>0</td>\n",
       "      <td>in</td>\n",
       "    </tr>\n",
       "    <tr>\n",
       "      <th>2</th>\n",
       "      <td>0.260569</td>\n",
       "      <td>0.739431</td>\n",
       "      <td>1</td>\n",
       "      <td>in</td>\n",
       "    </tr>\n",
       "    <tr>\n",
       "      <th>3</th>\n",
       "      <td>0.469193</td>\n",
       "      <td>0.530807</td>\n",
       "      <td>1</td>\n",
       "      <td>in</td>\n",
       "    </tr>\n",
       "    <tr>\n",
       "      <th>4</th>\n",
       "      <td>0.302552</td>\n",
       "      <td>0.697448</td>\n",
       "      <td>1</td>\n",
       "      <td>in</td>\n",
       "    </tr>\n",
       "    <tr>\n",
       "      <th>...</th>\n",
       "      <td>...</td>\n",
       "      <td>...</td>\n",
       "      <td>...</td>\n",
       "      <td>...</td>\n",
       "    </tr>\n",
       "    <tr>\n",
       "      <th>2975</th>\n",
       "      <td>0.526214</td>\n",
       "      <td>0.473786</td>\n",
       "      <td>0</td>\n",
       "      <td>out</td>\n",
       "    </tr>\n",
       "    <tr>\n",
       "      <th>2976</th>\n",
       "      <td>0.393850</td>\n",
       "      <td>0.606150</td>\n",
       "      <td>1</td>\n",
       "      <td>out</td>\n",
       "    </tr>\n",
       "    <tr>\n",
       "      <th>2977</th>\n",
       "      <td>0.483609</td>\n",
       "      <td>0.516391</td>\n",
       "      <td>1</td>\n",
       "      <td>out</td>\n",
       "    </tr>\n",
       "    <tr>\n",
       "      <th>2978</th>\n",
       "      <td>0.485508</td>\n",
       "      <td>0.514492</td>\n",
       "      <td>1</td>\n",
       "      <td>out</td>\n",
       "    </tr>\n",
       "    <tr>\n",
       "      <th>2979</th>\n",
       "      <td>0.499529</td>\n",
       "      <td>0.500471</td>\n",
       "      <td>1</td>\n",
       "      <td>out</td>\n",
       "    </tr>\n",
       "  </tbody>\n",
       "</table>\n",
       "<p>23864 rows × 4 columns</p>\n",
       "</div>"
      ],
      "text/plain": [
       "             0         1  label inout\n",
       "0     0.477977  0.522023      1    in\n",
       "1     0.577727  0.422273      0    in\n",
       "2     0.260569  0.739431      1    in\n",
       "3     0.469193  0.530807      1    in\n",
       "4     0.302552  0.697448      1    in\n",
       "...        ...       ...    ...   ...\n",
       "2975  0.526214  0.473786      0   out\n",
       "2976  0.393850  0.606150      1   out\n",
       "2977  0.483609  0.516391      1   out\n",
       "2978  0.485508  0.514492      1   out\n",
       "2979  0.499529  0.500471      1   out\n",
       "\n",
       "[23864 rows x 4 columns]"
      ]
     },
     "execution_count": 39,
     "metadata": {},
     "output_type": "execute_result"
    }
   ],
   "source": [
    "attack_dataset = shadow_models.get_attack_dataset()\n",
    "attack_dataset"
   ]
  },
  {
   "cell_type": "markdown",
   "id": "04a7f62d-3c7b-4c31-a121-7bbb7c2a66b9",
   "metadata": {},
   "source": [
    "The mean and std are close to 0.5 and 0"
   ]
  },
  {
   "cell_type": "code",
   "execution_count": 40,
   "id": "44099e8e-1cd4-4a53-b6a9-02af6605fe8f",
   "metadata": {},
   "outputs": [
    {
     "data": {
      "text/html": [
       "<div>\n",
       "<style scoped>\n",
       "    .dataframe tbody tr th:only-of-type {\n",
       "        vertical-align: middle;\n",
       "    }\n",
       "\n",
       "    .dataframe tbody tr th {\n",
       "        vertical-align: top;\n",
       "    }\n",
       "\n",
       "    .dataframe thead th {\n",
       "        text-align: right;\n",
       "    }\n",
       "</style>\n",
       "<table border=\"1\" class=\"dataframe\">\n",
       "  <thead>\n",
       "    <tr style=\"text-align: right;\">\n",
       "      <th></th>\n",
       "      <th>0</th>\n",
       "      <th>1</th>\n",
       "    </tr>\n",
       "  </thead>\n",
       "  <tbody>\n",
       "    <tr>\n",
       "      <th>count</th>\n",
       "      <td>11948.000000</td>\n",
       "      <td>11948.000000</td>\n",
       "    </tr>\n",
       "    <tr>\n",
       "      <th>mean</th>\n",
       "      <td>0.538986</td>\n",
       "      <td>0.461014</td>\n",
       "    </tr>\n",
       "    <tr>\n",
       "      <th>std</th>\n",
       "      <td>0.026344</td>\n",
       "      <td>0.026344</td>\n",
       "    </tr>\n",
       "    <tr>\n",
       "      <th>min</th>\n",
       "      <td>0.306083</td>\n",
       "      <td>0.342384</td>\n",
       "    </tr>\n",
       "    <tr>\n",
       "      <th>25%</th>\n",
       "      <td>0.520563</td>\n",
       "      <td>0.447343</td>\n",
       "    </tr>\n",
       "    <tr>\n",
       "      <th>50%</th>\n",
       "      <td>0.535124</td>\n",
       "      <td>0.464876</td>\n",
       "    </tr>\n",
       "    <tr>\n",
       "      <th>75%</th>\n",
       "      <td>0.552657</td>\n",
       "      <td>0.479437</td>\n",
       "    </tr>\n",
       "    <tr>\n",
       "      <th>max</th>\n",
       "      <td>0.657616</td>\n",
       "      <td>0.693917</td>\n",
       "    </tr>\n",
       "  </tbody>\n",
       "</table>\n",
       "</div>"
      ],
      "text/plain": [
       "                  0             1\n",
       "count  11948.000000  11948.000000\n",
       "mean       0.538986      0.461014\n",
       "std        0.026344      0.026344\n",
       "min        0.306083      0.342384\n",
       "25%        0.520563      0.447343\n",
       "50%        0.535124      0.464876\n",
       "75%        0.552657      0.479437\n",
       "max        0.657616      0.693917"
      ]
     },
     "execution_count": 40,
     "metadata": {},
     "output_type": "execute_result"
    }
   ],
   "source": [
    "attack_dataset[attack_dataset.label == 0][[0,1]].describe()"
   ]
  },
  {
   "cell_type": "code",
   "execution_count": 41,
   "id": "dc3b83f3-587a-4bd5-a176-c147dca2c3c1",
   "metadata": {},
   "outputs": [
    {
     "data": {
      "text/html": [
       "<div>\n",
       "<style scoped>\n",
       "    .dataframe tbody tr th:only-of-type {\n",
       "        vertical-align: middle;\n",
       "    }\n",
       "\n",
       "    .dataframe tbody tr th {\n",
       "        vertical-align: top;\n",
       "    }\n",
       "\n",
       "    .dataframe thead th {\n",
       "        text-align: right;\n",
       "    }\n",
       "</style>\n",
       "<table border=\"1\" class=\"dataframe\">\n",
       "  <thead>\n",
       "    <tr style=\"text-align: right;\">\n",
       "      <th></th>\n",
       "      <th>0</th>\n",
       "      <th>1</th>\n",
       "    </tr>\n",
       "  </thead>\n",
       "  <tbody>\n",
       "    <tr>\n",
       "      <th>count</th>\n",
       "      <td>11916.000000</td>\n",
       "      <td>11916.000000</td>\n",
       "    </tr>\n",
       "    <tr>\n",
       "      <th>mean</th>\n",
       "      <td>0.428226</td>\n",
       "      <td>0.571774</td>\n",
       "    </tr>\n",
       "    <tr>\n",
       "      <th>std</th>\n",
       "      <td>0.057591</td>\n",
       "      <td>0.057591</td>\n",
       "    </tr>\n",
       "    <tr>\n",
       "      <th>min</th>\n",
       "      <td>0.236076</td>\n",
       "      <td>0.457911</td>\n",
       "    </tr>\n",
       "    <tr>\n",
       "      <th>25%</th>\n",
       "      <td>0.403088</td>\n",
       "      <td>0.520225</td>\n",
       "    </tr>\n",
       "    <tr>\n",
       "      <th>50%</th>\n",
       "      <td>0.436135</td>\n",
       "      <td>0.563865</td>\n",
       "    </tr>\n",
       "    <tr>\n",
       "      <th>75%</th>\n",
       "      <td>0.479775</td>\n",
       "      <td>0.596912</td>\n",
       "    </tr>\n",
       "    <tr>\n",
       "      <th>max</th>\n",
       "      <td>0.542089</td>\n",
       "      <td>0.763924</td>\n",
       "    </tr>\n",
       "  </tbody>\n",
       "</table>\n",
       "</div>"
      ],
      "text/plain": [
       "                  0             1\n",
       "count  11916.000000  11916.000000\n",
       "mean       0.428226      0.571774\n",
       "std        0.057591      0.057591\n",
       "min        0.236076      0.457911\n",
       "25%        0.403088      0.520225\n",
       "50%        0.436135      0.563865\n",
       "75%        0.479775      0.596912\n",
       "max        0.542089      0.763924"
      ]
     },
     "execution_count": 41,
     "metadata": {},
     "output_type": "execute_result"
    }
   ],
   "source": [
    "attack_dataset[attack_dataset.label == 1][[0,1]].describe()"
   ]
  },
  {
   "cell_type": "code",
   "execution_count": 42,
   "id": "e30801f0-aea8-434c-af24-2c15939ec9f7",
   "metadata": {},
   "outputs": [],
   "source": [
    "attack_dataset_ins = attack_dataset[attack_dataset.inout == 'in']#.drop('inout', axis=1)\n",
    "attack_dataset_outs = attack_dataset[attack_dataset.inout == 'out']#.drop('inout', axis=1)"
   ]
  },
  {
   "cell_type": "code",
   "execution_count": 43,
   "id": "1a066f58-9311-4f8b-922f-a13fdb252c96",
   "metadata": {},
   "outputs": [],
   "source": [
    "int_df = pd.merge(attack_dataset_ins, attack_dataset_outs, how ='inner', on =[0, 1])"
   ]
  },
  {
   "cell_type": "markdown",
   "id": "40186f0e-3404-4e01-b129-d231d5fbe1da",
   "metadata": {},
   "source": [
    "**These probability distributions appear both with the label in and out in the attack dataset**"
   ]
  },
  {
   "cell_type": "code",
   "execution_count": 44,
   "id": "354dce1c-561f-4a82-ba76-ddb7869a2518",
   "metadata": {},
   "outputs": [
    {
     "data": {
      "text/html": [
       "<div>\n",
       "<style scoped>\n",
       "    .dataframe tbody tr th:only-of-type {\n",
       "        vertical-align: middle;\n",
       "    }\n",
       "\n",
       "    .dataframe tbody tr th {\n",
       "        vertical-align: top;\n",
       "    }\n",
       "\n",
       "    .dataframe thead th {\n",
       "        text-align: right;\n",
       "    }\n",
       "</style>\n",
       "<table border=\"1\" class=\"dataframe\">\n",
       "  <thead>\n",
       "    <tr style=\"text-align: right;\">\n",
       "      <th></th>\n",
       "      <th>0</th>\n",
       "      <th>1</th>\n",
       "      <th>label_x</th>\n",
       "      <th>inout_x</th>\n",
       "      <th>label_y</th>\n",
       "      <th>inout_y</th>\n",
       "    </tr>\n",
       "  </thead>\n",
       "  <tbody>\n",
       "    <tr>\n",
       "      <th>0</th>\n",
       "      <td>0.471677</td>\n",
       "      <td>0.528323</td>\n",
       "      <td>1</td>\n",
       "      <td>in</td>\n",
       "      <td>1</td>\n",
       "      <td>out</td>\n",
       "    </tr>\n",
       "    <tr>\n",
       "      <th>1</th>\n",
       "      <td>0.499757</td>\n",
       "      <td>0.500243</td>\n",
       "      <td>1</td>\n",
       "      <td>in</td>\n",
       "      <td>1</td>\n",
       "      <td>out</td>\n",
       "    </tr>\n",
       "    <tr>\n",
       "      <th>2</th>\n",
       "      <td>0.499757</td>\n",
       "      <td>0.500243</td>\n",
       "      <td>1</td>\n",
       "      <td>in</td>\n",
       "      <td>1</td>\n",
       "      <td>out</td>\n",
       "    </tr>\n",
       "    <tr>\n",
       "      <th>3</th>\n",
       "      <td>0.310976</td>\n",
       "      <td>0.689024</td>\n",
       "      <td>1</td>\n",
       "      <td>in</td>\n",
       "      <td>1</td>\n",
       "      <td>out</td>\n",
       "    </tr>\n",
       "    <tr>\n",
       "      <th>4</th>\n",
       "      <td>0.568934</td>\n",
       "      <td>0.431066</td>\n",
       "      <td>0</td>\n",
       "      <td>in</td>\n",
       "      <td>0</td>\n",
       "      <td>out</td>\n",
       "    </tr>\n",
       "    <tr>\n",
       "      <th>...</th>\n",
       "      <td>...</td>\n",
       "      <td>...</td>\n",
       "      <td>...</td>\n",
       "      <td>...</td>\n",
       "      <td>...</td>\n",
       "      <td>...</td>\n",
       "    </tr>\n",
       "    <tr>\n",
       "      <th>291</th>\n",
       "      <td>0.494748</td>\n",
       "      <td>0.505252</td>\n",
       "      <td>1</td>\n",
       "      <td>in</td>\n",
       "      <td>1</td>\n",
       "      <td>out</td>\n",
       "    </tr>\n",
       "    <tr>\n",
       "      <th>292</th>\n",
       "      <td>0.422505</td>\n",
       "      <td>0.577495</td>\n",
       "      <td>1</td>\n",
       "      <td>in</td>\n",
       "      <td>1</td>\n",
       "      <td>out</td>\n",
       "    </tr>\n",
       "    <tr>\n",
       "      <th>293</th>\n",
       "      <td>0.382770</td>\n",
       "      <td>0.617230</td>\n",
       "      <td>1</td>\n",
       "      <td>in</td>\n",
       "      <td>1</td>\n",
       "      <td>out</td>\n",
       "    </tr>\n",
       "    <tr>\n",
       "      <th>294</th>\n",
       "      <td>0.434924</td>\n",
       "      <td>0.565076</td>\n",
       "      <td>1</td>\n",
       "      <td>in</td>\n",
       "      <td>1</td>\n",
       "      <td>out</td>\n",
       "    </tr>\n",
       "    <tr>\n",
       "      <th>295</th>\n",
       "      <td>0.482640</td>\n",
       "      <td>0.517360</td>\n",
       "      <td>1</td>\n",
       "      <td>in</td>\n",
       "      <td>1</td>\n",
       "      <td>out</td>\n",
       "    </tr>\n",
       "  </tbody>\n",
       "</table>\n",
       "<p>296 rows × 6 columns</p>\n",
       "</div>"
      ],
      "text/plain": [
       "            0         1  label_x inout_x  label_y inout_y\n",
       "0    0.471677  0.528323        1      in        1     out\n",
       "1    0.499757  0.500243        1      in        1     out\n",
       "2    0.499757  0.500243        1      in        1     out\n",
       "3    0.310976  0.689024        1      in        1     out\n",
       "4    0.568934  0.431066        0      in        0     out\n",
       "..        ...       ...      ...     ...      ...     ...\n",
       "291  0.494748  0.505252        1      in        1     out\n",
       "292  0.422505  0.577495        1      in        1     out\n",
       "293  0.382770  0.617230        1      in        1     out\n",
       "294  0.434924  0.565076        1      in        1     out\n",
       "295  0.482640  0.517360        1      in        1     out\n",
       "\n",
       "[296 rows x 6 columns]"
      ]
     },
     "execution_count": 44,
     "metadata": {},
     "output_type": "execute_result"
    }
   ],
   "source": [
    "int_df"
   ]
  },
  {
   "cell_type": "markdown",
   "id": "a2d41382-42f7-4b9c-ab47-80df0aec4c9c",
   "metadata": {},
   "source": [
    "Creating the attack model for each label using Adaboost"
   ]
  },
  {
   "cell_type": "code",
   "execution_count": 45,
   "id": "6bd0e0f6-fa47-4c81-874a-7d210d56a237",
   "metadata": {},
   "outputs": [],
   "source": [
    "from mlem.attack_models import AttackModelsManager, AttackStrategy\n",
    "attack_models = AttackModelsManager(\n",
    "        results_path=f\"DT/attack_adab_adult_dt\", model_creator_fn=create_adaboost, attack_strategy=AttackStrategy.ONE_PER_LABEL\n",
    ")"
   ]
  },
  {
   "cell_type": "code",
   "execution_count": 46,
   "id": "6ea81bc6-05be-4510-8839-12f46342ac84",
   "metadata": {},
   "outputs": [
    {
     "name": "stdout",
     "output_type": "stream",
     "text": [
      "[INFO OVERSAMPLE] Specified ratio too low: skipping oversampling\n",
      "[INFO OVERSAMPLE] Specified ratio too low: skipping oversampling\n"
     ]
    }
   ],
   "source": [
    "attack_models.fit(attack_dataset)"
   ]
  },
  {
   "cell_type": "markdown",
   "id": "500a515d-6178-46a4-bf1d-7a2b1e0444ea",
   "metadata": {},
   "source": [
    "Loading the attack models just created"
   ]
  },
  {
   "cell_type": "code",
   "execution_count": 47,
   "id": "ce92b005-4717-416e-abc5-633131eaaea0",
   "metadata": {},
   "outputs": [],
   "source": [
    "atk_0 = load_pickle_bz2(\"DT/attack_adab_adult_dt/0/model.pkl.bz2\")\n",
    "atk_1 = load_pickle_bz2(\"DT/attack_adab_adult_dt/1/model.pkl.bz2\")"
   ]
  },
  {
   "cell_type": "markdown",
   "id": "50cf11df-7c10-44d5-b834-1ca07fc34702",
   "metadata": {},
   "source": [
    "### Attack on the whole datasets of the BB"
   ]
  },
  {
   "cell_type": "code",
   "execution_count": 48,
   "id": "a14de9c6-9008-44aa-80a2-114877cf5681",
   "metadata": {},
   "outputs": [],
   "source": [
    "def attack_bb_dataset(atk_0, atk_1, bb_data=BLACK_BOX_DATA):\n",
    "    \n",
    "    # extracting train and test set of the BB\n",
    "    BB_TRAIN = pd.DataFrame(bb_data['x_train'])\n",
    "    BB_TRAIN['Target'] = bb_data['y_train']\n",
    "\n",
    "    BB_TEST = pd.DataFrame(bb_data['x_test'])\n",
    "    BB_TEST['Target'] = bb_data['y_test']\n",
    "    \n",
    "    # for each set separate the elements belonging to class 0 from the ones of class 1\n",
    "    BB_TEST_0 = BB_TEST[BB_TEST.Target == 0]\n",
    "    BB_TEST_1 = BB_TEST[BB_TEST.Target == 1]\n",
    "\n",
    "    BB_TRAIN_0 = BB_TRAIN[BB_TRAIN.Target == 0]\n",
    "    BB_TRAIN_1 = BB_TRAIN[BB_TRAIN.Target == 1]\n",
    "    \n",
    "    # use the black box to compute the probabilities\n",
    "    BB_TEST_0 = pd.DataFrame(BLACK_BOX.predict_proba(BB_TEST_0.drop('Target', axis=1).to_numpy()))\n",
    "    BB_TEST_1 = pd.DataFrame(BLACK_BOX.predict_proba(BB_TEST_1.drop('Target', axis=1).to_numpy()))\n",
    "    BB_TRAIN_0 = pd.DataFrame(BLACK_BOX.predict_proba(BB_TRAIN_0.drop('Target', axis=1).to_numpy()))\n",
    "    BB_TRAIN_1 = pd.DataFrame(BLACK_BOX.predict_proba(BB_TRAIN_1.drop('Target', axis=1).to_numpy()))\n",
    "    \n",
    "    # use the attack models\n",
    "    BB_TEST_0['ATK'] = atk_0.predict(BB_TEST_0.to_numpy())\n",
    "    BB_TEST_1['ATK'] = atk_1.predict(BB_TEST_1.to_numpy())\n",
    "    \n",
    "    BB_TRAIN_0['ATK'] = atk_0.predict(BB_TRAIN_0.to_numpy())\n",
    "    BB_TRAIN_1['ATK'] = atk_1.predict(BB_TRAIN_1.to_numpy())\n",
    "    \n",
    "    # assign the true label to each element so that it can be easily compared to the one from the attack model\n",
    "    BB_TEST_0['Y'] = 'out'\n",
    "    BB_TEST_1['Y'] = 'out'\n",
    "    BB_TRAIN_0['Y'] = 'in'\n",
    "    BB_TRAIN_1['Y'] = 'in'\n",
    "    \n",
    "    # concatenate everything\n",
    "    train_test = pd.concat([BB_TEST_0, BB_TEST_1,BB_TRAIN_0, BB_TRAIN_1])\n",
    "    return train_test"
   ]
  },
  {
   "cell_type": "code",
   "execution_count": 49,
   "id": "3a1bd9b2-fe59-41fb-9182-2a2a9a7f2b6d",
   "metadata": {},
   "outputs": [],
   "source": [
    "def attack_dataset(atk_0, atk_1, train, test):\n",
    "    \n",
    "    # extracting train and test set of the BB\n",
    "    BB_TRAIN = train\n",
    "\n",
    "    BB_TEST = test\n",
    "    \n",
    "    # for each set separate the elements belonging to class 0 from the ones of class 1\n",
    "    BB_TEST_0 = BB_TEST[BB_TEST.Target == 0]\n",
    "    BB_TEST_1 = BB_TEST[BB_TEST.Target == 1]\n",
    "\n",
    "    BB_TRAIN_0 = BB_TRAIN[BB_TRAIN.Target == 0]\n",
    "    BB_TRAIN_1 = BB_TRAIN[BB_TRAIN.Target == 1]\n",
    "    \n",
    "    # use the black box to compute the probabilities\n",
    "    BB_TEST_0 = pd.DataFrame(BLACK_BOX.predict_proba(BB_TEST_0.drop('Target', axis=1).to_numpy()))\n",
    "    BB_TEST_1 = pd.DataFrame(BLACK_BOX.predict_proba(BB_TEST_1.drop('Target', axis=1).to_numpy()))\n",
    "    BB_TRAIN_0 = pd.DataFrame(BLACK_BOX.predict_proba(BB_TRAIN_0.drop('Target', axis=1).to_numpy()))\n",
    "    BB_TRAIN_1 = pd.DataFrame(BLACK_BOX.predict_proba(BB_TRAIN_1.drop('Target', axis=1).to_numpy()))\n",
    "    \n",
    "    # use the attack models\n",
    "    BB_TEST_0['ATK'] = atk_0.predict(BB_TEST_0.to_numpy())\n",
    "    BB_TEST_1['ATK'] = atk_1.predict(BB_TEST_1.to_numpy())\n",
    "    \n",
    "    BB_TRAIN_0['ATK'] = atk_0.predict(BB_TRAIN_0.to_numpy())\n",
    "    BB_TRAIN_1['ATK'] = atk_1.predict(BB_TRAIN_1.to_numpy())\n",
    "    \n",
    "    # assign the true label to each element so that it can be easily compared to the one from the attack model\n",
    "    BB_TEST_0['Y'] = 'out'\n",
    "    BB_TEST_1['Y'] = 'out'\n",
    "    BB_TRAIN_0['Y'] = 'in'\n",
    "    BB_TRAIN_1['Y'] = 'in'\n",
    "    \n",
    "    # concatenate everything\n",
    "    train_test = pd.concat([BB_TEST_0, BB_TEST_1,BB_TRAIN_0, BB_TRAIN_1])\n",
    "    return train_test"
   ]
  },
  {
   "cell_type": "code",
   "execution_count": 50,
   "id": "fe900d1d-7dea-43bc-b5f6-ff399bb83bd1",
   "metadata": {},
   "outputs": [],
   "source": [
    "train_test = attack_bb_dataset(atk_0, atk_1)"
   ]
  },
  {
   "cell_type": "code",
   "execution_count": 51,
   "id": "5098861b-c2ea-4b9c-8794-823920a0526e",
   "metadata": {},
   "outputs": [
    {
     "name": "stdout",
     "output_type": "stream",
     "text": [
      "              precision    recall  f1-score   support\n",
      "\n",
      "          in       0.70      0.83      0.76     16877\n",
      "         out       0.32      0.18      0.23      7234\n",
      "\n",
      "    accuracy                           0.64     24111\n",
      "   macro avg       0.51      0.51      0.50     24111\n",
      "weighted avg       0.59      0.64      0.60     24111\n",
      "\n"
     ]
    }
   ],
   "source": [
    "print(classification_report(train_test.Y, train_test.ATK))"
   ]
  },
  {
   "cell_type": "code",
   "execution_count": 52,
   "id": "9c542365-dd46-4342-8f0d-8180c27ae84f",
   "metadata": {},
   "outputs": [
    {
     "data": {
      "text/plain": [
       "in     5935\n",
       "out    1299\n",
       "Name: ATK, dtype: int64"
      ]
     },
     "execution_count": 52,
     "metadata": {},
     "output_type": "execute_result"
    }
   ],
   "source": [
    "train_test[train_test.Y == 'out'].ATK.value_counts()"
   ]
  },
  {
   "cell_type": "code",
   "execution_count": 53,
   "id": "518f5a56-8a24-4b16-b1f2-522bdb951157",
   "metadata": {},
   "outputs": [
    {
     "name": "stderr",
     "output_type": "stream",
     "text": [
      "DEBUG:matplotlib.colorbar:locator: <matplotlib.ticker.AutoLocator object at 0x7fe947b1c190>\n"
     ]
    },
    {
     "data": {
      "text/plain": [
       "<sklearn.metrics._plot.confusion_matrix.ConfusionMatrixDisplay at 0x7fe8e26e4b50>"
      ]
     },
     "execution_count": 53,
     "metadata": {},
     "output_type": "execute_result"
    },
    {
     "data": {
      "image/png": "[encoded data removed]",
      "text/plain": [
       "<Figure size 432x288 with 2 Axes>"
      ]
     },
     "metadata": {
      "needs_background": "light"
     },
     "output_type": "display_data"
    }
   ],
   "source": [
    "ConfusionMatrixDisplay.from_predictions(train_test.Y, train_test.ATK, cmap='inferno')"
   ]
  },
  {
   "cell_type": "markdown",
   "id": "e9f3d369-d8f1-4685-b2ec-45f364d282bf",
   "metadata": {},
   "source": [
    "Let's see the behavior on the points closest to the instance used to create the neighborhood"
   ]
  },
  {
   "cell_type": "code",
   "execution_count": 54,
   "id": "018ac933-a15a-4041-9974-75fce1da1bad",
   "metadata": {},
   "outputs": [],
   "source": [
    "import scipy.spatial.distance as distance"
   ]
  },
  {
   "cell_type": "markdown",
   "id": "3f44384b-56ff-4ef7-8f33-fd60f980bb7d",
   "metadata": {},
   "source": [
    "The distance column contains the distance from the point used to generate the neighborhood"
   ]
  },
  {
   "cell_type": "code",
   "execution_count": 55,
   "id": "cbb01742-587e-4e3f-ae26-cb9304501906",
   "metadata": {},
   "outputs": [],
   "source": [
    "BB_DATA_TR = pd.DataFrame(BLACK_BOX_DATA['x_train'])\n",
    "BB_DATA_TR['Target'] = BLACK_BOX_DATA['y_train']\n",
    "BB_DATA_TR['Distance'] = distance.cdist(BLACK_BOX_DATA['x_train'], [X], metric=\"euclidean\")\n",
    "\n",
    "BB_DATA_TE = pd.DataFrame(BLACK_BOX_DATA['x_test'])\n",
    "BB_DATA_TE['Target'] = BLACK_BOX_DATA['y_test']\n",
    "BB_DATA_TE['Distance'] = distance.cdist(BLACK_BOX_DATA['x_test'], [X], metric=\"euclidean\")"
   ]
  },
  {
   "cell_type": "code",
   "execution_count": 56,
   "id": "d95230af-58e7-4ee2-917c-041cce95211d",
   "metadata": {},
   "outputs": [
    {
     "data": {
      "text/plain": [
       "count    16877.000000\n",
       "mean         2.501770\n",
       "std          1.457291\n",
       "min          0.085012\n",
       "25%          1.649780\n",
       "50%          2.275654\n",
       "75%          3.035977\n",
       "max         14.413855\n",
       "Name: Distance, dtype: float64"
      ]
     },
     "execution_count": 56,
     "metadata": {},
     "output_type": "execute_result"
    }
   ],
   "source": [
    "BB_DATA_TR.Distance.describe()"
   ]
  },
  {
   "cell_type": "code",
   "execution_count": 57,
   "id": "e44068fe-976a-4749-9d55-b99ed123f583",
   "metadata": {},
   "outputs": [
    {
     "data": {
      "text/plain": [
       "count    7234.000000\n",
       "mean        2.496813\n",
       "std         1.418222\n",
       "min         0.000000\n",
       "25%         1.648631\n",
       "50%         2.278651\n",
       "75%         3.053983\n",
       "max        14.435124\n",
       "Name: Distance, dtype: float64"
      ]
     },
     "execution_count": 57,
     "metadata": {},
     "output_type": "execute_result"
    }
   ],
   "source": [
    "BB_DATA_TE.Distance.describe()"
   ]
  },
  {
   "cell_type": "code",
   "execution_count": 58,
   "id": "c55fd3bc-a982-4b7b-9145-33a9c608a3dd",
   "metadata": {},
   "outputs": [
    {
     "name": "stdout",
     "output_type": "stream",
     "text": [
      "len(BB_DATA_TR[BB_DATA_TR.Distance < 2.5])=9824\n",
      "len(BB_DATA_TE[BB_DATA_TE.Distance < 3])=5349\n"
     ]
    }
   ],
   "source": [
    "print(f\"{len(BB_DATA_TR[BB_DATA_TR.Distance < 2.5])=}\")\n",
    "print(f\"{len(BB_DATA_TE[BB_DATA_TE.Distance < 3])=}\")"
   ]
  },
  {
   "cell_type": "code",
   "execution_count": 59,
   "id": "8c73c0aa-a6e1-4301-910b-eabfa429567a",
   "metadata": {},
   "outputs": [
    {
     "data": {
      "text/plain": [
       "0    0.846397\n",
       "1    0.153603\n",
       "Name: Target, dtype: float64"
      ]
     },
     "execution_count": 59,
     "metadata": {},
     "output_type": "execute_result"
    }
   ],
   "source": [
    "BB_DATA_TR[BB_DATA_TR.Distance < 2.5].Target.value_counts(normalize=True)"
   ]
  },
  {
   "cell_type": "code",
   "execution_count": 60,
   "id": "0d841da8-36ab-4b6e-aae7-08c3dba17fba",
   "metadata": {},
   "outputs": [
    {
     "data": {
      "text/plain": [
       "0    0.810058\n",
       "1    0.189942\n",
       "Name: Target, dtype: float64"
      ]
     },
     "execution_count": 60,
     "metadata": {},
     "output_type": "execute_result"
    }
   ],
   "source": [
    "BB_DATA_TE[BB_DATA_TE.Distance < 3].Target.value_counts(normalize=True)"
   ]
  },
  {
   "cell_type": "markdown",
   "id": "f7fd6577-8944-4328-9d2c-411b2bd23e12",
   "metadata": {},
   "source": [
    "Creating the dataset with the closest points"
   ]
  },
  {
   "cell_type": "code",
   "execution_count": 61,
   "id": "4c95b7ab-895f-4a7b-b5d7-2d021b97929d",
   "metadata": {},
   "outputs": [],
   "source": [
    "BB_TRAIN = BB_DATA_TR[BB_DATA_TR.Distance < 2.5].drop('Distance', axis=1)\n",
    "BB_TEST = BB_DATA_TE[BB_DATA_TE.Distance < 3].drop('Distance', axis=1)"
   ]
  },
  {
   "cell_type": "code",
   "execution_count": 62,
   "id": "daf331ff-c888-4670-a47e-963a7191447e",
   "metadata": {},
   "outputs": [],
   "source": [
    "train_test_close = attack_dataset(atk_0, atk_1, BB_TRAIN, BB_TEST)"
   ]
  },
  {
   "cell_type": "code",
   "execution_count": 63,
   "id": "20b5e44e-e4a3-4ae3-ae71-c80c835c6694",
   "metadata": {},
   "outputs": [
    {
     "name": "stdout",
     "output_type": "stream",
     "text": [
      "              precision    recall  f1-score   support\n",
      "\n",
      "          in       0.66      0.86      0.74      9824\n",
      "         out       0.40      0.17      0.24      5349\n",
      "\n",
      "    accuracy                           0.62     15173\n",
      "   macro avg       0.53      0.51      0.49     15173\n",
      "weighted avg       0.56      0.62      0.56     15173\n",
      "\n"
     ]
    }
   ],
   "source": [
    "print(classification_report(train_test_close.Y, train_test_close.ATK))"
   ]
  },
  {
   "cell_type": "code",
   "execution_count": 64,
   "id": "362d457f-2682-41c1-b372-bd78515a4bf0",
   "metadata": {},
   "outputs": [
    {
     "data": {
      "text/plain": [
       "in     5935\n",
       "out    1299\n",
       "Name: ATK, dtype: int64"
      ]
     },
     "execution_count": 64,
     "metadata": {},
     "output_type": "execute_result"
    }
   ],
   "source": [
    "train_test[train_test.Y == 'out'].ATK.value_counts()"
   ]
  },
  {
   "cell_type": "code",
   "execution_count": 65,
   "id": "daf50cf3-086e-4e8f-98c1-c223c10635fe",
   "metadata": {},
   "outputs": [
    {
     "name": "stderr",
     "output_type": "stream",
     "text": [
      "DEBUG:matplotlib.colorbar:locator: <matplotlib.ticker.AutoLocator object at 0x7fe946a07910>\n"
     ]
    },
    {
     "data": {
      "text/plain": [
       "<sklearn.metrics._plot.confusion_matrix.ConfusionMatrixDisplay at 0x7fe947ab3f10>"
      ]
     },
     "execution_count": 65,
     "metadata": {},
     "output_type": "execute_result"
    },
    {
     "data": {
      "image/png": "[encoded data removed]",
      "text/plain": [
       "<Figure size 432x288 with 2 Axes>"
      ]
     },
     "metadata": {
      "needs_background": "light"
     },
     "output_type": "display_data"
    }
   ],
   "source": [
    "ConfusionMatrixDisplay.from_predictions(train_test_close.Y, train_test_close.ATK, cmap='inferno')"
   ]
  },
  {
   "cell_type": "markdown",
   "id": "d51b48ec-d113-4b8f-9317-f22af47bb27f",
   "metadata": {},
   "source": [
    "Creating dataset with points closer that 1"
   ]
  },
  {
   "cell_type": "code",
   "execution_count": 66,
   "id": "578f5dcf-3fe3-43c6-bb2e-349e10f1d5b3",
   "metadata": {},
   "outputs": [
    {
     "name": "stdout",
     "output_type": "stream",
     "text": [
      "len(BB_DATA_TR[BB_DATA_TR.Distance < 1])=1352\n",
      "len(BB_DATA_TE[BB_DATA_TE.Distance < 1])=597\n"
     ]
    }
   ],
   "source": [
    "print(f\"{len(BB_DATA_TR[BB_DATA_TR.Distance < 1])=}\")\n",
    "print(f\"{len(BB_DATA_TE[BB_DATA_TE.Distance < 1])=}\")"
   ]
  },
  {
   "cell_type": "code",
   "execution_count": 67,
   "id": "b884e9e9-968b-4e03-8a62-9f42fd7498d0",
   "metadata": {},
   "outputs": [],
   "source": [
    "BB_TRAIN = BB_DATA_TR[BB_DATA_TR.Distance < 1].drop('Distance', axis=1)\n",
    "BB_TEST = BB_DATA_TE[BB_DATA_TE.Distance < 1].drop('Distance', axis=1)"
   ]
  },
  {
   "cell_type": "code",
   "execution_count": 68,
   "id": "3e38cfcf-08dd-417b-8c73-50af42faa861",
   "metadata": {},
   "outputs": [],
   "source": [
    "train_test_closer_1 = attack_dataset(atk_0, atk_1, BB_TRAIN, BB_TEST)"
   ]
  },
  {
   "cell_type": "code",
   "execution_count": 69,
   "id": "15e8f482-8e1d-45e9-8a1b-f6771a4aabde",
   "metadata": {},
   "outputs": [
    {
     "name": "stdout",
     "output_type": "stream",
     "text": [
      "              precision    recall  f1-score   support\n",
      "\n",
      "          in       0.69      0.98      0.81      1352\n",
      "         out       0.33      0.03      0.05       597\n",
      "\n",
      "    accuracy                           0.69      1949\n",
      "   macro avg       0.51      0.50      0.43      1949\n",
      "weighted avg       0.58      0.69      0.58      1949\n",
      "\n"
     ]
    }
   ],
   "source": [
    "print(classification_report(train_test_closer_1.Y, train_test_closer_1.ATK))"
   ]
  },
  {
   "cell_type": "code",
   "execution_count": 70,
   "id": "4e3c3ad4-8922-4b69-a1c4-d8b55087aadd",
   "metadata": {},
   "outputs": [
    {
     "data": {
      "text/plain": [
       "in     582\n",
       "out     15\n",
       "Name: ATK, dtype: int64"
      ]
     },
     "execution_count": 70,
     "metadata": {},
     "output_type": "execute_result"
    }
   ],
   "source": [
    "train_test_closer_1[train_test_closer_1.Y == 'out'].ATK.value_counts()"
   ]
  },
  {
   "cell_type": "code",
   "execution_count": 71,
   "id": "1370d624-2b70-42a4-8c52-a6dda0f97d70",
   "metadata": {},
   "outputs": [
    {
     "name": "stderr",
     "output_type": "stream",
     "text": [
      "DEBUG:matplotlib.colorbar:locator: <matplotlib.ticker.AutoLocator object at 0x7fe9469b13a0>\n"
     ]
    },
    {
     "data": {
      "text/plain": [
       "<sklearn.metrics._plot.confusion_matrix.ConfusionMatrixDisplay at 0x7fe947aa8850>"
      ]
     },
     "execution_count": 71,
     "metadata": {},
     "output_type": "execute_result"
    },
    {
     "data": {
      "image/png": "[encoded data removed]",
      "text/plain": [
       "<Figure size 432x288 with 2 Axes>"
      ]
     },
     "metadata": {
      "needs_background": "light"
     },
     "output_type": "display_data"
    }
   ],
   "source": [
    "ConfusionMatrixDisplay.from_predictions(train_test_closer_1.Y, train_test_closer_1.ATK, cmap='inferno')"
   ]
  },
  {
   "cell_type": "markdown",
   "id": "6a9ff762-f3d0-4116-8e82-c3d3318b42e6",
   "metadata": {},
   "source": [
    "### with a nn instead of Adaboost"
   ]
  },
  {
   "cell_type": "code",
   "execution_count": 72,
   "id": "252dbd13-3243-47a4-85c3-cba1015191aa",
   "metadata": {},
   "outputs": [],
   "source": [
    "import logging\n",
    "logging.disable('DEBUG')"
   ]
  },
  {
   "cell_type": "code",
   "execution_count": 73,
   "id": "dd56dfd5-6c7e-4b80-8e32-a34b646cd97b",
   "metadata": {},
   "outputs": [],
   "source": [
    "from mlem.utilities import create_nn_model_keras\n",
    "\n",
    "path=\"DT/shadow_nn_adult_dt\"\n",
    "\n",
    "shadow_models = ShadowModelsManager(\n",
    "        n_models=4,\n",
    "        results_path=f\"{path}/shadow\",\n",
    "        test_size=0.5,\n",
    "        random_state=123,\n",
    "        model_creator_fn=create_nn_model_keras,\n",
    "        categorical_mask=CATEGORICAL_FEATURES_MASK\n",
    "    )"
   ]
  },
  {
   "cell_type": "markdown",
   "id": "ee9cd8dc-29c8-49f6-9897-0170e47636e6",
   "metadata": {},
   "source": [
    "Fitting 4 shadow models on the data"
   ]
  },
  {
   "cell_type": "code",
   "execution_count": 74,
   "id": "0b0999d9-ad4a-4d2e-8c82-7f8166dd8a64",
   "metadata": {},
   "outputs": [
    {
     "name": "stderr",
     "output_type": "stream",
     "text": [
      "2022-10-04 13:11:27.411492: E tensorflow/stream_executor/cuda/cuda_driver.cc:271] failed call to cuInit: CUDA_ERROR_COMPAT_NOT_SUPPORTED_ON_DEVICE: forward compatibility was attempted on non supported HW\n",
      "2022-10-04 13:11:27.411545: I tensorflow/stream_executor/cuda/cuda_diagnostics.cc:169] retrieving CUDA diagnostic information for host: pop-os\n",
      "2022-10-04 13:11:27.411551: I tensorflow/stream_executor/cuda/cuda_diagnostics.cc:176] hostname: pop-os\n",
      "2022-10-04 13:11:27.411727: I tensorflow/stream_executor/cuda/cuda_diagnostics.cc:200] libcuda reported version is: NOT_FOUND: was unable to find libcuda.so DSO loaded into this program\n",
      "2022-10-04 13:11:27.411751: I tensorflow/stream_executor/cuda/cuda_diagnostics.cc:204] kernel reported version is: 510.85.2\n",
      "2022-10-04 13:11:27.412378: I tensorflow/core/platform/cpu_feature_guard.cc:151] This TensorFlow binary is optimized with oneAPI Deep Neural Network Library (oneDNN) to use the following CPU instructions in performance-critical operations:  AVX2 FMA\n",
      "To enable them in other operations, rebuild TensorFlow with the appropriate compiler flags.\n"
     ]
    },
    {
     "name": "stdout",
     "output_type": "stream",
     "text": [
      "Epoch 1/20\n",
      "84/84 [==============================] - 0s 2ms/step - loss: 0.5970 - accuracy: 0.6197 - val_loss: 0.4975 - val_accuracy: 0.8127\n",
      "Epoch 2/20\n",
      "84/84 [==============================] - 0s 702us/step - loss: 0.3833 - accuracy: 0.8478 - val_loss: 0.3195 - val_accuracy: 0.8629\n",
      "Epoch 3/20\n",
      "84/84 [==============================] - 0s 717us/step - loss: 0.2460 - accuracy: 0.9096 - val_loss: 0.2332 - val_accuracy: 0.9097\n",
      "Epoch 4/20\n",
      "84/84 [==============================] - 0s 711us/step - loss: 0.1744 - accuracy: 0.9423 - val_loss: 0.1766 - val_accuracy: 0.9298\n",
      "Epoch 5/20\n",
      "84/84 [==============================] - 0s 720us/step - loss: 0.1383 - accuracy: 0.9501 - val_loss: 0.1476 - val_accuracy: 0.9431\n",
      "Epoch 6/20\n",
      "84/84 [==============================] - 0s 710us/step - loss: 0.1153 - accuracy: 0.9579 - val_loss: 0.1356 - val_accuracy: 0.9498\n",
      "Epoch 7/20\n",
      "84/84 [==============================] - 0s 718us/step - loss: 0.1031 - accuracy: 0.9613 - val_loss: 0.1417 - val_accuracy: 0.9465\n",
      "Epoch 8/20\n",
      "84/84 [==============================] - 0s 704us/step - loss: 0.0948 - accuracy: 0.9650 - val_loss: 0.1323 - val_accuracy: 0.9431\n",
      "Epoch 9/20\n",
      "84/84 [==============================] - 0s 720us/step - loss: 0.0879 - accuracy: 0.9635 - val_loss: 0.1028 - val_accuracy: 0.9666\n",
      "Epoch 10/20\n",
      "84/84 [==============================] - 0s 727us/step - loss: 0.0847 - accuracy: 0.9676 - val_loss: 0.1166 - val_accuracy: 0.9498\n",
      "Epoch 11/20\n",
      "84/84 [==============================] - 0s 711us/step - loss: 0.0797 - accuracy: 0.9695 - val_loss: 0.1262 - val_accuracy: 0.9498\n",
      "Epoch 12/20\n",
      "84/84 [==============================] - 0s 714us/step - loss: 0.0768 - accuracy: 0.9695 - val_loss: 0.1080 - val_accuracy: 0.9465\n",
      "Epoch 13/20\n",
      "84/84 [==============================] - 0s 699us/step - loss: 0.0756 - accuracy: 0.9732 - val_loss: 0.1227 - val_accuracy: 0.9465\n",
      "Epoch 14/20\n",
      "84/84 [==============================] - 0s 699us/step - loss: 0.0718 - accuracy: 0.9717 - val_loss: 0.1057 - val_accuracy: 0.9498\n",
      "Epoch 15/20\n",
      "84/84 [==============================] - 0s 694us/step - loss: 0.0701 - accuracy: 0.9732 - val_loss: 0.0960 - val_accuracy: 0.9565\n",
      "Epoch 16/20\n",
      "84/84 [==============================] - 0s 712us/step - loss: 0.0664 - accuracy: 0.9766 - val_loss: 0.0933 - val_accuracy: 0.9699\n",
      "Epoch 17/20\n",
      "84/84 [==============================] - 0s 685us/step - loss: 0.0702 - accuracy: 0.9710 - val_loss: 0.0920 - val_accuracy: 0.9632\n",
      "Epoch 18/20\n",
      "84/84 [==============================] - 0s 673us/step - loss: 0.0647 - accuracy: 0.9721 - val_loss: 0.0991 - val_accuracy: 0.9699\n",
      "Epoch 19/20\n",
      "84/84 [==============================] - 0s 702us/step - loss: 0.0665 - accuracy: 0.9732 - val_loss: 0.0897 - val_accuracy: 0.9666\n",
      "Epoch 20/20\n",
      "84/84 [==============================] - 0s 713us/step - loss: 0.0638 - accuracy: 0.9751 - val_loss: 0.1022 - val_accuracy: 0.9532\n"
     ]
    },
    {
     "name": "stderr",
     "output_type": "stream",
     "text": [
      "2022-10-04 13:11:29.561188: W tensorflow/python/util/util.cc:368] Sets are not currently considered sequences, but this may change in the future, so consider avoiding using them.\n",
      "INFO:tensorflow:Assets written to: ram://9e845ae6-6462-4aac-81c1-4e05c0a9595f/assets\n"
     ]
    },
    {
     "name": "stdout",
     "output_type": "stream",
     "text": [
      "Epoch 1/20\n",
      "84/84 [==============================] - 0s 2ms/step - loss: 0.6014 - accuracy: 0.7756 - val_loss: 0.4942 - val_accuracy: 0.8294\n",
      "Epoch 2/20\n",
      "84/84 [==============================] - 0s 728us/step - loss: 0.3838 - accuracy: 0.8679 - val_loss: 0.3160 - val_accuracy: 0.8629\n",
      "Epoch 3/20\n",
      "84/84 [==============================] - 0s 733us/step - loss: 0.2434 - accuracy: 0.9066 - val_loss: 0.2293 - val_accuracy: 0.9097\n",
      "Epoch 4/20\n",
      "84/84 [==============================] - 0s 714us/step - loss: 0.1753 - accuracy: 0.9341 - val_loss: 0.1753 - val_accuracy: 0.9431\n",
      "Epoch 5/20\n",
      "84/84 [==============================] - 0s 734us/step - loss: 0.1417 - accuracy: 0.9475 - val_loss: 0.1496 - val_accuracy: 0.9465\n",
      "Epoch 6/20\n",
      "84/84 [==============================] - 0s 707us/step - loss: 0.1141 - accuracy: 0.9643 - val_loss: 0.1338 - val_accuracy: 0.9431\n",
      "Epoch 7/20\n",
      "84/84 [==============================] - 0s 696us/step - loss: 0.1023 - accuracy: 0.9658 - val_loss: 0.1304 - val_accuracy: 0.9465\n",
      "Epoch 8/20\n",
      "84/84 [==============================] - 0s 730us/step - loss: 0.0948 - accuracy: 0.9635 - val_loss: 0.1277 - val_accuracy: 0.9431\n",
      "Epoch 9/20\n",
      "84/84 [==============================] - 0s 736us/step - loss: 0.0838 - accuracy: 0.9702 - val_loss: 0.1267 - val_accuracy: 0.9532\n",
      "Epoch 10/20\n",
      "84/84 [==============================] - 0s 780us/step - loss: 0.0831 - accuracy: 0.9706 - val_loss: 0.1212 - val_accuracy: 0.9465\n",
      "Epoch 11/20\n",
      "84/84 [==============================] - 0s 704us/step - loss: 0.0774 - accuracy: 0.9713 - val_loss: 0.1142 - val_accuracy: 0.9532\n",
      "Epoch 12/20\n",
      "84/84 [==============================] - 0s 718us/step - loss: 0.0769 - accuracy: 0.9699 - val_loss: 0.1199 - val_accuracy: 0.9498\n",
      "Epoch 13/20\n",
      "84/84 [==============================] - 0s 729us/step - loss: 0.0755 - accuracy: 0.9713 - val_loss: 0.1183 - val_accuracy: 0.9498\n",
      "Epoch 14/20\n",
      "84/84 [==============================] - 0s 703us/step - loss: 0.0740 - accuracy: 0.9706 - val_loss: 0.1240 - val_accuracy: 0.9431\n",
      "Epoch 15/20\n",
      "84/84 [==============================] - 0s 709us/step - loss: 0.0690 - accuracy: 0.9754 - val_loss: 0.1178 - val_accuracy: 0.9498\n",
      "Epoch 16/20\n",
      "84/84 [==============================] - 0s 718us/step - loss: 0.0667 - accuracy: 0.9762 - val_loss: 0.1172 - val_accuracy: 0.9532\n",
      "Epoch 17/20\n",
      "84/84 [==============================] - 0s 721us/step - loss: 0.0724 - accuracy: 0.9706 - val_loss: 0.1180 - val_accuracy: 0.9565\n",
      "Epoch 18/20\n",
      "84/84 [==============================] - 0s 709us/step - loss: 0.0687 - accuracy: 0.9732 - val_loss: 0.1170 - val_accuracy: 0.9565\n",
      "Epoch 19/20\n",
      "84/84 [==============================] - 0s 692us/step - loss: 0.0635 - accuracy: 0.9751 - val_loss: 0.1209 - val_accuracy: 0.9498\n",
      "Epoch 20/20\n",
      "84/84 [==============================] - 0s 735us/step - loss: 0.0620 - accuracy: 0.9773 - val_loss: 0.1127 - val_accuracy: 0.9599\n"
     ]
    },
    {
     "name": "stderr",
     "output_type": "stream",
     "text": [
      "INFO:tensorflow:Assets written to: ram://5630c00a-645f-492d-a419-2d0c75e7fb4f/assets\n"
     ]
    },
    {
     "name": "stdout",
     "output_type": "stream",
     "text": [
      "Epoch 1/20\n",
      "84/84 [==============================] - 0s 2ms/step - loss: 0.5502 - accuracy: 0.7581 - val_loss: 0.4368 - val_accuracy: 0.7926\n",
      "Epoch 2/20\n",
      "84/84 [==============================] - 0s 699us/step - loss: 0.3239 - accuracy: 0.8656 - val_loss: 0.3169 - val_accuracy: 0.8528\n",
      "Epoch 3/20\n",
      "84/84 [==============================] - 0s 712us/step - loss: 0.2281 - accuracy: 0.9066 - val_loss: 0.2323 - val_accuracy: 0.8863\n",
      "Epoch 4/20\n",
      "84/84 [==============================] - 0s 725us/step - loss: 0.1715 - accuracy: 0.9349 - val_loss: 0.1813 - val_accuracy: 0.9365\n",
      "Epoch 5/20\n",
      "84/84 [==============================] - 0s 733us/step - loss: 0.1384 - accuracy: 0.9479 - val_loss: 0.1565 - val_accuracy: 0.9365\n",
      "Epoch 6/20\n",
      "84/84 [==============================] - 0s 704us/step - loss: 0.1226 - accuracy: 0.9565 - val_loss: 0.1436 - val_accuracy: 0.9498\n",
      "Epoch 7/20\n",
      "84/84 [==============================] - 0s 711us/step - loss: 0.1121 - accuracy: 0.9579 - val_loss: 0.1274 - val_accuracy: 0.9599\n",
      "Epoch 8/20\n",
      "84/84 [==============================] - 0s 707us/step - loss: 0.1025 - accuracy: 0.9609 - val_loss: 0.1275 - val_accuracy: 0.9431\n",
      "Epoch 9/20\n",
      "84/84 [==============================] - 0s 691us/step - loss: 0.0989 - accuracy: 0.9598 - val_loss: 0.1154 - val_accuracy: 0.9599\n",
      "Epoch 10/20\n",
      "84/84 [==============================] - 0s 697us/step - loss: 0.0937 - accuracy: 0.9635 - val_loss: 0.1128 - val_accuracy: 0.9565\n",
      "Epoch 11/20\n",
      "84/84 [==============================] - 0s 705us/step - loss: 0.0896 - accuracy: 0.9635 - val_loss: 0.1096 - val_accuracy: 0.9632\n",
      "Epoch 12/20\n",
      "84/84 [==============================] - 0s 727us/step - loss: 0.0874 - accuracy: 0.9639 - val_loss: 0.1137 - val_accuracy: 0.9532\n",
      "Epoch 13/20\n",
      "84/84 [==============================] - 0s 797us/step - loss: 0.0876 - accuracy: 0.9650 - val_loss: 0.1029 - val_accuracy: 0.9666\n",
      "Epoch 14/20\n",
      "84/84 [==============================] - 0s 679us/step - loss: 0.0853 - accuracy: 0.9654 - val_loss: 0.1014 - val_accuracy: 0.9565\n",
      "Epoch 15/20\n",
      "84/84 [==============================] - 0s 707us/step - loss: 0.0854 - accuracy: 0.9650 - val_loss: 0.0967 - val_accuracy: 0.9632\n",
      "Epoch 16/20\n",
      "84/84 [==============================] - 0s 704us/step - loss: 0.0824 - accuracy: 0.9669 - val_loss: 0.0974 - val_accuracy: 0.9632\n",
      "Epoch 17/20\n",
      "84/84 [==============================] - 0s 693us/step - loss: 0.0793 - accuracy: 0.9695 - val_loss: 0.1029 - val_accuracy: 0.9632\n",
      "Epoch 18/20\n",
      "84/84 [==============================] - 0s 703us/step - loss: 0.0776 - accuracy: 0.9684 - val_loss: 0.0956 - val_accuracy: 0.9599\n",
      "Epoch 19/20\n",
      "84/84 [==============================] - 0s 700us/step - loss: 0.0784 - accuracy: 0.9676 - val_loss: 0.0980 - val_accuracy: 0.9666\n",
      "Epoch 20/20\n",
      "84/84 [==============================] - 0s 866us/step - loss: 0.0797 - accuracy: 0.9706 - val_loss: 0.0973 - val_accuracy: 0.9632\n"
     ]
    },
    {
     "name": "stderr",
     "output_type": "stream",
     "text": [
      "INFO:tensorflow:Assets written to: ram://67f71f78-e7ec-4271-bf0a-8507c0209468/assets\n"
     ]
    },
    {
     "name": "stdout",
     "output_type": "stream",
     "text": [
      "Epoch 1/20\n",
      "84/84 [==============================] - 0s 2ms/step - loss: 0.6047 - accuracy: 0.6677 - val_loss: 0.4203 - val_accuracy: 0.8495\n",
      "Epoch 2/20\n",
      "84/84 [==============================] - 0s 705us/step - loss: 0.3367 - accuracy: 0.8701 - val_loss: 0.2705 - val_accuracy: 0.8963\n",
      "Epoch 3/20\n",
      "84/84 [==============================] - 0s 717us/step - loss: 0.2344 - accuracy: 0.9070 - val_loss: 0.2022 - val_accuracy: 0.9164\n",
      "Epoch 4/20\n",
      "84/84 [==============================] - 0s 751us/step - loss: 0.1822 - accuracy: 0.9241 - val_loss: 0.1676 - val_accuracy: 0.9365\n",
      "Epoch 5/20\n",
      "84/84 [==============================] - 0s 758us/step - loss: 0.1491 - accuracy: 0.9427 - val_loss: 0.1325 - val_accuracy: 0.9532\n",
      "Epoch 6/20\n",
      "84/84 [==============================] - 0s 744us/step - loss: 0.1259 - accuracy: 0.9524 - val_loss: 0.1253 - val_accuracy: 0.9498\n",
      "Epoch 7/20\n",
      "84/84 [==============================] - 0s 749us/step - loss: 0.1145 - accuracy: 0.9565 - val_loss: 0.1068 - val_accuracy: 0.9565\n",
      "Epoch 8/20\n",
      "84/84 [==============================] - 0s 755us/step - loss: 0.1052 - accuracy: 0.9598 - val_loss: 0.0947 - val_accuracy: 0.9632\n",
      "Epoch 9/20\n",
      "84/84 [==============================] - 0s 729us/step - loss: 0.1011 - accuracy: 0.9598 - val_loss: 0.0821 - val_accuracy: 0.9666\n",
      "Epoch 10/20\n",
      "84/84 [==============================] - 0s 703us/step - loss: 0.0920 - accuracy: 0.9658 - val_loss: 0.0767 - val_accuracy: 0.9666\n",
      "Epoch 11/20\n",
      "84/84 [==============================] - 0s 706us/step - loss: 0.0904 - accuracy: 0.9639 - val_loss: 0.0835 - val_accuracy: 0.9732\n",
      "Epoch 12/20\n",
      "84/84 [==============================] - 0s 716us/step - loss: 0.0869 - accuracy: 0.9680 - val_loss: 0.0829 - val_accuracy: 0.9699\n",
      "Epoch 13/20\n",
      "84/84 [==============================] - 0s 723us/step - loss: 0.0792 - accuracy: 0.9725 - val_loss: 0.0767 - val_accuracy: 0.9732\n",
      "Epoch 14/20\n",
      "84/84 [==============================] - 0s 708us/step - loss: 0.0793 - accuracy: 0.9691 - val_loss: 0.0803 - val_accuracy: 0.9699\n",
      "Epoch 15/20\n",
      "84/84 [==============================] - 0s 709us/step - loss: 0.0765 - accuracy: 0.9706 - val_loss: 0.0787 - val_accuracy: 0.9732\n",
      "Epoch 16/20\n",
      "84/84 [==============================] - 0s 740us/step - loss: 0.0750 - accuracy: 0.9721 - val_loss: 0.0764 - val_accuracy: 0.9666\n",
      "Epoch 17/20\n",
      "84/84 [==============================] - 0s 751us/step - loss: 0.0752 - accuracy: 0.9721 - val_loss: 0.0798 - val_accuracy: 0.9666\n",
      "Epoch 18/20\n",
      "84/84 [==============================] - 0s 750us/step - loss: 0.0709 - accuracy: 0.9751 - val_loss: 0.0879 - val_accuracy: 0.9666\n",
      "Epoch 19/20\n",
      "84/84 [==============================] - 0s 756us/step - loss: 0.0698 - accuracy: 0.9762 - val_loss: 0.0923 - val_accuracy: 0.9565\n",
      "Epoch 20/20\n",
      "84/84 [==============================] - 0s 757us/step - loss: 0.0669 - accuracy: 0.9777 - val_loss: 0.0729 - val_accuracy: 0.9666\n"
     ]
    },
    {
     "name": "stderr",
     "output_type": "stream",
     "text": [
      "INFO:tensorflow:Assets written to: ram://274d79b2-caf4-4a40-b93c-745dabbc76e9/assets\n"
     ]
    }
   ],
   "source": [
    "shadow_models.fit(x_attack, y_attack)"
   ]
  },
  {
   "cell_type": "code",
   "execution_count": 75,
   "id": "66d7e911-6763-42bf-b357-60d36e3aa6ac",
   "metadata": {},
   "outputs": [
    {
     "data": {
      "text/html": [
       "<div>\n",
       "<style scoped>\n",
       "    .dataframe tbody tr th:only-of-type {\n",
       "        vertical-align: middle;\n",
       "    }\n",
       "\n",
       "    .dataframe tbody tr th {\n",
       "        vertical-align: top;\n",
       "    }\n",
       "\n",
       "    .dataframe thead th {\n",
       "        text-align: right;\n",
       "    }\n",
       "</style>\n",
       "<table border=\"1\" class=\"dataframe\">\n",
       "  <thead>\n",
       "    <tr style=\"text-align: right;\">\n",
       "      <th></th>\n",
       "      <th>0</th>\n",
       "      <th>1</th>\n",
       "      <th>label</th>\n",
       "      <th>inout</th>\n",
       "    </tr>\n",
       "  </thead>\n",
       "  <tbody>\n",
       "    <tr>\n",
       "      <th>0</th>\n",
       "      <td>0.000780</td>\n",
       "      <td>0.999220</td>\n",
       "      <td>1</td>\n",
       "      <td>in</td>\n",
       "    </tr>\n",
       "    <tr>\n",
       "      <th>1</th>\n",
       "      <td>0.000000</td>\n",
       "      <td>1.000000</td>\n",
       "      <td>1</td>\n",
       "      <td>in</td>\n",
       "    </tr>\n",
       "    <tr>\n",
       "      <th>2</th>\n",
       "      <td>0.999518</td>\n",
       "      <td>0.000482</td>\n",
       "      <td>0</td>\n",
       "      <td>in</td>\n",
       "    </tr>\n",
       "    <tr>\n",
       "      <th>3</th>\n",
       "      <td>0.000000</td>\n",
       "      <td>1.000000</td>\n",
       "      <td>1</td>\n",
       "      <td>in</td>\n",
       "    </tr>\n",
       "    <tr>\n",
       "      <th>4</th>\n",
       "      <td>0.767535</td>\n",
       "      <td>0.232465</td>\n",
       "      <td>1</td>\n",
       "      <td>in</td>\n",
       "    </tr>\n",
       "    <tr>\n",
       "      <th>...</th>\n",
       "      <td>...</td>\n",
       "      <td>...</td>\n",
       "      <td>...</td>\n",
       "      <td>...</td>\n",
       "    </tr>\n",
       "    <tr>\n",
       "      <th>2975</th>\n",
       "      <td>0.000001</td>\n",
       "      <td>0.999999</td>\n",
       "      <td>1</td>\n",
       "      <td>out</td>\n",
       "    </tr>\n",
       "    <tr>\n",
       "      <th>2976</th>\n",
       "      <td>0.996194</td>\n",
       "      <td>0.003806</td>\n",
       "      <td>0</td>\n",
       "      <td>out</td>\n",
       "    </tr>\n",
       "    <tr>\n",
       "      <th>2977</th>\n",
       "      <td>0.999926</td>\n",
       "      <td>0.000074</td>\n",
       "      <td>0</td>\n",
       "      <td>out</td>\n",
       "    </tr>\n",
       "    <tr>\n",
       "      <th>2978</th>\n",
       "      <td>0.000000</td>\n",
       "      <td>1.000000</td>\n",
       "      <td>1</td>\n",
       "      <td>out</td>\n",
       "    </tr>\n",
       "    <tr>\n",
       "      <th>2979</th>\n",
       "      <td>0.959602</td>\n",
       "      <td>0.040398</td>\n",
       "      <td>0</td>\n",
       "      <td>out</td>\n",
       "    </tr>\n",
       "  </tbody>\n",
       "</table>\n",
       "<p>23864 rows × 4 columns</p>\n",
       "</div>"
      ],
      "text/plain": [
       "             0         1  label inout\n",
       "0     0.000780  0.999220      1    in\n",
       "1     0.000000  1.000000      1    in\n",
       "2     0.999518  0.000482      0    in\n",
       "3     0.000000  1.000000      1    in\n",
       "4     0.767535  0.232465      1    in\n",
       "...        ...       ...    ...   ...\n",
       "2975  0.000001  0.999999      1   out\n",
       "2976  0.996194  0.003806      0   out\n",
       "2977  0.999926  0.000074      0   out\n",
       "2978  0.000000  1.000000      1   out\n",
       "2979  0.959602  0.040398      0   out\n",
       "\n",
       "[23864 rows x 4 columns]"
      ]
     },
     "execution_count": 75,
     "metadata": {},
     "output_type": "execute_result"
    }
   ],
   "source": [
    "attack_dataset_nn = shadow_models.get_attack_dataset()\n",
    "attack_dataset_nn"
   ]
  },
  {
   "cell_type": "code",
   "execution_count": 76,
   "id": "7c7d9d87-9720-4a04-a9c7-02926cf26ffc",
   "metadata": {},
   "outputs": [
    {
     "data": {
      "text/html": [
       "<div>\n",
       "<style scoped>\n",
       "    .dataframe tbody tr th:only-of-type {\n",
       "        vertical-align: middle;\n",
       "    }\n",
       "\n",
       "    .dataframe tbody tr th {\n",
       "        vertical-align: top;\n",
       "    }\n",
       "\n",
       "    .dataframe thead th {\n",
       "        text-align: right;\n",
       "    }\n",
       "</style>\n",
       "<table border=\"1\" class=\"dataframe\">\n",
       "  <thead>\n",
       "    <tr style=\"text-align: right;\">\n",
       "      <th></th>\n",
       "      <th>0</th>\n",
       "      <th>1</th>\n",
       "    </tr>\n",
       "  </thead>\n",
       "  <tbody>\n",
       "    <tr>\n",
       "      <th>count</th>\n",
       "      <td>11948.000000</td>\n",
       "      <td>1.194800e+04</td>\n",
       "    </tr>\n",
       "    <tr>\n",
       "      <th>mean</th>\n",
       "      <td>0.956883</td>\n",
       "      <td>4.311667e-02</td>\n",
       "    </tr>\n",
       "    <tr>\n",
       "      <th>std</th>\n",
       "      <td>0.146051</td>\n",
       "      <td>1.460507e-01</td>\n",
       "    </tr>\n",
       "    <tr>\n",
       "      <th>min</th>\n",
       "      <td>0.000013</td>\n",
       "      <td>9.649531e-10</td>\n",
       "    </tr>\n",
       "    <tr>\n",
       "      <th>25%</th>\n",
       "      <td>0.995372</td>\n",
       "      <td>3.148127e-05</td>\n",
       "    </tr>\n",
       "    <tr>\n",
       "      <th>50%</th>\n",
       "      <td>0.999571</td>\n",
       "      <td>4.292876e-04</td>\n",
       "    </tr>\n",
       "    <tr>\n",
       "      <th>75%</th>\n",
       "      <td>0.999969</td>\n",
       "      <td>4.627958e-03</td>\n",
       "    </tr>\n",
       "    <tr>\n",
       "      <th>max</th>\n",
       "      <td>1.000000</td>\n",
       "      <td>9.999868e-01</td>\n",
       "    </tr>\n",
       "  </tbody>\n",
       "</table>\n",
       "</div>"
      ],
      "text/plain": [
       "                  0             1\n",
       "count  11948.000000  1.194800e+04\n",
       "mean       0.956883  4.311667e-02\n",
       "std        0.146051  1.460507e-01\n",
       "min        0.000013  9.649531e-10\n",
       "25%        0.995372  3.148127e-05\n",
       "50%        0.999571  4.292876e-04\n",
       "75%        0.999969  4.627958e-03\n",
       "max        1.000000  9.999868e-01"
      ]
     },
     "execution_count": 76,
     "metadata": {},
     "output_type": "execute_result"
    }
   ],
   "source": [
    "attack_dataset_nn[attack_dataset_nn.label == 0][[0,1]].describe()"
   ]
  },
  {
   "cell_type": "code",
   "execution_count": 77,
   "id": "216fc28c-7993-4ef2-970a-89e31f6b9e12",
   "metadata": {},
   "outputs": [
    {
     "data": {
      "text/html": [
       "<div>\n",
       "<style scoped>\n",
       "    .dataframe tbody tr th:only-of-type {\n",
       "        vertical-align: middle;\n",
       "    }\n",
       "\n",
       "    .dataframe tbody tr th {\n",
       "        vertical-align: top;\n",
       "    }\n",
       "\n",
       "    .dataframe thead th {\n",
       "        text-align: right;\n",
       "    }\n",
       "</style>\n",
       "<table border=\"1\" class=\"dataframe\">\n",
       "  <thead>\n",
       "    <tr style=\"text-align: right;\">\n",
       "      <th></th>\n",
       "      <th>0</th>\n",
       "      <th>1</th>\n",
       "    </tr>\n",
       "  </thead>\n",
       "  <tbody>\n",
       "    <tr>\n",
       "      <th>count</th>\n",
       "      <td>11916.000000</td>\n",
       "      <td>11916.000000</td>\n",
       "    </tr>\n",
       "    <tr>\n",
       "      <th>mean</th>\n",
       "      <td>0.055569</td>\n",
       "      <td>0.944431</td>\n",
       "    </tr>\n",
       "    <tr>\n",
       "      <th>std</th>\n",
       "      <td>0.153494</td>\n",
       "      <td>0.153494</td>\n",
       "    </tr>\n",
       "    <tr>\n",
       "      <th>min</th>\n",
       "      <td>0.000000</td>\n",
       "      <td>0.000579</td>\n",
       "    </tr>\n",
       "    <tr>\n",
       "      <th>25%</th>\n",
       "      <td>0.000000</td>\n",
       "      <td>0.979782</td>\n",
       "    </tr>\n",
       "    <tr>\n",
       "      <th>50%</th>\n",
       "      <td>0.000025</td>\n",
       "      <td>0.999975</td>\n",
       "    </tr>\n",
       "    <tr>\n",
       "      <th>75%</th>\n",
       "      <td>0.020218</td>\n",
       "      <td>1.000000</td>\n",
       "    </tr>\n",
       "    <tr>\n",
       "      <th>max</th>\n",
       "      <td>0.999421</td>\n",
       "      <td>1.000000</td>\n",
       "    </tr>\n",
       "  </tbody>\n",
       "</table>\n",
       "</div>"
      ],
      "text/plain": [
       "                  0             1\n",
       "count  11916.000000  11916.000000\n",
       "mean       0.055569      0.944431\n",
       "std        0.153494      0.153494\n",
       "min        0.000000      0.000579\n",
       "25%        0.000000      0.979782\n",
       "50%        0.000025      0.999975\n",
       "75%        0.020218      1.000000\n",
       "max        0.999421      1.000000"
      ]
     },
     "execution_count": 77,
     "metadata": {},
     "output_type": "execute_result"
    }
   ],
   "source": [
    "attack_dataset_nn[attack_dataset_nn.label == 1][[0,1]].describe()"
   ]
  },
  {
   "cell_type": "code",
   "execution_count": 78,
   "id": "ea6a9de5-d4f0-40e2-b09c-d7e6a5c38f58",
   "metadata": {},
   "outputs": [
    {
     "data": {
      "text/html": [
       "<div>\n",
       "<style scoped>\n",
       "    .dataframe tbody tr th:only-of-type {\n",
       "        vertical-align: middle;\n",
       "    }\n",
       "\n",
       "    .dataframe tbody tr th {\n",
       "        vertical-align: top;\n",
       "    }\n",
       "\n",
       "    .dataframe thead th {\n",
       "        text-align: right;\n",
       "    }\n",
       "</style>\n",
       "<table border=\"1\" class=\"dataframe\">\n",
       "  <thead>\n",
       "    <tr style=\"text-align: right;\">\n",
       "      <th></th>\n",
       "      <th>0</th>\n",
       "      <th>1</th>\n",
       "    </tr>\n",
       "  </thead>\n",
       "  <tbody>\n",
       "    <tr>\n",
       "      <th>count</th>\n",
       "      <td>11944.000000</td>\n",
       "      <td>1.194400e+04</td>\n",
       "    </tr>\n",
       "    <tr>\n",
       "      <th>mean</th>\n",
       "      <td>0.506566</td>\n",
       "      <td>4.934343e-01</td>\n",
       "    </tr>\n",
       "    <tr>\n",
       "      <th>std</th>\n",
       "      <td>0.475997</td>\n",
       "      <td>4.759973e-01</td>\n",
       "    </tr>\n",
       "    <tr>\n",
       "      <th>min</th>\n",
       "      <td>0.000000</td>\n",
       "      <td>1.671891e-09</td>\n",
       "    </tr>\n",
       "    <tr>\n",
       "      <th>25%</th>\n",
       "      <td>0.000021</td>\n",
       "      <td>4.266724e-04</td>\n",
       "    </tr>\n",
       "    <tr>\n",
       "      <th>50%</th>\n",
       "      <td>0.516689</td>\n",
       "      <td>4.833106e-01</td>\n",
       "    </tr>\n",
       "    <tr>\n",
       "      <th>75%</th>\n",
       "      <td>0.999573</td>\n",
       "      <td>9.999789e-01</td>\n",
       "    </tr>\n",
       "    <tr>\n",
       "      <th>max</th>\n",
       "      <td>1.000000</td>\n",
       "      <td>1.000000e+00</td>\n",
       "    </tr>\n",
       "  </tbody>\n",
       "</table>\n",
       "</div>"
      ],
      "text/plain": [
       "                  0             1\n",
       "count  11944.000000  1.194400e+04\n",
       "mean       0.506566  4.934343e-01\n",
       "std        0.475997  4.759973e-01\n",
       "min        0.000000  1.671891e-09\n",
       "25%        0.000021  4.266724e-04\n",
       "50%        0.516689  4.833106e-01\n",
       "75%        0.999573  9.999789e-01\n",
       "max        1.000000  1.000000e+00"
      ]
     },
     "execution_count": 78,
     "metadata": {},
     "output_type": "execute_result"
    }
   ],
   "source": [
    "attack_dataset_nn[attack_dataset_nn.inout == 'in'][[0,1]].describe()"
   ]
  },
  {
   "cell_type": "code",
   "execution_count": 79,
   "id": "54586c20-3eef-467a-b787-8a1b1da83b61",
   "metadata": {},
   "outputs": [
    {
     "data": {
      "text/html": [
       "<div>\n",
       "<style scoped>\n",
       "    .dataframe tbody tr th:only-of-type {\n",
       "        vertical-align: middle;\n",
       "    }\n",
       "\n",
       "    .dataframe tbody tr th {\n",
       "        vertical-align: top;\n",
       "    }\n",
       "\n",
       "    .dataframe thead th {\n",
       "        text-align: right;\n",
       "    }\n",
       "</style>\n",
       "<table border=\"1\" class=\"dataframe\">\n",
       "  <thead>\n",
       "    <tr style=\"text-align: right;\">\n",
       "      <th></th>\n",
       "      <th>0</th>\n",
       "      <th>1</th>\n",
       "    </tr>\n",
       "  </thead>\n",
       "  <tbody>\n",
       "    <tr>\n",
       "      <th>count</th>\n",
       "      <td>11920.000000</td>\n",
       "      <td>1.192000e+04</td>\n",
       "    </tr>\n",
       "    <tr>\n",
       "      <th>mean</th>\n",
       "      <td>0.507095</td>\n",
       "      <td>4.929046e-01</td>\n",
       "    </tr>\n",
       "    <tr>\n",
       "      <th>std</th>\n",
       "      <td>0.473846</td>\n",
       "      <td>4.738459e-01</td>\n",
       "    </tr>\n",
       "    <tr>\n",
       "      <th>min</th>\n",
       "      <td>0.000000</td>\n",
       "      <td>9.649531e-10</td>\n",
       "    </tr>\n",
       "    <tr>\n",
       "      <th>25%</th>\n",
       "      <td>0.000028</td>\n",
       "      <td>4.273281e-04</td>\n",
       "    </tr>\n",
       "    <tr>\n",
       "      <th>50%</th>\n",
       "      <td>0.542552</td>\n",
       "      <td>4.574482e-01</td>\n",
       "    </tr>\n",
       "    <tr>\n",
       "      <th>75%</th>\n",
       "      <td>0.999573</td>\n",
       "      <td>9.999718e-01</td>\n",
       "    </tr>\n",
       "    <tr>\n",
       "      <th>max</th>\n",
       "      <td>1.000000</td>\n",
       "      <td>1.000000e+00</td>\n",
       "    </tr>\n",
       "  </tbody>\n",
       "</table>\n",
       "</div>"
      ],
      "text/plain": [
       "                  0             1\n",
       "count  11920.000000  1.192000e+04\n",
       "mean       0.507095  4.929046e-01\n",
       "std        0.473846  4.738459e-01\n",
       "min        0.000000  9.649531e-10\n",
       "25%        0.000028  4.273281e-04\n",
       "50%        0.542552  4.574482e-01\n",
       "75%        0.999573  9.999718e-01\n",
       "max        1.000000  1.000000e+00"
      ]
     },
     "execution_count": 79,
     "metadata": {},
     "output_type": "execute_result"
    }
   ],
   "source": [
    "attack_dataset_nn[attack_dataset_nn.inout == 'out'][[0,1]].describe()"
   ]
  },
  {
   "cell_type": "code",
   "execution_count": 80,
   "id": "242c2379-ffc0-41b5-9fee-c8b5b7a0bc61",
   "metadata": {},
   "outputs": [],
   "source": [
    "attack_dataset_ins_nn = attack_dataset_nn[attack_dataset_nn.inout == 'in']#.drop('inout', axis=1)\n",
    "attack_dataset_outs_nn = attack_dataset_nn[attack_dataset_nn.inout == 'out']#.drop('inout', axis=1)"
   ]
  },
  {
   "cell_type": "markdown",
   "id": "b7dd066a-e955-4647-a07a-2822d469ffeb",
   "metadata": {},
   "source": [
    "Creating the attack models for each label **using Adaboost**"
   ]
  },
  {
   "cell_type": "code",
   "execution_count": 81,
   "id": "4ed41c5f-4a4b-4dc8-9bc7-bf7048352bff",
   "metadata": {},
   "outputs": [],
   "source": [
    "from mlem.attack_models import AttackModelsManager, AttackStrategy\n",
    "from mlem.utilities import create_adaboost\n",
    "\n",
    "attack_models = AttackModelsManager(\n",
    "        results_path=f\"DT/attack_nn_adult_dt\", model_creator_fn=create_adaboost, attack_strategy=AttackStrategy.ONE_PER_LABEL\n",
    ")"
   ]
  },
  {
   "cell_type": "code",
   "execution_count": 82,
   "id": "83d94e9d-6da3-4a91-a94d-fd6dd929d5b4",
   "metadata": {},
   "outputs": [
    {
     "data": {
      "text/html": [
       "<div>\n",
       "<style scoped>\n",
       "    .dataframe tbody tr th:only-of-type {\n",
       "        vertical-align: middle;\n",
       "    }\n",
       "\n",
       "    .dataframe tbody tr th {\n",
       "        vertical-align: top;\n",
       "    }\n",
       "\n",
       "    .dataframe thead th {\n",
       "        text-align: right;\n",
       "    }\n",
       "</style>\n",
       "<table border=\"1\" class=\"dataframe\">\n",
       "  <thead>\n",
       "    <tr style=\"text-align: right;\">\n",
       "      <th></th>\n",
       "      <th>0</th>\n",
       "      <th>1</th>\n",
       "      <th>label</th>\n",
       "      <th>inout</th>\n",
       "    </tr>\n",
       "  </thead>\n",
       "  <tbody>\n",
       "    <tr>\n",
       "      <th>0</th>\n",
       "      <td>0.000780</td>\n",
       "      <td>0.999220</td>\n",
       "      <td>1</td>\n",
       "      <td>in</td>\n",
       "    </tr>\n",
       "    <tr>\n",
       "      <th>1</th>\n",
       "      <td>0.000000</td>\n",
       "      <td>1.000000</td>\n",
       "      <td>1</td>\n",
       "      <td>in</td>\n",
       "    </tr>\n",
       "    <tr>\n",
       "      <th>2</th>\n",
       "      <td>0.999518</td>\n",
       "      <td>0.000482</td>\n",
       "      <td>0</td>\n",
       "      <td>in</td>\n",
       "    </tr>\n",
       "    <tr>\n",
       "      <th>3</th>\n",
       "      <td>0.000000</td>\n",
       "      <td>1.000000</td>\n",
       "      <td>1</td>\n",
       "      <td>in</td>\n",
       "    </tr>\n",
       "    <tr>\n",
       "      <th>4</th>\n",
       "      <td>0.767535</td>\n",
       "      <td>0.232465</td>\n",
       "      <td>1</td>\n",
       "      <td>in</td>\n",
       "    </tr>\n",
       "    <tr>\n",
       "      <th>...</th>\n",
       "      <td>...</td>\n",
       "      <td>...</td>\n",
       "      <td>...</td>\n",
       "      <td>...</td>\n",
       "    </tr>\n",
       "    <tr>\n",
       "      <th>2975</th>\n",
       "      <td>0.000001</td>\n",
       "      <td>0.999999</td>\n",
       "      <td>1</td>\n",
       "      <td>out</td>\n",
       "    </tr>\n",
       "    <tr>\n",
       "      <th>2976</th>\n",
       "      <td>0.996194</td>\n",
       "      <td>0.003806</td>\n",
       "      <td>0</td>\n",
       "      <td>out</td>\n",
       "    </tr>\n",
       "    <tr>\n",
       "      <th>2977</th>\n",
       "      <td>0.999926</td>\n",
       "      <td>0.000074</td>\n",
       "      <td>0</td>\n",
       "      <td>out</td>\n",
       "    </tr>\n",
       "    <tr>\n",
       "      <th>2978</th>\n",
       "      <td>0.000000</td>\n",
       "      <td>1.000000</td>\n",
       "      <td>1</td>\n",
       "      <td>out</td>\n",
       "    </tr>\n",
       "    <tr>\n",
       "      <th>2979</th>\n",
       "      <td>0.959602</td>\n",
       "      <td>0.040398</td>\n",
       "      <td>0</td>\n",
       "      <td>out</td>\n",
       "    </tr>\n",
       "  </tbody>\n",
       "</table>\n",
       "<p>23864 rows × 4 columns</p>\n",
       "</div>"
      ],
      "text/plain": [
       "             0         1  label inout\n",
       "0     0.000780  0.999220      1    in\n",
       "1     0.000000  1.000000      1    in\n",
       "2     0.999518  0.000482      0    in\n",
       "3     0.000000  1.000000      1    in\n",
       "4     0.767535  0.232465      1    in\n",
       "...        ...       ...    ...   ...\n",
       "2975  0.000001  0.999999      1   out\n",
       "2976  0.996194  0.003806      0   out\n",
       "2977  0.999926  0.000074      0   out\n",
       "2978  0.000000  1.000000      1   out\n",
       "2979  0.959602  0.040398      0   out\n",
       "\n",
       "[23864 rows x 4 columns]"
      ]
     },
     "execution_count": 82,
     "metadata": {},
     "output_type": "execute_result"
    }
   ],
   "source": [
    "attack_dataset_nn"
   ]
  },
  {
   "cell_type": "code",
   "execution_count": 83,
   "id": "fe52b6c1-6b40-42c5-bfbc-0bb9821ae885",
   "metadata": {},
   "outputs": [
    {
     "name": "stdout",
     "output_type": "stream",
     "text": [
      "[INFO OVERSAMPLE] Specified ratio too low: skipping oversampling\n",
      "[INFO OVERSAMPLE] Specified ratio too low: skipping oversampling\n"
     ]
    }
   ],
   "source": [
    "attack_models.fit(attack_dataset_nn)"
   ]
  },
  {
   "cell_type": "code",
   "execution_count": 84,
   "id": "918d2c06-4679-4990-a1a1-1d9e7789b50d",
   "metadata": {},
   "outputs": [],
   "source": [
    "atk_0 = load_pickle_bz2(\"DT/attack_nn_adult_dt/0/model.pkl.bz2\")\n",
    "atk_1 = load_pickle_bz2(\"DT/attack_nn_adult_dt/1/model.pkl.bz2\")"
   ]
  },
  {
   "cell_type": "markdown",
   "id": "4e53f6e3-48ba-490c-b0dd-acf66ab5ae3d",
   "metadata": {},
   "source": [
    "### Attack on the whole datasets of the BB"
   ]
  },
  {
   "cell_type": "code",
   "execution_count": 85,
   "id": "6bde91a0-945d-4097-b1f2-1e87193bab69",
   "metadata": {},
   "outputs": [],
   "source": [
    "train_test = attack_bb_dataset(atk_0, atk_1)"
   ]
  },
  {
   "cell_type": "code",
   "execution_count": 86,
   "id": "b9a4f0de-f08c-43ee-9cd9-702ab5c060eb",
   "metadata": {},
   "outputs": [
    {
     "name": "stdout",
     "output_type": "stream",
     "text": [
      "              precision    recall  f1-score   support\n",
      "\n",
      "          in       0.71      0.46      0.56     16877\n",
      "         out       0.31      0.55      0.39      7234\n",
      "\n",
      "    accuracy                           0.49     24111\n",
      "   macro avg       0.51      0.51      0.48     24111\n",
      "weighted avg       0.59      0.49      0.51     24111\n",
      "\n"
     ]
    }
   ],
   "source": [
    "print(classification_report(train_test.Y, train_test.ATK))"
   ]
  },
  {
   "cell_type": "code",
   "execution_count": 87,
   "id": "59278c54-b3e2-43a2-bac6-fa649e288355",
   "metadata": {},
   "outputs": [
    {
     "data": {
      "text/plain": [
       "<sklearn.metrics._plot.confusion_matrix.ConfusionMatrixDisplay at 0x7fe909bdd0a0>"
      ]
     },
     "execution_count": 87,
     "metadata": {},
     "output_type": "execute_result"
    },
    {
     "data": {
      "image/png": "[encoded data removed]",
      "text/plain": [
       "<Figure size 432x288 with 2 Axes>"
      ]
     },
     "metadata": {
      "needs_background": "light"
     },
     "output_type": "display_data"
    }
   ],
   "source": [
    "ConfusionMatrixDisplay.from_predictions(train_test.Y, train_test.ATK, cmap='inferno')"
   ]
  },
  {
   "cell_type": "code",
   "execution_count": 88,
   "id": "798c22ce-900e-4abe-b662-7701a02820b8",
   "metadata": {},
   "outputs": [
    {
     "data": {
      "text/plain": [
       "out    4009\n",
       "in     3225\n",
       "Name: ATK, dtype: int64"
      ]
     },
     "execution_count": 88,
     "metadata": {},
     "output_type": "execute_result"
    }
   ],
   "source": [
    "train_test[train_test.Y == 'out'].ATK.value_counts()"
   ]
  },
  {
   "cell_type": "markdown",
   "id": "6f366a22-1910-4e53-a2ea-e63edd0d2cc2",
   "metadata": {},
   "source": [
    "Let's see on the points closest to the instance used to create the neighborhood"
   ]
  },
  {
   "cell_type": "code",
   "execution_count": 89,
   "id": "07def4bf-b99a-4ffc-a0dd-8cd5a48aa097",
   "metadata": {},
   "outputs": [],
   "source": [
    "import scipy.spatial.distance as distance"
   ]
  },
  {
   "cell_type": "code",
   "execution_count": 90,
   "id": "1881bec5-8129-46f7-bcc2-b012615c75cc",
   "metadata": {},
   "outputs": [],
   "source": [
    "BB_DATA_TR = pd.DataFrame(BLACK_BOX_DATA['x_train'])\n",
    "BB_DATA_TR['Target'] = BLACK_BOX_DATA['y_train']\n",
    "BB_DATA_TR['Distance'] = distance.cdist(BLACK_BOX_DATA['x_train'], [X], metric=\"euclidean\")\n",
    "\n",
    "BB_DATA_TE = pd.DataFrame(BLACK_BOX_DATA['x_test'])\n",
    "BB_DATA_TE['Target'] = BLACK_BOX_DATA['y_test']\n",
    "BB_DATA_TE['Distance'] = distance.cdist(BLACK_BOX_DATA['x_test'], [X], metric=\"euclidean\")"
   ]
  },
  {
   "cell_type": "code",
   "execution_count": 91,
   "id": "3d87fd6b-5f74-4fdc-a93f-dc8c472c4ba2",
   "metadata": {},
   "outputs": [
    {
     "data": {
      "text/plain": [
       "count    16877.000000\n",
       "mean         2.501770\n",
       "std          1.457291\n",
       "min          0.085012\n",
       "25%          1.649780\n",
       "50%          2.275654\n",
       "75%          3.035977\n",
       "max         14.413855\n",
       "Name: Distance, dtype: float64"
      ]
     },
     "execution_count": 91,
     "metadata": {},
     "output_type": "execute_result"
    }
   ],
   "source": [
    "BB_DATA_TR.Distance.describe()"
   ]
  },
  {
   "cell_type": "code",
   "execution_count": 92,
   "id": "efe7cc79-b5cb-4946-a242-6c1f66db3b8a",
   "metadata": {},
   "outputs": [
    {
     "data": {
      "text/plain": [
       "count    7234.000000\n",
       "mean        2.496813\n",
       "std         1.418222\n",
       "min         0.000000\n",
       "25%         1.648631\n",
       "50%         2.278651\n",
       "75%         3.053983\n",
       "max        14.435124\n",
       "Name: Distance, dtype: float64"
      ]
     },
     "execution_count": 92,
     "metadata": {},
     "output_type": "execute_result"
    }
   ],
   "source": [
    "BB_DATA_TE.Distance.describe()"
   ]
  },
  {
   "cell_type": "code",
   "execution_count": 93,
   "id": "6d619da0-31fa-4e32-abc4-61edd86e44d5",
   "metadata": {},
   "outputs": [
    {
     "data": {
      "text/plain": [
       "0    0.846397\n",
       "1    0.153603\n",
       "Name: Target, dtype: float64"
      ]
     },
     "execution_count": 93,
     "metadata": {},
     "output_type": "execute_result"
    }
   ],
   "source": [
    "BB_DATA_TR[BB_DATA_TR.Distance < 2.5].Target.value_counts(normalize=True)"
   ]
  },
  {
   "cell_type": "code",
   "execution_count": 94,
   "id": "0765c67a-2775-42f2-9941-5ccb7369b046",
   "metadata": {},
   "outputs": [
    {
     "data": {
      "text/plain": [
       "0    0.810058\n",
       "1    0.189942\n",
       "Name: Target, dtype: float64"
      ]
     },
     "execution_count": 94,
     "metadata": {},
     "output_type": "execute_result"
    }
   ],
   "source": [
    "BB_DATA_TE[BB_DATA_TE.Distance < 3].Target.value_counts(normalize=True)"
   ]
  },
  {
   "cell_type": "markdown",
   "id": "82af665b-ca11-4df7-99b4-07ca03ca965b",
   "metadata": {},
   "source": [
    "Creating the dataset with the closest points"
   ]
  },
  {
   "cell_type": "code",
   "execution_count": 95,
   "id": "fc3bdd6b-a3f9-4fac-9952-640bf3f9a796",
   "metadata": {},
   "outputs": [],
   "source": [
    "BB_TRAIN = BB_DATA_TR[BB_DATA_TR.Distance < 2.5].drop('Distance', axis=1)\n",
    "BB_TEST = BB_DATA_TE[BB_DATA_TE.Distance < 3].drop('Distance', axis=1)"
   ]
  },
  {
   "cell_type": "code",
   "execution_count": 96,
   "id": "0cdc61d3-686a-45cf-8c26-39e367393b74",
   "metadata": {},
   "outputs": [],
   "source": [
    "train_test_close = attack_dataset(atk_0, atk_1, BB_TRAIN, BB_TEST)"
   ]
  },
  {
   "cell_type": "code",
   "execution_count": 97,
   "id": "9cf0318f-1a27-414d-890c-95ee2cc866bb",
   "metadata": {},
   "outputs": [
    {
     "name": "stdout",
     "output_type": "stream",
     "text": [
      "              precision    recall  f1-score   support\n",
      "\n",
      "          in       0.65      0.45      0.54      9824\n",
      "         out       0.36      0.56      0.44      5349\n",
      "\n",
      "    accuracy                           0.49     15173\n",
      "   macro avg       0.51      0.51      0.49     15173\n",
      "weighted avg       0.55      0.49      0.50     15173\n",
      "\n"
     ]
    }
   ],
   "source": [
    "print(classification_report(train_test_close.Y, train_test_close.ATK))"
   ]
  },
  {
   "cell_type": "code",
   "execution_count": 98,
   "id": "172664c1-de10-4f0a-8526-978ded938b16",
   "metadata": {},
   "outputs": [
    {
     "data": {
      "text/plain": [
       "out    2998\n",
       "in     2351\n",
       "Name: ATK, dtype: int64"
      ]
     },
     "execution_count": 98,
     "metadata": {},
     "output_type": "execute_result"
    }
   ],
   "source": [
    "train_test_close[train_test_close.Y == 'out'].ATK.value_counts()"
   ]
  },
  {
   "cell_type": "code",
   "execution_count": 99,
   "id": "50886d86-0706-44c6-a593-c066b10eb853",
   "metadata": {},
   "outputs": [
    {
     "data": {
      "text/plain": [
       "<sklearn.metrics._plot.confusion_matrix.ConfusionMatrixDisplay at 0x7fe9469e00a0>"
      ]
     },
     "execution_count": 99,
     "metadata": {},
     "output_type": "execute_result"
    },
    {
     "data": {
      "image/png": "[encoded data removed]",
      "text/plain": [
       "<Figure size 432x288 with 2 Axes>"
      ]
     },
     "metadata": {
      "needs_background": "light"
     },
     "output_type": "display_data"
    }
   ],
   "source": [
    "ConfusionMatrixDisplay.from_predictions(train_test_close.Y, train_test_close.ATK, cmap='inferno')"
   ]
  },
  {
   "cell_type": "markdown",
   "id": "c2687670-cc0a-44fd-b4db-dbd39d51e849",
   "metadata": {},
   "source": [
    "Creating dataset with points closer that 1"
   ]
  },
  {
   "cell_type": "code",
   "execution_count": 100,
   "id": "eaa57981-ada3-4295-bdee-550548fbea3d",
   "metadata": {},
   "outputs": [
    {
     "name": "stdout",
     "output_type": "stream",
     "text": [
      "len(BB_DATA_TR[BB_DATA_TR.Distance < 1])=1352\n",
      "len(BB_DATA_TE[BB_DATA_TE.Distance < 1])=597\n"
     ]
    }
   ],
   "source": [
    "print(f\"{len(BB_DATA_TR[BB_DATA_TR.Distance < 1])=}\")\n",
    "print(f\"{len(BB_DATA_TE[BB_DATA_TE.Distance < 1])=}\")"
   ]
  },
  {
   "cell_type": "code",
   "execution_count": 101,
   "id": "b5133172-f055-460a-beb3-4bf7d4bda36a",
   "metadata": {},
   "outputs": [],
   "source": [
    "BB_TRAIN = BB_DATA_TR[BB_DATA_TR.Distance < 1].drop('Distance', axis=1)\n",
    "BB_TEST = BB_DATA_TE[BB_DATA_TE.Distance < 1].drop('Distance', axis=1)"
   ]
  },
  {
   "cell_type": "code",
   "execution_count": 102,
   "id": "b6ee9bff-a18d-42f1-b198-fb58b9a0b14f",
   "metadata": {},
   "outputs": [],
   "source": [
    "train_test_closer_1 = attack_dataset(atk_0, atk_1, BB_TRAIN, BB_TEST)"
   ]
  },
  {
   "cell_type": "code",
   "execution_count": 103,
   "id": "336c0d67-a66b-436e-ac70-03503d111f4f",
   "metadata": {},
   "outputs": [
    {
     "name": "stdout",
     "output_type": "stream",
     "text": [
      "              precision    recall  f1-score   support\n",
      "\n",
      "          in       0.71      0.46      0.56     16877\n",
      "         out       0.31      0.55      0.39      7234\n",
      "\n",
      "    accuracy                           0.49     24111\n",
      "   macro avg       0.51      0.51      0.48     24111\n",
      "weighted avg       0.59      0.49      0.51     24111\n",
      "\n"
     ]
    }
   ],
   "source": [
    "print(classification_report(train_test.Y, train_test.ATK))"
   ]
  },
  {
   "cell_type": "code",
   "execution_count": 104,
   "id": "2a2d82dc-8dfd-4179-8412-f229470e50b4",
   "metadata": {},
   "outputs": [
    {
     "data": {
      "text/plain": [
       "out    4009\n",
       "in     3225\n",
       "Name: ATK, dtype: int64"
      ]
     },
     "execution_count": 104,
     "metadata": {},
     "output_type": "execute_result"
    }
   ],
   "source": [
    "train_test[train_test.Y == 'out'].ATK.value_counts()"
   ]
  },
  {
   "cell_type": "code",
   "execution_count": 105,
   "id": "b4071547-5dad-4bf2-8c1d-9bcdd164788a",
   "metadata": {},
   "outputs": [
    {
     "data": {
      "text/plain": [
       "<sklearn.metrics._plot.confusion_matrix.ConfusionMatrixDisplay at 0x7fe8e2b9ce50>"
      ]
     },
     "execution_count": 105,
     "metadata": {},
     "output_type": "execute_result"
    },
    {
     "data": {
      "image/png": "[encoded data removed]",
      "text/plain": [
       "<Figure size 432x288 with 2 Axes>"
      ]
     },
     "metadata": {
      "needs_background": "light"
     },
     "output_type": "display_data"
    }
   ],
   "source": [
    "ConfusionMatrixDisplay.from_predictions(train_test.Y, train_test.ATK, cmap='inferno')"
   ]
  },
  {
   "cell_type": "markdown",
   "id": "38804a9e-617c-40fd-bb1c-a613634a7b4a",
   "metadata": {},
   "source": [
    "# Attack on the whole dataset"
   ]
  },
  {
   "cell_type": "code",
   "execution_count": 106,
   "id": "9cbb23c6-ae67-4963-975a-15286e344be7",
   "metadata": {},
   "outputs": [],
   "source": [
    "x_atk_dataset = BLACK_BOX_DATA['x_test_clustered']\n",
    "y_atk_dataset = BLACK_BOX_DATA['y_test_clustered']"
   ]
  },
  {
   "cell_type": "code",
   "execution_count": 107,
   "id": "3c70e9fa-957f-4209-b856-3ba41f518992",
   "metadata": {},
   "outputs": [
    {
     "name": "stdout",
     "output_type": "stream",
     "text": [
      "len(x_atk_dataset)=48 len(y_atk_dataset)=48\n"
     ]
    }
   ],
   "source": [
    "print(f\"{len(x_atk_dataset)=} {len(y_atk_dataset)=}\")"
   ]
  },
  {
   "cell_type": "markdown",
   "id": "d0e303fc-8462-4d5b-8dbb-f84eeec2ff05",
   "metadata": {},
   "source": [
    "### Run the attack for each row"
   ]
  },
  {
   "cell_type": "code",
   "execution_count": 108,
   "id": "074ad23f-82d2-46e5-b29c-4d958584d084",
   "metadata": {},
   "outputs": [],
   "source": [
    "OUTPUT_ATTACK_FULL_FOLDER = Path(\"ADULT_ATTACK_DT_FULL\")\n",
    "OUTPUT_ATTACK_FULL_FOLDER.mkdir(exist_ok=True)"
   ]
  },
  {
   "cell_type": "markdown",
   "id": "4fc17ef2-2ae1-4db3-91f3-196e2874cd38",
   "metadata": {},
   "source": [
    "Generate the data for the attack using LIME and the black box and save it"
   ]
  },
  {
   "cell_type": "code",
   "execution_count": 109,
   "id": "35953e78-138a-4b19-899a-52b92be0c285",
   "metadata": {},
   "outputs": [
    {
     "name": "stdout",
     "output_type": "stream",
     "text": [
      "Generating data for row 0\n",
      "Generating data for row 1\n",
      "Generating data for row 2\n",
      "Generating data for row 3\n",
      "Generating data for row 4\n",
      "Generating data for row 5\n",
      "Generating data for row 6\n",
      "Generating data for row 7\n",
      "Generating data for row 8\n",
      "Generating data for row 9\n",
      "Generating data for row 10\n",
      "Generating data for row 11\n",
      "Generating data for row 12\n",
      "Generating data for row 13\n",
      "Generating data for row 14\n",
      "Generating data for row 15\n",
      "Generating data for row 16\n",
      "Generating data for row 17\n",
      "Generating data for row 18\n",
      "Generating data for row 19\n",
      "Generating data for row 20\n",
      "Generating data for row 21\n",
      "Generating data for row 22\n",
      "Generating data for row 23\n",
      "Generating data for row 24\n",
      "Generating data for row 25\n",
      "Generating data for row 26\n",
      "Generating data for row 27\n",
      "Generating data for row 28\n",
      "Generating data for row 29\n",
      "Generating data for row 30\n",
      "Generating data for row 31\n",
      "Generating data for row 32\n",
      "Generating data for row 33\n",
      "Generating data for row 34\n",
      "Generating data for row 35\n",
      "Generating data for row 36\n",
      "Generating data for row 37\n",
      "Generating data for row 38\n",
      "Generating data for row 39\n",
      "Generating data for row 40\n",
      "Generating data for row 41\n",
      "Generating data for row 42\n",
      "Generating data for row 43\n",
      "Generating data for row 44\n",
      "Generating data for row 45\n",
      "Generating data for row 46\n",
      "Generating data for row 47\n"
     ]
    }
   ],
   "source": [
    "for i, (x_atk, y_atk) in enumerate(zip(x_atk_dataset, y_atk_dataset)):\n",
    "    print(f\"Generating data for row {i}\")\n",
    "    path_ = OUTPUT_ATTACK_FULL_FOLDER / f\"{i}\"\n",
    "    path_.mkdir(exist_ok=True)\n",
    "    \n",
    "    balanced_dataset = generate_balanced_dataset(x_atk, 5000, BLACK_BOX, explainer, 20, True, verbose=False)\n",
    "    balanced_dataset.to_csv(path_ / \"lime_generated.csv\", index=False)"
   ]
  },
  {
   "cell_type": "markdown",
   "id": "5fb9691a-ff86-44da-91d6-6639eb65a571",
   "metadata": {},
   "source": [
    "Splitting the generated data in train/test and building the decision trees"
   ]
  },
  {
   "cell_type": "code",
   "execution_count": 110,
   "id": "bb73f85b-f292-4619-9646-707c9faaa39a",
   "metadata": {},
   "outputs": [
    {
     "name": "stdout",
     "output_type": "stream",
     "text": [
      "DT #0\n",
      "              precision    recall  f1-score   support\n",
      "\n",
      "           0       0.96      0.96      0.96       982\n",
      "           1       0.96      0.96      0.96       985\n",
      "\n",
      "    accuracy                           0.96      1967\n",
      "   macro avg       0.96      0.96      0.96      1967\n",
      "weighted avg       0.96      0.96      0.96      1967\n",
      "\n",
      "DT #1\n",
      "              precision    recall  f1-score   support\n",
      "\n",
      "           0       0.94      0.94      0.94       867\n",
      "           1       0.94      0.94      0.94       800\n",
      "\n",
      "    accuracy                           0.94      1667\n",
      "   macro avg       0.94      0.94      0.94      1667\n",
      "weighted avg       0.94      0.94      0.94      1667\n",
      "\n",
      "DT #2\n",
      "              precision    recall  f1-score   support\n",
      "\n",
      "           0       0.96      0.98      0.97       861\n",
      "           1       0.97      0.96      0.97       823\n",
      "\n",
      "    accuracy                           0.97      1684\n",
      "   macro avg       0.97      0.97      0.97      1684\n",
      "weighted avg       0.97      0.97      0.97      1684\n",
      "\n",
      "DT #3\n",
      "              precision    recall  f1-score   support\n",
      "\n",
      "           0       0.97      0.96      0.96       984\n",
      "           1       0.96      0.96      0.96       963\n",
      "\n",
      "    accuracy                           0.96      1947\n",
      "   macro avg       0.96      0.96      0.96      1947\n",
      "weighted avg       0.96      0.96      0.96      1947\n",
      "\n",
      "DT #4\n",
      "              precision    recall  f1-score   support\n",
      "\n",
      "           0       0.96      0.95      0.96       963\n",
      "           1       0.96      0.96      0.96       979\n",
      "\n",
      "    accuracy                           0.96      1942\n",
      "   macro avg       0.96      0.96      0.96      1942\n",
      "weighted avg       0.96      0.96      0.96      1942\n",
      "\n",
      "DT #5\n",
      "              precision    recall  f1-score   support\n",
      "\n",
      "           0       0.95      0.96      0.95       863\n",
      "           1       0.96      0.95      0.95       841\n",
      "\n",
      "    accuracy                           0.95      1704\n",
      "   macro avg       0.95      0.95      0.95      1704\n",
      "weighted avg       0.95      0.95      0.95      1704\n",
      "\n",
      "DT #6\n",
      "              precision    recall  f1-score   support\n",
      "\n",
      "           0       0.95      0.95      0.95       969\n",
      "           1       0.95      0.95      0.95       987\n",
      "\n",
      "    accuracy                           0.95      1956\n",
      "   macro avg       0.95      0.95      0.95      1956\n",
      "weighted avg       0.95      0.95      0.95      1956\n",
      "\n",
      "DT #7\n",
      "              precision    recall  f1-score   support\n",
      "\n",
      "           0       0.94      0.95      0.95       995\n",
      "           1       0.95      0.93      0.94       927\n",
      "\n",
      "    accuracy                           0.94      1922\n",
      "   macro avg       0.94      0.94      0.94      1922\n",
      "weighted avg       0.94      0.94      0.94      1922\n",
      "\n",
      "DT #8\n",
      "              precision    recall  f1-score   support\n",
      "\n",
      "           0       0.96      0.96      0.96       813\n",
      "           1       0.96      0.96      0.96       845\n",
      "\n",
      "    accuracy                           0.96      1658\n",
      "   macro avg       0.96      0.96      0.96      1658\n",
      "weighted avg       0.96      0.96      0.96      1658\n",
      "\n",
      "DT #9\n",
      "              precision    recall  f1-score   support\n",
      "\n",
      "           0       0.96      0.94      0.95       880\n",
      "           1       0.94      0.96      0.95       814\n",
      "\n",
      "    accuracy                           0.95      1694\n",
      "   macro avg       0.95      0.95      0.95      1694\n",
      "weighted avg       0.95      0.95      0.95      1694\n",
      "\n",
      "DT #10\n",
      "              precision    recall  f1-score   support\n",
      "\n",
      "           0       0.94      0.96      0.95       868\n",
      "           1       0.96      0.94      0.95       876\n",
      "\n",
      "    accuracy                           0.95      1744\n",
      "   macro avg       0.95      0.95      0.95      1744\n",
      "weighted avg       0.95      0.95      0.95      1744\n",
      "\n",
      "DT #11\n",
      "              precision    recall  f1-score   support\n",
      "\n",
      "           0       0.95      0.95      0.95       861\n",
      "           1       0.95      0.95      0.95       809\n",
      "\n",
      "    accuracy                           0.95      1670\n",
      "   macro avg       0.95      0.95      0.95      1670\n",
      "weighted avg       0.95      0.95      0.95      1670\n",
      "\n",
      "DT #12\n",
      "              precision    recall  f1-score   support\n",
      "\n",
      "           0       0.94      0.95      0.94       862\n",
      "           1       0.94      0.94      0.94       853\n",
      "\n",
      "    accuracy                           0.94      1715\n",
      "   macro avg       0.94      0.94      0.94      1715\n",
      "weighted avg       0.94      0.94      0.94      1715\n",
      "\n",
      "DT #13\n",
      "              precision    recall  f1-score   support\n",
      "\n",
      "           0       0.96      0.96      0.96       828\n",
      "           1       0.96      0.96      0.96       826\n",
      "\n",
      "    accuracy                           0.96      1654\n",
      "   macro avg       0.96      0.96      0.96      1654\n",
      "weighted avg       0.96      0.96      0.96      1654\n",
      "\n",
      "DT #14\n",
      "              precision    recall  f1-score   support\n",
      "\n",
      "           0       0.96      0.96      0.96       864\n",
      "           1       0.96      0.96      0.96       833\n",
      "\n",
      "    accuracy                           0.96      1697\n",
      "   macro avg       0.96      0.96      0.96      1697\n",
      "weighted avg       0.96      0.96      0.96      1697\n",
      "\n",
      "DT #15\n",
      "              precision    recall  f1-score   support\n",
      "\n",
      "           0       0.97      0.96      0.97       961\n",
      "           1       0.97      0.97      0.97       998\n",
      "\n",
      "    accuracy                           0.97      1959\n",
      "   macro avg       0.97      0.97      0.97      1959\n",
      "weighted avg       0.97      0.97      0.97      1959\n",
      "\n",
      "DT #16\n",
      "              precision    recall  f1-score   support\n",
      "\n",
      "           0       0.94      0.96      0.95       807\n",
      "           1       0.96      0.95      0.95       869\n",
      "\n",
      "    accuracy                           0.95      1676\n",
      "   macro avg       0.95      0.95      0.95      1676\n",
      "weighted avg       0.95      0.95      0.95      1676\n",
      "\n",
      "DT #17\n",
      "              precision    recall  f1-score   support\n",
      "\n",
      "           0       0.97      0.94      0.95       851\n",
      "           1       0.94      0.97      0.95       832\n",
      "\n",
      "    accuracy                           0.95      1683\n",
      "   macro avg       0.95      0.95      0.95      1683\n",
      "weighted avg       0.95      0.95      0.95      1683\n",
      "\n",
      "DT #18\n",
      "              precision    recall  f1-score   support\n",
      "\n",
      "           0       0.95      0.96      0.96       994\n",
      "           1       0.96      0.95      0.96      1004\n",
      "\n",
      "    accuracy                           0.96      1998\n",
      "   macro avg       0.96      0.96      0.96      1998\n",
      "weighted avg       0.96      0.96      0.96      1998\n",
      "\n",
      "DT #19\n",
      "              precision    recall  f1-score   support\n",
      "\n",
      "           0       0.95      0.96      0.95       974\n",
      "           1       0.96      0.95      0.96      1006\n",
      "\n",
      "    accuracy                           0.96      1980\n",
      "   macro avg       0.96      0.96      0.96      1980\n",
      "weighted avg       0.96      0.96      0.96      1980\n",
      "\n",
      "DT #20\n",
      "              precision    recall  f1-score   support\n",
      "\n",
      "           0       0.96      0.97      0.97       836\n",
      "           1       0.97      0.96      0.97       840\n",
      "\n",
      "    accuracy                           0.97      1676\n",
      "   macro avg       0.97      0.97      0.97      1676\n",
      "weighted avg       0.97      0.97      0.97      1676\n",
      "\n",
      "DT #21\n",
      "              precision    recall  f1-score   support\n",
      "\n",
      "           0       0.95      0.95      0.95       973\n",
      "           1       0.95      0.95      0.95       980\n",
      "\n",
      "    accuracy                           0.95      1953\n",
      "   macro avg       0.95      0.95      0.95      1953\n",
      "weighted avg       0.95      0.95      0.95      1953\n",
      "\n",
      "DT #22\n",
      "              precision    recall  f1-score   support\n",
      "\n",
      "           0       0.96      0.96      0.96       833\n",
      "           1       0.96      0.96      0.96       850\n",
      "\n",
      "    accuracy                           0.96      1683\n",
      "   macro avg       0.96      0.96      0.96      1683\n",
      "weighted avg       0.96      0.96      0.96      1683\n",
      "\n",
      "DT #23\n",
      "              precision    recall  f1-score   support\n",
      "\n",
      "           0       0.94      0.94      0.94       799\n",
      "           1       0.95      0.94      0.94       859\n",
      "\n",
      "    accuracy                           0.94      1658\n",
      "   macro avg       0.94      0.94      0.94      1658\n",
      "weighted avg       0.94      0.94      0.94      1658\n",
      "\n",
      "DT #24\n",
      "              precision    recall  f1-score   support\n",
      "\n",
      "           0       0.95      0.95      0.95       864\n",
      "           1       0.95      0.95      0.95       869\n",
      "\n",
      "    accuracy                           0.95      1733\n",
      "   macro avg       0.95      0.95      0.95      1733\n",
      "weighted avg       0.95      0.95      0.95      1733\n",
      "\n",
      "DT #25\n",
      "              precision    recall  f1-score   support\n",
      "\n",
      "           0       0.95      0.94      0.95       885\n",
      "           1       0.94      0.95      0.95       872\n",
      "\n",
      "    accuracy                           0.95      1757\n",
      "   macro avg       0.95      0.95      0.95      1757\n",
      "weighted avg       0.95      0.95      0.95      1757\n",
      "\n",
      "DT #26\n",
      "              precision    recall  f1-score   support\n",
      "\n",
      "           0       0.96      0.96      0.96       874\n",
      "           1       0.96      0.95      0.95       803\n",
      "\n",
      "    accuracy                           0.96      1677\n",
      "   macro avg       0.96      0.96      0.96      1677\n",
      "weighted avg       0.96      0.96      0.96      1677\n",
      "\n",
      "DT #27\n",
      "              precision    recall  f1-score   support\n",
      "\n",
      "           0       0.96      0.96      0.96       847\n",
      "           1       0.96      0.96      0.96       804\n",
      "\n",
      "    accuracy                           0.96      1651\n",
      "   macro avg       0.96      0.96      0.96      1651\n",
      "weighted avg       0.96      0.96      0.96      1651\n",
      "\n",
      "DT #28\n",
      "              precision    recall  f1-score   support\n",
      "\n",
      "           0       0.94      0.95      0.95       848\n",
      "           1       0.95      0.94      0.94       833\n",
      "\n",
      "    accuracy                           0.95      1681\n",
      "   macro avg       0.95      0.95      0.95      1681\n",
      "weighted avg       0.95      0.95      0.95      1681\n",
      "\n",
      "DT #29\n",
      "              precision    recall  f1-score   support\n",
      "\n",
      "           0       0.95      0.96      0.96       822\n",
      "           1       0.96      0.96      0.96       848\n",
      "\n",
      "    accuracy                           0.96      1670\n",
      "   macro avg       0.96      0.96      0.96      1670\n",
      "weighted avg       0.96      0.96      0.96      1670\n",
      "\n",
      "DT #30\n",
      "              precision    recall  f1-score   support\n",
      "\n",
      "           0       0.95      0.97      0.96       984\n",
      "           1       0.97      0.95      0.96       995\n",
      "\n",
      "    accuracy                           0.96      1979\n",
      "   macro avg       0.96      0.96      0.96      1979\n",
      "weighted avg       0.96      0.96      0.96      1979\n",
      "\n",
      "DT #31\n",
      "              precision    recall  f1-score   support\n",
      "\n",
      "           0       0.95      0.96      0.96       829\n",
      "           1       0.96      0.95      0.96       844\n",
      "\n",
      "    accuracy                           0.96      1673\n",
      "   macro avg       0.96      0.96      0.96      1673\n",
      "weighted avg       0.96      0.96      0.96      1673\n",
      "\n",
      "DT #32\n",
      "              precision    recall  f1-score   support\n",
      "\n",
      "           0       0.96      0.96      0.96       844\n",
      "           1       0.96      0.96      0.96       883\n",
      "\n",
      "    accuracy                           0.96      1727\n",
      "   macro avg       0.96      0.96      0.96      1727\n",
      "weighted avg       0.96      0.96      0.96      1727\n",
      "\n",
      "DT #33\n",
      "              precision    recall  f1-score   support\n",
      "\n",
      "           0       0.96      0.97      0.96       998\n",
      "           1       0.97      0.96      0.96       969\n",
      "\n",
      "    accuracy                           0.96      1967\n",
      "   macro avg       0.96      0.96      0.96      1967\n",
      "weighted avg       0.96      0.96      0.96      1967\n",
      "\n",
      "DT #34\n",
      "              precision    recall  f1-score   support\n",
      "\n",
      "           0       0.95      0.96      0.95       847\n",
      "           1       0.96      0.95      0.95       818\n",
      "\n",
      "    accuracy                           0.95      1665\n",
      "   macro avg       0.95      0.95      0.95      1665\n",
      "weighted avg       0.95      0.95      0.95      1665\n",
      "\n",
      "DT #35\n",
      "              precision    recall  f1-score   support\n",
      "\n",
      "           0       0.96      0.95      0.96       827\n",
      "           1       0.96      0.96      0.96       868\n",
      "\n",
      "    accuracy                           0.96      1695\n",
      "   macro avg       0.96      0.96      0.96      1695\n",
      "weighted avg       0.96      0.96      0.96      1695\n",
      "\n",
      "DT #36\n",
      "              precision    recall  f1-score   support\n",
      "\n",
      "           0       0.96      0.96      0.96       964\n",
      "           1       0.96      0.96      0.96       992\n",
      "\n",
      "    accuracy                           0.96      1956\n",
      "   macro avg       0.96      0.96      0.96      1956\n",
      "weighted avg       0.96      0.96      0.96      1956\n",
      "\n",
      "DT #37\n",
      "              precision    recall  f1-score   support\n",
      "\n",
      "           0       0.93      0.95      0.94       851\n",
      "           1       0.95      0.93      0.94       858\n",
      "\n",
      "    accuracy                           0.94      1709\n",
      "   macro avg       0.94      0.94      0.94      1709\n",
      "weighted avg       0.94      0.94      0.94      1709\n",
      "\n",
      "DT #38\n",
      "              precision    recall  f1-score   support\n",
      "\n",
      "           0       0.95      0.96      0.95       822\n",
      "           1       0.96      0.95      0.96       904\n",
      "\n",
      "    accuracy                           0.95      1726\n",
      "   macro avg       0.95      0.96      0.95      1726\n",
      "weighted avg       0.95      0.95      0.95      1726\n",
      "\n",
      "DT #39\n",
      "              precision    recall  f1-score   support\n",
      "\n",
      "           0       0.95      0.97      0.96       828\n",
      "           1       0.97      0.95      0.96       836\n",
      "\n",
      "    accuracy                           0.96      1664\n",
      "   macro avg       0.96      0.96      0.96      1664\n",
      "weighted avg       0.96      0.96      0.96      1664\n",
      "\n",
      "DT #40\n",
      "              precision    recall  f1-score   support\n",
      "\n",
      "           0       0.96      0.96      0.96       997\n",
      "           1       0.96      0.96      0.96       982\n",
      "\n",
      "    accuracy                           0.96      1979\n",
      "   macro avg       0.96      0.96      0.96      1979\n",
      "weighted avg       0.96      0.96      0.96      1979\n",
      "\n",
      "DT #41\n",
      "              precision    recall  f1-score   support\n",
      "\n",
      "           0       0.96      0.95      0.95       834\n",
      "           1       0.95      0.96      0.96       857\n",
      "\n",
      "    accuracy                           0.96      1691\n",
      "   macro avg       0.96      0.95      0.96      1691\n",
      "weighted avg       0.96      0.96      0.96      1691\n",
      "\n",
      "DT #42\n",
      "              precision    recall  f1-score   support\n",
      "\n",
      "           0       0.96      0.96      0.96      1015\n",
      "           1       0.96      0.96      0.96       965\n",
      "\n",
      "    accuracy                           0.96      1980\n",
      "   macro avg       0.96      0.96      0.96      1980\n",
      "weighted avg       0.96      0.96      0.96      1980\n",
      "\n",
      "DT #43\n",
      "              precision    recall  f1-score   support\n",
      "\n",
      "           0       0.97      0.95      0.96       841\n",
      "           1       0.95      0.97      0.96       836\n",
      "\n",
      "    accuracy                           0.96      1677\n",
      "   macro avg       0.96      0.96      0.96      1677\n",
      "weighted avg       0.96      0.96      0.96      1677\n",
      "\n",
      "DT #44\n",
      "              precision    recall  f1-score   support\n",
      "\n",
      "           0       0.95      0.97      0.96       825\n",
      "           1       0.97      0.95      0.96       856\n",
      "\n",
      "    accuracy                           0.96      1681\n",
      "   macro avg       0.96      0.96      0.96      1681\n",
      "weighted avg       0.96      0.96      0.96      1681\n",
      "\n",
      "DT #45\n",
      "              precision    recall  f1-score   support\n",
      "\n",
      "           0       0.94      0.95      0.95       842\n",
      "           1       0.96      0.95      0.95       871\n",
      "\n",
      "    accuracy                           0.95      1713\n",
      "   macro avg       0.95      0.95      0.95      1713\n",
      "weighted avg       0.95      0.95      0.95      1713\n",
      "\n",
      "DT #46\n",
      "              precision    recall  f1-score   support\n",
      "\n",
      "           0       0.96      0.97      0.96       965\n",
      "           1       0.97      0.96      0.96       994\n",
      "\n",
      "    accuracy                           0.96      1959\n",
      "   macro avg       0.96      0.96      0.96      1959\n",
      "weighted avg       0.96      0.96      0.96      1959\n",
      "\n",
      "DT #47\n",
      "              precision    recall  f1-score   support\n",
      "\n",
      "           0       0.96      0.94      0.95       836\n",
      "           1       0.94      0.96      0.95       856\n",
      "\n",
      "    accuracy                           0.95      1692\n",
      "   macro avg       0.95      0.95      0.95      1692\n",
      "weighted avg       0.95      0.95      0.95      1692\n",
      "\n"
     ]
    }
   ],
   "source": [
    "for i in range(len(x_atk_dataset)):\n",
    "    p = OUTPUT_ATTACK_FULL_FOLDER / f\"{i}\" / \"lime_generated.csv\"\n",
    "    gen_dataset = pd.read_csv(p)\n",
    "    # splitting into train and test\n",
    "    X_train, X_test, y_train, y_test = train_test_split(gen_dataset.drop('Target', axis=1).to_numpy(), gen_dataset.Target.to_numpy(), test_size=0.33, random_state=42)\n",
    "    # creating the decision tree\n",
    "    dt_path = OUTPUT_ATTACK_FULL_FOLDER / f\"{i}\" / \"dt_adult.bz2\"\n",
    "    dt = create_decision_tree(X_train, y_train, use_halving=True) if not dt_path.exists() else load_pickle_bz2(dt_path)\n",
    "    print(f\"DT #{i}\")\n",
    "    print(classification_report(y_test, dt.predict(X_test)))\n",
    "    if not dt_path.exists():\n",
    "        save_pickle_bz2(dt_path, dt)\n",
    "        np.savez(str(OUTPUT_ATTACK_FULL_FOLDER / f\"{i}\" / \"dt_adult_data.npz\"), X_train=X_train, X_test=X_test, y_train=y_train, y_test=y_test)"
   ]
  },
  {
   "cell_type": "markdown",
   "id": "b756f2b4-cf34-4648-be31-f5770c2dd75c",
   "metadata": {},
   "source": [
    "## Attacking every decision tree"
   ]
  },
  {
   "cell_type": "code",
   "execution_count": 111,
   "id": "dff3684d-f805-4fd6-9405-fe77387ffd1a",
   "metadata": {},
   "outputs": [],
   "source": [
    "from mlem.shadow_models import ShadowModelsManager\n",
    "from mlem.utilities import create_adaboost\n",
    "from mlem.attack_models import AttackModelsManager, AttackStrategy"
   ]
  },
  {
   "cell_type": "markdown",
   "id": "13743e84-fe2d-448f-a592-2e5440e3fca9",
   "metadata": {},
   "source": [
    "Reloading the tree and its data"
   ]
  },
  {
   "cell_type": "code",
   "execution_count": 112,
   "id": "f616913d-4ee8-4408-97ed-402788a5e7b2",
   "metadata": {},
   "outputs": [
    {
     "name": "stdout",
     "output_type": "stream",
     "text": [
      "[INFO OVERSAMPLE] Specified ratio too low: skipping oversampling\n",
      "[INFO OVERSAMPLE] Specified ratio too low: skipping oversampling\n",
      "[INFO OVERSAMPLE] Specified ratio too low: skipping oversampling\n",
      "[INFO OVERSAMPLE] Specified ratio too low: skipping oversampling\n",
      "[INFO OVERSAMPLE] Specified ratio too low: skipping oversampling\n",
      "[INFO OVERSAMPLE] Specified ratio too low: skipping oversampling\n",
      "[INFO OVERSAMPLE] Specified ratio too low: skipping oversampling\n",
      "[INFO OVERSAMPLE] Specified ratio too low: skipping oversampling\n",
      "[INFO OVERSAMPLE] Specified ratio too low: skipping oversampling\n",
      "[INFO OVERSAMPLE] Specified ratio too low: skipping oversampling\n",
      "[INFO OVERSAMPLE] Specified ratio too low: skipping oversampling\n",
      "[INFO OVERSAMPLE] Specified ratio too low: skipping oversampling\n",
      "[INFO OVERSAMPLE] Specified ratio too low: skipping oversampling\n",
      "[INFO OVERSAMPLE] Specified ratio too low: skipping oversampling\n",
      "[INFO OVERSAMPLE] Specified ratio too low: skipping oversampling\n",
      "[INFO OVERSAMPLE] Specified ratio too low: skipping oversampling\n",
      "[INFO OVERSAMPLE] Specified ratio too low: skipping oversampling\n",
      "[INFO OVERSAMPLE] Specified ratio too low: skipping oversampling\n",
      "[INFO OVERSAMPLE] Specified ratio too low: skipping oversampling\n",
      "[INFO OVERSAMPLE] Specified ratio too low: skipping oversampling\n",
      "[INFO OVERSAMPLE] Specified ratio too low: skipping oversampling\n",
      "[INFO OVERSAMPLE] Specified ratio too low: skipping oversampling\n",
      "[INFO OVERSAMPLE] Specified ratio too low: skipping oversampling\n",
      "[INFO OVERSAMPLE] Specified ratio too low: skipping oversampling\n",
      "[INFO OVERSAMPLE] Specified ratio too low: skipping oversampling\n",
      "[INFO OVERSAMPLE] Specified ratio too low: skipping oversampling\n",
      "[INFO OVERSAMPLE] Specified ratio too low: skipping oversampling\n",
      "[INFO OVERSAMPLE] Specified ratio too low: skipping oversampling\n",
      "[INFO OVERSAMPLE] Specified ratio too low: skipping oversampling\n",
      "[INFO OVERSAMPLE] Specified ratio too low: skipping oversampling\n",
      "[INFO OVERSAMPLE] Specified ratio too low: skipping oversampling\n",
      "[INFO OVERSAMPLE] Specified ratio too low: skipping oversampling\n",
      "[INFO OVERSAMPLE] Specified ratio too low: skipping oversampling\n",
      "[INFO OVERSAMPLE] Specified ratio too low: skipping oversampling\n",
      "[INFO OVERSAMPLE] Specified ratio too low: skipping oversampling\n",
      "[INFO OVERSAMPLE] Specified ratio too low: skipping oversampling\n",
      "[INFO OVERSAMPLE] Specified ratio too low: skipping oversampling\n",
      "[INFO OVERSAMPLE] Specified ratio too low: skipping oversampling\n",
      "[INFO OVERSAMPLE] Specified ratio too low: skipping oversampling\n",
      "[INFO OVERSAMPLE] Specified ratio too low: skipping oversampling\n",
      "[INFO OVERSAMPLE] Specified ratio too low: skipping oversampling\n",
      "[INFO OVERSAMPLE] Specified ratio too low: skipping oversampling\n",
      "[INFO OVERSAMPLE] Specified ratio too low: skipping oversampling\n",
      "[INFO OVERSAMPLE] Specified ratio too low: skipping oversampling\n",
      "[INFO OVERSAMPLE] Specified ratio too low: skipping oversampling\n",
      "[INFO OVERSAMPLE] Specified ratio too low: skipping oversampling\n",
      "[INFO OVERSAMPLE] Specified ratio too low: skipping oversampling\n",
      "[INFO OVERSAMPLE] Specified ratio too low: skipping oversampling\n",
      "[INFO OVERSAMPLE] Specified ratio too low: skipping oversampling\n",
      "[INFO OVERSAMPLE] Specified ratio too low: skipping oversampling\n",
      "[INFO OVERSAMPLE] Specified ratio too low: skipping oversampling\n",
      "[INFO OVERSAMPLE] Specified ratio too low: skipping oversampling\n",
      "[INFO OVERSAMPLE] Specified ratio too low: skipping oversampling\n",
      "[INFO OVERSAMPLE] Specified ratio too low: skipping oversampling\n",
      "[INFO OVERSAMPLE] Specified ratio too low: skipping oversampling\n",
      "[INFO OVERSAMPLE] Specified ratio too low: skipping oversampling\n",
      "[INFO OVERSAMPLE] Specified ratio too low: skipping oversampling\n",
      "[INFO OVERSAMPLE] Specified ratio too low: skipping oversampling\n",
      "[INFO OVERSAMPLE] Specified ratio too low: skipping oversampling\n",
      "[INFO OVERSAMPLE] Specified ratio too low: skipping oversampling\n",
      "[INFO OVERSAMPLE] Specified ratio too low: skipping oversampling\n",
      "[INFO OVERSAMPLE] Specified ratio too low: skipping oversampling\n",
      "[INFO OVERSAMPLE] Specified ratio too low: skipping oversampling\n",
      "[INFO OVERSAMPLE] Specified ratio too low: skipping oversampling\n",
      "[INFO OVERSAMPLE] Specified ratio too low: skipping oversampling\n",
      "[INFO OVERSAMPLE] Specified ratio too low: skipping oversampling\n",
      "[INFO OVERSAMPLE] Specified ratio too low: skipping oversampling\n",
      "[INFO OVERSAMPLE] Specified ratio too low: skipping oversampling\n",
      "[INFO OVERSAMPLE] Specified ratio too low: skipping oversampling\n",
      "[INFO OVERSAMPLE] Specified ratio too low: skipping oversampling\n",
      "[INFO OVERSAMPLE] Specified ratio too low: skipping oversampling\n",
      "[INFO OVERSAMPLE] Specified ratio too low: skipping oversampling\n",
      "[INFO OVERSAMPLE] Specified ratio too low: skipping oversampling\n",
      "[INFO OVERSAMPLE] Specified ratio too low: skipping oversampling\n",
      "[INFO OVERSAMPLE] Specified ratio too low: skipping oversampling\n",
      "[INFO OVERSAMPLE] Specified ratio too low: skipping oversampling\n",
      "[INFO OVERSAMPLE] Specified ratio too low: skipping oversampling\n",
      "[INFO OVERSAMPLE] Specified ratio too low: skipping oversampling\n",
      "[INFO OVERSAMPLE] Specified ratio too low: skipping oversampling\n",
      "[INFO OVERSAMPLE] Specified ratio too low: skipping oversampling\n",
      "[INFO OVERSAMPLE] Specified ratio too low: skipping oversampling\n",
      "[INFO OVERSAMPLE] Specified ratio too low: skipping oversampling\n",
      "[INFO OVERSAMPLE] Specified ratio too low: skipping oversampling\n",
      "[INFO OVERSAMPLE] Specified ratio too low: skipping oversampling\n",
      "[INFO OVERSAMPLE] Specified ratio too low: skipping oversampling\n",
      "[INFO OVERSAMPLE] Specified ratio too low: skipping oversampling\n",
      "[INFO OVERSAMPLE] Specified ratio too low: skipping oversampling\n",
      "[INFO OVERSAMPLE] Specified ratio too low: skipping oversampling\n",
      "[INFO OVERSAMPLE] Specified ratio too low: skipping oversampling\n",
      "[INFO OVERSAMPLE] Specified ratio too low: skipping oversampling\n",
      "[INFO OVERSAMPLE] Specified ratio too low: skipping oversampling\n",
      "[INFO OVERSAMPLE] Specified ratio too low: skipping oversampling\n",
      "[INFO OVERSAMPLE] Specified ratio too low: skipping oversampling\n",
      "[INFO OVERSAMPLE] Specified ratio too low: skipping oversampling\n",
      "[INFO OVERSAMPLE] Specified ratio too low: skipping oversampling\n",
      "[INFO OVERSAMPLE] Specified ratio too low: skipping oversampling\n"
     ]
    }
   ],
   "source": [
    "for i in range(len(x_atk_dataset)):\n",
    "    \n",
    "    p = OUTPUT_ATTACK_FULL_FOLDER / f\"{i}\"\n",
    "    local_tree = load_pickle_bz2(p / \"dt_adult.bz2\")\n",
    "    loaded = np.load(str(p / \"dt_adult_data.npz\"), allow_pickle=True)\n",
    "    # \n",
    "    X_train = loaded['X_train']\n",
    "    X_test  = loaded['X_test']\n",
    "    y_train = loaded['y_train']\n",
    "    y_test  = loaded['y_test']\n",
    "    # Using the lime generated dataset as x_attack and the labels computed by the dt as y_attack\n",
    "    full_generated_dataset = pd.read_csv(p / \"lime_generated.csv\")\n",
    "    x_attack = full_generated_dataset.drop('Target', axis=1)\n",
    "    y_attack = local_tree.predict(x_attack.to_numpy())\n",
    "    # creating the shadow models\n",
    "    path_shadow= str(p / \"shadow_adab_adult_dt\")\n",
    "\n",
    "    shadow_models = ShadowModelsManager(\n",
    "        n_models=4,\n",
    "        results_path=f\"{path_shadow}/shadow\",\n",
    "        test_size=0.5,\n",
    "        random_state=123,\n",
    "        model_creator_fn=create_adaboost,\n",
    "        categorical_mask=CATEGORICAL_FEATURES_MASK\n",
    "    )\n",
    "    # fitting the shadow models\n",
    "    shadow_models.fit(x_attack, y_attack)\n",
    "    # extracting the attack dataset\n",
    "    attack_dataset = shadow_models.get_attack_dataset()\n",
    "    # Creating the attack model for each label using Adaboost\n",
    "    path_attack = str(p / \"attack_adab_adult_dt\")\n",
    "    attack_models = AttackModelsManager(\n",
    "            results_path=path_attack, model_creator_fn=create_adaboost, attack_strategy=AttackStrategy.ONE_PER_LABEL\n",
    "    )\n",
    "    attack_models.fit(attack_dataset)"
   ]
  },
  {
   "cell_type": "markdown",
   "id": "5abc147b-06c4-47c0-a53c-ee565577823b",
   "metadata": {},
   "source": [
    "Loading the attack models just created"
   ]
  },
  {
   "cell_type": "code",
   "execution_count": 113,
   "id": "2d88a3b8-9770-4e7d-82e0-794c2366d01d",
   "metadata": {},
   "outputs": [],
   "source": [
    "attacks_0 = []\n",
    "attacks_1 = []\n",
    "for i in range(len(x_atk_dataset)):\n",
    "    p = OUTPUT_ATTACK_FULL_FOLDER / f\"{i}\" / \"attack_adab_adult_dt\"\n",
    "    atk_0 = load_pickle_bz2( p/ \"0\" / \"model.pkl.bz2\")\n",
    "    atk_1 = load_pickle_bz2( p/ \"1\" / \"model.pkl.bz2\")\n",
    "    attacks_0.append(atk_0)\n",
    "    attacks_1.append(atk_1)"
   ]
  },
  {
   "cell_type": "markdown",
   "id": "fca47620-3c6a-4cb9-b56a-74d3939dbdbf",
   "metadata": {},
   "source": [
    "Creating the ensemble classifiers"
   ]
  },
  {
   "cell_type": "code",
   "execution_count": 114,
   "id": "59b3b5ca-fd55-41bb-96c5-dfc2b71209fb",
   "metadata": {},
   "outputs": [],
   "source": [
    "from mlem.ensemble import HardVotingClassifier, SoftVotingClassifier, KMostSureVotingClassifier"
   ]
  },
  {
   "cell_type": "code",
   "execution_count": 115,
   "id": "f51c6645-4893-48b3-a07f-0a6e16e0adde",
   "metadata": {},
   "outputs": [],
   "source": [
    "ens_0 = HardVotingClassifier(attacks_0)\n",
    "ens_1 = HardVotingClassifier(attacks_1)"
   ]
  },
  {
   "cell_type": "markdown",
   "id": "1d6b32f9-59cd-4f71-bef4-20460717898f",
   "metadata": {},
   "source": [
    "Attacking the black box dataset"
   ]
  },
  {
   "cell_type": "code",
   "execution_count": 116,
   "id": "f4ce58ee-d4b3-4b14-bdfa-1a89eb90d55c",
   "metadata": {},
   "outputs": [],
   "source": [
    "train_test = attack_bb_dataset(ens_0, ens_1)"
   ]
  },
  {
   "cell_type": "code",
   "execution_count": 117,
   "id": "85c11f96-acfc-45b7-bbf5-59e608fe3211",
   "metadata": {},
   "outputs": [],
   "source": [
    "t2 = train_test[train_test.ATK != 'even']"
   ]
  },
  {
   "cell_type": "code",
   "execution_count": 118,
   "id": "dbdb9b71-da9d-4bf2-ac0c-902348bd3c17",
   "metadata": {},
   "outputs": [
    {
     "name": "stdout",
     "output_type": "stream",
     "text": [
      "              precision    recall  f1-score   support\n",
      "\n",
      "          in       0.70      0.84      0.76     16521\n",
      "         out       0.32      0.18      0.23      7096\n",
      "\n",
      "    accuracy                           0.64     23617\n",
      "   macro avg       0.51      0.51      0.50     23617\n",
      "weighted avg       0.59      0.64      0.60     23617\n",
      "\n"
     ]
    }
   ],
   "source": [
    "print(classification_report(t2.Y, t2.ATK))"
   ]
  },
  {
   "cell_type": "code",
   "execution_count": 119,
   "id": "bf5914d4-c7bd-455b-b94c-91aaa4a53ed5",
   "metadata": {},
   "outputs": [
    {
     "data": {
      "text/plain": [
       "<sklearn.metrics._plot.confusion_matrix.ConfusionMatrixDisplay at 0x7fe7d95a7040>"
      ]
     },
     "execution_count": 119,
     "metadata": {},
     "output_type": "execute_result"
    },
    {
     "data": {
      "image/png": "[encoded data removed]",
      "text/plain": [
       "<Figure size 432x288 with 2 Axes>"
      ]
     },
     "metadata": {
      "needs_background": "light"
     },
     "output_type": "display_data"
    }
   ],
   "source": [
    "ConfusionMatrixDisplay.from_predictions(t2.Y, t2.ATK, cmap='inferno')"
   ]
  },
  {
   "cell_type": "code",
   "execution_count": 120,
   "id": "ec14d308-f999-44f4-87ed-1ef46e564198",
   "metadata": {},
   "outputs": [],
   "source": [
    "ens_0s = SoftVotingClassifier(attacks_0)\n",
    "ens_1s = SoftVotingClassifier(attacks_1)"
   ]
  },
  {
   "cell_type": "code",
   "execution_count": 121,
   "id": "b9faac1f-ec7e-491f-8458-6b1e9c3f3750",
   "metadata": {},
   "outputs": [
    {
     "name": "stdout",
     "output_type": "stream",
     "text": [
      "              precision    recall  f1-score   support\n",
      "\n",
      "          in       0.70      0.86      0.77     16877\n",
      "         out       0.32      0.16      0.21      7234\n",
      "\n",
      "    accuracy                           0.65     24111\n",
      "   macro avg       0.51      0.51      0.49     24111\n",
      "weighted avg       0.59      0.65      0.61     24111\n",
      "\n"
     ]
    }
   ],
   "source": [
    "train_test = attack_bb_dataset(ens_0s, ens_1s)\n",
    "\n",
    "t2 = train_test[train_test.ATK != 'even']\n",
    "\n",
    "print(classification_report(t2.Y, t2.ATK))"
   ]
  },
  {
   "cell_type": "code",
   "execution_count": 122,
   "id": "4ac2f1ff-840c-40d1-b3c5-8fd281d49df5",
   "metadata": {},
   "outputs": [
    {
     "data": {
      "text/plain": [
       "<sklearn.metrics._plot.confusion_matrix.ConfusionMatrixDisplay at 0x7fe7d955e910>"
      ]
     },
     "execution_count": 122,
     "metadata": {},
     "output_type": "execute_result"
    },
    {
     "data": {
      "image/png": "[encoded data removed]",
      "text/plain": [
       "<Figure size 432x288 with 2 Axes>"
      ]
     },
     "metadata": {
      "needs_background": "light"
     },
     "output_type": "display_data"
    }
   ],
   "source": [
    "ConfusionMatrixDisplay.from_predictions(t2.Y, t2.ATK, cmap='inferno')"
   ]
  },
  {
   "cell_type": "code",
   "execution_count": 123,
   "id": "2312ea72-e107-4d8a-9a2a-79cf937d2725",
   "metadata": {},
   "outputs": [],
   "source": [
    "ens_0k = KMostSureVotingClassifier(attacks_0)\n",
    "ens_1k = KMostSureVotingClassifier(attacks_1)"
   ]
  },
  {
   "cell_type": "code",
   "execution_count": 124,
   "id": "466a2434-e86b-4fb6-85d9-366b5a277ce0",
   "metadata": {},
   "outputs": [
    {
     "name": "stdout",
     "output_type": "stream",
     "text": [
      "              precision    recall  f1-score   support\n",
      "\n",
      "          in       0.70      0.10      0.17     16877\n",
      "         out       0.30      0.90      0.45      7234\n",
      "\n",
      "    accuracy                           0.34     24111\n",
      "   macro avg       0.50      0.50      0.31     24111\n",
      "weighted avg       0.58      0.34      0.25     24111\n",
      "\n"
     ]
    }
   ],
   "source": [
    "train_test = attack_bb_dataset(ens_0k, ens_1k)\n",
    "\n",
    "t2 = train_test[train_test.ATK != 'even']\n",
    "\n",
    "print(classification_report(t2.Y, t2.ATK))"
   ]
  },
  {
   "cell_type": "code",
   "execution_count": 125,
   "id": "9844d10a-33e5-42a5-a67c-063114d53074",
   "metadata": {},
   "outputs": [
    {
     "data": {
      "text/plain": [
       "<sklearn.metrics._plot.confusion_matrix.ConfusionMatrixDisplay at 0x7fe9469cbd60>"
      ]
     },
     "execution_count": 125,
     "metadata": {},
     "output_type": "execute_result"
    },
    {
     "data": {
      "image/png": "[encoded data removed]",
      "text/plain": [
       "<Figure size 432x288 with 2 Axes>"
      ]
     },
     "metadata": {
      "needs_background": "light"
     },
     "output_type": "display_data"
    }
   ],
   "source": [
    "ConfusionMatrixDisplay.from_predictions(t2.Y, t2.ATK, cmap='inferno')"
   ]
  },
  {
   "cell_type": "markdown",
   "id": "18a39a18-1ab2-477f-8d9f-5f3c7593d885",
   "metadata": {},
   "source": [
    "With K=3 we have better results than K=5"
   ]
  },
  {
   "cell_type": "code",
   "execution_count": 126,
   "id": "5f23d08c-190e-47f3-a4c9-547b4b01f244",
   "metadata": {},
   "outputs": [],
   "source": [
    "ens_0k3 = KMostSureVotingClassifier(attacks_0, k=3)\n",
    "ens_1k3 = KMostSureVotingClassifier(attacks_1, k=3)"
   ]
  },
  {
   "cell_type": "code",
   "execution_count": 127,
   "id": "4b54b533-c27d-488d-89cd-324e799fb9a3",
   "metadata": {},
   "outputs": [
    {
     "name": "stdout",
     "output_type": "stream",
     "text": [
      "              precision    recall  f1-score   support\n",
      "\n",
      "          in       0.70      0.73      0.72     16877\n",
      "         out       0.31      0.29      0.30      7234\n",
      "\n",
      "    accuracy                           0.60     24111\n",
      "   macro avg       0.51      0.51      0.51     24111\n",
      "weighted avg       0.59      0.60      0.59     24111\n",
      "\n"
     ]
    }
   ],
   "source": [
    "train_test = attack_bb_dataset(ens_0k3, ens_1k3)\n",
    "\n",
    "t2 = train_test[train_test.ATK != 'even']\n",
    "\n",
    "print(classification_report(t2.Y, t2.ATK))"
   ]
  },
  {
   "cell_type": "code",
   "execution_count": 128,
   "id": "2a06d433-26b0-4790-b330-0eb645c71a94",
   "metadata": {},
   "outputs": [
    {
     "data": {
      "text/plain": [
       "<sklearn.metrics._plot.confusion_matrix.ConfusionMatrixDisplay at 0x7fe80cb21370>"
      ]
     },
     "execution_count": 128,
     "metadata": {},
     "output_type": "execute_result"
    },
    {
     "data": {
      "image/png": "[encoded data removed]",
      "text/plain": [
       "<Figure size 432x288 with 2 Axes>"
      ]
     },
     "metadata": {
      "needs_background": "light"
     },
     "output_type": "display_data"
    }
   ],
   "source": [
    "ConfusionMatrixDisplay.from_predictions(t2.Y, t2.ATK, cmap='inferno')"
   ]
  },
  {
   "cell_type": "markdown",
   "id": "e9cb7d5b-b39b-451b-b144-6be56c689409",
   "metadata": {},
   "source": [
    "K=1 is like k=3"
   ]
  },
  {
   "cell_type": "code",
   "execution_count": 129,
   "id": "c1c38865-57a5-4242-8293-18af0e1d3f37",
   "metadata": {},
   "outputs": [],
   "source": [
    "ens_0k1 = KMostSureVotingClassifier(attacks_0, k=1)\n",
    "ens_1k1 = KMostSureVotingClassifier(attacks_1, k=1)"
   ]
  },
  {
   "cell_type": "code",
   "execution_count": 130,
   "id": "70317523-bdc8-4436-af10-cd512813767c",
   "metadata": {},
   "outputs": [
    {
     "name": "stdout",
     "output_type": "stream",
     "text": [
      "              precision    recall  f1-score   support\n",
      "\n",
      "          in       0.70      0.73      0.71     16877\n",
      "         out       0.31      0.29      0.30      7234\n",
      "\n",
      "    accuracy                           0.59     24111\n",
      "   macro avg       0.51      0.51      0.51     24111\n",
      "weighted avg       0.59      0.59      0.59     24111\n",
      "\n"
     ]
    }
   ],
   "source": [
    "train_test = attack_bb_dataset(ens_0k1, ens_1k1)\n",
    "\n",
    "t2 = train_test[train_test.ATK != 'even']\n",
    "\n",
    "print(classification_report(t2.Y, t2.ATK))"
   ]
  },
  {
   "cell_type": "code",
   "execution_count": 131,
   "id": "aa42b79c-d1d3-4765-bd86-7fa78644cf11",
   "metadata": {},
   "outputs": [
    {
     "data": {
      "text/plain": [
       "<sklearn.metrics._plot.confusion_matrix.ConfusionMatrixDisplay at 0x7fe7d71b17f0>"
      ]
     },
     "execution_count": 131,
     "metadata": {},
     "output_type": "execute_result"
    },
    {
     "data": {
      "image/png": "[encoded data removed]",
      "text/plain": [
       "<Figure size 432x288 with 2 Axes>"
      ]
     },
     "metadata": {
      "needs_background": "light"
     },
     "output_type": "display_data"
    }
   ],
   "source": [
    "ConfusionMatrixDisplay.from_predictions(t2.Y, t2.ATK, cmap='inferno')"
   ]
  },
  {
   "cell_type": "code",
   "execution_count": 132,
   "id": "1595e3ce-5637-4c37-aa3e-fc688189fa25",
   "metadata": {},
   "outputs": [],
   "source": [
    "ens_0k7 = KMostSureVotingClassifier(attacks_0, k=7)\n",
    "ens_1k7 = KMostSureVotingClassifier(attacks_1, k=7)"
   ]
  },
  {
   "cell_type": "code",
   "execution_count": 133,
   "id": "6d4d07e1-1179-487f-8a87-b5ec1eb0adfa",
   "metadata": {},
   "outputs": [
    {
     "name": "stdout",
     "output_type": "stream",
     "text": [
      "              precision    recall  f1-score   support\n",
      "\n",
      "          in       0.70      0.12      0.21     16877\n",
      "         out       0.30      0.88      0.45      7234\n",
      "\n",
      "    accuracy                           0.35     24111\n",
      "   macro avg       0.50      0.50      0.33     24111\n",
      "weighted avg       0.58      0.35      0.28     24111\n",
      "\n"
     ]
    }
   ],
   "source": [
    "train_test = attack_bb_dataset(ens_0k7, ens_1k7)\n",
    "\n",
    "t2 = train_test[train_test.ATK != 'even']\n",
    "\n",
    "print(classification_report(t2.Y, t2.ATK))"
   ]
  },
  {
   "cell_type": "code",
   "execution_count": 134,
   "id": "30b0c51b-3490-4e35-8478-6796187f4e2c",
   "metadata": {},
   "outputs": [
    {
     "data": {
      "text/plain": [
       "<sklearn.metrics._plot.confusion_matrix.ConfusionMatrixDisplay at 0x7fe7d7c9eb50>"
      ]
     },
     "execution_count": 134,
     "metadata": {},
     "output_type": "execute_result"
    },
    {
     "data": {
      "image/png": "[encoded data removed]",
      "text/plain": [
       "<Figure size 432x288 with 2 Axes>"
      ]
     },
     "metadata": {
      "needs_background": "light"
     },
     "output_type": "display_data"
    }
   ],
   "source": [
    "ConfusionMatrixDisplay.from_predictions(t2.Y, t2.ATK, cmap='inferno')"
   ]
  },
  {
   "cell_type": "code",
   "execution_count": null,
   "id": "b7324435-b7bb-4f85-9f18-07b43dffc855",
   "metadata": {},
   "outputs": [],
   "source": []
  }
 ],
 "metadata": {
  "kernelspec": {
   "display_name": "Python 3 (ipykernel)",
   "language": "python",
   "name": "python3"
  },
  "language_info": {
   "codemirror_mode": {
    "name": "ipython",
    "version": 3
   },
   "file_extension": ".py",
   "mimetype": "text/x-python",
   "name": "python",
   "nbconvert_exporter": "python",
   "pygments_lexer": "ipython3",
   "version": "3.9.9"
  }
 },
 "nbformat": 4,
 "nbformat_minor": 5
}
