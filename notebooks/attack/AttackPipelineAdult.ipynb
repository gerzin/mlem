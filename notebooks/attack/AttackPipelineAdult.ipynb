{
 "cells": [
  {
   "cell_type": "markdown",
   "id": "dadf6e5f-d692-423d-8ce1-c3df2b0bf88d",
   "metadata": {},
   "source": [
    "# Notebook version of the attack pipeline on a syntetic dataset"
   ]
  },
  {
   "cell_type": "code",
   "execution_count": 3,
   "id": "b8fece17-0ca8-45d4-8857-efebb5d2e70d",
   "metadata": {},
   "outputs": [],
   "source": [
    "import numpy as np\n",
    "import pandas as pd\n",
    "import sys\n",
    "sys.path.append(\"../../\")\n",
    "sys.path.append(\"../../lime/\")\n",
    "import mlem\n",
    "import matplotlib.pyplot as plt\n",
    "from lime.lime_tabular import LimeTabularExplainer\n",
    "import string\n",
    "from sklearn.metrics import classification_report"
   ]
  },
  {
   "cell_type": "markdown",
   "id": "c3123a0e-7d00-4279-91a3-3c59a3b10540",
   "metadata": {},
   "source": [
    "# DATA CREATION AND CONFIGURATION"
   ]
  },
  {
   "cell_type": "markdown",
   "id": "f567fd6e-e215-4fa1-97fb-f544ed128fcd",
   "metadata": {},
   "source": [
    "## Creating a black box and a dataset"
   ]
  },
  {
   "cell_type": "raw",
   "id": "e51c9398-20a4-4ff8-94e1-e8acd48b03d6",
   "metadata": {},
   "source": [
    "from sklearn.model_selection import train_test_split\n",
    "from sklearn.datasets import make_classification"
   ]
  },
  {
   "cell_type": "raw",
   "id": "d5aeca2c-4ad9-489d-84e6-fc6ac8a07931",
   "metadata": {},
   "source": [
    "n_features = 8\n",
    "X, y = make_classification(n_samples=6000, n_features=n_features, n_informative=n_features-2, n_clusters_per_class=3, n_classes=2, class_sep=1.5, random_state=123)"
   ]
  },
  {
   "cell_type": "raw",
   "id": "f9a259d7-c681-497b-aeff-d6989f2283db",
   "metadata": {},
   "source": [
    "df = pd.DataFrame(X, columns=[*string.ascii_uppercase[:n_features]])\n",
    "df['Target'] = y\n",
    "df"
   ]
  },
  {
   "cell_type": "raw",
   "id": "29ef7e58-7ec3-4b1d-be56-4d8f4f9292d1",
   "metadata": {},
   "source": [
    "train_test, validation = train_test_split(df, test_size=0.2, stratify=df.Target, random_state=123)\n",
    "train, test = train_test_split(train_test, test_size=0.2, stratify=train_test.Target, random_state=123)"
   ]
  },
  {
   "cell_type": "raw",
   "id": "6180fa3d-de21-45bf-8f1b-bb415605a9fa",
   "metadata": {},
   "source": [
    "from mlem.utilities import create_random_forest"
   ]
  },
  {
   "cell_type": "raw",
   "id": "3fad310f-9e02-49f8-ae2a-4a57ca12c57d",
   "metadata": {},
   "source": [
    "rf = create_random_forest(train.drop('Target', axis=1).to_numpy(), train.Target.to_numpy(), n_jobs=8)"
   ]
  },
  {
   "cell_type": "raw",
   "id": "21502487-5235-4605-bd50-7258316e1b1b",
   "metadata": {},
   "source": [
    "from sklearn.metrics import classification_report"
   ]
  },
  {
   "cell_type": "raw",
   "id": "f767e8f5-fa92-4d0a-b515-cf12aed75992",
   "metadata": {},
   "source": [
    "print(classification_report(test.Target, rf.predict(test.drop('Target', axis=1).to_numpy())))"
   ]
  },
  {
   "cell_type": "raw",
   "id": "f664de15-bb83-4251-8e20-df862bcbc3e9",
   "metadata": {},
   "source": [
    "from mlem.utilities import save_pickle_bz2\n",
    "save_pickle_bz2(\"syntetic_rf.bz2\", rf)"
   ]
  },
  {
   "cell_type": "raw",
   "id": "62f06cd3-9442-4670-9070-958088a6b117",
   "metadata": {},
   "source": [
    "train.to_csv(\"synt_train.csv\")\n",
    "test.to_csv(\"synt_test.csv\")\n",
    "validation.to_csv(\"synt_valid.csv\")"
   ]
  },
  {
   "cell_type": "markdown",
   "id": "71acc9f4-ad96-4498-b8ed-0ccc3d22ce67",
   "metadata": {},
   "source": [
    "data for the attack"
   ]
  },
  {
   "cell_type": "code",
   "execution_count": 4,
   "id": "32195960-6370-4d29-848d-fcb478c76c1f",
   "metadata": {},
   "outputs": [],
   "source": [
    "from mlem.utilities import load_pickle_bz2"
   ]
  },
  {
   "cell_type": "code",
   "execution_count": 12,
   "id": "95d5e5b3-3bfd-4d95-b944-be7caf33e25c",
   "metadata": {},
   "outputs": [
    {
     "name": "stdout",
     "output_type": "stream",
     "text": [
      "BB classification report on test set\n",
      "              precision    recall  f1-score   support\n",
      "\n",
      "           0       0.96      0.95      0.96       480\n",
      "           1       0.95      0.96      0.96       480\n",
      "\n",
      "    accuracy                           0.96       960\n",
      "   macro avg       0.96      0.96      0.96       960\n",
      "weighted avg       0.96      0.96      0.96       960\n",
      "\n"
     ]
    }
   ],
   "source": [
    "BLACK_BOX = load_pickle_bz2(\"syntetic_rf.bz2\")\n",
    "\n",
    "train = pd.read_csv('synt_train.csv', index_col=0)\n",
    "test  = pd.read_csv('synt_test.csv', index_col=0)\n",
    "valid = pd.read_csv('synt_valid.csv', index_col=0)\n",
    "# x_train x_test y_train y_test x_test_clustered y_test_clustered\n",
    "BLACK_BOX_DATA = {\n",
    " 'x_train': train.drop('Target', axis=1).to_numpy(),\n",
    " 'x_test' : test.drop('Target', axis=1).to_numpy(),\n",
    " 'y_train': train.Target.to_numpy(),\n",
    " 'y_test' : test.Target.to_numpy(),\n",
    " 'x_test_clustered': valid.drop('Target', axis=1).to_numpy(),\n",
    " 'y_test_clustered': valid.Target.to_numpy()\n",
    "}\n",
    "print(\"BB classification report on test set\")\n",
    "print(classification_report(BLACK_BOX_DATA['y_test'], BLACK_BOX.predict(BLACK_BOX_DATA['x_test'])))\n",
    "CATEGORICAL_FEATURES_MASK = [False for _ in BLACK_BOX_DATA['x_train'][0]]"
   ]
  },
  {
   "cell_type": "code",
   "execution_count": 13,
   "id": "e517aa1c-0830-45d1-a014-5202eff449b1",
   "metadata": {},
   "outputs": [],
   "source": [
    "train_distr = pd.DataFrame(BLACK_BOX_DATA['y_train']).value_counts(normalize=True)\n",
    "test_distr = pd.DataFrame(BLACK_BOX_DATA['y_test']).value_counts(normalize=True)"
   ]
  },
  {
   "cell_type": "code",
   "execution_count": 14,
   "id": "4f7f0258-3862-4f62-bb3d-07f275adf25b",
   "metadata": {},
   "outputs": [
    {
     "name": "stdout",
     "output_type": "stream",
     "text": [
      "train size = 3840 | test size = 960 | total size = 4800\n",
      "train distribution:\n",
      "1    0.500521\n",
      "0    0.499479\n",
      "dtype: float64\n",
      "\n",
      "test distribution:\n",
      "0    0.5\n",
      "1    0.5\n",
      "dtype: float64\n"
     ]
    }
   ],
   "source": [
    "print(f\"train size = {len(BLACK_BOX_DATA['y_train'])} | test size = {len(BLACK_BOX_DATA['y_test'])} | total size = {len(BLACK_BOX_DATA['y_train']) + len(BLACK_BOX_DATA['y_test'])}\")\n",
    "print(f\"train distribution:\\n{train_distr}\\n\")\n",
    "print(f\"test distribution:\\n{test_distr}\")"
   ]
  },
  {
   "cell_type": "markdown",
   "id": "6d92aacd-7c23-4d89-ab43-eb368def3f38",
   "metadata": {},
   "source": [
    "X and Y are the row to attack"
   ]
  },
  {
   "cell_type": "code",
   "execution_count": 15,
   "id": "1ba50f1d-6f06-4573-bb55-b428b4a19d5c",
   "metadata": {},
   "outputs": [],
   "source": [
    "INDEX = 0"
   ]
  },
  {
   "cell_type": "code",
   "execution_count": 16,
   "id": "19b006a8-a388-4eda-8ea5-5986daa6fab4",
   "metadata": {},
   "outputs": [],
   "source": [
    "X = BLACK_BOX_DATA['x_test_clustered'][INDEX]\n",
    "Y = BLACK_BOX_DATA['y_test_clustered'][INDEX]"
   ]
  },
  {
   "cell_type": "markdown",
   "id": "a12c3782-305a-4477-9a56-9592c362dff4",
   "metadata": {},
   "source": [
    "### building the explainer"
   ]
  },
  {
   "cell_type": "markdown",
   "id": "adb5caa6-d31a-41fc-8ff9-20cb306fa156",
   "metadata": {},
   "source": [
    "Training the explainer on the training data of the black box"
   ]
  },
  {
   "cell_type": "code",
   "execution_count": 17,
   "id": "58d4cc43-cc3e-4fd4-aee0-e147e86405d7",
   "metadata": {},
   "outputs": [],
   "source": [
    "explainer_training_data = BLACK_BOX_DATA['x_train']\n",
    "explainer = LimeTabularExplainer(training_data=explainer_training_data, categorical_features=[i for (i, el) in enumerate(CATEGORICAL_FEATURES_MASK) if el], random_state=123)"
   ]
  },
  {
   "cell_type": "markdown",
   "id": "2d47bdbc-9b3f-4690-95ac-2fb7899f176c",
   "metadata": {},
   "source": [
    "# Attack Pipeline"
   ]
  },
  {
   "cell_type": "markdown",
   "id": "21cf70a0-6b7a-48b7-aad3-f7c46554eb8a",
   "metadata": {},
   "source": [
    "## 1) Creating the local explainer\n",
    "\n",
    "at the end of this section the important variables will be:\n",
    "* `local_model` : contains the local model (the ensemble classifier generated by LIME)\n",
    "* `x_neigh` : contains the neighborhood generated by LIME\n",
    "* `y_neigh`: contains the classification of `x_neigh` generated by the local_model"
   ]
  },
  {
   "cell_type": "markdown",
   "id": "380eaf54-1715-47f8-a04c-bb9c6950d020",
   "metadata": {},
   "source": [
    "This code is contained in the `__get_local_data` function in the mlem code"
   ]
  },
  {
   "cell_type": "code",
   "execution_count": 20,
   "id": "448f4ded-288c-40ae-8531-9e523b79a321",
   "metadata": {},
   "outputs": [],
   "source": [
    "explanations, lime_models, x_neigh = explainer.explain_instance(X, BLACK_BOX.predict_proba, labels=[0,1], sampling_method=\"gaussian\", num_samples=5000, num_features=len(X))"
   ]
  },
  {
   "cell_type": "code",
   "execution_count": 19,
   "id": "a04d09ee-5bf8-460f-8964-825b44ea329e",
   "metadata": {},
   "outputs": [
    {
     "data": {
      "image/png": "[encoded data removed]",
      "text/plain": [
       "<Figure size 288x288 with 1 Axes>"
      ]
     },
     "metadata": {
      "needs_background": "light"
     },
     "output_type": "display_data"
    },
    {
     "data": {
      "image/png": "[encoded data removed]",
      "text/plain": [
       "<Figure size 288x288 with 1 Axes>"
      ]
     },
     "metadata": {
      "needs_background": "light"
     },
     "output_type": "display_data"
    }
   ],
   "source": [
    "fig0 = explanations.as_pyplot_figure(label=0)\n",
    "fig1 = explanations.as_pyplot_figure(label=1)"
   ]
  },
  {
   "cell_type": "markdown",
   "id": "dcde483c-8e58-4ac9-8bdd-3894256ceeb3",
   "metadata": {},
   "source": [
    "Difference between the points in the neighborhood and the original instance.\n",
    "\n",
    "*The instances generated by LIME are not very close to the original instance, maybe we could generate neighborhoods in a loop and keep only the closest elements*"
   ]
  },
  {
   "cell_type": "code",
   "execution_count": 21,
   "id": "50412b35-1f72-40fc-a25b-c88ab5fd1511",
   "metadata": {},
   "outputs": [
    {
     "name": "stdout",
     "output_type": "stream",
     "text": [
      "with cat:\tmax = 18.87 min = 1.89 avg = 10.03 std= 2.67\n",
      "without cat:\tmax = 18.87 min = 1.89 avg = 10.03 std= 2.67\n"
     ]
    }
   ],
   "source": [
    "from mlem.utilities import norm_nocategorical\n",
    "difference_from_X_cat = [np.linalg.norm(x_neigh[0]-x) for x in x_neigh]\n",
    "difference_from_X_nocat = [norm_nocategorical(x_neigh[0]-x, CATEGORICAL_FEATURES_MASK) for x in x_neigh]\n",
    "print(f\"with cat:\\tmax = {max(difference_from_X_cat[1:]):.2f} min = {min(difference_from_X_cat[1:]):.2f} avg = {np.average(difference_from_X_cat[1:]):.2f} std= {np.std(difference_from_X_cat[1:]):.2f}\")\n",
    "print(f\"without cat:\\tmax = {max(difference_from_X_nocat[1:]):.2f} min = {min(difference_from_X_nocat[1:]):.2f} avg = {np.average(difference_from_X_nocat[1:]):.2f} std= {np.std(difference_from_X_nocat[1:]):.2f}\")"
   ]
  },
  {
   "cell_type": "markdown",
   "id": "1bac94a5-228f-42f9-ab14-f990920a5c9d",
   "metadata": {},
   "source": [
    "Creating the local model as ensamble of the models returned by lime"
   ]
  },
  {
   "cell_type": "code",
   "execution_count": 22,
   "id": "07c8011d-68ac-4dbb-9419-108b41014d47",
   "metadata": {},
   "outputs": [
    {
     "data": {
      "text/plain": [
       "[Ridge(alpha=1, random_state=RandomState(MT19937) at 0x7F1481ECBB40),\n",
       " Ridge(alpha=1, random_state=RandomState(MT19937) at 0x7F1481ECBB40)]"
      ]
     },
     "execution_count": 22,
     "metadata": {},
     "output_type": "execute_result"
    }
   ],
   "source": [
    "lime_models"
   ]
  },
  {
   "cell_type": "code",
   "execution_count": 23,
   "id": "2b1bf72a-6413-44b2-8a49-e60ad66ad908",
   "metadata": {},
   "outputs": [],
   "source": [
    "from mlem.ensemble import EnsembleClassifier\n",
    "local_model = EnsembleClassifier(classifiers=lime_models)\n",
    "y_neigh = local_model.predict(x_neigh)"
   ]
  },
  {
   "cell_type": "markdown",
   "id": "063d6f5c-81b6-4a5b-9b93-03b3a454f4fe",
   "metadata": {},
   "source": [
    "Difference between the lime models, the local model (ensemble) and the black box in classifying the neighborhood generated by lime.\n",
    "\n",
    "The first value corresponds to the instance around which we are building the neighborhood"
   ]
  },
  {
   "cell_type": "code",
   "execution_count": 24,
   "id": "df7dc767-ebb5-4ba7-a3bf-38be878415bc",
   "metadata": {},
   "outputs": [],
   "source": [
    "lime_0_x_neigh_class = pd.DataFrame(lime_models[0].predict(x_neigh))\n",
    "lime_1_x_neigh_class = pd.DataFrame(lime_models[1].predict(x_neigh))\n",
    "ens_x_neigh_class = pd.DataFrame(y_neigh)\n",
    "bb_x_neigh_class = pd.DataFrame(BLACK_BOX.predict(x_neigh))"
   ]
  },
  {
   "cell_type": "markdown",
   "id": "f2e9c796-837f-483c-be76-eb6c1343fdcc",
   "metadata": {},
   "source": [
    "The two models returned by LIME used to build the ensemble generate predictions that sum to 1"
   ]
  },
  {
   "cell_type": "code",
   "execution_count": 25,
   "id": "ea44e17f-743b-4b6c-b846-0d301e84e249",
   "metadata": {},
   "outputs": [
    {
     "name": "stdout",
     "output_type": "stream",
     "text": [
      "[True]\n"
     ]
    }
   ],
   "source": [
    "print((lime_0_x_neigh_class + lime_1_x_neigh_class >= .99).all().to_list())"
   ]
  },
  {
   "cell_type": "markdown",
   "id": "4bf8fee6-f65c-4d08-9203-dd5761800517",
   "metadata": {},
   "source": [
    "Labels assignment of the ensemble and the black box on the neighborhood generated by LIME"
   ]
  },
  {
   "cell_type": "code",
   "execution_count": 26,
   "id": "54095cd0-3216-4e8d-8b07-8b001aaf8526",
   "metadata": {},
   "outputs": [
    {
     "data": {
      "text/plain": [
       "0    0.6076\n",
       "1    0.3924\n",
       "dtype: float64"
      ]
     },
     "execution_count": 26,
     "metadata": {},
     "output_type": "execute_result"
    }
   ],
   "source": [
    "ens_x_neigh_class.value_counts(normalize=True)"
   ]
  },
  {
   "cell_type": "code",
   "execution_count": 27,
   "id": "79e81d7a-0dd0-4674-8984-dc2a80650ebc",
   "metadata": {},
   "outputs": [
    {
     "data": {
      "text/plain": [
       "1    0.5358\n",
       "0    0.4642\n",
       "dtype: float64"
      ]
     },
     "execution_count": 27,
     "metadata": {},
     "output_type": "execute_result"
    }
   ],
   "source": [
    "bb_x_neigh_class.value_counts(normalize=True)"
   ]
  },
  {
   "cell_type": "markdown",
   "id": "c68da8eb-b36f-4357-9d9a-babc0564a740",
   "metadata": {},
   "source": [
    "**We can see that the ensemble inverts the label distribution**\n",
    "\n",
    "Percentage of classifications where the ensemble and the bb agree:"
   ]
  },
  {
   "cell_type": "code",
   "execution_count": 28,
   "id": "51b4d240-9c63-4fe1-9875-08f1b046e524",
   "metadata": {},
   "outputs": [
    {
     "data": {
      "text/plain": [
       "True     0.713\n",
       "False    0.287\n",
       "dtype: float64"
      ]
     },
     "execution_count": 28,
     "metadata": {},
     "output_type": "execute_result"
    }
   ],
   "source": [
    "(bb_x_neigh_class == ens_x_neigh_class).value_counts(normalize=True)"
   ]
  },
  {
   "cell_type": "markdown",
   "id": "400e5e31-c6d5-4a25-b01d-7e6392b29bf8",
   "metadata": {},
   "source": [
    "**Let's see if the black box and the local explainer agree on the points of the neighborhood which are close to the instance used to generate the neigh.**"
   ]
  },
  {
   "cell_type": "code",
   "execution_count": 33,
   "id": "162a78c5-632b-447b-ba42-143880d86d6f",
   "metadata": {},
   "outputs": [
    {
     "name": "stdout",
     "output_type": "stream",
     "text": [
      "len(x_neigh_closest)=23\n"
     ]
    }
   ],
   "source": [
    "x_neigh_closest = np.array([x for x in x_neigh if np.linalg.norm(X-x) < 4.0 ])\n",
    "print(f\"{len(x_neigh_closest)=}\")"
   ]
  },
  {
   "cell_type": "markdown",
   "id": "e8f3ce2f-ba81-4ddd-a145-80b27599a562",
   "metadata": {},
   "source": [
    "The black box and the local model don't agree much or at all on the closest points. The more I set the threshold high, the more they disagree."
   ]
  },
  {
   "cell_type": "code",
   "execution_count": 34,
   "id": "e08934e0-c8d1-4f8d-bdc2-e80a67daeb22",
   "metadata": {},
   "outputs": [
    {
     "data": {
      "text/plain": [
       "False    0.913043\n",
       "True     0.086957\n",
       "dtype: float64"
      ]
     },
     "execution_count": 34,
     "metadata": {},
     "output_type": "execute_result"
    }
   ],
   "source": [
    "pd.DataFrame(BLACK_BOX.predict(x_neigh_closest) == local_model.predict(x_neigh_closest)).value_counts(normalize=True)"
   ]
  },
  {
   "cell_type": "code",
   "execution_count": 35,
   "id": "6c6be29d-81f4-4010-8be0-7d191e6d7005",
   "metadata": {},
   "outputs": [
    {
     "name": "stdout",
     "output_type": "stream",
     "text": [
      "The true label of the original instance X is 1\n"
     ]
    }
   ],
   "source": [
    "print(f\"The true label of the original instance X is {Y}\")"
   ]
  },
  {
   "cell_type": "code",
   "execution_count": 36,
   "id": "cd2d507d-f7a7-47fe-88c2-a79c1bc0a402",
   "metadata": {},
   "outputs": [
    {
     "data": {
      "text/plain": [
       "array([0, 0, 0, 0, 0, 0, 0, 0, 0, 0, 0, 0, 0, 0, 0, 1, 0, 0, 0, 0, 0, 0,\n",
       "       0])"
      ]
     },
     "execution_count": 36,
     "metadata": {},
     "output_type": "execute_result"
    }
   ],
   "source": [
    "local_model.predict(x_neigh_closest)"
   ]
  },
  {
   "cell_type": "code",
   "execution_count": 37,
   "id": "cc7f614c-e4b2-4e04-82f7-c95c79ed27f2",
   "metadata": {},
   "outputs": [
    {
     "data": {
      "text/plain": [
       "array([1, 1, 1, 1, 1, 1, 1, 1, 1, 1, 1, 1, 1, 1, 1, 1, 1, 1, 0, 1, 1, 1,\n",
       "       1])"
      ]
     },
     "execution_count": 37,
     "metadata": {},
     "output_type": "execute_result"
    }
   ],
   "source": [
    "BLACK_BOX.predict(x_neigh_closest)"
   ]
  },
  {
   "cell_type": "code",
   "execution_count": null,
   "id": "ebf2ab10-2fa3-4ffb-8946-0170667d9dc4",
   "metadata": {},
   "outputs": [],
   "source": []
  }
 ],
 "metadata": {
  "kernelspec": {
   "display_name": "Python 3 (ipykernel)",
   "language": "python",
   "name": "python3"
  },
  "language_info": {
   "codemirror_mode": {
    "name": "ipython",
    "version": 3
   },
   "file_extension": ".py",
   "mimetype": "text/x-python",
   "name": "python",
   "nbconvert_exporter": "python",
   "pygments_lexer": "ipython3",
   "version": "3.9.9"
  }
 },
 "nbformat": 4,
 "nbformat_minor": 5
}
