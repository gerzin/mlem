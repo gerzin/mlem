{
 "cells": [
  {
   "cell_type": "markdown",
   "id": "dcd9b7b4-74f1-40b2-8078-e0f60d9c4531",
   "metadata": {},
   "source": [
    "# Attack pipeline on Adult using a Decision Tree as explainer"
   ]
  },
  {
   "cell_type": "code",
   "execution_count": 1,
   "id": "cbefd4b2-fe9a-465f-af10-88e782c9fd8b",
   "metadata": {},
   "outputs": [],
   "source": [
    "import numpy as np\n",
    "import pandas as pd\n",
    "import sys\n",
    "sys.path.append(\"../../\")\n",
    "sys.path.append(\"../../lime/\")\n",
    "import mlem\n",
    "import matplotlib.pyplot as plt\n",
    "from lime.lime_tabular import LimeTabularExplainer\n",
    "from sklearn.utils import shuffle\n",
    "from sklearn import tree\n",
    "from pathlib import Path"
   ]
  },
  {
   "cell_type": "code",
   "execution_count": 2,
   "id": "09f67959-396c-40c2-aaa2-750218ba89d8",
   "metadata": {},
   "outputs": [],
   "source": [
    "from sklearn.model_selection import train_test_split\n",
    "from sklearn.metrics import classification_report, ConfusionMatrixDisplay\n",
    "from sklearn.experimental import enable_halving_search_cv\n",
    "from sklearn.model_selection import HalvingGridSearchCV, GridSearchCV\n",
    "from mlem.utilities import save_pickle_bz2, load_pickle_bz2"
   ]
  },
  {
   "cell_type": "markdown",
   "id": "7c45e9ed-efc7-4525-87d4-9905f675707f",
   "metadata": {},
   "source": [
    "# DATA LOADING AND CONFIGURATION"
   ]
  },
  {
   "cell_type": "code",
   "execution_count": 3,
   "id": "d951aefb-a330-4f46-8a48-1a75af7f2486",
   "metadata": {},
   "outputs": [],
   "source": [
    "from mlem.utilities import load_pickle_bz2"
   ]
  },
  {
   "cell_type": "markdown",
   "id": "1d1dca8e-5ba8-487c-9e03-b446c5f46b3a",
   "metadata": {},
   "source": [
    "data for the attack"
   ]
  },
  {
   "cell_type": "code",
   "execution_count": 4,
   "id": "e508faeb-6572-4426-b95d-ded9d9df2603",
   "metadata": {},
   "outputs": [],
   "source": [
    "BLACK_BOX = load_pickle_bz2(\"../datasets/adult/BB_NO_CLUSTERING/BB_DATA/adult_rf_noclustering.bz2\")\n",
    "# x_train x_test y_train y_test x_test_clustered y_test_clustered\n",
    "BLACK_BOX_DATA = np.load(\"../datasets/adult/BB_NO_CLUSTERING/BB_DATA/adult_rf_noclustering_data_nsamples_2.npz\")\n",
    "# on the version of diva we're using all the features are numeric\n",
    "CATEGORICAL_FEATURES_MASK = ADULT_CATEGORICAL_FEATURES_MASK = [False,\n",
    "                                       True,\n",
    "                                       False,\n",
    "                                       True,\n",
    "                                       False,\n",
    "                                       True,\n",
    "                                       True,\n",
    "                                       True,\n",
    "                                       True,\n",
    "                                       True,\n",
    "                                       False,\n",
    "                                       False,\n",
    "                                       False,\n",
    "                                       True]"
   ]
  },
  {
   "cell_type": "code",
   "execution_count": 5,
   "id": "df72977c-3c2e-4893-89a9-1f0de2a9c2f2",
   "metadata": {},
   "outputs": [],
   "source": [
    "train_distr = pd.DataFrame(BLACK_BOX_DATA['y_train']).value_counts(normalize=True)\n",
    "test_distr = pd.DataFrame(BLACK_BOX_DATA['y_test']).value_counts(normalize=True)"
   ]
  },
  {
   "cell_type": "code",
   "execution_count": 6,
   "id": "9e542b3d-da5e-4357-b3c3-a95cad3e9abe",
   "metadata": {},
   "outputs": [
    {
     "name": "stdout",
     "output_type": "stream",
     "text": [
      "train size = 16877 | test size = 7234 | total size = 24111\n",
      "train distribution:\n",
      "0    0.750963\n",
      "1    0.249037\n",
      "dtype: float64\n",
      "\n",
      "test distribution:\n",
      "0    0.750899\n",
      "1    0.249101\n",
      "dtype: float64\n"
     ]
    }
   ],
   "source": [
    "print(f\"train size = {len(BLACK_BOX_DATA['y_train'])} | test size = {len(BLACK_BOX_DATA['y_test'])} | total size = {len(BLACK_BOX_DATA['y_train']) + len(BLACK_BOX_DATA['y_test'])}\")\n",
    "print(f\"train distribution:\\n{train_distr}\\n\")\n",
    "print(f\"test distribution:\\n{test_distr}\")"
   ]
  },
  {
   "cell_type": "markdown",
   "id": "501a2f3c-0c41-410c-b9d4-c8d78c935bb6",
   "metadata": {},
   "source": [
    "X and Y are the row to attack"
   ]
  },
  {
   "cell_type": "code",
   "execution_count": 7,
   "id": "48848fda-af30-46da-a34d-438f1c8f5d02",
   "metadata": {},
   "outputs": [],
   "source": [
    "INDEX = 0"
   ]
  },
  {
   "cell_type": "code",
   "execution_count": 8,
   "id": "e8ebd2ff-6727-4730-81d3-605a84e441d4",
   "metadata": {},
   "outputs": [],
   "source": [
    "X = BLACK_BOX_DATA['x_test_clustered'][INDEX]\n",
    "Y = BLACK_BOX_DATA['y_test_clustered'][INDEX]"
   ]
  },
  {
   "cell_type": "markdown",
   "id": "4e18c2f7-2c92-400a-9788-67d07be1c176",
   "metadata": {},
   "source": [
    "### building the explainer"
   ]
  },
  {
   "cell_type": "markdown",
   "id": "f0935461-84cc-4dcc-bc52-c6cf754b8b56",
   "metadata": {},
   "source": [
    "Training the explainer on the training data of the black box"
   ]
  },
  {
   "cell_type": "code",
   "execution_count": 9,
   "id": "7002bb69-85af-4161-aa16-817854419021",
   "metadata": {},
   "outputs": [],
   "source": [
    "explainer_training_data = BLACK_BOX_DATA['x_train']\n",
    "explainer = LimeTabularExplainer(training_data=explainer_training_data, categorical_features=[i for (i, el) in enumerate(CATEGORICAL_FEATURES_MASK) if el], random_state=123)"
   ]
  },
  {
   "cell_type": "markdown",
   "id": "0964a712-1964-45ef-ac87-e6de54212a87",
   "metadata": {},
   "source": [
    "# Attack Pipeline"
   ]
  },
  {
   "cell_type": "markdown",
   "id": "84b1520f-eb78-4048-b976-449c5e720ef8",
   "metadata": {},
   "source": [
    "## 1) Creating the local explainer\n",
    "\n",
    "at the end of this section the important variables will be:\n",
    "* `local_model` : contains the local model (the ensemble classifier generated by LIME)\n",
    "* `x_neigh` : contains the neighborhood generated by LIME\n",
    "* `y_neigh`: contains the classification of `x_neigh` generated by the local_model"
   ]
  },
  {
   "cell_type": "markdown",
   "id": "3369d311-0d05-4cb0-adc0-c52df3c47808",
   "metadata": {},
   "source": [
    "This code is contained in the `__get_local_data` function in the mlem code"
   ]
  },
  {
   "cell_type": "code",
   "execution_count": 10,
   "id": "130b08d3-d533-47dc-8baa-3a09c71af09d",
   "metadata": {},
   "outputs": [],
   "source": [
    "explanations, lime_models, x_neigh = explainer.explain_instance(X, BLACK_BOX.predict_proba, labels=[0,1], sampling_method=\"gaussian\", num_samples=5000, num_features=len(X))"
   ]
  },
  {
   "cell_type": "code",
   "execution_count": 11,
   "id": "bcbcfbed-ceb9-4c07-904d-5fabccac694b",
   "metadata": {},
   "outputs": [
    {
     "data": {
      "image/png": "[encoded data removed]",
      "text/plain": [
       "<Figure size 288x288 with 1 Axes>"
      ]
     },
     "metadata": {
      "needs_background": "light"
     },
     "output_type": "display_data"
    },
    {
     "data": {
      "image/png": "[encoded data removed]",
      "text/plain": [
       "<Figure size 288x288 with 1 Axes>"
      ]
     },
     "metadata": {
      "needs_background": "light"
     },
     "output_type": "display_data"
    }
   ],
   "source": [
    "fig0 = explanations.as_pyplot_figure(label=0)\n",
    "fig1 = explanations.as_pyplot_figure(label=1)"
   ]
  },
  {
   "cell_type": "markdown",
   "id": "130967c2-2f10-4459-a410-6f9498334a6e",
   "metadata": {},
   "source": [
    "Difference between the points in the neighborhood and the original instance.\n",
    "\n",
    "*The instances generated by LIME are not very close to the original instance, maybe we could generate neighborhoods in a loop and keep only the closest elements*"
   ]
  },
  {
   "cell_type": "code",
   "execution_count": 12,
   "id": "9fe45814-2d70-4edc-baad-462824255c25",
   "metadata": {},
   "outputs": [
    {
     "name": "stdout",
     "output_type": "stream",
     "text": [
      "with cat:\tmax = 11.50 min = 0.55 avg = 2.75 std= 1.22\n",
      "without cat:\tmax = 11.49 min = 0.42 avg = 2.69 std= 1.24\n"
     ]
    }
   ],
   "source": [
    "from mlem.utilities import norm_nocategorical\n",
    "difference_from_X_cat = [np.linalg.norm(x_neigh[0]-x) for x in x_neigh]\n",
    "difference_from_X_nocat = [norm_nocategorical(x_neigh[0]-x, CATEGORICAL_FEATURES_MASK) for x in x_neigh]\n",
    "print(f\"with cat:\\tmax = {max(difference_from_X_cat[1:]):.2f} min = {min(difference_from_X_cat[1:]):.2f} avg = {np.average(difference_from_X_cat[1:]):.2f} std= {np.std(difference_from_X_cat[1:]):.2f}\")\n",
    "print(f\"without cat:\\tmax = {max(difference_from_X_nocat[1:]):.2f} min = {min(difference_from_X_nocat[1:]):.2f} avg = {np.average(difference_from_X_nocat[1:]):.2f} std= {np.std(difference_from_X_nocat[1:]):.2f}\")"
   ]
  },
  {
   "cell_type": "markdown",
   "id": "f5820f5e-f54d-4eed-9a30-23a2634de0f8",
   "metadata": {},
   "source": [
    "Creating the local model as ensamble of the models returned by lime"
   ]
  },
  {
   "cell_type": "code",
   "execution_count": 13,
   "id": "243d4dc9-37fb-451d-8d97-a8cefe0758a9",
   "metadata": {},
   "outputs": [],
   "source": [
    "attack_dataset = pd.DataFrame(x_neigh)\n",
    "attack_dataset['Target'] = BLACK_BOX.predict(attack_dataset.to_numpy())"
   ]
  },
  {
   "cell_type": "code",
   "execution_count": 14,
   "id": "f3f40f0d-89e8-4d8b-a693-1519e5df3b04",
   "metadata": {},
   "outputs": [
    {
     "data": {
      "text/plain": [
       "0    4485\n",
       "1     515\n",
       "Name: Target, dtype: int64"
      ]
     },
     "execution_count": 14,
     "metadata": {},
     "output_type": "execute_result"
    }
   ],
   "source": [
    "attack_dataset.Target.value_counts()"
   ]
  },
  {
   "cell_type": "code",
   "execution_count": 15,
   "id": "e9ad711d-a2cc-4b82-8e34-1f51a912dec8",
   "metadata": {},
   "outputs": [],
   "source": [
    "def generate_balanced_dataset(x, num_samples, black_box, explainer, max_tries=15, shuffle=True, verbose=False):\n",
    "    generated = pd.DataFrame(explainer.data_inverse(x, 5000, 'gaussian')[1])\n",
    "    generated['Target'] = black_box.predict(generated.to_numpy())\n",
    "    min_class =-np.NINF\n",
    "    final = pd.DataFrame()\n",
    "    for t in range(max_tries):\n",
    "        if verbose:\n",
    "            print(f\"try number {t}\")\n",
    "        \n",
    "        if len(final) >= num_samples:\n",
    "            \n",
    "            return final.sample(frac=1) if shuffle else final\n",
    "        \n",
    "        generated = pd.DataFrame(explainer.data_inverse(x, 5000, 'gaussian')[1])\n",
    "        generated['Target'] = black_box.predict(generated.to_numpy())\n",
    "        \n",
    "        zeroes = generated[generated['Target'] == 0]\n",
    "        ones   = generated[generated['Target'] == 1]\n",
    "        \n",
    "        if len(zeroes) == 0 or len(ones) == 0:\n",
    "            continue\n",
    "        \n",
    "        if len(final) < num_samples:\n",
    "            min_len = min(len(zeroes), len(ones))\n",
    "            final = pd.concat([final, zeroes.head(min_len).copy(), ones.head(min_len).copy()])\n",
    "    \n",
    "        if verbose:\n",
    "            p0, p1 = final.Target.value_counts(normalize=True)\n",
    "            print(f\"{len(final)=} {p0=} {p1=}\")\n",
    "        \n",
    "        \n",
    "    raise Exception(\"Could not generate balanced dataset\")\n"
   ]
  },
  {
   "cell_type": "code",
   "execution_count": 16,
   "id": "c9aad038-69e6-4ad4-985e-115cfc91d7c1",
   "metadata": {},
   "outputs": [
    {
     "name": "stdout",
     "output_type": "stream",
     "text": [
      "try number 0\n",
      "len(final)=1014 p0=0.5 p1=0.5\n",
      "try number 1\n",
      "len(final)=2020 p0=0.5 p1=0.5\n",
      "try number 2\n",
      "len(final)=3032 p0=0.5 p1=0.5\n",
      "try number 3\n",
      "len(final)=4008 p0=0.5 p1=0.5\n",
      "try number 4\n",
      "len(final)=4996 p0=0.5 p1=0.5\n",
      "try number 5\n",
      "len(final)=5960 p0=0.5 p1=0.5\n",
      "try number 6\n"
     ]
    }
   ],
   "source": [
    "#g = generate_balanced_dataset(X, 5000, BLACK_BOX, explainer, 20, True, True)"
   ]
  },
  {
   "cell_type": "code",
   "execution_count": 17,
   "id": "2e412424-4d09-49d8-89c4-30c0ce670bcc",
   "metadata": {},
   "outputs": [],
   "source": [
    "#g.to_csv(\"adult_lime_generated_around_0.csv\", index=False)"
   ]
  },
  {
   "cell_type": "code",
   "execution_count": 16,
   "id": "2b03914a-2e80-47cd-a5cf-cc62abe3ade7",
   "metadata": {},
   "outputs": [],
   "source": [
    "generated_dataset = pd.read_csv(\"adult_lime_generated_around_0.csv\")"
   ]
  },
  {
   "cell_type": "code",
   "execution_count": 17,
   "id": "936e1b39-a384-4e60-9757-a882579a4316",
   "metadata": {},
   "outputs": [],
   "source": [
    "ATTACK_DATASET = generated_dataset.copy()"
   ]
  },
  {
   "cell_type": "code",
   "execution_count": 18,
   "id": "99ae82b5-92db-4304-90a1-ba71b5f34060",
   "metadata": {},
   "outputs": [
    {
     "data": {
      "text/html": [
       "<div>\n",
       "<style scoped>\n",
       "    .dataframe tbody tr th:only-of-type {\n",
       "        vertical-align: middle;\n",
       "    }\n",
       "\n",
       "    .dataframe tbody tr th {\n",
       "        vertical-align: top;\n",
       "    }\n",
       "\n",
       "    .dataframe thead th {\n",
       "        text-align: right;\n",
       "    }\n",
       "</style>\n",
       "<table border=\"1\" class=\"dataframe\">\n",
       "  <thead>\n",
       "    <tr style=\"text-align: right;\">\n",
       "      <th></th>\n",
       "      <th>0</th>\n",
       "      <th>1</th>\n",
       "      <th>2</th>\n",
       "      <th>3</th>\n",
       "      <th>4</th>\n",
       "      <th>5</th>\n",
       "      <th>6</th>\n",
       "      <th>7</th>\n",
       "      <th>8</th>\n",
       "      <th>9</th>\n",
       "      <th>10</th>\n",
       "      <th>11</th>\n",
       "      <th>12</th>\n",
       "      <th>13</th>\n",
       "      <th>Target</th>\n",
       "    </tr>\n",
       "  </thead>\n",
       "  <tbody>\n",
       "    <tr>\n",
       "      <th>0</th>\n",
       "      <td>0.409510</td>\n",
       "      <td>0.558659</td>\n",
       "      <td>-0.844732</td>\n",
       "      <td>0.421658</td>\n",
       "      <td>0.359433</td>\n",
       "      <td>0.048399</td>\n",
       "      <td>0.270647</td>\n",
       "      <td>0.106689</td>\n",
       "      <td>0.263855</td>\n",
       "      <td>0.113783</td>\n",
       "      <td>-0.000003</td>\n",
       "      <td>0.000000</td>\n",
       "      <td>0.409809</td>\n",
       "      <td>0.049180</td>\n",
       "      <td>0</td>\n",
       "    </tr>\n",
       "    <tr>\n",
       "      <th>1</th>\n",
       "      <td>-0.208209</td>\n",
       "      <td>0.218918</td>\n",
       "      <td>-1.410832</td>\n",
       "      <td>0.164328</td>\n",
       "      <td>1.013728</td>\n",
       "      <td>0.048399</td>\n",
       "      <td>0.124236</td>\n",
       "      <td>0.455728</td>\n",
       "      <td>0.263855</td>\n",
       "      <td>0.113783</td>\n",
       "      <td>1.086590</td>\n",
       "      <td>0.000000</td>\n",
       "      <td>1.542178</td>\n",
       "      <td>0.254411</td>\n",
       "      <td>1</td>\n",
       "    </tr>\n",
       "    <tr>\n",
       "      <th>2</th>\n",
       "      <td>-0.633597</td>\n",
       "      <td>0.218918</td>\n",
       "      <td>-1.233630</td>\n",
       "      <td>0.164328</td>\n",
       "      <td>-1.535673</td>\n",
       "      <td>0.455011</td>\n",
       "      <td>0.202926</td>\n",
       "      <td>0.066334</td>\n",
       "      <td>0.263855</td>\n",
       "      <td>0.313955</td>\n",
       "      <td>-0.000003</td>\n",
       "      <td>3.879882</td>\n",
       "      <td>-1.304366</td>\n",
       "      <td>0.375000</td>\n",
       "      <td>0</td>\n",
       "    </tr>\n",
       "    <tr>\n",
       "      <th>3</th>\n",
       "      <td>-1.265526</td>\n",
       "      <td>0.218918</td>\n",
       "      <td>-0.965305</td>\n",
       "      <td>0.164328</td>\n",
       "      <td>-1.738403</td>\n",
       "      <td>0.455011</td>\n",
       "      <td>0.448686</td>\n",
       "      <td>0.106689</td>\n",
       "      <td>0.263855</td>\n",
       "      <td>0.313955</td>\n",
       "      <td>-0.000003</td>\n",
       "      <td>0.000000</td>\n",
       "      <td>-0.512544</td>\n",
       "      <td>0.254411</td>\n",
       "      <td>0</td>\n",
       "    </tr>\n",
       "    <tr>\n",
       "      <th>4</th>\n",
       "      <td>2.543788</td>\n",
       "      <td>0.218918</td>\n",
       "      <td>-0.847469</td>\n",
       "      <td>0.421658</td>\n",
       "      <td>-0.954022</td>\n",
       "      <td>0.048399</td>\n",
       "      <td>0.326087</td>\n",
       "      <td>0.455728</td>\n",
       "      <td>0.118881</td>\n",
       "      <td>0.113783</td>\n",
       "      <td>-0.000003</td>\n",
       "      <td>0.000000</td>\n",
       "      <td>1.143054</td>\n",
       "      <td>0.254411</td>\n",
       "      <td>0</td>\n",
       "    </tr>\n",
       "    <tr>\n",
       "      <th>...</th>\n",
       "      <td>...</td>\n",
       "      <td>...</td>\n",
       "      <td>...</td>\n",
       "      <td>...</td>\n",
       "      <td>...</td>\n",
       "      <td>...</td>\n",
       "      <td>...</td>\n",
       "      <td>...</td>\n",
       "      <td>...</td>\n",
       "      <td>...</td>\n",
       "      <td>...</td>\n",
       "      <td>...</td>\n",
       "      <td>...</td>\n",
       "      <td>...</td>\n",
       "      <td>...</td>\n",
       "    </tr>\n",
       "    <tr>\n",
       "      <th>5955</th>\n",
       "      <td>-0.479600</td>\n",
       "      <td>0.218918</td>\n",
       "      <td>-0.387703</td>\n",
       "      <td>0.164328</td>\n",
       "      <td>0.971225</td>\n",
       "      <td>0.455011</td>\n",
       "      <td>0.124236</td>\n",
       "      <td>0.106689</td>\n",
       "      <td>0.263855</td>\n",
       "      <td>0.313955</td>\n",
       "      <td>5.616319</td>\n",
       "      <td>0.000000</td>\n",
       "      <td>-2.137192</td>\n",
       "      <td>0.352941</td>\n",
       "      <td>1</td>\n",
       "    </tr>\n",
       "    <tr>\n",
       "      <th>5956</th>\n",
       "      <td>-0.645313</td>\n",
       "      <td>0.218918</td>\n",
       "      <td>-1.348159</td>\n",
       "      <td>0.200180</td>\n",
       "      <td>-1.878411</td>\n",
       "      <td>0.455011</td>\n",
       "      <td>0.225590</td>\n",
       "      <td>0.014343</td>\n",
       "      <td>0.263855</td>\n",
       "      <td>0.313955</td>\n",
       "      <td>-0.000003</td>\n",
       "      <td>0.000000</td>\n",
       "      <td>0.779427</td>\n",
       "      <td>0.254411</td>\n",
       "      <td>0</td>\n",
       "    </tr>\n",
       "    <tr>\n",
       "      <th>5957</th>\n",
       "      <td>-1.231821</td>\n",
       "      <td>0.218918</td>\n",
       "      <td>0.069874</td>\n",
       "      <td>0.421658</td>\n",
       "      <td>1.891847</td>\n",
       "      <td>0.455011</td>\n",
       "      <td>0.061527</td>\n",
       "      <td>0.455728</td>\n",
       "      <td>0.263855</td>\n",
       "      <td>0.313955</td>\n",
       "      <td>4.326577</td>\n",
       "      <td>0.000000</td>\n",
       "      <td>-1.509275</td>\n",
       "      <td>0.254411</td>\n",
       "      <td>1</td>\n",
       "    </tr>\n",
       "    <tr>\n",
       "      <th>5958</th>\n",
       "      <td>0.454095</td>\n",
       "      <td>0.268960</td>\n",
       "      <td>2.038795</td>\n",
       "      <td>0.200180</td>\n",
       "      <td>-1.668262</td>\n",
       "      <td>0.107312</td>\n",
       "      <td>0.326087</td>\n",
       "      <td>0.014343</td>\n",
       "      <td>0.263855</td>\n",
       "      <td>0.313955</td>\n",
       "      <td>-0.000003</td>\n",
       "      <td>0.000000</td>\n",
       "      <td>-1.289506</td>\n",
       "      <td>0.254411</td>\n",
       "      <td>0</td>\n",
       "    </tr>\n",
       "    <tr>\n",
       "      <th>5959</th>\n",
       "      <td>-0.815584</td>\n",
       "      <td>0.218918</td>\n",
       "      <td>-1.308718</td>\n",
       "      <td>0.200180</td>\n",
       "      <td>1.271084</td>\n",
       "      <td>0.048399</td>\n",
       "      <td>0.041134</td>\n",
       "      <td>0.455728</td>\n",
       "      <td>0.263855</td>\n",
       "      <td>0.313955</td>\n",
       "      <td>-0.000003</td>\n",
       "      <td>0.000000</td>\n",
       "      <td>-1.153673</td>\n",
       "      <td>0.254411</td>\n",
       "      <td>0</td>\n",
       "    </tr>\n",
       "  </tbody>\n",
       "</table>\n",
       "<p>5960 rows × 15 columns</p>\n",
       "</div>"
      ],
      "text/plain": [
       "             0         1         2         3         4         5         6  \\\n",
       "0     0.409510  0.558659 -0.844732  0.421658  0.359433  0.048399  0.270647   \n",
       "1    -0.208209  0.218918 -1.410832  0.164328  1.013728  0.048399  0.124236   \n",
       "2    -0.633597  0.218918 -1.233630  0.164328 -1.535673  0.455011  0.202926   \n",
       "3    -1.265526  0.218918 -0.965305  0.164328 -1.738403  0.455011  0.448686   \n",
       "4     2.543788  0.218918 -0.847469  0.421658 -0.954022  0.048399  0.326087   \n",
       "...        ...       ...       ...       ...       ...       ...       ...   \n",
       "5955 -0.479600  0.218918 -0.387703  0.164328  0.971225  0.455011  0.124236   \n",
       "5956 -0.645313  0.218918 -1.348159  0.200180 -1.878411  0.455011  0.225590   \n",
       "5957 -1.231821  0.218918  0.069874  0.421658  1.891847  0.455011  0.061527   \n",
       "5958  0.454095  0.268960  2.038795  0.200180 -1.668262  0.107312  0.326087   \n",
       "5959 -0.815584  0.218918 -1.308718  0.200180  1.271084  0.048399  0.041134   \n",
       "\n",
       "             7         8         9        10        11        12        13  \\\n",
       "0     0.106689  0.263855  0.113783 -0.000003  0.000000  0.409809  0.049180   \n",
       "1     0.455728  0.263855  0.113783  1.086590  0.000000  1.542178  0.254411   \n",
       "2     0.066334  0.263855  0.313955 -0.000003  3.879882 -1.304366  0.375000   \n",
       "3     0.106689  0.263855  0.313955 -0.000003  0.000000 -0.512544  0.254411   \n",
       "4     0.455728  0.118881  0.113783 -0.000003  0.000000  1.143054  0.254411   \n",
       "...        ...       ...       ...       ...       ...       ...       ...   \n",
       "5955  0.106689  0.263855  0.313955  5.616319  0.000000 -2.137192  0.352941   \n",
       "5956  0.014343  0.263855  0.313955 -0.000003  0.000000  0.779427  0.254411   \n",
       "5957  0.455728  0.263855  0.313955  4.326577  0.000000 -1.509275  0.254411   \n",
       "5958  0.014343  0.263855  0.313955 -0.000003  0.000000 -1.289506  0.254411   \n",
       "5959  0.455728  0.263855  0.313955 -0.000003  0.000000 -1.153673  0.254411   \n",
       "\n",
       "      Target  \n",
       "0          0  \n",
       "1          1  \n",
       "2          0  \n",
       "3          0  \n",
       "4          0  \n",
       "...      ...  \n",
       "5955       1  \n",
       "5956       0  \n",
       "5957       1  \n",
       "5958       0  \n",
       "5959       0  \n",
       "\n",
       "[5960 rows x 15 columns]"
      ]
     },
     "execution_count": 18,
     "metadata": {},
     "output_type": "execute_result"
    }
   ],
   "source": [
    "ATTACK_DATASET"
   ]
  },
  {
   "cell_type": "code",
   "execution_count": 19,
   "id": "287b5d81-db3d-4e94-acbb-4e25b809a444",
   "metadata": {},
   "outputs": [],
   "source": [
    "# Hyperparameters of the grid search\n",
    "__HYPERPARAMETERS = {\n",
    "    \"criterion\": [\"gini\", \"entropy\"],\n",
    "}\n",
    "\n",
    "def create_decision_tree(\n",
    "        x_train,\n",
    "        y_train,\n",
    "        hyperparameters = __HYPERPARAMETERS,\n",
    "        n_jobs=4,\n",
    "        use_halving=True\n",
    "):\n",
    "    \"\"\"Creates a random forest classifier via grid search.\n",
    "\n",
    "    Args:\n",
    "        x_train (ndarray): Training input examples.\n",
    "        y_train (ndarray): Training target values.\n",
    "        hyperparameters (Dict[str, List[Any]], optional): Dictionary of hyperparameters for the grid search. Defaults to the fixed ones.\n",
    "        n_jobs: Number of jobs to run in parallel in the grid search. (default 4)\n",
    "        use_halving (bool): If true use the HalvingGridSearch\n",
    "\n",
    "    Returns:\n",
    "        RandomForestClassifier: Random forest classifier.\n",
    "    \"\"\"\n",
    "\n",
    "    dt = tree.DecisionTreeClassifier()\n",
    "\n",
    "    if use_halving:\n",
    "        clf = HalvingGridSearchCV(dt, hyperparameters, refit=True, n_jobs=n_jobs, verbose=0)\n",
    "    else:\n",
    "        clf = RandomizedSearchCV(dt, hyperparameters, refit=True, n_jobs=n_jobs, verbose=0)\n",
    "    clf.fit(x_train, y_train)\n",
    "    # print(f\"GRID_SEARCH BEST PARAMS: {clf.best_params_=}\")\n",
    "    return clf.best_estimator_"
   ]
  },
  {
   "cell_type": "code",
   "execution_count": 20,
   "id": "bb465c80-8fd4-4c27-a1ea-d2c40e3c64d2",
   "metadata": {},
   "outputs": [],
   "source": [
    "X_train, X_test, y_train, y_test = train_test_split(generated_dataset.drop('Target', axis=1).to_numpy(), generated_dataset.Target.to_numpy(), test_size=0.33, random_state=42)"
   ]
  },
  {
   "cell_type": "code",
   "execution_count": 21,
   "id": "a8ddd534-9c6f-41a6-81fd-e296e93e8dd3",
   "metadata": {},
   "outputs": [],
   "source": [
    "dt = create_decision_tree(X_train, y_train, use_halving=True) if not Path(\"decision_tree_adult96.bz2\").exists() else load_pickle_bz2(\"decision_tree_adult96.bz2\")"
   ]
  },
  {
   "cell_type": "code",
   "execution_count": 22,
   "id": "8b001960-6f69-4a13-9290-640eb0b187ab",
   "metadata": {},
   "outputs": [
    {
     "data": {
      "text/html": [
       "<style>#sk-container-id-1 {color: black;background-color: white;}#sk-container-id-1 pre{padding: 0;}#sk-container-id-1 div.sk-toggleable {background-color: white;}#sk-container-id-1 label.sk-toggleable__label {cursor: pointer;display: block;width: 100%;margin-bottom: 0;padding: 0.3em;box-sizing: border-box;text-align: center;}#sk-container-id-1 label.sk-toggleable__label-arrow:before {content: \"▸\";float: left;margin-right: 0.25em;color: #696969;}#sk-container-id-1 label.sk-toggleable__label-arrow:hover:before {color: black;}#sk-container-id-1 div.sk-estimator:hover label.sk-toggleable__label-arrow:before {color: black;}#sk-container-id-1 div.sk-toggleable__content {max-height: 0;max-width: 0;overflow: hidden;text-align: left;background-color: #f0f8ff;}#sk-container-id-1 div.sk-toggleable__content pre {margin: 0.2em;color: black;border-radius: 0.25em;background-color: #f0f8ff;}#sk-container-id-1 input.sk-toggleable__control:checked~div.sk-toggleable__content {max-height: 200px;max-width: 100%;overflow: auto;}#sk-container-id-1 input.sk-toggleable__control:checked~label.sk-toggleable__label-arrow:before {content: \"▾\";}#sk-container-id-1 div.sk-estimator input.sk-toggleable__control:checked~label.sk-toggleable__label {background-color: #d4ebff;}#sk-container-id-1 div.sk-label input.sk-toggleable__control:checked~label.sk-toggleable__label {background-color: #d4ebff;}#sk-container-id-1 input.sk-hidden--visually {border: 0;clip: rect(1px 1px 1px 1px);clip: rect(1px, 1px, 1px, 1px);height: 1px;margin: -1px;overflow: hidden;padding: 0;position: absolute;width: 1px;}#sk-container-id-1 div.sk-estimator {font-family: monospace;background-color: #f0f8ff;border: 1px dotted black;border-radius: 0.25em;box-sizing: border-box;margin-bottom: 0.5em;}#sk-container-id-1 div.sk-estimator:hover {background-color: #d4ebff;}#sk-container-id-1 div.sk-parallel-item::after {content: \"\";width: 100%;border-bottom: 1px solid gray;flex-grow: 1;}#sk-container-id-1 div.sk-label:hover label.sk-toggleable__label {background-color: #d4ebff;}#sk-container-id-1 div.sk-serial::before {content: \"\";position: absolute;border-left: 1px solid gray;box-sizing: border-box;top: 0;bottom: 0;left: 50%;z-index: 0;}#sk-container-id-1 div.sk-serial {display: flex;flex-direction: column;align-items: center;background-color: white;padding-right: 0.2em;padding-left: 0.2em;position: relative;}#sk-container-id-1 div.sk-item {position: relative;z-index: 1;}#sk-container-id-1 div.sk-parallel {display: flex;align-items: stretch;justify-content: center;background-color: white;position: relative;}#sk-container-id-1 div.sk-item::before, #sk-container-id-1 div.sk-parallel-item::before {content: \"\";position: absolute;border-left: 1px solid gray;box-sizing: border-box;top: 0;bottom: 0;left: 50%;z-index: -1;}#sk-container-id-1 div.sk-parallel-item {display: flex;flex-direction: column;z-index: 1;position: relative;background-color: white;}#sk-container-id-1 div.sk-parallel-item:first-child::after {align-self: flex-end;width: 50%;}#sk-container-id-1 div.sk-parallel-item:last-child::after {align-self: flex-start;width: 50%;}#sk-container-id-1 div.sk-parallel-item:only-child::after {width: 0;}#sk-container-id-1 div.sk-dashed-wrapped {border: 1px dashed gray;margin: 0 0.4em 0.5em 0.4em;box-sizing: border-box;padding-bottom: 0.4em;background-color: white;}#sk-container-id-1 div.sk-label label {font-family: monospace;font-weight: bold;display: inline-block;line-height: 1.2em;}#sk-container-id-1 div.sk-label-container {text-align: center;}#sk-container-id-1 div.sk-container {/* jupyter's `normalize.less` sets `[hidden] { display: none; }` but bootstrap.min.css set `[hidden] { display: none !important; }` so we also need the `!important` here to be able to override the default hidden behavior on the sphinx rendered scikit-learn.org. See: https://github.com/scikit-learn/scikit-learn/issues/21755 */display: inline-block !important;position: relative;}#sk-container-id-1 div.sk-text-repr-fallback {display: none;}</style><div id=\"sk-container-id-1\" class=\"sk-top-container\"><div class=\"sk-text-repr-fallback\"><pre>DecisionTreeClassifier()</pre><b>In a Jupyter environment, please rerun this cell to show the HTML representation or trust the notebook. <br />On GitHub, the HTML representation is unable to render, please try loading this page with nbviewer.org.</b></div><div class=\"sk-container\" hidden><div class=\"sk-item\"><div class=\"sk-estimator sk-toggleable\"><input class=\"sk-toggleable__control sk-hidden--visually\" id=\"sk-estimator-id-1\" type=\"checkbox\" checked><label for=\"sk-estimator-id-1\" class=\"sk-toggleable__label sk-toggleable__label-arrow\">DecisionTreeClassifier</label><div class=\"sk-toggleable__content\"><pre>DecisionTreeClassifier()</pre></div></div></div></div></div>"
      ],
      "text/plain": [
       "DecisionTreeClassifier()"
      ]
     },
     "execution_count": 22,
     "metadata": {},
     "output_type": "execute_result"
    }
   ],
   "source": [
    "dt"
   ]
  },
  {
   "cell_type": "markdown",
   "id": "18d445a8-9ef5-45ae-b12f-5bd04d8c568a",
   "metadata": {},
   "source": [
    "The decision tree has good performances"
   ]
  },
  {
   "cell_type": "code",
   "execution_count": 23,
   "id": "e026a908-ed5b-49f2-97ad-c6216762e698",
   "metadata": {},
   "outputs": [
    {
     "name": "stdout",
     "output_type": "stream",
     "text": [
      "              precision    recall  f1-score   support\n",
      "\n",
      "           0       0.95      0.96      0.96       977\n",
      "           1       0.96      0.95      0.96       990\n",
      "\n",
      "    accuracy                           0.96      1967\n",
      "   macro avg       0.96      0.96      0.96      1967\n",
      "weighted avg       0.96      0.96      0.96      1967\n",
      "\n"
     ]
    }
   ],
   "source": [
    "print(classification_report(y_test, dt.predict(X_test)))"
   ]
  },
  {
   "cell_type": "code",
   "execution_count": 24,
   "id": "6f56e09b-34ee-475f-94a1-c06cd4211224",
   "metadata": {},
   "outputs": [],
   "source": [
    "if not Path(\"decision_tree_adult96.bz2\").exists():\n",
    "    save_pickle_bz2(\"decision_tree_adult96.bz2\", dt)\n",
    "    np.savez(\"decision_tree_adult_96.data.npz\", X_train=X_train, X_test=X_test, y_train=y_train, y_test=y_test)"
   ]
  },
  {
   "cell_type": "markdown",
   "id": "f0556b10-d208-4955-995a-cf155de8c577",
   "metadata": {},
   "source": [
    "# Attacking the decision tree"
   ]
  },
  {
   "cell_type": "code",
   "execution_count": 32,
   "id": "256df5a0-7b91-4bcb-8b0e-470f6fb6043b",
   "metadata": {},
   "outputs": [],
   "source": [
    "from mlem.shadow_models import ShadowModelsManager"
   ]
  },
  {
   "cell_type": "code",
   "execution_count": 33,
   "id": "97db0da0-4eee-4749-9ec7-cbf283363424",
   "metadata": {},
   "outputs": [],
   "source": [
    "local_tree = load_pickle_bz2(\"decision_tree_adult96.bz2\")\n",
    "loaded     = np.load(\"decision_tree_adult_96.data.npz\", allow_pickle=True)"
   ]
  },
  {
   "cell_type": "code",
   "execution_count": 34,
   "id": "0d51268e-1268-4422-9068-892da0a4a1d8",
   "metadata": {},
   "outputs": [],
   "source": [
    "X_train = loaded['X_train']\n",
    "X_test  = loaded['X_test']\n",
    "y_train = loaded['y_train']\n",
    "y_test  = loaded['y_test']\n",
    "full_generated_dataset = pd.read_csv(\"adult_lime_generated_around_0.csv\")"
   ]
  },
  {
   "cell_type": "markdown",
   "id": "b4397247-5b8a-4853-be25-3b2a1f972c51",
   "metadata": {},
   "source": [
    "Using the lime generated dataset as x_attack and the labels computed by the dt as y_attack"
   ]
  },
  {
   "cell_type": "code",
   "execution_count": 35,
   "id": "1fe1c416-0e87-4b39-897b-4d0f237e667e",
   "metadata": {},
   "outputs": [],
   "source": [
    "x_attack = full_generated_dataset.drop('Target', axis=1)\n",
    "y_attack = local_tree.predict(x_attack.to_numpy())"
   ]
  },
  {
   "cell_type": "code",
   "execution_count": 36,
   "id": "05c8b34d-38e8-4137-95b3-7227cfcf79b3",
   "metadata": {},
   "outputs": [
    {
     "data": {
      "text/plain": [
       "True     0.986074\n",
       "False    0.013926\n",
       "Name: Target, dtype: float64"
      ]
     },
     "execution_count": 36,
     "metadata": {},
     "output_type": "execute_result"
    }
   ],
   "source": [
    "(y_attack == full_generated_dataset.Target).value_counts(normalize=True)"
   ]
  },
  {
   "cell_type": "markdown",
   "id": "b03959bf-e2f8-43d1-8bd0-c24004a0fd66",
   "metadata": {},
   "source": [
    "### with Adaboost"
   ]
  },
  {
   "cell_type": "code",
   "execution_count": 36,
   "id": "ceaa11c8-7ac0-4cda-b416-853d42417d91",
   "metadata": {},
   "outputs": [],
   "source": [
    "from mlem.utilities import create_adaboost\n",
    "\n",
    "path=\"DT/shadow_adab_adult_dt\"\n",
    "\n",
    "shadow_models = ShadowModelsManager(\n",
    "        n_models=4,\n",
    "        results_path=f\"{path}/shadow\",\n",
    "        test_size=0.5,\n",
    "        random_state=123,\n",
    "        model_creator_fn=create_adaboost,\n",
    "        categorical_mask=CATEGORICAL_FEATURES_MASK\n",
    "    )"
   ]
  },
  {
   "cell_type": "markdown",
   "id": "e5b57d28-675d-42b4-9d3e-e53157ff7873",
   "metadata": {},
   "source": [
    "Fitting 4 shadow models on the data"
   ]
  },
  {
   "cell_type": "code",
   "execution_count": 37,
   "id": "078ca55e-0650-4426-b331-c1684ee611a1",
   "metadata": {},
   "outputs": [],
   "source": [
    "shadow_models.fit(x_attack, y_attack)"
   ]
  },
  {
   "cell_type": "code",
   "execution_count": 38,
   "id": "8a856831-850b-45e8-8567-a0ece80549d4",
   "metadata": {},
   "outputs": [
    {
     "data": {
      "text/html": [
       "<div>\n",
       "<style scoped>\n",
       "    .dataframe tbody tr th:only-of-type {\n",
       "        vertical-align: middle;\n",
       "    }\n",
       "\n",
       "    .dataframe tbody tr th {\n",
       "        vertical-align: top;\n",
       "    }\n",
       "\n",
       "    .dataframe thead th {\n",
       "        text-align: right;\n",
       "    }\n",
       "</style>\n",
       "<table border=\"1\" class=\"dataframe\">\n",
       "  <thead>\n",
       "    <tr style=\"text-align: right;\">\n",
       "      <th></th>\n",
       "      <th>0</th>\n",
       "      <th>1</th>\n",
       "      <th>label</th>\n",
       "      <th>inout</th>\n",
       "    </tr>\n",
       "  </thead>\n",
       "  <tbody>\n",
       "    <tr>\n",
       "      <th>0</th>\n",
       "      <td>0.345676</td>\n",
       "      <td>0.654324</td>\n",
       "      <td>1</td>\n",
       "      <td>in</td>\n",
       "    </tr>\n",
       "    <tr>\n",
       "      <th>1</th>\n",
       "      <td>0.512916</td>\n",
       "      <td>0.487084</td>\n",
       "      <td>0</td>\n",
       "      <td>in</td>\n",
       "    </tr>\n",
       "    <tr>\n",
       "      <th>2</th>\n",
       "      <td>0.352808</td>\n",
       "      <td>0.647192</td>\n",
       "      <td>1</td>\n",
       "      <td>in</td>\n",
       "    </tr>\n",
       "    <tr>\n",
       "      <th>3</th>\n",
       "      <td>0.559475</td>\n",
       "      <td>0.440525</td>\n",
       "      <td>0</td>\n",
       "      <td>in</td>\n",
       "    </tr>\n",
       "    <tr>\n",
       "      <th>4</th>\n",
       "      <td>0.377655</td>\n",
       "      <td>0.622345</td>\n",
       "      <td>1</td>\n",
       "      <td>in</td>\n",
       "    </tr>\n",
       "    <tr>\n",
       "      <th>...</th>\n",
       "      <td>...</td>\n",
       "      <td>...</td>\n",
       "      <td>...</td>\n",
       "      <td>...</td>\n",
       "    </tr>\n",
       "    <tr>\n",
       "      <th>2975</th>\n",
       "      <td>0.387409</td>\n",
       "      <td>0.612591</td>\n",
       "      <td>1</td>\n",
       "      <td>out</td>\n",
       "    </tr>\n",
       "    <tr>\n",
       "      <th>2976</th>\n",
       "      <td>0.428386</td>\n",
       "      <td>0.571614</td>\n",
       "      <td>1</td>\n",
       "      <td>out</td>\n",
       "    </tr>\n",
       "    <tr>\n",
       "      <th>2977</th>\n",
       "      <td>0.423529</td>\n",
       "      <td>0.576471</td>\n",
       "      <td>1</td>\n",
       "      <td>out</td>\n",
       "    </tr>\n",
       "    <tr>\n",
       "      <th>2978</th>\n",
       "      <td>0.516065</td>\n",
       "      <td>0.483935</td>\n",
       "      <td>0</td>\n",
       "      <td>out</td>\n",
       "    </tr>\n",
       "    <tr>\n",
       "      <th>2979</th>\n",
       "      <td>0.504959</td>\n",
       "      <td>0.495041</td>\n",
       "      <td>0</td>\n",
       "      <td>out</td>\n",
       "    </tr>\n",
       "  </tbody>\n",
       "</table>\n",
       "<p>23864 rows × 4 columns</p>\n",
       "</div>"
      ],
      "text/plain": [
       "             0         1  label inout\n",
       "0     0.345676  0.654324      1    in\n",
       "1     0.512916  0.487084      0    in\n",
       "2     0.352808  0.647192      1    in\n",
       "3     0.559475  0.440525      0    in\n",
       "4     0.377655  0.622345      1    in\n",
       "...        ...       ...    ...   ...\n",
       "2975  0.387409  0.612591      1   out\n",
       "2976  0.428386  0.571614      1   out\n",
       "2977  0.423529  0.576471      1   out\n",
       "2978  0.516065  0.483935      0   out\n",
       "2979  0.504959  0.495041      0   out\n",
       "\n",
       "[23864 rows x 4 columns]"
      ]
     },
     "execution_count": 38,
     "metadata": {},
     "output_type": "execute_result"
    }
   ],
   "source": [
    "attack_dataset = shadow_models.get_attack_dataset()\n",
    "attack_dataset"
   ]
  },
  {
   "cell_type": "markdown",
   "id": "04a7f62d-3c7b-4c31-a121-7bbb7c2a66b9",
   "metadata": {},
   "source": [
    "The mean and std are close to 0.5 and 0"
   ]
  },
  {
   "cell_type": "code",
   "execution_count": 39,
   "id": "44099e8e-1cd4-4a53-b6a9-02af6605fe8f",
   "metadata": {},
   "outputs": [
    {
     "data": {
      "text/html": [
       "<div>\n",
       "<style scoped>\n",
       "    .dataframe tbody tr th:only-of-type {\n",
       "        vertical-align: middle;\n",
       "    }\n",
       "\n",
       "    .dataframe tbody tr th {\n",
       "        vertical-align: top;\n",
       "    }\n",
       "\n",
       "    .dataframe thead th {\n",
       "        text-align: right;\n",
       "    }\n",
       "</style>\n",
       "<table border=\"1\" class=\"dataframe\">\n",
       "  <thead>\n",
       "    <tr style=\"text-align: right;\">\n",
       "      <th></th>\n",
       "      <th>0</th>\n",
       "      <th>1</th>\n",
       "    </tr>\n",
       "  </thead>\n",
       "  <tbody>\n",
       "    <tr>\n",
       "      <th>count</th>\n",
       "      <td>11948.000000</td>\n",
       "      <td>11948.000000</td>\n",
       "    </tr>\n",
       "    <tr>\n",
       "      <th>mean</th>\n",
       "      <td>0.546993</td>\n",
       "      <td>0.453007</td>\n",
       "    </tr>\n",
       "    <tr>\n",
       "      <th>std</th>\n",
       "      <td>0.028425</td>\n",
       "      <td>0.028425</td>\n",
       "    </tr>\n",
       "    <tr>\n",
       "      <th>min</th>\n",
       "      <td>0.382406</td>\n",
       "      <td>0.345800</td>\n",
       "    </tr>\n",
       "    <tr>\n",
       "      <th>25%</th>\n",
       "      <td>0.526117</td>\n",
       "      <td>0.434317</td>\n",
       "    </tr>\n",
       "    <tr>\n",
       "      <th>50%</th>\n",
       "      <td>0.544676</td>\n",
       "      <td>0.455324</td>\n",
       "    </tr>\n",
       "    <tr>\n",
       "      <th>75%</th>\n",
       "      <td>0.565683</td>\n",
       "      <td>0.473883</td>\n",
       "    </tr>\n",
       "    <tr>\n",
       "      <th>max</th>\n",
       "      <td>0.654200</td>\n",
       "      <td>0.617594</td>\n",
       "    </tr>\n",
       "  </tbody>\n",
       "</table>\n",
       "</div>"
      ],
      "text/plain": [
       "                  0             1\n",
       "count  11948.000000  11948.000000\n",
       "mean       0.546993      0.453007\n",
       "std        0.028425      0.028425\n",
       "min        0.382406      0.345800\n",
       "25%        0.526117      0.434317\n",
       "50%        0.544676      0.455324\n",
       "75%        0.565683      0.473883\n",
       "max        0.654200      0.617594"
      ]
     },
     "execution_count": 39,
     "metadata": {},
     "output_type": "execute_result"
    }
   ],
   "source": [
    "attack_dataset[attack_dataset.label == 0][[0,1]].describe()"
   ]
  },
  {
   "cell_type": "code",
   "execution_count": 40,
   "id": "dc3b83f3-587a-4bd5-a176-c147dca2c3c1",
   "metadata": {},
   "outputs": [
    {
     "data": {
      "text/html": [
       "<div>\n",
       "<style scoped>\n",
       "    .dataframe tbody tr th:only-of-type {\n",
       "        vertical-align: middle;\n",
       "    }\n",
       "\n",
       "    .dataframe tbody tr th {\n",
       "        vertical-align: top;\n",
       "    }\n",
       "\n",
       "    .dataframe thead th {\n",
       "        text-align: right;\n",
       "    }\n",
       "</style>\n",
       "<table border=\"1\" class=\"dataframe\">\n",
       "  <thead>\n",
       "    <tr style=\"text-align: right;\">\n",
       "      <th></th>\n",
       "      <th>0</th>\n",
       "      <th>1</th>\n",
       "    </tr>\n",
       "  </thead>\n",
       "  <tbody>\n",
       "    <tr>\n",
       "      <th>count</th>\n",
       "      <td>11916.000000</td>\n",
       "      <td>11916.000000</td>\n",
       "    </tr>\n",
       "    <tr>\n",
       "      <th>mean</th>\n",
       "      <td>0.393322</td>\n",
       "      <td>0.606678</td>\n",
       "    </tr>\n",
       "    <tr>\n",
       "      <th>std</th>\n",
       "      <td>0.072308</td>\n",
       "      <td>0.072308</td>\n",
       "    </tr>\n",
       "    <tr>\n",
       "      <th>min</th>\n",
       "      <td>0.233449</td>\n",
       "      <td>0.437549</td>\n",
       "    </tr>\n",
       "    <tr>\n",
       "      <th>25%</th>\n",
       "      <td>0.329194</td>\n",
       "      <td>0.526133</td>\n",
       "    </tr>\n",
       "    <tr>\n",
       "      <th>50%</th>\n",
       "      <td>0.390568</td>\n",
       "      <td>0.609432</td>\n",
       "    </tr>\n",
       "    <tr>\n",
       "      <th>75%</th>\n",
       "      <td>0.473867</td>\n",
       "      <td>0.670806</td>\n",
       "    </tr>\n",
       "    <tr>\n",
       "      <th>max</th>\n",
       "      <td>0.562451</td>\n",
       "      <td>0.766551</td>\n",
       "    </tr>\n",
       "  </tbody>\n",
       "</table>\n",
       "</div>"
      ],
      "text/plain": [
       "                  0             1\n",
       "count  11916.000000  11916.000000\n",
       "mean       0.393322      0.606678\n",
       "std        0.072308      0.072308\n",
       "min        0.233449      0.437549\n",
       "25%        0.329194      0.526133\n",
       "50%        0.390568      0.609432\n",
       "75%        0.473867      0.670806\n",
       "max        0.562451      0.766551"
      ]
     },
     "execution_count": 40,
     "metadata": {},
     "output_type": "execute_result"
    }
   ],
   "source": [
    "attack_dataset[attack_dataset.label == 1][[0,1]].describe()"
   ]
  },
  {
   "cell_type": "code",
   "execution_count": 41,
   "id": "e30801f0-aea8-434c-af24-2c15939ec9f7",
   "metadata": {},
   "outputs": [],
   "source": [
    "attack_dataset_ins = attack_dataset[attack_dataset.inout == 'in']#.drop('inout', axis=1)\n",
    "attack_dataset_outs = attack_dataset[attack_dataset.inout == 'out']#.drop('inout', axis=1)"
   ]
  },
  {
   "cell_type": "code",
   "execution_count": 42,
   "id": "1a066f58-9311-4f8b-922f-a13fdb252c96",
   "metadata": {},
   "outputs": [],
   "source": [
    "int_df = pd.merge(attack_dataset_ins, attack_dataset_outs, how ='inner', on =[0, 1])"
   ]
  },
  {
   "cell_type": "markdown",
   "id": "40186f0e-3404-4e01-b129-d231d5fbe1da",
   "metadata": {},
   "source": [
    "**These probability distributions appear both with the label in and out in the attack dataset**"
   ]
  },
  {
   "cell_type": "code",
   "execution_count": 43,
   "id": "354dce1c-561f-4a82-ba76-ddb7869a2518",
   "metadata": {},
   "outputs": [
    {
     "data": {
      "text/html": [
       "<div>\n",
       "<style scoped>\n",
       "    .dataframe tbody tr th:only-of-type {\n",
       "        vertical-align: middle;\n",
       "    }\n",
       "\n",
       "    .dataframe tbody tr th {\n",
       "        vertical-align: top;\n",
       "    }\n",
       "\n",
       "    .dataframe thead th {\n",
       "        text-align: right;\n",
       "    }\n",
       "</style>\n",
       "<table border=\"1\" class=\"dataframe\">\n",
       "  <thead>\n",
       "    <tr style=\"text-align: right;\">\n",
       "      <th></th>\n",
       "      <th>0</th>\n",
       "      <th>1</th>\n",
       "      <th>label_x</th>\n",
       "      <th>inout_x</th>\n",
       "      <th>label_y</th>\n",
       "      <th>inout_y</th>\n",
       "    </tr>\n",
       "  </thead>\n",
       "  <tbody>\n",
       "    <tr>\n",
       "      <th>0</th>\n",
       "      <td>0.474281</td>\n",
       "      <td>0.525719</td>\n",
       "      <td>1</td>\n",
       "      <td>in</td>\n",
       "      <td>1</td>\n",
       "      <td>out</td>\n",
       "    </tr>\n",
       "    <tr>\n",
       "      <th>1</th>\n",
       "      <td>0.543477</td>\n",
       "      <td>0.456523</td>\n",
       "      <td>0</td>\n",
       "      <td>in</td>\n",
       "      <td>0</td>\n",
       "      <td>out</td>\n",
       "    </tr>\n",
       "    <tr>\n",
       "      <th>2</th>\n",
       "      <td>0.496158</td>\n",
       "      <td>0.503842</td>\n",
       "      <td>1</td>\n",
       "      <td>in</td>\n",
       "      <td>0</td>\n",
       "      <td>out</td>\n",
       "    </tr>\n",
       "    <tr>\n",
       "      <th>3</th>\n",
       "      <td>0.362655</td>\n",
       "      <td>0.637345</td>\n",
       "      <td>1</td>\n",
       "      <td>in</td>\n",
       "      <td>1</td>\n",
       "      <td>out</td>\n",
       "    </tr>\n",
       "    <tr>\n",
       "      <th>4</th>\n",
       "      <td>0.468624</td>\n",
       "      <td>0.531376</td>\n",
       "      <td>1</td>\n",
       "      <td>in</td>\n",
       "      <td>1</td>\n",
       "      <td>out</td>\n",
       "    </tr>\n",
       "    <tr>\n",
       "      <th>...</th>\n",
       "      <td>...</td>\n",
       "      <td>...</td>\n",
       "      <td>...</td>\n",
       "      <td>...</td>\n",
       "      <td>...</td>\n",
       "      <td>...</td>\n",
       "    </tr>\n",
       "    <tr>\n",
       "      <th>1564</th>\n",
       "      <td>0.404432</td>\n",
       "      <td>0.595568</td>\n",
       "      <td>1</td>\n",
       "      <td>in</td>\n",
       "      <td>1</td>\n",
       "      <td>out</td>\n",
       "    </tr>\n",
       "    <tr>\n",
       "      <th>1565</th>\n",
       "      <td>0.493020</td>\n",
       "      <td>0.506980</td>\n",
       "      <td>1</td>\n",
       "      <td>in</td>\n",
       "      <td>1</td>\n",
       "      <td>out</td>\n",
       "    </tr>\n",
       "    <tr>\n",
       "      <th>1566</th>\n",
       "      <td>0.493020</td>\n",
       "      <td>0.506980</td>\n",
       "      <td>1</td>\n",
       "      <td>in</td>\n",
       "      <td>1</td>\n",
       "      <td>out</td>\n",
       "    </tr>\n",
       "    <tr>\n",
       "      <th>1567</th>\n",
       "      <td>0.493020</td>\n",
       "      <td>0.506980</td>\n",
       "      <td>1</td>\n",
       "      <td>in</td>\n",
       "      <td>1</td>\n",
       "      <td>out</td>\n",
       "    </tr>\n",
       "    <tr>\n",
       "      <th>1568</th>\n",
       "      <td>0.493597</td>\n",
       "      <td>0.506403</td>\n",
       "      <td>1</td>\n",
       "      <td>in</td>\n",
       "      <td>1</td>\n",
       "      <td>out</td>\n",
       "    </tr>\n",
       "  </tbody>\n",
       "</table>\n",
       "<p>1569 rows × 6 columns</p>\n",
       "</div>"
      ],
      "text/plain": [
       "             0         1  label_x inout_x  label_y inout_y\n",
       "0     0.474281  0.525719        1      in        1     out\n",
       "1     0.543477  0.456523        0      in        0     out\n",
       "2     0.496158  0.503842        1      in        0     out\n",
       "3     0.362655  0.637345        1      in        1     out\n",
       "4     0.468624  0.531376        1      in        1     out\n",
       "...        ...       ...      ...     ...      ...     ...\n",
       "1564  0.404432  0.595568        1      in        1     out\n",
       "1565  0.493020  0.506980        1      in        1     out\n",
       "1566  0.493020  0.506980        1      in        1     out\n",
       "1567  0.493020  0.506980        1      in        1     out\n",
       "1568  0.493597  0.506403        1      in        1     out\n",
       "\n",
       "[1569 rows x 6 columns]"
      ]
     },
     "execution_count": 43,
     "metadata": {},
     "output_type": "execute_result"
    }
   ],
   "source": [
    "int_df"
   ]
  },
  {
   "cell_type": "markdown",
   "id": "a2d41382-42f7-4b9c-ab47-80df0aec4c9c",
   "metadata": {},
   "source": [
    "Creating the attack models, one for each label"
   ]
  },
  {
   "cell_type": "code",
   "execution_count": 44,
   "id": "6bd0e0f6-fa47-4c81-874a-7d210d56a237",
   "metadata": {},
   "outputs": [],
   "source": [
    "from mlem.attack_models import AttackModelsManager, AttackStrategy\n",
    "attack_models = AttackModelsManager(\n",
    "        results_path=f\"DT/attack_adab_adult_dt\", model_creator_fn=create_adaboost, attack_strategy=AttackStrategy.ONE_PER_LABEL\n",
    ")"
   ]
  },
  {
   "cell_type": "code",
   "execution_count": 45,
   "id": "6ea81bc6-05be-4510-8839-12f46342ac84",
   "metadata": {},
   "outputs": [
    {
     "name": "stdout",
     "output_type": "stream",
     "text": [
      "[INFO OVERSAMPLE] Specified ratio too low: skipping oversampling\n",
      "[INFO OVERSAMPLE] Specified ratio too low: skipping oversampling\n"
     ]
    }
   ],
   "source": [
    "attack_models.fit(attack_dataset)"
   ]
  },
  {
   "cell_type": "code",
   "execution_count": 46,
   "id": "ce92b005-4717-416e-abc5-633131eaaea0",
   "metadata": {},
   "outputs": [],
   "source": [
    "atk_0 = load_pickle_bz2(\"DT/attack_adab_adult_dt/0/model.pkl.bz2\")\n",
    "atk_1 = load_pickle_bz2(\"DT/attack_adab_adult_dt/1/model.pkl.bz2\")"
   ]
  },
  {
   "cell_type": "markdown",
   "id": "50cf11df-7c10-44d5-b834-1ca07fc34702",
   "metadata": {},
   "source": [
    "### Attack on the whole datasets of the BB"
   ]
  },
  {
   "cell_type": "code",
   "execution_count": 47,
   "id": "d8c2e794-29d0-492a-8261-86caee0e46af",
   "metadata": {},
   "outputs": [],
   "source": [
    "BB_TRAIN = pd.DataFrame(BLACK_BOX_DATA['x_train'])\n",
    "BB_TRAIN['Target'] = BLACK_BOX_DATA['y_train']\n",
    "\n",
    "BB_TEST = pd.DataFrame(BLACK_BOX_DATA['x_test'])\n",
    "BB_TEST['Target'] = BLACK_BOX_DATA['y_test']"
   ]
  },
  {
   "cell_type": "code",
   "execution_count": 48,
   "id": "1927aee9-159d-44f3-8f67-4fb9d057d8fa",
   "metadata": {},
   "outputs": [],
   "source": [
    "BB_TEST_0 = BB_TEST[BB_TEST.Target == 0]\n",
    "BB_TEST_1 = BB_TEST[BB_TEST.Target == 1]\n",
    "\n",
    "BB_TRAIN_0 = BB_TRAIN[BB_TRAIN.Target == 0]\n",
    "BB_TRAIN_1 = BB_TRAIN[BB_TRAIN.Target == 1]"
   ]
  },
  {
   "cell_type": "code",
   "execution_count": 49,
   "id": "60ee148f-5980-41ee-ad0c-e2fba77ba5c9",
   "metadata": {},
   "outputs": [],
   "source": [
    "BB_TEST_0 = pd.DataFrame(BLACK_BOX.predict_proba(BB_TEST_0.drop('Target', axis=1).to_numpy()))\n",
    "BB_TEST_1 = pd.DataFrame(BLACK_BOX.predict_proba(BB_TEST_1.drop('Target', axis=1).to_numpy()))\n",
    "BB_TRAIN_0 = pd.DataFrame(BLACK_BOX.predict_proba(BB_TRAIN_0.drop('Target', axis=1).to_numpy()))\n",
    "BB_TRAIN_1 = pd.DataFrame(BLACK_BOX.predict_proba(BB_TRAIN_1.drop('Target', axis=1).to_numpy()))"
   ]
  },
  {
   "cell_type": "code",
   "execution_count": 50,
   "id": "9e84dcd5-2bfe-4fe3-8024-944329b7a8d6",
   "metadata": {},
   "outputs": [],
   "source": [
    "BB_TEST_0['ATK'] = atk_0.predict(BB_TEST_0.to_numpy())\n",
    "BB_TEST_1['ATK'] = atk_1.predict(BB_TEST_1.to_numpy())\n",
    "BB_TRAIN_0['ATK'] = atk_0.predict(BB_TRAIN_0.to_numpy())\n",
    "BB_TRAIN_1['ATK'] = atk_1.predict(BB_TRAIN_1.to_numpy())"
   ]
  },
  {
   "cell_type": "code",
   "execution_count": 51,
   "id": "4feb4c9c-4209-4c9c-872f-a0feb45bd675",
   "metadata": {},
   "outputs": [],
   "source": [
    "BB_TEST_0['Y'] = 'out'\n",
    "BB_TEST_1['Y'] = 'out'\n",
    "BB_TRAIN_0['Y'] = 'in'\n",
    "BB_TRAIN_1['Y'] = 'in'"
   ]
  },
  {
   "cell_type": "code",
   "execution_count": 52,
   "id": "6b433042-3582-4d6d-a3ad-5f5cdc1a0d84",
   "metadata": {},
   "outputs": [
    {
     "data": {
      "text/html": [
       "<div>\n",
       "<style scoped>\n",
       "    .dataframe tbody tr th:only-of-type {\n",
       "        vertical-align: middle;\n",
       "    }\n",
       "\n",
       "    .dataframe tbody tr th {\n",
       "        vertical-align: top;\n",
       "    }\n",
       "\n",
       "    .dataframe thead th {\n",
       "        text-align: right;\n",
       "    }\n",
       "</style>\n",
       "<table border=\"1\" class=\"dataframe\">\n",
       "  <thead>\n",
       "    <tr style=\"text-align: right;\">\n",
       "      <th></th>\n",
       "      <th>0</th>\n",
       "      <th>1</th>\n",
       "      <th>ATK</th>\n",
       "      <th>Y</th>\n",
       "    </tr>\n",
       "  </thead>\n",
       "  <tbody>\n",
       "    <tr>\n",
       "      <th>0</th>\n",
       "      <td>0.803145</td>\n",
       "      <td>0.196855</td>\n",
       "      <td>out</td>\n",
       "      <td>in</td>\n",
       "    </tr>\n",
       "    <tr>\n",
       "      <th>1</th>\n",
       "      <td>0.888638</td>\n",
       "      <td>0.111362</td>\n",
       "      <td>out</td>\n",
       "      <td>in</td>\n",
       "    </tr>\n",
       "    <tr>\n",
       "      <th>2</th>\n",
       "      <td>0.990708</td>\n",
       "      <td>0.009292</td>\n",
       "      <td>out</td>\n",
       "      <td>in</td>\n",
       "    </tr>\n",
       "    <tr>\n",
       "      <th>3</th>\n",
       "      <td>0.997404</td>\n",
       "      <td>0.002596</td>\n",
       "      <td>out</td>\n",
       "      <td>in</td>\n",
       "    </tr>\n",
       "    <tr>\n",
       "      <th>4</th>\n",
       "      <td>0.983742</td>\n",
       "      <td>0.016258</td>\n",
       "      <td>out</td>\n",
       "      <td>in</td>\n",
       "    </tr>\n",
       "    <tr>\n",
       "      <th>...</th>\n",
       "      <td>...</td>\n",
       "      <td>...</td>\n",
       "      <td>...</td>\n",
       "      <td>...</td>\n",
       "    </tr>\n",
       "    <tr>\n",
       "      <th>12669</th>\n",
       "      <td>0.788110</td>\n",
       "      <td>0.211890</td>\n",
       "      <td>out</td>\n",
       "      <td>in</td>\n",
       "    </tr>\n",
       "    <tr>\n",
       "      <th>12670</th>\n",
       "      <td>0.977904</td>\n",
       "      <td>0.022096</td>\n",
       "      <td>out</td>\n",
       "      <td>in</td>\n",
       "    </tr>\n",
       "    <tr>\n",
       "      <th>12671</th>\n",
       "      <td>0.997384</td>\n",
       "      <td>0.002616</td>\n",
       "      <td>out</td>\n",
       "      <td>in</td>\n",
       "    </tr>\n",
       "    <tr>\n",
       "      <th>12672</th>\n",
       "      <td>0.371998</td>\n",
       "      <td>0.628002</td>\n",
       "      <td>out</td>\n",
       "      <td>in</td>\n",
       "    </tr>\n",
       "    <tr>\n",
       "      <th>12673</th>\n",
       "      <td>0.982511</td>\n",
       "      <td>0.017489</td>\n",
       "      <td>out</td>\n",
       "      <td>in</td>\n",
       "    </tr>\n",
       "  </tbody>\n",
       "</table>\n",
       "<p>12674 rows × 4 columns</p>\n",
       "</div>"
      ],
      "text/plain": [
       "              0         1  ATK   Y\n",
       "0      0.803145  0.196855  out  in\n",
       "1      0.888638  0.111362  out  in\n",
       "2      0.990708  0.009292  out  in\n",
       "3      0.997404  0.002596  out  in\n",
       "4      0.983742  0.016258  out  in\n",
       "...         ...       ...  ...  ..\n",
       "12669  0.788110  0.211890  out  in\n",
       "12670  0.977904  0.022096  out  in\n",
       "12671  0.997384  0.002616  out  in\n",
       "12672  0.371998  0.628002  out  in\n",
       "12673  0.982511  0.017489  out  in\n",
       "\n",
       "[12674 rows x 4 columns]"
      ]
     },
     "execution_count": 52,
     "metadata": {},
     "output_type": "execute_result"
    }
   ],
   "source": [
    "BB_TRAIN_0"
   ]
  },
  {
   "cell_type": "code",
   "execution_count": 53,
   "id": "fe900d1d-7dea-43bc-b5f6-ff399bb83bd1",
   "metadata": {},
   "outputs": [],
   "source": [
    "train_test = pd.concat([BB_TEST_0, BB_TEST_1,BB_TRAIN_0, BB_TRAIN_1])"
   ]
  },
  {
   "cell_type": "code",
   "execution_count": 54,
   "id": "5098861b-c2ea-4b9c-8794-823920a0526e",
   "metadata": {},
   "outputs": [
    {
     "name": "stdout",
     "output_type": "stream",
     "text": [
      "              precision    recall  f1-score   support\n",
      "\n",
      "          in       0.70      0.17      0.28     16877\n",
      "         out       0.30      0.83      0.44      7234\n",
      "\n",
      "    accuracy                           0.37     24111\n",
      "   macro avg       0.50      0.50      0.36     24111\n",
      "weighted avg       0.58      0.37      0.32     24111\n",
      "\n"
     ]
    }
   ],
   "source": [
    "print(classification_report(train_test.Y, train_test.ATK))"
   ]
  },
  {
   "cell_type": "code",
   "execution_count": 55,
   "id": "9c542365-dd46-4342-8f0d-8180c27ae84f",
   "metadata": {},
   "outputs": [
    {
     "data": {
      "text/plain": [
       "out    6008\n",
       "in     1226\n",
       "Name: ATK, dtype: int64"
      ]
     },
     "execution_count": 55,
     "metadata": {},
     "output_type": "execute_result"
    }
   ],
   "source": [
    "train_test[train_test.Y == 'out'].ATK.value_counts()"
   ]
  },
  {
   "cell_type": "code",
   "execution_count": 56,
   "id": "518f5a56-8a24-4b16-b1f2-522bdb951157",
   "metadata": {},
   "outputs": [
    {
     "name": "stderr",
     "output_type": "stream",
     "text": [
      "DEBUG:matplotlib.colorbar:locator: <matplotlib.ticker.AutoLocator object at 0x7f8a01b00310>\n"
     ]
    },
    {
     "data": {
      "text/plain": [
       "<sklearn.metrics._plot.confusion_matrix.ConfusionMatrixDisplay at 0x7f88d39be7c0>"
      ]
     },
     "execution_count": 56,
     "metadata": {},
     "output_type": "execute_result"
    },
    {
     "data": {
      "image/png": "[encoded data removed]",
      "text/plain": [
       "<Figure size 432x288 with 2 Axes>"
      ]
     },
     "metadata": {
      "needs_background": "light"
     },
     "output_type": "display_data"
    }
   ],
   "source": [
    "ConfusionMatrixDisplay.from_predictions(train_test.Y, train_test.ATK, cmap='inferno')"
   ]
  },
  {
   "cell_type": "markdown",
   "id": "e9f3d369-d8f1-4685-b2ec-45f364d282bf",
   "metadata": {},
   "source": [
    "Let's see on the points closest to the instance used to create the neighborhood"
   ]
  },
  {
   "cell_type": "code",
   "execution_count": 57,
   "id": "018ac933-a15a-4041-9974-75fce1da1bad",
   "metadata": {},
   "outputs": [],
   "source": [
    "import scipy.spatial.distance as distance"
   ]
  },
  {
   "cell_type": "code",
   "execution_count": 58,
   "id": "cbb01742-587e-4e3f-ae26-cb9304501906",
   "metadata": {},
   "outputs": [],
   "source": [
    "BB_DATA_TR = pd.DataFrame(BLACK_BOX_DATA['x_train'])\n",
    "BB_DATA_TR['Target'] = BLACK_BOX_DATA['y_train']\n",
    "BB_DATA_TR['Distance'] = distance.cdist(BLACK_BOX_DATA['x_train'], [X], metric=\"euclidean\")\n",
    "\n",
    "BB_DATA_TE = pd.DataFrame(BLACK_BOX_DATA['x_test'])\n",
    "BB_DATA_TE['Target'] = BLACK_BOX_DATA['y_test']\n",
    "BB_DATA_TE['Distance'] = distance.cdist(BLACK_BOX_DATA['x_test'], [X], metric=\"euclidean\")"
   ]
  },
  {
   "cell_type": "code",
   "execution_count": 59,
   "id": "d95230af-58e7-4ee2-917c-041cce95211d",
   "metadata": {},
   "outputs": [
    {
     "data": {
      "text/plain": [
       "count    16877.000000\n",
       "mean         2.501770\n",
       "std          1.457291\n",
       "min          0.085012\n",
       "25%          1.649780\n",
       "50%          2.275654\n",
       "75%          3.035977\n",
       "max         14.413855\n",
       "Name: Distance, dtype: float64"
      ]
     },
     "execution_count": 59,
     "metadata": {},
     "output_type": "execute_result"
    }
   ],
   "source": [
    "BB_DATA_TR.Distance.describe()"
   ]
  },
  {
   "cell_type": "code",
   "execution_count": 60,
   "id": "e44068fe-976a-4749-9d55-b99ed123f583",
   "metadata": {},
   "outputs": [
    {
     "data": {
      "text/plain": [
       "count    7234.000000\n",
       "mean        2.496813\n",
       "std         1.418222\n",
       "min         0.000000\n",
       "25%         1.648631\n",
       "50%         2.278651\n",
       "75%         3.053983\n",
       "max        14.435124\n",
       "Name: Distance, dtype: float64"
      ]
     },
     "execution_count": 60,
     "metadata": {},
     "output_type": "execute_result"
    }
   ],
   "source": [
    "BB_DATA_TE.Distance.describe()"
   ]
  },
  {
   "cell_type": "code",
   "execution_count": 61,
   "id": "8c73c0aa-a6e1-4301-910b-eabfa429567a",
   "metadata": {},
   "outputs": [
    {
     "data": {
      "text/plain": [
       "0    0.846397\n",
       "1    0.153603\n",
       "Name: Target, dtype: float64"
      ]
     },
     "execution_count": 61,
     "metadata": {},
     "output_type": "execute_result"
    }
   ],
   "source": [
    "BB_DATA_TR[BB_DATA_TR.Distance < 2.5].Target.value_counts(normalize=True)"
   ]
  },
  {
   "cell_type": "code",
   "execution_count": 62,
   "id": "0d841da8-36ab-4b6e-aae7-08c3dba17fba",
   "metadata": {},
   "outputs": [
    {
     "data": {
      "text/plain": [
       "0    0.810058\n",
       "1    0.189942\n",
       "Name: Target, dtype: float64"
      ]
     },
     "execution_count": 62,
     "metadata": {},
     "output_type": "execute_result"
    }
   ],
   "source": [
    "BB_DATA_TE[BB_DATA_TE.Distance < 3].Target.value_counts(normalize=True)"
   ]
  },
  {
   "cell_type": "markdown",
   "id": "f7fd6577-8944-4328-9d2c-411b2bd23e12",
   "metadata": {},
   "source": [
    "Creating the dataset with the closest points"
   ]
  },
  {
   "cell_type": "code",
   "execution_count": 63,
   "id": "4c95b7ab-895f-4a7b-b5d7-2d021b97929d",
   "metadata": {},
   "outputs": [],
   "source": [
    "BB_TRAIN = BB_DATA_TR[BB_DATA_TR.Distance < 2.5].drop('Distance', axis=1)\n",
    "BB_TEST = BB_DATA_TE[BB_DATA_TE.Distance < 3].drop('Distance', axis=1)"
   ]
  },
  {
   "cell_type": "code",
   "execution_count": 64,
   "id": "cd91dbcd-16ef-4f2c-9b78-42fc6f826d92",
   "metadata": {},
   "outputs": [],
   "source": [
    "BB_TEST_0 = BB_TEST[BB_TEST.Target == 0]\n",
    "BB_TEST_1 = BB_TEST[BB_TEST.Target == 1]\n",
    "\n",
    "BB_TRAIN_0 = BB_TRAIN[BB_TRAIN.Target == 0]\n",
    "BB_TRAIN_1 = BB_TRAIN[BB_TRAIN.Target == 1]"
   ]
  },
  {
   "cell_type": "code",
   "execution_count": 65,
   "id": "9845b142-7ee8-4c40-a4c2-9d11ceff12a1",
   "metadata": {},
   "outputs": [],
   "source": [
    "BB_TEST_0 = pd.DataFrame(BLACK_BOX.predict_proba(BB_TEST_0.drop('Target', axis=1).to_numpy()))\n",
    "BB_TEST_1 = pd.DataFrame(BLACK_BOX.predict_proba(BB_TEST_1.drop('Target', axis=1).to_numpy()))\n",
    "BB_TRAIN_0 = pd.DataFrame(BLACK_BOX.predict_proba(BB_TRAIN_0.drop('Target', axis=1).to_numpy()))\n",
    "BB_TRAIN_1 = pd.DataFrame(BLACK_BOX.predict_proba(BB_TRAIN_1.drop('Target', axis=1).to_numpy()))"
   ]
  },
  {
   "cell_type": "code",
   "execution_count": 66,
   "id": "cd22135d-5038-4184-82fc-4fe56c8374bc",
   "metadata": {},
   "outputs": [],
   "source": [
    "BB_TEST_0['ATK'] = atk_0.predict(BB_TEST_0.to_numpy())\n",
    "BB_TEST_1['ATK'] = atk_1.predict(BB_TEST_1.to_numpy())\n",
    "BB_TRAIN_0['ATK'] = atk_0.predict(BB_TRAIN_0.to_numpy())\n",
    "BB_TRAIN_1['ATK'] = atk_1.predict(BB_TRAIN_1.to_numpy())"
   ]
  },
  {
   "cell_type": "code",
   "execution_count": 67,
   "id": "ff4128a3-8b82-4640-b78a-68f629e213b0",
   "metadata": {},
   "outputs": [],
   "source": [
    "BB_TEST_0['Y'] = 'out'\n",
    "BB_TEST_1['Y'] = 'out'\n",
    "BB_TRAIN_0['Y'] = 'in'\n",
    "BB_TRAIN_1['Y'] = 'in'"
   ]
  },
  {
   "cell_type": "code",
   "execution_count": 68,
   "id": "32bcbcb1-039f-46ac-b3c7-375ffa5c3ab4",
   "metadata": {},
   "outputs": [],
   "source": [
    "train_test = pd.concat([BB_TEST_0, BB_TEST_1,BB_TRAIN_0, BB_TRAIN_1])"
   ]
  },
  {
   "cell_type": "code",
   "execution_count": 69,
   "id": "20b5e44e-e4a3-4ae3-ae71-c80c835c6694",
   "metadata": {},
   "outputs": [
    {
     "name": "stdout",
     "output_type": "stream",
     "text": [
      "              precision    recall  f1-score   support\n",
      "\n",
      "          in       0.58      0.08      0.14      9824\n",
      "         out       0.35      0.89      0.50      5349\n",
      "\n",
      "    accuracy                           0.37     15173\n",
      "   macro avg       0.46      0.49      0.32     15173\n",
      "weighted avg       0.49      0.37      0.27     15173\n",
      "\n"
     ]
    }
   ],
   "source": [
    "print(classification_report(train_test.Y, train_test.ATK))"
   ]
  },
  {
   "cell_type": "code",
   "execution_count": 70,
   "id": "362d457f-2682-41c1-b372-bd78515a4bf0",
   "metadata": {},
   "outputs": [
    {
     "data": {
      "text/plain": [
       "out    4751\n",
       "in      598\n",
       "Name: ATK, dtype: int64"
      ]
     },
     "execution_count": 70,
     "metadata": {},
     "output_type": "execute_result"
    }
   ],
   "source": [
    "train_test[train_test.Y == 'out'].ATK.value_counts()"
   ]
  },
  {
   "cell_type": "code",
   "execution_count": 71,
   "id": "daf50cf3-086e-4e8f-98c1-c223c10635fe",
   "metadata": {},
   "outputs": [
    {
     "name": "stderr",
     "output_type": "stream",
     "text": [
      "DEBUG:matplotlib.colorbar:locator: <matplotlib.ticker.AutoLocator object at 0x7f8a00a751c0>\n"
     ]
    },
    {
     "data": {
      "text/plain": [
       "<sklearn.metrics._plot.confusion_matrix.ConfusionMatrixDisplay at 0x7f8a01b918e0>"
      ]
     },
     "execution_count": 71,
     "metadata": {},
     "output_type": "execute_result"
    },
    {
     "data": {
      "image/png": "[encoded data removed]",
      "text/plain": [
       "<Figure size 432x288 with 2 Axes>"
      ]
     },
     "metadata": {
      "needs_background": "light"
     },
     "output_type": "display_data"
    }
   ],
   "source": [
    "ConfusionMatrixDisplay.from_predictions(train_test.Y, train_test.ATK, cmap='inferno')"
   ]
  },
  {
   "cell_type": "markdown",
   "id": "d51b48ec-d113-4b8f-9317-f22af47bb27f",
   "metadata": {},
   "source": [
    "Creating dataset with points closer that 1"
   ]
  },
  {
   "cell_type": "code",
   "execution_count": 72,
   "id": "b884e9e9-968b-4e03-8a62-9f42fd7498d0",
   "metadata": {},
   "outputs": [],
   "source": [
    "BB_TRAIN = BB_DATA_TR[BB_DATA_TR.Distance < 1].drop('Distance', axis=1)\n",
    "BB_TEST = BB_DATA_TE[BB_DATA_TE.Distance < 1].drop('Distance', axis=1)"
   ]
  },
  {
   "cell_type": "code",
   "execution_count": 73,
   "id": "c8064228-8763-4990-a811-e02a71961963",
   "metadata": {},
   "outputs": [
    {
     "data": {
      "text/html": [
       "<div>\n",
       "<style scoped>\n",
       "    .dataframe tbody tr th:only-of-type {\n",
       "        vertical-align: middle;\n",
       "    }\n",
       "\n",
       "    .dataframe tbody tr th {\n",
       "        vertical-align: top;\n",
       "    }\n",
       "\n",
       "    .dataframe thead th {\n",
       "        text-align: right;\n",
       "    }\n",
       "</style>\n",
       "<table border=\"1\" class=\"dataframe\">\n",
       "  <thead>\n",
       "    <tr style=\"text-align: right;\">\n",
       "      <th></th>\n",
       "      <th>0</th>\n",
       "      <th>1</th>\n",
       "      <th>2</th>\n",
       "      <th>3</th>\n",
       "      <th>4</th>\n",
       "      <th>5</th>\n",
       "      <th>6</th>\n",
       "      <th>7</th>\n",
       "      <th>8</th>\n",
       "      <th>9</th>\n",
       "      <th>10</th>\n",
       "      <th>11</th>\n",
       "      <th>12</th>\n",
       "      <th>13</th>\n",
       "      <th>Target</th>\n",
       "    </tr>\n",
       "  </thead>\n",
       "  <tbody>\n",
       "    <tr>\n",
       "      <th>44</th>\n",
       "      <td>-1.328265</td>\n",
       "      <td>0.218918</td>\n",
       "      <td>-0.354033</td>\n",
       "      <td>0.200180</td>\n",
       "      <td>-0.048076</td>\n",
       "      <td>0.048399</td>\n",
       "      <td>0.041134</td>\n",
       "      <td>0.106689</td>\n",
       "      <td>0.129972</td>\n",
       "      <td>0.113783</td>\n",
       "      <td>-0.147502</td>\n",
       "      <td>-0.218673</td>\n",
       "      <td>-0.912857</td>\n",
       "      <td>0.254411</td>\n",
       "      <td>0</td>\n",
       "    </tr>\n",
       "    <tr>\n",
       "      <th>46</th>\n",
       "      <td>-0.947492</td>\n",
       "      <td>0.218918</td>\n",
       "      <td>0.659777</td>\n",
       "      <td>0.200180</td>\n",
       "      <td>-0.048076</td>\n",
       "      <td>0.048399</td>\n",
       "      <td>0.041134</td>\n",
       "      <td>0.014343</td>\n",
       "      <td>0.263855</td>\n",
       "      <td>0.313955</td>\n",
       "      <td>-0.147502</td>\n",
       "      <td>-0.218673</td>\n",
       "      <td>-0.078031</td>\n",
       "      <td>0.254411</td>\n",
       "      <td>0</td>\n",
       "    </tr>\n",
       "    <tr>\n",
       "      <th>57</th>\n",
       "      <td>-1.023647</td>\n",
       "      <td>0.218918</td>\n",
       "      <td>-0.948069</td>\n",
       "      <td>0.164328</td>\n",
       "      <td>-0.440434</td>\n",
       "      <td>0.048399</td>\n",
       "      <td>0.133907</td>\n",
       "      <td>0.014343</td>\n",
       "      <td>0.277405</td>\n",
       "      <td>0.113783</td>\n",
       "      <td>-0.147502</td>\n",
       "      <td>-0.218673</td>\n",
       "      <td>-0.078031</td>\n",
       "      <td>0.254411</td>\n",
       "      <td>0</td>\n",
       "    </tr>\n",
       "    <tr>\n",
       "      <th>62</th>\n",
       "      <td>-1.099801</td>\n",
       "      <td>0.218918</td>\n",
       "      <td>0.330513</td>\n",
       "      <td>0.164328</td>\n",
       "      <td>-0.440434</td>\n",
       "      <td>0.048399</td>\n",
       "      <td>0.225590</td>\n",
       "      <td>0.014343</td>\n",
       "      <td>0.263855</td>\n",
       "      <td>0.313955</td>\n",
       "      <td>-0.147502</td>\n",
       "      <td>-0.218673</td>\n",
       "      <td>-0.078031</td>\n",
       "      <td>0.254411</td>\n",
       "      <td>0</td>\n",
       "    </tr>\n",
       "    <tr>\n",
       "      <th>65</th>\n",
       "      <td>-1.099801</td>\n",
       "      <td>0.218918</td>\n",
       "      <td>0.087226</td>\n",
       "      <td>0.164328</td>\n",
       "      <td>-0.440434</td>\n",
       "      <td>0.048399</td>\n",
       "      <td>0.225590</td>\n",
       "      <td>0.014343</td>\n",
       "      <td>0.263855</td>\n",
       "      <td>0.313955</td>\n",
       "      <td>-0.147502</td>\n",
       "      <td>-0.218673</td>\n",
       "      <td>-0.078031</td>\n",
       "      <td>0.254411</td>\n",
       "      <td>0</td>\n",
       "    </tr>\n",
       "    <tr>\n",
       "      <th>...</th>\n",
       "      <td>...</td>\n",
       "      <td>...</td>\n",
       "      <td>...</td>\n",
       "      <td>...</td>\n",
       "      <td>...</td>\n",
       "      <td>...</td>\n",
       "      <td>...</td>\n",
       "      <td>...</td>\n",
       "      <td>...</td>\n",
       "      <td>...</td>\n",
       "      <td>...</td>\n",
       "      <td>...</td>\n",
       "      <td>...</td>\n",
       "      <td>...</td>\n",
       "      <td>...</td>\n",
       "    </tr>\n",
       "    <tr>\n",
       "      <th>16755</th>\n",
       "      <td>-1.175956</td>\n",
       "      <td>0.218918</td>\n",
       "      <td>-0.044380</td>\n",
       "      <td>0.164328</td>\n",
       "      <td>-0.440434</td>\n",
       "      <td>0.048399</td>\n",
       "      <td>0.061527</td>\n",
       "      <td>0.014343</td>\n",
       "      <td>0.129972</td>\n",
       "      <td>0.313955</td>\n",
       "      <td>-0.147502</td>\n",
       "      <td>-0.218673</td>\n",
       "      <td>-0.078031</td>\n",
       "      <td>0.254411</td>\n",
       "      <td>0</td>\n",
       "    </tr>\n",
       "    <tr>\n",
       "      <th>16773</th>\n",
       "      <td>-0.947492</td>\n",
       "      <td>0.218918</td>\n",
       "      <td>0.560257</td>\n",
       "      <td>0.200180</td>\n",
       "      <td>-0.048076</td>\n",
       "      <td>0.048399</td>\n",
       "      <td>0.225590</td>\n",
       "      <td>0.014343</td>\n",
       "      <td>0.263855</td>\n",
       "      <td>0.313955</td>\n",
       "      <td>-0.147502</td>\n",
       "      <td>-0.218673</td>\n",
       "      <td>-0.078031</td>\n",
       "      <td>0.254411</td>\n",
       "      <td>0</td>\n",
       "    </tr>\n",
       "    <tr>\n",
       "      <th>16808</th>\n",
       "      <td>-1.099801</td>\n",
       "      <td>0.218918</td>\n",
       "      <td>-0.265832</td>\n",
       "      <td>0.164328</td>\n",
       "      <td>-0.440434</td>\n",
       "      <td>0.107312</td>\n",
       "      <td>0.485342</td>\n",
       "      <td>0.106689</td>\n",
       "      <td>0.263855</td>\n",
       "      <td>0.113783</td>\n",
       "      <td>-0.147502</td>\n",
       "      <td>-0.218673</td>\n",
       "      <td>0.339381</td>\n",
       "      <td>0.254411</td>\n",
       "      <td>1</td>\n",
       "    </tr>\n",
       "    <tr>\n",
       "      <th>16816</th>\n",
       "      <td>-1.480574</td>\n",
       "      <td>0.218918</td>\n",
       "      <td>-0.743568</td>\n",
       "      <td>0.164328</td>\n",
       "      <td>-0.440434</td>\n",
       "      <td>0.048399</td>\n",
       "      <td>0.270647</td>\n",
       "      <td>0.014343</td>\n",
       "      <td>0.263855</td>\n",
       "      <td>0.313955</td>\n",
       "      <td>-0.147502</td>\n",
       "      <td>-0.218673</td>\n",
       "      <td>-0.078031</td>\n",
       "      <td>0.254411</td>\n",
       "      <td>0</td>\n",
       "    </tr>\n",
       "    <tr>\n",
       "      <th>16826</th>\n",
       "      <td>-0.719029</td>\n",
       "      <td>0.294630</td>\n",
       "      <td>-0.020311</td>\n",
       "      <td>0.164328</td>\n",
       "      <td>-0.440434</td>\n",
       "      <td>0.070288</td>\n",
       "      <td>0.326087</td>\n",
       "      <td>0.039370</td>\n",
       "      <td>0.263855</td>\n",
       "      <td>0.113783</td>\n",
       "      <td>-0.147502</td>\n",
       "      <td>-0.218673</td>\n",
       "      <td>-0.078031</td>\n",
       "      <td>0.254411</td>\n",
       "      <td>0</td>\n",
       "    </tr>\n",
       "  </tbody>\n",
       "</table>\n",
       "<p>1352 rows × 15 columns</p>\n",
       "</div>"
      ],
      "text/plain": [
       "              0         1         2         3         4         5         6  \\\n",
       "44    -1.328265  0.218918 -0.354033  0.200180 -0.048076  0.048399  0.041134   \n",
       "46    -0.947492  0.218918  0.659777  0.200180 -0.048076  0.048399  0.041134   \n",
       "57    -1.023647  0.218918 -0.948069  0.164328 -0.440434  0.048399  0.133907   \n",
       "62    -1.099801  0.218918  0.330513  0.164328 -0.440434  0.048399  0.225590   \n",
       "65    -1.099801  0.218918  0.087226  0.164328 -0.440434  0.048399  0.225590   \n",
       "...         ...       ...       ...       ...       ...       ...       ...   \n",
       "16755 -1.175956  0.218918 -0.044380  0.164328 -0.440434  0.048399  0.061527   \n",
       "16773 -0.947492  0.218918  0.560257  0.200180 -0.048076  0.048399  0.225590   \n",
       "16808 -1.099801  0.218918 -0.265832  0.164328 -0.440434  0.107312  0.485342   \n",
       "16816 -1.480574  0.218918 -0.743568  0.164328 -0.440434  0.048399  0.270647   \n",
       "16826 -0.719029  0.294630 -0.020311  0.164328 -0.440434  0.070288  0.326087   \n",
       "\n",
       "              7         8         9        10        11        12        13  \\\n",
       "44     0.106689  0.129972  0.113783 -0.147502 -0.218673 -0.912857  0.254411   \n",
       "46     0.014343  0.263855  0.313955 -0.147502 -0.218673 -0.078031  0.254411   \n",
       "57     0.014343  0.277405  0.113783 -0.147502 -0.218673 -0.078031  0.254411   \n",
       "62     0.014343  0.263855  0.313955 -0.147502 -0.218673 -0.078031  0.254411   \n",
       "65     0.014343  0.263855  0.313955 -0.147502 -0.218673 -0.078031  0.254411   \n",
       "...         ...       ...       ...       ...       ...       ...       ...   \n",
       "16755  0.014343  0.129972  0.313955 -0.147502 -0.218673 -0.078031  0.254411   \n",
       "16773  0.014343  0.263855  0.313955 -0.147502 -0.218673 -0.078031  0.254411   \n",
       "16808  0.106689  0.263855  0.113783 -0.147502 -0.218673  0.339381  0.254411   \n",
       "16816  0.014343  0.263855  0.313955 -0.147502 -0.218673 -0.078031  0.254411   \n",
       "16826  0.039370  0.263855  0.113783 -0.147502 -0.218673 -0.078031  0.254411   \n",
       "\n",
       "       Target  \n",
       "44          0  \n",
       "46          0  \n",
       "57          0  \n",
       "62          0  \n",
       "65          0  \n",
       "...       ...  \n",
       "16755       0  \n",
       "16773       0  \n",
       "16808       1  \n",
       "16816       0  \n",
       "16826       0  \n",
       "\n",
       "[1352 rows x 15 columns]"
      ]
     },
     "execution_count": 73,
     "metadata": {},
     "output_type": "execute_result"
    }
   ],
   "source": [
    "BB_TRAIN"
   ]
  },
  {
   "cell_type": "code",
   "execution_count": 74,
   "id": "fe5d9eee-d28f-4dae-8c41-95ef0d921a04",
   "metadata": {},
   "outputs": [
    {
     "data": {
      "text/html": [
       "<div>\n",
       "<style scoped>\n",
       "    .dataframe tbody tr th:only-of-type {\n",
       "        vertical-align: middle;\n",
       "    }\n",
       "\n",
       "    .dataframe tbody tr th {\n",
       "        vertical-align: top;\n",
       "    }\n",
       "\n",
       "    .dataframe thead th {\n",
       "        text-align: right;\n",
       "    }\n",
       "</style>\n",
       "<table border=\"1\" class=\"dataframe\">\n",
       "  <thead>\n",
       "    <tr style=\"text-align: right;\">\n",
       "      <th></th>\n",
       "      <th>0</th>\n",
       "      <th>1</th>\n",
       "      <th>2</th>\n",
       "      <th>3</th>\n",
       "      <th>4</th>\n",
       "      <th>5</th>\n",
       "      <th>6</th>\n",
       "      <th>7</th>\n",
       "      <th>8</th>\n",
       "      <th>9</th>\n",
       "      <th>10</th>\n",
       "      <th>11</th>\n",
       "      <th>12</th>\n",
       "      <th>13</th>\n",
       "      <th>Target</th>\n",
       "    </tr>\n",
       "  </thead>\n",
       "  <tbody>\n",
       "    <tr>\n",
       "      <th>10</th>\n",
       "      <td>-1.328265</td>\n",
       "      <td>0.218918</td>\n",
       "      <td>0.452938</td>\n",
       "      <td>0.200180</td>\n",
       "      <td>-0.048076</td>\n",
       "      <td>0.048399</td>\n",
       "      <td>0.041134</td>\n",
       "      <td>0.014343</td>\n",
       "      <td>0.263855</td>\n",
       "      <td>0.313955</td>\n",
       "      <td>-0.147502</td>\n",
       "      <td>-0.218673</td>\n",
       "      <td>-0.495444</td>\n",
       "      <td>2.544112e-01</td>\n",
       "      <td>0</td>\n",
       "    </tr>\n",
       "    <tr>\n",
       "      <th>23</th>\n",
       "      <td>-0.719029</td>\n",
       "      <td>0.218918</td>\n",
       "      <td>-0.817391</td>\n",
       "      <td>0.164328</td>\n",
       "      <td>-0.440434</td>\n",
       "      <td>0.048399</td>\n",
       "      <td>0.225590</td>\n",
       "      <td>0.106689</td>\n",
       "      <td>0.263855</td>\n",
       "      <td>0.313955</td>\n",
       "      <td>-0.147502</td>\n",
       "      <td>-0.218673</td>\n",
       "      <td>-0.078031</td>\n",
       "      <td>2.544112e-01</td>\n",
       "      <td>0</td>\n",
       "    </tr>\n",
       "    <tr>\n",
       "      <th>53</th>\n",
       "      <td>-1.023647</td>\n",
       "      <td>0.268960</td>\n",
       "      <td>-0.304552</td>\n",
       "      <td>0.164328</td>\n",
       "      <td>-0.440434</td>\n",
       "      <td>0.048399</td>\n",
       "      <td>0.485342</td>\n",
       "      <td>0.106689</td>\n",
       "      <td>0.263855</td>\n",
       "      <td>0.313955</td>\n",
       "      <td>-0.147502</td>\n",
       "      <td>-0.218673</td>\n",
       "      <td>-0.078031</td>\n",
       "      <td>2.544112e-01</td>\n",
       "      <td>0</td>\n",
       "    </tr>\n",
       "    <tr>\n",
       "      <th>59</th>\n",
       "      <td>-1.252110</td>\n",
       "      <td>0.218918</td>\n",
       "      <td>0.235100</td>\n",
       "      <td>0.164328</td>\n",
       "      <td>-0.440434</td>\n",
       "      <td>0.048399</td>\n",
       "      <td>0.124236</td>\n",
       "      <td>0.106689</td>\n",
       "      <td>0.263855</td>\n",
       "      <td>0.313955</td>\n",
       "      <td>-0.147502</td>\n",
       "      <td>-0.218673</td>\n",
       "      <td>0.088934</td>\n",
       "      <td>2.544112e-01</td>\n",
       "      <td>0</td>\n",
       "    </tr>\n",
       "    <tr>\n",
       "      <th>86</th>\n",
       "      <td>-1.404419</td>\n",
       "      <td>0.218918</td>\n",
       "      <td>-0.048431</td>\n",
       "      <td>0.164328</td>\n",
       "      <td>-0.440434</td>\n",
       "      <td>0.048399</td>\n",
       "      <td>0.270647</td>\n",
       "      <td>0.106689</td>\n",
       "      <td>0.263855</td>\n",
       "      <td>0.113783</td>\n",
       "      <td>-0.147502</td>\n",
       "      <td>-0.218673</td>\n",
       "      <td>-0.745892</td>\n",
       "      <td>2.544112e-01</td>\n",
       "      <td>0</td>\n",
       "    </tr>\n",
       "    <tr>\n",
       "      <th>...</th>\n",
       "      <td>...</td>\n",
       "      <td>...</td>\n",
       "      <td>...</td>\n",
       "      <td>...</td>\n",
       "      <td>...</td>\n",
       "      <td>...</td>\n",
       "      <td>...</td>\n",
       "      <td>...</td>\n",
       "      <td>...</td>\n",
       "      <td>...</td>\n",
       "      <td>...</td>\n",
       "      <td>...</td>\n",
       "      <td>...</td>\n",
       "      <td>...</td>\n",
       "      <td>...</td>\n",
       "    </tr>\n",
       "    <tr>\n",
       "      <th>7182</th>\n",
       "      <td>-1.175956</td>\n",
       "      <td>0.218918</td>\n",
       "      <td>0.266580</td>\n",
       "      <td>0.164328</td>\n",
       "      <td>-0.440434</td>\n",
       "      <td>0.048399</td>\n",
       "      <td>0.225590</td>\n",
       "      <td>0.066334</td>\n",
       "      <td>0.263855</td>\n",
       "      <td>0.313955</td>\n",
       "      <td>-0.147502</td>\n",
       "      <td>-0.218673</td>\n",
       "      <td>0.339381</td>\n",
       "      <td>5.629249e-07</td>\n",
       "      <td>0</td>\n",
       "    </tr>\n",
       "    <tr>\n",
       "      <th>7183</th>\n",
       "      <td>-1.175956</td>\n",
       "      <td>0.218918</td>\n",
       "      <td>-0.683458</td>\n",
       "      <td>0.164328</td>\n",
       "      <td>-0.440434</td>\n",
       "      <td>0.048399</td>\n",
       "      <td>0.225590</td>\n",
       "      <td>0.014343</td>\n",
       "      <td>0.263855</td>\n",
       "      <td>0.313955</td>\n",
       "      <td>-0.147502</td>\n",
       "      <td>-0.218673</td>\n",
       "      <td>-0.078031</td>\n",
       "      <td>2.544112e-01</td>\n",
       "      <td>0</td>\n",
       "    </tr>\n",
       "    <tr>\n",
       "      <th>7186</th>\n",
       "      <td>-1.023647</td>\n",
       "      <td>0.218918</td>\n",
       "      <td>0.223525</td>\n",
       "      <td>0.200180</td>\n",
       "      <td>-0.048076</td>\n",
       "      <td>0.455011</td>\n",
       "      <td>0.270647</td>\n",
       "      <td>0.455728</td>\n",
       "      <td>0.263855</td>\n",
       "      <td>0.313955</td>\n",
       "      <td>-0.147502</td>\n",
       "      <td>-0.218673</td>\n",
       "      <td>-0.078031</td>\n",
       "      <td>2.544112e-01</td>\n",
       "      <td>1</td>\n",
       "    </tr>\n",
       "    <tr>\n",
       "      <th>7198</th>\n",
       "      <td>-0.871338</td>\n",
       "      <td>0.218918</td>\n",
       "      <td>-0.058264</td>\n",
       "      <td>0.164328</td>\n",
       "      <td>-0.440434</td>\n",
       "      <td>0.048399</td>\n",
       "      <td>0.202926</td>\n",
       "      <td>0.014343</td>\n",
       "      <td>0.263855</td>\n",
       "      <td>0.313955</td>\n",
       "      <td>-0.147502</td>\n",
       "      <td>-0.218673</td>\n",
       "      <td>-0.078031</td>\n",
       "      <td>2.544112e-01</td>\n",
       "      <td>0</td>\n",
       "    </tr>\n",
       "    <tr>\n",
       "      <th>7230</th>\n",
       "      <td>-1.252110</td>\n",
       "      <td>0.218918</td>\n",
       "      <td>-0.204511</td>\n",
       "      <td>0.200180</td>\n",
       "      <td>-0.048076</td>\n",
       "      <td>0.048399</td>\n",
       "      <td>0.041134</td>\n",
       "      <td>0.066334</td>\n",
       "      <td>0.263855</td>\n",
       "      <td>0.113783</td>\n",
       "      <td>-0.147502</td>\n",
       "      <td>-0.218673</td>\n",
       "      <td>0.756794</td>\n",
       "      <td>2.544112e-01</td>\n",
       "      <td>0</td>\n",
       "    </tr>\n",
       "  </tbody>\n",
       "</table>\n",
       "<p>597 rows × 15 columns</p>\n",
       "</div>"
      ],
      "text/plain": [
       "             0         1         2         3         4         5         6  \\\n",
       "10   -1.328265  0.218918  0.452938  0.200180 -0.048076  0.048399  0.041134   \n",
       "23   -0.719029  0.218918 -0.817391  0.164328 -0.440434  0.048399  0.225590   \n",
       "53   -1.023647  0.268960 -0.304552  0.164328 -0.440434  0.048399  0.485342   \n",
       "59   -1.252110  0.218918  0.235100  0.164328 -0.440434  0.048399  0.124236   \n",
       "86   -1.404419  0.218918 -0.048431  0.164328 -0.440434  0.048399  0.270647   \n",
       "...        ...       ...       ...       ...       ...       ...       ...   \n",
       "7182 -1.175956  0.218918  0.266580  0.164328 -0.440434  0.048399  0.225590   \n",
       "7183 -1.175956  0.218918 -0.683458  0.164328 -0.440434  0.048399  0.225590   \n",
       "7186 -1.023647  0.218918  0.223525  0.200180 -0.048076  0.455011  0.270647   \n",
       "7198 -0.871338  0.218918 -0.058264  0.164328 -0.440434  0.048399  0.202926   \n",
       "7230 -1.252110  0.218918 -0.204511  0.200180 -0.048076  0.048399  0.041134   \n",
       "\n",
       "             7         8         9        10        11        12  \\\n",
       "10    0.014343  0.263855  0.313955 -0.147502 -0.218673 -0.495444   \n",
       "23    0.106689  0.263855  0.313955 -0.147502 -0.218673 -0.078031   \n",
       "53    0.106689  0.263855  0.313955 -0.147502 -0.218673 -0.078031   \n",
       "59    0.106689  0.263855  0.313955 -0.147502 -0.218673  0.088934   \n",
       "86    0.106689  0.263855  0.113783 -0.147502 -0.218673 -0.745892   \n",
       "...        ...       ...       ...       ...       ...       ...   \n",
       "7182  0.066334  0.263855  0.313955 -0.147502 -0.218673  0.339381   \n",
       "7183  0.014343  0.263855  0.313955 -0.147502 -0.218673 -0.078031   \n",
       "7186  0.455728  0.263855  0.313955 -0.147502 -0.218673 -0.078031   \n",
       "7198  0.014343  0.263855  0.313955 -0.147502 -0.218673 -0.078031   \n",
       "7230  0.066334  0.263855  0.113783 -0.147502 -0.218673  0.756794   \n",
       "\n",
       "                13  Target  \n",
       "10    2.544112e-01       0  \n",
       "23    2.544112e-01       0  \n",
       "53    2.544112e-01       0  \n",
       "59    2.544112e-01       0  \n",
       "86    2.544112e-01       0  \n",
       "...            ...     ...  \n",
       "7182  5.629249e-07       0  \n",
       "7183  2.544112e-01       0  \n",
       "7186  2.544112e-01       1  \n",
       "7198  2.544112e-01       0  \n",
       "7230  2.544112e-01       0  \n",
       "\n",
       "[597 rows x 15 columns]"
      ]
     },
     "execution_count": 74,
     "metadata": {},
     "output_type": "execute_result"
    }
   ],
   "source": [
    "BB_TEST"
   ]
  },
  {
   "cell_type": "code",
   "execution_count": 75,
   "id": "e19a8de5-43f4-4b8b-a682-e9e37d612a12",
   "metadata": {},
   "outputs": [],
   "source": [
    "BB_TEST_0 = BB_TEST[BB_TEST.Target == 0]\n",
    "BB_TEST_1 = BB_TEST[BB_TEST.Target == 1]\n",
    "\n",
    "BB_TRAIN_0 = BB_TRAIN[BB_TRAIN.Target == 0]\n",
    "BB_TRAIN_1 = BB_TRAIN[BB_TRAIN.Target == 1]"
   ]
  },
  {
   "cell_type": "code",
   "execution_count": 76,
   "id": "c53e4a53-33db-40a8-a8bc-59bca2d75e85",
   "metadata": {},
   "outputs": [],
   "source": [
    "BB_TEST_0 = pd.DataFrame(BLACK_BOX.predict_proba(BB_TEST_0.drop('Target', axis=1).to_numpy()))\n",
    "BB_TEST_1 = pd.DataFrame(BLACK_BOX.predict_proba(BB_TEST_1.drop('Target', axis=1).to_numpy()))\n",
    "BB_TRAIN_0 = pd.DataFrame(BLACK_BOX.predict_proba(BB_TRAIN_0.drop('Target', axis=1).to_numpy()))\n",
    "BB_TRAIN_1 = pd.DataFrame(BLACK_BOX.predict_proba(BB_TRAIN_1.drop('Target', axis=1).to_numpy()))"
   ]
  },
  {
   "cell_type": "code",
   "execution_count": 77,
   "id": "b9d64798-a1a7-419c-a4be-447d07b88b9c",
   "metadata": {},
   "outputs": [],
   "source": [
    "BB_TEST_0['ATK'] = atk_0.predict(BB_TEST_0.to_numpy())\n",
    "BB_TEST_1['ATK'] = atk_1.predict(BB_TEST_1.to_numpy())\n",
    "BB_TRAIN_0['ATK'] = atk_0.predict(BB_TRAIN_0.to_numpy())\n",
    "BB_TRAIN_1['ATK'] = atk_1.predict(BB_TRAIN_1.to_numpy())"
   ]
  },
  {
   "cell_type": "code",
   "execution_count": 78,
   "id": "2e722675-6ab2-4686-b7df-85611c1290aa",
   "metadata": {},
   "outputs": [],
   "source": [
    "BB_TEST_0['Y'] = 'out'\n",
    "BB_TEST_1['Y'] = 'out'\n",
    "BB_TRAIN_0['Y'] = 'in'\n",
    "BB_TRAIN_1['Y'] = 'in'"
   ]
  },
  {
   "cell_type": "code",
   "execution_count": 79,
   "id": "e12cbcce-2e88-450b-ac5d-08f02d11331c",
   "metadata": {},
   "outputs": [],
   "source": [
    "train_test = pd.concat([BB_TEST_0, BB_TEST_1,BB_TRAIN_0, BB_TRAIN_1])"
   ]
  },
  {
   "cell_type": "code",
   "execution_count": 80,
   "id": "15e8f482-8e1d-45e9-8a1b-f6771a4aabde",
   "metadata": {},
   "outputs": [
    {
     "name": "stdout",
     "output_type": "stream",
     "text": [
      "              precision    recall  f1-score   support\n",
      "\n",
      "          in       0.00      0.00      0.00      1352\n",
      "         out       0.31      1.00      0.47       597\n",
      "\n",
      "    accuracy                           0.31      1949\n",
      "   macro avg       0.15      0.50      0.23      1949\n",
      "weighted avg       0.09      0.31      0.14      1949\n",
      "\n"
     ]
    },
    {
     "name": "stderr",
     "output_type": "stream",
     "text": [
      "/home/gerardozinno/.pyenv/versions/ml-environment/lib/python3.9/site-packages/sklearn/metrics/_classification.py:1327: UndefinedMetricWarning: Precision and F-score are ill-defined and being set to 0.0 in labels with no predicted samples. Use `zero_division` parameter to control this behavior.\n",
      "  _warn_prf(average, modifier, msg_start, len(result))\n",
      "/home/gerardozinno/.pyenv/versions/ml-environment/lib/python3.9/site-packages/sklearn/metrics/_classification.py:1327: UndefinedMetricWarning: Precision and F-score are ill-defined and being set to 0.0 in labels with no predicted samples. Use `zero_division` parameter to control this behavior.\n",
      "  _warn_prf(average, modifier, msg_start, len(result))\n",
      "/home/gerardozinno/.pyenv/versions/ml-environment/lib/python3.9/site-packages/sklearn/metrics/_classification.py:1327: UndefinedMetricWarning: Precision and F-score are ill-defined and being set to 0.0 in labels with no predicted samples. Use `zero_division` parameter to control this behavior.\n",
      "  _warn_prf(average, modifier, msg_start, len(result))\n"
     ]
    }
   ],
   "source": [
    "print(classification_report(train_test.Y, train_test.ATK))"
   ]
  },
  {
   "cell_type": "code",
   "execution_count": 81,
   "id": "4e3c3ad4-8922-4b69-a1c4-d8b55087aadd",
   "metadata": {},
   "outputs": [
    {
     "data": {
      "text/plain": [
       "out    597\n",
       "Name: ATK, dtype: int64"
      ]
     },
     "execution_count": 81,
     "metadata": {},
     "output_type": "execute_result"
    }
   ],
   "source": [
    "train_test[train_test.Y == 'out'].ATK.value_counts()"
   ]
  },
  {
   "cell_type": "code",
   "execution_count": 82,
   "id": "1370d624-2b70-42a4-8c52-a6dda0f97d70",
   "metadata": {},
   "outputs": [
    {
     "name": "stderr",
     "output_type": "stream",
     "text": [
      "DEBUG:matplotlib.colorbar:locator: <matplotlib.ticker.AutoLocator object at 0x7f8a0094fa90>\n"
     ]
    },
    {
     "data": {
      "text/plain": [
       "<sklearn.metrics._plot.confusion_matrix.ConfusionMatrixDisplay at 0x7f8a009befd0>"
      ]
     },
     "execution_count": 82,
     "metadata": {},
     "output_type": "execute_result"
    },
    {
     "data": {
      "image/png": "[encoded data removed]",
      "text/plain": [
       "<Figure size 432x288 with 2 Axes>"
      ]
     },
     "metadata": {
      "needs_background": "light"
     },
     "output_type": "display_data"
    }
   ],
   "source": [
    "ConfusionMatrixDisplay.from_predictions(train_test.Y, train_test.ATK, cmap='inferno')"
   ]
  },
  {
   "cell_type": "markdown",
   "id": "6a9ff762-f3d0-4116-8e82-c3d3318b42e6",
   "metadata": {},
   "source": [
    "### with a nn instead of Adaboost for the shadow models"
   ]
  },
  {
   "cell_type": "code",
   "execution_count": 29,
   "id": "f80c7b80-81cc-4826-ac5f-12ff323973e4",
   "metadata": {},
   "outputs": [],
   "source": [
    "local_tree = load_pickle_bz2(\"decision_tree_adult96.bz2\")\n",
    "loaded     = np.load(\"decision_tree_adult_96.data.npz\", allow_pickle=True)"
   ]
  },
  {
   "cell_type": "code",
   "execution_count": 30,
   "id": "878a4249-eb17-4dbb-a965-2e6468238e7f",
   "metadata": {},
   "outputs": [],
   "source": [
    "X_train = loaded['X_train']\n",
    "X_test  = loaded['X_test']\n",
    "y_train = loaded['y_train']\n",
    "y_test  = loaded['y_test']\n",
    "full_generated_dataset = pd.read_csv(\"adult_lime_generated_around_0.csv\")"
   ]
  },
  {
   "cell_type": "code",
   "execution_count": 28,
   "id": "c442fd83-4d26-4940-a8c5-1d83260966b2",
   "metadata": {},
   "outputs": [],
   "source": [
    "from mlem.utilities import create_nn_model_keras\n",
    "\n",
    "path=\"DT/shadow_nn_adult_dt\"\n",
    "\n",
    "shadow_models = ShadowModelsManager(\n",
    "        n_models=4,\n",
    "        results_path=f\"{path}/shadow\",\n",
    "        test_size=0.5,\n",
    "        random_state=123,\n",
    "        model_creator_fn=create_nn_model_keras,\n",
    "        categorical_mask=CATEGORICAL_FEATURES_MASK\n",
    "    )"
   ]
  },
  {
   "cell_type": "markdown",
   "id": "3f2c683a-181c-4517-9a47-e6d4ad862534",
   "metadata": {},
   "source": [
    "Fitting 4 shadow models on the data"
   ]
  },
  {
   "cell_type": "code",
   "execution_count": 37,
   "id": "574d1a24-9ddc-47e1-8b84-2dbb53fed8f1",
   "metadata": {},
   "outputs": [
    {
     "name": "stderr",
     "output_type": "stream",
     "text": [
      "DEBUG:tensorflow:Falling back to TensorFlow client; we recommended you install the Cloud TPU client directly with pip install cloud-tpu-client.\n",
      "DEBUG:h5py._conv:Creating converter from 7 to 5\n",
      "DEBUG:h5py._conv:Creating converter from 5 to 7\n",
      "DEBUG:h5py._conv:Creating converter from 7 to 5\n",
      "DEBUG:h5py._conv:Creating converter from 5 to 7\n",
      "2022-09-11 20:22:12.462625: E tensorflow/stream_executor/cuda/cuda_driver.cc:271] failed call to cuInit: CUDA_ERROR_COMPAT_NOT_SUPPORTED_ON_DEVICE: forward compatibility was attempted on non supported HW\n",
      "2022-09-11 20:22:12.462657: I tensorflow/stream_executor/cuda/cuda_diagnostics.cc:169] retrieving CUDA diagnostic information for host: pop-os\n",
      "2022-09-11 20:22:12.462661: I tensorflow/stream_executor/cuda/cuda_diagnostics.cc:176] hostname: pop-os\n",
      "2022-09-11 20:22:12.462795: I tensorflow/stream_executor/cuda/cuda_diagnostics.cc:200] libcuda reported version is: NOT_FOUND: was unable to find libcuda.so DSO loaded into this program\n",
      "2022-09-11 20:22:12.462817: I tensorflow/stream_executor/cuda/cuda_diagnostics.cc:204] kernel reported version is: 510.85.2\n",
      "2022-09-11 20:22:12.463085: I tensorflow/core/platform/cpu_feature_guard.cc:151] This TensorFlow binary is optimized with oneAPI Deep Neural Network Library (oneDNN) to use the following CPU instructions in performance-critical operations:  AVX2 FMA\n",
      "To enable them in other operations, rebuild TensorFlow with the appropriate compiler flags.\n"
     ]
    },
    {
     "name": "stdout",
     "output_type": "stream",
     "text": [
      "Epoch 1/20\n",
      "84/84 [==============================] - 0s 2ms/step - loss: 0.5788 - accuracy: 0.7339 - val_loss: 0.4397 - val_accuracy: 0.8495\n",
      "Epoch 2/20\n",
      "84/84 [==============================] - 0s 716us/step - loss: 0.3474 - accuracy: 0.8593 - val_loss: 0.2801 - val_accuracy: 0.8997\n",
      "Epoch 3/20\n",
      "84/84 [==============================] - 0s 722us/step - loss: 0.2475 - accuracy: 0.9062 - val_loss: 0.2022 - val_accuracy: 0.9331\n",
      "Epoch 4/20\n",
      "84/84 [==============================] - 0s 730us/step - loss: 0.1911 - accuracy: 0.9263 - val_loss: 0.1525 - val_accuracy: 0.9498\n",
      "Epoch 5/20\n",
      "84/84 [==============================] - 0s 740us/step - loss: 0.1569 - accuracy: 0.9375 - val_loss: 0.1253 - val_accuracy: 0.9632\n",
      "Epoch 6/20\n",
      "84/84 [==============================] - 0s 738us/step - loss: 0.1323 - accuracy: 0.9527 - val_loss: 0.1094 - val_accuracy: 0.9699\n",
      "Epoch 7/20\n",
      "84/84 [==============================] - 0s 723us/step - loss: 0.1169 - accuracy: 0.9576 - val_loss: 0.1006 - val_accuracy: 0.9699\n",
      "Epoch 8/20\n",
      "84/84 [==============================] - 0s 717us/step - loss: 0.1085 - accuracy: 0.9620 - val_loss: 0.0891 - val_accuracy: 0.9766\n",
      "Epoch 9/20\n",
      "84/84 [==============================] - 0s 724us/step - loss: 0.1016 - accuracy: 0.9628 - val_loss: 0.0832 - val_accuracy: 0.9732\n",
      "Epoch 10/20\n",
      "84/84 [==============================] - 0s 733us/step - loss: 0.1001 - accuracy: 0.9617 - val_loss: 0.0857 - val_accuracy: 0.9732\n",
      "Epoch 11/20\n",
      "84/84 [==============================] - 0s 717us/step - loss: 0.0980 - accuracy: 0.9632 - val_loss: 0.0848 - val_accuracy: 0.9732\n",
      "Epoch 12/20\n",
      "84/84 [==============================] - 0s 714us/step - loss: 0.0909 - accuracy: 0.9639 - val_loss: 0.0816 - val_accuracy: 0.9766\n",
      "Epoch 13/20\n",
      "84/84 [==============================] - 0s 715us/step - loss: 0.0952 - accuracy: 0.9620 - val_loss: 0.0942 - val_accuracy: 0.9632\n",
      "Epoch 14/20\n",
      "84/84 [==============================] - 0s 718us/step - loss: 0.0893 - accuracy: 0.9632 - val_loss: 0.0803 - val_accuracy: 0.9732\n",
      "Epoch 15/20\n",
      "84/84 [==============================] - 0s 706us/step - loss: 0.0876 - accuracy: 0.9676 - val_loss: 0.0796 - val_accuracy: 0.9699\n",
      "Epoch 16/20\n",
      "84/84 [==============================] - 0s 712us/step - loss: 0.0894 - accuracy: 0.9646 - val_loss: 0.0773 - val_accuracy: 0.9699\n",
      "Epoch 17/20\n",
      "84/84 [==============================] - 0s 717us/step - loss: 0.0882 - accuracy: 0.9684 - val_loss: 0.0735 - val_accuracy: 0.9799\n",
      "Epoch 18/20\n",
      "84/84 [==============================] - 0s 719us/step - loss: 0.0886 - accuracy: 0.9643 - val_loss: 0.0840 - val_accuracy: 0.9599\n",
      "Epoch 19/20\n",
      "84/84 [==============================] - 0s 705us/step - loss: 0.0848 - accuracy: 0.9672 - val_loss: 0.0868 - val_accuracy: 0.9699\n",
      "Epoch 20/20\n",
      "84/84 [==============================] - 0s 707us/step - loss: 0.0876 - accuracy: 0.9680 - val_loss: 0.0784 - val_accuracy: 0.9632\n"
     ]
    },
    {
     "name": "stderr",
     "output_type": "stream",
     "text": [
      "2022-09-11 20:22:14.620038: W tensorflow/python/util/util.cc:368] Sets are not currently considered sequences, but this may change in the future, so consider avoiding using them.\n",
      "INFO:tensorflow:Assets written to: ram://138a0902-0487-40e8-8502-ab4d04f17251/assets\n"
     ]
    },
    {
     "name": "stdout",
     "output_type": "stream",
     "text": [
      "Epoch 1/20\n",
      "84/84 [==============================] - 0s 2ms/step - loss: 0.6088 - accuracy: 0.6770 - val_loss: 0.4681 - val_accuracy: 0.8227\n",
      "Epoch 2/20\n",
      "84/84 [==============================] - 0s 715us/step - loss: 0.3806 - accuracy: 0.8705 - val_loss: 0.2780 - val_accuracy: 0.8796\n",
      "Epoch 3/20\n",
      "84/84 [==============================] - 0s 717us/step - loss: 0.2454 - accuracy: 0.9096 - val_loss: 0.2000 - val_accuracy: 0.9398\n",
      "Epoch 4/20\n",
      "84/84 [==============================] - 0s 694us/step - loss: 0.1816 - accuracy: 0.9401 - val_loss: 0.1628 - val_accuracy: 0.9498\n",
      "Epoch 5/20\n",
      "84/84 [==============================] - 0s 715us/step - loss: 0.1384 - accuracy: 0.9539 - val_loss: 0.1422 - val_accuracy: 0.9465\n",
      "Epoch 6/20\n",
      "84/84 [==============================] - 0s 711us/step - loss: 0.1159 - accuracy: 0.9572 - val_loss: 0.1362 - val_accuracy: 0.9398\n",
      "Epoch 7/20\n",
      "84/84 [==============================] - 0s 718us/step - loss: 0.1039 - accuracy: 0.9643 - val_loss: 0.1205 - val_accuracy: 0.9532\n",
      "Epoch 8/20\n",
      "84/84 [==============================] - 0s 721us/step - loss: 0.0948 - accuracy: 0.9658 - val_loss: 0.1280 - val_accuracy: 0.9498\n",
      "Epoch 9/20\n",
      "84/84 [==============================] - 0s 718us/step - loss: 0.0891 - accuracy: 0.9687 - val_loss: 0.1303 - val_accuracy: 0.9599\n",
      "Epoch 10/20\n",
      "84/84 [==============================] - 0s 698us/step - loss: 0.0886 - accuracy: 0.9643 - val_loss: 0.1223 - val_accuracy: 0.9599\n",
      "Epoch 11/20\n",
      "84/84 [==============================] - 0s 722us/step - loss: 0.0865 - accuracy: 0.9654 - val_loss: 0.1286 - val_accuracy: 0.9565\n",
      "Epoch 12/20\n",
      "84/84 [==============================] - 0s 712us/step - loss: 0.0817 - accuracy: 0.9684 - val_loss: 0.1223 - val_accuracy: 0.9532\n",
      "Epoch 13/20\n",
      "84/84 [==============================] - 0s 698us/step - loss: 0.0806 - accuracy: 0.9695 - val_loss: 0.1155 - val_accuracy: 0.9632\n",
      "Epoch 14/20\n",
      "84/84 [==============================] - 0s 718us/step - loss: 0.0775 - accuracy: 0.9710 - val_loss: 0.1147 - val_accuracy: 0.9632\n",
      "Epoch 15/20\n",
      "84/84 [==============================] - 0s 716us/step - loss: 0.0760 - accuracy: 0.9695 - val_loss: 0.1136 - val_accuracy: 0.9632\n",
      "Epoch 16/20\n",
      "84/84 [==============================] - 0s 765us/step - loss: 0.0746 - accuracy: 0.9725 - val_loss: 0.1113 - val_accuracy: 0.9632\n",
      "Epoch 17/20\n",
      "84/84 [==============================] - 0s 783us/step - loss: 0.0728 - accuracy: 0.9702 - val_loss: 0.1344 - val_accuracy: 0.9431\n",
      "Epoch 18/20\n",
      "84/84 [==============================] - 0s 768us/step - loss: 0.0745 - accuracy: 0.9687 - val_loss: 0.1163 - val_accuracy: 0.9599\n",
      "Epoch 19/20\n",
      "84/84 [==============================] - 0s 746us/step - loss: 0.0706 - accuracy: 0.9717 - val_loss: 0.1235 - val_accuracy: 0.9666\n",
      "Epoch 20/20\n",
      "84/84 [==============================] - 0s 707us/step - loss: 0.0697 - accuracy: 0.9702 - val_loss: 0.1169 - val_accuracy: 0.9632\n"
     ]
    },
    {
     "name": "stderr",
     "output_type": "stream",
     "text": [
      "INFO:tensorflow:Assets written to: ram://c3ba5481-2f2a-4c0d-9538-fc31788bf3f7/assets\n"
     ]
    },
    {
     "name": "stdout",
     "output_type": "stream",
     "text": [
      "Epoch 1/20\n",
      "84/84 [==============================] - 0s 2ms/step - loss: 0.5468 - accuracy: 0.7168 - val_loss: 0.4260 - val_accuracy: 0.8094\n",
      "Epoch 2/20\n",
      "84/84 [==============================] - 0s 714us/step - loss: 0.3237 - accuracy: 0.8578 - val_loss: 0.2908 - val_accuracy: 0.8763\n",
      "Epoch 3/20\n",
      "84/84 [==============================] - 0s 709us/step - loss: 0.2305 - accuracy: 0.9088 - val_loss: 0.2076 - val_accuracy: 0.9164\n",
      "Epoch 4/20\n",
      "84/84 [==============================] - 0s 716us/step - loss: 0.1742 - accuracy: 0.9356 - val_loss: 0.1681 - val_accuracy: 0.9298\n",
      "Epoch 5/20\n",
      "84/84 [==============================] - 0s 703us/step - loss: 0.1389 - accuracy: 0.9516 - val_loss: 0.1304 - val_accuracy: 0.9398\n",
      "Epoch 6/20\n",
      "84/84 [==============================] - 0s 723us/step - loss: 0.1168 - accuracy: 0.9561 - val_loss: 0.1118 - val_accuracy: 0.9465\n",
      "Epoch 7/20\n",
      "84/84 [==============================] - 0s 738us/step - loss: 0.1075 - accuracy: 0.9579 - val_loss: 0.1107 - val_accuracy: 0.9465\n",
      "Epoch 8/20\n",
      "84/84 [==============================] - 0s 729us/step - loss: 0.0974 - accuracy: 0.9609 - val_loss: 0.1071 - val_accuracy: 0.9565\n",
      "Epoch 9/20\n",
      "84/84 [==============================] - 0s 801us/step - loss: 0.0942 - accuracy: 0.9632 - val_loss: 0.1031 - val_accuracy: 0.9699\n",
      "Epoch 10/20\n",
      "84/84 [==============================] - 0s 717us/step - loss: 0.0933 - accuracy: 0.9617 - val_loss: 0.0958 - val_accuracy: 0.9599\n",
      "Epoch 11/20\n",
      "84/84 [==============================] - 0s 696us/step - loss: 0.0896 - accuracy: 0.9650 - val_loss: 0.0963 - val_accuracy: 0.9632\n",
      "Epoch 12/20\n",
      "84/84 [==============================] - 0s 712us/step - loss: 0.0883 - accuracy: 0.9639 - val_loss: 0.0888 - val_accuracy: 0.9599\n",
      "Epoch 13/20\n",
      "84/84 [==============================] - 0s 818us/step - loss: 0.0871 - accuracy: 0.9643 - val_loss: 0.1049 - val_accuracy: 0.9398\n",
      "Epoch 14/20\n",
      "84/84 [==============================] - 0s 725us/step - loss: 0.0838 - accuracy: 0.9654 - val_loss: 0.0881 - val_accuracy: 0.9599\n",
      "Epoch 15/20\n",
      "84/84 [==============================] - 0s 706us/step - loss: 0.0819 - accuracy: 0.9702 - val_loss: 0.1092 - val_accuracy: 0.9465\n",
      "Epoch 16/20\n",
      "84/84 [==============================] - 0s 707us/step - loss: 0.0839 - accuracy: 0.9650 - val_loss: 0.0982 - val_accuracy: 0.9599\n",
      "Epoch 17/20\n",
      "84/84 [==============================] - 0s 713us/step - loss: 0.0819 - accuracy: 0.9680 - val_loss: 0.1068 - val_accuracy: 0.9666\n",
      "Epoch 18/20\n",
      "84/84 [==============================] - 0s 870us/step - loss: 0.0771 - accuracy: 0.9695 - val_loss: 0.0953 - val_accuracy: 0.9599\n",
      "Epoch 19/20\n",
      "84/84 [==============================] - 0s 769us/step - loss: 0.0782 - accuracy: 0.9680 - val_loss: 0.0928 - val_accuracy: 0.9632\n",
      "Epoch 20/20\n",
      "84/84 [==============================] - 0s 730us/step - loss: 0.0763 - accuracy: 0.9672 - val_loss: 0.0994 - val_accuracy: 0.9599\n"
     ]
    },
    {
     "name": "stderr",
     "output_type": "stream",
     "text": [
      "INFO:tensorflow:Assets written to: ram://afc8b96d-c2de-4171-8036-83ce8e5c487d/assets\n"
     ]
    },
    {
     "name": "stdout",
     "output_type": "stream",
     "text": [
      "Epoch 1/20\n",
      "84/84 [==============================] - 0s 2ms/step - loss: 0.5409 - accuracy: 0.7689 - val_loss: 0.4294 - val_accuracy: 0.8194\n",
      "Epoch 2/20\n",
      "84/84 [==============================] - 0s 715us/step - loss: 0.3424 - accuracy: 0.8597 - val_loss: 0.2841 - val_accuracy: 0.8662\n",
      "Epoch 3/20\n",
      "84/84 [==============================] - 0s 704us/step - loss: 0.2407 - accuracy: 0.9066 - val_loss: 0.2117 - val_accuracy: 0.9097\n",
      "Epoch 4/20\n",
      "84/84 [==============================] - 0s 699us/step - loss: 0.1792 - accuracy: 0.9356 - val_loss: 0.1672 - val_accuracy: 0.9431\n",
      "Epoch 5/20\n",
      "84/84 [==============================] - 0s 708us/step - loss: 0.1438 - accuracy: 0.9490 - val_loss: 0.1453 - val_accuracy: 0.9565\n",
      "Epoch 6/20\n",
      "84/84 [==============================] - 0s 716us/step - loss: 0.1240 - accuracy: 0.9539 - val_loss: 0.1398 - val_accuracy: 0.9465\n",
      "Epoch 7/20\n",
      "84/84 [==============================] - 0s 714us/step - loss: 0.1135 - accuracy: 0.9553 - val_loss: 0.1255 - val_accuracy: 0.9498\n",
      "Epoch 8/20\n",
      "84/84 [==============================] - 0s 707us/step - loss: 0.1067 - accuracy: 0.9598 - val_loss: 0.1186 - val_accuracy: 0.9565\n",
      "Epoch 9/20\n",
      "84/84 [==============================] - 0s 718us/step - loss: 0.0987 - accuracy: 0.9613 - val_loss: 0.1269 - val_accuracy: 0.9465\n",
      "Epoch 10/20\n",
      "84/84 [==============================] - 0s 717us/step - loss: 0.0982 - accuracy: 0.9613 - val_loss: 0.1183 - val_accuracy: 0.9632\n",
      "Epoch 11/20\n",
      "84/84 [==============================] - 0s 755us/step - loss: 0.0942 - accuracy: 0.9639 - val_loss: 0.1282 - val_accuracy: 0.9398\n",
      "Epoch 12/20\n",
      "84/84 [==============================] - 0s 708us/step - loss: 0.0914 - accuracy: 0.9639 - val_loss: 0.1121 - val_accuracy: 0.9666\n",
      "Epoch 13/20\n",
      "84/84 [==============================] - 0s 720us/step - loss: 0.0903 - accuracy: 0.9643 - val_loss: 0.1218 - val_accuracy: 0.9532\n",
      "Epoch 14/20\n",
      "84/84 [==============================] - 0s 708us/step - loss: 0.0865 - accuracy: 0.9665 - val_loss: 0.1436 - val_accuracy: 0.9398\n",
      "Epoch 15/20\n",
      "84/84 [==============================] - 0s 706us/step - loss: 0.0878 - accuracy: 0.9669 - val_loss: 0.1119 - val_accuracy: 0.9599\n",
      "Epoch 16/20\n",
      "84/84 [==============================] - 0s 714us/step - loss: 0.0892 - accuracy: 0.9646 - val_loss: 0.1043 - val_accuracy: 0.9632\n",
      "Epoch 17/20\n",
      "84/84 [==============================] - 0s 720us/step - loss: 0.0841 - accuracy: 0.9669 - val_loss: 0.1085 - val_accuracy: 0.9599\n",
      "Epoch 18/20\n",
      "84/84 [==============================] - 0s 731us/step - loss: 0.0839 - accuracy: 0.9665 - val_loss: 0.1107 - val_accuracy: 0.9666\n",
      "Epoch 19/20\n",
      "84/84 [==============================] - 0s 725us/step - loss: 0.0829 - accuracy: 0.9710 - val_loss: 0.1108 - val_accuracy: 0.9498\n",
      "Epoch 20/20\n",
      "84/84 [==============================] - 0s 720us/step - loss: 0.0826 - accuracy: 0.9680 - val_loss: 0.1056 - val_accuracy: 0.9599\n"
     ]
    },
    {
     "name": "stderr",
     "output_type": "stream",
     "text": [
      "INFO:tensorflow:Assets written to: ram://271d832a-c9ec-4220-9183-0a662cdfa456/assets\n"
     ]
    }
   ],
   "source": [
    "shadow_models.fit(x_attack, y_attack)"
   ]
  },
  {
   "cell_type": "code",
   "execution_count": 38,
   "id": "854b8269-7007-46d1-a60c-85a8f7eb6071",
   "metadata": {},
   "outputs": [
    {
     "data": {
      "text/html": [
       "<div>\n",
       "<style scoped>\n",
       "    .dataframe tbody tr th:only-of-type {\n",
       "        vertical-align: middle;\n",
       "    }\n",
       "\n",
       "    .dataframe tbody tr th {\n",
       "        vertical-align: top;\n",
       "    }\n",
       "\n",
       "    .dataframe thead th {\n",
       "        text-align: right;\n",
       "    }\n",
       "</style>\n",
       "<table border=\"1\" class=\"dataframe\">\n",
       "  <thead>\n",
       "    <tr style=\"text-align: right;\">\n",
       "      <th></th>\n",
       "      <th>0</th>\n",
       "      <th>1</th>\n",
       "      <th>label</th>\n",
       "      <th>inout</th>\n",
       "    </tr>\n",
       "  </thead>\n",
       "  <tbody>\n",
       "    <tr>\n",
       "      <th>0</th>\n",
       "      <td>0.000000</td>\n",
       "      <td>1.000000</td>\n",
       "      <td>1</td>\n",
       "      <td>in</td>\n",
       "    </tr>\n",
       "    <tr>\n",
       "      <th>1</th>\n",
       "      <td>0.999884</td>\n",
       "      <td>0.000116</td>\n",
       "      <td>0</td>\n",
       "      <td>in</td>\n",
       "    </tr>\n",
       "    <tr>\n",
       "      <th>2</th>\n",
       "      <td>0.999529</td>\n",
       "      <td>0.000471</td>\n",
       "      <td>0</td>\n",
       "      <td>in</td>\n",
       "    </tr>\n",
       "    <tr>\n",
       "      <th>3</th>\n",
       "      <td>0.113125</td>\n",
       "      <td>0.886875</td>\n",
       "      <td>1</td>\n",
       "      <td>in</td>\n",
       "    </tr>\n",
       "    <tr>\n",
       "      <th>4</th>\n",
       "      <td>0.992914</td>\n",
       "      <td>0.007086</td>\n",
       "      <td>0</td>\n",
       "      <td>in</td>\n",
       "    </tr>\n",
       "    <tr>\n",
       "      <th>...</th>\n",
       "      <td>...</td>\n",
       "      <td>...</td>\n",
       "      <td>...</td>\n",
       "      <td>...</td>\n",
       "    </tr>\n",
       "    <tr>\n",
       "      <th>2975</th>\n",
       "      <td>0.998204</td>\n",
       "      <td>0.001796</td>\n",
       "      <td>0</td>\n",
       "      <td>out</td>\n",
       "    </tr>\n",
       "    <tr>\n",
       "      <th>2976</th>\n",
       "      <td>0.329376</td>\n",
       "      <td>0.670624</td>\n",
       "      <td>1</td>\n",
       "      <td>out</td>\n",
       "    </tr>\n",
       "    <tr>\n",
       "      <th>2977</th>\n",
       "      <td>0.996248</td>\n",
       "      <td>0.003752</td>\n",
       "      <td>0</td>\n",
       "      <td>out</td>\n",
       "    </tr>\n",
       "    <tr>\n",
       "      <th>2978</th>\n",
       "      <td>0.999987</td>\n",
       "      <td>0.000013</td>\n",
       "      <td>0</td>\n",
       "      <td>out</td>\n",
       "    </tr>\n",
       "    <tr>\n",
       "      <th>2979</th>\n",
       "      <td>0.000005</td>\n",
       "      <td>0.999995</td>\n",
       "      <td>1</td>\n",
       "      <td>out</td>\n",
       "    </tr>\n",
       "  </tbody>\n",
       "</table>\n",
       "<p>23864 rows × 4 columns</p>\n",
       "</div>"
      ],
      "text/plain": [
       "             0         1  label inout\n",
       "0     0.000000  1.000000      1    in\n",
       "1     0.999884  0.000116      0    in\n",
       "2     0.999529  0.000471      0    in\n",
       "3     0.113125  0.886875      1    in\n",
       "4     0.992914  0.007086      0    in\n",
       "...        ...       ...    ...   ...\n",
       "2975  0.998204  0.001796      0   out\n",
       "2976  0.329376  0.670624      1   out\n",
       "2977  0.996248  0.003752      0   out\n",
       "2978  0.999987  0.000013      0   out\n",
       "2979  0.000005  0.999995      1   out\n",
       "\n",
       "[23864 rows x 4 columns]"
      ]
     },
     "execution_count": 38,
     "metadata": {},
     "output_type": "execute_result"
    }
   ],
   "source": [
    "attack_dataset_nn = shadow_models.get_attack_dataset()\n",
    "attack_dataset_nn"
   ]
  },
  {
   "cell_type": "code",
   "execution_count": 39,
   "id": "76b2aa96-41e1-4604-bbdb-15b896d6ab02",
   "metadata": {},
   "outputs": [
    {
     "data": {
      "text/html": [
       "<div>\n",
       "<style scoped>\n",
       "    .dataframe tbody tr th:only-of-type {\n",
       "        vertical-align: middle;\n",
       "    }\n",
       "\n",
       "    .dataframe tbody tr th {\n",
       "        vertical-align: top;\n",
       "    }\n",
       "\n",
       "    .dataframe thead th {\n",
       "        text-align: right;\n",
       "    }\n",
       "</style>\n",
       "<table border=\"1\" class=\"dataframe\">\n",
       "  <thead>\n",
       "    <tr style=\"text-align: right;\">\n",
       "      <th></th>\n",
       "      <th>0</th>\n",
       "      <th>1</th>\n",
       "    </tr>\n",
       "  </thead>\n",
       "  <tbody>\n",
       "    <tr>\n",
       "      <th>count</th>\n",
       "      <td>11948.000000</td>\n",
       "      <td>1.194800e+04</td>\n",
       "    </tr>\n",
       "    <tr>\n",
       "      <th>mean</th>\n",
       "      <td>0.946618</td>\n",
       "      <td>5.338245e-02</td>\n",
       "    </tr>\n",
       "    <tr>\n",
       "      <th>std</th>\n",
       "      <td>0.161259</td>\n",
       "      <td>1.612586e-01</td>\n",
       "    </tr>\n",
       "    <tr>\n",
       "      <th>min</th>\n",
       "      <td>0.000078</td>\n",
       "      <td>1.427924e-07</td>\n",
       "    </tr>\n",
       "    <tr>\n",
       "      <th>25%</th>\n",
       "      <td>0.990823</td>\n",
       "      <td>1.617000e-04</td>\n",
       "    </tr>\n",
       "    <tr>\n",
       "      <th>50%</th>\n",
       "      <td>0.999027</td>\n",
       "      <td>9.729266e-04</td>\n",
       "    </tr>\n",
       "    <tr>\n",
       "      <th>75%</th>\n",
       "      <td>0.999838</td>\n",
       "      <td>9.176798e-03</td>\n",
       "    </tr>\n",
       "    <tr>\n",
       "      <th>max</th>\n",
       "      <td>1.000000</td>\n",
       "      <td>9.999218e-01</td>\n",
       "    </tr>\n",
       "  </tbody>\n",
       "</table>\n",
       "</div>"
      ],
      "text/plain": [
       "                  0             1\n",
       "count  11948.000000  1.194800e+04\n",
       "mean       0.946618  5.338245e-02\n",
       "std        0.161259  1.612586e-01\n",
       "min        0.000078  1.427924e-07\n",
       "25%        0.990823  1.617000e-04\n",
       "50%        0.999027  9.729266e-04\n",
       "75%        0.999838  9.176798e-03\n",
       "max        1.000000  9.999218e-01"
      ]
     },
     "execution_count": 39,
     "metadata": {},
     "output_type": "execute_result"
    }
   ],
   "source": [
    "attack_dataset_nn[attack_dataset_nn.label == 0][[0,1]].describe()"
   ]
  },
  {
   "cell_type": "code",
   "execution_count": 40,
   "id": "360984f6-0d58-43c9-ad7f-245d93c4ef2e",
   "metadata": {},
   "outputs": [
    {
     "data": {
      "text/html": [
       "<div>\n",
       "<style scoped>\n",
       "    .dataframe tbody tr th:only-of-type {\n",
       "        vertical-align: middle;\n",
       "    }\n",
       "\n",
       "    .dataframe tbody tr th {\n",
       "        vertical-align: top;\n",
       "    }\n",
       "\n",
       "    .dataframe thead th {\n",
       "        text-align: right;\n",
       "    }\n",
       "</style>\n",
       "<table border=\"1\" class=\"dataframe\">\n",
       "  <thead>\n",
       "    <tr style=\"text-align: right;\">\n",
       "      <th></th>\n",
       "      <th>0</th>\n",
       "      <th>1</th>\n",
       "    </tr>\n",
       "  </thead>\n",
       "  <tbody>\n",
       "    <tr>\n",
       "      <th>count</th>\n",
       "      <td>11916.000000</td>\n",
       "      <td>11916.000000</td>\n",
       "    </tr>\n",
       "    <tr>\n",
       "      <th>mean</th>\n",
       "      <td>0.051763</td>\n",
       "      <td>0.948237</td>\n",
       "    </tr>\n",
       "    <tr>\n",
       "      <th>std</th>\n",
       "      <td>0.144050</td>\n",
       "      <td>0.144050</td>\n",
       "    </tr>\n",
       "    <tr>\n",
       "      <th>min</th>\n",
       "      <td>0.000000</td>\n",
       "      <td>0.003020</td>\n",
       "    </tr>\n",
       "    <tr>\n",
       "      <th>25%</th>\n",
       "      <td>0.000000</td>\n",
       "      <td>0.984823</td>\n",
       "    </tr>\n",
       "    <tr>\n",
       "      <th>50%</th>\n",
       "      <td>0.000002</td>\n",
       "      <td>0.999998</td>\n",
       "    </tr>\n",
       "    <tr>\n",
       "      <th>75%</th>\n",
       "      <td>0.015177</td>\n",
       "      <td>1.000000</td>\n",
       "    </tr>\n",
       "    <tr>\n",
       "      <th>max</th>\n",
       "      <td>0.996980</td>\n",
       "      <td>1.000000</td>\n",
       "    </tr>\n",
       "  </tbody>\n",
       "</table>\n",
       "</div>"
      ],
      "text/plain": [
       "                  0             1\n",
       "count  11916.000000  11916.000000\n",
       "mean       0.051763      0.948237\n",
       "std        0.144050      0.144050\n",
       "min        0.000000      0.003020\n",
       "25%        0.000000      0.984823\n",
       "50%        0.000002      0.999998\n",
       "75%        0.015177      1.000000\n",
       "max        0.996980      1.000000"
      ]
     },
     "execution_count": 40,
     "metadata": {},
     "output_type": "execute_result"
    }
   ],
   "source": [
    "attack_dataset_nn[attack_dataset_nn.label == 1][[0,1]].describe()"
   ]
  },
  {
   "cell_type": "code",
   "execution_count": 41,
   "id": "e84138b0-ea94-48a0-995f-a28a805b2c28",
   "metadata": {},
   "outputs": [
    {
     "data": {
      "text/html": [
       "<div>\n",
       "<style scoped>\n",
       "    .dataframe tbody tr th:only-of-type {\n",
       "        vertical-align: middle;\n",
       "    }\n",
       "\n",
       "    .dataframe tbody tr th {\n",
       "        vertical-align: top;\n",
       "    }\n",
       "\n",
       "    .dataframe thead th {\n",
       "        text-align: right;\n",
       "    }\n",
       "</style>\n",
       "<table border=\"1\" class=\"dataframe\">\n",
       "  <thead>\n",
       "    <tr style=\"text-align: right;\">\n",
       "      <th></th>\n",
       "      <th>0</th>\n",
       "      <th>1</th>\n",
       "    </tr>\n",
       "  </thead>\n",
       "  <tbody>\n",
       "    <tr>\n",
       "      <th>count</th>\n",
       "      <td>11944.000000</td>\n",
       "      <td>1.194400e+04</td>\n",
       "    </tr>\n",
       "    <tr>\n",
       "      <th>mean</th>\n",
       "      <td>0.500771</td>\n",
       "      <td>4.992286e-01</td>\n",
       "    </tr>\n",
       "    <tr>\n",
       "      <th>std</th>\n",
       "      <td>0.473440</td>\n",
       "      <td>4.734397e-01</td>\n",
       "    </tr>\n",
       "    <tr>\n",
       "      <th>min</th>\n",
       "      <td>0.000000</td>\n",
       "      <td>1.427924e-07</td>\n",
       "    </tr>\n",
       "    <tr>\n",
       "      <th>25%</th>\n",
       "      <td>0.000003</td>\n",
       "      <td>9.981766e-04</td>\n",
       "    </tr>\n",
       "    <tr>\n",
       "      <th>50%</th>\n",
       "      <td>0.476871</td>\n",
       "      <td>5.231291e-01</td>\n",
       "    </tr>\n",
       "    <tr>\n",
       "      <th>75%</th>\n",
       "      <td>0.999002</td>\n",
       "      <td>9.999973e-01</td>\n",
       "    </tr>\n",
       "    <tr>\n",
       "      <th>max</th>\n",
       "      <td>1.000000</td>\n",
       "      <td>1.000000e+00</td>\n",
       "    </tr>\n",
       "  </tbody>\n",
       "</table>\n",
       "</div>"
      ],
      "text/plain": [
       "                  0             1\n",
       "count  11944.000000  1.194400e+04\n",
       "mean       0.500771  4.992286e-01\n",
       "std        0.473440  4.734397e-01\n",
       "min        0.000000  1.427924e-07\n",
       "25%        0.000003  9.981766e-04\n",
       "50%        0.476871  5.231291e-01\n",
       "75%        0.999002  9.999973e-01\n",
       "max        1.000000  1.000000e+00"
      ]
     },
     "execution_count": 41,
     "metadata": {},
     "output_type": "execute_result"
    }
   ],
   "source": [
    "attack_dataset_nn[attack_dataset_nn.inout == 'in'][[0,1]].describe()"
   ]
  },
  {
   "cell_type": "code",
   "execution_count": 42,
   "id": "42142e38-7074-40bf-8317-e00c18acd7d4",
   "metadata": {},
   "outputs": [
    {
     "data": {
      "text/html": [
       "<div>\n",
       "<style scoped>\n",
       "    .dataframe tbody tr th:only-of-type {\n",
       "        vertical-align: middle;\n",
       "    }\n",
       "\n",
       "    .dataframe tbody tr th {\n",
       "        vertical-align: top;\n",
       "    }\n",
       "\n",
       "    .dataframe thead th {\n",
       "        text-align: right;\n",
       "    }\n",
       "</style>\n",
       "<table border=\"1\" class=\"dataframe\">\n",
       "  <thead>\n",
       "    <tr style=\"text-align: right;\">\n",
       "      <th></th>\n",
       "      <th>0</th>\n",
       "      <th>1</th>\n",
       "    </tr>\n",
       "  </thead>\n",
       "  <tbody>\n",
       "    <tr>\n",
       "      <th>count</th>\n",
       "      <td>11920.000000</td>\n",
       "      <td>1.192000e+04</td>\n",
       "    </tr>\n",
       "    <tr>\n",
       "      <th>mean</th>\n",
       "      <td>0.498807</td>\n",
       "      <td>5.011931e-01</td>\n",
       "    </tr>\n",
       "    <tr>\n",
       "      <th>std</th>\n",
       "      <td>0.472259</td>\n",
       "      <td>4.722594e-01</td>\n",
       "    </tr>\n",
       "    <tr>\n",
       "      <th>min</th>\n",
       "      <td>0.000000</td>\n",
       "      <td>1.947941e-07</td>\n",
       "    </tr>\n",
       "    <tr>\n",
       "      <th>25%</th>\n",
       "      <td>0.000002</td>\n",
       "      <td>9.400323e-04</td>\n",
       "    </tr>\n",
       "    <tr>\n",
       "      <th>50%</th>\n",
       "      <td>0.440931</td>\n",
       "      <td>5.590688e-01</td>\n",
       "    </tr>\n",
       "    <tr>\n",
       "      <th>75%</th>\n",
       "      <td>0.999060</td>\n",
       "      <td>9.999982e-01</td>\n",
       "    </tr>\n",
       "    <tr>\n",
       "      <th>max</th>\n",
       "      <td>1.000000</td>\n",
       "      <td>1.000000e+00</td>\n",
       "    </tr>\n",
       "  </tbody>\n",
       "</table>\n",
       "</div>"
      ],
      "text/plain": [
       "                  0             1\n",
       "count  11920.000000  1.192000e+04\n",
       "mean       0.498807  5.011931e-01\n",
       "std        0.472259  4.722594e-01\n",
       "min        0.000000  1.947941e-07\n",
       "25%        0.000002  9.400323e-04\n",
       "50%        0.440931  5.590688e-01\n",
       "75%        0.999060  9.999982e-01\n",
       "max        1.000000  1.000000e+00"
      ]
     },
     "execution_count": 42,
     "metadata": {},
     "output_type": "execute_result"
    }
   ],
   "source": [
    "attack_dataset_nn[attack_dataset_nn.inout == 'out'][[0,1]].describe()"
   ]
  },
  {
   "cell_type": "code",
   "execution_count": 43,
   "id": "92a327ae-8f9c-4403-90de-1b515d615381",
   "metadata": {},
   "outputs": [],
   "source": [
    "attack_dataset_ins_nn = attack_dataset_nn[attack_dataset_nn.inout == 'in']#.drop('inout', axis=1)\n",
    "attack_dataset_outs_nn = attack_dataset_nn[attack_dataset_nn.inout == 'out']#.drop('inout', axis=1)"
   ]
  },
  {
   "cell_type": "markdown",
   "id": "0f1ff2eb-5630-4cd3-bacf-df3e73cff11e",
   "metadata": {},
   "source": [
    "Creating the attack models, one for each label"
   ]
  },
  {
   "cell_type": "code",
   "execution_count": 54,
   "id": "9cd69d7c-ef16-496c-8508-d1ae59fb331a",
   "metadata": {},
   "outputs": [],
   "source": [
    "from mlem.attack_models import AttackModelsManager, AttackStrategy\n",
    "from mlem.utilities import create_adaboost\n",
    "\n",
    "attack_models = AttackModelsManager(\n",
    "        results_path=f\"DT/attack_nn_adult_dt\", model_creator_fn=create_adaboost, attack_strategy=AttackStrategy.ONE_PER_LABEL\n",
    ")"
   ]
  },
  {
   "cell_type": "code",
   "execution_count": 55,
   "id": "3dd6624c-9ab9-40ef-88e6-bf46a72f6cf1",
   "metadata": {},
   "outputs": [
    {
     "data": {
      "text/html": [
       "<div>\n",
       "<style scoped>\n",
       "    .dataframe tbody tr th:only-of-type {\n",
       "        vertical-align: middle;\n",
       "    }\n",
       "\n",
       "    .dataframe tbody tr th {\n",
       "        vertical-align: top;\n",
       "    }\n",
       "\n",
       "    .dataframe thead th {\n",
       "        text-align: right;\n",
       "    }\n",
       "</style>\n",
       "<table border=\"1\" class=\"dataframe\">\n",
       "  <thead>\n",
       "    <tr style=\"text-align: right;\">\n",
       "      <th></th>\n",
       "      <th>0</th>\n",
       "      <th>1</th>\n",
       "      <th>label</th>\n",
       "      <th>inout</th>\n",
       "    </tr>\n",
       "  </thead>\n",
       "  <tbody>\n",
       "    <tr>\n",
       "      <th>0</th>\n",
       "      <td>0.000000</td>\n",
       "      <td>1.000000</td>\n",
       "      <td>1</td>\n",
       "      <td>in</td>\n",
       "    </tr>\n",
       "    <tr>\n",
       "      <th>1</th>\n",
       "      <td>0.999884</td>\n",
       "      <td>0.000116</td>\n",
       "      <td>0</td>\n",
       "      <td>in</td>\n",
       "    </tr>\n",
       "    <tr>\n",
       "      <th>2</th>\n",
       "      <td>0.999529</td>\n",
       "      <td>0.000471</td>\n",
       "      <td>0</td>\n",
       "      <td>in</td>\n",
       "    </tr>\n",
       "    <tr>\n",
       "      <th>3</th>\n",
       "      <td>0.113125</td>\n",
       "      <td>0.886875</td>\n",
       "      <td>1</td>\n",
       "      <td>in</td>\n",
       "    </tr>\n",
       "    <tr>\n",
       "      <th>4</th>\n",
       "      <td>0.992914</td>\n",
       "      <td>0.007086</td>\n",
       "      <td>0</td>\n",
       "      <td>in</td>\n",
       "    </tr>\n",
       "    <tr>\n",
       "      <th>...</th>\n",
       "      <td>...</td>\n",
       "      <td>...</td>\n",
       "      <td>...</td>\n",
       "      <td>...</td>\n",
       "    </tr>\n",
       "    <tr>\n",
       "      <th>2975</th>\n",
       "      <td>0.998204</td>\n",
       "      <td>0.001796</td>\n",
       "      <td>0</td>\n",
       "      <td>out</td>\n",
       "    </tr>\n",
       "    <tr>\n",
       "      <th>2976</th>\n",
       "      <td>0.329376</td>\n",
       "      <td>0.670624</td>\n",
       "      <td>1</td>\n",
       "      <td>out</td>\n",
       "    </tr>\n",
       "    <tr>\n",
       "      <th>2977</th>\n",
       "      <td>0.996248</td>\n",
       "      <td>0.003752</td>\n",
       "      <td>0</td>\n",
       "      <td>out</td>\n",
       "    </tr>\n",
       "    <tr>\n",
       "      <th>2978</th>\n",
       "      <td>0.999987</td>\n",
       "      <td>0.000013</td>\n",
       "      <td>0</td>\n",
       "      <td>out</td>\n",
       "    </tr>\n",
       "    <tr>\n",
       "      <th>2979</th>\n",
       "      <td>0.000005</td>\n",
       "      <td>0.999995</td>\n",
       "      <td>1</td>\n",
       "      <td>out</td>\n",
       "    </tr>\n",
       "  </tbody>\n",
       "</table>\n",
       "<p>23864 rows × 4 columns</p>\n",
       "</div>"
      ],
      "text/plain": [
       "             0         1  label inout\n",
       "0     0.000000  1.000000      1    in\n",
       "1     0.999884  0.000116      0    in\n",
       "2     0.999529  0.000471      0    in\n",
       "3     0.113125  0.886875      1    in\n",
       "4     0.992914  0.007086      0    in\n",
       "...        ...       ...    ...   ...\n",
       "2975  0.998204  0.001796      0   out\n",
       "2976  0.329376  0.670624      1   out\n",
       "2977  0.996248  0.003752      0   out\n",
       "2978  0.999987  0.000013      0   out\n",
       "2979  0.000005  0.999995      1   out\n",
       "\n",
       "[23864 rows x 4 columns]"
      ]
     },
     "execution_count": 55,
     "metadata": {},
     "output_type": "execute_result"
    }
   ],
   "source": [
    "attack_dataset_nn"
   ]
  },
  {
   "cell_type": "code",
   "execution_count": 56,
   "id": "3eb6f6cd-6594-4396-8bb4-6be249e195ce",
   "metadata": {},
   "outputs": [
    {
     "name": "stdout",
     "output_type": "stream",
     "text": [
      "[INFO OVERSAMPLE] Specified ratio too low: skipping oversampling\n",
      "[INFO OVERSAMPLE] Specified ratio too low: skipping oversampling\n"
     ]
    }
   ],
   "source": [
    "attack_models.fit(attack_dataset_nn)"
   ]
  },
  {
   "cell_type": "code",
   "execution_count": 57,
   "id": "9c175776-2e6f-46a3-9abe-f28258c8b41b",
   "metadata": {},
   "outputs": [],
   "source": [
    "atk_0 = load_pickle_bz2(\"DT/attack_nn_adult_dt/0/model.pkl.bz2\")\n",
    "atk_1 = load_pickle_bz2(\"DT/attack_nn_adult_dt/1/model.pkl.bz2\")"
   ]
  },
  {
   "cell_type": "markdown",
   "id": "ac5bfc45-4988-40d4-83bd-0672e14c37c1",
   "metadata": {},
   "source": [
    "### Attack on the whole datasets of the BB"
   ]
  },
  {
   "cell_type": "code",
   "execution_count": 58,
   "id": "f97e3187-c545-4249-b5e6-aeb85913afd4",
   "metadata": {},
   "outputs": [],
   "source": [
    "BB_TRAIN = pd.DataFrame(BLACK_BOX_DATA['x_train'])\n",
    "BB_TRAIN['Target'] = BLACK_BOX_DATA['y_train']\n",
    "\n",
    "BB_TEST = pd.DataFrame(BLACK_BOX_DATA['x_test'])\n",
    "BB_TEST['Target'] = BLACK_BOX_DATA['y_test']"
   ]
  },
  {
   "cell_type": "code",
   "execution_count": 59,
   "id": "d3693d2d-cc1d-4952-8073-a6339731cb29",
   "metadata": {},
   "outputs": [],
   "source": [
    "BB_TEST_0 = BB_TEST[BB_TEST.Target == 0]\n",
    "BB_TEST_1 = BB_TEST[BB_TEST.Target == 1]\n",
    "\n",
    "BB_TRAIN_0 = BB_TRAIN[BB_TRAIN.Target == 0]\n",
    "BB_TRAIN_1 = BB_TRAIN[BB_TRAIN.Target == 1]"
   ]
  },
  {
   "cell_type": "code",
   "execution_count": 60,
   "id": "7c1eba91-686a-42dc-9cb4-d15d4426cfb3",
   "metadata": {},
   "outputs": [],
   "source": [
    "BB_TEST_0 = pd.DataFrame(BLACK_BOX.predict_proba(BB_TEST_0.drop('Target', axis=1).to_numpy()))\n",
    "BB_TEST_1 = pd.DataFrame(BLACK_BOX.predict_proba(BB_TEST_1.drop('Target', axis=1).to_numpy()))\n",
    "BB_TRAIN_0 = pd.DataFrame(BLACK_BOX.predict_proba(BB_TRAIN_0.drop('Target', axis=1).to_numpy()))\n",
    "BB_TRAIN_1 = pd.DataFrame(BLACK_BOX.predict_proba(BB_TRAIN_1.drop('Target', axis=1).to_numpy()))"
   ]
  },
  {
   "cell_type": "code",
   "execution_count": 61,
   "id": "fa6e5c62-dcac-469e-93c8-8198d5cde8c8",
   "metadata": {},
   "outputs": [],
   "source": [
    "BB_TEST_0['ATK'] = atk_0.predict(BB_TEST_0.to_numpy())\n",
    "BB_TEST_1['ATK'] = atk_1.predict(BB_TEST_1.to_numpy())\n",
    "BB_TRAIN_0['ATK'] = atk_0.predict(BB_TRAIN_0.to_numpy())\n",
    "BB_TRAIN_1['ATK'] = atk_1.predict(BB_TRAIN_1.to_numpy())"
   ]
  },
  {
   "cell_type": "code",
   "execution_count": 62,
   "id": "21f9d5fc-c04d-4c23-8ddc-9843c9bbf662",
   "metadata": {},
   "outputs": [],
   "source": [
    "BB_TEST_0['Y'] = 'out'\n",
    "BB_TEST_1['Y'] = 'out'\n",
    "BB_TRAIN_0['Y'] = 'in'\n",
    "BB_TRAIN_1['Y'] = 'in'"
   ]
  },
  {
   "cell_type": "code",
   "execution_count": 63,
   "id": "17cf36ae-b943-4bc6-8420-f01dd6e1c9a5",
   "metadata": {},
   "outputs": [
    {
     "data": {
      "text/html": [
       "<div>\n",
       "<style scoped>\n",
       "    .dataframe tbody tr th:only-of-type {\n",
       "        vertical-align: middle;\n",
       "    }\n",
       "\n",
       "    .dataframe tbody tr th {\n",
       "        vertical-align: top;\n",
       "    }\n",
       "\n",
       "    .dataframe thead th {\n",
       "        text-align: right;\n",
       "    }\n",
       "</style>\n",
       "<table border=\"1\" class=\"dataframe\">\n",
       "  <thead>\n",
       "    <tr style=\"text-align: right;\">\n",
       "      <th></th>\n",
       "      <th>0</th>\n",
       "      <th>1</th>\n",
       "      <th>ATK</th>\n",
       "      <th>Y</th>\n",
       "    </tr>\n",
       "  </thead>\n",
       "  <tbody>\n",
       "    <tr>\n",
       "      <th>0</th>\n",
       "      <td>0.803145</td>\n",
       "      <td>0.196855</td>\n",
       "      <td>in</td>\n",
       "      <td>in</td>\n",
       "    </tr>\n",
       "    <tr>\n",
       "      <th>1</th>\n",
       "      <td>0.888638</td>\n",
       "      <td>0.111362</td>\n",
       "      <td>out</td>\n",
       "      <td>in</td>\n",
       "    </tr>\n",
       "    <tr>\n",
       "      <th>2</th>\n",
       "      <td>0.990708</td>\n",
       "      <td>0.009292</td>\n",
       "      <td>in</td>\n",
       "      <td>in</td>\n",
       "    </tr>\n",
       "    <tr>\n",
       "      <th>3</th>\n",
       "      <td>0.997404</td>\n",
       "      <td>0.002596</td>\n",
       "      <td>in</td>\n",
       "      <td>in</td>\n",
       "    </tr>\n",
       "    <tr>\n",
       "      <th>4</th>\n",
       "      <td>0.983742</td>\n",
       "      <td>0.016258</td>\n",
       "      <td>in</td>\n",
       "      <td>in</td>\n",
       "    </tr>\n",
       "    <tr>\n",
       "      <th>...</th>\n",
       "      <td>...</td>\n",
       "      <td>...</td>\n",
       "      <td>...</td>\n",
       "      <td>...</td>\n",
       "    </tr>\n",
       "    <tr>\n",
       "      <th>12669</th>\n",
       "      <td>0.788110</td>\n",
       "      <td>0.211890</td>\n",
       "      <td>in</td>\n",
       "      <td>in</td>\n",
       "    </tr>\n",
       "    <tr>\n",
       "      <th>12670</th>\n",
       "      <td>0.977904</td>\n",
       "      <td>0.022096</td>\n",
       "      <td>in</td>\n",
       "      <td>in</td>\n",
       "    </tr>\n",
       "    <tr>\n",
       "      <th>12671</th>\n",
       "      <td>0.997384</td>\n",
       "      <td>0.002616</td>\n",
       "      <td>in</td>\n",
       "      <td>in</td>\n",
       "    </tr>\n",
       "    <tr>\n",
       "      <th>12672</th>\n",
       "      <td>0.371998</td>\n",
       "      <td>0.628002</td>\n",
       "      <td>out</td>\n",
       "      <td>in</td>\n",
       "    </tr>\n",
       "    <tr>\n",
       "      <th>12673</th>\n",
       "      <td>0.982511</td>\n",
       "      <td>0.017489</td>\n",
       "      <td>in</td>\n",
       "      <td>in</td>\n",
       "    </tr>\n",
       "  </tbody>\n",
       "</table>\n",
       "<p>12674 rows × 4 columns</p>\n",
       "</div>"
      ],
      "text/plain": [
       "              0         1  ATK   Y\n",
       "0      0.803145  0.196855   in  in\n",
       "1      0.888638  0.111362  out  in\n",
       "2      0.990708  0.009292   in  in\n",
       "3      0.997404  0.002596   in  in\n",
       "4      0.983742  0.016258   in  in\n",
       "...         ...       ...  ...  ..\n",
       "12669  0.788110  0.211890   in  in\n",
       "12670  0.977904  0.022096   in  in\n",
       "12671  0.997384  0.002616   in  in\n",
       "12672  0.371998  0.628002  out  in\n",
       "12673  0.982511  0.017489   in  in\n",
       "\n",
       "[12674 rows x 4 columns]"
      ]
     },
     "execution_count": 63,
     "metadata": {},
     "output_type": "execute_result"
    }
   ],
   "source": [
    "BB_TRAIN_0"
   ]
  },
  {
   "cell_type": "code",
   "execution_count": 64,
   "id": "d93c84dc-998f-4d2c-819a-e927dd17b556",
   "metadata": {},
   "outputs": [],
   "source": [
    "train_test = pd.concat([BB_TEST_0, BB_TEST_1,BB_TRAIN_0, BB_TRAIN_1])"
   ]
  },
  {
   "cell_type": "code",
   "execution_count": 65,
   "id": "bf40bcde-49eb-4d96-800b-a2ed75c206f6",
   "metadata": {},
   "outputs": [
    {
     "name": "stdout",
     "output_type": "stream",
     "text": [
      "              precision    recall  f1-score   support\n",
      "\n",
      "          in       0.70      0.68      0.69     16877\n",
      "         out       0.30      0.32      0.31      7234\n",
      "\n",
      "    accuracy                           0.57     24111\n",
      "   macro avg       0.50      0.50      0.50     24111\n",
      "weighted avg       0.58      0.57      0.58     24111\n",
      "\n"
     ]
    }
   ],
   "source": [
    "print(classification_report(train_test.Y, train_test.ATK))"
   ]
  },
  {
   "cell_type": "code",
   "execution_count": 66,
   "id": "b9d6bf5c-0fed-4153-bbf6-e06f23dcf266",
   "metadata": {},
   "outputs": [
    {
     "data": {
      "text/plain": [
       "in     4915\n",
       "out    2319\n",
       "Name: ATK, dtype: int64"
      ]
     },
     "execution_count": 66,
     "metadata": {},
     "output_type": "execute_result"
    }
   ],
   "source": [
    "train_test[train_test.Y == 'out'].ATK.value_counts()"
   ]
  },
  {
   "cell_type": "code",
   "execution_count": 67,
   "id": "ee08e315-9c0c-4f11-91b0-e9844002a638",
   "metadata": {},
   "outputs": [
    {
     "name": "stderr",
     "output_type": "stream",
     "text": [
      "DEBUG:matplotlib.colorbar:locator: <matplotlib.ticker.AutoLocator object at 0x7f28d1769970>\n"
     ]
    },
    {
     "data": {
      "text/plain": [
       "<sklearn.metrics._plot.confusion_matrix.ConfusionMatrixDisplay at 0x7f28cff1d4c0>"
      ]
     },
     "execution_count": 67,
     "metadata": {},
     "output_type": "execute_result"
    },
    {
     "data": {
      "image/png": "[encoded data removed]",
      "text/plain": [
       "<Figure size 432x288 with 2 Axes>"
      ]
     },
     "metadata": {
      "needs_background": "light"
     },
     "output_type": "display_data"
    }
   ],
   "source": [
    "ConfusionMatrixDisplay.from_predictions(train_test.Y, train_test.ATK, cmap='inferno')"
   ]
  },
  {
   "cell_type": "markdown",
   "id": "b52ebce0-6da8-4bae-b179-91271fae91f0",
   "metadata": {},
   "source": [
    "Let's see on the points closest to the instance used to create the neighborhood"
   ]
  },
  {
   "cell_type": "code",
   "execution_count": 68,
   "id": "5a8a94cc-eb01-4d21-b88d-70ef5b493291",
   "metadata": {},
   "outputs": [],
   "source": [
    "import scipy.spatial.distance as distance"
   ]
  },
  {
   "cell_type": "code",
   "execution_count": 69,
   "id": "d5229061-cf9b-4c24-a4fa-85f34bb5aa10",
   "metadata": {},
   "outputs": [],
   "source": [
    "BB_DATA_TR = pd.DataFrame(BLACK_BOX_DATA['x_train'])\n",
    "BB_DATA_TR['Target'] = BLACK_BOX_DATA['y_train']\n",
    "BB_DATA_TR['Distance'] = distance.cdist(BLACK_BOX_DATA['x_train'], [X], metric=\"euclidean\")\n",
    "\n",
    "BB_DATA_TE = pd.DataFrame(BLACK_BOX_DATA['x_test'])\n",
    "BB_DATA_TE['Target'] = BLACK_BOX_DATA['y_test']\n",
    "BB_DATA_TE['Distance'] = distance.cdist(BLACK_BOX_DATA['x_test'], [X], metric=\"euclidean\")"
   ]
  },
  {
   "cell_type": "code",
   "execution_count": 70,
   "id": "f31894e6-730e-4929-bb42-94486124b4be",
   "metadata": {},
   "outputs": [
    {
     "data": {
      "text/plain": [
       "count    16877.000000\n",
       "mean         2.501770\n",
       "std          1.457291\n",
       "min          0.085012\n",
       "25%          1.649780\n",
       "50%          2.275654\n",
       "75%          3.035977\n",
       "max         14.413855\n",
       "Name: Distance, dtype: float64"
      ]
     },
     "execution_count": 70,
     "metadata": {},
     "output_type": "execute_result"
    }
   ],
   "source": [
    "BB_DATA_TR.Distance.describe()"
   ]
  },
  {
   "cell_type": "code",
   "execution_count": 71,
   "id": "fc1eb876-ded3-42e5-92cc-e8355299a8f3",
   "metadata": {},
   "outputs": [
    {
     "data": {
      "text/plain": [
       "count    7234.000000\n",
       "mean        2.496813\n",
       "std         1.418222\n",
       "min         0.000000\n",
       "25%         1.648631\n",
       "50%         2.278651\n",
       "75%         3.053983\n",
       "max        14.435124\n",
       "Name: Distance, dtype: float64"
      ]
     },
     "execution_count": 71,
     "metadata": {},
     "output_type": "execute_result"
    }
   ],
   "source": [
    "BB_DATA_TE.Distance.describe()"
   ]
  },
  {
   "cell_type": "code",
   "execution_count": 72,
   "id": "0dd2c8eb-9546-496e-a41b-9e302b263ea2",
   "metadata": {},
   "outputs": [
    {
     "data": {
      "text/plain": [
       "0    0.846397\n",
       "1    0.153603\n",
       "Name: Target, dtype: float64"
      ]
     },
     "execution_count": 72,
     "metadata": {},
     "output_type": "execute_result"
    }
   ],
   "source": [
    "BB_DATA_TR[BB_DATA_TR.Distance < 2.5].Target.value_counts(normalize=True)"
   ]
  },
  {
   "cell_type": "code",
   "execution_count": 73,
   "id": "6c5bd9dd-7974-4806-a12f-9b58b9a796ae",
   "metadata": {},
   "outputs": [
    {
     "data": {
      "text/plain": [
       "0    0.810058\n",
       "1    0.189942\n",
       "Name: Target, dtype: float64"
      ]
     },
     "execution_count": 73,
     "metadata": {},
     "output_type": "execute_result"
    }
   ],
   "source": [
    "BB_DATA_TE[BB_DATA_TE.Distance < 3].Target.value_counts(normalize=True)"
   ]
  },
  {
   "cell_type": "markdown",
   "id": "56f9dfdc-93f3-4088-b692-f31effc64ef7",
   "metadata": {},
   "source": [
    "Creating the dataset with the closest points"
   ]
  },
  {
   "cell_type": "code",
   "execution_count": 74,
   "id": "2e4bc56c-02ac-4629-88f2-a2b8965bb208",
   "metadata": {},
   "outputs": [],
   "source": [
    "BB_TRAIN = BB_DATA_TR[BB_DATA_TR.Distance < 2.5].drop('Distance', axis=1)\n",
    "BB_TEST = BB_DATA_TE[BB_DATA_TE.Distance < 3].drop('Distance', axis=1)"
   ]
  },
  {
   "cell_type": "code",
   "execution_count": 75,
   "id": "5e15e0c4-d9b3-4fb7-ac40-9d1d7795f998",
   "metadata": {},
   "outputs": [],
   "source": [
    "BB_TEST_0 = BB_TEST[BB_TEST.Target == 0]\n",
    "BB_TEST_1 = BB_TEST[BB_TEST.Target == 1]\n",
    "\n",
    "BB_TRAIN_0 = BB_TRAIN[BB_TRAIN.Target == 0]\n",
    "BB_TRAIN_1 = BB_TRAIN[BB_TRAIN.Target == 1]"
   ]
  },
  {
   "cell_type": "code",
   "execution_count": 76,
   "id": "5d1900bf-6dae-4b5a-b3cd-a03c8823cdc8",
   "metadata": {},
   "outputs": [],
   "source": [
    "BB_TEST_0 = pd.DataFrame(BLACK_BOX.predict_proba(BB_TEST_0.drop('Target', axis=1).to_numpy()))\n",
    "BB_TEST_1 = pd.DataFrame(BLACK_BOX.predict_proba(BB_TEST_1.drop('Target', axis=1).to_numpy()))\n",
    "BB_TRAIN_0 = pd.DataFrame(BLACK_BOX.predict_proba(BB_TRAIN_0.drop('Target', axis=1).to_numpy()))\n",
    "BB_TRAIN_1 = pd.DataFrame(BLACK_BOX.predict_proba(BB_TRAIN_1.drop('Target', axis=1).to_numpy()))"
   ]
  },
  {
   "cell_type": "code",
   "execution_count": 77,
   "id": "faeb976b-a1ce-4f09-ab43-dace579b3c74",
   "metadata": {},
   "outputs": [],
   "source": [
    "BB_TEST_0['ATK'] = atk_0.predict(BB_TEST_0.to_numpy())\n",
    "BB_TEST_1['ATK'] = atk_1.predict(BB_TEST_1.to_numpy())\n",
    "BB_TRAIN_0['ATK'] = atk_0.predict(BB_TRAIN_0.to_numpy())\n",
    "BB_TRAIN_1['ATK'] = atk_1.predict(BB_TRAIN_1.to_numpy())"
   ]
  },
  {
   "cell_type": "code",
   "execution_count": 78,
   "id": "f34e7551-831c-4bc8-9afa-778dcc79ed47",
   "metadata": {},
   "outputs": [],
   "source": [
    "BB_TEST_0['Y'] = 'out'\n",
    "BB_TEST_1['Y'] = 'out'\n",
    "BB_TRAIN_0['Y'] = 'in'\n",
    "BB_TRAIN_1['Y'] = 'in'"
   ]
  },
  {
   "cell_type": "code",
   "execution_count": 79,
   "id": "6cefa390-99e6-4e4d-ab76-85fe8b3451e7",
   "metadata": {},
   "outputs": [],
   "source": [
    "train_test = pd.concat([BB_TEST_0, BB_TEST_1,BB_TRAIN_0, BB_TRAIN_1])"
   ]
  },
  {
   "cell_type": "code",
   "execution_count": 80,
   "id": "7855e673-21c0-4a99-90fe-65400c0b66c2",
   "metadata": {},
   "outputs": [
    {
     "name": "stdout",
     "output_type": "stream",
     "text": [
      "              precision    recall  f1-score   support\n",
      "\n",
      "          in       0.65      0.71      0.68      9824\n",
      "         out       0.37      0.31      0.34      5349\n",
      "\n",
      "    accuracy                           0.57     15173\n",
      "   macro avg       0.51      0.51      0.51     15173\n",
      "weighted avg       0.55      0.57      0.56     15173\n",
      "\n"
     ]
    }
   ],
   "source": [
    "print(classification_report(train_test.Y, train_test.ATK))"
   ]
  },
  {
   "cell_type": "code",
   "execution_count": 81,
   "id": "af3e41fb-8c97-49cc-8fc4-766f64e555f4",
   "metadata": {},
   "outputs": [
    {
     "data": {
      "text/plain": [
       "in     3703\n",
       "out    1646\n",
       "Name: ATK, dtype: int64"
      ]
     },
     "execution_count": 81,
     "metadata": {},
     "output_type": "execute_result"
    }
   ],
   "source": [
    "train_test[train_test.Y == 'out'].ATK.value_counts()"
   ]
  },
  {
   "cell_type": "code",
   "execution_count": 82,
   "id": "cd6c8096-aab8-43c1-b89b-34991db07240",
   "metadata": {},
   "outputs": [
    {
     "name": "stderr",
     "output_type": "stream",
     "text": [
      "DEBUG:matplotlib.colorbar:locator: <matplotlib.ticker.AutoLocator object at 0x7f28d02d8d30>\n"
     ]
    },
    {
     "data": {
      "text/plain": [
       "<sklearn.metrics._plot.confusion_matrix.ConfusionMatrixDisplay at 0x7f28cf7ce5e0>"
      ]
     },
     "execution_count": 82,
     "metadata": {},
     "output_type": "execute_result"
    },
    {
     "data": {
      "image/png": "[encoded data removed]",
      "text/plain": [
       "<Figure size 432x288 with 2 Axes>"
      ]
     },
     "metadata": {
      "needs_background": "light"
     },
     "output_type": "display_data"
    }
   ],
   "source": [
    "ConfusionMatrixDisplay.from_predictions(train_test.Y, train_test.ATK, cmap='inferno')"
   ]
  },
  {
   "cell_type": "markdown",
   "id": "784545cb-6f34-4ae8-ab03-8c191aa1a1ef",
   "metadata": {},
   "source": [
    "Creating dataset with points closer that 1"
   ]
  },
  {
   "cell_type": "code",
   "execution_count": 83,
   "id": "19556bbd-8f8d-45e7-9812-437a071ee971",
   "metadata": {},
   "outputs": [],
   "source": [
    "BB_TRAIN = BB_DATA_TR[BB_DATA_TR.Distance < 1].drop('Distance', axis=1)\n",
    "BB_TEST = BB_DATA_TE[BB_DATA_TE.Distance < 1].drop('Distance', axis=1)"
   ]
  },
  {
   "cell_type": "code",
   "execution_count": 84,
   "id": "34cf800c-b9f7-4c8d-a695-921a8fbee8b8",
   "metadata": {},
   "outputs": [
    {
     "data": {
      "text/html": [
       "<div>\n",
       "<style scoped>\n",
       "    .dataframe tbody tr th:only-of-type {\n",
       "        vertical-align: middle;\n",
       "    }\n",
       "\n",
       "    .dataframe tbody tr th {\n",
       "        vertical-align: top;\n",
       "    }\n",
       "\n",
       "    .dataframe thead th {\n",
       "        text-align: right;\n",
       "    }\n",
       "</style>\n",
       "<table border=\"1\" class=\"dataframe\">\n",
       "  <thead>\n",
       "    <tr style=\"text-align: right;\">\n",
       "      <th></th>\n",
       "      <th>0</th>\n",
       "      <th>1</th>\n",
       "      <th>2</th>\n",
       "      <th>3</th>\n",
       "      <th>4</th>\n",
       "      <th>5</th>\n",
       "      <th>6</th>\n",
       "      <th>7</th>\n",
       "      <th>8</th>\n",
       "      <th>9</th>\n",
       "      <th>10</th>\n",
       "      <th>11</th>\n",
       "      <th>12</th>\n",
       "      <th>13</th>\n",
       "      <th>Target</th>\n",
       "    </tr>\n",
       "  </thead>\n",
       "  <tbody>\n",
       "    <tr>\n",
       "      <th>44</th>\n",
       "      <td>-1.328265</td>\n",
       "      <td>0.218918</td>\n",
       "      <td>-0.354033</td>\n",
       "      <td>0.200180</td>\n",
       "      <td>-0.048076</td>\n",
       "      <td>0.048399</td>\n",
       "      <td>0.041134</td>\n",
       "      <td>0.106689</td>\n",
       "      <td>0.129972</td>\n",
       "      <td>0.113783</td>\n",
       "      <td>-0.147502</td>\n",
       "      <td>-0.218673</td>\n",
       "      <td>-0.912857</td>\n",
       "      <td>0.254411</td>\n",
       "      <td>0</td>\n",
       "    </tr>\n",
       "    <tr>\n",
       "      <th>46</th>\n",
       "      <td>-0.947492</td>\n",
       "      <td>0.218918</td>\n",
       "      <td>0.659777</td>\n",
       "      <td>0.200180</td>\n",
       "      <td>-0.048076</td>\n",
       "      <td>0.048399</td>\n",
       "      <td>0.041134</td>\n",
       "      <td>0.014343</td>\n",
       "      <td>0.263855</td>\n",
       "      <td>0.313955</td>\n",
       "      <td>-0.147502</td>\n",
       "      <td>-0.218673</td>\n",
       "      <td>-0.078031</td>\n",
       "      <td>0.254411</td>\n",
       "      <td>0</td>\n",
       "    </tr>\n",
       "    <tr>\n",
       "      <th>57</th>\n",
       "      <td>-1.023647</td>\n",
       "      <td>0.218918</td>\n",
       "      <td>-0.948069</td>\n",
       "      <td>0.164328</td>\n",
       "      <td>-0.440434</td>\n",
       "      <td>0.048399</td>\n",
       "      <td>0.133907</td>\n",
       "      <td>0.014343</td>\n",
       "      <td>0.277405</td>\n",
       "      <td>0.113783</td>\n",
       "      <td>-0.147502</td>\n",
       "      <td>-0.218673</td>\n",
       "      <td>-0.078031</td>\n",
       "      <td>0.254411</td>\n",
       "      <td>0</td>\n",
       "    </tr>\n",
       "    <tr>\n",
       "      <th>62</th>\n",
       "      <td>-1.099801</td>\n",
       "      <td>0.218918</td>\n",
       "      <td>0.330513</td>\n",
       "      <td>0.164328</td>\n",
       "      <td>-0.440434</td>\n",
       "      <td>0.048399</td>\n",
       "      <td>0.225590</td>\n",
       "      <td>0.014343</td>\n",
       "      <td>0.263855</td>\n",
       "      <td>0.313955</td>\n",
       "      <td>-0.147502</td>\n",
       "      <td>-0.218673</td>\n",
       "      <td>-0.078031</td>\n",
       "      <td>0.254411</td>\n",
       "      <td>0</td>\n",
       "    </tr>\n",
       "    <tr>\n",
       "      <th>65</th>\n",
       "      <td>-1.099801</td>\n",
       "      <td>0.218918</td>\n",
       "      <td>0.087226</td>\n",
       "      <td>0.164328</td>\n",
       "      <td>-0.440434</td>\n",
       "      <td>0.048399</td>\n",
       "      <td>0.225590</td>\n",
       "      <td>0.014343</td>\n",
       "      <td>0.263855</td>\n",
       "      <td>0.313955</td>\n",
       "      <td>-0.147502</td>\n",
       "      <td>-0.218673</td>\n",
       "      <td>-0.078031</td>\n",
       "      <td>0.254411</td>\n",
       "      <td>0</td>\n",
       "    </tr>\n",
       "    <tr>\n",
       "      <th>...</th>\n",
       "      <td>...</td>\n",
       "      <td>...</td>\n",
       "      <td>...</td>\n",
       "      <td>...</td>\n",
       "      <td>...</td>\n",
       "      <td>...</td>\n",
       "      <td>...</td>\n",
       "      <td>...</td>\n",
       "      <td>...</td>\n",
       "      <td>...</td>\n",
       "      <td>...</td>\n",
       "      <td>...</td>\n",
       "      <td>...</td>\n",
       "      <td>...</td>\n",
       "      <td>...</td>\n",
       "    </tr>\n",
       "    <tr>\n",
       "      <th>16755</th>\n",
       "      <td>-1.175956</td>\n",
       "      <td>0.218918</td>\n",
       "      <td>-0.044380</td>\n",
       "      <td>0.164328</td>\n",
       "      <td>-0.440434</td>\n",
       "      <td>0.048399</td>\n",
       "      <td>0.061527</td>\n",
       "      <td>0.014343</td>\n",
       "      <td>0.129972</td>\n",
       "      <td>0.313955</td>\n",
       "      <td>-0.147502</td>\n",
       "      <td>-0.218673</td>\n",
       "      <td>-0.078031</td>\n",
       "      <td>0.254411</td>\n",
       "      <td>0</td>\n",
       "    </tr>\n",
       "    <tr>\n",
       "      <th>16773</th>\n",
       "      <td>-0.947492</td>\n",
       "      <td>0.218918</td>\n",
       "      <td>0.560257</td>\n",
       "      <td>0.200180</td>\n",
       "      <td>-0.048076</td>\n",
       "      <td>0.048399</td>\n",
       "      <td>0.225590</td>\n",
       "      <td>0.014343</td>\n",
       "      <td>0.263855</td>\n",
       "      <td>0.313955</td>\n",
       "      <td>-0.147502</td>\n",
       "      <td>-0.218673</td>\n",
       "      <td>-0.078031</td>\n",
       "      <td>0.254411</td>\n",
       "      <td>0</td>\n",
       "    </tr>\n",
       "    <tr>\n",
       "      <th>16808</th>\n",
       "      <td>-1.099801</td>\n",
       "      <td>0.218918</td>\n",
       "      <td>-0.265832</td>\n",
       "      <td>0.164328</td>\n",
       "      <td>-0.440434</td>\n",
       "      <td>0.107312</td>\n",
       "      <td>0.485342</td>\n",
       "      <td>0.106689</td>\n",
       "      <td>0.263855</td>\n",
       "      <td>0.113783</td>\n",
       "      <td>-0.147502</td>\n",
       "      <td>-0.218673</td>\n",
       "      <td>0.339381</td>\n",
       "      <td>0.254411</td>\n",
       "      <td>1</td>\n",
       "    </tr>\n",
       "    <tr>\n",
       "      <th>16816</th>\n",
       "      <td>-1.480574</td>\n",
       "      <td>0.218918</td>\n",
       "      <td>-0.743568</td>\n",
       "      <td>0.164328</td>\n",
       "      <td>-0.440434</td>\n",
       "      <td>0.048399</td>\n",
       "      <td>0.270647</td>\n",
       "      <td>0.014343</td>\n",
       "      <td>0.263855</td>\n",
       "      <td>0.313955</td>\n",
       "      <td>-0.147502</td>\n",
       "      <td>-0.218673</td>\n",
       "      <td>-0.078031</td>\n",
       "      <td>0.254411</td>\n",
       "      <td>0</td>\n",
       "    </tr>\n",
       "    <tr>\n",
       "      <th>16826</th>\n",
       "      <td>-0.719029</td>\n",
       "      <td>0.294630</td>\n",
       "      <td>-0.020311</td>\n",
       "      <td>0.164328</td>\n",
       "      <td>-0.440434</td>\n",
       "      <td>0.070288</td>\n",
       "      <td>0.326087</td>\n",
       "      <td>0.039370</td>\n",
       "      <td>0.263855</td>\n",
       "      <td>0.113783</td>\n",
       "      <td>-0.147502</td>\n",
       "      <td>-0.218673</td>\n",
       "      <td>-0.078031</td>\n",
       "      <td>0.254411</td>\n",
       "      <td>0</td>\n",
       "    </tr>\n",
       "  </tbody>\n",
       "</table>\n",
       "<p>1352 rows × 15 columns</p>\n",
       "</div>"
      ],
      "text/plain": [
       "              0         1         2         3         4         5         6  \\\n",
       "44    -1.328265  0.218918 -0.354033  0.200180 -0.048076  0.048399  0.041134   \n",
       "46    -0.947492  0.218918  0.659777  0.200180 -0.048076  0.048399  0.041134   \n",
       "57    -1.023647  0.218918 -0.948069  0.164328 -0.440434  0.048399  0.133907   \n",
       "62    -1.099801  0.218918  0.330513  0.164328 -0.440434  0.048399  0.225590   \n",
       "65    -1.099801  0.218918  0.087226  0.164328 -0.440434  0.048399  0.225590   \n",
       "...         ...       ...       ...       ...       ...       ...       ...   \n",
       "16755 -1.175956  0.218918 -0.044380  0.164328 -0.440434  0.048399  0.061527   \n",
       "16773 -0.947492  0.218918  0.560257  0.200180 -0.048076  0.048399  0.225590   \n",
       "16808 -1.099801  0.218918 -0.265832  0.164328 -0.440434  0.107312  0.485342   \n",
       "16816 -1.480574  0.218918 -0.743568  0.164328 -0.440434  0.048399  0.270647   \n",
       "16826 -0.719029  0.294630 -0.020311  0.164328 -0.440434  0.070288  0.326087   \n",
       "\n",
       "              7         8         9        10        11        12        13  \\\n",
       "44     0.106689  0.129972  0.113783 -0.147502 -0.218673 -0.912857  0.254411   \n",
       "46     0.014343  0.263855  0.313955 -0.147502 -0.218673 -0.078031  0.254411   \n",
       "57     0.014343  0.277405  0.113783 -0.147502 -0.218673 -0.078031  0.254411   \n",
       "62     0.014343  0.263855  0.313955 -0.147502 -0.218673 -0.078031  0.254411   \n",
       "65     0.014343  0.263855  0.313955 -0.147502 -0.218673 -0.078031  0.254411   \n",
       "...         ...       ...       ...       ...       ...       ...       ...   \n",
       "16755  0.014343  0.129972  0.313955 -0.147502 -0.218673 -0.078031  0.254411   \n",
       "16773  0.014343  0.263855  0.313955 -0.147502 -0.218673 -0.078031  0.254411   \n",
       "16808  0.106689  0.263855  0.113783 -0.147502 -0.218673  0.339381  0.254411   \n",
       "16816  0.014343  0.263855  0.313955 -0.147502 -0.218673 -0.078031  0.254411   \n",
       "16826  0.039370  0.263855  0.113783 -0.147502 -0.218673 -0.078031  0.254411   \n",
       "\n",
       "       Target  \n",
       "44          0  \n",
       "46          0  \n",
       "57          0  \n",
       "62          0  \n",
       "65          0  \n",
       "...       ...  \n",
       "16755       0  \n",
       "16773       0  \n",
       "16808       1  \n",
       "16816       0  \n",
       "16826       0  \n",
       "\n",
       "[1352 rows x 15 columns]"
      ]
     },
     "execution_count": 84,
     "metadata": {},
     "output_type": "execute_result"
    }
   ],
   "source": [
    "BB_TRAIN"
   ]
  },
  {
   "cell_type": "code",
   "execution_count": 85,
   "id": "27c736fa-5bed-48bf-a45b-ca36bfca3f3b",
   "metadata": {},
   "outputs": [
    {
     "data": {
      "text/html": [
       "<div>\n",
       "<style scoped>\n",
       "    .dataframe tbody tr th:only-of-type {\n",
       "        vertical-align: middle;\n",
       "    }\n",
       "\n",
       "    .dataframe tbody tr th {\n",
       "        vertical-align: top;\n",
       "    }\n",
       "\n",
       "    .dataframe thead th {\n",
       "        text-align: right;\n",
       "    }\n",
       "</style>\n",
       "<table border=\"1\" class=\"dataframe\">\n",
       "  <thead>\n",
       "    <tr style=\"text-align: right;\">\n",
       "      <th></th>\n",
       "      <th>0</th>\n",
       "      <th>1</th>\n",
       "      <th>2</th>\n",
       "      <th>3</th>\n",
       "      <th>4</th>\n",
       "      <th>5</th>\n",
       "      <th>6</th>\n",
       "      <th>7</th>\n",
       "      <th>8</th>\n",
       "      <th>9</th>\n",
       "      <th>10</th>\n",
       "      <th>11</th>\n",
       "      <th>12</th>\n",
       "      <th>13</th>\n",
       "      <th>Target</th>\n",
       "    </tr>\n",
       "  </thead>\n",
       "  <tbody>\n",
       "    <tr>\n",
       "      <th>10</th>\n",
       "      <td>-1.328265</td>\n",
       "      <td>0.218918</td>\n",
       "      <td>0.452938</td>\n",
       "      <td>0.200180</td>\n",
       "      <td>-0.048076</td>\n",
       "      <td>0.048399</td>\n",
       "      <td>0.041134</td>\n",
       "      <td>0.014343</td>\n",
       "      <td>0.263855</td>\n",
       "      <td>0.313955</td>\n",
       "      <td>-0.147502</td>\n",
       "      <td>-0.218673</td>\n",
       "      <td>-0.495444</td>\n",
       "      <td>2.544112e-01</td>\n",
       "      <td>0</td>\n",
       "    </tr>\n",
       "    <tr>\n",
       "      <th>23</th>\n",
       "      <td>-0.719029</td>\n",
       "      <td>0.218918</td>\n",
       "      <td>-0.817391</td>\n",
       "      <td>0.164328</td>\n",
       "      <td>-0.440434</td>\n",
       "      <td>0.048399</td>\n",
       "      <td>0.225590</td>\n",
       "      <td>0.106689</td>\n",
       "      <td>0.263855</td>\n",
       "      <td>0.313955</td>\n",
       "      <td>-0.147502</td>\n",
       "      <td>-0.218673</td>\n",
       "      <td>-0.078031</td>\n",
       "      <td>2.544112e-01</td>\n",
       "      <td>0</td>\n",
       "    </tr>\n",
       "    <tr>\n",
       "      <th>53</th>\n",
       "      <td>-1.023647</td>\n",
       "      <td>0.268960</td>\n",
       "      <td>-0.304552</td>\n",
       "      <td>0.164328</td>\n",
       "      <td>-0.440434</td>\n",
       "      <td>0.048399</td>\n",
       "      <td>0.485342</td>\n",
       "      <td>0.106689</td>\n",
       "      <td>0.263855</td>\n",
       "      <td>0.313955</td>\n",
       "      <td>-0.147502</td>\n",
       "      <td>-0.218673</td>\n",
       "      <td>-0.078031</td>\n",
       "      <td>2.544112e-01</td>\n",
       "      <td>0</td>\n",
       "    </tr>\n",
       "    <tr>\n",
       "      <th>59</th>\n",
       "      <td>-1.252110</td>\n",
       "      <td>0.218918</td>\n",
       "      <td>0.235100</td>\n",
       "      <td>0.164328</td>\n",
       "      <td>-0.440434</td>\n",
       "      <td>0.048399</td>\n",
       "      <td>0.124236</td>\n",
       "      <td>0.106689</td>\n",
       "      <td>0.263855</td>\n",
       "      <td>0.313955</td>\n",
       "      <td>-0.147502</td>\n",
       "      <td>-0.218673</td>\n",
       "      <td>0.088934</td>\n",
       "      <td>2.544112e-01</td>\n",
       "      <td>0</td>\n",
       "    </tr>\n",
       "    <tr>\n",
       "      <th>86</th>\n",
       "      <td>-1.404419</td>\n",
       "      <td>0.218918</td>\n",
       "      <td>-0.048431</td>\n",
       "      <td>0.164328</td>\n",
       "      <td>-0.440434</td>\n",
       "      <td>0.048399</td>\n",
       "      <td>0.270647</td>\n",
       "      <td>0.106689</td>\n",
       "      <td>0.263855</td>\n",
       "      <td>0.113783</td>\n",
       "      <td>-0.147502</td>\n",
       "      <td>-0.218673</td>\n",
       "      <td>-0.745892</td>\n",
       "      <td>2.544112e-01</td>\n",
       "      <td>0</td>\n",
       "    </tr>\n",
       "    <tr>\n",
       "      <th>...</th>\n",
       "      <td>...</td>\n",
       "      <td>...</td>\n",
       "      <td>...</td>\n",
       "      <td>...</td>\n",
       "      <td>...</td>\n",
       "      <td>...</td>\n",
       "      <td>...</td>\n",
       "      <td>...</td>\n",
       "      <td>...</td>\n",
       "      <td>...</td>\n",
       "      <td>...</td>\n",
       "      <td>...</td>\n",
       "      <td>...</td>\n",
       "      <td>...</td>\n",
       "      <td>...</td>\n",
       "    </tr>\n",
       "    <tr>\n",
       "      <th>7182</th>\n",
       "      <td>-1.175956</td>\n",
       "      <td>0.218918</td>\n",
       "      <td>0.266580</td>\n",
       "      <td>0.164328</td>\n",
       "      <td>-0.440434</td>\n",
       "      <td>0.048399</td>\n",
       "      <td>0.225590</td>\n",
       "      <td>0.066334</td>\n",
       "      <td>0.263855</td>\n",
       "      <td>0.313955</td>\n",
       "      <td>-0.147502</td>\n",
       "      <td>-0.218673</td>\n",
       "      <td>0.339381</td>\n",
       "      <td>5.629249e-07</td>\n",
       "      <td>0</td>\n",
       "    </tr>\n",
       "    <tr>\n",
       "      <th>7183</th>\n",
       "      <td>-1.175956</td>\n",
       "      <td>0.218918</td>\n",
       "      <td>-0.683458</td>\n",
       "      <td>0.164328</td>\n",
       "      <td>-0.440434</td>\n",
       "      <td>0.048399</td>\n",
       "      <td>0.225590</td>\n",
       "      <td>0.014343</td>\n",
       "      <td>0.263855</td>\n",
       "      <td>0.313955</td>\n",
       "      <td>-0.147502</td>\n",
       "      <td>-0.218673</td>\n",
       "      <td>-0.078031</td>\n",
       "      <td>2.544112e-01</td>\n",
       "      <td>0</td>\n",
       "    </tr>\n",
       "    <tr>\n",
       "      <th>7186</th>\n",
       "      <td>-1.023647</td>\n",
       "      <td>0.218918</td>\n",
       "      <td>0.223525</td>\n",
       "      <td>0.200180</td>\n",
       "      <td>-0.048076</td>\n",
       "      <td>0.455011</td>\n",
       "      <td>0.270647</td>\n",
       "      <td>0.455728</td>\n",
       "      <td>0.263855</td>\n",
       "      <td>0.313955</td>\n",
       "      <td>-0.147502</td>\n",
       "      <td>-0.218673</td>\n",
       "      <td>-0.078031</td>\n",
       "      <td>2.544112e-01</td>\n",
       "      <td>1</td>\n",
       "    </tr>\n",
       "    <tr>\n",
       "      <th>7198</th>\n",
       "      <td>-0.871338</td>\n",
       "      <td>0.218918</td>\n",
       "      <td>-0.058264</td>\n",
       "      <td>0.164328</td>\n",
       "      <td>-0.440434</td>\n",
       "      <td>0.048399</td>\n",
       "      <td>0.202926</td>\n",
       "      <td>0.014343</td>\n",
       "      <td>0.263855</td>\n",
       "      <td>0.313955</td>\n",
       "      <td>-0.147502</td>\n",
       "      <td>-0.218673</td>\n",
       "      <td>-0.078031</td>\n",
       "      <td>2.544112e-01</td>\n",
       "      <td>0</td>\n",
       "    </tr>\n",
       "    <tr>\n",
       "      <th>7230</th>\n",
       "      <td>-1.252110</td>\n",
       "      <td>0.218918</td>\n",
       "      <td>-0.204511</td>\n",
       "      <td>0.200180</td>\n",
       "      <td>-0.048076</td>\n",
       "      <td>0.048399</td>\n",
       "      <td>0.041134</td>\n",
       "      <td>0.066334</td>\n",
       "      <td>0.263855</td>\n",
       "      <td>0.113783</td>\n",
       "      <td>-0.147502</td>\n",
       "      <td>-0.218673</td>\n",
       "      <td>0.756794</td>\n",
       "      <td>2.544112e-01</td>\n",
       "      <td>0</td>\n",
       "    </tr>\n",
       "  </tbody>\n",
       "</table>\n",
       "<p>597 rows × 15 columns</p>\n",
       "</div>"
      ],
      "text/plain": [
       "             0         1         2         3         4         5         6  \\\n",
       "10   -1.328265  0.218918  0.452938  0.200180 -0.048076  0.048399  0.041134   \n",
       "23   -0.719029  0.218918 -0.817391  0.164328 -0.440434  0.048399  0.225590   \n",
       "53   -1.023647  0.268960 -0.304552  0.164328 -0.440434  0.048399  0.485342   \n",
       "59   -1.252110  0.218918  0.235100  0.164328 -0.440434  0.048399  0.124236   \n",
       "86   -1.404419  0.218918 -0.048431  0.164328 -0.440434  0.048399  0.270647   \n",
       "...        ...       ...       ...       ...       ...       ...       ...   \n",
       "7182 -1.175956  0.218918  0.266580  0.164328 -0.440434  0.048399  0.225590   \n",
       "7183 -1.175956  0.218918 -0.683458  0.164328 -0.440434  0.048399  0.225590   \n",
       "7186 -1.023647  0.218918  0.223525  0.200180 -0.048076  0.455011  0.270647   \n",
       "7198 -0.871338  0.218918 -0.058264  0.164328 -0.440434  0.048399  0.202926   \n",
       "7230 -1.252110  0.218918 -0.204511  0.200180 -0.048076  0.048399  0.041134   \n",
       "\n",
       "             7         8         9        10        11        12  \\\n",
       "10    0.014343  0.263855  0.313955 -0.147502 -0.218673 -0.495444   \n",
       "23    0.106689  0.263855  0.313955 -0.147502 -0.218673 -0.078031   \n",
       "53    0.106689  0.263855  0.313955 -0.147502 -0.218673 -0.078031   \n",
       "59    0.106689  0.263855  0.313955 -0.147502 -0.218673  0.088934   \n",
       "86    0.106689  0.263855  0.113783 -0.147502 -0.218673 -0.745892   \n",
       "...        ...       ...       ...       ...       ...       ...   \n",
       "7182  0.066334  0.263855  0.313955 -0.147502 -0.218673  0.339381   \n",
       "7183  0.014343  0.263855  0.313955 -0.147502 -0.218673 -0.078031   \n",
       "7186  0.455728  0.263855  0.313955 -0.147502 -0.218673 -0.078031   \n",
       "7198  0.014343  0.263855  0.313955 -0.147502 -0.218673 -0.078031   \n",
       "7230  0.066334  0.263855  0.113783 -0.147502 -0.218673  0.756794   \n",
       "\n",
       "                13  Target  \n",
       "10    2.544112e-01       0  \n",
       "23    2.544112e-01       0  \n",
       "53    2.544112e-01       0  \n",
       "59    2.544112e-01       0  \n",
       "86    2.544112e-01       0  \n",
       "...            ...     ...  \n",
       "7182  5.629249e-07       0  \n",
       "7183  2.544112e-01       0  \n",
       "7186  2.544112e-01       1  \n",
       "7198  2.544112e-01       0  \n",
       "7230  2.544112e-01       0  \n",
       "\n",
       "[597 rows x 15 columns]"
      ]
     },
     "execution_count": 85,
     "metadata": {},
     "output_type": "execute_result"
    }
   ],
   "source": [
    "BB_TEST"
   ]
  },
  {
   "cell_type": "code",
   "execution_count": 86,
   "id": "0fe7f648-87b1-4ab0-b2ce-81150df4f3e5",
   "metadata": {},
   "outputs": [],
   "source": [
    "BB_TEST_0 = BB_TEST[BB_TEST.Target == 0]\n",
    "BB_TEST_1 = BB_TEST[BB_TEST.Target == 1]\n",
    "\n",
    "BB_TRAIN_0 = BB_TRAIN[BB_TRAIN.Target == 0]\n",
    "BB_TRAIN_1 = BB_TRAIN[BB_TRAIN.Target == 1]"
   ]
  },
  {
   "cell_type": "code",
   "execution_count": 87,
   "id": "7d85416b-4a81-4f79-9212-3e77d76e16ab",
   "metadata": {},
   "outputs": [],
   "source": [
    "BB_TEST_0 = pd.DataFrame(BLACK_BOX.predict_proba(BB_TEST_0.drop('Target', axis=1).to_numpy()))\n",
    "BB_TEST_1 = pd.DataFrame(BLACK_BOX.predict_proba(BB_TEST_1.drop('Target', axis=1).to_numpy()))\n",
    "BB_TRAIN_0 = pd.DataFrame(BLACK_BOX.predict_proba(BB_TRAIN_0.drop('Target', axis=1).to_numpy()))\n",
    "BB_TRAIN_1 = pd.DataFrame(BLACK_BOX.predict_proba(BB_TRAIN_1.drop('Target', axis=1).to_numpy()))"
   ]
  },
  {
   "cell_type": "code",
   "execution_count": 88,
   "id": "fa548ddd-17a0-4af8-8e1a-44f134027cd4",
   "metadata": {},
   "outputs": [],
   "source": [
    "BB_TEST_0['ATK'] = atk_0.predict(BB_TEST_0.to_numpy())\n",
    "BB_TEST_1['ATK'] = atk_1.predict(BB_TEST_1.to_numpy())\n",
    "BB_TRAIN_0['ATK'] = atk_0.predict(BB_TRAIN_0.to_numpy())\n",
    "BB_TRAIN_1['ATK'] = atk_1.predict(BB_TRAIN_1.to_numpy())"
   ]
  },
  {
   "cell_type": "code",
   "execution_count": 89,
   "id": "387e15cc-8a2a-4b1a-b635-00b9e716de50",
   "metadata": {},
   "outputs": [],
   "source": [
    "BB_TEST_0['Y'] = 'out'\n",
    "BB_TEST_1['Y'] = 'out'\n",
    "BB_TRAIN_0['Y'] = 'in'\n",
    "BB_TRAIN_1['Y'] = 'in'"
   ]
  },
  {
   "cell_type": "code",
   "execution_count": 90,
   "id": "a870a7c3-e2ac-4b1e-bdbb-878cf497bf9b",
   "metadata": {},
   "outputs": [],
   "source": [
    "train_test = pd.concat([BB_TEST_0, BB_TEST_1,BB_TRAIN_0, BB_TRAIN_1])"
   ]
  },
  {
   "cell_type": "code",
   "execution_count": 91,
   "id": "4070f911-526d-48cb-a40c-1e3c19918530",
   "metadata": {},
   "outputs": [
    {
     "name": "stdout",
     "output_type": "stream",
     "text": [
      "              precision    recall  f1-score   support\n",
      "\n",
      "          in       0.70      0.71      0.70      1352\n",
      "         out       0.32      0.31      0.31       597\n",
      "\n",
      "    accuracy                           0.59      1949\n",
      "   macro avg       0.51      0.51      0.51      1949\n",
      "weighted avg       0.58      0.59      0.58      1949\n",
      "\n"
     ]
    }
   ],
   "source": [
    "print(classification_report(train_test.Y, train_test.ATK))"
   ]
  },
  {
   "cell_type": "code",
   "execution_count": 92,
   "id": "f6bfc859-9172-4ed0-8223-2789dfb76038",
   "metadata": {},
   "outputs": [
    {
     "data": {
      "text/plain": [
       "in     412\n",
       "out    185\n",
       "Name: ATK, dtype: int64"
      ]
     },
     "execution_count": 92,
     "metadata": {},
     "output_type": "execute_result"
    }
   ],
   "source": [
    "train_test[train_test.Y == 'out'].ATK.value_counts()"
   ]
  },
  {
   "cell_type": "code",
   "execution_count": 93,
   "id": "2ed70da0-2903-4908-9432-54e2feacf00a",
   "metadata": {},
   "outputs": [
    {
     "name": "stderr",
     "output_type": "stream",
     "text": [
      "DEBUG:matplotlib.colorbar:locator: <matplotlib.ticker.AutoLocator object at 0x7f28cfef8b50>\n"
     ]
    },
    {
     "data": {
      "text/plain": [
       "<sklearn.metrics._plot.confusion_matrix.ConfusionMatrixDisplay at 0x7f28cf792c70>"
      ]
     },
     "execution_count": 93,
     "metadata": {},
     "output_type": "execute_result"
    },
    {
     "data": {
      "image/png": "[encoded data removed]",
      "text/plain": [
       "<Figure size 432x288 with 2 Axes>"
      ]
     },
     "metadata": {
      "needs_background": "light"
     },
     "output_type": "display_data"
    }
   ],
   "source": [
    "ConfusionMatrixDisplay.from_predictions(train_test.Y, train_test.ATK, cmap='inferno')"
   ]
  },
  {
   "cell_type": "code",
   "execution_count": null,
   "id": "aeba75ff-21f2-49e8-9989-16d2d5431ead",
   "metadata": {},
   "outputs": [],
   "source": []
  }
 ],
 "metadata": {
  "kernelspec": {
   "display_name": "Python 3 (ipykernel)",
   "language": "python",
   "name": "python3"
  },
  "language_info": {
   "codemirror_mode": {
    "name": "ipython",
    "version": 3
   },
   "file_extension": ".py",
   "mimetype": "text/x-python",
   "name": "python",
   "nbconvert_exporter": "python",
   "pygments_lexer": "ipython3",
   "version": "3.9.9"
  }
 },
 "nbformat": 4,
 "nbformat_minor": 5
}
